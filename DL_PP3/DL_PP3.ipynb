{
 "cells": [
  {
   "cell_type": "markdown",
   "metadata": {},
   "source": [
    "# Deep Learning\n",
    "## Practice Projects\n",
    "# P3: Parts of Speech\n",
    "## Step 0. Style and Libraries"
   ]
  },
  {
   "cell_type": "code",
   "execution_count": 1,
   "metadata": {},
   "outputs": [
    {
     "data": {
      "text/html": [
       "<style>\n",
       "@import url('https://fonts.googleapis.com/css?family=Orbitron|Roboto');\n",
       "body {background-color: aliceblue;} \n",
       "a {color: #4876ff; font-family: 'Roboto';} \n",
       "h1 {color: #348ABD; font-family: 'Orbitron'; text-shadow: 4px 4px 4px #ccc;} \n",
       "h2, h3 {color: slategray; font-family: 'Roboto'; text-shadow: 4px 4px 4px #ccc;}\n",
       "h4 {color: #348ABD; font-family: 'Orbitron';}\n",
       "span {text-shadow: 4px 4px 4px #ccc;}\n",
       "div.output_prompt, div.output_area pre {color: slategray;}\n",
       "div.input_prompt, div.output_subarea {color: #4876ff;}      \n",
       "div.output_stderr pre {background-color: aliceblue;}  \n",
       "div.output_stderr {background-color: slategrey;}                        \n",
       "</style>\n",
       "<script>\n",
       "code_show = true; \n",
       "function code_display() {\n",
       "    if (code_show) {\n",
       "        $('div.input').each(function(id) {\n",
       "            if (id == 0 || $(this).html().indexOf('hide_code') > -1) {$(this).hide();}\n",
       "        });\n",
       "        $('div.output_prompt').css('opacity', 0);\n",
       "    } else {\n",
       "        $('div.input').each(function(id) {$(this).show();});\n",
       "        $('div.output_prompt').css('opacity', 1);\n",
       "    };\n",
       "    code_show = !code_show;\n",
       "} \n",
       "$(document).ready(code_display);\n",
       "</script>\n",
       "<form action=\"javascript: code_display()\">\n",
       "<input style=\"color: #348ABD; background: aliceblue; opacity: 0.8;\" \\ \n",
       "type=\"submit\" value=\"Click to display or hide code cells\">\n",
       "</form>                  "
      ],
      "text/plain": [
       "<IPython.core.display.HTML object>"
      ]
     },
     "metadata": {},
     "output_type": "display_data"
    }
   ],
   "source": [
    "%%html\n",
    "<style>\n",
    "@import url('https://fonts.googleapis.com/css?family=Orbitron|Roboto');\n",
    "body {background-color: aliceblue;} \n",
    "a {color: #4876ff; font-family: 'Roboto';} \n",
    "h1 {color: #348ABD; font-family: 'Orbitron'; text-shadow: 4px 4px 4px #ccc;} \n",
    "h2, h3 {color: slategray; font-family: 'Roboto'; text-shadow: 4px 4px 4px #ccc;}\n",
    "h4 {color: #348ABD; font-family: 'Orbitron';}\n",
    "span {text-shadow: 4px 4px 4px #ccc;}\n",
    "div.output_prompt, div.output_area pre {color: slategray;}\n",
    "div.input_prompt, div.output_subarea {color: #4876ff;}      \n",
    "div.output_stderr pre {background-color: aliceblue;}  \n",
    "div.output_stderr {background-color: slategrey;}                        \n",
    "</style>\n",
    "<script>\n",
    "code_show = true; \n",
    "function code_display() {\n",
    "    if (code_show) {\n",
    "        $('div.input').each(function(id) {\n",
    "            if (id == 0 || $(this).html().indexOf('hide_code') > -1) {$(this).hide();}\n",
    "        });\n",
    "        $('div.output_prompt').css('opacity', 0);\n",
    "    } else {\n",
    "        $('div.input').each(function(id) {$(this).show();});\n",
    "        $('div.output_prompt').css('opacity', 1);\n",
    "    };\n",
    "    code_show = !code_show;\n",
    "} \n",
    "$(document).ready(code_display);\n",
    "</script>\n",
    "<form action=\"javascript: code_display()\">\n",
    "<input style=\"color: #348ABD; background: aliceblue; opacity: 0.8;\" \\ \n",
    "type=\"submit\" value=\"Click to display or hide code cells\">\n",
    "</form>                  \n"
   ]
  },
  {
   "cell_type": "code",
   "execution_count": 14,
   "metadata": {
    "collapsed": true
   },
   "outputs": [],
   "source": [
    "hide_code = ''\n",
    "import numpy \n",
    "import pandas\n",
    "\n",
    "from sklearn.feature_extraction.text import CountVectorizer\n",
    "\n",
    "import pylab as plt\n",
    "from matplotlib import cm\n",
    "import seaborn\n",
    "%matplotlib inline"
   ]
  },
  {
   "cell_type": "markdown",
   "metadata": {},
   "source": [
    "## Step 1. Load and Explore the Data"
   ]
  },
  {
   "cell_type": "code",
   "execution_count": 46,
   "metadata": {},
   "outputs": [
    {
     "data": {
      "text/html": [
       "<div>\n",
       "<style>\n",
       "    .dataframe thead tr:only-child th {\n",
       "        text-align: right;\n",
       "    }\n",
       "\n",
       "    .dataframe thead th {\n",
       "        text-align: left;\n",
       "    }\n",
       "\n",
       "    .dataframe tbody tr th {\n",
       "        vertical-align: top;\n",
       "    }\n",
       "</style>\n",
       "<table border=\"1\" class=\"dataframe\">\n",
       "  <thead>\n",
       "    <tr style=\"text-align: right;\">\n",
       "      <th></th>\n",
       "      <th>sentences</th>\n",
       "      <th>parts_of_speech</th>\n",
       "    </tr>\n",
       "  </thead>\n",
       "  <tbody>\n",
       "    <tr>\n",
       "      <th>0</th>\n",
       "      <td>археологи находят в славянских землях много кл...</td>\n",
       "      <td>существительное глагол предлог прилагательное ...</td>\n",
       "    </tr>\n",
       "    <tr>\n",
       "      <th>1</th>\n",
       "      <td>но главной составляющей магмы является окись к...</td>\n",
       "      <td>союз прилагательное существительное существите...</td>\n",
       "    </tr>\n",
       "    <tr>\n",
       "      <th>2</th>\n",
       "      <td>понаблюдайте за своими товарищами во время дис...</td>\n",
       "      <td>глагол предлог местоимение существительное пре...</td>\n",
       "    </tr>\n",
       "    <tr>\n",
       "      <th>3</th>\n",
       "      <td>в тех комнатах мебель закрыта была чехлами</td>\n",
       "      <td>предлог местоимение существительное существите...</td>\n",
       "    </tr>\n",
       "    <tr>\n",
       "      <th>4</th>\n",
       "      <td>в определённых случаях существование такой зав...</td>\n",
       "      <td>предлог прилагательное существительное существ...</td>\n",
       "    </tr>\n",
       "  </tbody>\n",
       "</table>\n",
       "</div>"
      ],
      "text/plain": [
       "                                           sentences  \\\n",
       "0  археологи находят в славянских землях много кл...   \n",
       "1  но главной составляющей магмы является окись к...   \n",
       "2  понаблюдайте за своими товарищами во время дис...   \n",
       "3         в тех комнатах мебель закрыта была чехлами   \n",
       "4  в определённых случаях существование такой зав...   \n",
       "\n",
       "                                     parts_of_speech  \n",
       "0  существительное глагол предлог прилагательное ...  \n",
       "1  союз прилагательное существительное существите...  \n",
       "2  глагол предлог местоимение существительное пре...  \n",
       "3  предлог местоимение существительное существите...  \n",
       "4  предлог прилагательное существительное существ...  "
      ]
     },
     "execution_count": 46,
     "metadata": {},
     "output_type": "execute_result"
    }
   ],
   "source": [
    "hide_code\n",
    "# Read the data\n",
    "data = pandas.read_csv('data/parts_of_speech.csv')\n",
    "data.head()"
   ]
  },
  {
   "cell_type": "code",
   "execution_count": 47,
   "metadata": {},
   "outputs": [
    {
     "data": {
      "text/plain": [
       "array(['археологи', 'находят', 'в', 'славянских', 'землях', 'много',\n",
       "       'кладов'], dtype='<U14')"
      ]
     },
     "execution_count": 47,
     "metadata": {},
     "output_type": "execute_result"
    }
   ],
   "source": [
    "hide_code\n",
    "# Create an array from words\n",
    "words = numpy.array([sentence.split() for sentence in data['sentences']])\n",
    "words = words.reshape(words.shape[0]*words.shape[1])\n",
    "words[:7]"
   ]
  },
  {
   "cell_type": "code",
   "execution_count": 48,
   "metadata": {},
   "outputs": [
    {
     "data": {
      "text/plain": [
       "array(['существительное', 'глагол', 'предлог', 'прилагательное',\n",
       "       'существительное', 'числительное', 'существительное'], dtype='<U15')"
      ]
     },
     "execution_count": 48,
     "metadata": {},
     "output_type": "execute_result"
    }
   ],
   "source": [
    "hide_code\n",
    "# Create an array from parts of speech\n",
    "parts_of_speech = numpy.array([sentence.split() for sentence in data['parts_of_speech']])\n",
    "parts_of_speech = parts_of_speech.reshape(parts_of_speech.shape[0]*parts_of_speech.shape[1])\n",
    "parts_of_speech[:7]"
   ]
  },
  {
   "cell_type": "code",
   "execution_count": 49,
   "metadata": {},
   "outputs": [
    {
     "name": "stdout",
     "output_type": "stream",
     "text": [
      "Dataset Statistics\n",
      "Number of sentences: 96\n",
      "Number of words: 672\n",
      "Parts of speech: {'наречие', 'союз', 'глагол', 'частица', 'существительное', 'предлог', 'причастие', 'числительное', 'прилагательное', 'деепричастие', 'местоимение'}\n"
     ]
    }
   ],
   "source": [
    "hide_code\n",
    "# Display statistics\n",
    "print('Dataset Statistics')\n",
    "print('Number of sentences: {}'.format(len(data['sentences'])))\n",
    "print('Number of words: {}'.format(len(words)))\n",
    "print('Parts of speech:', set(parts_of_speech))"
   ]
  },
  {
   "cell_type": "code",
   "execution_count": 50,
   "metadata": {},
   "outputs": [
    {
     "data": {
      "image/png": "[encoded data removed]",
      "text/plain": [
       "<matplotlib.figure.Figure at 0x10b11dcc0>"
      ]
     },
     "metadata": {},
     "output_type": "display_data"
    }
   ],
   "source": [
    "hide_code\n",
    "# Create the dataframe\n",
    "df = pandas.DataFrame({'parts_of_speech': parts_of_speech,\n",
    "                       'words': words})\n",
    "# Plot distribution\n",
    "plt.style.use('seaborn-whitegrid')\n",
    "plt.figure(figsize=(18,6))\n",
    "seaborn.countplot(x=\"parts_of_speech\", data=df,\n",
    "                  facecolor=(0, 0, 0, 0), linewidth=7,\n",
    "                  edgecolor=seaborn.color_palette(\"Set1\"))\n",
    "plt.title('Parts of Speech. Distribution', fontsize=20);"
   ]
  },
  {
   "cell_type": "markdown",
   "metadata": {},
   "source": [
    "## Step 2. Preprocess"
   ]
  },
  {
   "cell_type": "code",
   "execution_count": 51,
   "metadata": {
    "collapsed": true
   },
   "outputs": [],
   "source": [
    "hide_code\n",
    "# Create vocabulary\n",
    "def create_lookup_tables(text):\n",
    "    vocabulary = set(text)\n",
    "    int_to_vocab = dict(enumerate(vocabulary))\n",
    "    vocab_to_int = dict((v,k) for k,v in int_to_vocab.items())\n",
    "    \n",
    "    return vocab_to_int, int_to_vocab"
   ]
  },
  {
   "cell_type": "code",
   "execution_count": 52,
   "metadata": {},
   "outputs": [
    {
     "name": "stdout",
     "output_type": "stream",
     "text": [
      "[330, 414, 480, 85, 198, 50, 127]\n",
      "['археологи' 'находят' 'в' 'славянских' 'землях' 'много' 'кладов']\n"
     ]
    }
   ],
   "source": [
    "hide_code\n",
    "vocab_to_int, int_to_vocab = create_lookup_tables(words)\n",
    "int_text = [vocab_to_int[word] for word in words]\n",
    "print(int_text[:7])\n",
    "print(words[:7])"
   ]
  },
  {
   "cell_type": "code",
   "execution_count": 53,
   "metadata": {},
   "outputs": [
    {
     "name": "stdout",
     "output_type": "stream",
     "text": [
      "[4, 2, 5, 8, 4, 7, 4]\n",
      "['существительное' 'глагол' 'предлог' 'прилагательное' 'существительное'\n",
      " 'числительное' 'существительное']\n"
     ]
    }
   ],
   "source": [
    "hide_code\n",
    "part_to_int, int_to_part = create_lookup_tables(parts_of_speech)\n",
    "int_parts = [part_to_int[part] for part in parts_of_speech]\n",
    "print(int_parts[:7])\n",
    "print(parts_of_speech[:7])"
   ]
  },
  {
   "cell_type": "code",
   "execution_count": 54,
   "metadata": {},
   "outputs": [
    {
     "data": {
      "text/plain": [
       "(672,)"
      ]
     },
     "execution_count": 54,
     "metadata": {},
     "output_type": "execute_result"
    }
   ],
   "source": [
    "hide_code\n",
    "place_in_sentence = numpy.tile(numpy.array(range(7)), len(data['sentences']))\n",
    "place_in_sentence.shape"
   ]
  },
  {
   "cell_type": "code",
   "execution_count": 55,
   "metadata": {},
   "outputs": [
    {
     "data": {
      "text/html": [
       "<div>\n",
       "<style>\n",
       "    .dataframe thead tr:only-child th {\n",
       "        text-align: right;\n",
       "    }\n",
       "\n",
       "    .dataframe thead th {\n",
       "        text-align: left;\n",
       "    }\n",
       "\n",
       "    .dataframe tbody tr th {\n",
       "        vertical-align: top;\n",
       "    }\n",
       "</style>\n",
       "<table border=\"1\" class=\"dataframe\">\n",
       "  <thead>\n",
       "    <tr style=\"text-align: right;\">\n",
       "      <th></th>\n",
       "      <th>parts_of_speech</th>\n",
       "      <th>words</th>\n",
       "      <th>word_labels</th>\n",
       "      <th>part_labels</th>\n",
       "      <th>place_in_sentence</th>\n",
       "    </tr>\n",
       "  </thead>\n",
       "  <tbody>\n",
       "    <tr>\n",
       "      <th>0</th>\n",
       "      <td>существительное</td>\n",
       "      <td>археологи</td>\n",
       "      <td>330</td>\n",
       "      <td>4</td>\n",
       "      <td>0</td>\n",
       "    </tr>\n",
       "    <tr>\n",
       "      <th>1</th>\n",
       "      <td>глагол</td>\n",
       "      <td>находят</td>\n",
       "      <td>414</td>\n",
       "      <td>2</td>\n",
       "      <td>1</td>\n",
       "    </tr>\n",
       "    <tr>\n",
       "      <th>2</th>\n",
       "      <td>предлог</td>\n",
       "      <td>в</td>\n",
       "      <td>480</td>\n",
       "      <td>5</td>\n",
       "      <td>2</td>\n",
       "    </tr>\n",
       "    <tr>\n",
       "      <th>3</th>\n",
       "      <td>прилагательное</td>\n",
       "      <td>славянских</td>\n",
       "      <td>85</td>\n",
       "      <td>8</td>\n",
       "      <td>3</td>\n",
       "    </tr>\n",
       "    <tr>\n",
       "      <th>4</th>\n",
       "      <td>существительное</td>\n",
       "      <td>землях</td>\n",
       "      <td>198</td>\n",
       "      <td>4</td>\n",
       "      <td>4</td>\n",
       "    </tr>\n",
       "  </tbody>\n",
       "</table>\n",
       "</div>"
      ],
      "text/plain": [
       "   parts_of_speech       words  word_labels  part_labels  place_in_sentence\n",
       "0  существительное   археологи          330            4                  0\n",
       "1           глагол     находят          414            2                  1\n",
       "2          предлог           в          480            5                  2\n",
       "3   прилагательное  славянских           85            8                  3\n",
       "4  существительное      землях          198            4                  4"
      ]
     },
     "execution_count": 55,
     "metadata": {},
     "output_type": "execute_result"
    }
   ],
   "source": [
    "hide_code\n",
    "df['word_labels'] = int_text\n",
    "df['part_labels'] = int_parts\n",
    "df['place_in_sentence'] = place_in_sentence\n",
    "df.head()"
   ]
  },
  {
   "cell_type": "code",
   "execution_count": 56,
   "metadata": {},
   "outputs": [
    {
     "data": {
      "image/png": "[encoded data removed]",
      "text/plain": [
       "<matplotlib.figure.Figure at 0x10a352400>"
      ]
     },
     "metadata": {},
     "output_type": "display_data"
    }
   ],
   "source": [
    "hide_code\n",
    "# Plot distribution\n",
    "plt.style.use('seaborn-whitegrid')\n",
    "plt.figure(figsize=(18,6))\n",
    "seaborn.countplot(x=\"parts_of_speech\", hue='place_in_sentence',\n",
    "                  data=df, palette='Set1')\n",
    "plt.legend(loc=1, title=\"Places in Sentences\")\n",
    "plt.title('Parts of Speech. Distribution by Places in Sentences', fontsize=20);"
   ]
  },
  {
   "cell_type": "code",
   "execution_count": 57,
   "metadata": {},
   "outputs": [],
   "source": [
    "hide_code\n",
    "word_lengths = numpy.array([len(i) for i in words])\n",
    "df['word_lengths'] = word_lengths"
   ]
  },
  {
   "cell_type": "code",
   "execution_count": 58,
   "metadata": {},
   "outputs": [
    {
     "data": {
      "image/png": "[encoded data removed]",
      "text/plain": [
       "<matplotlib.figure.Figure at 0x10b62b470>"
      ]
     },
     "metadata": {},
     "output_type": "display_data"
    }
   ],
   "source": [
    "hide_code\n",
    "# Plot distribution\n",
    "plt.style.use('seaborn-whitegrid')\n",
    "plt.figure(figsize=(18,6))\n",
    "seaborn.countplot(x=\"parts_of_speech\", hue='word_lengths',\n",
    "                  data=df, palette='Set1')\n",
    "plt.legend(loc=1, title=\"Word Lengths\")\n",
    "plt.title('Parts of Speech. Distribution by Word Lengths', fontsize=20);"
   ]
  },
  {
   "cell_type": "code",
   "execution_count": 59,
   "metadata": {},
   "outputs": [],
   "source": [
    "hide_code\n",
    "# Word occurrences in sentences\n",
    "vectorizer = CountVectorizer(analyzer = \"word\", tokenizer = None, \n",
    "                             preprocessor = None, stop_words = None,\n",
    "                             min_df = 0, max_features = 700) \n",
    "\n",
    "data_features = vectorizer.fit_transform([' '.join(words)])\n",
    "vocabulary = vectorizer.get_feature_names()\n",
    "count_word_occurrences = numpy.sum(data_features.toarray(), axis=0)"
   ]
  },
  {
   "cell_type": "code",
   "execution_count": 60,
   "metadata": {},
   "outputs": [
    {
     "name": "stdout",
     "output_type": "stream",
     "text": [
      "(1, 534)\n",
      "['автобус', 'аисты', 'активно', 'актёры', 'амфору', 'археологи', 'асфальта', 'асфальте', 'бабушка', 'багровея', 'без', 'безнадёжность', 'безопасность', 'белые', 'белье', 'бесконечные', 'бледным', 'блеснул', 'бойцам', 'большое', 'большой', 'борт', 'будет', 'была', 'быстро', 'важно', 'варил', 'вашему', 'вдохновение', 'верно', 'вернулся', 'весело', 'ветвей', 'ветер', 'ветровые', 'вечерами', 'взял', 'видим', 'видимого', 'вниз', 'внутренний', 'внутрь', 'во', 'вовремя', 'воды', 'воздуха', 'возле', 'возможно', 'войском', 'восемь', 'воспоминания', 'восприятию', 'восторженной', 'время', 'все', 'всегда', 'всей', 'вскакивал', 'встречи', 'выбегал', 'выбросили', 'выглядывали', 'выражается', 'вьётся', 'газового', 'главной', 'глаз', 'глядело', 'головы', 'голос', 'гомонящая', 'горизонту', 'город', 'городской', 'гром', 'громадный', 'громко', 'груды', 'даёт', 'дверей', 'дворе', 'двухлетнего', 'дедушка', 'день', 'детстве', 'дискуссии', 'для', 'дней', 'дни', 'до', 'долей', 'домов', 'домой', 'доноситься', 'древних', 'дрожали', 'душевный', 'души', 'дышит', 'его']\n",
      "[1 1 1 1 1 1 1 1 1 1 1 1 1 1 1 1 1 1 1 1 1 1 1 1 1 1 1 1 1 1 1 1 1 1 1 1 1\n",
      " 1 1 1 1 1 2 1 1 1 1 1 1 1 1 1 1 1 3 2 1 1 1 1 1 1 1 1 1 1 1 1 1 1 1 1 1 1\n",
      " 1 1 1 1 1 1 1 1 1 1 1 1 1 1 1 2 1 1 1 1 1 1 1 2 1 5]\n"
     ]
    }
   ],
   "source": [
    "hide_code\n",
    "print(data_features.shape)\n",
    "print(vocabulary[:100])\n",
    "print(count_word_occurrences[:100])"
   ]
  },
  {
   "cell_type": "code",
   "execution_count": null,
   "metadata": {},
   "outputs": [],
   "source": []
  },
  {
   "cell_type": "code",
   "execution_count": null,
   "metadata": {
    "collapsed": true
   },
   "outputs": [],
   "source": []
  }
 ],
 "metadata": {
  "kernelspec": {
   "display_name": "Python 3",
   "language": "python",
   "name": "python3"
  },
  "language_info": {
   "codemirror_mode": {
    "name": "ipython",
    "version": 3
   },
   "file_extension": ".py",
   "mimetype": "text/x-python",
   "name": "python",
   "nbconvert_exporter": "python",
   "pygments_lexer": "ipython3",
   "version": "3.6.1"
  }
 },
 "nbformat": 4,
 "nbformat_minor": 2
}
