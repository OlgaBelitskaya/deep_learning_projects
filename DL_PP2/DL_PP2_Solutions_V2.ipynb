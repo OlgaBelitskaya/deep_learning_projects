{
 "cells": [
  {
   "cell_type": "markdown",
   "metadata": {},
   "source": [
    "# Deep Learning\n",
    "## Practice Projects\n",
    "# P2: Multi-Label Classification\n",
    "\n",
    "## Step 0. Style and Libraries\n",
    "Let's choose a style of the Jupyter notebook and import the software libraries. The command hide_code will hide the code cells."
   ]
  },
  {
   "cell_type": "code",
   "execution_count": 1,
   "metadata": {},
   "outputs": [
    {
     "data": {
      "text/html": [
       "<style>\n",
       "@import url('https://fonts.googleapis.com/css?family=Orbitron|Roboto');\n",
       "body {background-color: aliceblue;} \n",
       "a {color: #4876ff; font-family: 'Roboto';} \n",
       "h1 {color: #348ABD; font-family: 'Orbitron'; text-shadow: 4px 4px 4px #ccc;} \n",
       "h2, h3 {color: slategray; font-family: 'Roboto'; text-shadow: 4px 4px 4px #ccc;}\n",
       "h4 {color: #348ABD; font-family: 'Orbitron';}\n",
       "span {text-shadow: 4px 4px 4px #ccc;}\n",
       "div.output_prompt, div.output_area pre {color: slategray;}\n",
       "div.input_prompt, div.output_subarea {color: #4876ff;}      \n",
       "div.output_stderr pre {background-color: aliceblue;}  \n",
       "div.output_stderr {background-color: slategrey;}                        \n",
       "</style>\n",
       "<script>\n",
       "code_show = true; \n",
       "function code_display() {\n",
       "    if (code_show) {\n",
       "        $('div.input').each(function(id) {\n",
       "            if (id == 0 || $(this).html().indexOf('hide_code') > -1) {$(this).hide();}\n",
       "        });\n",
       "        $('div.output_prompt').css('opacity', 0);\n",
       "    } else {\n",
       "        $('div.input').each(function(id) {$(this).show();});\n",
       "        $('div.output_prompt').css('opacity', 1);\n",
       "    };\n",
       "    code_show = !code_show;\n",
       "} \n",
       "$(document).ready(code_display);\n",
       "</script>\n",
       "<form action=\"javascript: code_display()\">\n",
       "<input style=\"color: #348ABD; background: aliceblue; opacity: 0.8;\" \\ \n",
       "type=\"submit\" value=\"Click to display or hide code cells\">\n",
       "</form>                  "
      ],
      "text/plain": [
       "<IPython.core.display.HTML object>"
      ]
     },
     "metadata": {},
     "output_type": "display_data"
    }
   ],
   "source": [
    "%%html\n",
    "<style>\n",
    "@import url('https://fonts.googleapis.com/css?family=Orbitron|Roboto');\n",
    "body {background-color: aliceblue;} \n",
    "a {color: #4876ff; font-family: 'Roboto';} \n",
    "h1 {color: #348ABD; font-family: 'Orbitron'; text-shadow: 4px 4px 4px #ccc;} \n",
    "h2, h3 {color: slategray; font-family: 'Roboto'; text-shadow: 4px 4px 4px #ccc;}\n",
    "h4 {color: #348ABD; font-family: 'Orbitron';}\n",
    "span {text-shadow: 4px 4px 4px #ccc;}\n",
    "div.output_prompt, div.output_area pre {color: slategray;}\n",
    "div.input_prompt, div.output_subarea {color: #4876ff;}      \n",
    "div.output_stderr pre {background-color: aliceblue;}  \n",
    "div.output_stderr {background-color: slategrey;}                        \n",
    "</style>\n",
    "<script>\n",
    "code_show = true; \n",
    "function code_display() {\n",
    "    if (code_show) {\n",
    "        $('div.input').each(function(id) {\n",
    "            if (id == 0 || $(this).html().indexOf('hide_code') > -1) {$(this).hide();}\n",
    "        });\n",
    "        $('div.output_prompt').css('opacity', 0);\n",
    "    } else {\n",
    "        $('div.input').each(function(id) {$(this).show();});\n",
    "        $('div.output_prompt').css('opacity', 1);\n",
    "    };\n",
    "    code_show = !code_show;\n",
    "} \n",
    "$(document).ready(code_display);\n",
    "</script>\n",
    "<form action=\"javascript: code_display()\">\n",
    "<input style=\"color: #348ABD; background: aliceblue; opacity: 0.8;\" \\ \n",
    "type=\"submit\" value=\"Click to display or hide code cells\">\n",
    "</form>                  "
   ]
  },
  {
   "cell_type": "code",
   "execution_count": 2,
   "metadata": {},
   "outputs": [
    {
     "name": "stderr",
     "output_type": "stream",
     "text": [
      "Using TensorFlow backend.\n"
     ]
    }
   ],
   "source": [
    "hide_code = ''\n",
    "import numpy as np \n",
    "import pandas as pd\n",
    "import tensorflow as tf\n",
    "\n",
    "from PIL import ImageFile\n",
    "from tqdm import tqdm\n",
    "import h5py\n",
    "import cv2\n",
    "\n",
    "import matplotlib.pylab as plt\n",
    "from matplotlib import cm\n",
    "%matplotlib inline\n",
    "\n",
    "from sklearn.model_selection import train_test_split\n",
    "from sklearn.ensemble import GradientBoostingClassifier, RandomForestClassifier\n",
    "\n",
    "from keras.utils import to_categorical\n",
    "from keras.preprocessing import image as keras_image\n",
    "from keras.callbacks import ModelCheckpoint\n",
    "from keras.preprocessing.image import ImageDataGenerator\n",
    "\n",
    "from keras.models import Sequential, load_model, Model\n",
    "from keras.layers import Input, BatchNormalization\n",
    "from keras.layers import Dense, LSTM, GlobalAveragePooling1D, GlobalAveragePooling2D\n",
    "from keras.layers import Activation, Flatten, Dropout, BatchNormalization\n",
    "from keras.layers import Conv2D, MaxPooling2D, GlobalMaxPooling2D\n",
    "\n",
    "from keras.applications.inception_v3 import InceptionV3, preprocess_input\n",
    "import scipy\n",
    "from scipy import misc"
   ]
  },
  {
   "cell_type": "code",
   "execution_count": 3,
   "metadata": {
    "collapsed": true
   },
   "outputs": [],
   "source": [
    "hide_code\n",
    "# Plot the Neural network fitting history\n",
    "def history_plot(fit_history, n):\n",
    "    plt.figure(figsize=(18, 12))\n",
    "    \n",
    "    plt.subplot(211)\n",
    "    plt.plot(fit_history.history['loss'][n:], color='slategray', label = 'train')\n",
    "    plt.plot(fit_history.history['val_loss'][n:], color='#4876ff', label = 'valid')\n",
    "    plt.xlabel(\"Epochs\")\n",
    "    plt.ylabel(\"Loss\")\n",
    "    plt.legend()\n",
    "    plt.title('Loss Function');  \n",
    "    \n",
    "    plt.subplot(212)\n",
    "    plt.plot(fit_history.history['acc'][n:], color='slategray', label = 'train')\n",
    "    plt.plot(fit_history.history['val_acc'][n:], color='#4876ff', label = 'valid')\n",
    "    plt.xlabel(\"Epochs\")\n",
    "    plt.ylabel(\"Accuracy\")    \n",
    "    plt.legend()\n",
    "    plt.title('Accuracy');"
   ]
  },
  {
   "cell_type": "markdown",
   "metadata": {},
   "source": [
    "# Step 1. Load and Explore the Data\n",
    "For this project, I have created the dataset of 5940 (180x33) color images (32x32x3) with 33 handwritten letters.\n",
    "Run the following cell to download the dataset."
   ]
  },
  {
   "cell_type": "code",
   "execution_count": 8,
   "metadata": {},
   "outputs": [
    {
     "name": "stderr",
     "output_type": "stream",
     "text": [
      "100%|██████████| 2340/2340 [00:34<00:00, 67.68it/s]\n"
     ]
    }
   ],
   "source": [
    "hide_code\n",
    "# Function for processing an image\n",
    "def image_to_tensor(img_path):\n",
    "    img = keras_image.load_img(\"data2/\" + img_path, target_size=(32, 32))\n",
    "    x = keras_image.img_to_array(img)\n",
    "    return np.expand_dims(x, axis=0)\n",
    "# Function for creating the data tensor\n",
    "def data_to_tensor(img_paths):\n",
    "    list_of_tensors = [image_to_tensor(img_path) for img_path in tqdm(img_paths)]\n",
    "    return np.vstack(list_of_tensors)\n",
    "\n",
    "ImageFile.LOAD_TRUNCATED_IMAGES = True \n",
    "# Load the data\n",
    "data = pd.read_csv(\"data2/letters2.csv\")\n",
    "files = data['file'][:2340]\n",
    "letters = data['letter'][:2340]\n",
    "backgrounds = data['background'][:2340]\n",
    "targets = data['label'][:2340].as_matrix()\n",
    "tensors = data_to_tensor(files);"
   ]
  },
  {
   "cell_type": "code",
   "execution_count": 9,
   "metadata": {},
   "outputs": [
    {
     "name": "stdout",
     "output_type": "stream",
     "text": [
      "Tensor shape: (2340, 32, 32, 3)\n",
      "Target shape (2340,)\n"
     ]
    }
   ],
   "source": [
    "hide_code\n",
    "# Print the shape \n",
    "print ('Tensor shape:', tensors.shape)\n",
    "print ('Target shape', targets.shape)"
   ]
  },
  {
   "cell_type": "code",
   "execution_count": 10,
   "metadata": {},
   "outputs": [
    {
     "data": {
      "image/png": "[encoded data removed]",
      "text/plain": [
       "<matplotlib.figure.Figure at 0x118eef908>"
      ]
     },
     "metadata": {},
     "output_type": "display_data"
    }
   ],
   "source": [
    "hide_code\n",
    "# Read from files and display images using OpenCV\n",
    "def display_images(img_path, ax):\n",
    "    img = cv2.imread(\"data2/\" + img_path)\n",
    "    ax.imshow(cv2.cvtColor(img, cv2.COLOR_BGR2RGB))\n",
    "    \n",
    "fig = plt.figure(figsize=(18, 6))\n",
    "for i in range(12):\n",
    "    ax = fig.add_subplot(2, 6, i + 1, xticks=[], yticks=[], title=letters[i*180])\n",
    "    display_images(files[i*180], ax)"
   ]
  },
  {
   "cell_type": "markdown",
   "metadata": {},
   "source": [
    "## Step 2. Save and Load the Data¶\n",
    "The data tensors can be saved in the appropriate format of files .h5."
   ]
  },
  {
   "cell_type": "code",
   "execution_count": 11,
   "metadata": {
    "collapsed": true
   },
   "outputs": [],
   "source": [
    "hide_code\n",
    "# Create the tensor file\n",
    "with h5py.File('LetterColorImages2.h5', 'w') as f:\n",
    "    f.create_dataset('images', data = tensors)\n",
    "    f.create_dataset('labels', data = targets)\n",
    "    f.create_dataset('backgrounds', data = backgrounds)\n",
    "    f.close()"
   ]
  },
  {
   "cell_type": "code",
   "execution_count": 12,
   "metadata": {},
   "outputs": [
    {
     "data": {
      "text/plain": [
       "['backgrounds', 'images', 'labels']"
      ]
     },
     "execution_count": 12,
     "metadata": {},
     "output_type": "execute_result"
    }
   ],
   "source": [
    "hide_code\n",
    "# Read the h5 file\n",
    "f = h5py.File('LetterColorImages2.h5', 'r')\n",
    "\n",
    "# List all groups\n",
    "keys = list(f.keys())\n",
    "keys"
   ]
  },
  {
   "cell_type": "code",
   "execution_count": 13,
   "metadata": {},
   "outputs": [
    {
     "name": "stdout",
     "output_type": "stream",
     "text": [
      "Tensor shape: (2340, 32, 32, 3)\n",
      "Target shape (2340,)\n"
     ]
    }
   ],
   "source": [
    "hide_code\n",
    "# Create tensors and targets\n",
    "tensors = np.array(f[keys[1]])\n",
    "targets = np.array(f[keys[2]])\n",
    "print ('Tensor shape:', tensors.shape)\n",
    "print ('Target shape', targets.shape)"
   ]
  },
  {
   "cell_type": "markdown",
   "metadata": {},
   "source": [
    "## Step 3. Implement Preprocess Functions\n",
    "### Normalize and Gray Scale\n",
    "In the cell below, normalize the image tensors, and return them as a normalized Numpy array."
   ]
  },
  {
   "cell_type": "code",
   "execution_count": 14,
   "metadata": {
    "collapsed": true
   },
   "outputs": [],
   "source": [
    "hide_code\n",
    "# Normalize the tensors\n",
    "tensors = tensors.astype('float32')/255"
   ]
  },
  {
   "cell_type": "code",
   "execution_count": 15,
   "metadata": {},
   "outputs": [
    {
     "name": "stdout",
     "output_type": "stream",
     "text": [
      "Label:  е\n"
     ]
    },
    {
     "data": {
      "image/png": "[encoded data removed]",
      "text/plain": [
       "<matplotlib.figure.Figure at 0x11edbe0f0>"
      ]
     },
     "metadata": {},
     "output_type": "display_data"
    }
   ],
   "source": [
    "hide_code\n",
    "# Read and display a tensor using Matplotlib\n",
    "print('Label: ', letters[1000])\n",
    "plt.figure(figsize=(3,3))\n",
    "plt.imshow(tensors[1000]);"
   ]
  },
  {
   "cell_type": "markdown",
   "metadata": {},
   "source": [
    "Create tensors of grayscaled images and display their shape."
   ]
  },
  {
   "cell_type": "code",
   "execution_count": 16,
   "metadata": {},
   "outputs": [
    {
     "name": "stdout",
     "output_type": "stream",
     "text": [
      "Grayscaled Tensor shape: (2340, 32, 32)\n"
     ]
    }
   ],
   "source": [
    "hide_code\n",
    "# Grayscaled tensors\n",
    "gray_tensors = np.dot(tensors[...,:3], [0.299, 0.587, 0.114])\n",
    "print ('Grayscaled Tensor shape:', gray_tensors.shape)"
   ]
  },
  {
   "cell_type": "code",
   "execution_count": 17,
   "metadata": {},
   "outputs": [
    {
     "name": "stdout",
     "output_type": "stream",
     "text": [
      "Label:  е\n"
     ]
    },
    {
     "data": {
      "image/png": "[encoded data removed]",
      "text/plain": [
       "<matplotlib.figure.Figure at 0x11f74a0f0>"
      ]
     },
     "metadata": {},
     "output_type": "display_data"
    }
   ],
   "source": [
    "hide_code\n",
    "# Read and display a grayscaled tensor using Matplotlib\n",
    "print('Label: ', letters[1000])\n",
    "plt.figure(figsize=(3,3))\n",
    "plt.imshow(gray_tensors[1000], cmap=cm.bone);"
   ]
  },
  {
   "cell_type": "markdown",
   "metadata": {},
   "source": [
    "### One-hot encode\n",
    "Now we'll implement the one-hot encoding function to_categorical."
   ]
  },
  {
   "cell_type": "code",
   "execution_count": 18,
   "metadata": {},
   "outputs": [
    {
     "name": "stdout",
     "output_type": "stream",
     "text": [
      "{1, 2, 3, 4, 5, 6, 7, 8, 9, 10, 11, 12, 13}\n"
     ]
    }
   ],
   "source": [
    "hide_code\n",
    "# Print the target unique values\n",
    "print(set(targets))"
   ]
  },
  {
   "cell_type": "code",
   "execution_count": 19,
   "metadata": {},
   "outputs": [
    {
     "data": {
      "text/plain": [
       "(2340, 13)"
      ]
     },
     "execution_count": 19,
     "metadata": {},
     "output_type": "execute_result"
    }
   ],
   "source": [
    "hide_code\n",
    "# One-hot encode the targets, started from the zero label\n",
    "cat_targets = to_categorical(np.array(targets-1), 13)\n",
    "cat_targets.shape"
   ]
  },
  {
   "cell_type": "code",
   "execution_count": 20,
   "metadata": {},
   "outputs": [
    {
     "data": {
      "text/plain": [
       "(2340, 3)"
      ]
     },
     "execution_count": 20,
     "metadata": {},
     "output_type": "execute_result"
    }
   ],
   "source": [
    "hide_code\n",
    "# One-hot encode the background targets\n",
    "backgrounds = to_categorical(backgrounds)\n",
    "backgrounds.shape"
   ]
  },
  {
   "cell_type": "markdown",
   "metadata": {},
   "source": [
    "### Add background"
   ]
  },
  {
   "cell_type": "code",
   "execution_count": 21,
   "metadata": {},
   "outputs": [
    {
     "data": {
      "text/plain": [
       "(2340, 16)"
      ]
     },
     "execution_count": 21,
     "metadata": {},
     "output_type": "execute_result"
    }
   ],
   "source": [
    "hide_code\n",
    "# Create multi-label targets\n",
    "back_targets = np.concatenate((cat_targets, backgrounds), axis=1)\n",
    "back_targets.shape"
   ]
  },
  {
   "cell_type": "markdown",
   "metadata": {},
   "source": [
    "### Split\n",
    "#### Color Images\n",
    "Apply the function train_test_split and split the data into training and testing sets. Set up the size of the testing set - 20%."
   ]
  },
  {
   "cell_type": "code",
   "execution_count": 22,
   "metadata": {
    "collapsed": true
   },
   "outputs": [],
   "source": [
    "hide_code\n",
    "# Split the data\n",
    "x_train, x_test, y_train, y_test = train_test_split(tensors, cat_targets, \n",
    "                                                    test_size = 0.2, \n",
    "                                                    random_state = 1)"
   ]
  },
  {
   "cell_type": "code",
   "execution_count": 23,
   "metadata": {},
   "outputs": [
    {
     "name": "stdout",
     "output_type": "stream",
     "text": [
      "Training tensor's shape: (1872, 32, 32, 3)\n",
      "Training target's shape (1872, 13)\n",
      "Testing tensor's shape: (468, 32, 32, 3)\n",
      "Testing target's shape (468, 13)\n"
     ]
    }
   ],
   "source": [
    "hide_code\n",
    "# Print the shape\n",
    "print (\"Training tensor's shape:\", x_train.shape)\n",
    "print (\"Training target's shape\", y_train.shape)\n",
    "print (\"Testing tensor's shape:\", x_test.shape)\n",
    "print (\"Testing target's shape\", y_test.shape)"
   ]
  },
  {
   "cell_type": "markdown",
   "metadata": {},
   "source": [
    "#### Grayscaled Images"
   ]
  },
  {
   "cell_type": "code",
   "execution_count": 24,
   "metadata": {
    "collapsed": true
   },
   "outputs": [],
   "source": [
    "hide_code\n",
    "# Split the grayscaled data\n",
    "x_train2, x_test2, y_train2, y_test2 = train_test_split(gray_tensors, cat_targets, \n",
    "                                                        test_size = 0.2, \n",
    "                                                        random_state = 1)"
   ]
  },
  {
   "cell_type": "code",
   "execution_count": 25,
   "metadata": {
    "collapsed": true
   },
   "outputs": [],
   "source": [
    "hide_code\n",
    "# Reshape the grayscaled data\n",
    "x_train2, x_test2 = x_train2.reshape(-1, 32, 32, 1), x_test2.reshape(-1, 32, 32, 1)"
   ]
  },
  {
   "cell_type": "code",
   "execution_count": 26,
   "metadata": {},
   "outputs": [
    {
     "name": "stdout",
     "output_type": "stream",
     "text": [
      "Training grayscaled tensor's shape: (1872, 32, 32, 1)\n",
      "Training grayscaled target's shape (1872, 13)\n",
      "Testing grayscaled tensor's shape: (468, 32, 32, 1)\n",
      "Testing grayscaled target's shape (468, 13)\n"
     ]
    }
   ],
   "source": [
    "hide_code\n",
    "# Print the shape\n",
    "print (\"Training grayscaled tensor's shape:\", x_train2.shape)\n",
    "print (\"Training grayscaled target's shape\", y_train2.shape)\n",
    "print (\"Testing grayscaled tensor's shape:\", x_test2.shape)\n",
    "print (\"Testing grayscaled target's shape\", y_test2.shape)"
   ]
  },
  {
   "cell_type": "code",
   "execution_count": 27,
   "metadata": {},
   "outputs": [
    {
     "data": {
      "text/plain": [
       "((1872, 32, 32, 3), (468, 32, 32, 3))"
      ]
     },
     "execution_count": 27,
     "metadata": {},
     "output_type": "execute_result"
    }
   ],
   "source": [
    "hide_code\n",
    "# Convert images from grayscaled to RGB\n",
    "x_train2_tensor = tf.image.grayscale_to_rgb(x_train2, name=None)\n",
    "x_test2_tensor = tf.image.grayscale_to_rgb(x_test2, name=None)\n",
    "# Run tensorflow session\n",
    "sess = tf.Session()\n",
    "with sess.as_default():\n",
    "    x_train2_color = x_train2_tensor.eval()\n",
    "    x_test2_color = x_test2_tensor.eval()\n",
    "# Check the shape    \n",
    "x_train2_color.shape, x_test2_color.shape"
   ]
  },
  {
   "cell_type": "markdown",
   "metadata": {},
   "source": [
    "#### Multi-label targets, color images"
   ]
  },
  {
   "cell_type": "code",
   "execution_count": 28,
   "metadata": {
    "collapsed": true
   },
   "outputs": [],
   "source": [
    "hide_code\n",
    "# Split with multi-label targets\n",
    "x_train3, x_test3, y_train3, y_test3 = train_test_split(tensors, back_targets, \n",
    "                                                        test_size = 0.2, \n",
    "                                                        random_state = 1)"
   ]
  },
  {
   "cell_type": "code",
   "execution_count": 29,
   "metadata": {},
   "outputs": [
    {
     "name": "stdout",
     "output_type": "stream",
     "text": [
      "Training tensor's shape: (1872, 32, 32, 3)\n",
      "Training target's shape (1872, 16)\n",
      "Testing tensor's shape: (468, 32, 32, 3)\n",
      "Testing target's shape (468, 16)\n"
     ]
    }
   ],
   "source": [
    "hide_code\n",
    "# Print the shape\n",
    "print (\"Training tensor's shape:\", x_train3.shape)\n",
    "print (\"Training target's shape\", y_train3.shape)\n",
    "print (\"Testing tensor's shape:\", x_test3.shape)\n",
    "print (\"Testing target's shape\", y_test3.shape)"
   ]
  },
  {
   "cell_type": "code",
   "execution_count": 30,
   "metadata": {
    "collapsed": true
   },
   "outputs": [],
   "source": [
    "hide_code\n",
    "# Create a list of targets\n",
    "y_train3_list = [y_train3[:, :33], y_train3[:, 33:]]\n",
    "y_test3_list = [y_test3[:, :33], y_test3[:, 33:]]"
   ]
  },
  {
   "cell_type": "markdown",
   "metadata": {},
   "source": [
    "#### Multi-label targets, grayscaled images"
   ]
  },
  {
   "cell_type": "code",
   "execution_count": 31,
   "metadata": {
    "collapsed": true
   },
   "outputs": [],
   "source": [
    "hide_code\n",
    "# Split the grayscaled data\n",
    "x_train4, x_test4, y_train4, y_test4 = train_test_split(gray_tensors, back_targets, \n",
    "                                                        test_size = 0.2, \n",
    "                                                        random_state = 1)"
   ]
  },
  {
   "cell_type": "code",
   "execution_count": 32,
   "metadata": {
    "collapsed": true
   },
   "outputs": [],
   "source": [
    "hide_code\n",
    "# Reshape the grayscaled data\n",
    "x_train4, x_test4 = x_train4.reshape(-1, 32, 32, 1), x_test4.reshape(-1, 32, 32, 1)"
   ]
  },
  {
   "cell_type": "code",
   "execution_count": 33,
   "metadata": {},
   "outputs": [
    {
     "name": "stdout",
     "output_type": "stream",
     "text": [
      "Training grayscaled tensor's shape: (1872, 32, 32, 1)\n",
      "Training grayscaled target's shape (1872, 16)\n",
      "Testing grayscaled tensor's shape: (468, 32, 32, 1)\n",
      "Testing grayscaled target's shape (468, 16)\n"
     ]
    }
   ],
   "source": [
    "hide_code\n",
    "# Print the shape\n",
    "print (\"Training grayscaled tensor's shape:\", x_train4.shape)\n",
    "print (\"Training grayscaled target's shape\", y_train4.shape)\n",
    "print (\"Testing grayscaled tensor's shape:\", x_test4.shape)\n",
    "print (\"Testing grayscaled target's shape\", y_test4.shape)"
   ]
  },
  {
   "cell_type": "code",
   "execution_count": 34,
   "metadata": {
    "collapsed": true
   },
   "outputs": [],
   "source": [
    "hide_code\n",
    "# Create a list of targets\n",
    "y_train4_list = [y_train4[:, :33], y_train4[:, 33:]]\n",
    "y_test4_list = [y_test4[:, :33], y_test4[:, 33:]]"
   ]
  },
  {
   "cell_type": "markdown",
   "metadata": {},
   "source": [
    "## Step 4. Create a One-Label Classification Model\n",
    "### Color Images\n",
    "Define a model architecture and compile the model for color images."
   ]
  },
  {
   "cell_type": "code",
   "execution_count": 36,
   "metadata": {
    "collapsed": true
   },
   "outputs": [],
   "source": [
    "hide_code\n",
    "def model():\n",
    "    model = Sequential()\n",
    "    # TODO: Define a model architecture\n",
    "\n",
    "    model.add(Conv2D(32, (5, 5), padding='same', input_shape=x_train.shape[1:]))\n",
    "    model.add(Activation('relu'))    \n",
    "    model.add(MaxPooling2D(pool_size=(2, 2)))\n",
    "    model.add(Dropout(0.25))\n",
    "\n",
    "    model.add(Conv2D(128, (5, 5)))\n",
    "    model.add(Activation('relu'))    \n",
    "    model.add(MaxPooling2D(pool_size=(2, 2)))\n",
    "    model.add(Dropout(0.25))\n",
    "    \n",
    "    model.add(GlobalMaxPooling2D()) \n",
    "    \n",
    "    model.add(Dense(1024, activation='relu'))\n",
    "    model.add(Dropout(0.25)) \n",
    "    \n",
    "    model.add(Dense(128, activation='relu'))\n",
    "    model.add(Dropout(0.25))    \n",
    "\n",
    "    model.add(Dense(13))\n",
    "    model.add(Activation('softmax'))\n",
    "    \n",
    "    # TODO: Compile the model\n",
    "    model.compile(loss='categorical_crossentropy', optimizer='nadam', metrics=['accuracy'])\n",
    "    \n",
    "    return model\n",
    "\n",
    "model = model()"
   ]
  },
  {
   "cell_type": "code",
   "execution_count": 37,
   "metadata": {},
   "outputs": [
    {
     "name": "stdout",
     "output_type": "stream",
     "text": [
      "Train on 1872 samples, validate on 468 samples\n",
      "Epoch 1/100\n",
      "Epoch 00000: val_loss improved from inf to 2.54984, saving model to weights.best.model.hdf5\n",
      "14s - loss: 2.5544 - acc: 0.0999 - val_loss: 2.5498 - val_acc: 0.0769\n",
      "Epoch 2/100\n",
      "Epoch 00001: val_loss improved from 2.54984 to 2.53633, saving model to weights.best.model.hdf5\n",
      "10s - loss: 2.5465 - acc: 0.0946 - val_loss: 2.5363 - val_acc: 0.1047\n",
      "Epoch 3/100\n",
      "Epoch 00002: val_loss improved from 2.53633 to 2.53607, saving model to weights.best.model.hdf5\n",
      "10s - loss: 2.5137 - acc: 0.0978 - val_loss: 2.5361 - val_acc: 0.0620\n",
      "Epoch 4/100\n",
      "Epoch 00003: val_loss improved from 2.53607 to 2.39848, saving model to weights.best.model.hdf5\n",
      "12s - loss: 2.5042 - acc: 0.1143 - val_loss: 2.3985 - val_acc: 0.1410\n",
      "Epoch 5/100\n",
      "Epoch 00004: val_loss did not improve\n",
      "10s - loss: 2.4118 - acc: 0.1432 - val_loss: 2.5000 - val_acc: 0.0983\n",
      "Epoch 6/100\n",
      "Epoch 00005: val_loss improved from 2.39848 to 2.29362, saving model to weights.best.model.hdf5\n",
      "12s - loss: 2.3458 - acc: 0.1480 - val_loss: 2.2936 - val_acc: 0.1410\n",
      "Epoch 7/100\n",
      "Epoch 00006: val_loss improved from 2.29362 to 2.27615, saving model to weights.best.model.hdf5\n",
      "12s - loss: 2.3207 - acc: 0.1469 - val_loss: 2.2761 - val_acc: 0.1538\n",
      "Epoch 8/100\n",
      "Epoch 00007: val_loss did not improve\n",
      "10s - loss: 2.3407 - acc: 0.1538 - val_loss: 2.3726 - val_acc: 0.1239\n",
      "Epoch 9/100\n",
      "Epoch 00008: val_loss did not improve\n",
      "10s - loss: 2.3571 - acc: 0.1234 - val_loss: 2.4490 - val_acc: 0.0940\n",
      "Epoch 10/100\n",
      "Epoch 00009: val_loss did not improve\n",
      "10s - loss: 2.3444 - acc: 0.1255 - val_loss: 2.5804 - val_acc: 0.0684\n",
      "Epoch 11/100\n",
      "Epoch 00010: val_loss did not improve\n",
      "10s - loss: 2.3008 - acc: 0.1426 - val_loss: 2.5135 - val_acc: 0.0940\n",
      "Epoch 12/100\n",
      "Epoch 00011: val_loss did not improve\n",
      "10s - loss: 2.2897 - acc: 0.1464 - val_loss: 2.5017 - val_acc: 0.0919\n",
      "Epoch 13/100\n",
      "Epoch 00012: val_loss did not improve\n",
      "11s - loss: 2.3273 - acc: 0.1421 - val_loss: 2.8143 - val_acc: 0.0812\n",
      "Epoch 14/100\n",
      "Epoch 00013: val_loss did not improve\n",
      "11s - loss: 2.3449 - acc: 0.1330 - val_loss: 2.4593 - val_acc: 0.0962\n",
      "Epoch 15/100\n",
      "Epoch 00014: val_loss did not improve\n",
      "11s - loss: 2.2661 - acc: 0.1448 - val_loss: 2.9224 - val_acc: 0.0556\n",
      "Epoch 16/100\n",
      "Epoch 00015: val_loss did not improve\n",
      "12s - loss: 2.4322 - acc: 0.1351 - val_loss: 2.7657 - val_acc: 0.0662\n",
      "Epoch 17/100\n",
      "Epoch 00016: val_loss did not improve\n",
      "12s - loss: 2.3237 - acc: 0.1314 - val_loss: 2.7544 - val_acc: 0.0684\n",
      "Epoch 18/100\n",
      "Epoch 00017: val_loss did not improve\n",
      "12s - loss: 2.2825 - acc: 0.1287 - val_loss: 2.3153 - val_acc: 0.1218\n",
      "Epoch 19/100\n",
      "Epoch 00018: val_loss did not improve\n",
      "12s - loss: 2.2908 - acc: 0.1309 - val_loss: 2.8441 - val_acc: 0.1004\n",
      "Epoch 20/100\n",
      "Epoch 00019: val_loss did not improve\n",
      "10s - loss: 2.2768 - acc: 0.1368 - val_loss: 2.6520 - val_acc: 0.0620\n",
      "Epoch 21/100\n",
      "Epoch 00020: val_loss did not improve\n",
      "11s - loss: 2.2683 - acc: 0.1271 - val_loss: 2.3929 - val_acc: 0.1218\n",
      "Epoch 22/100\n",
      "Epoch 00021: val_loss did not improve\n",
      "11s - loss: 2.2514 - acc: 0.1512 - val_loss: 2.9319 - val_acc: 0.0620\n",
      "Epoch 23/100\n",
      "Epoch 00022: val_loss did not improve\n",
      "11s - loss: 2.2528 - acc: 0.1549 - val_loss: 2.5098 - val_acc: 0.0897\n",
      "Epoch 24/100\n",
      "Epoch 00023: val_loss did not improve\n",
      "12s - loss: 2.1891 - acc: 0.1560 - val_loss: 2.4264 - val_acc: 0.1218\n",
      "Epoch 25/100\n",
      "Epoch 00024: val_loss improved from 2.27615 to 2.24328, saving model to weights.best.model.hdf5\n",
      "14s - loss: 2.1699 - acc: 0.1725 - val_loss: 2.2433 - val_acc: 0.1709\n",
      "Epoch 26/100\n",
      "Epoch 00025: val_loss did not improve\n",
      "12s - loss: 2.2628 - acc: 0.1554 - val_loss: 2.6805 - val_acc: 0.0983\n",
      "Epoch 27/100\n",
      "Epoch 00026: val_loss did not improve\n",
      "10s - loss: 2.3007 - acc: 0.1394 - val_loss: 2.7383 - val_acc: 0.0748\n",
      "Epoch 28/100\n",
      "Epoch 00027: val_loss did not improve\n",
      "10s - loss: 2.2774 - acc: 0.1400 - val_loss: 2.4232 - val_acc: 0.0791\n",
      "Epoch 29/100\n",
      "Epoch 00028: val_loss did not improve\n",
      "10s - loss: 2.2634 - acc: 0.1378 - val_loss: 2.3163 - val_acc: 0.1282\n",
      "Epoch 30/100\n",
      "Epoch 00029: val_loss did not improve\n",
      "9s - loss: 2.2697 - acc: 0.1426 - val_loss: 2.4619 - val_acc: 0.1175\n",
      "Epoch 31/100\n",
      "Epoch 00030: val_loss did not improve\n",
      "9s - loss: 2.2462 - acc: 0.1469 - val_loss: 2.4579 - val_acc: 0.1175\n",
      "Epoch 32/100\n",
      "Epoch 00031: val_loss did not improve\n",
      "9s - loss: 2.2171 - acc: 0.1651 - val_loss: 2.4333 - val_acc: 0.0983\n",
      "Epoch 33/100\n",
      "Epoch 00032: val_loss did not improve\n",
      "9s - loss: 2.1922 - acc: 0.1693 - val_loss: 2.3890 - val_acc: 0.1346\n",
      "Epoch 34/100\n",
      "Epoch 00033: val_loss did not improve\n",
      "9s - loss: 2.1619 - acc: 0.1699 - val_loss: 2.2853 - val_acc: 0.2222\n",
      "Epoch 35/100\n",
      "Epoch 00034: val_loss did not improve\n",
      "9s - loss: 2.1463 - acc: 0.1843 - val_loss: 2.3103 - val_acc: 0.1560\n",
      "Epoch 36/100\n",
      "Epoch 00035: val_loss did not improve\n",
      "9s - loss: 2.1197 - acc: 0.1795 - val_loss: 2.4424 - val_acc: 0.1389\n",
      "Epoch 37/100\n",
      "Epoch 00036: val_loss improved from 2.24328 to 2.09953, saving model to weights.best.model.hdf5\n",
      "9s - loss: 2.1575 - acc: 0.1667 - val_loss: 2.0995 - val_acc: 0.1731\n",
      "Epoch 38/100\n",
      "Epoch 00037: val_loss did not improve\n",
      "9s - loss: 2.1431 - acc: 0.1912 - val_loss: 2.5926 - val_acc: 0.1175\n",
      "Epoch 39/100\n",
      "Epoch 00038: val_loss did not improve\n",
      "9s - loss: 2.1356 - acc: 0.1923 - val_loss: 2.3574 - val_acc: 0.1517\n",
      "Epoch 40/100\n",
      "Epoch 00039: val_loss did not improve\n",
      "9s - loss: 2.1253 - acc: 0.1838 - val_loss: 2.5110 - val_acc: 0.1154\n",
      "Epoch 41/100\n",
      "Epoch 00040: val_loss did not improve\n",
      "10s - loss: 2.1237 - acc: 0.2019 - val_loss: 2.4027 - val_acc: 0.1346\n",
      "Epoch 42/100\n",
      "Epoch 00041: val_loss did not improve\n",
      "9s - loss: 2.1101 - acc: 0.1912 - val_loss: 2.4441 - val_acc: 0.1346\n",
      "Epoch 43/100\n",
      "Epoch 00042: val_loss did not improve\n",
      "9s - loss: 2.1071 - acc: 0.1955 - val_loss: 2.5412 - val_acc: 0.1368\n",
      "Epoch 44/100\n",
      "Epoch 00043: val_loss did not improve\n",
      "9s - loss: 2.1178 - acc: 0.1912 - val_loss: 2.3102 - val_acc: 0.1667\n",
      "Epoch 45/100\n",
      "Epoch 00044: val_loss did not improve\n",
      "9s - loss: 2.0989 - acc: 0.2041 - val_loss: 3.2449 - val_acc: 0.0897\n",
      "Epoch 46/100\n",
      "Epoch 00045: val_loss did not improve\n",
      "9s - loss: 2.1507 - acc: 0.2057 - val_loss: 2.5611 - val_acc: 0.1453\n",
      "Epoch 47/100\n",
      "Epoch 00046: val_loss did not improve\n",
      "9s - loss: 2.0842 - acc: 0.2105 - val_loss: 2.4902 - val_acc: 0.1474\n",
      "Epoch 48/100\n",
      "Epoch 00047: val_loss did not improve\n",
      "9s - loss: 2.0884 - acc: 0.2025 - val_loss: 2.7263 - val_acc: 0.1218\n",
      "Epoch 49/100\n",
      "Epoch 00048: val_loss did not improve\n",
      "9s - loss: 2.0912 - acc: 0.2115 - val_loss: 2.2730 - val_acc: 0.1709\n",
      "Epoch 50/100\n",
      "Epoch 00049: val_loss did not improve\n",
      "9s - loss: 2.0742 - acc: 0.2073 - val_loss: 2.2309 - val_acc: 0.1731\n",
      "Epoch 51/100\n",
      "Epoch 00050: val_loss did not improve\n",
      "9s - loss: 2.1527 - acc: 0.1998 - val_loss: 2.3560 - val_acc: 0.1560\n",
      "Epoch 52/100\n",
      "Epoch 00051: val_loss did not improve\n",
      "9s - loss: 2.0691 - acc: 0.2158 - val_loss: 2.4649 - val_acc: 0.1517\n",
      "Epoch 53/100\n",
      "Epoch 00052: val_loss did not improve\n",
      "9s - loss: 2.0908 - acc: 0.2121 - val_loss: 2.5214 - val_acc: 0.1261\n",
      "Epoch 54/100\n",
      "Epoch 00053: val_loss did not improve\n",
      "9s - loss: 2.1138 - acc: 0.2067 - val_loss: 2.4222 - val_acc: 0.1453\n",
      "Epoch 55/100\n",
      "Epoch 00054: val_loss did not improve\n",
      "9s - loss: 2.0572 - acc: 0.2265 - val_loss: 2.5187 - val_acc: 0.1496\n",
      "Epoch 56/100\n",
      "Epoch 00055: val_loss did not improve\n",
      "9s - loss: 2.1009 - acc: 0.2057 - val_loss: 2.3000 - val_acc: 0.1838\n",
      "Epoch 57/100\n",
      "Epoch 00056: val_loss did not improve\n",
      "9s - loss: 2.0727 - acc: 0.2094 - val_loss: 2.6157 - val_acc: 0.1261\n",
      "Epoch 58/100\n",
      "Epoch 00057: val_loss did not improve\n",
      "9s - loss: 2.0746 - acc: 0.2035 - val_loss: 2.7391 - val_acc: 0.1261\n",
      "Epoch 59/100\n",
      "Epoch 00058: val_loss did not improve\n",
      "9s - loss: 2.0589 - acc: 0.2265 - val_loss: 2.4562 - val_acc: 0.1474\n",
      "Epoch 60/100\n",
      "Epoch 00059: val_loss did not improve\n",
      "9s - loss: 2.0623 - acc: 0.2147 - val_loss: 2.9664 - val_acc: 0.1218\n",
      "Epoch 61/100\n",
      "Epoch 00060: val_loss did not improve\n",
      "9s - loss: 2.0782 - acc: 0.2041 - val_loss: 2.5409 - val_acc: 0.1368\n",
      "Epoch 62/100\n",
      "Epoch 00061: val_loss did not improve\n",
      "9s - loss: 2.0406 - acc: 0.2196 - val_loss: 3.0242 - val_acc: 0.1197\n",
      "Epoch 63/100\n",
      "Epoch 00062: val_loss did not improve\n",
      "9s - loss: 2.0601 - acc: 0.2163 - val_loss: 2.6587 - val_acc: 0.0962\n",
      "Epoch 64/100\n",
      "Epoch 00063: val_loss did not improve\n",
      "10s - loss: 2.0790 - acc: 0.2078 - val_loss: 2.1638 - val_acc: 0.2009\n",
      "Epoch 65/100\n"
     ]
    },
    {
     "name": "stdout",
     "output_type": "stream",
     "text": [
      "Epoch 00064: val_loss did not improve\n",
      "9s - loss: 2.0443 - acc: 0.2217 - val_loss: 2.3031 - val_acc: 0.1987\n",
      "Epoch 66/100\n",
      "Epoch 00065: val_loss improved from 2.09953 to 2.06339, saving model to weights.best.model.hdf5\n",
      "10s - loss: 2.0431 - acc: 0.2233 - val_loss: 2.0634 - val_acc: 0.2179\n",
      "Epoch 67/100\n",
      "Epoch 00066: val_loss did not improve\n",
      "10s - loss: 2.0411 - acc: 0.2260 - val_loss: 2.5178 - val_acc: 0.1432\n",
      "Epoch 68/100\n",
      "Epoch 00067: val_loss did not improve\n",
      "9s - loss: 2.0279 - acc: 0.2382 - val_loss: 2.3945 - val_acc: 0.1496\n",
      "Epoch 69/100\n",
      "Epoch 00068: val_loss did not improve\n",
      "9s - loss: 2.0588 - acc: 0.2190 - val_loss: 2.6581 - val_acc: 0.1346\n",
      "Epoch 70/100\n",
      "Epoch 00069: val_loss did not improve\n",
      "10s - loss: 2.0512 - acc: 0.2260 - val_loss: 2.1939 - val_acc: 0.2179\n",
      "Epoch 71/100\n",
      "Epoch 00070: val_loss did not improve\n",
      "10s - loss: 1.9973 - acc: 0.2580 - val_loss: 2.3823 - val_acc: 0.1923\n",
      "Epoch 72/100\n",
      "Epoch 00071: val_loss did not improve\n",
      "10s - loss: 2.0401 - acc: 0.2318 - val_loss: 2.3148 - val_acc: 0.1752\n",
      "Epoch 73/100\n",
      "Epoch 00072: val_loss did not improve\n",
      "10s - loss: 2.0412 - acc: 0.2292 - val_loss: 2.4335 - val_acc: 0.1474\n",
      "Epoch 74/100\n",
      "Epoch 00073: val_loss did not improve\n",
      "10s - loss: 1.9962 - acc: 0.2431 - val_loss: 2.8262 - val_acc: 0.1261\n",
      "Epoch 75/100\n",
      "Epoch 00074: val_loss did not improve\n",
      "9s - loss: 2.0091 - acc: 0.2318 - val_loss: 2.6826 - val_acc: 0.1368\n",
      "Epoch 76/100\n",
      "Epoch 00075: val_loss did not improve\n",
      "9s - loss: 2.0126 - acc: 0.2260 - val_loss: 2.7440 - val_acc: 0.1239\n",
      "Epoch 77/100\n",
      "Epoch 00076: val_loss did not improve\n",
      "10s - loss: 1.9827 - acc: 0.2436 - val_loss: 2.7883 - val_acc: 0.1368\n",
      "Epoch 78/100\n",
      "Epoch 00077: val_loss did not improve\n",
      "10s - loss: 2.0112 - acc: 0.2249 - val_loss: 2.9164 - val_acc: 0.1303\n",
      "Epoch 79/100\n",
      "Epoch 00078: val_loss did not improve\n",
      "9s - loss: 1.9791 - acc: 0.2393 - val_loss: 2.4800 - val_acc: 0.1346\n",
      "Epoch 80/100\n",
      "Epoch 00079: val_loss did not improve\n",
      "9s - loss: 1.9907 - acc: 0.2489 - val_loss: 2.7242 - val_acc: 0.1325\n",
      "Epoch 81/100\n",
      "Epoch 00080: val_loss did not improve\n",
      "9s - loss: 1.9951 - acc: 0.2361 - val_loss: 2.2610 - val_acc: 0.1880\n",
      "Epoch 82/100\n",
      "Epoch 00081: val_loss did not improve\n",
      "9s - loss: 2.0185 - acc: 0.2254 - val_loss: 2.5113 - val_acc: 0.1410\n",
      "Epoch 83/100\n",
      "Epoch 00082: val_loss did not improve\n",
      "9s - loss: 1.9729 - acc: 0.2543 - val_loss: 2.6257 - val_acc: 0.1346\n",
      "Epoch 84/100\n",
      "Epoch 00083: val_loss did not improve\n",
      "9s - loss: 1.9861 - acc: 0.2463 - val_loss: 2.2760 - val_acc: 0.1838\n",
      "Epoch 85/100\n",
      "Epoch 00084: val_loss did not improve\n",
      "9s - loss: 2.2417 - acc: 0.1859 - val_loss: 2.7503 - val_acc: 0.1538\n",
      "Epoch 86/100\n",
      "Epoch 00085: val_loss did not improve\n",
      "9s - loss: 2.0450 - acc: 0.2142 - val_loss: 2.5464 - val_acc: 0.1303\n",
      "Epoch 87/100\n",
      "Epoch 00086: val_loss did not improve\n",
      "10s - loss: 2.0103 - acc: 0.2244 - val_loss: 2.4252 - val_acc: 0.1581\n",
      "Epoch 88/100\n",
      "Epoch 00087: val_loss did not improve\n",
      "9s - loss: 2.0287 - acc: 0.2431 - val_loss: 2.4366 - val_acc: 0.1560\n",
      "Epoch 89/100\n",
      "Epoch 00088: val_loss did not improve\n",
      "9s - loss: 1.9858 - acc: 0.2425 - val_loss: 2.6868 - val_acc: 0.1432\n",
      "Epoch 90/100\n",
      "Epoch 00089: val_loss did not improve\n",
      "9s - loss: 1.9965 - acc: 0.2377 - val_loss: 2.5109 - val_acc: 0.1453\n",
      "Epoch 91/100\n",
      "Epoch 00090: val_loss did not improve\n",
      "9s - loss: 1.9770 - acc: 0.2292 - val_loss: 2.5296 - val_acc: 0.1389\n",
      "Epoch 92/100\n",
      "Epoch 00091: val_loss did not improve\n",
      "9s - loss: 1.9631 - acc: 0.2452 - val_loss: 2.7899 - val_acc: 0.1175\n",
      "Epoch 93/100\n",
      "Epoch 00092: val_loss did not improve\n",
      "9s - loss: 2.0053 - acc: 0.2431 - val_loss: 2.4781 - val_acc: 0.1368\n",
      "Epoch 94/100\n",
      "Epoch 00093: val_loss did not improve\n",
      "9s - loss: 1.9494 - acc: 0.2452 - val_loss: 2.1610 - val_acc: 0.2201\n",
      "Epoch 95/100\n",
      "Epoch 00094: val_loss improved from 2.06339 to 2.03796, saving model to weights.best.model.hdf5\n",
      "10s - loss: 1.9560 - acc: 0.2505 - val_loss: 2.0380 - val_acc: 0.2350\n",
      "Epoch 96/100\n",
      "Epoch 00095: val_loss did not improve\n",
      "9s - loss: 1.9683 - acc: 0.2527 - val_loss: 2.1038 - val_acc: 0.2179\n",
      "Epoch 97/100\n",
      "Epoch 00096: val_loss did not improve\n",
      "9s - loss: 2.1689 - acc: 0.2217 - val_loss: 2.7713 - val_acc: 0.1261\n",
      "Epoch 98/100\n",
      "Epoch 00097: val_loss did not improve\n",
      "9s - loss: 1.9533 - acc: 0.2532 - val_loss: 2.6733 - val_acc: 0.1368\n",
      "Epoch 99/100\n",
      "Epoch 00098: val_loss did not improve\n",
      "9s - loss: 1.9378 - acc: 0.2356 - val_loss: 2.7462 - val_acc: 0.1282\n",
      "Epoch 100/100\n",
      "Epoch 00099: val_loss did not improve\n",
      "9s - loss: 1.9417 - acc: 0.2548 - val_loss: 2.1820 - val_acc: 0.2073\n"
     ]
    }
   ],
   "source": [
    "hide_code\n",
    "# Train the model\n",
    "checkpointer = ModelCheckpoint(filepath='weights.best.model.hdf5', \n",
    "                               verbose=2, save_best_only=True)\n",
    "history = model.fit(x_train, y_train, \n",
    "                    epochs=100, batch_size=64, verbose=2,\n",
    "                    validation_data=(x_test, y_test),\n",
    "                    callbacks=[checkpointer])"
   ]
  },
  {
   "cell_type": "markdown",
   "metadata": {},
   "source": [
    "We should have an accuracy greater than 8%"
   ]
  },
  {
   "cell_type": "code",
   "execution_count": 39,
   "metadata": {},
   "outputs": [
    {
     "name": "stdout",
     "output_type": "stream",
     "text": [
      "448/468 [===========================>..] - ETA: 0s"
     ]
    },
    {
     "data": {
      "text/plain": [
       "[2.0379643521757207, 0.23504273510641521]"
      ]
     },
     "execution_count": 39,
     "metadata": {},
     "output_type": "execute_result"
    }
   ],
   "source": [
    "hide_code\n",
    "# Load the model with the best validation accuracy\n",
    "model.load_weights('weights.best.model.hdf5')\n",
    "# Calculate classification accuracy on the testing set\n",
    "score = model.evaluate(x_test, y_test)\n",
    "score"
   ]
  },
  {
   "cell_type": "markdown",
   "metadata": {},
   "source": [
    "Apply the ImageDataGenerator() function."
   ]
  },
  {
   "cell_type": "code",
   "execution_count": 40,
   "metadata": {},
   "outputs": [
    {
     "name": "stdout",
     "output_type": "stream",
     "text": [
      "Epoch 1/10\n",
      "Epoch 00000: val_loss did not improve\n",
      "362s - loss: 1.9151 - acc: 0.2655 - val_loss: 3.4167 - val_acc: 0.1688\n",
      "Epoch 2/10\n",
      "Epoch 00001: val_loss did not improve\n",
      "330s - loss: 1.8141 - acc: 0.3112 - val_loss: 3.6144 - val_acc: 0.1688\n",
      "Epoch 3/10\n",
      "Epoch 00002: val_loss did not improve\n",
      "327s - loss: 1.6920 - acc: 0.3629 - val_loss: 4.1215 - val_acc: 0.1410\n",
      "Epoch 4/10\n",
      "Epoch 00003: val_loss did not improve\n",
      "333s - loss: 1.4909 - acc: 0.4419 - val_loss: 2.8215 - val_acc: 0.2778\n",
      "Epoch 5/10\n",
      "Epoch 00004: val_loss did not improve\n",
      "334s - loss: 1.3340 - acc: 0.5127 - val_loss: 2.6684 - val_acc: 0.3333\n",
      "Epoch 6/10\n",
      "Epoch 00005: val_loss did not improve\n",
      "326s - loss: 1.2343 - acc: 0.5562 - val_loss: 3.0437 - val_acc: 0.2671\n",
      "Epoch 7/10\n",
      "Epoch 00006: val_loss did not improve\n",
      "399s - loss: 1.1204 - acc: 0.5990 - val_loss: 2.4042 - val_acc: 0.3996\n",
      "Epoch 8/10\n",
      "Epoch 00007: val_loss did not improve\n",
      "338s - loss: 1.0373 - acc: 0.6348 - val_loss: 2.6550 - val_acc: 0.3932\n",
      "Epoch 9/10\n",
      "Epoch 00008: val_loss improved from 2.03796 to 2.01058, saving model to weights.best.model.hdf5\n",
      "376s - loss: 0.9534 - acc: 0.6676 - val_loss: 2.0106 - val_acc: 0.4744\n",
      "Epoch 10/10\n",
      "Epoch 00009: val_loss did not improve\n",
      "389s - loss: 0.9316 - acc: 0.6800 - val_loss: 2.2064 - val_acc: 0.4808\n"
     ]
    }
   ],
   "source": [
    "hide_code\n",
    "# Fit the model with ImageDataGenerator()\n",
    "# TODO: Define parameters\n",
    "steps, epochs = 1000, 10\n",
    "data_generator = ImageDataGenerator(zoom_range=0.2, shear_range=0.2, rotation_range=20)\n",
    "\n",
    "generator = model.fit_generator(data_generator.flow(x_train, y_train, batch_size=64),\n",
    "                                steps_per_epoch = steps, epochs = epochs,\n",
    "                                validation_data = (x_test, y_test), \n",
    "                                callbacks=[checkpointer], verbose=2)"
   ]
  },
  {
   "cell_type": "code",
   "execution_count": 41,
   "metadata": {},
   "outputs": [
    {
     "name": "stdout",
     "output_type": "stream",
     "text": [
      "448/468 [===========================>..] - ETA: 0s"
     ]
    },
    {
     "data": {
      "text/plain": [
       "[2.0105796298410139, 0.47435897384953296]"
      ]
     },
     "execution_count": 41,
     "metadata": {},
     "output_type": "execute_result"
    }
   ],
   "source": [
    "hide_code\n",
    "# Load the model with the best validation accuracy\n",
    "model.load_weights('weights.best.model.hdf5')\n",
    "# Calculate classification accuracy on the testing set\n",
    "score = model.evaluate(x_test, y_test)\n",
    "score"
   ]
  },
  {
   "cell_type": "markdown",
   "metadata": {},
   "source": [
    "Let's compare the results with classifying algorithms."
   ]
  },
  {
   "cell_type": "code",
   "execution_count": 42,
   "metadata": {},
   "outputs": [
    {
     "data": {
      "text/plain": [
       "0.47649572649572647"
      ]
     },
     "execution_count": 42,
     "metadata": {},
     "output_type": "execute_result"
    }
   ],
   "source": [
    "hide_code\n",
    "# Fit the classifier and get the accuracy score\n",
    "y_train_c = np.array([np.argmax(y) for y in y_train])\n",
    "y_test_c = np.array([np.argmax(y) for y in y_test])\n",
    "clf = GradientBoostingClassifier().fit(x_train.reshape(-1, 32*32*3), y_train_c)\n",
    "clf.score(x_test.reshape(-1, 32*32*3), y_test_c)"
   ]
  },
  {
   "cell_type": "code",
   "execution_count": 43,
   "metadata": {},
   "outputs": [
    {
     "data": {
      "text/plain": [
       "0.38034188034188032"
      ]
     },
     "execution_count": 43,
     "metadata": {},
     "output_type": "execute_result"
    }
   ],
   "source": [
    "hide_code\n",
    "# Fit the classifier and get the accuracy score\n",
    "clf2 = RandomForestClassifier().fit(x_train.reshape(-1, 32*32*3), y_train_c)\n",
    "clf2.score(x_test.reshape(-1, 32*32*3), y_test_c)"
   ]
  },
  {
   "cell_type": "markdown",
   "metadata": {},
   "source": [
    "### Grayscaled Images"
   ]
  },
  {
   "cell_type": "code",
   "execution_count": 44,
   "metadata": {
    "collapsed": true
   },
   "outputs": [],
   "source": [
    "hide_code\n",
    "def gray_model():\n",
    "    model = Sequential()\n",
    "    \n",
    "    # TODO: Define a model architecture\n",
    "    model.add(Conv2D(32, (5, 5), padding='same', input_shape=x_train2.shape[1:]))\n",
    "    model.add(Activation('relu'))    \n",
    "    model.add(MaxPooling2D(pool_size=(2, 2)))\n",
    "    model.add(Dropout(0.25))\n",
    "\n",
    "    model.add(Conv2D(256, (5, 5)))\n",
    "    model.add(Activation('relu'))    \n",
    "    model.add(MaxPooling2D(pool_size=(2, 2)))\n",
    "    model.add(Dropout(0.25))\n",
    "    \n",
    "    model.add(GlobalMaxPooling2D()) \n",
    "    \n",
    "    model.add(Dense(1024, activation='relu'))\n",
    "    model.add(Dropout(0.25)) \n",
    "    \n",
    "    model.add(Dense(256, activation='relu'))\n",
    "    model.add(Dropout(0.25))    \n",
    "\n",
    "    model.add(Dense(13))\n",
    "    model.add(Activation('softmax'))\n",
    "    \n",
    "    # TODO: Compile the model\n",
    "    model.compile(loss='categorical_crossentropy', optimizer='rmsprop', metrics=['accuracy'])\n",
    "    return model\n",
    "\n",
    "gray_model = gray_model()"
   ]
  },
  {
   "cell_type": "code",
   "execution_count": 45,
   "metadata": {},
   "outputs": [
    {
     "name": "stdout",
     "output_type": "stream",
     "text": [
      "Epoch 00000: val_loss improved from inf to 2.58757, saving model to weights.best.gray_model.hdf5\n",
      "Epoch 00001: val_loss improved from 2.58757 to 2.56494, saving model to weights.best.gray_model.hdf5\n",
      "Epoch 00002: val_loss improved from 2.56494 to 2.53095, saving model to weights.best.gray_model.hdf5\n",
      "Epoch 00003: val_loss improved from 2.53095 to 2.51593, saving model to weights.best.gray_model.hdf5\n",
      "Epoch 00004: val_loss did not improve\n",
      "Epoch 00005: val_loss improved from 2.51593 to 2.49840, saving model to weights.best.gray_model.hdf5\n",
      "Epoch 00006: val_loss improved from 2.49840 to 2.42011, saving model to weights.best.gray_model.hdf5\n",
      "Epoch 00007: val_loss did not improve\n",
      "Epoch 00008: val_loss did not improve\n",
      "Epoch 00009: val_loss improved from 2.42011 to 2.40036, saving model to weights.best.gray_model.hdf5\n",
      "Epoch 00010: val_loss improved from 2.40036 to 2.36458, saving model to weights.best.gray_model.hdf5\n",
      "Epoch 00011: val_loss improved from 2.36458 to 2.32501, saving model to weights.best.gray_model.hdf5\n",
      "Epoch 00012: val_loss did not improve\n",
      "Epoch 00013: val_loss did not improve\n",
      "Epoch 00014: val_loss did not improve\n",
      "Epoch 00015: val_loss did not improve\n",
      "Epoch 00016: val_loss did not improve\n",
      "Epoch 00017: val_loss did not improve\n",
      "Epoch 00018: val_loss improved from 2.32501 to 2.29968, saving model to weights.best.gray_model.hdf5\n",
      "Epoch 00019: val_loss did not improve\n",
      "Epoch 00020: val_loss improved from 2.29968 to 2.13956, saving model to weights.best.gray_model.hdf5\n",
      "Epoch 00021: val_loss improved from 2.13956 to 2.03837, saving model to weights.best.gray_model.hdf5\n",
      "Epoch 00022: val_loss did not improve\n",
      "Epoch 00023: val_loss did not improve\n",
      "Epoch 00024: val_loss improved from 2.03837 to 1.75756, saving model to weights.best.gray_model.hdf5\n",
      "Epoch 00025: val_loss did not improve\n",
      "Epoch 00026: val_loss did not improve\n",
      "Epoch 00027: val_loss did not improve\n",
      "Epoch 00028: val_loss improved from 1.75756 to 1.46337, saving model to weights.best.gray_model.hdf5\n",
      "Epoch 00029: val_loss did not improve\n",
      "Epoch 00030: val_loss did not improve\n",
      "Epoch 00031: val_loss did not improve\n",
      "Epoch 00032: val_loss did not improve\n",
      "Epoch 00033: val_loss did not improve\n",
      "Epoch 00034: val_loss improved from 1.46337 to 1.28074, saving model to weights.best.gray_model.hdf5\n",
      "Epoch 00035: val_loss did not improve\n",
      "Epoch 00036: val_loss did not improve\n",
      "Epoch 00037: val_loss improved from 1.28074 to 1.26416, saving model to weights.best.gray_model.hdf5\n",
      "Epoch 00038: val_loss did not improve\n",
      "Epoch 00039: val_loss did not improve\n",
      "Epoch 00040: val_loss improved from 1.26416 to 1.17709, saving model to weights.best.gray_model.hdf5\n",
      "Epoch 00041: val_loss did not improve\n",
      "Epoch 00042: val_loss improved from 1.17709 to 1.05579, saving model to weights.best.gray_model.hdf5\n",
      "Epoch 00043: val_loss did not improve\n",
      "Epoch 00044: val_loss improved from 1.05579 to 1.05162, saving model to weights.best.gray_model.hdf5\n",
      "Epoch 00045: val_loss did not improve\n",
      "Epoch 00046: val_loss did not improve\n",
      "Epoch 00047: val_loss did not improve\n",
      "Epoch 00048: val_loss improved from 1.05162 to 0.83709, saving model to weights.best.gray_model.hdf5\n",
      "Epoch 00049: val_loss did not improve\n",
      "Epoch 00050: val_loss did not improve\n",
      "Epoch 00051: val_loss improved from 0.83709 to 0.80957, saving model to weights.best.gray_model.hdf5\n",
      "Epoch 00052: val_loss did not improve\n",
      "Epoch 00053: val_loss did not improve\n",
      "Epoch 00054: val_loss did not improve\n",
      "Epoch 00055: val_loss improved from 0.80957 to 0.70381, saving model to weights.best.gray_model.hdf5\n",
      "Epoch 00056: val_loss did not improve\n",
      "Epoch 00057: val_loss did not improve\n",
      "Epoch 00058: val_loss did not improve\n",
      "Epoch 00059: val_loss did not improve\n",
      "Epoch 00060: val_loss did not improve\n",
      "Epoch 00061: val_loss did not improve\n",
      "Epoch 00062: val_loss did not improve\n",
      "Epoch 00063: val_loss did not improve\n",
      "Epoch 00064: val_loss did not improve\n",
      "Epoch 00065: val_loss improved from 0.70381 to 0.56677, saving model to weights.best.gray_model.hdf5\n",
      "Epoch 00066: val_loss did not improve\n",
      "Epoch 00067: val_loss did not improve\n",
      "Epoch 00068: val_loss did not improve\n",
      "Epoch 00069: val_loss did not improve\n",
      "Epoch 00070: val_loss did not improve\n",
      "Epoch 00071: val_loss did not improve\n",
      "Epoch 00072: val_loss did not improve\n",
      "Epoch 00073: val_loss did not improve\n",
      "Epoch 00074: val_loss did not improve\n",
      "Epoch 00075: val_loss did not improve\n",
      "Epoch 00076: val_loss did not improve\n",
      "Epoch 00077: val_loss did not improve\n",
      "Epoch 00078: val_loss did not improve\n",
      "Epoch 00079: val_loss did not improve\n",
      "Epoch 00080: val_loss did not improve\n",
      "Epoch 00081: val_loss did not improve\n",
      "Epoch 00082: val_loss did not improve\n",
      "Epoch 00083: val_loss improved from 0.56677 to 0.52005, saving model to weights.best.gray_model.hdf5\n",
      "Epoch 00084: val_loss improved from 0.52005 to 0.49623, saving model to weights.best.gray_model.hdf5\n",
      "Epoch 00085: val_loss did not improve\n",
      "Epoch 00086: val_loss did not improve\n",
      "Epoch 00087: val_loss improved from 0.49623 to 0.47537, saving model to weights.best.gray_model.hdf5\n",
      "Epoch 00088: val_loss did not improve\n",
      "Epoch 00089: val_loss did not improve\n",
      "Epoch 00090: val_loss did not improve\n",
      "Epoch 00091: val_loss improved from 0.47537 to 0.46593, saving model to weights.best.gray_model.hdf5\n",
      "Epoch 00092: val_loss did not improve\n",
      "Epoch 00093: val_loss did not improve\n",
      "Epoch 00094: val_loss did not improve\n",
      "Epoch 00095: val_loss did not improve\n",
      "Epoch 00096: val_loss did not improve\n",
      "Epoch 00097: val_loss did not improve\n",
      "Epoch 00098: val_loss did not improve\n",
      "Epoch 00099: val_loss did not improve\n",
      "Epoch 00100: val_loss did not improve\n",
      "Epoch 00101: val_loss improved from 0.46593 to 0.42386, saving model to weights.best.gray_model.hdf5\n",
      "Epoch 00102: val_loss improved from 0.42386 to 0.36258, saving model to weights.best.gray_model.hdf5\n",
      "Epoch 00103: val_loss did not improve\n",
      "Epoch 00104: val_loss did not improve\n",
      "Epoch 00105: val_loss did not improve\n",
      "Epoch 00106: val_loss improved from 0.36258 to 0.34401, saving model to weights.best.gray_model.hdf5\n",
      "Epoch 00107: val_loss did not improve\n",
      "Epoch 00108: val_loss did not improve\n",
      "Epoch 00109: val_loss did not improve\n",
      "Epoch 00110: val_loss did not improve\n",
      "Epoch 00111: val_loss did not improve\n",
      "Epoch 00112: val_loss did not improve\n",
      "Epoch 00113: val_loss improved from 0.34401 to 0.31694, saving model to weights.best.gray_model.hdf5\n",
      "Epoch 00114: val_loss did not improve\n",
      "Epoch 00115: val_loss did not improve\n",
      "Epoch 00116: val_loss did not improve\n",
      "Epoch 00117: val_loss did not improve\n",
      "Epoch 00118: val_loss did not improve\n",
      "Epoch 00119: val_loss did not improve\n",
      "Epoch 00120: val_loss did not improve\n",
      "Epoch 00121: val_loss did not improve\n",
      "Epoch 00122: val_loss did not improve\n",
      "Epoch 00123: val_loss did not improve\n",
      "Epoch 00124: val_loss did not improve\n",
      "Epoch 00125: val_loss did not improve\n",
      "Epoch 00126: val_loss did not improve\n",
      "Epoch 00127: val_loss did not improve\n",
      "Epoch 00128: val_loss did not improve\n",
      "Epoch 00129: val_loss did not improve\n",
      "Epoch 00130: val_loss did not improve\n",
      "Epoch 00131: val_loss did not improve\n",
      "Epoch 00132: val_loss did not improve\n",
      "Epoch 00133: val_loss did not improve\n",
      "Epoch 00134: val_loss did not improve\n",
      "Epoch 00135: val_loss did not improve\n",
      "Epoch 00136: val_loss did not improve\n",
      "Epoch 00137: val_loss did not improve\n",
      "Epoch 00138: val_loss did not improve\n",
      "Epoch 00139: val_loss did not improve\n",
      "Epoch 00140: val_loss did not improve\n",
      "Epoch 00141: val_loss did not improve\n",
      "Epoch 00142: val_loss did not improve\n",
      "Epoch 00143: val_loss did not improve\n",
      "Epoch 00144: val_loss did not improve\n",
      "Epoch 00145: val_loss did not improve\n",
      "Epoch 00146: val_loss did not improve\n",
      "Epoch 00147: val_loss did not improve\n",
      "Epoch 00148: val_loss did not improve\n",
      "Epoch 00149: val_loss did not improve\n",
      "Epoch 00150: val_loss did not improve\n",
      "Epoch 00151: val_loss did not improve\n",
      "Epoch 00152: val_loss did not improve\n",
      "Epoch 00153: val_loss did not improve\n",
      "Epoch 00154: val_loss did not improve\n",
      "Epoch 00155: val_loss did not improve\n",
      "Epoch 00156: val_loss did not improve\n",
      "Epoch 00157: val_loss did not improve\n",
      "Epoch 00158: val_loss did not improve\n",
      "Epoch 00159: val_loss did not improve\n",
      "Epoch 00160: val_loss did not improve\n",
      "Epoch 00161: val_loss did not improve\n",
      "Epoch 00162: val_loss did not improve\n",
      "Epoch 00163: val_loss did not improve\n",
      "Epoch 00164: val_loss did not improve\n"
     ]
    },
    {
     "name": "stdout",
     "output_type": "stream",
     "text": [
      "Epoch 00165: val_loss did not improve\n",
      "Epoch 00166: val_loss did not improve\n",
      "Epoch 00167: val_loss improved from 0.31694 to 0.29251, saving model to weights.best.gray_model.hdf5\n",
      "Epoch 00168: val_loss did not improve\n",
      "Epoch 00169: val_loss did not improve\n",
      "Epoch 00170: val_loss did not improve\n",
      "Epoch 00171: val_loss did not improve\n",
      "Epoch 00172: val_loss did not improve\n",
      "Epoch 00173: val_loss did not improve\n",
      "Epoch 00174: val_loss did not improve\n",
      "Epoch 00175: val_loss did not improve\n",
      "Epoch 00176: val_loss did not improve\n",
      "Epoch 00177: val_loss did not improve\n",
      "Epoch 00178: val_loss did not improve\n",
      "Epoch 00179: val_loss did not improve\n",
      "Epoch 00180: val_loss did not improve\n",
      "Epoch 00181: val_loss did not improve\n",
      "Epoch 00182: val_loss did not improve\n",
      "Epoch 00183: val_loss did not improve\n",
      "Epoch 00184: val_loss did not improve\n",
      "Epoch 00185: val_loss did not improve\n",
      "Epoch 00186: val_loss did not improve\n",
      "Epoch 00187: val_loss did not improve\n",
      "Epoch 00188: val_loss did not improve\n",
      "Epoch 00189: val_loss did not improve\n",
      "Epoch 00190: val_loss did not improve\n",
      "Epoch 00191: val_loss improved from 0.29251 to 0.26828, saving model to weights.best.gray_model.hdf5\n",
      "Epoch 00192: val_loss did not improve\n",
      "Epoch 00193: val_loss did not improve\n",
      "Epoch 00194: val_loss did not improve\n",
      "Epoch 00195: val_loss did not improve\n",
      "Epoch 00196: val_loss did not improve\n",
      "Epoch 00197: val_loss did not improve\n",
      "Epoch 00198: val_loss did not improve\n",
      "Epoch 00199: val_loss did not improve\n",
      "Epoch 00200: val_loss did not improve\n",
      "Epoch 00201: val_loss did not improve\n",
      "Epoch 00202: val_loss did not improve\n",
      "Epoch 00203: val_loss did not improve\n",
      "Epoch 00204: val_loss did not improve\n",
      "Epoch 00205: val_loss did not improve\n",
      "Epoch 00206: val_loss did not improve\n",
      "Epoch 00207: val_loss did not improve\n",
      "Epoch 00208: val_loss did not improve\n",
      "Epoch 00209: val_loss did not improve\n",
      "Epoch 00210: val_loss did not improve\n",
      "Epoch 00211: val_loss did not improve\n",
      "Epoch 00212: val_loss did not improve\n",
      "Epoch 00213: val_loss did not improve\n",
      "Epoch 00214: val_loss did not improve\n",
      "Epoch 00215: val_loss did not improve\n",
      "Epoch 00216: val_loss did not improve\n",
      "Epoch 00217: val_loss did not improve\n",
      "Epoch 00218: val_loss did not improve\n",
      "Epoch 00219: val_loss did not improve\n",
      "Epoch 00220: val_loss did not improve\n",
      "Epoch 00221: val_loss did not improve\n",
      "Epoch 00222: val_loss did not improve\n",
      "Epoch 00223: val_loss did not improve\n",
      "Epoch 00224: val_loss did not improve\n",
      "Epoch 00225: val_loss did not improve\n",
      "Epoch 00226: val_loss did not improve\n",
      "Epoch 00227: val_loss did not improve\n",
      "Epoch 00228: val_loss did not improve\n",
      "Epoch 00229: val_loss did not improve\n",
      "Epoch 00230: val_loss did not improve\n",
      "Epoch 00231: val_loss did not improve\n",
      "Epoch 00232: val_loss did not improve\n",
      "Epoch 00233: val_loss did not improve\n",
      "Epoch 00234: val_loss did not improve\n",
      "Epoch 00235: val_loss did not improve\n",
      "Epoch 00236: val_loss did not improve\n",
      "Epoch 00237: val_loss did not improve\n",
      "Epoch 00238: val_loss did not improve\n",
      "Epoch 00239: val_loss did not improve\n",
      "Epoch 00240: val_loss did not improve\n",
      "Epoch 00241: val_loss did not improve\n",
      "Epoch 00242: val_loss did not improve\n",
      "Epoch 00243: val_loss did not improve\n",
      "Epoch 00244: val_loss did not improve\n",
      "Epoch 00245: val_loss did not improve\n",
      "Epoch 00246: val_loss did not improve\n",
      "Epoch 00247: val_loss did not improve\n",
      "Epoch 00248: val_loss did not improve\n",
      "Epoch 00249: val_loss did not improve\n",
      "Epoch 00250: val_loss did not improve\n",
      "Epoch 00251: val_loss did not improve\n",
      "Epoch 00252: val_loss did not improve\n",
      "Epoch 00253: val_loss did not improve\n",
      "Epoch 00254: val_loss did not improve\n",
      "Epoch 00255: val_loss did not improve\n",
      "Epoch 00256: val_loss did not improve\n",
      "Epoch 00257: val_loss did not improve\n",
      "Epoch 00258: val_loss did not improve\n",
      "Epoch 00259: val_loss did not improve\n",
      "Epoch 00260: val_loss did not improve\n",
      "Epoch 00261: val_loss did not improve\n",
      "Epoch 00262: val_loss did not improve\n",
      "Epoch 00263: val_loss did not improve\n",
      "Epoch 00264: val_loss did not improve\n",
      "Epoch 00265: val_loss did not improve\n",
      "Epoch 00266: val_loss did not improve\n",
      "Epoch 00267: val_loss did not improve\n",
      "Epoch 00268: val_loss did not improve\n",
      "Epoch 00269: val_loss did not improve\n",
      "Epoch 00270: val_loss did not improve\n",
      "Epoch 00271: val_loss did not improve\n",
      "Epoch 00272: val_loss did not improve\n",
      "Epoch 00273: val_loss did not improve\n",
      "Epoch 00274: val_loss did not improve\n",
      "Epoch 00275: val_loss did not improve\n",
      "Epoch 00276: val_loss did not improve\n",
      "Epoch 00277: val_loss did not improve\n",
      "Epoch 00278: val_loss did not improve\n",
      "Epoch 00279: val_loss did not improve\n",
      "Epoch 00280: val_loss did not improve\n",
      "Epoch 00281: val_loss did not improve\n",
      "Epoch 00282: val_loss did not improve\n",
      "Epoch 00283: val_loss did not improve\n",
      "Epoch 00284: val_loss did not improve\n",
      "Epoch 00285: val_loss did not improve\n",
      "Epoch 00286: val_loss did not improve\n",
      "Epoch 00287: val_loss did not improve\n",
      "Epoch 00288: val_loss did not improve\n",
      "Epoch 00289: val_loss did not improve\n",
      "Epoch 00290: val_loss did not improve\n",
      "Epoch 00291: val_loss did not improve\n",
      "Epoch 00292: val_loss did not improve\n",
      "Epoch 00293: val_loss did not improve\n",
      "Epoch 00294: val_loss did not improve\n",
      "Epoch 00295: val_loss did not improve\n",
      "Epoch 00296: val_loss did not improve\n",
      "Epoch 00297: val_loss did not improve\n",
      "Epoch 00298: val_loss did not improve\n",
      "Epoch 00299: val_loss did not improve\n"
     ]
    }
   ],
   "source": [
    "hide_code\n",
    "# Train the model\n",
    "gray_checkpointer = ModelCheckpoint(filepath='weights.best.gray_model.hdf5', \n",
    "                                    verbose=2, save_best_only=True)\n",
    "gray_history = gray_model.fit(x_train2, y_train2, \n",
    "                              epochs=300, batch_size=64, verbose=0,\n",
    "                              validation_data=(x_test2, y_test2),\n",
    "                              callbacks=[gray_checkpointer])"
   ]
  },
  {
   "cell_type": "code",
   "execution_count": 46,
   "metadata": {},
   "outputs": [
    {
     "data": {
      "image/png": "[encoded data removed]",
      "text/plain": [
       "<matplotlib.figure.Figure at 0x11f7c3d30>"
      ]
     },
     "metadata": {},
     "output_type": "display_data"
    }
   ],
   "source": [
    "hide_code\n",
    "# Plot the training history\n",
    "history_plot(gray_history, 0)"
   ]
  },
  {
   "cell_type": "markdown",
   "metadata": {},
   "source": [
    "Try to reach an accuracy greater than 80%"
   ]
  },
  {
   "cell_type": "code",
   "execution_count": 47,
   "metadata": {},
   "outputs": [
    {
     "name": "stdout",
     "output_type": "stream",
     "text": [
      "468/468 [==============================] - 1s     \n"
     ]
    },
    {
     "data": {
      "text/plain": [
       "[0.26828052052575296, 0.93162393060504878]"
      ]
     },
     "execution_count": 47,
     "metadata": {},
     "output_type": "execute_result"
    }
   ],
   "source": [
    "hide_code\n",
    "# Load the model with the best validation accuracy\n",
    "gray_model.load_weights('weights.best.gray_model.hdf5')\n",
    "# Calculate classification accuracy on the testing set\n",
    "gray_score = gray_model.evaluate(x_test2, y_test2)\n",
    "gray_score"
   ]
  },
  {
   "cell_type": "markdown",
   "metadata": {},
   "source": [
    "Apply the ImageDataGenerator() function."
   ]
  },
  {
   "cell_type": "code",
   "execution_count": 48,
   "metadata": {},
   "outputs": [
    {
     "name": "stdout",
     "output_type": "stream",
     "text": [
      "Epoch 1/5\n",
      "Epoch 00000: val_loss did not improve\n",
      "557s - loss: 0.6414 - acc: 0.8105 - val_loss: 0.2765 - val_acc: 0.9295\n",
      "Epoch 2/5\n",
      "Epoch 00001: val_loss did not improve\n",
      "523s - loss: 0.5510 - acc: 0.8348 - val_loss: 0.2810 - val_acc: 0.9252\n",
      "Epoch 3/5\n",
      "Epoch 00002: val_loss did not improve\n",
      "557s - loss: 0.5307 - acc: 0.8446 - val_loss: 0.3014 - val_acc: 0.9209\n",
      "Epoch 4/5\n",
      "Epoch 00003: val_loss did not improve\n",
      "654s - loss: 0.5164 - acc: 0.8510 - val_loss: 0.2820 - val_acc: 0.9274\n",
      "Epoch 5/5\n",
      "Epoch 00004: val_loss improved from 0.26828 to 0.22894, saving model to weights.best.gray_model.hdf5\n",
      "569s - loss: 0.5066 - acc: 0.8557 - val_loss: 0.2289 - val_acc: 0.9338\n"
     ]
    }
   ],
   "source": [
    "hide_code\n",
    "# Fit the model with ImageDataGenerator()\n",
    "# TODO: Define parameters\n",
    "steps, epochs = 1000, 5\n",
    "data_generator = ImageDataGenerator(zoom_range=0.2, shear_range=0.2, rotation_range=20)\n",
    "\n",
    "gray_generator = gray_model.fit_generator(data_generator.flow(x_train2, y_train2, batch_size=64),\n",
    "                                          steps_per_epoch = steps, epochs = epochs,\n",
    "                                          validation_data = (x_test2, y_test2), \n",
    "                                          callbacks=[gray_checkpointer], verbose=2)"
   ]
  },
  {
   "cell_type": "code",
   "execution_count": 49,
   "metadata": {},
   "outputs": [
    {
     "name": "stdout",
     "output_type": "stream",
     "text": [
      "468/468 [==============================] - 1s     \n"
     ]
    },
    {
     "data": {
      "text/plain": [
       "[0.22893966708937261, 0.9337606832512424]"
      ]
     },
     "execution_count": 49,
     "metadata": {},
     "output_type": "execute_result"
    }
   ],
   "source": [
    "hide_code\n",
    "# Load the model with the best validation accuracy\n",
    "gray_model.load_weights('weights.best.gray_model.hdf5')\n",
    "# Calculate classification accuracy on the testing set\n",
    "gray_score = gray_model.evaluate(x_test2, y_test2)\n",
    "gray_score"
   ]
  },
  {
   "cell_type": "markdown",
   "metadata": {},
   "source": [
    "Let's compare the results with classifying algorithms."
   ]
  },
  {
   "cell_type": "code",
   "execution_count": 50,
   "metadata": {},
   "outputs": [
    {
     "data": {
      "text/plain": [
       "0.46153846153846156"
      ]
     },
     "execution_count": 50,
     "metadata": {},
     "output_type": "execute_result"
    }
   ],
   "source": [
    "hide_code\n",
    "# Fit the classifier and get the accuracy score\n",
    "y_train2_c = np.array([np.argmax(y) for y in y_train2])\n",
    "y_test2_c = np.array([np.argmax(y) for y in y_test2])\n",
    "clf = GradientBoostingClassifier().fit(x_train2.reshape(-1, 32*32), y_train2_c)\n",
    "clf.score(x_test2.reshape(-1, 32*32), y_test2_c)"
   ]
  },
  {
   "cell_type": "code",
   "execution_count": 51,
   "metadata": {},
   "outputs": [
    {
     "data": {
      "text/plain": [
       "0.35897435897435898"
      ]
     },
     "execution_count": 51,
     "metadata": {},
     "output_type": "execute_result"
    }
   ],
   "source": [
    "hide_code\n",
    "# Fit the classifier and get the accuracy score\n",
    "clf2 = RandomForestClassifier().fit(x_train2.reshape(-1, 32*32), y_train2_c)\n",
    "clf2.score(x_test2.reshape(-1, 32*32), y_test2_c)"
   ]
  },
  {
   "cell_type": "markdown",
   "metadata": {},
   "source": [
    "## Step 5. Create a Multi-Label Classification Model\n",
    "### Color Images"
   ]
  },
  {
   "cell_type": "code",
   "execution_count": null,
   "metadata": {
    "collapsed": true
   },
   "outputs": [],
   "source": [
    "hide_code\n",
    "def multi_model():    \n",
    "    model_input = Input(shape=(32, 32, 3))\n",
    "    x = BatchNormalization()(model_input)\n",
    "    # TODO: Define a model architecture\n",
    "        \n",
    "    \n",
    "    y1 = Dense(13, activation='softmax')(x)\n",
    "    y2 = Dense(3, activation='softmax')(x)\n",
    "    \n",
    "    model = Model(inputs=model_input, outputs=[y1, y2])\n",
    "    \n",
    "    # TODO: Compile the model\n",
    "\n",
    "    return model\n",
    "\n",
    "multi_model = multi_model()"
   ]
  },
  {
   "cell_type": "code",
   "execution_count": null,
   "metadata": {
    "collapsed": true
   },
   "outputs": [],
   "source": [
    "hide_code\n",
    "# Display the model architecture\n",
    "multi_model.summary()"
   ]
  },
  {
   "cell_type": "code",
   "execution_count": null,
   "metadata": {
    "collapsed": true
   },
   "outputs": [],
   "source": [
    "hide_code\n",
    "# Train the model\n",
    "multi_checkpointer = ModelCheckpoint(filepath='weights.best.multi.hdf5', \n",
    "                                     verbose=2, save_best_only=True)\n",
    "multi_history = multi_model.fit(x_train3, y_train3_list, \n",
    "                                validation_data=(x_test3, y_test3_list), \n",
    "                                epochs=50, batch_size=64, verbose=0, \n",
    "                                callbacks=[multi_checkpointer])"
   ]
  },
  {
   "cell_type": "markdown",
   "metadata": {},
   "source": [
    "We should have an accuracy greater than 3% for the first target (letter) and greater than 50% for the second target (background)."
   ]
  },
  {
   "cell_type": "code",
   "execution_count": null,
   "metadata": {
    "collapsed": true
   },
   "outputs": [],
   "source": [
    "hide_code\n",
    "# Load the model with the best validation accuracy\n",
    "multi_model.load_weights('weights.best.multi.hdf5')\n",
    "# Calculate classification accuracy on the testing set\n",
    "multi_scores = multi_model.evaluate(x_test3, y_test3_list, verbose=0)\n",
    "\n",
    "print(\"Scores: \\n\" , (multi_scores))\n",
    "print(\"First label. Accuracy: %.2f%%\" % (multi_scores[3]*100))\n",
    "print(\"Second label. Accuracy: %.2f%%\" % (multi_scores[4]*100))"
   ]
  },
  {
   "cell_type": "markdown",
   "metadata": {
    "collapsed": true
   },
   "source": [
    "### Grayscaled Images"
   ]
  },
  {
   "cell_type": "code",
   "execution_count": null,
   "metadata": {
    "collapsed": true
   },
   "outputs": [],
   "source": [
    "hide_code\n",
    "def gray_multi_model():    \n",
    "    model_input = Input(shape=(32, 32, 1))\n",
    "    x = BatchNormalization()(model_input)\n",
    "    # TODO: Define a model architecture\n",
    "    \n",
    "    y1 = Dense(13, activation='softmax')(x)\n",
    "    y2 = Dense(3, activation='softmax')(x)\n",
    "    \n",
    "   \n",
    "    model = Model(inputs=model_input, outputs=[y1, y2])\n",
    "    # TODO: Compile the model\n",
    "    return model\n",
    "\n",
    "gray_multi_model = gray_multi_model()"
   ]
  },
  {
   "cell_type": "code",
   "execution_count": null,
   "metadata": {
    "collapsed": true
   },
   "outputs": [],
   "source": [
    "hide_code\n",
    "# Train the model\n",
    "gray_multi_checkpointer = ModelCheckpoint(filepath='weights.best.gray_multi.hdf5', \n",
    "                                          verbose=2, save_best_only=True)\n",
    "gray_multi_history = gray_multi_model.fit(x_train4, y_train4_list, \n",
    "                                          validation_data=(x_test4, y_test4_list), \n",
    "                                          epochs=50, batch_size=64, verbose=0, \n",
    "                                          callbacks=[gray_multi_checkpointer])"
   ]
  },
  {
   "cell_type": "markdown",
   "metadata": {},
   "source": [
    "We should have an accuracy greater than 3% for the first target (letter) and 100% for the second target (background)."
   ]
  },
  {
   "cell_type": "code",
   "execution_count": null,
   "metadata": {
    "collapsed": true
   },
   "outputs": [],
   "source": [
    "hide_code\n",
    "# Load the model with the best validation accuracy\n",
    "gray_multi_model.load_weights('weights.best.gray_multi.hdf5')\n",
    "# Calculate classification accuracy on the testing set\n",
    "gray_multi_scores = gray_multi_model.evaluate(x_test4, y_test4_list, verbose=0)\n",
    "\n",
    "print(\"Scores: \\n\" , (gray_multi_scores))\n",
    "print(\"First label. Accuracy: %.2f%%\" % (gray_multi_scores[3]*100))\n",
    "print(\"Second label. Accuracy: %.2f%%\" % (gray_multi_scores[4]*100))"
   ]
  },
  {
   "cell_type": "markdown",
   "metadata": {},
   "source": [
    "## Step 6. Keras Applications\n",
    "Choose one of the keras applications and try to reach an accuracy greater than 30%\n",
    "### Color Images"
   ]
  },
  {
   "cell_type": "code",
   "execution_count": null,
   "metadata": {
    "collapsed": true
   },
   "outputs": [],
   "source": [
    "# Create bottleneck features\n",
    "resize_x_train = np.array([scipy.misc.imresize(x_train[i], (139, 139, 3)) \n",
    "                           for i in range(0, len(x_train))]).astype('float32')\n",
    "resize_x_test = np.array([scipy.misc.imresize(x_test[i], (139, 139, 3)) \n",
    "                          for i in range(0, len(x_test))]).astype('float32')\n",
    "iv3_x_train = preprocess_input(resize_x_train)\n",
    "iv3_x_test = preprocess_input(resize_x_test)\n",
    "iv3_base_model = InceptionV3(weights='imagenet', include_top=False)\n",
    "x_train_bn = iv3_base_model.predict(iv3_x_train)\n",
    "x_test_bn = iv3_base_model.predict(iv3_x_test)"
   ]
  },
  {
   "cell_type": "code",
   "execution_count": null,
   "metadata": {
    "collapsed": true
   },
   "outputs": [],
   "source": [
    "# Save bottleneck features\n",
    "x_train_bn = np.squeeze(x_train_bn)\n",
    "x_test_bn = np.squeeze(x_test_bn)\n",
    "np.save('x_train_bn.npy', x_train_bn)\n",
    "np.save('x_test_bn.npy', x_test_bn)"
   ]
  },
  {
   "cell_type": "code",
   "execution_count": null,
   "metadata": {
    "collapsed": true
   },
   "outputs": [],
   "source": [
    "# Load bottleneck features\n",
    "x_train_bn = np.load('x_train_bn.npy')\n",
    "x_test_bn = np.load('x_test_bn.npy')"
   ]
  },
  {
   "cell_type": "code",
   "execution_count": null,
   "metadata": {
    "collapsed": true
   },
   "outputs": [],
   "source": [
    "hide_code\n",
    "def iv3_model():\n",
    "    model = Sequential()\n",
    "    # TODO: Define a model architecture\n",
    "\n",
    "    # TODO: Compile the model     \n",
    "\n",
    "    return model\n",
    "\n",
    "iv3_model = iv3_model()"
   ]
  },
  {
   "cell_type": "code",
   "execution_count": null,
   "metadata": {
    "collapsed": true
   },
   "outputs": [],
   "source": [
    "hide_code\n",
    "# Fit the model \n",
    "iv3_checkpointer = ModelCheckpoint(filepath='weights.best.iv3.hdf5', \n",
    "                                     verbose=2, save_best_only=True)\n",
    "iv3_history = iv3_model.fit(x_train_bn, y_train, \n",
    "                            validation_data=(x_test_bn, y_test),\n",
    "                            epochs=50, batch_size=64, \n",
    "                            callbacks=[iv3_checkpointer], verbose=0);"
   ]
  },
  {
   "cell_type": "code",
   "execution_count": null,
   "metadata": {
    "collapsed": true
   },
   "outputs": [],
   "source": [
    "hide_code\n",
    "# Plot the training history\n",
    "history_plot(iv3_history, 0)"
   ]
  },
  {
   "cell_type": "code",
   "execution_count": null,
   "metadata": {
    "collapsed": true
   },
   "outputs": [],
   "source": [
    "hide_code\n",
    "# Load the model with the best validation accuracy\n",
    "iv3_model.load_weights('weights.best.iv3.hdf5')\n",
    "# Calculate classification accuracy on the testing set\n",
    "iv3_scores = iv3_model.evaluate(x_test_bn, y_test)\n",
    "print(\"Accuracy: %.2f%%\" % (iv3_scores[1]*100))\n",
    "iv3_scores"
   ]
  },
  {
   "cell_type": "markdown",
   "metadata": {},
   "source": [
    "### Grayscaled Images"
   ]
  },
  {
   "cell_type": "code",
   "execution_count": null,
   "metadata": {
    "collapsed": true
   },
   "outputs": [],
   "source": [
    "# Create bottleneck features\n",
    "resize_x_train2 = np.array([scipy.misc.imresize(x_train2_color[i], (139, 139, 3)) \n",
    "                            for i in range(0, len(x_train2_color))]).astype('float32')\n",
    "resize_x_test2 = np.array([scipy.misc.imresize(x_test2_color[i], (139, 139, 3)) \n",
    "                           for i in range(0, len(x_test2_color))]).astype('float32')\n",
    "iv3_x_train2 = preprocess_input(resize_x_train2)\n",
    "iv3_x_test2 = preprocess_input(resize_x_test2)\n",
    "iv3_base_model2 = InceptionV3(weights='imagenet', include_top=False)\n",
    "x_train_bn2 = iv3_base_model2.predict(iv3_x_train2)\n",
    "x_test_bn2 = iv3_base_model2.predict(iv3_x_test2)"
   ]
  },
  {
   "cell_type": "code",
   "execution_count": null,
   "metadata": {
    "collapsed": true
   },
   "outputs": [],
   "source": [
    "# Save bottleneck features\n",
    "x_train_bn2 = np.squeeze(x_train_bn2)\n",
    "x_test_bn2 = np.squeeze(x_test_bn2)\n",
    "np.save('x_train_bn2.npy', x_train_bn2)\n",
    "np.save('x_test_bn2.npy', x_test_bn2)"
   ]
  },
  {
   "cell_type": "code",
   "execution_count": null,
   "metadata": {
    "collapsed": true
   },
   "outputs": [],
   "source": [
    "# Load bottleneck features\n",
    "x_train_bn2 = np.load('x_train_bn2.npy')\n",
    "x_test_bn2 = np.load('x_test_bn2.npy')"
   ]
  },
  {
   "cell_type": "code",
   "execution_count": null,
   "metadata": {
    "collapsed": true
   },
   "outputs": [],
   "source": [
    "hide_code\n",
    "def iv3_gray_model():\n",
    "    model = Sequential()\n",
    "    # TODO: Define a model architecture\n",
    "\n",
    "    # TODO: Compile the model     \n",
    "\n",
    "    return model\n",
    "\n",
    "iv3_gray_model = iv3_gray_model()"
   ]
  },
  {
   "cell_type": "code",
   "execution_count": null,
   "metadata": {
    "collapsed": true
   },
   "outputs": [],
   "source": [
    "hide_code\n",
    "# Fit the model \n",
    "iv3_gray_checkpointer = ModelCheckpoint(filepath='weights.best.iv3_gray.hdf5', \n",
    "                                        verbose=2, save_best_only=True)\n",
    "iv3_gray_history = iv3_gray_model.fit(x_train_bn2, y_train2, \n",
    "                                      validation_data=(x_test_bn2, y_test2),\n",
    "                                      epochs=50, batch_size=64, \n",
    "                                      callbacks=[iv3_gray_checkpointer], verbose=0);"
   ]
  },
  {
   "cell_type": "code",
   "execution_count": null,
   "metadata": {
    "collapsed": true
   },
   "outputs": [],
   "source": [
    "hide_code\n",
    "# Plot the training history\n",
    "history_plot(iv3_gray_history, 0)"
   ]
  },
  {
   "cell_type": "code",
   "execution_count": null,
   "metadata": {
    "collapsed": true
   },
   "outputs": [],
   "source": [
    "hide_code\n",
    "# Load the model with the best validation accuracy\n",
    "iv3_gray_model.load_weights('weights.best.iv3_gray.hdf5')\n",
    "# Calculate classification accuracy on the testing set\n",
    "iv3_gray_scores = iv3_gray_model.evaluate(x_test_bn2, y_test2)\n",
    "print(\"Accuracy: %.2f%%\" % (iv3_gray_scores[1]*100))\n",
    "iv3_gray_scores"
   ]
  },
  {
   "cell_type": "markdown",
   "metadata": {},
   "source": [
    "## Step 7. Predictions\n",
    "Display predictions for the models with the best accuracy.\n",
    "### Color Images"
   ]
  },
  {
   "cell_type": "code",
   "execution_count": null,
   "metadata": {
    "collapsed": true
   },
   "outputs": [],
   "source": [
    "hide_code\n",
    "# Create a list of symbols\n",
    "symbols = ['а','б','в','г','д','е','ё','ж','з','и','й',\n",
    "           'к','л','м','н','о','п','р','с','т','у','ф',\n",
    "           'х','ц','ч','ш','щ','ъ','ы','ь','э','ю','я']"
   ]
  },
  {
   "cell_type": "code",
   "execution_count": null,
   "metadata": {
    "collapsed": true
   },
   "outputs": [],
   "source": [
    "hide_code\n",
    "# Model predictions for the testing dataset\n",
    "y_test_predict = iv3_model.predict_classes(x_test_bn)"
   ]
  },
  {
   "cell_type": "code",
   "execution_count": null,
   "metadata": {
    "collapsed": true
   },
   "outputs": [],
   "source": [
    "hide_code\n",
    "# Display true labels and predictions\n",
    "fig = plt.figure(figsize=(18, 18))\n",
    "for i, idx in enumerate(np.random.choice(x_test.shape[0], size=16, replace=False)):\n",
    "    ax = fig.add_subplot(4, 4, i + 1, xticks=[], yticks=[])\n",
    "    ax.imshow(np.squeeze(x_test[idx]))\n",
    "    pred_idx = y_test_predict[idx]\n",
    "    true_idx = np.argmax(y_test[idx])\n",
    "    ax.set_title(\"{} ({})\".format(symbols[pred_idx], symbols[true_idx]),\n",
    "                 color=(\"#4876ff\" if pred_idx == true_idx else \"darkred\"))"
   ]
  },
  {
   "cell_type": "markdown",
   "metadata": {},
   "source": [
    "### Grayscaled Images"
   ]
  },
  {
   "cell_type": "code",
   "execution_count": null,
   "metadata": {
    "collapsed": true
   },
   "outputs": [],
   "source": [
    "hide_code\n",
    "# Model predictions for the testing dataset\n",
    "y_test2_predict = gray_model.predict_classes(x_test2)"
   ]
  },
  {
   "cell_type": "code",
   "execution_count": null,
   "metadata": {
    "collapsed": true
   },
   "outputs": [],
   "source": [
    "hide_code\n",
    "# Display true labels and predictions\n",
    "fig = plt.figure(figsize=(18, 18))\n",
    "for i, idx in enumerate(np.random.choice(x_test2.shape[0], size=16, replace=False)):\n",
    "    ax = fig.add_subplot(4, 4, i + 1, xticks=[], yticks=[])\n",
    "    ax.imshow(np.squeeze(x_test2[idx]), cmap=cm.bone)\n",
    "    pred_idx = y_test2_predict[idx]\n",
    "    true_idx = np.argmax(y_test2[idx])\n",
    "    ax.set_title(\"{} ({})\".format(symbols[pred_idx], symbols[true_idx]),\n",
    "                 color=(\"#4876ff\" if pred_idx == true_idx else \"darkred\"))"
   ]
  }
 ],
 "metadata": {
  "kernelspec": {
   "display_name": "Python 3",
   "language": "python",
   "name": "python3"
  },
  "language_info": {
   "codemirror_mode": {
    "name": "ipython",
    "version": 3
   },
   "file_extension": ".py",
   "mimetype": "text/x-python",
   "name": "python",
   "nbconvert_exporter": "python",
   "pygments_lexer": "ipython3",
   "version": "3.6.1"
  }
 },
 "nbformat": 4,
 "nbformat_minor": 2
}
