{
 "cells": [
  {
   "cell_type": "markdown",
   "metadata": {},
   "source": [
    "# Deep Learning\n",
    "## Practice Projects\n",
    "# P2: Multi-Label Classification\n",
    "\n",
    "## Step 0. Style and Libraries\n",
    "Let's choose a style of the Jupyter notebook and import the software libraries. The command hide_code will hide the code cells."
   ]
  },
  {
   "cell_type": "code",
   "execution_count": 3,
   "metadata": {},
   "outputs": [
    {
     "data": {
      "text/html": [
       "<style>\n",
       "@import url('https://fonts.googleapis.com/css?family=Orbitron|Roboto');\n",
       "body {background-color: aliceblue;} \n",
       "a {color: #4876ff; font-family: 'Roboto';} \n",
       "h1 {color: #348ABD; font-family: 'Orbitron'; text-shadow: 4px 4px 4px #ccc;} \n",
       "h2, h3 {color: slategray; font-family: 'Roboto'; text-shadow: 4px 4px 4px #ccc;}\n",
       "h4 {color: #348ABD; font-family: 'Orbitron';}\n",
       "span {text-shadow: 4px 4px 4px #ccc;}\n",
       "div.output_prompt, div.output_area pre {color: slategray;}\n",
       "div.input_prompt, div.output_subarea {color: #4876ff;}      \n",
       "div.output_stderr pre {background-color: aliceblue;}  \n",
       "div.output_stderr {background-color: slategrey;}                        \n",
       "</style>\n",
       "<script>\n",
       "code_show = true; \n",
       "function code_display() {\n",
       "    if (code_show) {\n",
       "        $('div.input').each(function(id) {\n",
       "            if (id == 0 || $(this).html().indexOf('hide_code') > -1) {$(this).hide();}\n",
       "        });\n",
       "        $('div.output_prompt').css('opacity', 0);\n",
       "    } else {\n",
       "        $('div.input').each(function(id) {$(this).show();});\n",
       "        $('div.output_prompt').css('opacity', 1);\n",
       "    };\n",
       "    code_show = !code_show;\n",
       "} \n",
       "$(document).ready(code_display);\n",
       "</script>\n",
       "<form action=\"javascript: code_display()\">\n",
       "<input style=\"color: #348ABD; background: aliceblue; opacity: 0.8;\" \\ \n",
       "type=\"submit\" value=\"Click to display or hide code cells\">\n",
       "</form>                  "
      ],
      "text/plain": [
       "<IPython.core.display.HTML object>"
      ]
     },
     "metadata": {},
     "output_type": "display_data"
    }
   ],
   "source": [
    "%%html\n",
    "<style>\n",
    "@import url('https://fonts.googleapis.com/css?family=Orbitron|Roboto');\n",
    "body {background-color: aliceblue;} \n",
    "a {color: #4876ff; font-family: 'Roboto';} \n",
    "h1 {color: #348ABD; font-family: 'Orbitron'; text-shadow: 4px 4px 4px #ccc;} \n",
    "h2, h3 {color: slategray; font-family: 'Roboto'; text-shadow: 4px 4px 4px #ccc;}\n",
    "h4 {color: #348ABD; font-family: 'Orbitron';}\n",
    "span {text-shadow: 4px 4px 4px #ccc;}\n",
    "div.output_prompt, div.output_area pre {color: slategray;}\n",
    "div.input_prompt, div.output_subarea {color: #4876ff;}      \n",
    "div.output_stderr pre {background-color: aliceblue;}  \n",
    "div.output_stderr {background-color: slategrey;}                        \n",
    "</style>\n",
    "<script>\n",
    "code_show = true; \n",
    "function code_display() {\n",
    "    if (code_show) {\n",
    "        $('div.input').each(function(id) {\n",
    "            if (id == 0 || $(this).html().indexOf('hide_code') > -1) {$(this).hide();}\n",
    "        });\n",
    "        $('div.output_prompt').css('opacity', 0);\n",
    "    } else {\n",
    "        $('div.input').each(function(id) {$(this).show();});\n",
    "        $('div.output_prompt').css('opacity', 1);\n",
    "    };\n",
    "    code_show = !code_show;\n",
    "} \n",
    "$(document).ready(code_display);\n",
    "</script>\n",
    "<form action=\"javascript: code_display()\">\n",
    "<input style=\"color: #348ABD; background: aliceblue; opacity: 0.8;\" \\ \n",
    "type=\"submit\" value=\"Click to display or hide code cells\">\n",
    "</form>                  "
   ]
  },
  {
   "cell_type": "code",
   "execution_count": 4,
   "metadata": {},
   "outputs": [
    {
     "name": "stderr",
     "output_type": "stream",
     "text": [
      "Using TensorFlow backend.\n"
     ]
    }
   ],
   "source": [
    "hide_code = ''\n",
    "import numpy as np \n",
    "import pandas as pd\n",
    "import tensorflow as tf\n",
    "\n",
    "from PIL import ImageFile\n",
    "from tqdm import tqdm\n",
    "import h5py\n",
    "import cv2\n",
    "\n",
    "import matplotlib.pylab as plt\n",
    "from matplotlib import cm\n",
    "%matplotlib inline\n",
    "\n",
    "from sklearn.model_selection import train_test_split\n",
    "from sklearn.ensemble import GradientBoostingClassifier, RandomForestClassifier\n",
    "\n",
    "from keras.utils import to_categorical\n",
    "from keras.preprocessing import image as keras_image\n",
    "from keras.callbacks import ModelCheckpoint\n",
    "from keras.preprocessing.image import ImageDataGenerator\n",
    "\n",
    "from keras.models import Sequential, load_model, Model\n",
    "from keras.layers import Input, BatchNormalization\n",
    "from keras.layers import Dense, LSTM, GlobalAveragePooling1D, GlobalAveragePooling2D\n",
    "from keras.layers import Activation, Flatten, Dropout, BatchNormalization\n",
    "from keras.layers import Conv2D, MaxPooling2D, GlobalMaxPooling2D\n",
    "\n",
    "from keras.applications.inception_v3 import InceptionV3, preprocess_input\n",
    "import scipy\n",
    "from scipy import misc"
   ]
  },
  {
   "cell_type": "code",
   "execution_count": 5,
   "metadata": {
    "collapsed": true
   },
   "outputs": [],
   "source": [
    "hide_code\n",
    "# Plot the neural network fitting history\n",
    "def history_plot(fit_history, n):\n",
    "    plt.figure(figsize=(18, 12))\n",
    "    \n",
    "    plt.subplot(211)\n",
    "    plt.plot(fit_history.history['loss'][n:], color='slategray', label = 'train')\n",
    "    plt.plot(fit_history.history['val_loss'][n:], color='#4876ff', label = 'valid')\n",
    "    plt.xlabel(\"Epochs\")\n",
    "    plt.ylabel(\"Loss\")\n",
    "    plt.legend()\n",
    "    plt.title('Loss Function');  \n",
    "    \n",
    "    plt.subplot(212)\n",
    "    plt.plot(fit_history.history['acc'][n:], color='slategray', label = 'train')\n",
    "    plt.plot(fit_history.history['val_acc'][n:], color='#4876ff', label = 'valid')\n",
    "    plt.xlabel(\"Epochs\")\n",
    "    plt.ylabel(\"Accuracy\")    \n",
    "    plt.legend()\n",
    "    plt.title('Accuracy');"
   ]
  },
  {
   "cell_type": "markdown",
   "metadata": {},
   "source": [
    "# Step 1. Load and Explore the Data\n",
    "For this project, I have created the dataset of 5940 (180x33) color images (32x32x3) with 33 handwritten letters.\n",
    "Run the following cell to download the dataset."
   ]
  },
  {
   "cell_type": "code",
   "execution_count": 7,
   "metadata": {},
   "outputs": [
    {
     "name": "stderr",
     "output_type": "stream",
     "text": [
      "100%|██████████| 4860/4860 [01:26<00:00, 56.28it/s]\n"
     ]
    }
   ],
   "source": [
    "hide_code\n",
    "# Function for processing an image\n",
    "def image_to_tensor(img_path):\n",
    "    img = keras_image.load_img(\"data2/\" + img_path, target_size=(32, 32))\n",
    "    x = keras_image.img_to_array(img)\n",
    "    return np.expand_dims(x, axis=0)\n",
    "# Function for creating the data tensor\n",
    "def data_to_tensor(img_paths):\n",
    "    list_of_tensors = [image_to_tensor(img_path) for img_path in tqdm(img_paths)]\n",
    "    return np.vstack(list_of_tensors)\n",
    "\n",
    "ImageFile.LOAD_TRUNCATED_IMAGES = True \n",
    "# Load the data\n",
    "data = pd.read_csv(\"data2/letters2.csv\")\n",
    "files = data['file'][:4860]\n",
    "letters = data['letter'][:4860]\n",
    "backgrounds = data['background'][:4860]\n",
    "targets = data['label'][:4860].as_matrix()\n",
    "tensors = data_to_tensor(files);"
   ]
  },
  {
   "cell_type": "code",
   "execution_count": 8,
   "metadata": {},
   "outputs": [
    {
     "name": "stdout",
     "output_type": "stream",
     "text": [
      "Tensor shape: (4860, 32, 32, 3)\n",
      "Target shape (4860,)\n"
     ]
    }
   ],
   "source": [
    "hide_code\n",
    "# Print the shape \n",
    "print ('Tensor shape:', tensors.shape)\n",
    "print ('Target shape', targets.shape)"
   ]
  },
  {
   "cell_type": "code",
   "execution_count": 9,
   "metadata": {},
   "outputs": [
    {
     "data": {
      "image/png": "[encoded data removed]",
      "text/plain": [
       "<matplotlib.figure.Figure at 0x104846eb8>"
      ]
     },
     "metadata": {},
     "output_type": "display_data"
    }
   ],
   "source": [
    "hide_code\n",
    "# Read from files and display images using OpenCV\n",
    "def display_images(img_path, ax):\n",
    "    img = cv2.imread(\"data2/\" + img_path)\n",
    "    ax.imshow(cv2.cvtColor(img, cv2.COLOR_BGR2RGB))\n",
    "    \n",
    "fig = plt.figure(figsize=(18, 6))\n",
    "for i in range(12):\n",
    "    ax = fig.add_subplot(2, 6, i + 1, xticks=[], yticks=[], title=letters[i*180])\n",
    "    display_images(files[i*180], ax)"
   ]
  },
  {
   "cell_type": "markdown",
   "metadata": {},
   "source": [
    "## Step 2. Save and Load the Data¶\n",
    "The data tensors can be saved in the appropriate format of files .h5."
   ]
  },
  {
   "cell_type": "code",
   "execution_count": 10,
   "metadata": {
    "collapsed": true
   },
   "outputs": [],
   "source": [
    "hide_code\n",
    "# Create the tensor file\n",
    "with h5py.File('LetterColorImages2.h5', 'w') as f:\n",
    "    f.create_dataset('images', data = tensors)\n",
    "    f.create_dataset('labels', data = targets)\n",
    "    f.create_dataset('backgrounds', data = backgrounds)\n",
    "    f.close()"
   ]
  },
  {
   "cell_type": "code",
   "execution_count": 11,
   "metadata": {},
   "outputs": [
    {
     "data": {
      "text/plain": [
       "['backgrounds', 'images', 'labels']"
      ]
     },
     "execution_count": 11,
     "metadata": {},
     "output_type": "execute_result"
    }
   ],
   "source": [
    "hide_code\n",
    "# Read the h5 file\n",
    "f = h5py.File('LetterColorImages2.h5', 'r')\n",
    "\n",
    "# List all groups\n",
    "keys = list(f.keys())\n",
    "keys"
   ]
  },
  {
   "cell_type": "code",
   "execution_count": 12,
   "metadata": {},
   "outputs": [
    {
     "name": "stdout",
     "output_type": "stream",
     "text": [
      "Tensor shape: (4860, 32, 32, 3)\n",
      "Target shape (4860,)\n"
     ]
    }
   ],
   "source": [
    "hide_code\n",
    "# Create tensors and targets\n",
    "tensors = np.array(f[keys[1]])\n",
    "targets = np.array(f[keys[2]])\n",
    "print ('Tensor shape:', tensors.shape)\n",
    "print ('Target shape', targets.shape)"
   ]
  },
  {
   "cell_type": "markdown",
   "metadata": {},
   "source": [
    "## Step 3. Implement Preprocess Functions\n",
    "### Normalize and Gray Scale\n",
    "In the cell below, normalize the image tensors, and return them as a normalized Numpy array."
   ]
  },
  {
   "cell_type": "code",
   "execution_count": 13,
   "metadata": {
    "collapsed": true
   },
   "outputs": [],
   "source": [
    "hide_code\n",
    "# Normalize the tensors\n",
    "tensors = tensors.astype('float32')/255"
   ]
  },
  {
   "cell_type": "code",
   "execution_count": 14,
   "metadata": {},
   "outputs": [
    {
     "name": "stdout",
     "output_type": "stream",
     "text": [
      "Label:  е\n"
     ]
    },
    {
     "data": {
      "image/png": "[encoded data removed]",
      "text/plain": [
       "<matplotlib.figure.Figure at 0x12128ada0>"
      ]
     },
     "metadata": {},
     "output_type": "display_data"
    }
   ],
   "source": [
    "hide_code\n",
    "# Read and display a tensor using Matplotlib\n",
    "print('Label: ', letters[1000])\n",
    "plt.figure(figsize=(3,3))\n",
    "plt.imshow(tensors[1000]);"
   ]
  },
  {
   "cell_type": "markdown",
   "metadata": {},
   "source": [
    "Create tensors of grayscaled images and display their shape."
   ]
  },
  {
   "cell_type": "code",
   "execution_count": 15,
   "metadata": {},
   "outputs": [
    {
     "name": "stdout",
     "output_type": "stream",
     "text": [
      "Grayscaled Tensor shape: (4860, 32, 32)\n"
     ]
    }
   ],
   "source": [
    "hide_code\n",
    "# Grayscaled tensors\n",
    "gray_tensors = np.dot(tensors[...,:3], [0.299, 0.587, 0.114])\n",
    "print ('Grayscaled Tensor shape:', gray_tensors.shape)"
   ]
  },
  {
   "cell_type": "code",
   "execution_count": 16,
   "metadata": {},
   "outputs": [
    {
     "name": "stdout",
     "output_type": "stream",
     "text": [
      "Label:  е\n"
     ]
    },
    {
     "data": {
      "image/png": "[encoded data removed]",
      "text/plain": [
       "<matplotlib.figure.Figure at 0x12157b9e8>"
      ]
     },
     "metadata": {},
     "output_type": "display_data"
    }
   ],
   "source": [
    "hide_code\n",
    "# Read and display a grayscaled tensor using Matplotlib\n",
    "print('Label: ', letters[1000])\n",
    "plt.figure(figsize=(3,3))\n",
    "plt.imshow(gray_tensors[1000], cmap=cm.bone);"
   ]
  },
  {
   "cell_type": "markdown",
   "metadata": {},
   "source": [
    "### One-hot encode\n",
    "Now we'll implement the one-hot encoding function to_categorical."
   ]
  },
  {
   "cell_type": "code",
   "execution_count": 17,
   "metadata": {},
   "outputs": [
    {
     "name": "stdout",
     "output_type": "stream",
     "text": [
      "{1, 2, 3, 4, 5, 6, 7, 8, 9, 10, 11, 12, 13, 14, 15, 16, 17, 18, 19, 20, 21, 22, 23, 24, 25, 26, 27}\n"
     ]
    }
   ],
   "source": [
    "hide_code\n",
    "# Print the target unique values\n",
    "print(set(targets))"
   ]
  },
  {
   "cell_type": "code",
   "execution_count": 19,
   "metadata": {},
   "outputs": [
    {
     "data": {
      "text/plain": [
       "(4860, 27)"
      ]
     },
     "execution_count": 19,
     "metadata": {},
     "output_type": "execute_result"
    }
   ],
   "source": [
    "hide_code\n",
    "# One-hot encode the targets, started from the zero label\n",
    "cat_targets = to_categorical(np.array(targets-1), 27)\n",
    "cat_targets.shape"
   ]
  },
  {
   "cell_type": "code",
   "execution_count": 20,
   "metadata": {},
   "outputs": [
    {
     "data": {
      "text/plain": [
       "(4860, 3)"
      ]
     },
     "execution_count": 20,
     "metadata": {},
     "output_type": "execute_result"
    }
   ],
   "source": [
    "hide_code\n",
    "# One-hot encode the background targets\n",
    "backgrounds = to_categorical(backgrounds)\n",
    "backgrounds.shape"
   ]
  },
  {
   "cell_type": "markdown",
   "metadata": {},
   "source": [
    "### Add background"
   ]
  },
  {
   "cell_type": "code",
   "execution_count": 29,
   "metadata": {},
   "outputs": [
    {
     "data": {
      "text/plain": [
       "(4860, 30)"
      ]
     },
     "execution_count": 29,
     "metadata": {},
     "output_type": "execute_result"
    }
   ],
   "source": [
    "hide_code\n",
    "# Create multi-label targets\n",
    "back_targets = np.concatenate((cat_targets, backgrounds), axis=1)\n",
    "back_targets.shape"
   ]
  },
  {
   "cell_type": "markdown",
   "metadata": {},
   "source": [
    "### Split\n",
    "#### Color Images\n",
    "Apply the function train_test_split and split the data into training and testing sets. Set up the size of the testing set - 20%."
   ]
  },
  {
   "cell_type": "code",
   "execution_count": 21,
   "metadata": {
    "collapsed": true
   },
   "outputs": [],
   "source": [
    "hide_code\n",
    "# Split the data\n",
    "x_train, x_test, y_train, y_test = train_test_split(tensors, cat_targets, \n",
    "                                                    test_size = 0.2, \n",
    "                                                    random_state = 1)"
   ]
  },
  {
   "cell_type": "code",
   "execution_count": 22,
   "metadata": {},
   "outputs": [
    {
     "name": "stdout",
     "output_type": "stream",
     "text": [
      "Training tensor's shape: (3888, 32, 32, 3)\n",
      "Training target's shape (3888, 27)\n",
      "Testing tensor's shape: (972, 32, 32, 3)\n",
      "Testing target's shape (972, 27)\n"
     ]
    }
   ],
   "source": [
    "hide_code\n",
    "# Print the shape\n",
    "print (\"Training tensor's shape:\", x_train.shape)\n",
    "print (\"Training target's shape\", y_train.shape)\n",
    "print (\"Testing tensor's shape:\", x_test.shape)\n",
    "print (\"Testing target's shape\", y_test.shape)"
   ]
  },
  {
   "cell_type": "markdown",
   "metadata": {},
   "source": [
    "#### Grayscaled Images"
   ]
  },
  {
   "cell_type": "code",
   "execution_count": 23,
   "metadata": {
    "collapsed": true
   },
   "outputs": [],
   "source": [
    "hide_code\n",
    "# Split the grayscaled data\n",
    "x_train2, x_test2, y_train2, y_test2 = train_test_split(gray_tensors, cat_targets, \n",
    "                                                        test_size = 0.2, \n",
    "                                                        random_state = 1)"
   ]
  },
  {
   "cell_type": "code",
   "execution_count": 24,
   "metadata": {
    "collapsed": true
   },
   "outputs": [],
   "source": [
    "hide_code\n",
    "# Reshape the grayscaled data\n",
    "x_train2, x_test2 = x_train2.reshape(-1, 32, 32, 1), x_test2.reshape(-1, 32, 32, 1)"
   ]
  },
  {
   "cell_type": "code",
   "execution_count": 25,
   "metadata": {},
   "outputs": [
    {
     "name": "stdout",
     "output_type": "stream",
     "text": [
      "Training grayscaled tensor's shape: (3888, 32, 32, 1)\n",
      "Training grayscaled target's shape (3888, 27)\n",
      "Testing grayscaled tensor's shape: (972, 32, 32, 1)\n",
      "Testing grayscaled target's shape (972, 27)\n"
     ]
    }
   ],
   "source": [
    "hide_code\n",
    "# Print the shape\n",
    "print (\"Training grayscaled tensor's shape:\", x_train2.shape)\n",
    "print (\"Training grayscaled target's shape\", y_train2.shape)\n",
    "print (\"Testing grayscaled tensor's shape:\", x_test2.shape)\n",
    "print (\"Testing grayscaled target's shape\", y_test2.shape)"
   ]
  },
  {
   "cell_type": "code",
   "execution_count": 26,
   "metadata": {},
   "outputs": [
    {
     "data": {
      "text/plain": [
       "((3888, 32, 32, 3), (972, 32, 32, 3))"
      ]
     },
     "execution_count": 26,
     "metadata": {},
     "output_type": "execute_result"
    }
   ],
   "source": [
    "hide_code\n",
    "# Convert images from grayscaled to RGB\n",
    "x_train2_tensor = tf.image.grayscale_to_rgb(x_train2, name=None)\n",
    "x_test2_tensor = tf.image.grayscale_to_rgb(x_test2, name=None)\n",
    "# Run tensorflow session\n",
    "sess = tf.Session()\n",
    "with sess.as_default():\n",
    "    x_train2_color = x_train2_tensor.eval()\n",
    "    x_test2_color = x_test2_tensor.eval()\n",
    "# Check the shape    \n",
    "x_train2_color.shape, x_test2_color.shape"
   ]
  },
  {
   "cell_type": "markdown",
   "metadata": {},
   "source": [
    "#### Multi-label targets, color images"
   ]
  },
  {
   "cell_type": "code",
   "execution_count": 30,
   "metadata": {},
   "outputs": [],
   "source": [
    "hide_code\n",
    "# Split with multi-label targets\n",
    "x_train3, x_test3, y_train3, y_test3 = train_test_split(tensors, back_targets, \n",
    "                                                        test_size = 0.2, \n",
    "                                                        random_state = 1)"
   ]
  },
  {
   "cell_type": "code",
   "execution_count": 31,
   "metadata": {},
   "outputs": [
    {
     "name": "stdout",
     "output_type": "stream",
     "text": [
      "Training tensor's shape: (3888, 32, 32, 3)\n",
      "Training target's shape (3888, 30)\n",
      "Testing tensor's shape: (972, 32, 32, 3)\n",
      "Testing target's shape (972, 30)\n"
     ]
    }
   ],
   "source": [
    "hide_code\n",
    "# Print the shape\n",
    "print (\"Training tensor's shape:\", x_train3.shape)\n",
    "print (\"Training target's shape\", y_train3.shape)\n",
    "print (\"Testing tensor's shape:\", x_test3.shape)\n",
    "print (\"Testing target's shape\", y_test3.shape)"
   ]
  },
  {
   "cell_type": "code",
   "execution_count": 32,
   "metadata": {},
   "outputs": [],
   "source": [
    "hide_code\n",
    "# Create a list of targets\n",
    "y_train3_list = [y_train3[:, :27], y_train3[:, 27:]]\n",
    "y_test3_list = [y_test3[:, :27], y_test3[:, 27:]]"
   ]
  },
  {
   "cell_type": "markdown",
   "metadata": {},
   "source": [
    "#### Multi-label targets, grayscaled images"
   ]
  },
  {
   "cell_type": "code",
   "execution_count": 33,
   "metadata": {
    "collapsed": true
   },
   "outputs": [],
   "source": [
    "hide_code\n",
    "# Split the grayscaled data\n",
    "x_train4, x_test4, y_train4, y_test4 = train_test_split(gray_tensors, back_targets, \n",
    "                                                        test_size = 0.2, \n",
    "                                                        random_state = 1)"
   ]
  },
  {
   "cell_type": "code",
   "execution_count": 34,
   "metadata": {
    "collapsed": true
   },
   "outputs": [],
   "source": [
    "hide_code\n",
    "# Reshape the grayscaled data\n",
    "x_train4, x_test4 = x_train4.reshape(-1, 32, 32, 1), x_test4.reshape(-1, 32, 32, 1)"
   ]
  },
  {
   "cell_type": "code",
   "execution_count": 35,
   "metadata": {},
   "outputs": [
    {
     "name": "stdout",
     "output_type": "stream",
     "text": [
      "Training grayscaled tensor's shape: (3888, 32, 32, 1)\n",
      "Training grayscaled target's shape (3888, 30)\n",
      "Testing grayscaled tensor's shape: (972, 32, 32, 1)\n",
      "Testing grayscaled target's shape (972, 30)\n"
     ]
    }
   ],
   "source": [
    "hide_code\n",
    "# Print the shape\n",
    "print (\"Training grayscaled tensor's shape:\", x_train4.shape)\n",
    "print (\"Training grayscaled target's shape\", y_train4.shape)\n",
    "print (\"Testing grayscaled tensor's shape:\", x_test4.shape)\n",
    "print (\"Testing grayscaled target's shape\", y_test4.shape)"
   ]
  },
  {
   "cell_type": "code",
   "execution_count": 36,
   "metadata": {
    "collapsed": true
   },
   "outputs": [],
   "source": [
    "hide_code\n",
    "# Create a list of targets\n",
    "y_train4_list = [y_train4[:, :27], y_train4[:, 27:]]\n",
    "y_test4_list = [y_test4[:, :27], y_test4[:, 27:]]"
   ]
  },
  {
   "cell_type": "markdown",
   "metadata": {},
   "source": [
    "## Step 4. Create a One-Label Classification Model\n",
    "### Color Images\n",
    "Define a model architecture and compile the model for color images."
   ]
  },
  {
   "cell_type": "code",
   "execution_count": 37,
   "metadata": {
    "collapsed": true
   },
   "outputs": [],
   "source": [
    "hide_code\n",
    "def model():\n",
    "    model = Sequential()\n",
    "    # TODO: Define a model architecture\n",
    "\n",
    "    model.add(Conv2D(32, (5, 5), padding='same', input_shape=x_train.shape[1:]))\n",
    "    model.add(Activation('relu'))    \n",
    "    model.add(MaxPooling2D(pool_size=(2, 2)))\n",
    "    model.add(Dropout(0.25))\n",
    "\n",
    "    model.add(Conv2D(128, (5, 5)))\n",
    "    model.add(Activation('relu'))    \n",
    "    model.add(MaxPooling2D(pool_size=(2, 2)))\n",
    "    model.add(Dropout(0.25))\n",
    "    \n",
    "    model.add(GlobalMaxPooling2D()) \n",
    "    \n",
    "    model.add(Dense(512, activation='relu'))\n",
    "    model.add(Dropout(0.25)) \n",
    "    \n",
    "#    model.add(Dense(128, activation='relu'))\n",
    "#    model.add(Dropout(0.25))    \n",
    "\n",
    "    model.add(Dense(27))\n",
    "    model.add(Activation('softmax'))\n",
    "    \n",
    "    # TODO: Compile the model\n",
    "    model.compile(loss='categorical_crossentropy', optimizer='nadam', metrics=['accuracy'])\n",
    "    \n",
    "    return model\n",
    "\n",
    "model = model()"
   ]
  },
  {
   "cell_type": "code",
   "execution_count": 38,
   "metadata": {},
   "outputs": [
    {
     "name": "stdout",
     "output_type": "stream",
     "text": [
      "Train on 3888 samples, validate on 972 samples\n",
      "Epoch 1/15\n",
      "Epoch 00000: val_loss improved from inf to 3.27055, saving model to weights.best.model.hdf5\n",
      "29s - loss: 3.2927 - acc: 0.0406 - val_loss: 3.2705 - val_acc: 0.0473\n",
      "Epoch 2/15\n",
      "Epoch 00001: val_loss improved from 3.27055 to 3.24393, saving model to weights.best.model.hdf5\n",
      "20s - loss: 3.2308 - acc: 0.0615 - val_loss: 3.2439 - val_acc: 0.0442\n",
      "Epoch 3/15\n",
      "Epoch 00002: val_loss improved from 3.24393 to 3.20170, saving model to weights.best.model.hdf5\n",
      "20s - loss: 3.1437 - acc: 0.0710 - val_loss: 3.2017 - val_acc: 0.0669\n",
      "Epoch 4/15\n",
      "Epoch 00003: val_loss improved from 3.20170 to 3.12005, saving model to weights.best.model.hdf5\n",
      "20s - loss: 3.0548 - acc: 0.0784 - val_loss: 3.1200 - val_acc: 0.0638\n",
      "Epoch 5/15\n",
      "Epoch 00004: val_loss did not improve\n",
      "20s - loss: 3.0143 - acc: 0.0869 - val_loss: 3.2725 - val_acc: 0.0607\n",
      "Epoch 6/15\n",
      "Epoch 00005: val_loss did not improve\n",
      "19s - loss: 2.9733 - acc: 0.0993 - val_loss: 3.1591 - val_acc: 0.0967\n",
      "Epoch 7/15\n",
      "Epoch 00006: val_loss did not improve\n",
      "19s - loss: 2.9477 - acc: 0.1080 - val_loss: 3.5182 - val_acc: 0.0391\n",
      "Epoch 8/15\n",
      "Epoch 00007: val_loss did not improve\n",
      "20s - loss: 2.9284 - acc: 0.1173 - val_loss: 3.2074 - val_acc: 0.0926\n",
      "Epoch 9/15\n",
      "Epoch 00008: val_loss improved from 3.12005 to 3.07252, saving model to weights.best.model.hdf5\n",
      "20s - loss: 2.9138 - acc: 0.1121 - val_loss: 3.0725 - val_acc: 0.1080\n",
      "Epoch 10/15\n",
      "Epoch 00009: val_loss improved from 3.07252 to 3.03605, saving model to weights.best.model.hdf5\n",
      "20s - loss: 2.8994 - acc: 0.1209 - val_loss: 3.0360 - val_acc: 0.0936\n",
      "Epoch 11/15\n",
      "Epoch 00010: val_loss did not improve\n",
      "20s - loss: 2.8751 - acc: 0.1224 - val_loss: 3.1433 - val_acc: 0.1008\n",
      "Epoch 12/15\n",
      "Epoch 00011: val_loss did not improve\n",
      "20s - loss: 2.8606 - acc: 0.1301 - val_loss: 3.1230 - val_acc: 0.0864\n",
      "Epoch 13/15\n",
      "Epoch 00012: val_loss improved from 3.03605 to 3.02040, saving model to weights.best.model.hdf5\n",
      "20s - loss: 2.8423 - acc: 0.1175 - val_loss: 3.0204 - val_acc: 0.1224\n",
      "Epoch 14/15\n",
      "Epoch 00013: val_loss improved from 3.02040 to 3.01699, saving model to weights.best.model.hdf5\n",
      "19s - loss: 2.8104 - acc: 0.1332 - val_loss: 3.0170 - val_acc: 0.1224\n",
      "Epoch 15/15\n",
      "Epoch 00014: val_loss did not improve\n",
      "20s - loss: 2.8165 - acc: 0.1422 - val_loss: 3.0276 - val_acc: 0.1389\n"
     ]
    }
   ],
   "source": [
    "hide_code\n",
    "# Train the model\n",
    "checkpointer = ModelCheckpoint(filepath='weights.best.model.hdf5', \n",
    "                               verbose=2, save_best_only=True)\n",
    "history = model.fit(x_train, y_train, \n",
    "                    epochs=15, batch_size=64, verbose=2,\n",
    "                    validation_data=(x_test, y_test),\n",
    "                    callbacks=[checkpointer])"
   ]
  },
  {
   "cell_type": "markdown",
   "metadata": {},
   "source": [
    "We should have an accuracy greater than 4%"
   ]
  },
  {
   "cell_type": "code",
   "execution_count": 39,
   "metadata": {},
   "outputs": [
    {
     "name": "stdout",
     "output_type": "stream",
     "text": [
      "960/972 [============================>.] - ETA: 0s"
     ]
    },
    {
     "data": {
      "text/plain": [
       "[3.0169896167001609, 0.12242798356975547]"
      ]
     },
     "execution_count": 39,
     "metadata": {},
     "output_type": "execute_result"
    }
   ],
   "source": [
    "hide_code\n",
    "# Load the model with the best validation accuracy\n",
    "model.load_weights('weights.best.model.hdf5')\n",
    "# Calculate classification accuracy on the testing set\n",
    "score = model.evaluate(x_test, y_test)\n",
    "score"
   ]
  },
  {
   "cell_type": "markdown",
   "metadata": {},
   "source": [
    "Apply the ImageDataGenerator() function."
   ]
  },
  {
   "cell_type": "code",
   "execution_count": 40,
   "metadata": {},
   "outputs": [
    {
     "name": "stdout",
     "output_type": "stream",
     "text": [
      "Epoch 1/10\n",
      "Epoch 00000: val_loss improved from 3.01699 to 2.77553, saving model to weights.best.model.hdf5\n",
      "324s - loss: 2.7306 - acc: 0.1506 - val_loss: 2.7755 - val_acc: 0.1770\n",
      "Epoch 2/10\n",
      "Epoch 00001: val_loss improved from 2.77553 to 2.76238, saving model to weights.best.model.hdf5\n",
      "361s - loss: 2.5610 - acc: 0.1946 - val_loss: 2.7624 - val_acc: 0.1955\n",
      "Epoch 3/10\n",
      "Epoch 00002: val_loss improved from 2.76238 to 2.65842, saving model to weights.best.model.hdf5\n",
      "327s - loss: 2.3422 - acc: 0.2545 - val_loss: 2.6584 - val_acc: 0.2171\n",
      "Epoch 4/10\n",
      "Epoch 00003: val_loss improved from 2.65842 to 2.25611, saving model to weights.best.model.hdf5\n",
      "352s - loss: 2.0948 - acc: 0.3287 - val_loss: 2.2561 - val_acc: 0.3148\n",
      "Epoch 5/10\n",
      "Epoch 00004: val_loss improved from 2.25611 to 1.70467, saving model to weights.best.model.hdf5\n",
      "358s - loss: 1.8458 - acc: 0.4064 - val_loss: 1.7047 - val_acc: 0.4691\n",
      "Epoch 6/10\n",
      "Epoch 00005: val_loss improved from 1.70467 to 1.49180, saving model to weights.best.model.hdf5\n",
      "313s - loss: 1.6198 - acc: 0.4766 - val_loss: 1.4918 - val_acc: 0.5473\n",
      "Epoch 7/10\n",
      "Epoch 00006: val_loss did not improve\n",
      "312s - loss: 1.4381 - acc: 0.5344 - val_loss: 1.5019 - val_acc: 0.5473\n",
      "Epoch 8/10\n",
      "Epoch 00007: val_loss did not improve\n",
      "311s - loss: 1.3095 - acc: 0.5748 - val_loss: 1.5350 - val_acc: 0.5298\n",
      "Epoch 9/10\n",
      "Epoch 00008: val_loss improved from 1.49180 to 1.21406, saving model to weights.best.model.hdf5\n",
      "314s - loss: 1.2188 - acc: 0.6049 - val_loss: 1.2141 - val_acc: 0.6358\n",
      "Epoch 10/10\n",
      "Epoch 00009: val_loss did not improve\n",
      "312s - loss: 1.1340 - acc: 0.6316 - val_loss: 1.3687 - val_acc: 0.5926\n"
     ]
    }
   ],
   "source": [
    "hide_code\n",
    "# Fit the model with ImageDataGenerator()\n",
    "# TODO: Define parameters\n",
    "steps, epochs = 1000, 10\n",
    "data_generator = ImageDataGenerator(zoom_range=0.2, shear_range=0.2, rotation_range=20)\n",
    "\n",
    "generator = model.fit_generator(data_generator.flow(x_train, y_train, batch_size=64),\n",
    "                                steps_per_epoch = steps, epochs = epochs,\n",
    "                                validation_data = (x_test, y_test), \n",
    "                                callbacks=[checkpointer], verbose=2)"
   ]
  },
  {
   "cell_type": "code",
   "execution_count": 41,
   "metadata": {},
   "outputs": [
    {
     "name": "stdout",
     "output_type": "stream",
     "text": [
      "960/972 [============================>.] - ETA: 0s"
     ]
    },
    {
     "data": {
      "text/plain": [
       "[1.2140580214590693, 0.63580246901315918]"
      ]
     },
     "execution_count": 41,
     "metadata": {},
     "output_type": "execute_result"
    }
   ],
   "source": [
    "hide_code\n",
    "# Load the model with the best validation accuracy\n",
    "model.load_weights('weights.best.model.hdf5')\n",
    "# Calculate classification accuracy on the testing set\n",
    "score = model.evaluate(x_test, y_test)\n",
    "score"
   ]
  },
  {
   "cell_type": "markdown",
   "metadata": {},
   "source": [
    "Let's compare the results with classifying algorithms."
   ]
  },
  {
   "cell_type": "code",
   "execution_count": 42,
   "metadata": {},
   "outputs": [
    {
     "data": {
      "text/plain": [
       "0.32818930041152261"
      ]
     },
     "execution_count": 42,
     "metadata": {},
     "output_type": "execute_result"
    }
   ],
   "source": [
    "hide_code\n",
    "# Fit the classifier and get the accuracy score\n",
    "y_train_c = np.array([np.argmax(y) for y in y_train])\n",
    "y_test_c = np.array([np.argmax(y) for y in y_test])\n",
    "clf = GradientBoostingClassifier().fit(x_train.reshape(-1, 32*32*3), y_train_c)\n",
    "clf.score(x_test.reshape(-1, 32*32*3), y_test_c)"
   ]
  },
  {
   "cell_type": "code",
   "execution_count": 43,
   "metadata": {},
   "outputs": [
    {
     "data": {
      "text/plain": [
       "0.23353909465020575"
      ]
     },
     "execution_count": 43,
     "metadata": {},
     "output_type": "execute_result"
    }
   ],
   "source": [
    "hide_code\n",
    "# Fit the classifier and get the accuracy score\n",
    "clf2 = RandomForestClassifier().fit(x_train.reshape(-1, 32*32*3), y_train_c)\n",
    "clf2.score(x_test.reshape(-1, 32*32*3), y_test_c)"
   ]
  },
  {
   "cell_type": "markdown",
   "metadata": {},
   "source": [
    "### Grayscaled Images"
   ]
  },
  {
   "cell_type": "code",
   "execution_count": 44,
   "metadata": {
    "collapsed": true
   },
   "outputs": [],
   "source": [
    "hide_code\n",
    "def gray_model():\n",
    "    model = Sequential()\n",
    "    \n",
    "    # TODO: Define a model architecture\n",
    "    model.add(Conv2D(32, (5, 5), padding='same', input_shape=x_train2.shape[1:]))\n",
    "    model.add(Activation('relu'))    \n",
    "    model.add(MaxPooling2D(pool_size=(2, 2)))\n",
    "    model.add(Dropout(0.25))\n",
    "\n",
    "    model.add(Conv2D(256, (5, 5)))\n",
    "    model.add(Activation('relu'))    \n",
    "    model.add(MaxPooling2D(pool_size=(2, 2)))\n",
    "    model.add(Dropout(0.25))\n",
    "    \n",
    "    model.add(GlobalMaxPooling2D()) \n",
    "    \n",
    "    model.add(Dense(1024, activation='relu'))\n",
    "    model.add(Dropout(0.25)) \n",
    "    \n",
    "    model.add(Dense(256, activation='relu'))\n",
    "    model.add(Dropout(0.25))    \n",
    "\n",
    "    model.add(Dense(27))\n",
    "    model.add(Activation('softmax'))\n",
    "    \n",
    "    # TODO: Compile the model\n",
    "    model.compile(loss='categorical_crossentropy', optimizer='rmsprop', metrics=['accuracy'])\n",
    "    return model\n",
    "\n",
    "gray_model = gray_model()"
   ]
  },
  {
   "cell_type": "code",
   "execution_count": 45,
   "metadata": {},
   "outputs": [
    {
     "name": "stdout",
     "output_type": "stream",
     "text": [
      "Epoch 00000: val_loss improved from inf to 3.29371, saving model to weights.best.gray_model.hdf5\n",
      "Epoch 00001: val_loss improved from 3.29371 to 3.24397, saving model to weights.best.gray_model.hdf5\n",
      "Epoch 00002: val_loss improved from 3.24397 to 3.19331, saving model to weights.best.gray_model.hdf5\n",
      "Epoch 00003: val_loss improved from 3.19331 to 3.17161, saving model to weights.best.gray_model.hdf5\n",
      "Epoch 00004: val_loss improved from 3.17161 to 3.15010, saving model to weights.best.gray_model.hdf5\n",
      "Epoch 00005: val_loss did not improve\n",
      "Epoch 00006: val_loss did not improve\n",
      "Epoch 00007: val_loss improved from 3.15010 to 3.13260, saving model to weights.best.gray_model.hdf5\n",
      "Epoch 00008: val_loss improved from 3.13260 to 3.03465, saving model to weights.best.gray_model.hdf5\n",
      "Epoch 00009: val_loss did not improve\n",
      "Epoch 00010: val_loss improved from 3.03465 to 2.97832, saving model to weights.best.gray_model.hdf5\n",
      "Epoch 00011: val_loss did not improve\n",
      "Epoch 00012: val_loss improved from 2.97832 to 2.88787, saving model to weights.best.gray_model.hdf5\n",
      "Epoch 00013: val_loss improved from 2.88787 to 2.79526, saving model to weights.best.gray_model.hdf5\n",
      "Epoch 00014: val_loss improved from 2.79526 to 2.75058, saving model to weights.best.gray_model.hdf5\n",
      "Epoch 00015: val_loss improved from 2.75058 to 2.73822, saving model to weights.best.gray_model.hdf5\n",
      "Epoch 00016: val_loss improved from 2.73822 to 2.68175, saving model to weights.best.gray_model.hdf5\n",
      "Epoch 00017: val_loss improved from 2.68175 to 2.19152, saving model to weights.best.gray_model.hdf5\n",
      "Epoch 00018: val_loss did not improve\n",
      "Epoch 00019: val_loss improved from 2.19152 to 1.89096, saving model to weights.best.gray_model.hdf5\n",
      "Epoch 00020: val_loss did not improve\n",
      "Epoch 00021: val_loss improved from 1.89096 to 1.84992, saving model to weights.best.gray_model.hdf5\n",
      "Epoch 00022: val_loss improved from 1.84992 to 1.76762, saving model to weights.best.gray_model.hdf5\n",
      "Epoch 00023: val_loss improved from 1.76762 to 1.68480, saving model to weights.best.gray_model.hdf5\n",
      "Epoch 00024: val_loss did not improve\n",
      "Epoch 00025: val_loss did not improve\n",
      "Epoch 00026: val_loss improved from 1.68480 to 1.32672, saving model to weights.best.gray_model.hdf5\n",
      "Epoch 00027: val_loss did not improve\n",
      "Epoch 00028: val_loss did not improve\n",
      "Epoch 00029: val_loss did not improve\n",
      "Epoch 00030: val_loss improved from 1.32672 to 1.28924, saving model to weights.best.gray_model.hdf5\n",
      "Epoch 00031: val_loss improved from 1.28924 to 1.07261, saving model to weights.best.gray_model.hdf5\n",
      "Epoch 00032: val_loss did not improve\n",
      "Epoch 00033: val_loss did not improve\n",
      "Epoch 00034: val_loss improved from 1.07261 to 0.99638, saving model to weights.best.gray_model.hdf5\n",
      "Epoch 00035: val_loss did not improve\n",
      "Epoch 00036: val_loss did not improve\n",
      "Epoch 00037: val_loss improved from 0.99638 to 0.98771, saving model to weights.best.gray_model.hdf5\n",
      "Epoch 00038: val_loss improved from 0.98771 to 0.88623, saving model to weights.best.gray_model.hdf5\n",
      "Epoch 00039: val_loss did not improve\n",
      "Epoch 00040: val_loss did not improve\n",
      "Epoch 00041: val_loss improved from 0.88623 to 0.77005, saving model to weights.best.gray_model.hdf5\n",
      "Epoch 00042: val_loss improved from 0.77005 to 0.73501, saving model to weights.best.gray_model.hdf5\n",
      "Epoch 00043: val_loss did not improve\n",
      "Epoch 00044: val_loss did not improve\n",
      "Epoch 00045: val_loss did not improve\n",
      "Epoch 00046: val_loss did not improve\n",
      "Epoch 00047: val_loss did not improve\n",
      "Epoch 00048: val_loss did not improve\n",
      "Epoch 00049: val_loss did not improve\n",
      "Epoch 00050: val_loss did not improve\n",
      "Epoch 00051: val_loss did not improve\n",
      "Epoch 00052: val_loss improved from 0.73501 to 0.60244, saving model to weights.best.gray_model.hdf5\n",
      "Epoch 00053: val_loss did not improve\n",
      "Epoch 00054: val_loss did not improve\n",
      "Epoch 00055: val_loss did not improve\n",
      "Epoch 00056: val_loss did not improve\n",
      "Epoch 00057: val_loss did not improve\n",
      "Epoch 00058: val_loss did not improve\n",
      "Epoch 00059: val_loss improved from 0.60244 to 0.54640, saving model to weights.best.gray_model.hdf5\n",
      "Epoch 00060: val_loss did not improve\n",
      "Epoch 00061: val_loss did not improve\n",
      "Epoch 00062: val_loss did not improve\n",
      "Epoch 00063: val_loss improved from 0.54640 to 0.48305, saving model to weights.best.gray_model.hdf5\n",
      "Epoch 00064: val_loss did not improve\n",
      "Epoch 00065: val_loss did not improve\n",
      "Epoch 00066: val_loss did not improve\n",
      "Epoch 00067: val_loss did not improve\n",
      "Epoch 00068: val_loss did not improve\n",
      "Epoch 00069: val_loss did not improve\n",
      "Epoch 00070: val_loss did not improve\n",
      "Epoch 00071: val_loss did not improve\n",
      "Epoch 00072: val_loss did not improve\n",
      "Epoch 00073: val_loss did not improve\n",
      "Epoch 00074: val_loss did not improve\n",
      "Epoch 00075: val_loss did not improve\n",
      "Epoch 00076: val_loss did not improve\n",
      "Epoch 00077: val_loss did not improve\n",
      "Epoch 00078: val_loss did not improve\n",
      "Epoch 00079: val_loss did not improve\n",
      "Epoch 00080: val_loss did not improve\n",
      "Epoch 00081: val_loss improved from 0.48305 to 0.46811, saving model to weights.best.gray_model.hdf5\n",
      "Epoch 00082: val_loss did not improve\n",
      "Epoch 00083: val_loss did not improve\n",
      "Epoch 00084: val_loss did not improve\n",
      "Epoch 00085: val_loss did not improve\n",
      "Epoch 00086: val_loss did not improve\n",
      "Epoch 00087: val_loss did not improve\n",
      "Epoch 00088: val_loss did not improve\n",
      "Epoch 00089: val_loss did not improve\n",
      "Epoch 00090: val_loss did not improve\n",
      "Epoch 00091: val_loss did not improve\n",
      "Epoch 00092: val_loss did not improve\n",
      "Epoch 00093: val_loss did not improve\n",
      "Epoch 00094: val_loss did not improve\n",
      "Epoch 00095: val_loss improved from 0.46811 to 0.46050, saving model to weights.best.gray_model.hdf5\n",
      "Epoch 00096: val_loss did not improve\n",
      "Epoch 00097: val_loss did not improve\n",
      "Epoch 00098: val_loss did not improve\n",
      "Epoch 00099: val_loss improved from 0.46050 to 0.39930, saving model to weights.best.gray_model.hdf5\n",
      "Epoch 00100: val_loss did not improve\n",
      "Epoch 00101: val_loss did not improve\n",
      "Epoch 00102: val_loss did not improve\n",
      "Epoch 00103: val_loss did not improve\n",
      "Epoch 00104: val_loss improved from 0.39930 to 0.39797, saving model to weights.best.gray_model.hdf5\n",
      "Epoch 00105: val_loss did not improve\n",
      "Epoch 00106: val_loss did not improve\n",
      "Epoch 00107: val_loss did not improve\n",
      "Epoch 00108: val_loss did not improve\n",
      "Epoch 00109: val_loss did not improve\n",
      "Epoch 00110: val_loss did not improve\n",
      "Epoch 00111: val_loss did not improve\n",
      "Epoch 00112: val_loss did not improve\n",
      "Epoch 00113: val_loss did not improve\n",
      "Epoch 00114: val_loss did not improve\n",
      "Epoch 00115: val_loss did not improve\n",
      "Epoch 00116: val_loss did not improve\n",
      "Epoch 00117: val_loss did not improve\n",
      "Epoch 00118: val_loss did not improve\n",
      "Epoch 00119: val_loss did not improve\n",
      "Epoch 00120: val_loss did not improve\n",
      "Epoch 00121: val_loss did not improve\n",
      "Epoch 00122: val_loss did not improve\n",
      "Epoch 00123: val_loss did not improve\n",
      "Epoch 00124: val_loss did not improve\n",
      "Epoch 00125: val_loss did not improve\n",
      "Epoch 00126: val_loss did not improve\n",
      "Epoch 00127: val_loss did not improve\n",
      "Epoch 00128: val_loss did not improve\n",
      "Epoch 00129: val_loss did not improve\n",
      "Epoch 00130: val_loss did not improve\n",
      "Epoch 00131: val_loss did not improve\n",
      "Epoch 00132: val_loss did not improve\n",
      "Epoch 00133: val_loss did not improve\n",
      "Epoch 00134: val_loss did not improve\n",
      "Epoch 00135: val_loss did not improve\n",
      "Epoch 00136: val_loss did not improve\n",
      "Epoch 00137: val_loss did not improve\n",
      "Epoch 00138: val_loss did not improve\n",
      "Epoch 00139: val_loss did not improve\n",
      "Epoch 00140: val_loss did not improve\n",
      "Epoch 00141: val_loss did not improve\n",
      "Epoch 00142: val_loss did not improve\n",
      "Epoch 00143: val_loss did not improve\n",
      "Epoch 00144: val_loss did not improve\n",
      "Epoch 00145: val_loss did not improve\n",
      "Epoch 00146: val_loss did not improve\n",
      "Epoch 00147: val_loss did not improve\n",
      "Epoch 00148: val_loss did not improve\n",
      "Epoch 00149: val_loss did not improve\n",
      "Epoch 00150: val_loss did not improve\n",
      "Epoch 00151: val_loss did not improve\n",
      "Epoch 00152: val_loss did not improve\n",
      "Epoch 00153: val_loss did not improve\n",
      "Epoch 00154: val_loss did not improve\n",
      "Epoch 00155: val_loss did not improve\n",
      "Epoch 00156: val_loss did not improve\n",
      "Epoch 00157: val_loss did not improve\n",
      "Epoch 00158: val_loss did not improve\n",
      "Epoch 00159: val_loss did not improve\n",
      "Epoch 00160: val_loss did not improve\n"
     ]
    },
    {
     "name": "stdout",
     "output_type": "stream",
     "text": [
      "Epoch 00161: val_loss did not improve\n",
      "Epoch 00162: val_loss did not improve\n",
      "Epoch 00163: val_loss did not improve\n",
      "Epoch 00164: val_loss did not improve\n",
      "Epoch 00165: val_loss did not improve\n",
      "Epoch 00166: val_loss did not improve\n",
      "Epoch 00167: val_loss did not improve\n",
      "Epoch 00168: val_loss did not improve\n",
      "Epoch 00169: val_loss did not improve\n",
      "Epoch 00170: val_loss did not improve\n",
      "Epoch 00171: val_loss did not improve\n",
      "Epoch 00172: val_loss did not improve\n",
      "Epoch 00173: val_loss did not improve\n",
      "Epoch 00174: val_loss did not improve\n",
      "Epoch 00175: val_loss did not improve\n",
      "Epoch 00176: val_loss did not improve\n",
      "Epoch 00177: val_loss did not improve\n",
      "Epoch 00178: val_loss did not improve\n",
      "Epoch 00179: val_loss did not improve\n",
      "Epoch 00180: val_loss did not improve\n",
      "Epoch 00181: val_loss did not improve\n",
      "Epoch 00182: val_loss did not improve\n",
      "Epoch 00183: val_loss did not improve\n",
      "Epoch 00184: val_loss did not improve\n",
      "Epoch 00185: val_loss did not improve\n",
      "Epoch 00186: val_loss did not improve\n",
      "Epoch 00187: val_loss did not improve\n",
      "Epoch 00188: val_loss did not improve\n",
      "Epoch 00189: val_loss did not improve\n",
      "Epoch 00190: val_loss did not improve\n",
      "Epoch 00191: val_loss did not improve\n",
      "Epoch 00192: val_loss did not improve\n",
      "Epoch 00193: val_loss did not improve\n",
      "Epoch 00194: val_loss did not improve\n",
      "Epoch 00195: val_loss did not improve\n",
      "Epoch 00196: val_loss did not improve\n",
      "Epoch 00197: val_loss did not improve\n",
      "Epoch 00198: val_loss did not improve\n",
      "Epoch 00199: val_loss did not improve\n"
     ]
    }
   ],
   "source": [
    "hide_code\n",
    "# Train the model\n",
    "gray_checkpointer = ModelCheckpoint(filepath='weights.best.gray_model.hdf5', \n",
    "                                    verbose=2, save_best_only=True)\n",
    "gray_history = gray_model.fit(x_train2, y_train2, \n",
    "                              epochs=200, batch_size=64, verbose=0,\n",
    "                              validation_data=(x_test2, y_test2),\n",
    "                              callbacks=[gray_checkpointer])"
   ]
  },
  {
   "cell_type": "code",
   "execution_count": 46,
   "metadata": {},
   "outputs": [
    {
     "data": {
      "image/png": "[encoded data removed]",
      "text/plain": [
       "<matplotlib.figure.Figure at 0x15457cd68>"
      ]
     },
     "metadata": {},
     "output_type": "display_data"
    }
   ],
   "source": [
    "hide_code\n",
    "# Plot the training history\n",
    "history_plot(gray_history, 0)"
   ]
  },
  {
   "cell_type": "markdown",
   "metadata": {},
   "source": [
    "Try to reach an accuracy greater than 80%"
   ]
  },
  {
   "cell_type": "code",
   "execution_count": 47,
   "metadata": {},
   "outputs": [
    {
     "name": "stdout",
     "output_type": "stream",
     "text": [
      "960/972 [============================>.] - ETA: 0s"
     ]
    },
    {
     "data": {
      "text/plain": [
       "[0.39796739522321722, 0.88683127547487806]"
      ]
     },
     "execution_count": 47,
     "metadata": {},
     "output_type": "execute_result"
    }
   ],
   "source": [
    "hide_code\n",
    "# Load the model with the best validation accuracy\n",
    "gray_model.load_weights('weights.best.gray_model.hdf5')\n",
    "# Calculate classification accuracy on the testing set\n",
    "gray_score = gray_model.evaluate(x_test2, y_test2)\n",
    "gray_score"
   ]
  },
  {
   "cell_type": "markdown",
   "metadata": {},
   "source": [
    "Apply the ImageDataGenerator() function."
   ]
  },
  {
   "cell_type": "code",
   "execution_count": 48,
   "metadata": {},
   "outputs": [
    {
     "name": "stdout",
     "output_type": "stream",
     "text": [
      "Epoch 1/10\n",
      "Epoch 00000: val_loss did not improve\n",
      "531s - loss: 0.9518 - acc: 0.7224 - val_loss: 0.4524 - val_acc: 0.8765\n",
      "Epoch 2/10\n",
      "Epoch 00001: val_loss did not improve\n",
      "487s - loss: 0.8619 - acc: 0.7481 - val_loss: 0.4223 - val_acc: 0.8889\n",
      "Epoch 3/10\n",
      "Epoch 00002: val_loss improved from 0.39797 to 0.37157, saving model to weights.best.gray_model.hdf5\n",
      "485s - loss: 0.8246 - acc: 0.7617 - val_loss: 0.3716 - val_acc: 0.8961\n",
      "Epoch 4/10\n",
      "Epoch 00003: val_loss did not improve\n",
      "486s - loss: 0.8109 - acc: 0.7690 - val_loss: 0.4129 - val_acc: 0.9012\n",
      "Epoch 5/10\n",
      "Epoch 00004: val_loss improved from 0.37157 to 0.32716, saving model to weights.best.gray_model.hdf5\n",
      "484s - loss: 0.8096 - acc: 0.7689 - val_loss: 0.3272 - val_acc: 0.9126\n",
      "Epoch 6/10\n",
      "Epoch 00005: val_loss did not improve\n",
      "483s - loss: 0.8066 - acc: 0.7725 - val_loss: 0.3437 - val_acc: 0.9033\n",
      "Epoch 7/10\n",
      "Epoch 00006: val_loss did not improve\n",
      "484s - loss: 0.8169 - acc: 0.7719 - val_loss: 0.3931 - val_acc: 0.8879\n",
      "Epoch 8/10\n",
      "Epoch 00007: val_loss did not improve\n",
      "483s - loss: 0.8215 - acc: 0.7717 - val_loss: 0.3727 - val_acc: 0.9053\n",
      "Epoch 9/10\n",
      "Epoch 00008: val_loss did not improve\n",
      "484s - loss: 0.8469 - acc: 0.7704 - val_loss: 0.3929 - val_acc: 0.8909\n",
      "Epoch 10/10\n",
      "Epoch 00009: val_loss did not improve\n",
      "483s - loss: 0.8650 - acc: 0.7654 - val_loss: 0.3932 - val_acc: 0.9012\n"
     ]
    }
   ],
   "source": [
    "hide_code\n",
    "# Fit the model with ImageDataGenerator()\n",
    "# TODO: Define parameters\n",
    "steps, epochs = 1000, 10\n",
    "data_generator = ImageDataGenerator(zoom_range=0.2, shear_range=0.2, rotation_range=20)\n",
    "\n",
    "gray_generator = gray_model.fit_generator(data_generator.flow(x_train2, y_train2, batch_size=64),\n",
    "                                          steps_per_epoch = steps, epochs = epochs,\n",
    "                                          validation_data = (x_test2, y_test2), \n",
    "                                          callbacks=[gray_checkpointer], verbose=2)"
   ]
  },
  {
   "cell_type": "code",
   "execution_count": 49,
   "metadata": {},
   "outputs": [
    {
     "name": "stdout",
     "output_type": "stream",
     "text": [
      "960/972 [============================>.] - ETA: 0s"
     ]
    },
    {
     "data": {
      "text/plain": [
       "[0.32715702522929313, 0.91255144057450466]"
      ]
     },
     "execution_count": 49,
     "metadata": {},
     "output_type": "execute_result"
    }
   ],
   "source": [
    "hide_code\n",
    "# Load the model with the best validation accuracy\n",
    "gray_model.load_weights('weights.best.gray_model.hdf5')\n",
    "# Calculate classification accuracy on the testing set\n",
    "gray_score = gray_model.evaluate(x_test2, y_test2)\n",
    "gray_score"
   ]
  },
  {
   "cell_type": "markdown",
   "metadata": {},
   "source": [
    "Let's compare the results with classifying algorithms."
   ]
  },
  {
   "cell_type": "code",
   "execution_count": 50,
   "metadata": {},
   "outputs": [
    {
     "data": {
      "text/plain": [
       "0.28292181069958849"
      ]
     },
     "execution_count": 50,
     "metadata": {},
     "output_type": "execute_result"
    }
   ],
   "source": [
    "hide_code\n",
    "# Fit the classifier and get the accuracy score\n",
    "y_train2_c = np.array([np.argmax(y) for y in y_train2])\n",
    "y_test2_c = np.array([np.argmax(y) for y in y_test2])\n",
    "clf = GradientBoostingClassifier().fit(x_train2.reshape(-1, 32*32), y_train2_c)\n",
    "clf.score(x_test2.reshape(-1, 32*32), y_test2_c)"
   ]
  },
  {
   "cell_type": "code",
   "execution_count": 51,
   "metadata": {},
   "outputs": [
    {
     "data": {
      "text/plain": [
       "0.20370370370370369"
      ]
     },
     "execution_count": 51,
     "metadata": {},
     "output_type": "execute_result"
    }
   ],
   "source": [
    "hide_code\n",
    "# Fit the classifier and get the accuracy score\n",
    "clf2 = RandomForestClassifier().fit(x_train2.reshape(-1, 32*32), y_train2_c)\n",
    "clf2.score(x_test2.reshape(-1, 32*32), y_test2_c)"
   ]
  },
  {
   "cell_type": "markdown",
   "metadata": {},
   "source": [
    "## Step 5. Create a Multi-Label Classification Model\n",
    "### Color Images"
   ]
  },
  {
   "cell_type": "code",
   "execution_count": 54,
   "metadata": {
    "collapsed": true
   },
   "outputs": [],
   "source": [
    "hide_code\n",
    "def multi_model():    \n",
    "    model_input = Input(shape=(32, 32, 3))\n",
    "    x = BatchNormalization()(model_input)\n",
    "    # TODO: Define a model architecture\n",
    "    x = Conv2D(32, (3, 3), activation='relu', padding='same')(model_input)\n",
    "    x = MaxPooling2D(pool_size=(2, 2))(x)    \n",
    "    x = Dropout(0.25)(x)\n",
    "    \n",
    "    x = Conv2D(128, (3, 3), activation='relu', padding='same')(x)       \n",
    "    x = MaxPooling2D(pool_size=(2, 2))(x)    \n",
    "    x = Dropout(0.25)(x)\n",
    "              \n",
    "    x = GlobalMaxPooling2D()(x)\n",
    "    \n",
    "    x = Dense(1024, activation='relu')(x)    \n",
    "    x = Dropout(0.25)(x)\n",
    "    \n",
    "#    x = Dense(128, activation='relu')(x)    \n",
    "#    x = Dropout(0.25)(x)    \n",
    "    \n",
    "    y1 = Dense(27, activation='softmax')(x)\n",
    "    y2 = Dense(3, activation='softmax')(x)\n",
    "    \n",
    "    model = Model(inputs=model_input, outputs=[y1, y2])\n",
    "    \n",
    "    # TODO: Compile the model\n",
    "    model.compile(loss='categorical_crossentropy', optimizer='adam', metrics=['accuracy'])\n",
    "    return model\n",
    "\n",
    "multi_model = multi_model()"
   ]
  },
  {
   "cell_type": "code",
   "execution_count": 55,
   "metadata": {},
   "outputs": [
    {
     "name": "stdout",
     "output_type": "stream",
     "text": [
      "____________________________________________________________________________________________________\n",
      "Layer (type)                     Output Shape          Param #     Connected to                     \n",
      "====================================================================================================\n",
      "input_2 (InputLayer)             (None, 32, 32, 3)     0                                            \n",
      "____________________________________________________________________________________________________\n",
      "conv2d_7 (Conv2D)                (None, 32, 32, 32)    896         input_2[0][0]                    \n",
      "____________________________________________________________________________________________________\n",
      "max_pooling2d_7 (MaxPooling2D)   (None, 16, 16, 32)    0           conv2d_7[0][0]                   \n",
      "____________________________________________________________________________________________________\n",
      "dropout_11 (Dropout)             (None, 16, 16, 32)    0           max_pooling2d_7[0][0]            \n",
      "____________________________________________________________________________________________________\n",
      "conv2d_8 (Conv2D)                (None, 16, 16, 128)   36992       dropout_11[0][0]                 \n",
      "____________________________________________________________________________________________________\n",
      "max_pooling2d_8 (MaxPooling2D)   (None, 8, 8, 128)     0           conv2d_8[0][0]                   \n",
      "____________________________________________________________________________________________________\n",
      "dropout_12 (Dropout)             (None, 8, 8, 128)     0           max_pooling2d_8[0][0]            \n",
      "____________________________________________________________________________________________________\n",
      "global_max_pooling2d_4 (GlobalMa (None, 128)           0           dropout_12[0][0]                 \n",
      "____________________________________________________________________________________________________\n",
      "dense_9 (Dense)                  (None, 1024)          132096      global_max_pooling2d_4[0][0]     \n",
      "____________________________________________________________________________________________________\n",
      "dropout_13 (Dropout)             (None, 1024)          0           dense_9[0][0]                    \n",
      "____________________________________________________________________________________________________\n",
      "dense_10 (Dense)                 (None, 27)            27675       dropout_13[0][0]                 \n",
      "____________________________________________________________________________________________________\n",
      "dense_11 (Dense)                 (None, 3)             3075        dropout_13[0][0]                 \n",
      "====================================================================================================\n",
      "Total params: 200,734\n",
      "Trainable params: 200,734\n",
      "Non-trainable params: 0\n",
      "____________________________________________________________________________________________________\n"
     ]
    }
   ],
   "source": [
    "hide_code\n",
    "# Display the model architecture\n",
    "multi_model.summary()"
   ]
  },
  {
   "cell_type": "code",
   "execution_count": 56,
   "metadata": {},
   "outputs": [
    {
     "name": "stdout",
     "output_type": "stream",
     "text": [
      "Epoch 00000: val_loss improved from inf to 3.41093, saving model to weights.best.multi.hdf5\n",
      "Epoch 00001: val_loss improved from 3.41093 to 3.33448, saving model to weights.best.multi.hdf5\n",
      "Epoch 00002: val_loss improved from 3.33448 to 3.23712, saving model to weights.best.multi.hdf5\n",
      "Epoch 00003: val_loss improved from 3.23712 to 3.15282, saving model to weights.best.multi.hdf5\n",
      "Epoch 00004: val_loss improved from 3.15282 to 3.09600, saving model to weights.best.multi.hdf5\n",
      "Epoch 00005: val_loss improved from 3.09600 to 3.02260, saving model to weights.best.multi.hdf5\n",
      "Epoch 00006: val_loss improved from 3.02260 to 2.98969, saving model to weights.best.multi.hdf5\n",
      "Epoch 00007: val_loss improved from 2.98969 to 2.93250, saving model to weights.best.multi.hdf5\n",
      "Epoch 00008: val_loss did not improve\n",
      "Epoch 00009: val_loss improved from 2.93250 to 2.88680, saving model to weights.best.multi.hdf5\n",
      "Epoch 00010: val_loss improved from 2.88680 to 2.84746, saving model to weights.best.multi.hdf5\n",
      "Epoch 00011: val_loss did not improve\n",
      "Epoch 00012: val_loss did not improve\n",
      "Epoch 00013: val_loss improved from 2.84746 to 2.83784, saving model to weights.best.multi.hdf5\n",
      "Epoch 00014: val_loss improved from 2.83784 to 2.72305, saving model to weights.best.multi.hdf5\n",
      "Epoch 00015: val_loss did not improve\n",
      "Epoch 00016: val_loss improved from 2.72305 to 2.70928, saving model to weights.best.multi.hdf5\n",
      "Epoch 00017: val_loss did not improve\n",
      "Epoch 00018: val_loss did not improve\n",
      "Epoch 00019: val_loss did not improve\n",
      "Epoch 00020: val_loss did not improve\n",
      "Epoch 00021: val_loss did not improve\n",
      "Epoch 00022: val_loss improved from 2.70928 to 2.69532, saving model to weights.best.multi.hdf5\n",
      "Epoch 00023: val_loss did not improve\n",
      "Epoch 00024: val_loss improved from 2.69532 to 2.66519, saving model to weights.best.multi.hdf5\n",
      "Epoch 00025: val_loss improved from 2.66519 to 2.60588, saving model to weights.best.multi.hdf5\n",
      "Epoch 00026: val_loss improved from 2.60588 to 2.57653, saving model to weights.best.multi.hdf5\n",
      "Epoch 00027: val_loss did not improve\n",
      "Epoch 00028: val_loss did not improve\n",
      "Epoch 00029: val_loss improved from 2.57653 to 2.55506, saving model to weights.best.multi.hdf5\n",
      "Epoch 00030: val_loss did not improve\n",
      "Epoch 00031: val_loss did not improve\n",
      "Epoch 00032: val_loss did not improve\n",
      "Epoch 00033: val_loss did not improve\n",
      "Epoch 00034: val_loss did not improve\n",
      "Epoch 00035: val_loss did not improve\n",
      "Epoch 00036: val_loss improved from 2.55506 to 2.53158, saving model to weights.best.multi.hdf5\n",
      "Epoch 00037: val_loss improved from 2.53158 to 2.50950, saving model to weights.best.multi.hdf5\n",
      "Epoch 00038: val_loss did not improve\n",
      "Epoch 00039: val_loss improved from 2.50950 to 2.47887, saving model to weights.best.multi.hdf5\n",
      "Epoch 00040: val_loss did not improve\n",
      "Epoch 00041: val_loss did not improve\n",
      "Epoch 00042: val_loss did not improve\n",
      "Epoch 00043: val_loss did not improve\n",
      "Epoch 00044: val_loss improved from 2.47887 to 2.44654, saving model to weights.best.multi.hdf5\n",
      "Epoch 00045: val_loss did not improve\n",
      "Epoch 00046: val_loss improved from 2.44654 to 2.36637, saving model to weights.best.multi.hdf5\n",
      "Epoch 00047: val_loss did not improve\n",
      "Epoch 00048: val_loss did not improve\n",
      "Epoch 00049: val_loss did not improve\n",
      "Epoch 00050: val_loss did not improve\n",
      "Epoch 00051: val_loss did not improve\n",
      "Epoch 00052: val_loss improved from 2.36637 to 2.30229, saving model to weights.best.multi.hdf5\n",
      "Epoch 00053: val_loss did not improve\n",
      "Epoch 00054: val_loss did not improve\n",
      "Epoch 00055: val_loss did not improve\n",
      "Epoch 00056: val_loss did not improve\n",
      "Epoch 00057: val_loss did not improve\n",
      "Epoch 00058: val_loss did not improve\n",
      "Epoch 00059: val_loss did not improve\n",
      "Epoch 00060: val_loss did not improve\n",
      "Epoch 00061: val_loss improved from 2.30229 to 2.25148, saving model to weights.best.multi.hdf5\n",
      "Epoch 00062: val_loss did not improve\n",
      "Epoch 00063: val_loss did not improve\n",
      "Epoch 00064: val_loss did not improve\n",
      "Epoch 00065: val_loss did not improve\n",
      "Epoch 00066: val_loss improved from 2.25148 to 2.18794, saving model to weights.best.multi.hdf5\n",
      "Epoch 00067: val_loss did not improve\n",
      "Epoch 00068: val_loss did not improve\n",
      "Epoch 00069: val_loss did not improve\n",
      "Epoch 00070: val_loss did not improve\n",
      "Epoch 00071: val_loss did not improve\n",
      "Epoch 00072: val_loss did not improve\n",
      "Epoch 00073: val_loss did not improve\n",
      "Epoch 00074: val_loss did not improve\n",
      "Epoch 00075: val_loss did not improve\n",
      "Epoch 00076: val_loss did not improve\n",
      "Epoch 00077: val_loss did not improve\n",
      "Epoch 00078: val_loss did not improve\n",
      "Epoch 00079: val_loss did not improve\n",
      "Epoch 00080: val_loss did not improve\n",
      "Epoch 00081: val_loss did not improve\n",
      "Epoch 00082: val_loss did not improve\n",
      "Epoch 00083: val_loss improved from 2.18794 to 1.91057, saving model to weights.best.multi.hdf5\n",
      "Epoch 00084: val_loss did not improve\n",
      "Epoch 00085: val_loss did not improve\n",
      "Epoch 00086: val_loss did not improve\n",
      "Epoch 00087: val_loss did not improve\n",
      "Epoch 00088: val_loss did not improve\n",
      "Epoch 00089: val_loss did not improve\n",
      "Epoch 00090: val_loss improved from 1.91057 to 1.88782, saving model to weights.best.multi.hdf5\n",
      "Epoch 00091: val_loss did not improve\n",
      "Epoch 00092: val_loss did not improve\n",
      "Epoch 00093: val_loss did not improve\n",
      "Epoch 00094: val_loss did not improve\n",
      "Epoch 00095: val_loss did not improve\n",
      "Epoch 00096: val_loss did not improve\n",
      "Epoch 00097: val_loss did not improve\n",
      "Epoch 00098: val_loss did not improve\n",
      "Epoch 00099: val_loss did not improve\n"
     ]
    }
   ],
   "source": [
    "hide_code\n",
    "# Train the model\n",
    "multi_checkpointer = ModelCheckpoint(filepath='weights.best.multi.hdf5', \n",
    "                                     verbose=2, save_best_only=True)\n",
    "multi_history = multi_model.fit(x_train3, y_train3_list, \n",
    "                                validation_data=(x_test3, y_test3_list), \n",
    "                                epochs=100, batch_size=64, verbose=0, \n",
    "                                callbacks=[multi_checkpointer])"
   ]
  },
  {
   "cell_type": "markdown",
   "metadata": {},
   "source": [
    "We should have an accuracy greater than 4% for the first target (letter) and 100% for the second target (background)."
   ]
  },
  {
   "cell_type": "code",
   "execution_count": 57,
   "metadata": {},
   "outputs": [
    {
     "name": "stdout",
     "output_type": "stream",
     "text": [
      "Scores: \n",
      " [1.8878218386889485, 1.8877787369268912, 4.309759621977674e-05, 0.40843621386912626, 1.0]\n",
      "First label. Accuracy: 40.84%\n",
      "Second label. Accuracy: 100.00%\n"
     ]
    }
   ],
   "source": [
    "hide_code\n",
    "# Load the model with the best validation accuracy\n",
    "multi_model.load_weights('weights.best.multi.hdf5')\n",
    "# Calculate classification accuracy on the testing set\n",
    "multi_scores = multi_model.evaluate(x_test3, y_test3_list, verbose=0)\n",
    "\n",
    "print(\"Scores: \\n\" , (multi_scores))\n",
    "print(\"First label. Accuracy: %.2f%%\" % (multi_scores[3]*100))\n",
    "print(\"Second label. Accuracy: %.2f%%\" % (multi_scores[4]*100))"
   ]
  },
  {
   "cell_type": "markdown",
   "metadata": {
    "collapsed": true
   },
   "source": [
    "### Grayscaled Images"
   ]
  },
  {
   "cell_type": "code",
   "execution_count": 58,
   "metadata": {
    "collapsed": true
   },
   "outputs": [],
   "source": [
    "hide_code\n",
    "def gray_multi_model():    \n",
    "    model_input = Input(shape=(32, 32, 1))\n",
    "    x = BatchNormalization()(model_input)\n",
    "    # TODO: Define a model architecture\n",
    "    x = Conv2D(32, (5, 5), activation='relu', padding='same')(model_input)\n",
    "    x = MaxPooling2D(pool_size=(2, 2))(x)    \n",
    "    x = Dropout(0.25)(x)\n",
    "    \n",
    "    x = Conv2D(256, (5, 5), activation='relu', padding='same')(x)       \n",
    "    x = MaxPooling2D(pool_size=(2, 2))(x)    \n",
    "    x = Dropout(0.25)(x)\n",
    "              \n",
    "    x = GlobalMaxPooling2D()(x)\n",
    "    \n",
    "    x = Dense(1024, activation='relu')(x)    \n",
    "    x = Dropout(0.25)(x)\n",
    "    \n",
    "    x = Dense(256, activation='relu')(x)    \n",
    "    x = Dropout(0.25)(x)\n",
    "    \n",
    "    y1 = Dense(27, activation='softmax')(x)\n",
    "    y2 = Dense(3, activation='softmax')(x)\n",
    "       \n",
    "    model = Model(inputs=model_input, outputs=[y1, y2])\n",
    "    # TODO: Compile the model\n",
    "\n",
    "    model.compile(loss='categorical_crossentropy', optimizer='rmsprop', metrics=['accuracy'])   \n",
    "    return model\n",
    "\n",
    "gray_multi_model = gray_multi_model()"
   ]
  },
  {
   "cell_type": "code",
   "execution_count": 59,
   "metadata": {},
   "outputs": [
    {
     "name": "stdout",
     "output_type": "stream",
     "text": [
      "Epoch 00000: val_loss improved from inf to 3.32739, saving model to weights.best.gray_multi.hdf5\n",
      "Epoch 00001: val_loss improved from 3.32739 to 3.30527, saving model to weights.best.gray_multi.hdf5\n",
      "Epoch 00002: val_loss improved from 3.30527 to 3.28166, saving model to weights.best.gray_multi.hdf5\n",
      "Epoch 00003: val_loss improved from 3.28166 to 3.19709, saving model to weights.best.gray_multi.hdf5\n",
      "Epoch 00004: val_loss improved from 3.19709 to 3.12410, saving model to weights.best.gray_multi.hdf5\n",
      "Epoch 00005: val_loss did not improve\n",
      "Epoch 00006: val_loss improved from 3.12410 to 3.11335, saving model to weights.best.gray_multi.hdf5\n",
      "Epoch 00007: val_loss improved from 3.11335 to 3.07293, saving model to weights.best.gray_multi.hdf5\n",
      "Epoch 00008: val_loss improved from 3.07293 to 3.05497, saving model to weights.best.gray_multi.hdf5\n",
      "Epoch 00009: val_loss did not improve\n",
      "Epoch 00010: val_loss did not improve\n",
      "Epoch 00011: val_loss did not improve\n",
      "Epoch 00012: val_loss improved from 3.05497 to 3.02761, saving model to weights.best.gray_multi.hdf5\n",
      "Epoch 00013: val_loss did not improve\n",
      "Epoch 00014: val_loss did not improve\n",
      "Epoch 00015: val_loss improved from 3.02761 to 2.95766, saving model to weights.best.gray_multi.hdf5\n",
      "Epoch 00016: val_loss did not improve\n",
      "Epoch 00017: val_loss did not improve\n",
      "Epoch 00018: val_loss improved from 2.95766 to 2.87259, saving model to weights.best.gray_multi.hdf5\n",
      "Epoch 00019: val_loss improved from 2.87259 to 2.82247, saving model to weights.best.gray_multi.hdf5\n",
      "Epoch 00020: val_loss improved from 2.82247 to 2.73707, saving model to weights.best.gray_multi.hdf5\n",
      "Epoch 00021: val_loss improved from 2.73707 to 2.73676, saving model to weights.best.gray_multi.hdf5\n",
      "Epoch 00022: val_loss improved from 2.73676 to 2.63665, saving model to weights.best.gray_multi.hdf5\n",
      "Epoch 00023: val_loss improved from 2.63665 to 2.50577, saving model to weights.best.gray_multi.hdf5\n",
      "Epoch 00024: val_loss improved from 2.50577 to 2.45636, saving model to weights.best.gray_multi.hdf5\n",
      "Epoch 00025: val_loss improved from 2.45636 to 2.33384, saving model to weights.best.gray_multi.hdf5\n",
      "Epoch 00026: val_loss improved from 2.33384 to 2.18252, saving model to weights.best.gray_multi.hdf5\n",
      "Epoch 00027: val_loss did not improve\n",
      "Epoch 00028: val_loss improved from 2.18252 to 2.14068, saving model to weights.best.gray_multi.hdf5\n",
      "Epoch 00029: val_loss improved from 2.14068 to 2.09366, saving model to weights.best.gray_multi.hdf5\n",
      "Epoch 00030: val_loss did not improve\n",
      "Epoch 00031: val_loss improved from 2.09366 to 1.94307, saving model to weights.best.gray_multi.hdf5\n",
      "Epoch 00032: val_loss did not improve\n",
      "Epoch 00033: val_loss improved from 1.94307 to 1.86704, saving model to weights.best.gray_multi.hdf5\n",
      "Epoch 00034: val_loss improved from 1.86704 to 1.74878, saving model to weights.best.gray_multi.hdf5\n",
      "Epoch 00035: val_loss did not improve\n",
      "Epoch 00036: val_loss did not improve\n",
      "Epoch 00037: val_loss improved from 1.74878 to 1.59908, saving model to weights.best.gray_multi.hdf5\n",
      "Epoch 00038: val_loss did not improve\n",
      "Epoch 00039: val_loss did not improve\n",
      "Epoch 00040: val_loss improved from 1.59908 to 1.43874, saving model to weights.best.gray_multi.hdf5\n",
      "Epoch 00041: val_loss did not improve\n",
      "Epoch 00042: val_loss did not improve\n",
      "Epoch 00043: val_loss improved from 1.43874 to 1.40724, saving model to weights.best.gray_multi.hdf5\n",
      "Epoch 00044: val_loss improved from 1.40724 to 1.39988, saving model to weights.best.gray_multi.hdf5\n",
      "Epoch 00045: val_loss improved from 1.39988 to 1.39059, saving model to weights.best.gray_multi.hdf5\n",
      "Epoch 00046: val_loss improved from 1.39059 to 1.39020, saving model to weights.best.gray_multi.hdf5\n",
      "Epoch 00047: val_loss did not improve\n",
      "Epoch 00048: val_loss improved from 1.39020 to 1.10865, saving model to weights.best.gray_multi.hdf5\n",
      "Epoch 00049: val_loss did not improve\n",
      "Epoch 00050: val_loss improved from 1.10865 to 1.10147, saving model to weights.best.gray_multi.hdf5\n",
      "Epoch 00051: val_loss did not improve\n",
      "Epoch 00052: val_loss improved from 1.10147 to 1.04299, saving model to weights.best.gray_multi.hdf5\n",
      "Epoch 00053: val_loss improved from 1.04299 to 1.01450, saving model to weights.best.gray_multi.hdf5\n",
      "Epoch 00054: val_loss did not improve\n",
      "Epoch 00055: val_loss improved from 1.01450 to 0.95330, saving model to weights.best.gray_multi.hdf5\n",
      "Epoch 00056: val_loss did not improve\n",
      "Epoch 00057: val_loss improved from 0.95330 to 0.95024, saving model to weights.best.gray_multi.hdf5\n",
      "Epoch 00058: val_loss did not improve\n",
      "Epoch 00059: val_loss did not improve\n",
      "Epoch 00060: val_loss did not improve\n",
      "Epoch 00061: val_loss improved from 0.95024 to 0.88686, saving model to weights.best.gray_multi.hdf5\n",
      "Epoch 00062: val_loss did not improve\n",
      "Epoch 00063: val_loss improved from 0.88686 to 0.80248, saving model to weights.best.gray_multi.hdf5\n",
      "Epoch 00064: val_loss did not improve\n",
      "Epoch 00065: val_loss did not improve\n",
      "Epoch 00066: val_loss did not improve\n",
      "Epoch 00067: val_loss improved from 0.80248 to 0.79337, saving model to weights.best.gray_multi.hdf5\n",
      "Epoch 00068: val_loss did not improve\n",
      "Epoch 00069: val_loss improved from 0.79337 to 0.78685, saving model to weights.best.gray_multi.hdf5\n",
      "Epoch 00070: val_loss improved from 0.78685 to 0.74069, saving model to weights.best.gray_multi.hdf5\n",
      "Epoch 00071: val_loss did not improve\n",
      "Epoch 00072: val_loss did not improve\n",
      "Epoch 00073: val_loss improved from 0.74069 to 0.65678, saving model to weights.best.gray_multi.hdf5\n",
      "Epoch 00074: val_loss did not improve\n",
      "Epoch 00075: val_loss did not improve\n",
      "Epoch 00076: val_loss did not improve\n",
      "Epoch 00077: val_loss did not improve\n",
      "Epoch 00078: val_loss did not improve\n",
      "Epoch 00079: val_loss did not improve\n",
      "Epoch 00080: val_loss improved from 0.65678 to 0.64934, saving model to weights.best.gray_multi.hdf5\n",
      "Epoch 00081: val_loss did not improve\n",
      "Epoch 00082: val_loss improved from 0.64934 to 0.61297, saving model to weights.best.gray_multi.hdf5\n",
      "Epoch 00083: val_loss did not improve\n",
      "Epoch 00084: val_loss did not improve\n",
      "Epoch 00085: val_loss did not improve\n",
      "Epoch 00086: val_loss improved from 0.61297 to 0.58724, saving model to weights.best.gray_multi.hdf5\n",
      "Epoch 00087: val_loss did not improve\n",
      "Epoch 00088: val_loss did not improve\n",
      "Epoch 00089: val_loss did not improve\n",
      "Epoch 00090: val_loss did not improve\n",
      "Epoch 00091: val_loss did not improve\n",
      "Epoch 00092: val_loss did not improve\n",
      "Epoch 00093: val_loss did not improve\n",
      "Epoch 00094: val_loss improved from 0.58724 to 0.52715, saving model to weights.best.gray_multi.hdf5\n",
      "Epoch 00095: val_loss did not improve\n",
      "Epoch 00096: val_loss did not improve\n",
      "Epoch 00097: val_loss did not improve\n",
      "Epoch 00098: val_loss did not improve\n",
      "Epoch 00099: val_loss did not improve\n"
     ]
    }
   ],
   "source": [
    "hide_code\n",
    "# Train the model\n",
    "gray_multi_checkpointer = ModelCheckpoint(filepath='weights.best.gray_multi.hdf5', \n",
    "                                          verbose=2, save_best_only=True)\n",
    "gray_multi_history = gray_multi_model.fit(x_train4, y_train4_list, \n",
    "                                          validation_data=(x_test4, y_test4_list), \n",
    "                                          epochs=100, batch_size=64, verbose=0, \n",
    "                                          callbacks=[gray_multi_checkpointer])"
   ]
  },
  {
   "cell_type": "markdown",
   "metadata": {},
   "source": [
    "We should have an accuracy greater than 4% for the first target (letter) and 100% for the second target (background)."
   ]
  },
  {
   "cell_type": "code",
   "execution_count": 60,
   "metadata": {},
   "outputs": [
    {
     "name": "stdout",
     "output_type": "stream",
     "text": [
      "Scores: \n",
      " [0.52715312306282447, 0.52715300385353492, 1.1920928955078125e-07, 0.83230452674897115, 1.0]\n",
      "First label. Accuracy: 83.23%\n",
      "Second label. Accuracy: 100.00%\n"
     ]
    }
   ],
   "source": [
    "hide_code\n",
    "# Load the model with the best validation accuracy\n",
    "gray_multi_model.load_weights('weights.best.gray_multi.hdf5')\n",
    "# Calculate classification accuracy on the testing set\n",
    "gray_multi_scores = gray_multi_model.evaluate(x_test4, y_test4_list, verbose=0)\n",
    "\n",
    "print(\"Scores: \\n\" , (gray_multi_scores))\n",
    "print(\"First label. Accuracy: %.2f%%\" % (gray_multi_scores[3]*100))\n",
    "print(\"Second label. Accuracy: %.2f%%\" % (gray_multi_scores[4]*100))"
   ]
  },
  {
   "cell_type": "markdown",
   "metadata": {},
   "source": [
    "## Step 6. Keras Applications\n",
    "Choose one of the keras applications and try to reach an accuracy greater than 30%\n",
    "### Color Images"
   ]
  },
  {
   "cell_type": "code",
   "execution_count": null,
   "metadata": {
    "collapsed": true
   },
   "outputs": [],
   "source": [
    "# Create bottleneck features\n",
    "resize_x_train = np.array([scipy.misc.imresize(x_train[i], (139, 139, 3)) \n",
    "                           for i in range(0, len(x_train))]).astype('float32')\n",
    "resize_x_test = np.array([scipy.misc.imresize(x_test[i], (139, 139, 3)) \n",
    "                          for i in range(0, len(x_test))]).astype('float32')\n",
    "iv3_x_train = preprocess_input(resize_x_train)\n",
    "iv3_x_test = preprocess_input(resize_x_test)\n",
    "iv3_base_model = InceptionV3(weights='imagenet', include_top=False)\n",
    "x_train_bn = iv3_base_model.predict(iv3_x_train)\n",
    "x_test_bn = iv3_base_model.predict(iv3_x_test)"
   ]
  },
  {
   "cell_type": "code",
   "execution_count": null,
   "metadata": {
    "collapsed": true
   },
   "outputs": [],
   "source": [
    "# Save bottleneck features\n",
    "x_train_bn = np.squeeze(x_train_bn)\n",
    "x_test_bn = np.squeeze(x_test_bn)\n",
    "np.save('x_train_bn.npy', x_train_bn)\n",
    "np.save('x_test_bn.npy', x_test_bn)"
   ]
  },
  {
   "cell_type": "code",
   "execution_count": null,
   "metadata": {
    "collapsed": true
   },
   "outputs": [],
   "source": [
    "# Load bottleneck features\n",
    "x_train_bn = np.load('x_train_bn.npy')\n",
    "x_test_bn = np.load('x_test_bn.npy')"
   ]
  },
  {
   "cell_type": "code",
   "execution_count": null,
   "metadata": {
    "collapsed": true
   },
   "outputs": [],
   "source": [
    "hide_code\n",
    "def iv3_model():\n",
    "    model = Sequential()\n",
    "    # TODO: Define a model architecture\n",
    "    model.add(Conv2D(filters=32, kernel_size=2, input_shape=x_train_bn.shape[1:]))\n",
    "    model.add(MaxPooling2D(pool_size=(2, 2)))\n",
    "    model.add(Dropout(0.25))\n",
    "    \n",
    "    model.add(GlobalAveragePooling2D())\n",
    "    model.add(Dropout(0.25))\n",
    "    \n",
    "    model.add(Dense(2048, activation='relu'))\n",
    "    model.add(Dropout(0.25))\n",
    "        \n",
    "    model.add(Dense(512, activation='relu'))\n",
    "    model.add(Dropout(0.25))\n",
    "    \n",
    "    model.add(Dense(16, activation='softmax'))\n",
    "    # TODO: Compile the model     \n",
    "\n",
    "    return model\n",
    "\n",
    "iv3_model = iv3_model()"
   ]
  },
  {
   "cell_type": "code",
   "execution_count": null,
   "metadata": {
    "collapsed": true
   },
   "outputs": [],
   "source": [
    "hide_code\n",
    "# Fit the model \n",
    "iv3_checkpointer = ModelCheckpoint(filepath='weights.best.iv3.hdf5', \n",
    "                                     verbose=2, save_best_only=True)\n",
    "iv3_history = iv3_model.fit(x_train_bn, y_train, \n",
    "                            validation_data=(x_test_bn, y_test),\n",
    "                            epochs=50, batch_size=64, \n",
    "                            callbacks=[iv3_checkpointer], verbose=0);"
   ]
  },
  {
   "cell_type": "code",
   "execution_count": null,
   "metadata": {
    "collapsed": true
   },
   "outputs": [],
   "source": [
    "hide_code\n",
    "# Plot the training history\n",
    "history_plot(iv3_history, 0)"
   ]
  },
  {
   "cell_type": "code",
   "execution_count": null,
   "metadata": {
    "collapsed": true
   },
   "outputs": [],
   "source": [
    "hide_code\n",
    "# Load the model with the best validation accuracy\n",
    "iv3_model.load_weights('weights.best.iv3.hdf5')\n",
    "# Calculate classification accuracy on the testing set\n",
    "iv3_scores = iv3_model.evaluate(x_test_bn, y_test)\n",
    "print(\"Accuracy: %.2f%%\" % (iv3_scores[1]*100))\n",
    "iv3_scores"
   ]
  },
  {
   "cell_type": "markdown",
   "metadata": {},
   "source": [
    "### Grayscaled Images"
   ]
  },
  {
   "cell_type": "code",
   "execution_count": null,
   "metadata": {
    "collapsed": true
   },
   "outputs": [],
   "source": [
    "# Create bottleneck features\n",
    "resize_x_train2 = np.array([scipy.misc.imresize(x_train2_color[i], (139, 139, 3)) \n",
    "                            for i in range(0, len(x_train2_color))]).astype('float32')\n",
    "resize_x_test2 = np.array([scipy.misc.imresize(x_test2_color[i], (139, 139, 3)) \n",
    "                           for i in range(0, len(x_test2_color))]).astype('float32')\n",
    "iv3_x_train2 = preprocess_input(resize_x_train2)\n",
    "iv3_x_test2 = preprocess_input(resize_x_test2)\n",
    "iv3_base_model2 = InceptionV3(weights='imagenet', include_top=False)\n",
    "x_train_bn2 = iv3_base_model2.predict(iv3_x_train2)\n",
    "x_test_bn2 = iv3_base_model2.predict(iv3_x_test2)"
   ]
  },
  {
   "cell_type": "code",
   "execution_count": null,
   "metadata": {
    "collapsed": true
   },
   "outputs": [],
   "source": [
    "# Save bottleneck features\n",
    "x_train_bn2 = np.squeeze(x_train_bn2)\n",
    "x_test_bn2 = np.squeeze(x_test_bn2)\n",
    "np.save('x_train_bn2.npy', x_train_bn2)\n",
    "np.save('x_test_bn2.npy', x_test_bn2)"
   ]
  },
  {
   "cell_type": "code",
   "execution_count": null,
   "metadata": {
    "collapsed": true
   },
   "outputs": [],
   "source": [
    "# Load bottleneck features\n",
    "x_train_bn2 = np.load('x_train_bn2.npy')\n",
    "x_test_bn2 = np.load('x_test_bn2.npy')"
   ]
  },
  {
   "cell_type": "code",
   "execution_count": null,
   "metadata": {
    "collapsed": true
   },
   "outputs": [],
   "source": [
    "hide_code\n",
    "def iv3_gray_model():\n",
    "    model = Sequential()\n",
    "    # TODO: Define a model architecture\n",
    "\n",
    "    # TODO: Compile the model     \n",
    "\n",
    "    return model\n",
    "\n",
    "iv3_gray_model = iv3_gray_model()"
   ]
  },
  {
   "cell_type": "code",
   "execution_count": null,
   "metadata": {
    "collapsed": true
   },
   "outputs": [],
   "source": [
    "hide_code\n",
    "# Fit the model \n",
    "iv3_gray_checkpointer = ModelCheckpoint(filepath='weights.best.iv3_gray.hdf5', \n",
    "                                        verbose=2, save_best_only=True)\n",
    "iv3_gray_history = iv3_gray_model.fit(x_train_bn2, y_train2, \n",
    "                                      validation_data=(x_test_bn2, y_test2),\n",
    "                                      epochs=50, batch_size=64, \n",
    "                                      callbacks=[iv3_gray_checkpointer], verbose=0);"
   ]
  },
  {
   "cell_type": "code",
   "execution_count": null,
   "metadata": {
    "collapsed": true
   },
   "outputs": [],
   "source": [
    "hide_code\n",
    "# Plot the training history\n",
    "history_plot(iv3_gray_history, 0)"
   ]
  },
  {
   "cell_type": "code",
   "execution_count": null,
   "metadata": {
    "collapsed": true
   },
   "outputs": [],
   "source": [
    "hide_code\n",
    "# Load the model with the best validation accuracy\n",
    "iv3_gray_model.load_weights('weights.best.iv3_gray.hdf5')\n",
    "# Calculate classification accuracy on the testing set\n",
    "iv3_gray_scores = iv3_gray_model.evaluate(x_test_bn2, y_test2)\n",
    "print(\"Accuracy: %.2f%%\" % (iv3_gray_scores[1]*100))\n",
    "iv3_gray_scores"
   ]
  },
  {
   "cell_type": "markdown",
   "metadata": {},
   "source": [
    "## Step 7. Predictions\n",
    "Display predictions for the models with the best accuracy.\n",
    "### Color Images"
   ]
  },
  {
   "cell_type": "code",
   "execution_count": 61,
   "metadata": {
    "collapsed": true
   },
   "outputs": [],
   "source": [
    "hide_code\n",
    "# Create a list of symbols\n",
    "symbols = ['а','б','в','г','д','е','ё','ж','з','и','й',\n",
    "           'к','л','м','н','о','п','р','с','т','у','ф',\n",
    "           'х','ц','ч','ш','щ','ъ','ы','ь','э','ю','я']"
   ]
  },
  {
   "cell_type": "code",
   "execution_count": null,
   "metadata": {
    "collapsed": true
   },
   "outputs": [],
   "source": [
    "hide_code\n",
    "# Model predictions for the testing dataset\n",
    "y_test_predict = iv3_model.predict_classes(x_test_bn)"
   ]
  },
  {
   "cell_type": "code",
   "execution_count": null,
   "metadata": {
    "collapsed": true
   },
   "outputs": [],
   "source": [
    "hide_code\n",
    "# Display true labels and predictions\n",
    "fig = plt.figure(figsize=(18, 18))\n",
    "for i, idx in enumerate(np.random.choice(x_test.shape[0], size=16, replace=False)):\n",
    "    ax = fig.add_subplot(4, 4, i + 1, xticks=[], yticks=[])\n",
    "    ax.imshow(np.squeeze(x_test[idx]))\n",
    "    pred_idx = y_test_predict[idx]\n",
    "    true_idx = np.argmax(y_test[idx])\n",
    "    ax.set_title(\"{} ({})\".format(symbols[pred_idx], symbols[true_idx]),\n",
    "                 color=(\"#4876ff\" if pred_idx == true_idx else \"darkred\"))"
   ]
  },
  {
   "cell_type": "markdown",
   "metadata": {},
   "source": [
    "### Grayscaled Images"
   ]
  },
  {
   "cell_type": "code",
   "execution_count": 59,
   "metadata": {},
   "outputs": [
    {
     "name": "stdout",
     "output_type": "stream",
     "text": [
      "720/720 [==============================] - 4s     \n"
     ]
    }
   ],
   "source": [
    "hide_code\n",
    "# Model predictions for the testing dataset\n",
    "y_test2_predict = gray_model.predict_classes(x_test2)"
   ]
  },
  {
   "cell_type": "code",
   "execution_count": 62,
   "metadata": {},
   "outputs": [
    {
     "data": {
      "image/png": "[encoded data removed]",
      "text/plain": [
       "<matplotlib.figure.Figure at 0x145e927b8>"
      ]
     },
     "metadata": {},
     "output_type": "display_data"
    }
   ],
   "source": [
    "hide_code\n",
    "# Display true labels and predictions\n",
    "fig = plt.figure(figsize=(18, 18))\n",
    "for i, idx in enumerate(np.random.choice(x_test2.shape[0], size=16, replace=False)):\n",
    "    ax = fig.add_subplot(4, 4, i + 1, xticks=[], yticks=[])\n",
    "    ax.imshow(np.squeeze(x_test2[idx]), cmap=cm.bone)\n",
    "    pred_idx = y_test2_predict[idx]\n",
    "    true_idx = np.argmax(y_test2[idx])\n",
    "    ax.set_title(\"{} ({})\".format(symbols[pred_idx], symbols[true_idx]),\n",
    "                 color=(\"#4876ff\" if pred_idx == true_idx else \"darkred\"))"
   ]
  }
 ],
 "metadata": {
  "kernelspec": {
   "display_name": "Python 3",
   "language": "python",
   "name": "python3"
  },
  "language_info": {
   "codemirror_mode": {
    "name": "ipython",
    "version": 3
   },
   "file_extension": ".py",
   "mimetype": "text/x-python",
   "name": "python",
   "nbconvert_exporter": "python",
   "pygments_lexer": "ipython3",
   "version": "3.6.1"
  }
 },
 "nbformat": 4,
 "nbformat_minor": 2
}
