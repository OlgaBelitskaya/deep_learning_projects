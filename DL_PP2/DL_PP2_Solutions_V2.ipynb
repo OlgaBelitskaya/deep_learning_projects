{
 "cells": [
  {
   "cell_type": "markdown",
   "metadata": {},
   "source": [
    "# Deep Learning\n",
    "## Practice Projects\n",
    "# P2: Multi-Label Classification\n",
    "\n",
    "## Step 0. Style and Libraries\n",
    "Let's choose a style of the Jupyter notebook and import the software libraries. The command hide_code will hide the code cells."
   ]
  },
  {
   "cell_type": "code",
   "execution_count": 1,
   "metadata": {},
   "outputs": [
    {
     "data": {
      "text/html": [
       "<style>\n",
       "@import url('https://fonts.googleapis.com/css?family=Orbitron|Roboto');\n",
       "body {background-color: aliceblue;} \n",
       "a {color: #4876ff; font-family: 'Roboto';} \n",
       "h1 {color: #348ABD; font-family: 'Orbitron'; text-shadow: 4px 4px 4px #ccc;} \n",
       "h2, h3 {color: slategray; font-family: 'Roboto'; text-shadow: 4px 4px 4px #ccc;}\n",
       "h4 {color: #348ABD; font-family: 'Orbitron';}\n",
       "span {text-shadow: 4px 4px 4px #ccc;}\n",
       "div.output_prompt, div.output_area pre {color: slategray;}\n",
       "div.input_prompt, div.output_subarea {color: #4876ff;}      \n",
       "div.output_stderr pre {background-color: aliceblue;}  \n",
       "div.output_stderr {background-color: slategrey;}                        \n",
       "</style>\n",
       "<script>\n",
       "code_show = true; \n",
       "function code_display() {\n",
       "    if (code_show) {\n",
       "        $('div.input').each(function(id) {\n",
       "            if (id == 0 || $(this).html().indexOf('hide_code') > -1) {$(this).hide();}\n",
       "        });\n",
       "        $('div.output_prompt').css('opacity', 0);\n",
       "    } else {\n",
       "        $('div.input').each(function(id) {$(this).show();});\n",
       "        $('div.output_prompt').css('opacity', 1);\n",
       "    };\n",
       "    code_show = !code_show;\n",
       "} \n",
       "$(document).ready(code_display);\n",
       "</script>\n",
       "<form action=\"javascript: code_display()\">\n",
       "<input style=\"color: #348ABD; background: aliceblue; opacity: 0.8;\" \\ \n",
       "type=\"submit\" value=\"Click to display or hide code cells\">\n",
       "</form>                  "
      ],
      "text/plain": [
       "<IPython.core.display.HTML object>"
      ]
     },
     "metadata": {},
     "output_type": "display_data"
    }
   ],
   "source": [
    "%%html\n",
    "<style>\n",
    "@import url('https://fonts.googleapis.com/css?family=Orbitron|Roboto');\n",
    "body {background-color: aliceblue;} \n",
    "a {color: #4876ff; font-family: 'Roboto';} \n",
    "h1 {color: #348ABD; font-family: 'Orbitron'; text-shadow: 4px 4px 4px #ccc;} \n",
    "h2, h3 {color: slategray; font-family: 'Roboto'; text-shadow: 4px 4px 4px #ccc;}\n",
    "h4 {color: #348ABD; font-family: 'Orbitron';}\n",
    "span {text-shadow: 4px 4px 4px #ccc;}\n",
    "div.output_prompt, div.output_area pre {color: slategray;}\n",
    "div.input_prompt, div.output_subarea {color: #4876ff;}      \n",
    "div.output_stderr pre {background-color: aliceblue;}  \n",
    "div.output_stderr {background-color: slategrey;}                        \n",
    "</style>\n",
    "<script>\n",
    "code_show = true; \n",
    "function code_display() {\n",
    "    if (code_show) {\n",
    "        $('div.input').each(function(id) {\n",
    "            if (id == 0 || $(this).html().indexOf('hide_code') > -1) {$(this).hide();}\n",
    "        });\n",
    "        $('div.output_prompt').css('opacity', 0);\n",
    "    } else {\n",
    "        $('div.input').each(function(id) {$(this).show();});\n",
    "        $('div.output_prompt').css('opacity', 1);\n",
    "    };\n",
    "    code_show = !code_show;\n",
    "} \n",
    "$(document).ready(code_display);\n",
    "</script>\n",
    "<form action=\"javascript: code_display()\">\n",
    "<input style=\"color: #348ABD; background: aliceblue; opacity: 0.8;\" \\ \n",
    "type=\"submit\" value=\"Click to display or hide code cells\">\n",
    "</form>                  "
   ]
  },
  {
   "cell_type": "code",
   "execution_count": 2,
   "metadata": {},
   "outputs": [
    {
     "name": "stderr",
     "output_type": "stream",
     "text": [
      "Using TensorFlow backend.\n"
     ]
    }
   ],
   "source": [
    "hide_code = ''\n",
    "import numpy as np \n",
    "import pandas as pd\n",
    "import tensorflow as tf\n",
    "\n",
    "from PIL import ImageFile\n",
    "from tqdm import tqdm\n",
    "import h5py\n",
    "import cv2\n",
    "\n",
    "import matplotlib.pylab as plt\n",
    "from matplotlib import cm\n",
    "%matplotlib inline\n",
    "\n",
    "from sklearn.model_selection import train_test_split\n",
    "from sklearn.ensemble import GradientBoostingClassifier, RandomForestClassifier\n",
    "\n",
    "from keras.utils import to_categorical\n",
    "from keras.preprocessing import image as keras_image\n",
    "from keras.callbacks import ModelCheckpoint\n",
    "from keras.preprocessing.image import ImageDataGenerator\n",
    "\n",
    "from keras.models import Sequential, load_model, Model\n",
    "from keras.layers import Input, BatchNormalization\n",
    "from keras.layers import Dense, LSTM, GlobalAveragePooling1D, GlobalAveragePooling2D\n",
    "from keras.layers import Activation, Flatten, Dropout, BatchNormalization\n",
    "from keras.layers import Conv2D, MaxPooling2D, GlobalMaxPooling2D\n",
    "\n",
    "from keras.applications.inception_v3 import InceptionV3, preprocess_input\n",
    "import scipy\n",
    "from scipy import misc"
   ]
  },
  {
   "cell_type": "code",
   "execution_count": 3,
   "metadata": {
    "collapsed": true
   },
   "outputs": [],
   "source": [
    "hide_code\n",
    "# Plot the neural network fitting history\n",
    "def history_plot(fit_history, n):\n",
    "    plt.figure(figsize=(18, 12))\n",
    "    \n",
    "    plt.subplot(211)\n",
    "    plt.plot(fit_history.history['loss'][n:], color='slategray', label = 'train')\n",
    "    plt.plot(fit_history.history['val_loss'][n:], color='#4876ff', label = 'valid')\n",
    "    plt.xlabel(\"Epochs\")\n",
    "    plt.ylabel(\"Loss\")\n",
    "    plt.legend()\n",
    "    plt.title('Loss Function');  \n",
    "    \n",
    "    plt.subplot(212)\n",
    "    plt.plot(fit_history.history['acc'][n:], color='slategray', label = 'train')\n",
    "    plt.plot(fit_history.history['val_acc'][n:], color='#4876ff', label = 'valid')\n",
    "    plt.xlabel(\"Epochs\")\n",
    "    plt.ylabel(\"Accuracy\")    \n",
    "    plt.legend()\n",
    "    plt.title('Accuracy');"
   ]
  },
  {
   "cell_type": "markdown",
   "metadata": {},
   "source": [
    "## Step 1. Load and Explore the Data\n",
    "For this project, I have created two datasets of color images (32x32x3) with 33 handwritten letters.\n",
    "Run the following cell to download the data."
   ]
  },
  {
   "cell_type": "code",
   "execution_count": 4,
   "metadata": {
    "collapsed": true
   },
   "outputs": [],
   "source": [
    "hide_code\n",
    "# Function for processing an image\n",
    "def image_to_tensor(img_path, folder_path):\n",
    "    img = keras_image.load_img(folder_path + img_path, target_size=(32, 32))\n",
    "    x = keras_image.img_to_array(img)\n",
    "    return np.expand_dims(x, axis=0)\n",
    "# Function for creating the data tensor\n",
    "def data_to_tensor(img_paths, folder_path):\n",
    "    list_of_tensors = [image_to_tensor(img_path, folder_path) for img_path in tqdm(img_paths)]\n",
    "    return np.vstack(list_of_tensors)\n",
    "ImageFile.LOAD_TRUNCATED_IMAGES = True "
   ]
  },
  {
   "cell_type": "code",
   "execution_count": 5,
   "metadata": {},
   "outputs": [
    {
     "name": "stderr",
     "output_type": "stream",
     "text": [
      "100%|██████████| 5940/5940 [03:13<00:00, 30.69it/s]\n"
     ]
    }
   ],
   "source": [
    "hide_code\n",
    "# Load the dataset #2\n",
    "data2 = pd.read_csv(\"data2/letters2.csv\")\n",
    "files2 = data2['file']\n",
    "letters2 = data2['letter']\n",
    "backgrounds2 = data2['background'].as_matrix()\n",
    "targets2 = data2['label'].as_matrix()\n",
    "tensors2 = data_to_tensor(files2, \"data2/\");"
   ]
  },
  {
   "cell_type": "code",
   "execution_count": 54,
   "metadata": {},
   "outputs": [
    {
     "name": "stderr",
     "output_type": "stream",
     "text": [
      "100%|██████████| 4600/4600 [02:29<00:00, 30.86it/s]\n"
     ]
    }
   ],
   "source": [
    "hide_code\n",
    "# Load the dataset #2\n",
    "data3 = pd.read_csv(\"data3/letters3.csv\")\n",
    "files3 = data3['file']\n",
    "letters3 = data3['letter']\n",
    "backgrounds3 = data3['background'].as_matrix()\n",
    "targets3 = data3['label'].as_matrix()\n",
    "tensors3 = data_to_tensor(files3, \"data3/\");"
   ]
  },
  {
   "cell_type": "code",
   "execution_count": 55,
   "metadata": {},
   "outputs": [
    {
     "name": "stdout",
     "output_type": "stream",
     "text": [
      "Tensor #2 shape: (5940, 32, 32, 3)\n",
      "Target #2 shape (5940,)\n",
      "Tensor #3 shape: (4600, 32, 32, 3)\n",
      "Target #3 shape (4600,)\n"
     ]
    }
   ],
   "source": [
    "hide_code\n",
    "# Print the shape \n",
    "print ('Tensor #2 shape:', tensors2.shape)\n",
    "print ('Target #2 shape', targets2.shape)\n",
    "print ('Tensor #3 shape:', tensors3.shape)\n",
    "print ('Target #3 shape', targets3.shape)"
   ]
  },
  {
   "cell_type": "code",
   "execution_count": 56,
   "metadata": {},
   "outputs": [
    {
     "name": "stdout",
     "output_type": "stream",
     "text": [
      "Tensor shape: (10540, 32, 32, 3)\n",
      "Target shape (10540,)\n",
      "Background shape: (10540,)\n"
     ]
    }
   ],
   "source": [
    "hide_code\n",
    "# Concatenate arrays\n",
    "tensors = np.concatenate((tensors2, tensors3), axis=0)\n",
    "targets = np.concatenate((targets2, targets3), axis=0)\n",
    "backgrounds = np.concatenate((backgrounds2, backgrounds3), axis=0)\n",
    "print ('Tensor shape:', tensors.shape)\n",
    "print ('Target shape', targets.shape)\n",
    "print ('Background shape:', backgrounds.shape)"
   ]
  },
  {
   "cell_type": "code",
   "execution_count": 57,
   "metadata": {},
   "outputs": [
    {
     "data": {
      "text/plain": [
       "10540"
      ]
     },
     "execution_count": 57,
     "metadata": {},
     "output_type": "execute_result"
    }
   ],
   "source": [
    "hide_code\n",
    "# Concatenate series\n",
    "letters = pd.concat((letters2, letters3), axis=0, ignore_index=True)\n",
    "len(letters)"
   ]
  },
  {
   "cell_type": "code",
   "execution_count": 58,
   "metadata": {},
   "outputs": [
    {
     "data": {
      "image/png": "[encoded data removed]",
      "text/plain": [
       "<matplotlib.figure.Figure at 0x17ee44d68>"
      ]
     },
     "metadata": {},
     "output_type": "display_data"
    }
   ],
   "source": [
    "hide_code\n",
    "# Read from files and display images using OpenCV\n",
    "def display_images(img_path, ax):\n",
    "    img = cv2.imread(\"data2/\" + img_path)\n",
    "    ax.imshow(cv2.cvtColor(img, cv2.COLOR_BGR2RGB))\n",
    "    \n",
    "fig = plt.figure(figsize=(18, 6))\n",
    "for i in range(12):\n",
    "    ax = fig.add_subplot(2, 6, i + 1, xticks=[], yticks=[], title=letters2[i*180])\n",
    "    display_images(files2[i*180], ax)"
   ]
  },
  {
   "cell_type": "code",
   "execution_count": 59,
   "metadata": {},
   "outputs": [
    {
     "data": {
      "image/png": "[encoded data removed]",
      "text/plain": [
       "<matplotlib.figure.Figure at 0x11973b630>"
      ]
     },
     "metadata": {},
     "output_type": "display_data"
    }
   ],
   "source": [
    "hide_code\n",
    "# Read from files and display images using OpenCV\n",
    "def display_images(img_path, ax):\n",
    "    img = cv2.imread(\"data3/\" + img_path)\n",
    "    ax.imshow(cv2.cvtColor(img, cv2.COLOR_BGR2RGB))\n",
    "    \n",
    "fig = plt.figure(figsize=(18, 6))\n",
    "for i in range(12):\n",
    "    ax = fig.add_subplot(2, 6, i + 1, xticks=[], yticks=[], title=letters3[i*200])\n",
    "    display_images(files3[i*200], ax)"
   ]
  },
  {
   "cell_type": "markdown",
   "metadata": {},
   "source": [
    "## Step 2. Save and Load the Data\n",
    "The data tensors can be saved in the appropriate format of files .h5."
   ]
  },
  {
   "cell_type": "code",
   "execution_count": 60,
   "metadata": {
    "collapsed": true
   },
   "outputs": [],
   "source": [
    "hide_code\n",
    "# Create the tensor file\n",
    "with h5py.File('LetterColorImages3.h5', 'w') as f:\n",
    "    f.create_dataset('images', data = tensors)\n",
    "    f.create_dataset('labels', data = targets)\n",
    "    f.create_dataset('backgrounds', data = backgrounds)\n",
    "    f.close()"
   ]
  },
  {
   "cell_type": "code",
   "execution_count": 61,
   "metadata": {},
   "outputs": [
    {
     "data": {
      "text/plain": [
       "['backgrounds', 'images', 'labels']"
      ]
     },
     "execution_count": 61,
     "metadata": {},
     "output_type": "execute_result"
    }
   ],
   "source": [
    "hide_code\n",
    "# Read the h5 file\n",
    "f = h5py.File('LetterColorImages3.h5', 'r')\n",
    "\n",
    "# List all groups\n",
    "keys = list(f.keys())\n",
    "keys"
   ]
  },
  {
   "cell_type": "code",
   "execution_count": 62,
   "metadata": {},
   "outputs": [
    {
     "name": "stdout",
     "output_type": "stream",
     "text": [
      "Tensor shape: (10540, 32, 32, 3)\n",
      "Target shape (10540,)\n",
      "Background shape: (10540,)\n"
     ]
    }
   ],
   "source": [
    "hide_code\n",
    "# Create tensors and targets\n",
    "backgrounds = np.array(f[keys[0]])\n",
    "tensors = np.array(f[keys[1]])\n",
    "targets = np.array(f[keys[2]])\n",
    "print ('Tensor shape:', tensors.shape)\n",
    "print ('Target shape', targets.shape)\n",
    "print ('Background shape:', backgrounds.shape)"
   ]
  },
  {
   "cell_type": "markdown",
   "metadata": {},
   "source": [
    "## Step 3. Implement Preprocess Functions\n",
    "### Normalize and Gray Scale\n",
    "In the cell below, normalize the image tensors, and return them as a normalized Numpy array."
   ]
  },
  {
   "cell_type": "code",
   "execution_count": 63,
   "metadata": {
    "collapsed": true
   },
   "outputs": [],
   "source": [
    "hide_code\n",
    "# Normalize the tensors\n",
    "tensors = tensors.astype('float32')/255"
   ]
  },
  {
   "cell_type": "code",
   "execution_count": 64,
   "metadata": {},
   "outputs": [
    {
     "name": "stdout",
     "output_type": "stream",
     "text": [
      "Label:  ж\n"
     ]
    },
    {
     "data": {
      "image/png": "[encoded data removed]",
      "text/plain": [
       "<matplotlib.figure.Figure at 0x12cf0feb8>"
      ]
     },
     "metadata": {},
     "output_type": "display_data"
    }
   ],
   "source": [
    "hide_code\n",
    "# Read and display a tensor using Matplotlib\n",
    "print('Label: ', letters[7500])\n",
    "plt.figure(figsize=(3,3))\n",
    "plt.imshow(tensors[7500]);"
   ]
  },
  {
   "cell_type": "markdown",
   "metadata": {},
   "source": [
    "Create tensors of grayscaled images and display their shape."
   ]
  },
  {
   "cell_type": "code",
   "execution_count": 65,
   "metadata": {},
   "outputs": [
    {
     "name": "stdout",
     "output_type": "stream",
     "text": [
      "Grayscaled Tensor shape: (10540, 32, 32)\n"
     ]
    }
   ],
   "source": [
    "hide_code\n",
    "# Grayscaled tensors\n",
    "gray_tensors = np.dot(tensors[...,:3], [0.299, 0.587, 0.114])\n",
    "print ('Grayscaled Tensor shape:', gray_tensors.shape)"
   ]
  },
  {
   "cell_type": "code",
   "execution_count": 66,
   "metadata": {},
   "outputs": [
    {
     "name": "stdout",
     "output_type": "stream",
     "text": [
      "Label:  ж\n"
     ]
    },
    {
     "data": {
      "image/png": "[encoded data removed]",
      "text/plain": [
       "<matplotlib.figure.Figure at 0x12cf14438>"
      ]
     },
     "metadata": {},
     "output_type": "display_data"
    }
   ],
   "source": [
    "hide_code\n",
    "# Read and display a grayscaled tensor using Matplotlib\n",
    "print('Label: ', letters[7500])\n",
    "plt.figure(figsize=(3,3))\n",
    "plt.imshow(gray_tensors[7500], cmap=cm.bone);"
   ]
  },
  {
   "cell_type": "markdown",
   "metadata": {},
   "source": [
    "### One-hot encode\n",
    "Now we'll implement the one-hot encoding function to_categorical."
   ]
  },
  {
   "cell_type": "code",
   "execution_count": 67,
   "metadata": {},
   "outputs": [
    {
     "name": "stdout",
     "output_type": "stream",
     "text": [
      "{1, 2, 3, 4, 5, 6, 7, 8, 9, 10, 11, 12, 13, 14, 15, 16, 17, 18, 19, 20, 21, 22, 23, 24, 25, 26, 27, 28, 29, 30, 31, 32, 33}\n"
     ]
    }
   ],
   "source": [
    "hide_code\n",
    "# Print the target unique values\n",
    "print(set(targets))"
   ]
  },
  {
   "cell_type": "code",
   "execution_count": 68,
   "metadata": {},
   "outputs": [
    {
     "data": {
      "text/plain": [
       "(10540, 33)"
      ]
     },
     "execution_count": 68,
     "metadata": {},
     "output_type": "execute_result"
    }
   ],
   "source": [
    "hide_code\n",
    "# One-hot encode the targets, started from the zero label\n",
    "cat_targets = to_categorical(np.array(targets-1), 33)\n",
    "cat_targets.shape"
   ]
  },
  {
   "cell_type": "code",
   "execution_count": 69,
   "metadata": {},
   "outputs": [
    {
     "data": {
      "text/plain": [
       "(10540, 2)"
      ]
     },
     "execution_count": 69,
     "metadata": {},
     "output_type": "execute_result"
    }
   ],
   "source": [
    "hide_code\n",
    "# One-hot encode the background targets\n",
    "backgrounds = to_categorical(backgrounds-2,2)\n",
    "backgrounds.shape"
   ]
  },
  {
   "cell_type": "markdown",
   "metadata": {},
   "source": [
    "### Add background"
   ]
  },
  {
   "cell_type": "code",
   "execution_count": 70,
   "metadata": {},
   "outputs": [
    {
     "data": {
      "text/plain": [
       "(10540, 35)"
      ]
     },
     "execution_count": 70,
     "metadata": {},
     "output_type": "execute_result"
    }
   ],
   "source": [
    "hide_code\n",
    "# Create multi-label targets\n",
    "back_targets = np.concatenate((cat_targets, backgrounds), axis=1)\n",
    "back_targets.shape"
   ]
  },
  {
   "cell_type": "markdown",
   "metadata": {},
   "source": [
    "### Split\n",
    "#### Color Images\n",
    "Apply the function train_test_split and split the data into training and testing sets. Set up the size of the testing set - 20%."
   ]
  },
  {
   "cell_type": "code",
   "execution_count": 71,
   "metadata": {
    "collapsed": true
   },
   "outputs": [],
   "source": [
    "hide_code\n",
    "# Split the data\n",
    "x_train, x_test, y_train, y_test = train_test_split(tensors, cat_targets, \n",
    "                                                    test_size = 0.2, \n",
    "                                                    random_state = 1)\n",
    "n = int(len(x_test)/2)\n",
    "x_valid, y_valid = x_test[:n], y_test[:n]\n",
    "x_test, y_test = x_test[n:], y_test[n:]"
   ]
  },
  {
   "cell_type": "code",
   "execution_count": 72,
   "metadata": {},
   "outputs": [
    {
     "name": "stdout",
     "output_type": "stream",
     "text": [
      "Training tensor's shape: (8432, 32, 32, 3)\n",
      "Training target's shape (8432, 33)\n",
      "Validating tensor's shape: (1054, 32, 32, 3)\n",
      "Validating target's shape (1054, 33)\n",
      "Testing tensor's shape: (1054, 32, 32, 3)\n",
      "Testing target's shape (1054, 33)\n"
     ]
    }
   ],
   "source": [
    "hide_code\n",
    "# Print the shape\n",
    "print (\"Training tensor's shape:\", x_train.shape)\n",
    "print (\"Training target's shape\", y_train.shape)\n",
    "print (\"Validating tensor's shape:\", x_valid.shape)\n",
    "print (\"Validating target's shape\", y_valid.shape)\n",
    "print (\"Testing tensor's shape:\", x_test.shape)\n",
    "print (\"Testing target's shape\", y_test.shape)"
   ]
  },
  {
   "cell_type": "markdown",
   "metadata": {},
   "source": [
    "#### Grayscaled Images"
   ]
  },
  {
   "cell_type": "code",
   "execution_count": 73,
   "metadata": {
    "collapsed": true
   },
   "outputs": [],
   "source": [
    "hide_code\n",
    "# Split the grayscaled data\n",
    "x_train2, x_test2, y_train2, y_test2 = train_test_split(gray_tensors, cat_targets, \n",
    "                                                        test_size = 0.2, \n",
    "                                                        random_state = 1)\n",
    "x_valid2, y_valid2 = x_test2[:n], y_test2[:n]\n",
    "x_test2, y_test2 = x_test2[n:], y_test2[n:]"
   ]
  },
  {
   "cell_type": "code",
   "execution_count": 74,
   "metadata": {
    "collapsed": true
   },
   "outputs": [],
   "source": [
    "hide_code\n",
    "# Reshape the grayscaled data\n",
    "x_train2, x_test2, x_valid2 = \\\n",
    "x_train2.reshape(-1, 32, 32, 1), x_test2.reshape(-1, 32, 32, 1), x_valid2.reshape(-1, 32, 32, 1)"
   ]
  },
  {
   "cell_type": "code",
   "execution_count": 75,
   "metadata": {},
   "outputs": [
    {
     "name": "stdout",
     "output_type": "stream",
     "text": [
      "Training grayscaled tensor's shape: (8432, 32, 32, 1)\n",
      "Training grayscaled target's shape (8432, 33)\n",
      "Validating grayscaled tensor's shape: (1054, 32, 32, 1)\n",
      "Validating grayscaled target's shape (1054, 33)\n",
      "Testing grayscaled tensor's shape: (1054, 32, 32, 1)\n",
      "Testing grayscaled target's shape (1054, 33)\n"
     ]
    }
   ],
   "source": [
    "hide_code\n",
    "# Print the shape\n",
    "print (\"Training grayscaled tensor's shape:\", x_train2.shape)\n",
    "print (\"Training grayscaled target's shape\", y_train2.shape)\n",
    "print (\"Validating grayscaled tensor's shape:\", x_valid2.shape)\n",
    "print (\"Validating grayscaled target's shape\", y_valid2.shape)\n",
    "print (\"Testing grayscaled tensor's shape:\", x_test2.shape)\n",
    "print (\"Testing grayscaled target's shape\", y_test2.shape)"
   ]
  },
  {
   "cell_type": "code",
   "execution_count": 76,
   "metadata": {},
   "outputs": [
    {
     "data": {
      "text/plain": [
       "((8432, 32, 32, 3), (1054, 32, 32, 3), (1054, 32, 32, 3))"
      ]
     },
     "execution_count": 76,
     "metadata": {},
     "output_type": "execute_result"
    }
   ],
   "source": [
    "hide_code\n",
    "# Convert images from grayscaled to RGB\n",
    "x_train2_tensor = tf.image.grayscale_to_rgb(x_train2, name=None)\n",
    "x_test2_tensor = tf.image.grayscale_to_rgb(x_test2, name=None)\n",
    "x_valid2_tensor = tf.image.grayscale_to_rgb(x_valid2, name=None)\n",
    "# Run tensorflow session\n",
    "sess = tf.Session()\n",
    "with sess.as_default():\n",
    "    x_train2_color = x_train2_tensor.eval()\n",
    "    x_test2_color = x_test2_tensor.eval()\n",
    "    x_valid2_color = x_valid2_tensor.eval()\n",
    "# Check the shape    \n",
    "x_train2_color.shape, x_test2_color.shape, x_valid2_color.shape"
   ]
  },
  {
   "cell_type": "markdown",
   "metadata": {},
   "source": [
    "#### Multi-label targets, color images"
   ]
  },
  {
   "cell_type": "code",
   "execution_count": 77,
   "metadata": {
    "collapsed": true
   },
   "outputs": [],
   "source": [
    "hide_code\n",
    "# Split with multi-label targets\n",
    "x_train3, x_test3, y_train3, y_test3 = train_test_split(tensors, back_targets, \n",
    "                                                        test_size = 0.2, \n",
    "                                                        random_state = 1)\n",
    "x_valid3, y_valid3 = x_test3[:n], y_test3[:n]\n",
    "x_test3, y_test3 = x_test3[n:], y_test3[n:]"
   ]
  },
  {
   "cell_type": "code",
   "execution_count": 78,
   "metadata": {},
   "outputs": [
    {
     "name": "stdout",
     "output_type": "stream",
     "text": [
      "Training tensor's shape: (8432, 32, 32, 3)\n",
      "Training target's shape (8432, 35)\n",
      "Validating tensor's shape: (1054, 32, 32, 3)\n",
      "Validating target's shape (1054, 35)\n",
      "Testing tensor's shape: (1054, 32, 32, 3)\n",
      "Testing target's shape (1054, 35)\n"
     ]
    }
   ],
   "source": [
    "hide_code\n",
    "# Print the shape\n",
    "print (\"Training tensor's shape:\", x_train3.shape)\n",
    "print (\"Training target's shape\", y_train3.shape)\n",
    "print (\"Validating tensor's shape:\", x_valid3.shape)\n",
    "print (\"Validating target's shape\", y_valid3.shape)\n",
    "print (\"Testing tensor's shape:\", x_test3.shape)\n",
    "print (\"Testing target's shape\", y_test3.shape)"
   ]
  },
  {
   "cell_type": "code",
   "execution_count": 79,
   "metadata": {
    "collapsed": true
   },
   "outputs": [],
   "source": [
    "hide_code\n",
    "# Create a list of targets\n",
    "y_train3_list = [y_train3[:, :33], y_train3[:, 33:]]\n",
    "y_test3_list = [y_test3[:, :33], y_valid3[:, 33:]]\n",
    "y_valid3_list = [y_valid3[:, :33], y_valid3[:, 33:]]"
   ]
  },
  {
   "cell_type": "markdown",
   "metadata": {},
   "source": [
    "#### Multi-label targets, grayscaled images"
   ]
  },
  {
   "cell_type": "code",
   "execution_count": 80,
   "metadata": {
    "collapsed": true
   },
   "outputs": [],
   "source": [
    "hide_code\n",
    "# Split the grayscaled data\n",
    "x_train4, x_test4, y_train4, y_test4 = train_test_split(gray_tensors, back_targets, \n",
    "                                                        test_size = 0.2, \n",
    "                                                        random_state = 1)\n",
    "x_valid4, y_valid4 = x_test4[:n], y_test4[:n]\n",
    "x_test4, y_test4 = x_test4[n:], y_test4[n:]"
   ]
  },
  {
   "cell_type": "code",
   "execution_count": 81,
   "metadata": {
    "collapsed": true
   },
   "outputs": [],
   "source": [
    "hide_code\n",
    "# Reshape the grayscaled data\n",
    "x_train4, x_test4, x_valid4 = \\\n",
    "x_train4.reshape(-1, 32, 32, 1), x_test4.reshape(-1, 32, 32, 1), x_valid4.reshape(-1, 32, 32, 1)"
   ]
  },
  {
   "cell_type": "code",
   "execution_count": 82,
   "metadata": {},
   "outputs": [
    {
     "name": "stdout",
     "output_type": "stream",
     "text": [
      "Training grayscaled tensor's shape: (8432, 32, 32, 1)\n",
      "Training grayscaled target's shape (8432, 35)\n",
      "Validating grayscaled tensor's shape: (1054, 32, 32, 1)\n",
      "Validating grayscaled target's shape (1054, 35)\n",
      "Testing grayscaled tensor's shape: (1054, 32, 32, 1)\n",
      "Testing grayscaled target's shape (1054, 35)\n"
     ]
    }
   ],
   "source": [
    "hide_code\n",
    "# Print the shape\n",
    "print (\"Training grayscaled tensor's shape:\", x_train4.shape)\n",
    "print (\"Training grayscaled target's shape\", y_train4.shape)\n",
    "print (\"Validating grayscaled tensor's shape:\", x_valid4.shape)\n",
    "print (\"Validating grayscaled target's shape\", y_valid4.shape)\n",
    "print (\"Testing grayscaled tensor's shape:\", x_test4.shape)\n",
    "print (\"Testing grayscaled target's shape\", y_test4.shape)"
   ]
  },
  {
   "cell_type": "code",
   "execution_count": 83,
   "metadata": {
    "collapsed": true
   },
   "outputs": [],
   "source": [
    "hide_code\n",
    "# Create a list of targets\n",
    "y_train4_list = [y_train4[:, :33], y_train4[:, 33:]]\n",
    "y_test4_list = [y_test4[:, :33], y_test4[:, 33:]]\n",
    "y_valid4_list = [y_valid4[:, :33], y_valid4[:, 33:]]"
   ]
  },
  {
   "cell_type": "markdown",
   "metadata": {},
   "source": [
    "## Step 4. Create a One-Label Classification Model\n",
    "### Color Images\n",
    "Define a model architecture and compile the model for color images."
   ]
  },
  {
   "cell_type": "code",
   "execution_count": 84,
   "metadata": {
    "collapsed": true
   },
   "outputs": [],
   "source": [
    "hide_code\n",
    "def model():\n",
    "    model = Sequential()\n",
    "    # TODO: Define a model architecture\n",
    "\n",
    "    model.add(Conv2D(32, (5, 5), padding='same', input_shape=x_train.shape[1:]))\n",
    "    model.add(Activation('relu'))    \n",
    "    model.add(MaxPooling2D(pool_size=(2, 2)))\n",
    "    model.add(Dropout(0.25))\n",
    "\n",
    "    model.add(Conv2D(96, (5, 5)))\n",
    "    model.add(Activation('relu'))    \n",
    "    model.add(MaxPooling2D(pool_size=(2, 2)))\n",
    "    model.add(Dropout(0.25))\n",
    "    \n",
    "    model.add(GlobalMaxPooling2D()) \n",
    "    \n",
    "    model.add(Dense(512, activation='relu'))\n",
    "    model.add(Dropout(0.25))    \n",
    "\n",
    "    model.add(Dense(33))\n",
    "    model.add(Activation('softmax'))\n",
    "    \n",
    "    # TODO: Compile the model\n",
    "    model.compile(loss='categorical_crossentropy', optimizer='nadam', metrics=['accuracy'])\n",
    "    \n",
    "    return model\n",
    "\n",
    "model = model()"
   ]
  },
  {
   "cell_type": "code",
   "execution_count": 85,
   "metadata": {},
   "outputs": [
    {
     "name": "stdout",
     "output_type": "stream",
     "text": [
      "Train on 8432 samples, validate on 1054 samples\n",
      "Epoch 1/100\n",
      "Epoch 00000: val_loss improved from inf to 3.42646, saving model to weights.best.model.hdf5\n",
      "387s - loss: 3.4495 - acc: 0.0410 - val_loss: 3.4265 - val_acc: 0.0503\n",
      "Epoch 2/100\n",
      "Epoch 00001: val_loss improved from 3.42646 to 3.36902, saving model to weights.best.model.hdf5\n",
      "52s - loss: 3.4014 - acc: 0.0498 - val_loss: 3.3690 - val_acc: 0.0503\n",
      "Epoch 3/100\n",
      "Epoch 00002: val_loss improved from 3.36902 to 3.36888, saving model to weights.best.model.hdf5\n",
      "56s - loss: 3.3551 - acc: 0.0589 - val_loss: 3.3689 - val_acc: 0.0607\n",
      "Epoch 4/100\n",
      "Epoch 00003: val_loss improved from 3.36888 to 3.28078, saving model to weights.best.model.hdf5\n",
      "339s - loss: 3.3228 - acc: 0.0642 - val_loss: 3.2808 - val_acc: 0.0645\n",
      "Epoch 5/100\n",
      "Epoch 00004: val_loss improved from 3.28078 to 3.26430, saving model to weights.best.model.hdf5\n",
      "98s - loss: 3.2507 - acc: 0.0691 - val_loss: 3.2643 - val_acc: 0.0683\n",
      "Epoch 6/100\n",
      "Epoch 00005: val_loss improved from 3.26430 to 3.23818, saving model to weights.best.model.hdf5\n",
      "101s - loss: 3.1929 - acc: 0.0772 - val_loss: 3.2382 - val_acc: 0.0882\n",
      "Epoch 7/100\n",
      "Epoch 00006: val_loss improved from 3.23818 to 3.11350, saving model to weights.best.model.hdf5\n",
      "45s - loss: 3.1276 - acc: 0.0900 - val_loss: 3.1135 - val_acc: 0.1101\n",
      "Epoch 8/100\n",
      "Epoch 00007: val_loss did not improve\n",
      "36s - loss: 3.0605 - acc: 0.0987 - val_loss: 3.1807 - val_acc: 0.0721\n",
      "Epoch 9/100\n",
      "Epoch 00008: val_loss improved from 3.11350 to 3.06708, saving model to weights.best.model.hdf5\n",
      "36s - loss: 3.0295 - acc: 0.1028 - val_loss: 3.0671 - val_acc: 0.1053\n",
      "Epoch 10/100\n",
      "Epoch 00009: val_loss did not improve\n",
      "37s - loss: 2.9883 - acc: 0.1143 - val_loss: 3.0687 - val_acc: 0.0996\n",
      "Epoch 11/100\n",
      "Epoch 00010: val_loss improved from 3.06708 to 2.97326, saving model to weights.best.model.hdf5\n",
      "37s - loss: 2.9505 - acc: 0.1153 - val_loss: 2.9733 - val_acc: 0.1252\n",
      "Epoch 12/100\n",
      "Epoch 00011: val_loss did not improve\n",
      "37s - loss: 2.9361 - acc: 0.1255 - val_loss: 3.0550 - val_acc: 0.1186\n",
      "Epoch 13/100\n",
      "Epoch 00012: val_loss did not improve\n",
      "36s - loss: 2.9196 - acc: 0.1278 - val_loss: 2.9818 - val_acc: 0.1262\n",
      "Epoch 14/100\n",
      "Epoch 00013: val_loss did not improve\n",
      "37s - loss: 2.8949 - acc: 0.1284 - val_loss: 3.0569 - val_acc: 0.1243\n",
      "Epoch 15/100\n",
      "Epoch 00014: val_loss did not improve\n",
      "36s - loss: 2.8936 - acc: 0.1271 - val_loss: 3.0690 - val_acc: 0.1271\n",
      "Epoch 16/100\n",
      "Epoch 00015: val_loss improved from 2.97326 to 2.96343, saving model to weights.best.model.hdf5\n",
      "36s - loss: 2.8644 - acc: 0.1389 - val_loss: 2.9634 - val_acc: 0.1281\n",
      "Epoch 17/100\n",
      "Epoch 00016: val_loss did not improve\n",
      "97s - loss: 2.8499 - acc: 0.1382 - val_loss: 3.2413 - val_acc: 0.0949\n",
      "Epoch 18/100\n",
      "Epoch 00017: val_loss did not improve\n",
      "36s - loss: 2.8250 - acc: 0.1494 - val_loss: 2.9868 - val_acc: 0.1632\n",
      "Epoch 19/100\n",
      "Epoch 00018: val_loss did not improve\n",
      "36s - loss: 2.8128 - acc: 0.1513 - val_loss: 3.0010 - val_acc: 0.1376\n",
      "Epoch 20/100\n",
      "Epoch 00019: val_loss improved from 2.96343 to 2.95371, saving model to weights.best.model.hdf5\n",
      "39s - loss: 2.7997 - acc: 0.1503 - val_loss: 2.9537 - val_acc: 0.1442\n",
      "Epoch 21/100\n",
      "Epoch 00020: val_loss improved from 2.95371 to 2.94842, saving model to weights.best.model.hdf5\n",
      "41s - loss: 2.7608 - acc: 0.1702 - val_loss: 2.9484 - val_acc: 0.1698\n",
      "Epoch 22/100\n",
      "Epoch 00021: val_loss improved from 2.94842 to 2.81106, saving model to weights.best.model.hdf5\n",
      "53s - loss: 2.7073 - acc: 0.1877 - val_loss: 2.8111 - val_acc: 0.1860\n",
      "Epoch 23/100\n",
      "Epoch 00022: val_loss did not improve\n",
      "36s - loss: 2.6436 - acc: 0.2046 - val_loss: 2.9172 - val_acc: 0.1670\n",
      "Epoch 24/100\n",
      "Epoch 00023: val_loss improved from 2.81106 to 2.55908, saving model to weights.best.model.hdf5\n",
      "36s - loss: 2.5270 - acc: 0.2365 - val_loss: 2.5591 - val_acc: 0.2552\n",
      "Epoch 25/100\n",
      "Epoch 00024: val_loss improved from 2.55908 to 2.47865, saving model to weights.best.model.hdf5\n",
      "36s - loss: 2.4547 - acc: 0.2574 - val_loss: 2.4786 - val_acc: 0.2884\n",
      "Epoch 26/100\n",
      "Epoch 00025: val_loss improved from 2.47865 to 2.32899, saving model to weights.best.model.hdf5\n",
      "38s - loss: 2.3668 - acc: 0.2770 - val_loss: 2.3290 - val_acc: 0.3368\n",
      "Epoch 27/100\n",
      "Epoch 00026: val_loss did not improve\n",
      "36s - loss: 2.2826 - acc: 0.3049 - val_loss: 2.4233 - val_acc: 0.3112\n",
      "Epoch 28/100\n",
      "Epoch 00027: val_loss improved from 2.32899 to 2.16789, saving model to weights.best.model.hdf5\n",
      "36s - loss: 2.2297 - acc: 0.3241 - val_loss: 2.1679 - val_acc: 0.3738\n",
      "Epoch 29/100\n",
      "Epoch 00028: val_loss did not improve\n",
      "36s - loss: 2.1438 - acc: 0.3399 - val_loss: 2.1909 - val_acc: 0.3700\n",
      "Epoch 30/100\n",
      "Epoch 00029: val_loss did not improve\n",
      "35s - loss: 2.0856 - acc: 0.3538 - val_loss: 2.3611 - val_acc: 0.3292\n",
      "Epoch 31/100\n",
      "Epoch 00030: val_loss improved from 2.16789 to 1.99518, saving model to weights.best.model.hdf5\n",
      "37s - loss: 2.0233 - acc: 0.3763 - val_loss: 1.9952 - val_acc: 0.4374\n",
      "Epoch 32/100\n",
      "Epoch 00031: val_loss did not improve\n",
      "37s - loss: 1.9628 - acc: 0.3999 - val_loss: 2.1488 - val_acc: 0.3899\n",
      "Epoch 33/100\n",
      "Epoch 00032: val_loss did not improve\n",
      "36s - loss: 1.8952 - acc: 0.4095 - val_loss: 2.2245 - val_acc: 0.3454\n",
      "Epoch 34/100\n",
      "Epoch 00033: val_loss improved from 1.99518 to 1.98622, saving model to weights.best.model.hdf5\n",
      "38s - loss: 1.8192 - acc: 0.4348 - val_loss: 1.9862 - val_acc: 0.4269\n",
      "Epoch 35/100\n",
      "Epoch 00034: val_loss improved from 1.98622 to 1.85446, saving model to weights.best.model.hdf5\n",
      "35s - loss: 1.7871 - acc: 0.4447 - val_loss: 1.8545 - val_acc: 0.4630\n",
      "Epoch 36/100\n",
      "Epoch 00035: val_loss improved from 1.85446 to 1.84990, saving model to weights.best.model.hdf5\n",
      "35s - loss: 1.7381 - acc: 0.4543 - val_loss: 1.8499 - val_acc: 0.4554\n",
      "Epoch 37/100\n",
      "Epoch 00036: val_loss did not improve\n",
      "36s - loss: 1.6759 - acc: 0.4765 - val_loss: 1.9520 - val_acc: 0.4288\n",
      "Epoch 38/100\n",
      "Epoch 00037: val_loss improved from 1.84990 to 1.67805, saving model to weights.best.model.hdf5\n",
      "36s - loss: 1.6254 - acc: 0.4878 - val_loss: 1.6781 - val_acc: 0.5247\n",
      "Epoch 39/100\n",
      "Epoch 00038: val_loss improved from 1.67805 to 1.51749, saving model to weights.best.model.hdf5\n",
      "36s - loss: 1.5813 - acc: 0.5043 - val_loss: 1.5175 - val_acc: 0.5645\n",
      "Epoch 40/100\n",
      "Epoch 00039: val_loss did not improve\n",
      "36s - loss: 1.5402 - acc: 0.5125 - val_loss: 1.6950 - val_acc: 0.5123\n",
      "Epoch 41/100\n",
      "Epoch 00040: val_loss did not improve\n",
      "37s - loss: 1.5069 - acc: 0.5294 - val_loss: 1.8613 - val_acc: 0.4658\n",
      "Epoch 42/100\n",
      "Epoch 00041: val_loss did not improve\n",
      "36s - loss: 1.4737 - acc: 0.5339 - val_loss: 1.9030 - val_acc: 0.4336\n",
      "Epoch 43/100\n",
      "Epoch 00042: val_loss did not improve\n",
      "36s - loss: 1.4614 - acc: 0.5406 - val_loss: 1.6120 - val_acc: 0.5417\n",
      "Epoch 44/100\n",
      "Epoch 00043: val_loss did not improve\n",
      "36s - loss: 1.4121 - acc: 0.5581 - val_loss: 1.6669 - val_acc: 0.5104\n",
      "Epoch 45/100\n",
      "Epoch 00044: val_loss improved from 1.51749 to 1.39433, saving model to weights.best.model.hdf5\n",
      "36s - loss: 1.4186 - acc: 0.5503 - val_loss: 1.3943 - val_acc: 0.5987\n",
      "Epoch 46/100\n",
      "Epoch 00045: val_loss did not improve\n",
      "36s - loss: 1.3528 - acc: 0.5751 - val_loss: 1.4604 - val_acc: 0.5873\n",
      "Epoch 47/100\n",
      "Epoch 00046: val_loss did not improve\n",
      "36s - loss: 1.3428 - acc: 0.5810 - val_loss: 1.4957 - val_acc: 0.5541\n",
      "Epoch 48/100\n",
      "Epoch 00047: val_loss did not improve\n",
      "36s - loss: 1.3315 - acc: 0.5805 - val_loss: 1.5593 - val_acc: 0.5389\n",
      "Epoch 49/100\n",
      "Epoch 00048: val_loss improved from 1.39433 to 1.34064, saving model to weights.best.model.hdf5\n",
      "37s - loss: 1.2729 - acc: 0.6003 - val_loss: 1.3406 - val_acc: 0.6167\n",
      "Epoch 50/100\n",
      "Epoch 00049: val_loss improved from 1.34064 to 1.31128, saving model to weights.best.model.hdf5\n",
      "39s - loss: 1.2796 - acc: 0.5910 - val_loss: 1.3113 - val_acc: 0.6167\n",
      "Epoch 51/100\n",
      "Epoch 00050: val_loss did not improve\n",
      "40s - loss: 1.2345 - acc: 0.6073 - val_loss: 1.3227 - val_acc: 0.6110\n",
      "Epoch 52/100\n",
      "Epoch 00051: val_loss did not improve\n",
      "43s - loss: 1.2145 - acc: 0.6128 - val_loss: 1.3393 - val_acc: 0.5977\n",
      "Epoch 53/100\n",
      "Epoch 00052: val_loss improved from 1.31128 to 1.30390, saving model to weights.best.model.hdf5\n",
      "39s - loss: 1.2154 - acc: 0.6216 - val_loss: 1.3039 - val_acc: 0.6157\n",
      "Epoch 54/100\n",
      "Epoch 00053: val_loss improved from 1.30390 to 1.09265, saving model to weights.best.model.hdf5\n",
      "37s - loss: 1.1931 - acc: 0.6226 - val_loss: 1.0927 - val_acc: 0.6841\n",
      "Epoch 55/100\n"
     ]
    },
    {
     "name": "stdout",
     "output_type": "stream",
     "text": [
      "Epoch 00054: val_loss improved from 1.09265 to 1.08275, saving model to weights.best.model.hdf5\n",
      "39s - loss: 1.1650 - acc: 0.6310 - val_loss: 1.0827 - val_acc: 0.6869\n",
      "Epoch 56/100\n",
      "Epoch 00055: val_loss did not improve\n",
      "37s - loss: 1.1582 - acc: 0.6275 - val_loss: 1.2626 - val_acc: 0.6442\n",
      "Epoch 57/100\n",
      "Epoch 00056: val_loss did not improve\n",
      "37s - loss: 1.1219 - acc: 0.6426 - val_loss: 1.1106 - val_acc: 0.6822\n",
      "Epoch 58/100\n",
      "Epoch 00057: val_loss did not improve\n",
      "37s - loss: 1.0949 - acc: 0.6473 - val_loss: 1.2563 - val_acc: 0.6186\n",
      "Epoch 59/100\n",
      "Epoch 00058: val_loss did not improve\n",
      "36s - loss: 1.1208 - acc: 0.6454 - val_loss: 1.1489 - val_acc: 0.6622\n",
      "Epoch 60/100\n",
      "Epoch 00059: val_loss did not improve\n",
      "36s - loss: 1.0810 - acc: 0.6536 - val_loss: 1.1197 - val_acc: 0.6651\n",
      "Epoch 61/100\n",
      "Epoch 00060: val_loss did not improve\n",
      "35s - loss: 1.0705 - acc: 0.6628 - val_loss: 1.2624 - val_acc: 0.6366\n",
      "Epoch 62/100\n",
      "Epoch 00061: val_loss did not improve\n",
      "35s - loss: 1.0561 - acc: 0.6625 - val_loss: 1.1790 - val_acc: 0.6499\n",
      "Epoch 63/100\n",
      "Epoch 00062: val_loss did not improve\n",
      "35s - loss: 1.0446 - acc: 0.6690 - val_loss: 1.1758 - val_acc: 0.6537\n",
      "Epoch 64/100\n",
      "Epoch 00063: val_loss improved from 1.08275 to 0.92434, saving model to weights.best.model.hdf5\n",
      "36s - loss: 1.0430 - acc: 0.6704 - val_loss: 0.9243 - val_acc: 0.7410\n",
      "Epoch 65/100\n",
      "Epoch 00064: val_loss did not improve\n",
      "36s - loss: 1.0216 - acc: 0.6769 - val_loss: 1.0758 - val_acc: 0.6793\n",
      "Epoch 66/100\n",
      "Epoch 00065: val_loss did not improve\n",
      "35s - loss: 1.0257 - acc: 0.6705 - val_loss: 1.0122 - val_acc: 0.7068\n",
      "Epoch 67/100\n",
      "Epoch 00066: val_loss did not improve\n",
      "36s - loss: 1.0243 - acc: 0.6711 - val_loss: 1.2522 - val_acc: 0.6176\n",
      "Epoch 68/100\n",
      "Epoch 00067: val_loss did not improve\n",
      "36s - loss: 1.0060 - acc: 0.6811 - val_loss: 1.0059 - val_acc: 0.7163\n",
      "Epoch 69/100\n",
      "Epoch 00068: val_loss did not improve\n",
      "35s - loss: 0.9720 - acc: 0.6849 - val_loss: 1.1495 - val_acc: 0.6613\n",
      "Epoch 70/100\n",
      "Epoch 00069: val_loss did not improve\n",
      "36s - loss: 0.9821 - acc: 0.6906 - val_loss: 1.0973 - val_acc: 0.6765\n",
      "Epoch 71/100\n",
      "Epoch 00070: val_loss did not improve\n",
      "36s - loss: 0.9617 - acc: 0.6950 - val_loss: 1.1271 - val_acc: 0.6622\n",
      "Epoch 72/100\n",
      "Epoch 00071: val_loss did not improve\n",
      "36s - loss: 0.9244 - acc: 0.7080 - val_loss: 1.0998 - val_acc: 0.6698\n",
      "Epoch 73/100\n",
      "Epoch 00072: val_loss did not improve\n",
      "35s - loss: 0.9566 - acc: 0.6977 - val_loss: 1.0540 - val_acc: 0.7002\n",
      "Epoch 74/100\n",
      "Epoch 00073: val_loss did not improve\n",
      "35s - loss: 0.9549 - acc: 0.7005 - val_loss: 1.0658 - val_acc: 0.6898\n",
      "Epoch 75/100\n",
      "Epoch 00074: val_loss did not improve\n",
      "35s - loss: 0.9372 - acc: 0.7004 - val_loss: 1.0108 - val_acc: 0.7059\n",
      "Epoch 76/100\n",
      "Epoch 00075: val_loss did not improve\n",
      "35s - loss: 0.9259 - acc: 0.7033 - val_loss: 1.1138 - val_acc: 0.6860\n",
      "Epoch 77/100\n",
      "Epoch 00076: val_loss did not improve\n",
      "35s - loss: 0.9129 - acc: 0.7085 - val_loss: 1.2756 - val_acc: 0.6015\n",
      "Epoch 78/100\n",
      "Epoch 00077: val_loss did not improve\n",
      "36s - loss: 0.9215 - acc: 0.7083 - val_loss: 1.0131 - val_acc: 0.6992\n",
      "Epoch 79/100\n",
      "Epoch 00078: val_loss did not improve\n",
      "35s - loss: 0.9050 - acc: 0.7162 - val_loss: 1.0419 - val_acc: 0.6812\n",
      "Epoch 80/100\n",
      "Epoch 00079: val_loss did not improve\n",
      "35s - loss: 0.8832 - acc: 0.7158 - val_loss: 0.9599 - val_acc: 0.7135\n",
      "Epoch 81/100\n",
      "Epoch 00080: val_loss did not improve\n",
      "35s - loss: 0.8624 - acc: 0.7281 - val_loss: 0.9900 - val_acc: 0.7002\n",
      "Epoch 82/100\n",
      "Epoch 00081: val_loss did not improve\n",
      "35s - loss: 0.8640 - acc: 0.7224 - val_loss: 1.0051 - val_acc: 0.7030\n",
      "Epoch 83/100\n",
      "Epoch 00082: val_loss did not improve\n",
      "35s - loss: 0.8952 - acc: 0.7126 - val_loss: 0.9329 - val_acc: 0.7230\n",
      "Epoch 84/100\n",
      "Epoch 00083: val_loss improved from 0.92434 to 0.84258, saving model to weights.best.model.hdf5\n",
      "36s - loss: 0.8845 - acc: 0.7201 - val_loss: 0.8426 - val_acc: 0.7457\n",
      "Epoch 85/100\n",
      "Epoch 00084: val_loss did not improve\n",
      "36s - loss: 0.8552 - acc: 0.7291 - val_loss: 1.0708 - val_acc: 0.6717\n",
      "Epoch 86/100\n",
      "Epoch 00085: val_loss did not improve\n",
      "36s - loss: 0.8514 - acc: 0.7269 - val_loss: 0.9282 - val_acc: 0.7116\n",
      "Epoch 87/100\n",
      "Epoch 00086: val_loss did not improve\n",
      "36s - loss: 0.9028 - acc: 0.7160 - val_loss: 0.9343 - val_acc: 0.7296\n",
      "Epoch 88/100\n",
      "Epoch 00087: val_loss improved from 0.84258 to 0.82997, saving model to weights.best.model.hdf5\n",
      "36s - loss: 0.8276 - acc: 0.7353 - val_loss: 0.8300 - val_acc: 0.7552\n",
      "Epoch 89/100\n",
      "Epoch 00088: val_loss did not improve\n",
      "35s - loss: 0.8397 - acc: 0.7334 - val_loss: 1.0168 - val_acc: 0.6888\n",
      "Epoch 90/100\n",
      "Epoch 00089: val_loss did not improve\n",
      "36s - loss: 0.8039 - acc: 0.7386 - val_loss: 1.0051 - val_acc: 0.6765\n",
      "Epoch 91/100\n",
      "Epoch 00090: val_loss did not improve\n",
      "36s - loss: 0.8278 - acc: 0.7377 - val_loss: 0.8984 - val_acc: 0.7343\n",
      "Epoch 92/100\n",
      "Epoch 00091: val_loss did not improve\n",
      "35s - loss: 0.8287 - acc: 0.7323 - val_loss: 0.9671 - val_acc: 0.6926\n",
      "Epoch 93/100\n",
      "Epoch 00092: val_loss improved from 0.82997 to 0.81066, saving model to weights.best.model.hdf5\n",
      "36s - loss: 0.7722 - acc: 0.7537 - val_loss: 0.8107 - val_acc: 0.7514\n",
      "Epoch 94/100\n",
      "Epoch 00093: val_loss did not improve\n",
      "35s - loss: 0.7856 - acc: 0.7469 - val_loss: 1.1718 - val_acc: 0.6565\n",
      "Epoch 95/100\n",
      "Epoch 00094: val_loss did not improve\n",
      "35s - loss: 0.7934 - acc: 0.7398 - val_loss: 1.2882 - val_acc: 0.6157\n",
      "Epoch 96/100\n",
      "Epoch 00095: val_loss did not improve\n",
      "35s - loss: 0.8083 - acc: 0.7467 - val_loss: 0.9330 - val_acc: 0.7154\n",
      "Epoch 97/100\n",
      "Epoch 00096: val_loss did not improve\n",
      "36s - loss: 0.7799 - acc: 0.7467 - val_loss: 1.0760 - val_acc: 0.6841\n",
      "Epoch 98/100\n",
      "Epoch 00097: val_loss did not improve\n",
      "36s - loss: 0.7742 - acc: 0.7468 - val_loss: 1.1036 - val_acc: 0.6689\n",
      "Epoch 99/100\n",
      "Epoch 00098: val_loss did not improve\n",
      "36s - loss: 0.7788 - acc: 0.7527 - val_loss: 0.9355 - val_acc: 0.7268\n",
      "Epoch 100/100\n",
      "Epoch 00099: val_loss did not improve\n",
      "36s - loss: 0.7419 - acc: 0.7562 - val_loss: 0.9174 - val_acc: 0.7144\n"
     ]
    }
   ],
   "source": [
    "hide_code\n",
    "# Train the model\n",
    "checkpointer = ModelCheckpoint(filepath='weights.best.model.hdf5', \n",
    "                               verbose=2, save_best_only=True)\n",
    "history = model.fit(x_train, y_train, \n",
    "                    epochs=100, batch_size=64, verbose=2,\n",
    "                    validation_data=(x_valid, y_valid),\n",
    "                    callbacks=[checkpointer])"
   ]
  },
  {
   "cell_type": "code",
   "execution_count": 86,
   "metadata": {},
   "outputs": [
    {
     "data": {
      "image/png": "[encoded data removed]",
      "text/plain": [
       "<matplotlib.figure.Figure at 0x11b777eb8>"
      ]
     },
     "metadata": {},
     "output_type": "display_data"
    }
   ],
   "source": [
    "hide_code\n",
    "# Plot the training history\n",
    "history_plot(history, 0)"
   ]
  },
  {
   "cell_type": "markdown",
   "metadata": {},
   "source": [
    "We should have an accuracy greater than 3%"
   ]
  },
  {
   "cell_type": "code",
   "execution_count": 87,
   "metadata": {},
   "outputs": [
    {
     "name": "stdout",
     "output_type": "stream",
     "text": [
      "1054/1054 [==============================] - 2s     \n"
     ]
    },
    {
     "data": {
      "text/plain": [
       "[0.81023033305408831, 0.76470588190053401]"
      ]
     },
     "execution_count": 87,
     "metadata": {},
     "output_type": "execute_result"
    }
   ],
   "source": [
    "hide_code\n",
    "# Load the model with the best validation accuracy\n",
    "model.load_weights('weights.best.model.hdf5')\n",
    "# Calculate classification accuracy on the testing set\n",
    "score = model.evaluate(x_test, y_test)\n",
    "score"
   ]
  },
  {
   "cell_type": "markdown",
   "metadata": {},
   "source": [
    "Apply the ImageDataGenerator() function."
   ]
  },
  {
   "cell_type": "code",
   "execution_count": null,
   "metadata": {
    "collapsed": true
   },
   "outputs": [],
   "source": [
    "hide_code\n",
    "# Fit the model with ImageDataGenerator()\n",
    "# TODO: Define parameters\n",
    "steps, epochs = 1000, 10\n",
    "data_generator = ImageDataGenerator(zoom_range=0.2, shear_range=0.2, rotation_range=20)\n",
    "\n",
    "generator = model.fit_generator(data_generator.flow(x_train, y_train, batch_size=64),\n",
    "                                steps_per_epoch = steps, epochs = epochs,\n",
    "                                validation_data = (x_valid, y_valid), \n",
    "                                callbacks=[checkpointer], verbose=2)"
   ]
  },
  {
   "cell_type": "code",
   "execution_count": null,
   "metadata": {
    "collapsed": true
   },
   "outputs": [],
   "source": [
    "hide_code\n",
    "# Load the model with the best validation accuracy\n",
    "model.load_weights('weights.best.model.hdf5')\n",
    "# Calculate classification accuracy on the testing set\n",
    "score = model.evaluate(x_test, y_test)\n",
    "score"
   ]
  },
  {
   "cell_type": "markdown",
   "metadata": {},
   "source": [
    "Let's compare the results with classifying algorithms."
   ]
  },
  {
   "cell_type": "code",
   "execution_count": null,
   "metadata": {
    "collapsed": true
   },
   "outputs": [],
   "source": [
    "hide_code\n",
    "# Fit the classifier and get the accuracy score\n",
    "y_train_c = np.array([np.argmax(y) for y in y_train])\n",
    "y_test_c = np.array([np.argmax(y) for y in y_test])\n",
    "clf = GradientBoostingClassifier().fit(x_train.reshape(-1, 32*32*3), y_train_c)\n",
    "clf.score(x_test.reshape(-1, 32*32*3), y_test_c)"
   ]
  },
  {
   "cell_type": "code",
   "execution_count": null,
   "metadata": {
    "collapsed": true
   },
   "outputs": [],
   "source": [
    "hide_code\n",
    "# Fit the classifier and get the accuracy score\n",
    "clf2 = RandomForestClassifier().fit(x_train.reshape(-1, 32*32*3), y_train_c)\n",
    "clf2.score(x_test.reshape(-1, 32*32*3), y_test_c)"
   ]
  },
  {
   "cell_type": "markdown",
   "metadata": {},
   "source": [
    "### Grayscaled Images\n",
    "Define a model architecture and compile the model for grayscaled images."
   ]
  },
  {
   "cell_type": "code",
   "execution_count": 88,
   "metadata": {
    "collapsed": true
   },
   "outputs": [],
   "source": [
    "hide_code\n",
    "def gray_model():\n",
    "    model = Sequential()\n",
    "    \n",
    "    # TODO: Define a model architecture\n",
    "    model.add(Conv2D(32, (5, 5), padding='same', input_shape=x_train2.shape[1:]))\n",
    "    model.add(Activation('relu'))    \n",
    "    model.add(MaxPooling2D(pool_size=(2, 2)))\n",
    "    model.add(Dropout(0.25))\n",
    "\n",
    "    model.add(Conv2D(256, (5, 5)))\n",
    "    model.add(Activation('relu'))    \n",
    "    model.add(MaxPooling2D(pool_size=(2, 2)))\n",
    "    model.add(Dropout(0.25))\n",
    "    \n",
    "    model.add(GlobalMaxPooling2D()) \n",
    "    \n",
    "    model.add(Dense(1024, activation='relu'))\n",
    "    model.add(Dropout(0.25)) \n",
    "    \n",
    "    model.add(Dense(256, activation='relu'))\n",
    "    model.add(Dropout(0.25))    \n",
    "\n",
    "    model.add(Dense(33))\n",
    "    model.add(Activation('softmax'))\n",
    "    \n",
    "    # TODO: Compile the model\n",
    "    model.compile(loss='categorical_crossentropy', optimizer='rmsprop', metrics=['accuracy'])\n",
    "    return model\n",
    "\n",
    "gray_model = gray_model()"
   ]
  },
  {
   "cell_type": "code",
   "execution_count": 89,
   "metadata": {},
   "outputs": [
    {
     "name": "stdout",
     "output_type": "stream",
     "text": [
      "Epoch 00000: val_loss improved from inf to 3.46802, saving model to weights.best.gray_model.hdf5\n",
      "Epoch 00001: val_loss improved from 3.46802 to 3.39626, saving model to weights.best.gray_model.hdf5\n",
      "Epoch 00002: val_loss improved from 3.39626 to 3.35840, saving model to weights.best.gray_model.hdf5\n",
      "Epoch 00003: val_loss improved from 3.35840 to 3.33638, saving model to weights.best.gray_model.hdf5\n",
      "Epoch 00004: val_loss did not improve\n",
      "Epoch 00005: val_loss improved from 3.33638 to 3.30284, saving model to weights.best.gray_model.hdf5\n",
      "Epoch 00006: val_loss improved from 3.30284 to 3.18453, saving model to weights.best.gray_model.hdf5\n",
      "Epoch 00007: val_loss improved from 3.18453 to 3.13013, saving model to weights.best.gray_model.hdf5\n",
      "Epoch 00008: val_loss improved from 3.13013 to 3.09095, saving model to weights.best.gray_model.hdf5\n",
      "Epoch 00009: val_loss improved from 3.09095 to 2.63344, saving model to weights.best.gray_model.hdf5\n",
      "Epoch 00010: val_loss improved from 2.63344 to 2.32207, saving model to weights.best.gray_model.hdf5\n",
      "Epoch 00011: val_loss improved from 2.32207 to 2.31541, saving model to weights.best.gray_model.hdf5\n",
      "Epoch 00012: val_loss improved from 2.31541 to 1.82752, saving model to weights.best.gray_model.hdf5\n",
      "Epoch 00013: val_loss did not improve\n",
      "Epoch 00014: val_loss improved from 1.82752 to 1.58057, saving model to weights.best.gray_model.hdf5\n",
      "Epoch 00015: val_loss improved from 1.58057 to 1.41679, saving model to weights.best.gray_model.hdf5\n",
      "Epoch 00016: val_loss improved from 1.41679 to 1.37095, saving model to weights.best.gray_model.hdf5\n",
      "Epoch 00017: val_loss did not improve\n",
      "Epoch 00018: val_loss improved from 1.37095 to 1.28788, saving model to weights.best.gray_model.hdf5\n",
      "Epoch 00019: val_loss improved from 1.28788 to 1.23881, saving model to weights.best.gray_model.hdf5\n",
      "Epoch 00020: val_loss improved from 1.23881 to 1.07301, saving model to weights.best.gray_model.hdf5\n",
      "Epoch 00021: val_loss did not improve\n",
      "Epoch 00022: val_loss improved from 1.07301 to 0.91756, saving model to weights.best.gray_model.hdf5\n",
      "Epoch 00023: val_loss improved from 0.91756 to 0.81908, saving model to weights.best.gray_model.hdf5\n",
      "Epoch 00024: val_loss did not improve\n",
      "Epoch 00025: val_loss did not improve\n",
      "Epoch 00026: val_loss improved from 0.81908 to 0.72558, saving model to weights.best.gray_model.hdf5\n",
      "Epoch 00027: val_loss improved from 0.72558 to 0.69602, saving model to weights.best.gray_model.hdf5\n",
      "Epoch 00028: val_loss did not improve\n",
      "Epoch 00029: val_loss improved from 0.69602 to 0.67439, saving model to weights.best.gray_model.hdf5\n",
      "Epoch 00030: val_loss improved from 0.67439 to 0.58121, saving model to weights.best.gray_model.hdf5\n",
      "Epoch 00031: val_loss did not improve\n",
      "Epoch 00032: val_loss did not improve\n",
      "Epoch 00033: val_loss did not improve\n",
      "Epoch 00034: val_loss did not improve\n",
      "Epoch 00035: val_loss improved from 0.58121 to 0.56193, saving model to weights.best.gray_model.hdf5\n",
      "Epoch 00036: val_loss did not improve\n",
      "Epoch 00037: val_loss did not improve\n",
      "Epoch 00038: val_loss improved from 0.56193 to 0.49801, saving model to weights.best.gray_model.hdf5\n",
      "Epoch 00039: val_loss improved from 0.49801 to 0.47228, saving model to weights.best.gray_model.hdf5\n",
      "Epoch 00040: val_loss did not improve\n",
      "Epoch 00041: val_loss improved from 0.47228 to 0.45904, saving model to weights.best.gray_model.hdf5\n",
      "Epoch 00042: val_loss did not improve\n",
      "Epoch 00043: val_loss did not improve\n",
      "Epoch 00044: val_loss improved from 0.45904 to 0.44177, saving model to weights.best.gray_model.hdf5\n",
      "Epoch 00045: val_loss did not improve\n",
      "Epoch 00046: val_loss improved from 0.44177 to 0.39441, saving model to weights.best.gray_model.hdf5\n",
      "Epoch 00047: val_loss did not improve\n",
      "Epoch 00048: val_loss did not improve\n",
      "Epoch 00049: val_loss did not improve\n",
      "Epoch 00050: val_loss improved from 0.39441 to 0.37109, saving model to weights.best.gray_model.hdf5\n",
      "Epoch 00051: val_loss did not improve\n",
      "Epoch 00052: val_loss did not improve\n",
      "Epoch 00053: val_loss did not improve\n",
      "Epoch 00054: val_loss improved from 0.37109 to 0.36116, saving model to weights.best.gray_model.hdf5\n",
      "Epoch 00055: val_loss did not improve\n",
      "Epoch 00056: val_loss did not improve\n",
      "Epoch 00057: val_loss did not improve\n",
      "Epoch 00058: val_loss did not improve\n",
      "Epoch 00059: val_loss did not improve\n",
      "Epoch 00060: val_loss did not improve\n",
      "Epoch 00061: val_loss did not improve\n",
      "Epoch 00062: val_loss did not improve\n",
      "Epoch 00063: val_loss did not improve\n",
      "Epoch 00064: val_loss did not improve\n",
      "Epoch 00065: val_loss did not improve\n",
      "Epoch 00066: val_loss did not improve\n",
      "Epoch 00067: val_loss did not improve\n",
      "Epoch 00068: val_loss did not improve\n",
      "Epoch 00069: val_loss improved from 0.36116 to 0.35721, saving model to weights.best.gray_model.hdf5\n",
      "Epoch 00070: val_loss did not improve\n",
      "Epoch 00071: val_loss did not improve\n",
      "Epoch 00072: val_loss did not improve\n",
      "Epoch 00073: val_loss did not improve\n",
      "Epoch 00074: val_loss did not improve\n",
      "Epoch 00075: val_loss did not improve\n",
      "Epoch 00076: val_loss did not improve\n",
      "Epoch 00077: val_loss did not improve\n",
      "Epoch 00078: val_loss did not improve\n",
      "Epoch 00079: val_loss improved from 0.35721 to 0.35436, saving model to weights.best.gray_model.hdf5\n",
      "Epoch 00080: val_loss did not improve\n",
      "Epoch 00081: val_loss did not improve\n",
      "Epoch 00082: val_loss did not improve\n",
      "Epoch 00083: val_loss did not improve\n",
      "Epoch 00084: val_loss did not improve\n",
      "Epoch 00085: val_loss did not improve\n",
      "Epoch 00086: val_loss did not improve\n",
      "Epoch 00087: val_loss did not improve\n",
      "Epoch 00088: val_loss did not improve\n",
      "Epoch 00089: val_loss did not improve\n",
      "Epoch 00090: val_loss did not improve\n",
      "Epoch 00091: val_loss did not improve\n",
      "Epoch 00092: val_loss did not improve\n",
      "Epoch 00093: val_loss did not improve\n",
      "Epoch 00094: val_loss did not improve\n",
      "Epoch 00095: val_loss did not improve\n",
      "Epoch 00096: val_loss did not improve\n",
      "Epoch 00097: val_loss did not improve\n",
      "Epoch 00098: val_loss improved from 0.35436 to 0.33462, saving model to weights.best.gray_model.hdf5\n",
      "Epoch 00099: val_loss did not improve\n",
      "Epoch 00100: val_loss did not improve\n",
      "Epoch 00101: val_loss did not improve\n",
      "Epoch 00102: val_loss did not improve\n",
      "Epoch 00103: val_loss did not improve\n",
      "Epoch 00104: val_loss did not improve\n",
      "Epoch 00105: val_loss did not improve\n",
      "Epoch 00106: val_loss did not improve\n",
      "Epoch 00107: val_loss did not improve\n",
      "Epoch 00108: val_loss did not improve\n",
      "Epoch 00109: val_loss did not improve\n",
      "Epoch 00110: val_loss did not improve\n",
      "Epoch 00111: val_loss did not improve\n",
      "Epoch 00112: val_loss did not improve\n",
      "Epoch 00113: val_loss did not improve\n",
      "Epoch 00114: val_loss did not improve\n",
      "Epoch 00115: val_loss did not improve\n",
      "Epoch 00116: val_loss did not improve\n",
      "Epoch 00117: val_loss did not improve\n",
      "Epoch 00118: val_loss did not improve\n",
      "Epoch 00119: val_loss did not improve\n",
      "Epoch 00120: val_loss did not improve\n",
      "Epoch 00121: val_loss did not improve\n",
      "Epoch 00122: val_loss did not improve\n",
      "Epoch 00123: val_loss did not improve\n",
      "Epoch 00124: val_loss did not improve\n",
      "Epoch 00125: val_loss did not improve\n",
      "Epoch 00126: val_loss did not improve\n",
      "Epoch 00127: val_loss did not improve\n",
      "Epoch 00128: val_loss did not improve\n",
      "Epoch 00129: val_loss did not improve\n",
      "Epoch 00130: val_loss did not improve\n",
      "Epoch 00131: val_loss did not improve\n",
      "Epoch 00132: val_loss did not improve\n",
      "Epoch 00133: val_loss did not improve\n",
      "Epoch 00134: val_loss did not improve\n",
      "Epoch 00135: val_loss did not improve\n",
      "Epoch 00136: val_loss did not improve\n",
      "Epoch 00137: val_loss did not improve\n",
      "Epoch 00138: val_loss did not improve\n",
      "Epoch 00139: val_loss did not improve\n",
      "Epoch 00140: val_loss did not improve\n",
      "Epoch 00141: val_loss did not improve\n",
      "Epoch 00142: val_loss did not improve\n",
      "Epoch 00143: val_loss did not improve\n",
      "Epoch 00144: val_loss did not improve\n",
      "Epoch 00145: val_loss did not improve\n",
      "Epoch 00146: val_loss did not improve\n",
      "Epoch 00147: val_loss did not improve\n",
      "Epoch 00148: val_loss did not improve\n",
      "Epoch 00149: val_loss did not improve\n",
      "Epoch 00150: val_loss did not improve\n",
      "Epoch 00151: val_loss did not improve\n",
      "Epoch 00152: val_loss did not improve\n",
      "Epoch 00153: val_loss did not improve\n",
      "Epoch 00154: val_loss did not improve\n",
      "Epoch 00155: val_loss did not improve\n",
      "Epoch 00156: val_loss did not improve\n",
      "Epoch 00157: val_loss did not improve\n"
     ]
    },
    {
     "name": "stdout",
     "output_type": "stream",
     "text": [
      "Epoch 00158: val_loss did not improve\n",
      "Epoch 00159: val_loss did not improve\n",
      "Epoch 00160: val_loss did not improve\n",
      "Epoch 00161: val_loss did not improve\n",
      "Epoch 00162: val_loss did not improve\n",
      "Epoch 00163: val_loss did not improve\n",
      "Epoch 00164: val_loss did not improve\n",
      "Epoch 00165: val_loss did not improve\n",
      "Epoch 00166: val_loss did not improve\n",
      "Epoch 00167: val_loss did not improve\n",
      "Epoch 00168: val_loss did not improve\n",
      "Epoch 00169: val_loss did not improve\n",
      "Epoch 00170: val_loss did not improve\n",
      "Epoch 00171: val_loss did not improve\n",
      "Epoch 00172: val_loss did not improve\n",
      "Epoch 00173: val_loss did not improve\n",
      "Epoch 00174: val_loss did not improve\n",
      "Epoch 00175: val_loss did not improve\n",
      "Epoch 00176: val_loss did not improve\n",
      "Epoch 00177: val_loss did not improve\n",
      "Epoch 00178: val_loss did not improve\n",
      "Epoch 00179: val_loss did not improve\n",
      "Epoch 00180: val_loss did not improve\n",
      "Epoch 00181: val_loss did not improve\n",
      "Epoch 00182: val_loss did not improve\n",
      "Epoch 00183: val_loss did not improve\n",
      "Epoch 00184: val_loss did not improve\n",
      "Epoch 00185: val_loss did not improve\n",
      "Epoch 00186: val_loss did not improve\n",
      "Epoch 00187: val_loss did not improve\n",
      "Epoch 00188: val_loss did not improve\n",
      "Epoch 00189: val_loss did not improve\n",
      "Epoch 00190: val_loss did not improve\n",
      "Epoch 00191: val_loss did not improve\n",
      "Epoch 00192: val_loss did not improve\n",
      "Epoch 00193: val_loss did not improve\n",
      "Epoch 00194: val_loss did not improve\n",
      "Epoch 00195: val_loss did not improve\n",
      "Epoch 00196: val_loss did not improve\n",
      "Epoch 00197: val_loss did not improve\n",
      "Epoch 00198: val_loss did not improve\n",
      "Epoch 00199: val_loss did not improve\n"
     ]
    }
   ],
   "source": [
    "hide_code\n",
    "# Train the model\n",
    "gray_checkpointer = ModelCheckpoint(filepath='weights.best.gray_model.hdf5', \n",
    "                                    verbose=2, save_best_only=True)\n",
    "gray_history = gray_model.fit(x_train2, y_train2, \n",
    "                              epochs=200, batch_size=64, verbose=0,\n",
    "                              validation_data=(x_valid2, y_valid2),\n",
    "                              callbacks=[gray_checkpointer])"
   ]
  },
  {
   "cell_type": "code",
   "execution_count": 92,
   "metadata": {},
   "outputs": [
    {
     "data": {
      "image/png": "[encoded data removed]",
      "text/plain": [
       "<matplotlib.figure.Figure at 0x16c956908>"
      ]
     },
     "metadata": {},
     "output_type": "display_data"
    }
   ],
   "source": [
    "hide_code\n",
    "# Plot the training history\n",
    "history_plot(gray_history, 0)"
   ]
  },
  {
   "cell_type": "markdown",
   "metadata": {},
   "source": [
    "Try to reach an accuracy greater than 80%"
   ]
  },
  {
   "cell_type": "code",
   "execution_count": 93,
   "metadata": {},
   "outputs": [
    {
     "name": "stdout",
     "output_type": "stream",
     "text": [
      "1054/1054 [==============================] - 4s     \n"
     ]
    },
    {
     "data": {
      "text/plain": [
       "[0.31366940925650622, 0.91840607221936366]"
      ]
     },
     "execution_count": 93,
     "metadata": {},
     "output_type": "execute_result"
    }
   ],
   "source": [
    "hide_code\n",
    "# Load the model with the best validation accuracy\n",
    "gray_model.load_weights('weights.best.gray_model.hdf5')\n",
    "# Calculate classification accuracy on the testing set\n",
    "gray_score = gray_model.evaluate(x_test2, y_test2)\n",
    "gray_score"
   ]
  },
  {
   "cell_type": "markdown",
   "metadata": {},
   "source": [
    "Apply the ImageDataGenerator() function."
   ]
  },
  {
   "cell_type": "code",
   "execution_count": null,
   "metadata": {
    "collapsed": true
   },
   "outputs": [],
   "source": [
    "hide_code\n",
    "# Fit the model with ImageDataGenerator()\n",
    "# TODO: Define parameters\n",
    "steps, epochs = 1000, 10\n",
    "data_generator = ImageDataGenerator(zoom_range=0.2, shear_range=0.2, rotation_range=20)\n",
    "\n",
    "gray_generator = gray_model.fit_generator(data_generator.flow(x_train2, y_train2, batch_size=64),\n",
    "                                          steps_per_epoch = steps, epochs = epochs,\n",
    "                                          validation_data = (x_test2, y_test2), \n",
    "                                          callbacks=[gray_checkpointer], verbose=2)"
   ]
  },
  {
   "cell_type": "code",
   "execution_count": null,
   "metadata": {
    "collapsed": true
   },
   "outputs": [],
   "source": [
    "hide_code\n",
    "# Load the model with the best validation accuracy\n",
    "gray_model.load_weights('weights.best.gray_model.hdf5')\n",
    "# Calculate classification accuracy on the testing set\n",
    "gray_score = gray_model.evaluate(x_test2, y_test2)\n",
    "gray_score"
   ]
  },
  {
   "cell_type": "markdown",
   "metadata": {},
   "source": [
    "Let's compare the results with classifying algorithms."
   ]
  },
  {
   "cell_type": "code",
   "execution_count": null,
   "metadata": {
    "collapsed": true
   },
   "outputs": [],
   "source": [
    "hide_code\n",
    "# Fit the classifier and get the accuracy score\n",
    "y_train2_c = np.array([np.argmax(y) for y in y_train2])\n",
    "y_test2_c = np.array([np.argmax(y) for y in y_test2])\n",
    "clf = GradientBoostingClassifier().fit(x_train2.reshape(-1, 32*32), y_train2_c)\n",
    "clf.score(x_test2.reshape(-1, 32*32), y_test2_c)"
   ]
  },
  {
   "cell_type": "code",
   "execution_count": null,
   "metadata": {
    "collapsed": true
   },
   "outputs": [],
   "source": [
    "hide_code\n",
    "# Fit the classifier and get the accuracy score\n",
    "clf2 = RandomForestClassifier().fit(x_train2.reshape(-1, 32*32), y_train2_c)\n",
    "clf2.score(x_test2.reshape(-1, 32*32), y_test2_c)"
   ]
  },
  {
   "cell_type": "markdown",
   "metadata": {},
   "source": [
    "## Step 5. Create a Multi-Label Classification Model\n",
    "### Color Images"
   ]
  },
  {
   "cell_type": "code",
   "execution_count": 94,
   "metadata": {
    "collapsed": true
   },
   "outputs": [],
   "source": [
    "hide_code\n",
    "def multi_model():    \n",
    "    model_input = Input(shape=(32, 32, 3))\n",
    "    x = BatchNormalization()(model_input)\n",
    "    # TODO: Define a model architecture\n",
    "    x = Conv2D(32, (5, 5), activation='relu', padding='same')(model_input)\n",
    "    x = MaxPooling2D(pool_size=(2, 2))(x)    \n",
    "    x = Dropout(0.25)(x)\n",
    "    \n",
    "    x = Conv2D(128, (5, 5), activation='relu', padding='same')(x)       \n",
    "    x = MaxPooling2D(pool_size=(2, 2))(x)    \n",
    "    x = Dropout(0.25)(x)\n",
    "              \n",
    "    x = GlobalMaxPooling2D()(x)\n",
    "    \n",
    "    x = Dense(1024, activation='relu')(x)    \n",
    "    x = Dropout(0.25)(x)\n",
    "    \n",
    "    y1 = Dense(33, activation='softmax')(x)\n",
    "    y2 = Dense(2, activation='softmax')(x)\n",
    "    \n",
    "    model = Model(inputs=model_input, outputs=[y1, y2])\n",
    "    \n",
    "    # TODO: Compile the model\n",
    "    model.compile(loss='categorical_crossentropy', optimizer='rmsprop', metrics=['accuracy'])\n",
    "    return model\n",
    "\n",
    "multi_model = multi_model()"
   ]
  },
  {
   "cell_type": "code",
   "execution_count": 95,
   "metadata": {},
   "outputs": [
    {
     "name": "stdout",
     "output_type": "stream",
     "text": [
      "____________________________________________________________________________________________________\n",
      "Layer (type)                     Output Shape          Param #     Connected to                     \n",
      "====================================================================================================\n",
      "input_3 (InputLayer)             (None, 32, 32, 3)     0                                            \n",
      "____________________________________________________________________________________________________\n",
      "conv2d_13 (Conv2D)               (None, 32, 32, 32)    2432        input_3[0][0]                    \n",
      "____________________________________________________________________________________________________\n",
      "max_pooling2d_13 (MaxPooling2D)  (None, 16, 16, 32)    0           conv2d_13[0][0]                  \n",
      "____________________________________________________________________________________________________\n",
      "dropout_22 (Dropout)             (None, 16, 16, 32)    0           max_pooling2d_13[0][0]           \n",
      "____________________________________________________________________________________________________\n",
      "conv2d_14 (Conv2D)               (None, 16, 16, 128)   102528      dropout_22[0][0]                 \n",
      "____________________________________________________________________________________________________\n",
      "max_pooling2d_14 (MaxPooling2D)  (None, 8, 8, 128)     0           conv2d_14[0][0]                  \n",
      "____________________________________________________________________________________________________\n",
      "dropout_23 (Dropout)             (None, 8, 8, 128)     0           max_pooling2d_14[0][0]           \n",
      "____________________________________________________________________________________________________\n",
      "global_max_pooling2d_7 (GlobalMa (None, 128)           0           dropout_23[0][0]                 \n",
      "____________________________________________________________________________________________________\n",
      "dense_18 (Dense)                 (None, 1024)          132096      global_max_pooling2d_7[0][0]     \n",
      "____________________________________________________________________________________________________\n",
      "dropout_24 (Dropout)             (None, 1024)          0           dense_18[0][0]                   \n",
      "____________________________________________________________________________________________________\n",
      "dense_19 (Dense)                 (None, 33)            33825       dropout_24[0][0]                 \n",
      "____________________________________________________________________________________________________\n",
      "dense_20 (Dense)                 (None, 2)             2050        dropout_24[0][0]                 \n",
      "====================================================================================================\n",
      "Total params: 272,931\n",
      "Trainable params: 272,931\n",
      "Non-trainable params: 0\n",
      "____________________________________________________________________________________________________\n"
     ]
    }
   ],
   "source": [
    "hide_code\n",
    "# Display the model architecture\n",
    "multi_model.summary()"
   ]
  },
  {
   "cell_type": "code",
   "execution_count": 96,
   "metadata": {},
   "outputs": [
    {
     "name": "stdout",
     "output_type": "stream",
     "text": [
      "Epoch 00000: val_loss improved from inf to 4.13164, saving model to weights.best.multi.hdf5\n",
      "Epoch 00001: val_loss did not improve\n",
      "Epoch 00002: val_loss improved from 4.13164 to 4.10900, saving model to weights.best.multi.hdf5\n",
      "Epoch 00003: val_loss did not improve\n",
      "Epoch 00004: val_loss improved from 4.10900 to 4.02417, saving model to weights.best.multi.hdf5\n",
      "Epoch 00005: val_loss did not improve\n",
      "Epoch 00006: val_loss did not improve\n",
      "Epoch 00007: val_loss did not improve\n",
      "Epoch 00008: val_loss did not improve\n",
      "Epoch 00009: val_loss did not improve\n"
     ]
    }
   ],
   "source": [
    "hide_code\n",
    "# Train the model\n",
    "multi_checkpointer = ModelCheckpoint(filepath='weights.best.multi.hdf5', \n",
    "                                     verbose=2, save_best_only=True)\n",
    "multi_history = multi_model.fit(x_train3, y_train3_list, \n",
    "                                validation_data=(x_test3, y_test3_list), \n",
    "                                epochs=10, batch_size=64, verbose=0, \n",
    "                                callbacks=[multi_checkpointer])"
   ]
  },
  {
   "cell_type": "markdown",
   "metadata": {},
   "source": [
    "We should have an accuracy greater than 3% for the first target (letter) and greater than 50% for the second target (background)."
   ]
  },
  {
   "cell_type": "code",
   "execution_count": 97,
   "metadata": {},
   "outputs": [
    {
     "name": "stdout",
     "output_type": "stream",
     "text": [
      "Scores: \n",
      " [4.0241667889553412, 3.2171653633551989, 0.80700145806035684, 0.082542694695081839, 0.5284629987810775]\n",
      "First label. Accuracy: 8.25%\n",
      "Second label. Accuracy: 52.85%\n"
     ]
    }
   ],
   "source": [
    "hide_code\n",
    "# Load the model with the best validation accuracy\n",
    "multi_model.load_weights('weights.best.multi.hdf5')\n",
    "# Calculate classification accuracy on the testing set\n",
    "multi_scores = multi_model.evaluate(x_test3, y_test3_list, verbose=0)\n",
    "\n",
    "print(\"Scores: \\n\" , (multi_scores))\n",
    "print(\"First label. Accuracy: %.2f%%\" % (multi_scores[3]*100))\n",
    "print(\"Second label. Accuracy: %.2f%%\" % (multi_scores[4]*100))"
   ]
  },
  {
   "cell_type": "markdown",
   "metadata": {
    "collapsed": true
   },
   "source": [
    "### Grayscaled Images"
   ]
  },
  {
   "cell_type": "code",
   "execution_count": 98,
   "metadata": {
    "collapsed": true
   },
   "outputs": [],
   "source": [
    "hide_code\n",
    "def gray_multi_model():    \n",
    "    model_input = Input(shape=(32, 32, 1))\n",
    "    x = BatchNormalization()(model_input)\n",
    "    # TODO: Define a model architecture\n",
    "    x = Conv2D(32, (5, 5), activation='relu', padding='same')(model_input)\n",
    "    x = MaxPooling2D(pool_size=(2, 2))(x)    \n",
    "    x = Dropout(0.25)(x)\n",
    "    \n",
    "    x = Conv2D(256, (5, 5), activation='relu', padding='same')(x)       \n",
    "    x = MaxPooling2D(pool_size=(2, 2))(x)    \n",
    "    x = Dropout(0.25)(x)\n",
    "              \n",
    "    x = GlobalMaxPooling2D()(x)\n",
    "    \n",
    "    x = Dense(1024, activation='relu')(x)    \n",
    "    x = Dropout(0.25)(x)\n",
    "    \n",
    "    x = Dense(256, activation='relu')(x)    \n",
    "    x = Dropout(0.25)(x)\n",
    "    \n",
    "    y1 = Dense(33, activation='softmax')(x)\n",
    "    y2 = Dense(2, activation='softmax')(x)\n",
    "       \n",
    "    model = Model(inputs=model_input, outputs=[y1, y2])\n",
    "    # TODO: Compile the model\n",
    "\n",
    "    model.compile(loss='categorical_crossentropy', optimizer='rmsprop', metrics=['accuracy'])   \n",
    "    return model\n",
    "\n",
    "gray_multi_model = gray_multi_model()"
   ]
  },
  {
   "cell_type": "code",
   "execution_count": 99,
   "metadata": {},
   "outputs": [
    {
     "name": "stdout",
     "output_type": "stream",
     "text": [
      "Epoch 00000: val_loss improved from inf to 4.08852, saving model to weights.best.gray_multi.hdf5\n",
      "Epoch 00001: val_loss improved from 4.08852 to 4.02335, saving model to weights.best.gray_multi.hdf5\n",
      "Epoch 00002: val_loss improved from 4.02335 to 3.92847, saving model to weights.best.gray_multi.hdf5\n",
      "Epoch 00003: val_loss improved from 3.92847 to 3.54141, saving model to weights.best.gray_multi.hdf5\n",
      "Epoch 00004: val_loss did not improve\n",
      "Epoch 00005: val_loss improved from 3.54141 to 3.42165, saving model to weights.best.gray_multi.hdf5\n",
      "Epoch 00006: val_loss did not improve\n",
      "Epoch 00007: val_loss improved from 3.42165 to 3.28954, saving model to weights.best.gray_multi.hdf5\n",
      "Epoch 00008: val_loss did not improve\n",
      "Epoch 00009: val_loss did not improve\n",
      "Epoch 00010: val_loss improved from 3.28954 to 3.13259, saving model to weights.best.gray_multi.hdf5\n",
      "Epoch 00011: val_loss improved from 3.13259 to 2.89965, saving model to weights.best.gray_multi.hdf5\n",
      "Epoch 00012: val_loss did not improve\n",
      "Epoch 00013: val_loss did not improve\n",
      "Epoch 00014: val_loss improved from 2.89965 to 2.55317, saving model to weights.best.gray_multi.hdf5\n",
      "Epoch 00015: val_loss improved from 2.55317 to 2.29300, saving model to weights.best.gray_multi.hdf5\n",
      "Epoch 00016: val_loss improved from 2.29300 to 2.21543, saving model to weights.best.gray_multi.hdf5\n",
      "Epoch 00017: val_loss improved from 2.21543 to 2.05682, saving model to weights.best.gray_multi.hdf5\n",
      "Epoch 00018: val_loss improved from 2.05682 to 1.92276, saving model to weights.best.gray_multi.hdf5\n",
      "Epoch 00019: val_loss did not improve\n",
      "Epoch 00020: val_loss did not improve\n",
      "Epoch 00021: val_loss did not improve\n",
      "Epoch 00022: val_loss improved from 1.92276 to 1.57546, saving model to weights.best.gray_multi.hdf5\n",
      "Epoch 00023: val_loss improved from 1.57546 to 1.54532, saving model to weights.best.gray_multi.hdf5\n",
      "Epoch 00024: val_loss improved from 1.54532 to 1.43666, saving model to weights.best.gray_multi.hdf5\n",
      "Epoch 00025: val_loss did not improve\n",
      "Epoch 00026: val_loss did not improve\n",
      "Epoch 00027: val_loss improved from 1.43666 to 1.29283, saving model to weights.best.gray_multi.hdf5\n",
      "Epoch 00028: val_loss improved from 1.29283 to 1.08915, saving model to weights.best.gray_multi.hdf5\n",
      "Epoch 00029: val_loss did not improve\n",
      "Epoch 00030: val_loss did not improve\n",
      "Epoch 00031: val_loss did not improve\n",
      "Epoch 00032: val_loss improved from 1.08915 to 1.03261, saving model to weights.best.gray_multi.hdf5\n",
      "Epoch 00033: val_loss did not improve\n",
      "Epoch 00034: val_loss improved from 1.03261 to 1.02217, saving model to weights.best.gray_multi.hdf5\n",
      "Epoch 00035: val_loss did not improve\n",
      "Epoch 00036: val_loss improved from 1.02217 to 1.01353, saving model to weights.best.gray_multi.hdf5\n",
      "Epoch 00037: val_loss improved from 1.01353 to 0.89509, saving model to weights.best.gray_multi.hdf5\n",
      "Epoch 00038: val_loss did not improve\n",
      "Epoch 00039: val_loss improved from 0.89509 to 0.87969, saving model to weights.best.gray_multi.hdf5\n",
      "Epoch 00040: val_loss did not improve\n",
      "Epoch 00041: val_loss did not improve\n",
      "Epoch 00042: val_loss did not improve\n",
      "Epoch 00043: val_loss improved from 0.87969 to 0.84893, saving model to weights.best.gray_multi.hdf5\n",
      "Epoch 00044: val_loss improved from 0.84893 to 0.79339, saving model to weights.best.gray_multi.hdf5\n",
      "Epoch 00045: val_loss did not improve\n",
      "Epoch 00046: val_loss did not improve\n",
      "Epoch 00047: val_loss improved from 0.79339 to 0.69477, saving model to weights.best.gray_multi.hdf5\n",
      "Epoch 00048: val_loss did not improve\n",
      "Epoch 00049: val_loss did not improve\n",
      "Epoch 00050: val_loss improved from 0.69477 to 0.63251, saving model to weights.best.gray_multi.hdf5\n",
      "Epoch 00051: val_loss did not improve\n",
      "Epoch 00052: val_loss improved from 0.63251 to 0.61233, saving model to weights.best.gray_multi.hdf5\n",
      "Epoch 00053: val_loss did not improve\n",
      "Epoch 00054: val_loss did not improve\n",
      "Epoch 00055: val_loss did not improve\n",
      "Epoch 00056: val_loss did not improve\n",
      "Epoch 00057: val_loss did not improve\n",
      "Epoch 00058: val_loss did not improve\n",
      "Epoch 00059: val_loss did not improve\n",
      "Epoch 00060: val_loss improved from 0.61233 to 0.58198, saving model to weights.best.gray_multi.hdf5\n",
      "Epoch 00061: val_loss did not improve\n",
      "Epoch 00062: val_loss did not improve\n",
      "Epoch 00063: val_loss did not improve\n",
      "Epoch 00064: val_loss did not improve\n",
      "Epoch 00065: val_loss improved from 0.58198 to 0.51742, saving model to weights.best.gray_multi.hdf5\n",
      "Epoch 00066: val_loss did not improve\n",
      "Epoch 00067: val_loss did not improve\n",
      "Epoch 00068: val_loss did not improve\n",
      "Epoch 00069: val_loss did not improve\n",
      "Epoch 00070: val_loss did not improve\n",
      "Epoch 00071: val_loss did not improve\n",
      "Epoch 00072: val_loss did not improve\n",
      "Epoch 00073: val_loss did not improve\n",
      "Epoch 00074: val_loss improved from 0.51742 to 0.46005, saving model to weights.best.gray_multi.hdf5\n",
      "Epoch 00075: val_loss did not improve\n",
      "Epoch 00076: val_loss did not improve\n",
      "Epoch 00077: val_loss did not improve\n",
      "Epoch 00078: val_loss did not improve\n",
      "Epoch 00079: val_loss did not improve\n",
      "Epoch 00080: val_loss did not improve\n",
      "Epoch 00081: val_loss did not improve\n",
      "Epoch 00082: val_loss did not improve\n",
      "Epoch 00083: val_loss did not improve\n",
      "Epoch 00084: val_loss did not improve\n",
      "Epoch 00085: val_loss did not improve\n",
      "Epoch 00086: val_loss did not improve\n",
      "Epoch 00087: val_loss did not improve\n",
      "Epoch 00088: val_loss did not improve\n",
      "Epoch 00089: val_loss did not improve\n",
      "Epoch 00090: val_loss did not improve\n",
      "Epoch 00091: val_loss did not improve\n",
      "Epoch 00092: val_loss improved from 0.46005 to 0.45208, saving model to weights.best.gray_multi.hdf5\n",
      "Epoch 00093: val_loss did not improve\n",
      "Epoch 00094: val_loss did not improve\n",
      "Epoch 00095: val_loss did not improve\n",
      "Epoch 00096: val_loss did not improve\n",
      "Epoch 00097: val_loss did not improve\n",
      "Epoch 00098: val_loss did not improve\n",
      "Epoch 00099: val_loss did not improve\n"
     ]
    }
   ],
   "source": [
    "hide_code\n",
    "# Train the model\n",
    "gray_multi_checkpointer = ModelCheckpoint(filepath='weights.best.gray_multi.hdf5', \n",
    "                                          verbose=2, save_best_only=True)\n",
    "gray_multi_history = gray_multi_model.fit(x_train4, y_train4_list, \n",
    "                                          validation_data=(x_test4, y_test4_list), \n",
    "                                          epochs=100, batch_size=64, verbose=0, \n",
    "                                          callbacks=[gray_multi_checkpointer])"
   ]
  },
  {
   "cell_type": "markdown",
   "metadata": {},
   "source": [
    "We should have an accuracy greater than 3% for the first target (letter) and greater than 50% for the second target (background)."
   ]
  },
  {
   "cell_type": "code",
   "execution_count": 100,
   "metadata": {},
   "outputs": [
    {
     "name": "stdout",
     "output_type": "stream",
     "text": [
      "Scores: \n",
      " [0.4520833500196178, 0.42800572718117225, 0.024077625650706754, 0.8652751417494815, 0.99335863377609113]\n",
      "First label. Accuracy: 86.53%\n",
      "Second label. Accuracy: 99.34%\n"
     ]
    }
   ],
   "source": [
    "hide_code\n",
    "# Load the model with the best validation accuracy\n",
    "gray_multi_model.load_weights('weights.best.gray_multi.hdf5')\n",
    "# Calculate classification accuracy on the testing set\n",
    "gray_multi_scores = gray_multi_model.evaluate(x_test4, y_test4_list, verbose=0)\n",
    "\n",
    "print(\"Scores: \\n\" , (gray_multi_scores))\n",
    "print(\"First label. Accuracy: %.2f%%\" % (gray_multi_scores[3]*100))\n",
    "print(\"Second label. Accuracy: %.2f%%\" % (gray_multi_scores[4]*100))"
   ]
  },
  {
   "cell_type": "markdown",
   "metadata": {},
   "source": [
    "## Step 6. Keras Applications\n",
    "Choose one of the keras applications and try to reach an accuracy greater than 30%\n",
    "### Color Images"
   ]
  },
  {
   "cell_type": "code",
   "execution_count": null,
   "metadata": {
    "collapsed": true
   },
   "outputs": [],
   "source": [
    "# Create bottleneck features\n",
    "resize_x_train = np.array([scipy.misc.imresize(x_train[i], (139, 139, 3)) \n",
    "                           for i in range(0, len(x_train))]).astype('float32')\n",
    "resize_x_test = np.array([scipy.misc.imresize(x_test[i], (139, 139, 3)) \n",
    "                          for i in range(0, len(x_test))]).astype('float32')\n",
    "resize_x_valid = np.array([scipy.misc.imresize(x_valid[i], (139, 139, 3)) \n",
    "                          for i in range(0, len(x_valid))]).astype('float32')\n",
    "\n",
    "iv3_x_train = preprocess_input(resize_x_train)\n",
    "iv3_x_test = preprocess_input(resize_x_test)\n",
    "iv3_x_valid = preprocess_input(resize_x_valid)\n",
    "\n",
    "iv3_base_model = InceptionV3(weights='imagenet', include_top=False)\n",
    "x_train_bn = iv3_base_model.predict(iv3_x_train)\n",
    "x_test_bn = iv3_base_model.predict(iv3_x_test)\n",
    "x_valid_bn = iv3_base_model.predict(iv3_x_valid)"
   ]
  },
  {
   "cell_type": "code",
   "execution_count": null,
   "metadata": {
    "collapsed": true
   },
   "outputs": [],
   "source": [
    "# Save bottleneck features\n",
    "x_train_bn = np.squeeze(x_train_bn)\n",
    "x_test_bn = np.squeeze(x_test_bn)\n",
    "x_valid_bn = np.squeeze(x_valid_bn)\n",
    "\n",
    "np.save('x_train_bn.npy', x_train_bn)\n",
    "np.save('x_test_bn.npy', x_test_bn)\n",
    "np.save('x_valid_bn.npy', x_valid_bn)"
   ]
  },
  {
   "cell_type": "code",
   "execution_count": null,
   "metadata": {
    "collapsed": true
   },
   "outputs": [],
   "source": [
    "# Load bottleneck features\n",
    "x_train_bn = np.load('x_train_bn.npy')\n",
    "x_test_bn = np.load('x_test_bn.npy')\n",
    "x_valid_bn = np.load('x_valid_bn.npy')"
   ]
  },
  {
   "cell_type": "code",
   "execution_count": null,
   "metadata": {
    "collapsed": true
   },
   "outputs": [],
   "source": [
    "hide_code\n",
    "def iv3_model():\n",
    "    model = Sequential()\n",
    "    # TODO: Define a model architecture\n",
    "    model.add(Conv2D(filters=32, kernel_size=2, input_shape=x_train_bn.shape[1:]))\n",
    "    model.add(MaxPooling2D(pool_size=(2, 2)))\n",
    "    model.add(Dropout(0.25))\n",
    "    \n",
    "    model.add(GlobalAveragePooling2D())\n",
    "    model.add(Dropout(0.25))\n",
    "    \n",
    "    model.add(Dense(2048, activation='relu'))\n",
    "    model.add(Dropout(0.25))\n",
    "        \n",
    "    model.add(Dense(512, activation='relu'))\n",
    "    model.add(Dropout(0.25))\n",
    "    \n",
    "    model.add(Dense(33, activation='softmax'))\n",
    "    \n",
    "    # TODO: Compile the model \n",
    "    model.compile(loss='categorical_crossentropy', optimizer='rmsprop', metrics=['accuracy'])    \n",
    "\n",
    "    return model\n",
    "\n",
    "iv3_model = iv3_model()"
   ]
  },
  {
   "cell_type": "code",
   "execution_count": null,
   "metadata": {
    "collapsed": true
   },
   "outputs": [],
   "source": [
    "hide_code\n",
    "# Fit the model \n",
    "iv3_checkpointer = ModelCheckpoint(filepath='weights.best.iv3.hdf5', \n",
    "                                     verbose=2, save_best_only=True)\n",
    "iv3_history = iv3_model.fit(x_train_bn, y_train, \n",
    "                            validation_data=(x_valid_bn, y_valid),\n",
    "                            epochs=50, batch_size=64, \n",
    "                            callbacks=[iv3_checkpointer], verbose=0);"
   ]
  },
  {
   "cell_type": "code",
   "execution_count": null,
   "metadata": {
    "collapsed": true
   },
   "outputs": [],
   "source": [
    "hide_code\n",
    "# Plot the training history\n",
    "history_plot(iv3_history, 0)"
   ]
  },
  {
   "cell_type": "code",
   "execution_count": null,
   "metadata": {
    "collapsed": true
   },
   "outputs": [],
   "source": [
    "hide_code\n",
    "# Load the model with the best validation accuracy\n",
    "iv3_model.load_weights('weights.best.iv3.hdf5')\n",
    "# Calculate classification accuracy on the testing set\n",
    "iv3_scores = iv3_model.evaluate(x_test_bn, y_test)\n",
    "print(\"Accuracy: %.2f%%\" % (iv3_scores[1]*100))\n",
    "iv3_scores"
   ]
  },
  {
   "cell_type": "markdown",
   "metadata": {},
   "source": [
    "### Grayscaled Images"
   ]
  },
  {
   "cell_type": "code",
   "execution_count": null,
   "metadata": {
    "collapsed": true
   },
   "outputs": [],
   "source": [
    "# Create bottleneck features\n",
    "resize_x_train2 = np.array([scipy.misc.imresize(x_train2_color[i], (139, 139, 3)) \n",
    "                            for i in range(0, len(x_train2_color))]).astype('float32')\n",
    "resize_x_test2 = np.array([scipy.misc.imresize(x_test2_color[i], (139, 139, 3)) \n",
    "                           for i in range(0, len(x_test2_color))]).astype('float32')\n",
    "resize_x_valid2 = np.array([scipy.misc.imresize(x_valid2_color[i], (139, 139, 3)) \n",
    "                           for i in range(0, len(x_valid2_color))]).astype('float32')\n",
    "\n",
    "iv3_x_train2 = preprocess_input(resize_x_train2)\n",
    "iv3_x_test2 = preprocess_input(resize_x_test2)\n",
    "iv3_x_valid2 = preprocess_input(resize_x_valid2)\n",
    "\n",
    "iv3_base_model2 = InceptionV3(weights='imagenet', include_top=False)\n",
    "x_train_bn2 = iv3_base_model2.predict(iv3_x_train2)\n",
    "x_test_bn2 = iv3_base_model2.predict(iv3_x_test2)\n",
    "x_valid_bn2 = iv3_base_model2.predict(iv3_x_valid2)"
   ]
  },
  {
   "cell_type": "code",
   "execution_count": null,
   "metadata": {
    "collapsed": true
   },
   "outputs": [],
   "source": [
    "# Save bottleneck features\n",
    "x_train_bn2 = np.squeeze(x_train_bn2)\n",
    "x_test_bn2 = np.squeeze(x_test_bn2)\n",
    "x_valid_bn2 = np.squeeze(x_valid_bn2)\n",
    "\n",
    "np.save('x_train_bn2.npy', x_train_bn2)\n",
    "np.save('x_test_bn2.npy', x_test_bn2)\n",
    "np.save('x_valid_bn2.npy', x_valid_bn2)"
   ]
  },
  {
   "cell_type": "code",
   "execution_count": null,
   "metadata": {
    "collapsed": true
   },
   "outputs": [],
   "source": [
    "# Load bottleneck features\n",
    "x_train_bn2 = np.load('x_train_bn2.npy')\n",
    "x_test_bn2 = np.load('x_test_bn2.npy')\n",
    "x_valid_bn2 = np.load('x_valid_bn2.npy')"
   ]
  },
  {
   "cell_type": "code",
   "execution_count": null,
   "metadata": {
    "collapsed": true
   },
   "outputs": [],
   "source": [
    "hide_code\n",
    "def iv3_gray_model():\n",
    "    model = Sequential()\n",
    "    # TODO: Define a model architecture\n",
    "    model.add(Conv2D(filters=32, kernel_size=2, input_shape=x_train_bn2.shape[1:]))\n",
    "    model.add(MaxPooling2D(pool_size=(2, 2)))\n",
    "    model.add(Dropout(0.25))\n",
    "    \n",
    "    model.add(GlobalAveragePooling2D())\n",
    "    model.add(Dropout(0.25))\n",
    "    \n",
    "    model.add(Dense(1024, activation='relu'))\n",
    "    model.add(Dropout(0.25))\n",
    "        \n",
    "    model.add(Dense(256, activation='relu'))\n",
    "    model.add(Dropout(0.25))\n",
    "    \n",
    "    model.add(Dense(33, activation='softmax'))\n",
    "    # TODO: Compile the model     \n",
    "    model.compile(loss='categorical_crossentropy', optimizer='rmsprop', metrics=['accuracy'])\n",
    "    return model\n",
    "\n",
    "iv3_gray_model = iv3_gray_model()"
   ]
  },
  {
   "cell_type": "code",
   "execution_count": null,
   "metadata": {
    "collapsed": true
   },
   "outputs": [],
   "source": [
    "hide_code\n",
    "# Fit the model \n",
    "iv3_gray_checkpointer = ModelCheckpoint(filepath='weights.best.iv3_gray.hdf5', \n",
    "                                        verbose=2, save_best_only=True)\n",
    "iv3_gray_history = iv3_gray_model.fit(x_train_bn2, y_train2, \n",
    "                                      validation_data=(x_valid_bn2, y_valid2),\n",
    "                                      epochs=50, batch_size=64, \n",
    "                                      callbacks=[iv3_gray_checkpointer], verbose=0);"
   ]
  },
  {
   "cell_type": "code",
   "execution_count": null,
   "metadata": {
    "collapsed": true
   },
   "outputs": [],
   "source": [
    "hide_code\n",
    "# Plot the training history\n",
    "history_plot(iv3_gray_history, 0)"
   ]
  },
  {
   "cell_type": "code",
   "execution_count": null,
   "metadata": {
    "collapsed": true
   },
   "outputs": [],
   "source": [
    "hide_code\n",
    "# Load the model with the best validation accuracy\n",
    "iv3_gray_model.load_weights('weights.best.iv3_gray.hdf5')\n",
    "# Calculate classification accuracy on the testing set\n",
    "iv3_gray_scores = iv3_gray_model.evaluate(x_test_bn2, y_test2)\n",
    "print(\"Accuracy: %.2f%%\" % (iv3_gray_scores[1]*100))\n",
    "iv3_gray_scores"
   ]
  },
  {
   "cell_type": "markdown",
   "metadata": {},
   "source": [
    "## Step 7. Predictions\n",
    "Display predictions for the models with the best accuracy.\n",
    "### Color Images"
   ]
  },
  {
   "cell_type": "code",
   "execution_count": 66,
   "metadata": {
    "collapsed": true
   },
   "outputs": [],
   "source": [
    "hide_code\n",
    "# Create a list of symbols\n",
    "symbols = ['а','б','в','г','д','е','ё','ж','з','и','й',\n",
    "           'к','л','м','н','о','п','р','с','т','у','ф',\n",
    "           'х','ц','ч','ш','щ','ъ','ы','ь','э','ю','я']"
   ]
  },
  {
   "cell_type": "code",
   "execution_count": null,
   "metadata": {
    "collapsed": true
   },
   "outputs": [],
   "source": [
    "hide_code\n",
    "# Model predictions for the testing dataset\n",
    "y_test_predict = iv3_model.predict_classes(x_test_bn)"
   ]
  },
  {
   "cell_type": "code",
   "execution_count": null,
   "metadata": {
    "collapsed": true
   },
   "outputs": [],
   "source": [
    "hide_code\n",
    "# Display true labels and predictions\n",
    "fig = plt.figure(figsize=(18, 18))\n",
    "for i, idx in enumerate(np.random.choice(x_test.shape[0], size=16, replace=False)):\n",
    "    ax = fig.add_subplot(4, 4, i + 1, xticks=[], yticks=[])\n",
    "    ax.imshow(np.squeeze(x_test[idx]))\n",
    "    pred_idx = y_test_predict[idx]\n",
    "    true_idx = np.argmax(y_test[idx])\n",
    "    ax.set_title(\"{} ({})\".format(symbols[pred_idx], symbols[true_idx]),\n",
    "                 color=(\"#4876ff\" if pred_idx == true_idx else \"darkred\"))"
   ]
  },
  {
   "cell_type": "markdown",
   "metadata": {},
   "source": [
    "### Grayscaled Images"
   ]
  },
  {
   "cell_type": "code",
   "execution_count": null,
   "metadata": {
    "collapsed": true
   },
   "outputs": [],
   "source": [
    "hide_code\n",
    "# Model predictions for the testing dataset\n",
    "y_test2_predict = gray_model.predict_classes(x_test2)"
   ]
  },
  {
   "cell_type": "code",
   "execution_count": null,
   "metadata": {
    "collapsed": true
   },
   "outputs": [],
   "source": [
    "hide_code\n",
    "# Display true labels and predictions\n",
    "fig = plt.figure(figsize=(18, 18))\n",
    "for i, idx in enumerate(np.random.choice(x_test2.shape[0], size=16, replace=False)):\n",
    "    ax = fig.add_subplot(4, 4, i + 1, xticks=[], yticks=[])\n",
    "    ax.imshow(np.squeeze(x_test2[idx]), cmap=cm.bone)\n",
    "    pred_idx = y_test2_predict[idx]\n",
    "    true_idx = np.argmax(y_test2[idx])\n",
    "    ax.set_title(\"{} ({})\".format(symbols[pred_idx], symbols[true_idx]),\n",
    "                 color=(\"#4876ff\" if pred_idx == true_idx else \"darkred\"))"
   ]
  }
 ],
 "metadata": {
  "kernelspec": {
   "display_name": "Python 3",
   "language": "python",
   "name": "python3"
  },
  "language_info": {
   "codemirror_mode": {
    "name": "ipython",
    "version": 3
   },
   "file_extension": ".py",
   "mimetype": "text/x-python",
   "name": "python",
   "nbconvert_exporter": "python",
   "pygments_lexer": "ipython3",
   "version": "3.6.1"
  }
 },
 "nbformat": 4,
 "nbformat_minor": 2
}
