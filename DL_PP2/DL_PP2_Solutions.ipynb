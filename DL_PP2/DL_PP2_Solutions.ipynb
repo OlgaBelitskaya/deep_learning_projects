{
 "cells": [
  {
   "cell_type": "markdown",
   "metadata": {},
   "source": [
    "# Deep Learning\n",
    "## Practice Projects\n",
    "# P2: Multi-Label Classification\n",
    "\n",
    "## Step 0. Style and Libraries"
   ]
  },
  {
   "cell_type": "code",
   "execution_count": 1,
   "metadata": {},
   "outputs": [
    {
     "data": {
      "text/html": [
       "<style>\n",
       "@import url('https://fonts.googleapis.com/css?family=Orbitron|Roboto');\n",
       "body {background-color: aliceblue;} \n",
       "a {color: #4876ff; font-family: 'Roboto';} \n",
       "h1 {color: #348ABD; font-family: 'Orbitron'; text-shadow: 4px 4px 4px #ccc;} \n",
       "h2, h3 {color: slategray; font-family: 'Roboto'; text-shadow: 4px 4px 4px #ccc;}\n",
       "h4 {color: #348ABD; font-family: 'Orbitron';}\n",
       "span {text-shadow: 4px 4px 4px #ccc;}\n",
       "div.output_prompt, div.output_area pre {color: slategray;}\n",
       "div.input_prompt, div.output_subarea {color: #4876ff;}      \n",
       "div.output_stderr pre {background-color: aliceblue;}  \n",
       "div.output_stderr {background-color: slategrey;}                        \n",
       "</style>\n",
       "<script>\n",
       "code_show = true; \n",
       "function code_display() {\n",
       "    if (code_show) {\n",
       "        $('div.input').each(function(id) {\n",
       "            if (id == 0 || $(this).html().indexOf('hide_code') > -1) {$(this).hide();}\n",
       "        });\n",
       "        $('div.output_prompt').css('opacity', 0);\n",
       "    } else {\n",
       "        $('div.input').each(function(id) {$(this).show();});\n",
       "        $('div.output_prompt').css('opacity', 1);\n",
       "    };\n",
       "    code_show = !code_show;\n",
       "} \n",
       "$(document).ready(code_display);\n",
       "</script>\n",
       "<form action=\"javascript: code_display()\">\n",
       "<input style=\"color: #348ABD; background: aliceblue; opacity: 0.8;\" \\ \n",
       "type=\"submit\" value=\"Click to display or hide code cells\">\n",
       "</form>                  "
      ],
      "text/plain": [
       "<IPython.core.display.HTML object>"
      ]
     },
     "metadata": {},
     "output_type": "display_data"
    }
   ],
   "source": [
    "%%html\n",
    "<style>\n",
    "@import url('https://fonts.googleapis.com/css?family=Orbitron|Roboto');\n",
    "body {background-color: aliceblue;} \n",
    "a {color: #4876ff; font-family: 'Roboto';} \n",
    "h1 {color: #348ABD; font-family: 'Orbitron'; text-shadow: 4px 4px 4px #ccc;} \n",
    "h2, h3 {color: slategray; font-family: 'Roboto'; text-shadow: 4px 4px 4px #ccc;}\n",
    "h4 {color: #348ABD; font-family: 'Orbitron';}\n",
    "span {text-shadow: 4px 4px 4px #ccc;}\n",
    "div.output_prompt, div.output_area pre {color: slategray;}\n",
    "div.input_prompt, div.output_subarea {color: #4876ff;}      \n",
    "div.output_stderr pre {background-color: aliceblue;}  \n",
    "div.output_stderr {background-color: slategrey;}                        \n",
    "</style>\n",
    "<script>\n",
    "code_show = true; \n",
    "function code_display() {\n",
    "    if (code_show) {\n",
    "        $('div.input').each(function(id) {\n",
    "            if (id == 0 || $(this).html().indexOf('hide_code') > -1) {$(this).hide();}\n",
    "        });\n",
    "        $('div.output_prompt').css('opacity', 0);\n",
    "    } else {\n",
    "        $('div.input').each(function(id) {$(this).show();});\n",
    "        $('div.output_prompt').css('opacity', 1);\n",
    "    };\n",
    "    code_show = !code_show;\n",
    "} \n",
    "$(document).ready(code_display);\n",
    "</script>\n",
    "<form action=\"javascript: code_display()\">\n",
    "<input style=\"color: #348ABD; background: aliceblue; opacity: 0.8;\" \\ \n",
    "type=\"submit\" value=\"Click to display or hide code cells\">\n",
    "</form>                  "
   ]
  },
  {
   "cell_type": "code",
   "execution_count": 2,
   "metadata": {},
   "outputs": [
    {
     "name": "stderr",
     "output_type": "stream",
     "text": [
      "Using TensorFlow backend.\n"
     ]
    }
   ],
   "source": [
    "hide_code = ''\n",
    "import numpy as np \n",
    "import pandas as pd\n",
    "\n",
    "from PIL import ImageFile\n",
    "from tqdm import tqdm\n",
    "import h5py\n",
    "import cv2\n",
    "\n",
    "import matplotlib.pylab as plt\n",
    "from matplotlib import cm\n",
    "%matplotlib inline\n",
    "\n",
    "from sklearn.model_selection import train_test_split\n",
    "from sklearn.ensemble import GradientBoostingClassifier, RandomForestClassifier\n",
    "\n",
    "from keras.utils import to_categorical\n",
    "from keras.preprocessing import image as keras_image\n",
    "from keras.callbacks import ModelCheckpoint\n",
    "from keras.preprocessing.image import ImageDataGenerator\n",
    "\n",
    "from keras.models import Sequential, load_model\n",
    "from keras.layers import Dense, LSTM, GlobalAveragePooling1D, GlobalAveragePooling2D\n",
    "from keras.layers import Activation, Flatten, Dropout, BatchNormalization\n",
    "from keras.layers import Conv2D, MaxPooling2D, GlobalMaxPooling2D"
   ]
  },
  {
   "cell_type": "markdown",
   "metadata": {},
   "source": [
    "## Step 1. Load and Explore the Data\n",
    "Run the following cell to download the dataset."
   ]
  },
  {
   "cell_type": "code",
   "execution_count": 3,
   "metadata": {},
   "outputs": [
    {
     "name": "stderr",
     "output_type": "stream",
     "text": [
      "100%|██████████| 1650/1650 [00:23<00:00, 71.29it/s]\n"
     ]
    }
   ],
   "source": [
    "hide_code\n",
    "# Function for processing an image\n",
    "def image_to_tensor(img_path):\n",
    "    img = keras_image.load_img(\"data/\" + img_path, target_size=(32, 32))\n",
    "    x = keras_image.img_to_array(img)\n",
    "    return np.expand_dims(x, axis=0)\n",
    "# Function for creating the data tensor\n",
    "def data_to_tensor(img_paths):\n",
    "    list_of_tensors = [image_to_tensor(img_path) for img_path in tqdm(img_paths)]\n",
    "    return np.vstack(list_of_tensors)\n",
    "\n",
    "ImageFile.LOAD_TRUNCATED_IMAGES = True \n",
    "# Load the data\n",
    "data = pd.read_csv(\"data/letters.csv\")\n",
    "files = data['file']\n",
    "letters = data['letter']\n",
    "backgrounds = data['background']\n",
    "targets = data['label'].as_matrix()\n",
    "tensors = data_to_tensor(files);"
   ]
  },
  {
   "cell_type": "code",
   "execution_count": 4,
   "metadata": {},
   "outputs": [
    {
     "name": "stdout",
     "output_type": "stream",
     "text": [
      "Tensor shape: (1650, 32, 32, 3)\n",
      "Target shape (1650,)\n"
     ]
    }
   ],
   "source": [
    "hide_code\n",
    "# Print the shape \n",
    "print ('Tensor shape:', tensors.shape)\n",
    "print ('Target shape', targets.shape)"
   ]
  },
  {
   "cell_type": "code",
   "execution_count": 6,
   "metadata": {},
   "outputs": [
    {
     "data": {
      "image/png": "[encoded data removed]",
      "text/plain": [
       "<matplotlib.figure.Figure at 0x11f312518>"
      ]
     },
     "metadata": {},
     "output_type": "display_data"
    }
   ],
   "source": [
    "hide_code\n",
    "# Read from files and display images using OpenCV\n",
    "def display_images(img_path, ax):\n",
    "    img = cv2.imread(\"data/\" + img_path)\n",
    "    ax.imshow(cv2.cvtColor(img, cv2.COLOR_BGR2RGB))\n",
    "    \n",
    "fig = plt.figure(figsize=(18, 6))\n",
    "for i in range(12):\n",
    "    ax = fig.add_subplot(2, 6, i + 1, xticks=[], yticks=[], title=letters[i*22])\n",
    "    display_images(files[i*50], ax)"
   ]
  },
  {
   "cell_type": "markdown",
   "metadata": {},
   "source": [
    "## Step 2. Save and Load the Data¶\n",
    "The data tensors can be saved in the appropriate format of files .h5."
   ]
  },
  {
   "cell_type": "code",
   "execution_count": 7,
   "metadata": {
    "collapsed": true
   },
   "outputs": [],
   "source": [
    "hide_code\n",
    "# Create the tensor file\n",
    "with h5py.File('LetterColorImages.h5', 'w') as f:\n",
    "    f.create_dataset('images', data = tensors)\n",
    "    f.create_dataset('labels', data = targets)\n",
    "    f.create_dataset('backgrounds', data = backgrounds)\n",
    "    f.close()"
   ]
  },
  {
   "cell_type": "code",
   "execution_count": 13,
   "metadata": {},
   "outputs": [
    {
     "data": {
      "text/plain": [
       "['backgrounds', 'images', 'labels']"
      ]
     },
     "execution_count": 13,
     "metadata": {},
     "output_type": "execute_result"
    }
   ],
   "source": [
    "hide_code\n",
    "# Read the h5 file\n",
    "f = h5py.File('LetterColorImages.h5', 'r')\n",
    "\n",
    "# List all groups\n",
    "keys = list(f.keys())\n",
    "keys"
   ]
  },
  {
   "cell_type": "code",
   "execution_count": 14,
   "metadata": {},
   "outputs": [
    {
     "name": "stdout",
     "output_type": "stream",
     "text": [
      "Tensor shape: (1650, 32, 32, 3)\n",
      "Target shape (1650,)\n"
     ]
    }
   ],
   "source": [
    "hide_code\n",
    "# Create tensors and targets\n",
    "tensors = np.array(f[keys[1]])\n",
    "targets = np.array(f[keys[2]])\n",
    "print ('Tensor shape:', tensors.shape)\n",
    "print ('Target shape', targets.shape)"
   ]
  },
  {
   "cell_type": "markdown",
   "metadata": {},
   "source": [
    "## Step 3. Implement Preprocess Functions\n",
    "### Normalize and Gray Scale\n",
    "In the cell below, normalize the image tensors, and return them as a normalized Numpy array."
   ]
  },
  {
   "cell_type": "code",
   "execution_count": 15,
   "metadata": {
    "collapsed": true
   },
   "outputs": [],
   "source": [
    "hide_code\n",
    "# Normalize the tensors\n",
    "tensors = tensors.astype('float32')/255"
   ]
  },
  {
   "cell_type": "code",
   "execution_count": 17,
   "metadata": {},
   "outputs": [
    {
     "name": "stdout",
     "output_type": "stream",
     "text": [
      "Label:  в\n"
     ]
    },
    {
     "data": {
      "image/png": "[encoded data removed]",
      "text/plain": [
       "<matplotlib.figure.Figure at 0x11ef0f160>"
      ]
     },
     "metadata": {},
     "output_type": "display_data"
    }
   ],
   "source": [
    "hide_code\n",
    "# Read and display a tensor using Matplotlib\n",
    "print('Label: ', letters[100])\n",
    "plt.figure(figsize=(3,3))\n",
    "plt.imshow(tensors[100]);"
   ]
  },
  {
   "cell_type": "markdown",
   "metadata": {},
   "source": [
    "Create tensors of grayscaled images and display their shape."
   ]
  },
  {
   "cell_type": "code",
   "execution_count": 18,
   "metadata": {},
   "outputs": [
    {
     "name": "stdout",
     "output_type": "stream",
     "text": [
      "Grayscaled Tensor shape: (1650, 32, 32)\n"
     ]
    }
   ],
   "source": [
    "hide_code\n",
    "# Grayscaled tensors\n",
    "gray_tensors = np.dot(tensors[...,:3], [0.299, 0.587, 0.114])\n",
    "print ('Grayscaled Tensor shape:', gray_tensors.shape)"
   ]
  },
  {
   "cell_type": "code",
   "execution_count": 19,
   "metadata": {},
   "outputs": [
    {
     "name": "stdout",
     "output_type": "stream",
     "text": [
      "Label:  в\n"
     ]
    },
    {
     "data": {
      "image/png": "[encoded data removed]",
      "text/plain": [
       "<matplotlib.figure.Figure at 0x1221479e8>"
      ]
     },
     "metadata": {},
     "output_type": "display_data"
    }
   ],
   "source": [
    "hide_code\n",
    "# Read and display a grayscaled tensor using Matplotlib\n",
    "print('Label: ', letters[100])\n",
    "plt.figure(figsize=(3,3))\n",
    "plt.imshow(gray_tensors[100], cmap=cm.bone);"
   ]
  },
  {
   "cell_type": "markdown",
   "metadata": {},
   "source": [
    "### One-hot encode\n",
    "Now we'll implement the one-hot encoding function to_categorical."
   ]
  },
  {
   "cell_type": "code",
   "execution_count": 20,
   "metadata": {},
   "outputs": [
    {
     "name": "stdout",
     "output_type": "stream",
     "text": [
      "{1, 2, 3, 4, 5, 6, 7, 8, 9, 10, 11, 12, 13, 14, 15, 16, 17, 18, 19, 20, 21, 22, 23, 24, 25, 26, 27, 28, 29, 30, 31, 32, 33}\n"
     ]
    }
   ],
   "source": [
    "hide_code\n",
    "# Print the target unique values\n",
    "print(set(targets))"
   ]
  },
  {
   "cell_type": "code",
   "execution_count": 21,
   "metadata": {},
   "outputs": [
    {
     "data": {
      "text/plain": [
       "(1650, 33)"
      ]
     },
     "execution_count": 21,
     "metadata": {},
     "output_type": "execute_result"
    }
   ],
   "source": [
    "hide_code\n",
    "# One-hot encode the targets, started from the zero label\n",
    "cat_targets = to_categorical(np.array(targets-1), 33)\n",
    "cat_targets.shape"
   ]
  },
  {
   "cell_type": "markdown",
   "metadata": {},
   "source": [
    "### Split\n",
    "Apply the function train_test_split and split the data into training and testing sets. Set up the size of the testing set - 20%."
   ]
  },
  {
   "cell_type": "code",
   "execution_count": 24,
   "metadata": {
    "collapsed": true
   },
   "outputs": [],
   "source": [
    "hide_code\n",
    "# Split the data\n",
    "x_train, x_test, y_train, y_test = train_test_split(tensors, cat_targets, \n",
    "                                                    test_size = 0.2, \n",
    "                                                    random_state = 1)"
   ]
  },
  {
   "cell_type": "markdown",
   "metadata": {},
   "source": [
    "Let's pring the shape of these data sets."
   ]
  },
  {
   "cell_type": "code",
   "execution_count": 25,
   "metadata": {},
   "outputs": [
    {
     "name": "stdout",
     "output_type": "stream",
     "text": [
      "Training tensor's shape: (1320, 32, 32, 3)\n",
      "Training target's shape (1320, 33)\n",
      "Testing tensor's shape: (330, 32, 32, 3)\n",
      "Testing target's shape (330, 33)\n"
     ]
    }
   ],
   "source": [
    "hide_code\n",
    "# Print the shape\n",
    "print (\"Training tensor's shape:\", x_train.shape)\n",
    "print (\"Training target's shape\", y_train.shape)\n",
    "print (\"Testing tensor's shape:\", x_test.shape)\n",
    "print (\"Testing target's shape\", y_test.shape)"
   ]
  },
  {
   "cell_type": "code",
   "execution_count": 26,
   "metadata": {
    "collapsed": true
   },
   "outputs": [],
   "source": [
    "hide_code\n",
    "# Split the grayscaled data\n",
    "x_train2, x_test2, y_train2, y_test2 = train_test_split(gray_tensors, cat_targets, \n",
    "                                                        test_size = 0.2, \n",
    "                                                        random_state = 1)"
   ]
  },
  {
   "cell_type": "code",
   "execution_count": 27,
   "metadata": {
    "collapsed": true
   },
   "outputs": [],
   "source": [
    "hide_code\n",
    "# Reshape the grayscaled data\n",
    "x_train2, x_test2 = x_train2.reshape(-1, 32, 32, 1), x_test2.reshape(-1, 32, 32, 1)"
   ]
  },
  {
   "cell_type": "code",
   "execution_count": 28,
   "metadata": {},
   "outputs": [
    {
     "name": "stdout",
     "output_type": "stream",
     "text": [
      "Training grayscaled tensor's shape: (1320, 32, 32, 1)\n",
      "Training grayscaled target's shape (1320, 33)\n",
      "Testing grayscaled tensor's shape: (330, 32, 32, 1)\n",
      "Testing grayscaled target's shape (330, 33)\n"
     ]
    }
   ],
   "source": [
    "hide_code\n",
    "# Print the shape\n",
    "print (\"Training grayscaled tensor's shape:\", x_train2.shape)\n",
    "print (\"Training grayscaled target's shape\", y_train2.shape)\n",
    "print (\"Testing grayscaled tensor's shape:\", x_test2.shape)\n",
    "print (\"Testing grayscaled target's shape\", y_test2.shape)"
   ]
  },
  {
   "cell_type": "markdown",
   "metadata": {},
   "source": [
    "## Step 4. Create a One-Label Classification Model\n",
    "### Color Images\n",
    "Define a model architecture and compile the model for color images."
   ]
  },
  {
   "cell_type": "code",
   "execution_count": 36,
   "metadata": {
    "collapsed": true
   },
   "outputs": [],
   "source": [
    "hide_code\n",
    "def model():\n",
    "    model = Sequential()\n",
    "    # TODO: Define a model architecture\n",
    "\n",
    "    model.add(Conv2D(32, (5, 5), padding='same', input_shape=x_train.shape[1:]))\n",
    "    model.add(Activation('relu'))    \n",
    "    model.add(MaxPooling2D(pool_size=(2, 2)))\n",
    "    model.add(Dropout(0.25))\n",
    "\n",
    "    model.add(Conv2D(96, (5, 5)))\n",
    "    model.add(Activation('relu'))    \n",
    "    model.add(MaxPooling2D(pool_size=(2, 2)))\n",
    "    model.add(Dropout(0.25))\n",
    "    \n",
    "    model.add(GlobalMaxPooling2D()) \n",
    "    \n",
    "    model.add(Dense(1024, activation='relu'))\n",
    "    model.add(Dropout(0.25)) \n",
    "    \n",
    "    model.add(Dense(128, activation='relu'))\n",
    "    model.add(Dropout(0.25))    \n",
    "\n",
    "    model.add(Dense(33))\n",
    "    model.add(Activation('softmax'))\n",
    "    \n",
    "    # TODO: Compile the model\n",
    "    model.compile(loss='categorical_crossentropy', optimizer='nadam', metrics=['accuracy'])\n",
    "    \n",
    "    return model\n",
    "\n",
    "model = model()"
   ]
  },
  {
   "cell_type": "code",
   "execution_count": 37,
   "metadata": {},
   "outputs": [
    {
     "name": "stdout",
     "output_type": "stream",
     "text": [
      "Train on 1320 samples, validate on 330 samples\n",
      "Epoch 1/100\n",
      "Epoch 00000: val_loss improved from inf to 3.49699, saving model to weights.best.model.hdf5\n",
      "7s - loss: 3.5055 - acc: 0.0348 - val_loss: 3.4970 - val_acc: 0.0455\n",
      "Epoch 2/100\n",
      "Epoch 00001: val_loss did not improve\n",
      "6s - loss: 3.4907 - acc: 0.0394 - val_loss: 3.4977 - val_acc: 0.0182\n",
      "Epoch 3/100\n",
      "Epoch 00002: val_loss improved from 3.49699 to 3.49533, saving model to weights.best.model.hdf5\n",
      "6s - loss: 3.4971 - acc: 0.0318 - val_loss: 3.4953 - val_acc: 0.0333\n",
      "Epoch 4/100\n",
      "Epoch 00003: val_loss improved from 3.49533 to 3.47249, saving model to weights.best.model.hdf5\n",
      "6s - loss: 3.4721 - acc: 0.0402 - val_loss: 3.4725 - val_acc: 0.0455\n",
      "Epoch 5/100\n",
      "Epoch 00004: val_loss improved from 3.47249 to 3.45549, saving model to weights.best.model.hdf5\n",
      "6s - loss: 3.4758 - acc: 0.0356 - val_loss: 3.4555 - val_acc: 0.0333\n",
      "Epoch 6/100\n",
      "Epoch 00005: val_loss did not improve\n",
      "6s - loss: 3.4531 - acc: 0.0470 - val_loss: 3.4566 - val_acc: 0.0333\n",
      "Epoch 7/100\n",
      "Epoch 00006: val_loss improved from 3.45549 to 3.44963, saving model to weights.best.model.hdf5\n",
      "6s - loss: 3.4426 - acc: 0.0432 - val_loss: 3.4496 - val_acc: 0.0394\n",
      "Epoch 8/100\n",
      "Epoch 00007: val_loss improved from 3.44963 to 3.44275, saving model to weights.best.model.hdf5\n",
      "6s - loss: 3.4360 - acc: 0.0492 - val_loss: 3.4427 - val_acc: 0.0364\n",
      "Epoch 9/100\n",
      "Epoch 00008: val_loss improved from 3.44275 to 3.43838, saving model to weights.best.model.hdf5\n",
      "6s - loss: 3.4282 - acc: 0.0477 - val_loss: 3.4384 - val_acc: 0.0394\n",
      "Epoch 10/100\n",
      "Epoch 00009: val_loss did not improve\n",
      "6s - loss: 3.4229 - acc: 0.0545 - val_loss: 3.4403 - val_acc: 0.0485\n",
      "Epoch 11/100\n",
      "Epoch 00010: val_loss did not improve\n",
      "7s - loss: 3.4710 - acc: 0.0424 - val_loss: 3.4848 - val_acc: 0.0303\n",
      "Epoch 12/100\n",
      "Epoch 00011: val_loss did not improve\n",
      "7s - loss: 3.4788 - acc: 0.0485 - val_loss: 3.4974 - val_acc: 0.0394\n",
      "Epoch 13/100\n",
      "Epoch 00012: val_loss did not improve\n",
      "6s - loss: 3.4750 - acc: 0.0424 - val_loss: 3.4820 - val_acc: 0.0333\n",
      "Epoch 14/100\n",
      "Epoch 00013: val_loss did not improve\n",
      "6s - loss: 3.4493 - acc: 0.0644 - val_loss: 3.4603 - val_acc: 0.0576\n",
      "Epoch 15/100\n",
      "Epoch 00014: val_loss did not improve\n",
      "6s - loss: 3.4458 - acc: 0.0636 - val_loss: 3.4966 - val_acc: 0.0424\n",
      "Epoch 16/100\n",
      "Epoch 00015: val_loss did not improve\n",
      "6s - loss: 3.3852 - acc: 0.0644 - val_loss: 3.5001 - val_acc: 0.0455\n",
      "Epoch 17/100\n",
      "Epoch 00016: val_loss improved from 3.43838 to 3.40631, saving model to weights.best.model.hdf5\n",
      "6s - loss: 3.3934 - acc: 0.0644 - val_loss: 3.4063 - val_acc: 0.0606\n",
      "Epoch 18/100\n",
      "Epoch 00017: val_loss did not improve\n",
      "6s - loss: 3.3711 - acc: 0.0705 - val_loss: 3.4939 - val_acc: 0.0455\n",
      "Epoch 19/100\n",
      "Epoch 00018: val_loss did not improve\n",
      "6s - loss: 3.4729 - acc: 0.0644 - val_loss: 3.4856 - val_acc: 0.0303\n",
      "Epoch 20/100\n",
      "Epoch 00019: val_loss did not improve\n",
      "6s - loss: 3.4526 - acc: 0.0417 - val_loss: 3.4911 - val_acc: 0.0424\n",
      "Epoch 21/100\n",
      "Epoch 00020: val_loss did not improve\n",
      "6s - loss: 3.4315 - acc: 0.0462 - val_loss: 3.4747 - val_acc: 0.0485\n",
      "Epoch 22/100\n",
      "Epoch 00021: val_loss did not improve\n",
      "7s - loss: 3.4163 - acc: 0.0530 - val_loss: 3.4809 - val_acc: 0.0455\n",
      "Epoch 23/100\n",
      "Epoch 00022: val_loss did not improve\n",
      "6s - loss: 3.4227 - acc: 0.0568 - val_loss: 3.5411 - val_acc: 0.0273\n",
      "Epoch 24/100\n",
      "Epoch 00023: val_loss did not improve\n",
      "6s - loss: 3.4137 - acc: 0.0485 - val_loss: 3.6210 - val_acc: 0.0273\n",
      "Epoch 25/100\n",
      "Epoch 00024: val_loss did not improve\n",
      "6s - loss: 3.4039 - acc: 0.0583 - val_loss: 3.7176 - val_acc: 0.0242\n",
      "Epoch 26/100\n",
      "Epoch 00025: val_loss did not improve\n",
      "6s - loss: 3.4153 - acc: 0.0417 - val_loss: 3.5046 - val_acc: 0.0333\n",
      "Epoch 27/100\n",
      "Epoch 00026: val_loss did not improve\n",
      "6s - loss: 3.4117 - acc: 0.0545 - val_loss: 3.4837 - val_acc: 0.0424\n",
      "Epoch 28/100\n",
      "Epoch 00027: val_loss did not improve\n",
      "6s - loss: 3.3935 - acc: 0.0659 - val_loss: 3.5996 - val_acc: 0.0303\n",
      "Epoch 29/100\n",
      "Epoch 00028: val_loss did not improve\n",
      "6s - loss: 3.4055 - acc: 0.0652 - val_loss: 3.5678 - val_acc: 0.0303\n",
      "Epoch 30/100\n",
      "Epoch 00029: val_loss did not improve\n",
      "6s - loss: 3.3848 - acc: 0.0667 - val_loss: 3.4848 - val_acc: 0.0364\n",
      "Epoch 31/100\n",
      "Epoch 00030: val_loss did not improve\n",
      "6s - loss: 3.3827 - acc: 0.0614 - val_loss: 3.5256 - val_acc: 0.0455\n",
      "Epoch 32/100\n",
      "Epoch 00031: val_loss did not improve\n",
      "6s - loss: 3.3645 - acc: 0.0621 - val_loss: 3.5169 - val_acc: 0.0455\n",
      "Epoch 33/100\n",
      "Epoch 00032: val_loss did not improve\n",
      "6s - loss: 3.3546 - acc: 0.0720 - val_loss: 3.5154 - val_acc: 0.0515\n",
      "Epoch 34/100\n",
      "Epoch 00033: val_loss did not improve\n",
      "6s - loss: 3.3573 - acc: 0.0750 - val_loss: 3.4687 - val_acc: 0.0545\n",
      "Epoch 35/100\n",
      "Epoch 00034: val_loss did not improve\n",
      "6s - loss: 3.3339 - acc: 0.0689 - val_loss: 3.5039 - val_acc: 0.0515\n",
      "Epoch 36/100\n",
      "Epoch 00035: val_loss did not improve\n",
      "6s - loss: 3.3226 - acc: 0.0697 - val_loss: 3.7053 - val_acc: 0.0394\n",
      "Epoch 37/100\n",
      "Epoch 00036: val_loss did not improve\n",
      "6s - loss: 3.3358 - acc: 0.0629 - val_loss: 3.7224 - val_acc: 0.0303\n",
      "Epoch 38/100\n",
      "Epoch 00037: val_loss did not improve\n",
      "6s - loss: 3.3197 - acc: 0.0674 - val_loss: 3.6190 - val_acc: 0.0364\n",
      "Epoch 39/100\n",
      "Epoch 00038: val_loss did not improve\n",
      "6s - loss: 3.3276 - acc: 0.0727 - val_loss: 3.6744 - val_acc: 0.0485\n",
      "Epoch 40/100\n",
      "Epoch 00039: val_loss did not improve\n",
      "6s - loss: 3.3177 - acc: 0.0712 - val_loss: 3.5527 - val_acc: 0.0455\n",
      "Epoch 41/100\n",
      "Epoch 00040: val_loss did not improve\n",
      "6s - loss: 3.3103 - acc: 0.0742 - val_loss: 3.6532 - val_acc: 0.0394\n",
      "Epoch 42/100\n",
      "Epoch 00041: val_loss did not improve\n",
      "6s - loss: 3.3037 - acc: 0.0795 - val_loss: 3.4973 - val_acc: 0.0515\n",
      "Epoch 43/100\n",
      "Epoch 00042: val_loss did not improve\n",
      "6s - loss: 3.2962 - acc: 0.0682 - val_loss: 3.5675 - val_acc: 0.0515\n",
      "Epoch 44/100\n",
      "Epoch 00043: val_loss did not improve\n",
      "6s - loss: 3.3080 - acc: 0.0742 - val_loss: 3.5086 - val_acc: 0.0515\n",
      "Epoch 45/100\n",
      "Epoch 00044: val_loss did not improve\n",
      "6s - loss: 3.2960 - acc: 0.0788 - val_loss: 3.5030 - val_acc: 0.0455\n",
      "Epoch 46/100\n",
      "Epoch 00045: val_loss did not improve\n",
      "6s - loss: 3.3023 - acc: 0.0742 - val_loss: 3.4591 - val_acc: 0.0485\n",
      "Epoch 47/100\n",
      "Epoch 00046: val_loss did not improve\n",
      "6s - loss: 3.2827 - acc: 0.0712 - val_loss: 3.5460 - val_acc: 0.0515\n",
      "Epoch 48/100\n",
      "Epoch 00047: val_loss did not improve\n",
      "6s - loss: 3.2828 - acc: 0.0742 - val_loss: 3.6326 - val_acc: 0.0515\n",
      "Epoch 49/100\n",
      "Epoch 00048: val_loss did not improve\n",
      "6s - loss: 3.3110 - acc: 0.0720 - val_loss: 3.4097 - val_acc: 0.0636\n",
      "Epoch 50/100\n",
      "Epoch 00049: val_loss improved from 3.40631 to 3.39292, saving model to weights.best.model.hdf5\n",
      "6s - loss: 3.2786 - acc: 0.0742 - val_loss: 3.3929 - val_acc: 0.0727\n",
      "Epoch 51/100\n",
      "Epoch 00050: val_loss did not improve\n",
      "5s - loss: 3.2787 - acc: 0.0856 - val_loss: 3.6466 - val_acc: 0.0545\n",
      "Epoch 52/100\n",
      "Epoch 00051: val_loss did not improve\n",
      "5s - loss: 3.2825 - acc: 0.0902 - val_loss: 3.6857 - val_acc: 0.0394\n",
      "Epoch 53/100\n",
      "Epoch 00052: val_loss did not improve\n",
      "6s - loss: 3.2635 - acc: 0.0758 - val_loss: 3.4447 - val_acc: 0.0485\n",
      "Epoch 54/100\n",
      "Epoch 00053: val_loss did not improve\n",
      "5s - loss: 3.2685 - acc: 0.0750 - val_loss: 3.6450 - val_acc: 0.0545\n",
      "Epoch 55/100\n",
      "Epoch 00054: val_loss did not improve\n",
      "6s - loss: 3.2458 - acc: 0.0826 - val_loss: 3.5187 - val_acc: 0.0606\n",
      "Epoch 56/100\n",
      "Epoch 00055: val_loss did not improve\n",
      "6s - loss: 3.2731 - acc: 0.0833 - val_loss: 3.5629 - val_acc: 0.0576\n",
      "Epoch 57/100\n",
      "Epoch 00056: val_loss did not improve\n",
      "6s - loss: 3.2527 - acc: 0.0864 - val_loss: 3.5612 - val_acc: 0.0545\n",
      "Epoch 58/100\n",
      "Epoch 00057: val_loss did not improve\n",
      "6s - loss: 3.2709 - acc: 0.0750 - val_loss: 3.5233 - val_acc: 0.0576\n",
      "Epoch 59/100\n",
      "Epoch 00058: val_loss did not improve\n",
      "6s - loss: 3.2399 - acc: 0.0939 - val_loss: 4.2504 - val_acc: 0.0394\n",
      "Epoch 60/100\n",
      "Epoch 00059: val_loss did not improve\n",
      "6s - loss: 3.2569 - acc: 0.0841 - val_loss: 3.8441 - val_acc: 0.0545\n",
      "Epoch 61/100\n",
      "Epoch 00060: val_loss did not improve\n",
      "6s - loss: 3.2386 - acc: 0.0879 - val_loss: 3.5112 - val_acc: 0.0485\n",
      "Epoch 62/100\n",
      "Epoch 00061: val_loss did not improve\n",
      "5s - loss: 3.2136 - acc: 0.0917 - val_loss: 3.4270 - val_acc: 0.0697\n",
      "Epoch 63/100\n",
      "Epoch 00062: val_loss did not improve\n",
      "5s - loss: 3.2043 - acc: 0.0939 - val_loss: 3.5726 - val_acc: 0.0576\n",
      "Epoch 64/100\n",
      "Epoch 00063: val_loss did not improve\n",
      "6s - loss: 3.1849 - acc: 0.0955 - val_loss: 3.4610 - val_acc: 0.0697\n",
      "Epoch 65/100\n"
     ]
    },
    {
     "name": "stdout",
     "output_type": "stream",
     "text": [
      "Epoch 00064: val_loss did not improve\n",
      "6s - loss: 3.2013 - acc: 0.0902 - val_loss: 3.4994 - val_acc: 0.0576\n",
      "Epoch 66/100\n",
      "Epoch 00065: val_loss did not improve\n",
      "5s - loss: 3.1872 - acc: 0.0909 - val_loss: 3.4940 - val_acc: 0.0576\n",
      "Epoch 67/100\n",
      "Epoch 00066: val_loss did not improve\n",
      "6s - loss: 3.1733 - acc: 0.0879 - val_loss: 3.6774 - val_acc: 0.0606\n",
      "Epoch 68/100\n",
      "Epoch 00067: val_loss did not improve\n",
      "5s - loss: 3.1908 - acc: 0.0909 - val_loss: 3.5875 - val_acc: 0.0576\n",
      "Epoch 69/100\n",
      "Epoch 00068: val_loss did not improve\n",
      "5s - loss: 3.1792 - acc: 0.1015 - val_loss: 3.6204 - val_acc: 0.0636\n",
      "Epoch 70/100\n",
      "Epoch 00069: val_loss did not improve\n",
      "6s - loss: 3.1765 - acc: 0.1068 - val_loss: 3.3975 - val_acc: 0.0727\n",
      "Epoch 71/100\n",
      "Epoch 00070: val_loss did not improve\n",
      "5s - loss: 3.1674 - acc: 0.0970 - val_loss: 3.4714 - val_acc: 0.0636\n",
      "Epoch 72/100\n",
      "Epoch 00071: val_loss did not improve\n",
      "6s - loss: 3.1650 - acc: 0.0788 - val_loss: 3.4098 - val_acc: 0.0879\n",
      "Epoch 73/100\n",
      "Epoch 00072: val_loss did not improve\n",
      "5s - loss: 3.1627 - acc: 0.0985 - val_loss: 3.5085 - val_acc: 0.0576\n",
      "Epoch 74/100\n",
      "Epoch 00073: val_loss did not improve\n",
      "6s - loss: 3.1582 - acc: 0.1000 - val_loss: 3.4751 - val_acc: 0.0576\n",
      "Epoch 75/100\n",
      "Epoch 00074: val_loss did not improve\n",
      "5s - loss: 3.1488 - acc: 0.0955 - val_loss: 3.5112 - val_acc: 0.0576\n",
      "Epoch 76/100\n",
      "Epoch 00075: val_loss did not improve\n",
      "6s - loss: 3.1327 - acc: 0.1045 - val_loss: 3.4104 - val_acc: 0.0636\n",
      "Epoch 77/100\n",
      "Epoch 00076: val_loss did not improve\n",
      "6s - loss: 3.1569 - acc: 0.0871 - val_loss: 3.5199 - val_acc: 0.0606\n",
      "Epoch 78/100\n",
      "Epoch 00077: val_loss did not improve\n",
      "6s - loss: 3.1255 - acc: 0.1068 - val_loss: 3.7118 - val_acc: 0.0636\n",
      "Epoch 79/100\n",
      "Epoch 00078: val_loss did not improve\n",
      "5s - loss: 3.1225 - acc: 0.0955 - val_loss: 3.4931 - val_acc: 0.0606\n",
      "Epoch 80/100\n",
      "Epoch 00079: val_loss did not improve\n",
      "5s - loss: 3.1446 - acc: 0.0924 - val_loss: 3.4438 - val_acc: 0.0606\n",
      "Epoch 81/100\n",
      "Epoch 00080: val_loss did not improve\n",
      "6s - loss: 3.1127 - acc: 0.1053 - val_loss: 3.6637 - val_acc: 0.0667\n",
      "Epoch 82/100\n",
      "Epoch 00081: val_loss did not improve\n",
      "6s - loss: 3.1069 - acc: 0.1061 - val_loss: 3.5664 - val_acc: 0.0636\n",
      "Epoch 83/100\n",
      "Epoch 00082: val_loss did not improve\n",
      "5s - loss: 3.1269 - acc: 0.0977 - val_loss: 3.6404 - val_acc: 0.0727\n",
      "Epoch 84/100\n",
      "Epoch 00083: val_loss did not improve\n",
      "6s - loss: 3.1056 - acc: 0.1053 - val_loss: 3.7215 - val_acc: 0.0788\n",
      "Epoch 85/100\n",
      "Epoch 00084: val_loss did not improve\n",
      "5s - loss: 3.0918 - acc: 0.1068 - val_loss: 3.4518 - val_acc: 0.0606\n",
      "Epoch 86/100\n",
      "Epoch 00085: val_loss did not improve\n",
      "6s - loss: 3.1270 - acc: 0.1129 - val_loss: 3.7451 - val_acc: 0.0606\n",
      "Epoch 87/100\n",
      "Epoch 00086: val_loss did not improve\n",
      "6s - loss: 3.1111 - acc: 0.1015 - val_loss: 3.7721 - val_acc: 0.0636\n",
      "Epoch 88/100\n",
      "Epoch 00087: val_loss did not improve\n",
      "6s - loss: 3.0587 - acc: 0.1068 - val_loss: 3.4977 - val_acc: 0.0576\n",
      "Epoch 89/100\n",
      "Epoch 00088: val_loss did not improve\n",
      "6s - loss: 3.0580 - acc: 0.1136 - val_loss: 3.4982 - val_acc: 0.0485\n",
      "Epoch 90/100\n",
      "Epoch 00089: val_loss did not improve\n",
      "6s - loss: 3.0914 - acc: 0.1023 - val_loss: 3.4567 - val_acc: 0.0727\n",
      "Epoch 91/100\n",
      "Epoch 00090: val_loss did not improve\n",
      "6s - loss: 3.1301 - acc: 0.1023 - val_loss: 3.6031 - val_acc: 0.0545\n",
      "Epoch 92/100\n",
      "Epoch 00091: val_loss did not improve\n",
      "6s - loss: 3.0387 - acc: 0.1098 - val_loss: 3.6988 - val_acc: 0.0606\n",
      "Epoch 93/100\n",
      "Epoch 00092: val_loss did not improve\n",
      "5s - loss: 3.0328 - acc: 0.1212 - val_loss: 3.8209 - val_acc: 0.0576\n",
      "Epoch 94/100\n",
      "Epoch 00093: val_loss did not improve\n",
      "6s - loss: 3.1231 - acc: 0.1083 - val_loss: 3.6532 - val_acc: 0.0667\n",
      "Epoch 95/100\n",
      "Epoch 00094: val_loss did not improve\n",
      "5s - loss: 3.0417 - acc: 0.1152 - val_loss: 3.6886 - val_acc: 0.0697\n",
      "Epoch 96/100\n",
      "Epoch 00095: val_loss did not improve\n",
      "6s - loss: 3.0445 - acc: 0.1167 - val_loss: 3.8098 - val_acc: 0.0697\n",
      "Epoch 97/100\n",
      "Epoch 00096: val_loss did not improve\n",
      "6s - loss: 3.0758 - acc: 0.1091 - val_loss: 3.6157 - val_acc: 0.0667\n",
      "Epoch 98/100\n",
      "Epoch 00097: val_loss did not improve\n",
      "5s - loss: 3.0397 - acc: 0.1121 - val_loss: 3.4862 - val_acc: 0.0606\n",
      "Epoch 99/100\n",
      "Epoch 00098: val_loss did not improve\n",
      "6s - loss: 3.0389 - acc: 0.1258 - val_loss: 3.6935 - val_acc: 0.0697\n",
      "Epoch 100/100\n",
      "Epoch 00099: val_loss did not improve\n",
      "6s - loss: 3.0107 - acc: 0.1189 - val_loss: 3.7066 - val_acc: 0.0606\n"
     ]
    }
   ],
   "source": [
    "hide_code\n",
    "# train the model\n",
    "checkpointer = ModelCheckpoint(filepath='weights.best.model.hdf5', \n",
    "                               verbose=2, save_best_only=True)\n",
    "history = model.fit(x_train, y_train, \n",
    "                    epochs=100, batch_size=64, verbose=2,\n",
    "                    validation_data=(x_test, y_test),\n",
    "                    callbacks=[checkpointer])"
   ]
  },
  {
   "cell_type": "markdown",
   "metadata": {},
   "source": [
    "We should have an accuracy greater than 3%"
   ]
  },
  {
   "cell_type": "code",
   "execution_count": 38,
   "metadata": {},
   "outputs": [
    {
     "name": "stdout",
     "output_type": "stream",
     "text": [
      "320/330 [============================>.] - ETA: 0s"
     ]
    },
    {
     "data": {
      "text/plain": [
       "[3.3929212989229143, 0.072727272727272724]"
      ]
     },
     "execution_count": 38,
     "metadata": {},
     "output_type": "execute_result"
    }
   ],
   "source": [
    "hide_code\n",
    "# Load the model with the best validation accuracy\n",
    "model.load_weights('weights.best.model.hdf5')\n",
    "# Calculate classification accuracy on the testing set\n",
    "score = model.evaluate(x_test, y_test)\n",
    "score"
   ]
  },
  {
   "cell_type": "markdown",
   "metadata": {},
   "source": [
    "Apply the ImageDataGenerator() function."
   ]
  },
  {
   "cell_type": "code",
   "execution_count": 39,
   "metadata": {},
   "outputs": [
    {
     "name": "stdout",
     "output_type": "stream",
     "text": [
      "Epoch 1/5\n",
      "Epoch 00000: val_loss did not improve\n",
      "280s - loss: 3.1527 - acc: 0.1002 - val_loss: 3.4413 - val_acc: 0.0667\n",
      "Epoch 2/5\n",
      "Epoch 00001: val_loss did not improve\n",
      "276s - loss: 2.9898 - acc: 0.1234 - val_loss: 3.8741 - val_acc: 0.0788\n",
      "Epoch 3/5\n",
      "Epoch 00002: val_loss did not improve\n",
      "276s - loss: 2.8761 - acc: 0.1392 - val_loss: 3.8046 - val_acc: 0.0727\n",
      "Epoch 4/5\n",
      "Epoch 00003: val_loss did not improve\n",
      "302s - loss: 2.8007 - acc: 0.1497 - val_loss: 4.2373 - val_acc: 0.0667\n",
      "Epoch 5/5\n",
      "Epoch 00004: val_loss did not improve\n",
      "317s - loss: 2.7512 - acc: 0.1575 - val_loss: 4.2089 - val_acc: 0.0515\n"
     ]
    }
   ],
   "source": [
    "hide_code\n",
    "steps, epochs = 1000, 5\n",
    "data_generator = ImageDataGenerator(zoom_range=0.2, shear_range=0.2, rotation_range=20)\n",
    "\n",
    "generator = model.fit_generator(data_generator.flow(x_train, y_train, batch_size=64),\n",
    "                                        steps_per_epoch = steps, epochs = epochs,\n",
    "                                        validation_data = (x_test, y_test), \n",
    "                                        callbacks=[checkpointer], verbose=2)"
   ]
  },
  {
   "cell_type": "code",
   "execution_count": 40,
   "metadata": {},
   "outputs": [
    {
     "name": "stdout",
     "output_type": "stream",
     "text": [
      "330/330 [==============================] - 0s     \n"
     ]
    },
    {
     "data": {
      "text/plain": [
       "[3.3929212989229143, 0.072727272727272724]"
      ]
     },
     "execution_count": 40,
     "metadata": {},
     "output_type": "execute_result"
    }
   ],
   "source": [
    "hide_code\n",
    "# Load the model with the best validation accuracy\n",
    "model.load_weights('weights.best.model.hdf5')\n",
    "# Calculate classification accuracy on the testing set\n",
    "score = model.evaluate(x_test, y_test)\n",
    "score"
   ]
  },
  {
   "cell_type": "markdown",
   "metadata": {},
   "source": [
    "Let's compare the results with classifying algorithms."
   ]
  },
  {
   "cell_type": "code",
   "execution_count": 41,
   "metadata": {},
   "outputs": [
    {
     "data": {
      "text/plain": [
       "0.11212121212121212"
      ]
     },
     "execution_count": 41,
     "metadata": {},
     "output_type": "execute_result"
    }
   ],
   "source": [
    "hide_code\n",
    "# Fit the classifier and get the accuracy score\n",
    "y_train_c = np.array([np.argmax(y) for y in y_train])\n",
    "y_test_c = np.array([np.argmax(y) for y in y_test])\n",
    "clf = GradientBoostingClassifier().fit(x_train.reshape(-1, 32*32*3), y_train_c)\n",
    "clf.score(x_test.reshape(-1, 32*32*3), y_test_c)"
   ]
  },
  {
   "cell_type": "code",
   "execution_count": 42,
   "metadata": {},
   "outputs": [
    {
     "data": {
      "text/plain": [
       "0.10606060606060606"
      ]
     },
     "execution_count": 42,
     "metadata": {},
     "output_type": "execute_result"
    }
   ],
   "source": [
    "hide_code\n",
    "# Fit the classifier and get the accuracy score\n",
    "clf2 = RandomForestClassifier().fit(x_train.reshape(-1, 32*32*3), y_train_c)\n",
    "clf2.score(x_test.reshape(-1, 32*32*3), y_test_c)"
   ]
  },
  {
   "cell_type": "markdown",
   "metadata": {},
   "source": [
    "### Grayscaled Images"
   ]
  },
  {
   "cell_type": "code",
   "execution_count": null,
   "metadata": {
    "collapsed": true
   },
   "outputs": [],
   "source": []
  },
  {
   "cell_type": "code",
   "execution_count": null,
   "metadata": {
    "collapsed": true
   },
   "outputs": [],
   "source": []
  },
  {
   "cell_type": "markdown",
   "metadata": {},
   "source": [
    "## Step 5. Create a Multi-Label Classification Model\n",
    "### Color Images"
   ]
  },
  {
   "cell_type": "code",
   "execution_count": null,
   "metadata": {
    "collapsed": true
   },
   "outputs": [],
   "source": []
  },
  {
   "cell_type": "code",
   "execution_count": null,
   "metadata": {
    "collapsed": true
   },
   "outputs": [],
   "source": []
  },
  {
   "cell_type": "markdown",
   "metadata": {
    "collapsed": true
   },
   "source": [
    "### Grayscaled Images"
   ]
  },
  {
   "cell_type": "code",
   "execution_count": null,
   "metadata": {
    "collapsed": true
   },
   "outputs": [],
   "source": []
  },
  {
   "cell_type": "code",
   "execution_count": null,
   "metadata": {
    "collapsed": true
   },
   "outputs": [],
   "source": []
  }
 ],
 "metadata": {
  "kernelspec": {
   "display_name": "Python 3",
   "language": "python",
   "name": "python3"
  },
  "language_info": {
   "codemirror_mode": {
    "name": "ipython",
    "version": 3
   },
   "file_extension": ".py",
   "mimetype": "text/x-python",
   "name": "python",
   "nbconvert_exporter": "python",
   "pygments_lexer": "ipython3",
   "version": "3.6.1"
  }
 },
 "nbformat": 4,
 "nbformat_minor": 2
}
