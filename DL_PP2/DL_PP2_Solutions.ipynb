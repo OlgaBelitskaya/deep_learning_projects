{
 "cells": [
  {
   "cell_type": "markdown",
   "metadata": {},
   "source": [
    "# Deep Learning\n",
    "## Practice Projects\n",
    "# P2: Multi-Label Classification\n",
    "\n",
    "## Step 0. Style and Libraries"
   ]
  },
  {
   "cell_type": "code",
   "execution_count": 1,
   "metadata": {},
   "outputs": [
    {
     "data": {
      "text/html": [
       "<style>\n",
       "@import url('https://fonts.googleapis.com/css?family=Orbitron|Roboto');\n",
       "body {background-color: aliceblue;} \n",
       "a {color: #4876ff; font-family: 'Roboto';} \n",
       "h1 {color: #348ABD; font-family: 'Orbitron'; text-shadow: 4px 4px 4px #ccc;} \n",
       "h2, h3 {color: slategray; font-family: 'Roboto'; text-shadow: 4px 4px 4px #ccc;}\n",
       "h4 {color: #348ABD; font-family: 'Orbitron';}\n",
       "span {text-shadow: 4px 4px 4px #ccc;}\n",
       "div.output_prompt, div.output_area pre {color: slategray;}\n",
       "div.input_prompt, div.output_subarea {color: #4876ff;}      \n",
       "div.output_stderr pre {background-color: aliceblue;}  \n",
       "div.output_stderr {background-color: slategrey;}                        \n",
       "</style>\n",
       "<script>\n",
       "code_show = true; \n",
       "function code_display() {\n",
       "    if (code_show) {\n",
       "        $('div.input').each(function(id) {\n",
       "            if (id == 0 || $(this).html().indexOf('hide_code') > -1) {$(this).hide();}\n",
       "        });\n",
       "        $('div.output_prompt').css('opacity', 0);\n",
       "    } else {\n",
       "        $('div.input').each(function(id) {$(this).show();});\n",
       "        $('div.output_prompt').css('opacity', 1);\n",
       "    };\n",
       "    code_show = !code_show;\n",
       "} \n",
       "$(document).ready(code_display);\n",
       "</script>\n",
       "<form action=\"javascript: code_display()\">\n",
       "<input style=\"color: #348ABD; background: aliceblue; opacity: 0.8;\" \\ \n",
       "type=\"submit\" value=\"Click to display or hide code cells\">\n",
       "</form>                  "
      ],
      "text/plain": [
       "<IPython.core.display.HTML object>"
      ]
     },
     "metadata": {},
     "output_type": "display_data"
    }
   ],
   "source": [
    "%%html\n",
    "<style>\n",
    "@import url('https://fonts.googleapis.com/css?family=Orbitron|Roboto');\n",
    "body {background-color: aliceblue;} \n",
    "a {color: #4876ff; font-family: 'Roboto';} \n",
    "h1 {color: #348ABD; font-family: 'Orbitron'; text-shadow: 4px 4px 4px #ccc;} \n",
    "h2, h3 {color: slategray; font-family: 'Roboto'; text-shadow: 4px 4px 4px #ccc;}\n",
    "h4 {color: #348ABD; font-family: 'Orbitron';}\n",
    "span {text-shadow: 4px 4px 4px #ccc;}\n",
    "div.output_prompt, div.output_area pre {color: slategray;}\n",
    "div.input_prompt, div.output_subarea {color: #4876ff;}      \n",
    "div.output_stderr pre {background-color: aliceblue;}  \n",
    "div.output_stderr {background-color: slategrey;}                        \n",
    "</style>\n",
    "<script>\n",
    "code_show = true; \n",
    "function code_display() {\n",
    "    if (code_show) {\n",
    "        $('div.input').each(function(id) {\n",
    "            if (id == 0 || $(this).html().indexOf('hide_code') > -1) {$(this).hide();}\n",
    "        });\n",
    "        $('div.output_prompt').css('opacity', 0);\n",
    "    } else {\n",
    "        $('div.input').each(function(id) {$(this).show();});\n",
    "        $('div.output_prompt').css('opacity', 1);\n",
    "    };\n",
    "    code_show = !code_show;\n",
    "} \n",
    "$(document).ready(code_display);\n",
    "</script>\n",
    "<form action=\"javascript: code_display()\">\n",
    "<input style=\"color: #348ABD; background: aliceblue; opacity: 0.8;\" \\ \n",
    "type=\"submit\" value=\"Click to display or hide code cells\">\n",
    "</form>                  "
   ]
  },
  {
   "cell_type": "code",
   "execution_count": 109,
   "metadata": {},
   "outputs": [],
   "source": [
    "hide_code = ''\n",
    "import numpy as np \n",
    "import pandas as pd\n",
    "\n",
    "from PIL import ImageFile\n",
    "from tqdm import tqdm\n",
    "import h5py\n",
    "import cv2\n",
    "\n",
    "import matplotlib.pylab as plt\n",
    "from matplotlib import cm\n",
    "%matplotlib inline\n",
    "\n",
    "from sklearn.model_selection import train_test_split\n",
    "from sklearn.ensemble import GradientBoostingClassifier, RandomForestClassifier\n",
    "\n",
    "from keras.utils import to_categorical\n",
    "from keras.preprocessing import image as keras_image\n",
    "from keras.callbacks import ModelCheckpoint\n",
    "from keras.preprocessing.image import ImageDataGenerator\n",
    "\n",
    "from keras.models import Sequential, load_model, Model\n",
    "from keras.layers import Input, BatchNormalization\n",
    "from keras.layers import Dense, LSTM, GlobalAveragePooling1D, GlobalAveragePooling2D\n",
    "from keras.layers import Activation, Flatten, Dropout, BatchNormalization\n",
    "from keras.layers import Conv2D, MaxPooling2D, GlobalMaxPooling2D"
   ]
  },
  {
   "cell_type": "code",
   "execution_count": 84,
   "metadata": {
    "collapsed": true
   },
   "outputs": [],
   "source": [
    "hide_code\n",
    "# Plot the Neural network fitting history\n",
    "def history_plot(fit_history, n):\n",
    "    plt.figure(figsize=(18, 12))\n",
    "    \n",
    "    plt.subplot(211)\n",
    "    plt.plot(fit_history.history['loss'][n:], color='slategray', label = 'train')\n",
    "    plt.plot(fit_history.history['val_loss'][n:], color='#4876ff', label = 'valid')\n",
    "    plt.xlabel(\"Epochs\")\n",
    "    plt.ylabel(\"Loss\")\n",
    "    plt.legend()\n",
    "    plt.title('Loss Function');  \n",
    "    \n",
    "    plt.subplot(212)\n",
    "    plt.plot(fit_history.history['acc'][n:], color='slategray', label = 'train')\n",
    "    plt.plot(fit_history.history['val_acc'][n:], color='#4876ff', label = 'valid')\n",
    "    plt.xlabel(\"Epochs\")\n",
    "    plt.ylabel(\"Accuracy\")    \n",
    "    plt.legend()\n",
    "    plt.title('Accuracy');"
   ]
  },
  {
   "cell_type": "markdown",
   "metadata": {},
   "source": [
    "## Step 1. Load and Explore the Data\n",
    "Run the following cell to download the dataset."
   ]
  },
  {
   "cell_type": "code",
   "execution_count": 122,
   "metadata": {},
   "outputs": [
    {
     "name": "stderr",
     "output_type": "stream",
     "text": [
      "100%|██████████| 1650/1650 [00:22<00:00, 72.03it/s]\n"
     ]
    }
   ],
   "source": [
    "hide_code\n",
    "# Function for processing an image\n",
    "def image_to_tensor(img_path):\n",
    "    img = keras_image.load_img(\"data/\" + img_path, target_size=(32, 32))\n",
    "    x = keras_image.img_to_array(img)\n",
    "    return np.expand_dims(x, axis=0)\n",
    "# Function for creating the data tensor\n",
    "def data_to_tensor(img_paths):\n",
    "    list_of_tensors = [image_to_tensor(img_path) for img_path in tqdm(img_paths)]\n",
    "    return np.vstack(list_of_tensors)\n",
    "\n",
    "ImageFile.LOAD_TRUNCATED_IMAGES = True \n",
    "# Load the data\n",
    "data = pd.read_csv(\"data/letters.csv\")\n",
    "files = data['file']\n",
    "letters = data['letter']\n",
    "backgrounds = data['background']\n",
    "targets = data['label'].as_matrix()\n",
    "tensors = data_to_tensor(files);"
   ]
  },
  {
   "cell_type": "code",
   "execution_count": 123,
   "metadata": {},
   "outputs": [
    {
     "name": "stdout",
     "output_type": "stream",
     "text": [
      "Tensor shape: (1650, 32, 32, 3)\n",
      "Target shape (1650,)\n"
     ]
    }
   ],
   "source": [
    "hide_code\n",
    "# Print the shape \n",
    "print ('Tensor shape:', tensors.shape)\n",
    "print ('Target shape', targets.shape)"
   ]
  },
  {
   "cell_type": "code",
   "execution_count": 124,
   "metadata": {},
   "outputs": [
    {
     "data": {
      "image/png": "[encoded data removed]",
      "text/plain": [
       "<matplotlib.figure.Figure at 0x1445d0c88>"
      ]
     },
     "metadata": {},
     "output_type": "display_data"
    }
   ],
   "source": [
    "hide_code\n",
    "# Read from files and display images using OpenCV\n",
    "def display_images(img_path, ax):\n",
    "    img = cv2.imread(\"data/\" + img_path)\n",
    "    ax.imshow(cv2.cvtColor(img, cv2.COLOR_BGR2RGB))\n",
    "    \n",
    "fig = plt.figure(figsize=(18, 6))\n",
    "for i in range(12):\n",
    "    ax = fig.add_subplot(2, 6, i + 1, xticks=[], yticks=[], title=letters[i*22])\n",
    "    display_images(files[i*50], ax)"
   ]
  },
  {
   "cell_type": "markdown",
   "metadata": {},
   "source": [
    "## Step 2. Save and Load the Data¶\n",
    "The data tensors can be saved in the appropriate format of files .h5."
   ]
  },
  {
   "cell_type": "code",
   "execution_count": 126,
   "metadata": {},
   "outputs": [],
   "source": [
    "hide_code\n",
    "# Create the tensor file\n",
    "with h5py.File('LetterColorImages.h5', 'w') as f:\n",
    "    f.create_dataset('images', data = tensors)\n",
    "    f.create_dataset('labels', data = targets)\n",
    "    f.create_dataset('backgrounds', data = backgrounds)\n",
    "    f.close()"
   ]
  },
  {
   "cell_type": "code",
   "execution_count": 127,
   "metadata": {},
   "outputs": [
    {
     "data": {
      "text/plain": [
       "['backgrounds', 'images', 'labels']"
      ]
     },
     "execution_count": 127,
     "metadata": {},
     "output_type": "execute_result"
    }
   ],
   "source": [
    "hide_code\n",
    "# Read the h5 file\n",
    "f = h5py.File('LetterColorImages.h5', 'r')\n",
    "\n",
    "# List all groups\n",
    "keys = list(f.keys())\n",
    "keys"
   ]
  },
  {
   "cell_type": "code",
   "execution_count": 128,
   "metadata": {},
   "outputs": [
    {
     "name": "stdout",
     "output_type": "stream",
     "text": [
      "Tensor shape: (1650, 32, 32, 3)\n",
      "Target shape (1650,)\n"
     ]
    }
   ],
   "source": [
    "hide_code\n",
    "# Create tensors and targets\n",
    "tensors = np.array(f[keys[1]])\n",
    "targets = np.array(f[keys[2]])\n",
    "print ('Tensor shape:', tensors.shape)\n",
    "print ('Target shape', targets.shape)"
   ]
  },
  {
   "cell_type": "markdown",
   "metadata": {},
   "source": [
    "## Step 3. Implement Preprocess Functions\n",
    "### Normalize and Gray Scale\n",
    "In the cell below, normalize the image tensors, and return them as a normalized Numpy array."
   ]
  },
  {
   "cell_type": "code",
   "execution_count": 129,
   "metadata": {
    "collapsed": true
   },
   "outputs": [],
   "source": [
    "hide_code\n",
    "# Normalize the tensors\n",
    "tensors = tensors.astype('float32')/255"
   ]
  },
  {
   "cell_type": "code",
   "execution_count": 130,
   "metadata": {},
   "outputs": [
    {
     "name": "stdout",
     "output_type": "stream",
     "text": [
      "Label:  в\n"
     ]
    },
    {
     "data": {
      "image/png": "[encoded data removed]",
      "text/plain": [
       "<matplotlib.figure.Figure at 0x1486422e8>"
      ]
     },
     "metadata": {},
     "output_type": "display_data"
    }
   ],
   "source": [
    "hide_code\n",
    "# Read and display a tensor using Matplotlib\n",
    "print('Label: ', letters[100])\n",
    "plt.figure(figsize=(3,3))\n",
    "plt.imshow(tensors[100]);"
   ]
  },
  {
   "cell_type": "markdown",
   "metadata": {},
   "source": [
    "Create tensors of grayscaled images and display their shape."
   ]
  },
  {
   "cell_type": "code",
   "execution_count": 131,
   "metadata": {},
   "outputs": [
    {
     "name": "stdout",
     "output_type": "stream",
     "text": [
      "Grayscaled Tensor shape: (1650, 32, 32)\n"
     ]
    }
   ],
   "source": [
    "hide_code\n",
    "# Grayscaled tensors\n",
    "gray_tensors = np.dot(tensors[...,:3], [0.299, 0.587, 0.114])\n",
    "print ('Grayscaled Tensor shape:', gray_tensors.shape)"
   ]
  },
  {
   "cell_type": "code",
   "execution_count": 132,
   "metadata": {},
   "outputs": [
    {
     "name": "stdout",
     "output_type": "stream",
     "text": [
      "Label:  в\n"
     ]
    },
    {
     "data": {
      "image/png": "[encoded data removed]",
      "text/plain": [
       "<matplotlib.figure.Figure at 0x144662080>"
      ]
     },
     "metadata": {},
     "output_type": "display_data"
    }
   ],
   "source": [
    "hide_code\n",
    "# Read and display a grayscaled tensor using Matplotlib\n",
    "print('Label: ', letters[100])\n",
    "plt.figure(figsize=(3,3))\n",
    "plt.imshow(gray_tensors[100], cmap=cm.bone);"
   ]
  },
  {
   "cell_type": "markdown",
   "metadata": {},
   "source": [
    "### One-hot encode\n",
    "Now we'll implement the one-hot encoding function to_categorical."
   ]
  },
  {
   "cell_type": "code",
   "execution_count": 133,
   "metadata": {},
   "outputs": [
    {
     "name": "stdout",
     "output_type": "stream",
     "text": [
      "{1, 2, 3, 4, 5, 6, 7, 8, 9, 10, 11, 12, 13, 14, 15, 16, 17, 18, 19, 20, 21, 22, 23, 24, 25, 26, 27, 28, 29, 30, 31, 32, 33}\n"
     ]
    }
   ],
   "source": [
    "hide_code\n",
    "# Print the target unique values\n",
    "print(set(targets))"
   ]
  },
  {
   "cell_type": "code",
   "execution_count": 134,
   "metadata": {},
   "outputs": [
    {
     "data": {
      "text/plain": [
       "(1650, 33)"
      ]
     },
     "execution_count": 134,
     "metadata": {},
     "output_type": "execute_result"
    }
   ],
   "source": [
    "hide_code\n",
    "# One-hot encode the targets, started from the zero label\n",
    "cat_targets = to_categorical(np.array(targets-1), 33)\n",
    "cat_targets.shape"
   ]
  },
  {
   "cell_type": "code",
   "execution_count": 135,
   "metadata": {},
   "outputs": [
    {
     "data": {
      "text/plain": [
       "(1650, 2)"
      ]
     },
     "execution_count": 135,
     "metadata": {},
     "output_type": "execute_result"
    }
   ],
   "source": [
    "hide_code\n",
    "# One-hot encode the background targets\n",
    "backgrounds = to_categorical(backgrounds, 2)\n",
    "backgrounds.shape"
   ]
  },
  {
   "cell_type": "markdown",
   "metadata": {},
   "source": [
    "### Add background"
   ]
  },
  {
   "cell_type": "code",
   "execution_count": 136,
   "metadata": {},
   "outputs": [
    {
     "data": {
      "text/plain": [
       "(1650, 35)"
      ]
     },
     "execution_count": 136,
     "metadata": {},
     "output_type": "execute_result"
    }
   ],
   "source": [
    "hide_code\n",
    "# Create multi-label targets\n",
    "back_targets = np.concatenate((cat_targets, backgrounds), axis=1)\n",
    "back_targets.shape"
   ]
  },
  {
   "cell_type": "markdown",
   "metadata": {},
   "source": [
    "### Split\n",
    "#### Color Images\n",
    "Apply the function train_test_split and split the data into training and testing sets. Set up the size of the testing set - 20%."
   ]
  },
  {
   "cell_type": "code",
   "execution_count": 137,
   "metadata": {
    "collapsed": true
   },
   "outputs": [],
   "source": [
    "hide_code\n",
    "# Split the data\n",
    "x_train, x_test, y_train, y_test = train_test_split(tensors, cat_targets, \n",
    "                                                    test_size = 0.2, \n",
    "                                                    random_state = 1)"
   ]
  },
  {
   "cell_type": "code",
   "execution_count": 138,
   "metadata": {},
   "outputs": [
    {
     "name": "stdout",
     "output_type": "stream",
     "text": [
      "Training tensor's shape: (1320, 32, 32, 3)\n",
      "Training target's shape (1320, 33)\n",
      "Testing tensor's shape: (330, 32, 32, 3)\n",
      "Testing target's shape (330, 33)\n"
     ]
    }
   ],
   "source": [
    "hide_code\n",
    "# Print the shape\n",
    "print (\"Training tensor's shape:\", x_train.shape)\n",
    "print (\"Training target's shape\", y_train.shape)\n",
    "print (\"Testing tensor's shape:\", x_test.shape)\n",
    "print (\"Testing target's shape\", y_test.shape)"
   ]
  },
  {
   "cell_type": "markdown",
   "metadata": {},
   "source": [
    "#### Grayscaled Images"
   ]
  },
  {
   "cell_type": "code",
   "execution_count": 139,
   "metadata": {
    "collapsed": true
   },
   "outputs": [],
   "source": [
    "hide_code\n",
    "# Split the grayscaled data\n",
    "x_train2, x_test2, y_train2, y_test2 = train_test_split(gray_tensors, cat_targets, \n",
    "                                                        test_size = 0.2, \n",
    "                                                        random_state = 1)"
   ]
  },
  {
   "cell_type": "code",
   "execution_count": 140,
   "metadata": {
    "collapsed": true
   },
   "outputs": [],
   "source": [
    "hide_code\n",
    "# Reshape the grayscaled data\n",
    "x_train2, x_test2 = x_train2.reshape(-1, 32, 32, 1), x_test2.reshape(-1, 32, 32, 1)"
   ]
  },
  {
   "cell_type": "code",
   "execution_count": 141,
   "metadata": {},
   "outputs": [
    {
     "name": "stdout",
     "output_type": "stream",
     "text": [
      "Training grayscaled tensor's shape: (1320, 32, 32, 1)\n",
      "Training grayscaled target's shape (1320, 33)\n",
      "Testing grayscaled tensor's shape: (330, 32, 32, 1)\n",
      "Testing grayscaled target's shape (330, 33)\n"
     ]
    }
   ],
   "source": [
    "hide_code\n",
    "# Print the shape\n",
    "print (\"Training grayscaled tensor's shape:\", x_train2.shape)\n",
    "print (\"Training grayscaled target's shape\", y_train2.shape)\n",
    "print (\"Testing grayscaled tensor's shape:\", x_test2.shape)\n",
    "print (\"Testing grayscaled target's shape\", y_test2.shape)"
   ]
  },
  {
   "cell_type": "markdown",
   "metadata": {},
   "source": [
    "#### Multi-label targets, color images"
   ]
  },
  {
   "cell_type": "code",
   "execution_count": 142,
   "metadata": {
    "collapsed": true
   },
   "outputs": [],
   "source": [
    "hide_code\n",
    "# Split with multi-label targets\n",
    "x_train3, x_test3, y_train3, y_test3 = train_test_split(tensors, back_targets, \n",
    "                                                        test_size = 0.2, \n",
    "                                                        random_state = 1)"
   ]
  },
  {
   "cell_type": "code",
   "execution_count": 143,
   "metadata": {},
   "outputs": [
    {
     "name": "stdout",
     "output_type": "stream",
     "text": [
      "Training tensor's shape: (1320, 32, 32, 3)\n",
      "Training target's shape (1320, 35)\n",
      "Testing tensor's shape: (330, 32, 32, 3)\n",
      "Testing target's shape (330, 35)\n"
     ]
    }
   ],
   "source": [
    "hide_code\n",
    "# Print the shape\n",
    "print (\"Training tensor's shape:\", x_train3.shape)\n",
    "print (\"Training target's shape\", y_train3.shape)\n",
    "print (\"Testing tensor's shape:\", x_test3.shape)\n",
    "print (\"Testing target's shape\", y_test3.shape)"
   ]
  },
  {
   "cell_type": "code",
   "execution_count": 144,
   "metadata": {},
   "outputs": [
    {
     "data": {
      "text/plain": [
       "(1320,)"
      ]
     },
     "execution_count": 144,
     "metadata": {},
     "output_type": "execute_result"
    }
   ],
   "source": [
    "y_train3[:, 33].shape"
   ]
  },
  {
   "cell_type": "code",
   "execution_count": 169,
   "metadata": {},
   "outputs": [],
   "source": [
    "hide_code\n",
    "# Create a list of targets\n",
    "y_train3_list = [y_train3[:, :33], y_train3[:, 33:]]\n",
    "y_test3_list = [y_test3[:, :33], y_test3[:, 33:]]"
   ]
  },
  {
   "cell_type": "markdown",
   "metadata": {},
   "source": [
    "#### Multi-label targets, grayscaled images"
   ]
  },
  {
   "cell_type": "code",
   "execution_count": 146,
   "metadata": {
    "collapsed": true
   },
   "outputs": [],
   "source": [
    "hide_code\n",
    "# Split the grayscaled data\n",
    "x_train4, x_test4, y_train4, y_test4 = train_test_split(gray_tensors, back_targets, \n",
    "                                                        test_size = 0.2, \n",
    "                                                        random_state = 1)"
   ]
  },
  {
   "cell_type": "code",
   "execution_count": 147,
   "metadata": {
    "collapsed": true
   },
   "outputs": [],
   "source": [
    "hide_code\n",
    "# Reshape the grayscaled data\n",
    "x_train4, x_test4 = x_train4.reshape(-1, 32, 32, 1), x_test4.reshape(-1, 32, 32, 1)"
   ]
  },
  {
   "cell_type": "code",
   "execution_count": 148,
   "metadata": {},
   "outputs": [
    {
     "name": "stdout",
     "output_type": "stream",
     "text": [
      "Training grayscaled tensor's shape: (1320, 32, 32, 1)\n",
      "Training grayscaled target's shape (1320, 35)\n",
      "Testing grayscaled tensor's shape: (330, 32, 32, 1)\n",
      "Testing grayscaled target's shape (330, 35)\n"
     ]
    }
   ],
   "source": [
    "hide_code\n",
    "# Print the shape\n",
    "print (\"Training grayscaled tensor's shape:\", x_train4.shape)\n",
    "print (\"Training grayscaled target's shape\", y_train4.shape)\n",
    "print (\"Testing grayscaled tensor's shape:\", x_test4.shape)\n",
    "print (\"Testing grayscaled target's shape\", y_test4.shape)"
   ]
  },
  {
   "cell_type": "code",
   "execution_count": 190,
   "metadata": {},
   "outputs": [],
   "source": [
    "hide_code\n",
    "# Create a list of targets\n",
    "y_train4_list = [y_train4[:, :33], y_train4[:, 33:]]\n",
    "y_test4_list = [y_test4[:, :33], y_test4[:, 33:]]"
   ]
  },
  {
   "cell_type": "markdown",
   "metadata": {},
   "source": [
    "## Step 4. Create a One-Label Classification Model\n",
    "### Color Images\n",
    "Define a model architecture and compile the model for color images."
   ]
  },
  {
   "cell_type": "code",
   "execution_count": 57,
   "metadata": {
    "collapsed": true
   },
   "outputs": [],
   "source": [
    "hide_code\n",
    "def model():\n",
    "    model = Sequential()\n",
    "    # TODO: Define a model architecture\n",
    "\n",
    "    model.add(Conv2D(32, (5, 5), padding='same', input_shape=x_train.shape[1:]))\n",
    "    model.add(Activation('relu'))    \n",
    "    model.add(MaxPooling2D(pool_size=(2, 2)))\n",
    "    model.add(Dropout(0.25))\n",
    "\n",
    "    model.add(Conv2D(128, (5, 5)))\n",
    "    model.add(Activation('relu'))    \n",
    "    model.add(MaxPooling2D(pool_size=(2, 2)))\n",
    "    model.add(Dropout(0.25))\n",
    "    \n",
    "    model.add(GlobalMaxPooling2D()) \n",
    "    \n",
    "    model.add(Dense(1024, activation='relu'))\n",
    "    model.add(Dropout(0.25)) \n",
    "    \n",
    "    model.add(Dense(128, activation='relu'))\n",
    "    model.add(Dropout(0.25))    \n",
    "\n",
    "    model.add(Dense(33))\n",
    "    model.add(Activation('softmax'))\n",
    "    \n",
    "    # TODO: Compile the model\n",
    "    model.compile(loss='categorical_crossentropy', optimizer='nadam', metrics=['accuracy'])\n",
    "    \n",
    "    return model\n",
    "\n",
    "model = model()"
   ]
  },
  {
   "cell_type": "code",
   "execution_count": 58,
   "metadata": {},
   "outputs": [
    {
     "name": "stdout",
     "output_type": "stream",
     "text": [
      "Train on 1320 samples, validate on 330 samples\n",
      "Epoch 1/100\n",
      "Epoch 00000: val_loss improved from inf to 3.49634, saving model to weights.best.model.hdf5\n",
      "13s - loss: 3.5082 - acc: 0.0280 - val_loss: 3.4963 - val_acc: 0.0273\n",
      "Epoch 2/100\n",
      "Epoch 00001: val_loss did not improve\n",
      "7s - loss: 3.4974 - acc: 0.0242 - val_loss: 3.5040 - val_acc: 0.0333\n",
      "Epoch 3/100\n",
      "Epoch 00002: val_loss did not improve\n",
      "6s - loss: 3.4939 - acc: 0.0356 - val_loss: 3.4970 - val_acc: 0.0333\n",
      "Epoch 4/100\n",
      "Epoch 00003: val_loss did not improve\n",
      "6s - loss: 3.5099 - acc: 0.0356 - val_loss: 3.5015 - val_acc: 0.0182\n",
      "Epoch 5/100\n",
      "Epoch 00004: val_loss did not improve\n",
      "6s - loss: 3.4974 - acc: 0.0303 - val_loss: 3.5001 - val_acc: 0.0182\n",
      "Epoch 6/100\n",
      "Epoch 00005: val_loss did not improve\n",
      "6s - loss: 3.5001 - acc: 0.0333 - val_loss: 3.5003 - val_acc: 0.0273\n",
      "Epoch 7/100\n",
      "Epoch 00006: val_loss improved from 3.49634 to 3.48799, saving model to weights.best.model.hdf5\n",
      "6s - loss: 3.4845 - acc: 0.0462 - val_loss: 3.4880 - val_acc: 0.0333\n",
      "Epoch 8/100\n",
      "Epoch 00007: val_loss did not improve\n",
      "7s - loss: 3.4743 - acc: 0.0402 - val_loss: 3.5025 - val_acc: 0.0273\n",
      "Epoch 9/100\n",
      "Epoch 00008: val_loss improved from 3.48799 to 3.48664, saving model to weights.best.model.hdf5\n",
      "9s - loss: 3.4690 - acc: 0.0576 - val_loss: 3.4866 - val_acc: 0.0606\n",
      "Epoch 10/100\n",
      "Epoch 00009: val_loss improved from 3.48664 to 3.47062, saving model to weights.best.model.hdf5\n",
      "9s - loss: 3.4639 - acc: 0.0508 - val_loss: 3.4706 - val_acc: 0.0485\n",
      "Epoch 11/100\n",
      "Epoch 00010: val_loss improved from 3.47062 to 3.44982, saving model to weights.best.model.hdf5\n",
      "13s - loss: 3.4354 - acc: 0.0598 - val_loss: 3.4498 - val_acc: 0.0485\n",
      "Epoch 12/100\n",
      "Epoch 00011: val_loss improved from 3.44982 to 3.44493, saving model to weights.best.model.hdf5\n",
      "7s - loss: 3.4288 - acc: 0.0621 - val_loss: 3.4449 - val_acc: 0.0455\n",
      "Epoch 13/100\n",
      "Epoch 00012: val_loss did not improve\n",
      "7s - loss: 3.4133 - acc: 0.0606 - val_loss: 3.5276 - val_acc: 0.0424\n",
      "Epoch 14/100\n",
      "Epoch 00013: val_loss did not improve\n",
      "7s - loss: 3.4083 - acc: 0.0674 - val_loss: 3.4967 - val_acc: 0.0424\n",
      "Epoch 15/100\n",
      "Epoch 00014: val_loss did not improve\n",
      "10s - loss: 3.4800 - acc: 0.0530 - val_loss: 3.5181 - val_acc: 0.0364\n",
      "Epoch 16/100\n",
      "Epoch 00015: val_loss did not improve\n",
      "9s - loss: 3.4641 - acc: 0.0477 - val_loss: 3.4567 - val_acc: 0.0515\n",
      "Epoch 17/100\n",
      "Epoch 00016: val_loss did not improve\n",
      "10s - loss: 3.4553 - acc: 0.0470 - val_loss: 3.4873 - val_acc: 0.0333\n",
      "Epoch 18/100\n",
      "Epoch 00017: val_loss improved from 3.44493 to 3.44368, saving model to weights.best.model.hdf5\n",
      "9s - loss: 3.4396 - acc: 0.0629 - val_loss: 3.4437 - val_acc: 0.0485\n",
      "Epoch 19/100\n",
      "Epoch 00018: val_loss improved from 3.44368 to 3.43657, saving model to weights.best.model.hdf5\n",
      "7s - loss: 3.4350 - acc: 0.0561 - val_loss: 3.4366 - val_acc: 0.0515\n",
      "Epoch 20/100\n",
      "Epoch 00019: val_loss improved from 3.43657 to 3.40249, saving model to weights.best.model.hdf5\n",
      "7s - loss: 3.4077 - acc: 0.0568 - val_loss: 3.4025 - val_acc: 0.0636\n",
      "Epoch 21/100\n",
      "Epoch 00020: val_loss did not improve\n",
      "8s - loss: 3.3712 - acc: 0.0674 - val_loss: 3.4492 - val_acc: 0.0545\n",
      "Epoch 22/100\n",
      "Epoch 00021: val_loss improved from 3.40249 to 3.39467, saving model to weights.best.model.hdf5\n",
      "8s - loss: 3.3623 - acc: 0.0674 - val_loss: 3.3947 - val_acc: 0.0636\n",
      "Epoch 23/100\n",
      "Epoch 00022: val_loss did not improve\n",
      "8s - loss: 3.3626 - acc: 0.0576 - val_loss: 3.6528 - val_acc: 0.0424\n",
      "Epoch 24/100\n",
      "Epoch 00023: val_loss did not improve\n",
      "8s - loss: 3.3575 - acc: 0.0735 - val_loss: 3.4376 - val_acc: 0.0485\n",
      "Epoch 25/100\n",
      "Epoch 00024: val_loss improved from 3.39467 to 3.39387, saving model to weights.best.model.hdf5\n",
      "10s - loss: 3.3517 - acc: 0.0644 - val_loss: 3.3939 - val_acc: 0.0636\n",
      "Epoch 26/100\n",
      "Epoch 00025: val_loss did not improve\n",
      "8s - loss: 3.3740 - acc: 0.0644 - val_loss: 3.4347 - val_acc: 0.0485\n",
      "Epoch 27/100\n",
      "Epoch 00026: val_loss did not improve\n",
      "8s - loss: 3.3422 - acc: 0.0705 - val_loss: 3.5342 - val_acc: 0.0455\n",
      "Epoch 28/100\n",
      "Epoch 00027: val_loss did not improve\n",
      "8s - loss: 3.3398 - acc: 0.0848 - val_loss: 3.4211 - val_acc: 0.0545\n",
      "Epoch 29/100\n",
      "Epoch 00028: val_loss did not improve\n",
      "8s - loss: 3.3311 - acc: 0.0689 - val_loss: 6.0268 - val_acc: 0.0333\n",
      "Epoch 30/100\n",
      "Epoch 00029: val_loss did not improve\n",
      "8s - loss: 3.6113 - acc: 0.0712 - val_loss: 3.4893 - val_acc: 0.0455\n",
      "Epoch 31/100\n",
      "Epoch 00030: val_loss did not improve\n",
      "7s - loss: 3.3402 - acc: 0.0780 - val_loss: 3.4011 - val_acc: 0.0636\n",
      "Epoch 32/100\n",
      "Epoch 00031: val_loss did not improve\n",
      "7s - loss: 3.3266 - acc: 0.0742 - val_loss: 3.3974 - val_acc: 0.0697\n",
      "Epoch 33/100\n",
      "Epoch 00032: val_loss did not improve\n",
      "8s - loss: 3.3251 - acc: 0.0750 - val_loss: 3.4702 - val_acc: 0.0485\n",
      "Epoch 34/100\n",
      "Epoch 00033: val_loss improved from 3.39387 to 3.39364, saving model to weights.best.model.hdf5\n",
      "8s - loss: 3.3429 - acc: 0.0818 - val_loss: 3.3936 - val_acc: 0.0636\n",
      "Epoch 35/100\n",
      "Epoch 00034: val_loss did not improve\n",
      "8s - loss: 3.3248 - acc: 0.0826 - val_loss: 3.4782 - val_acc: 0.0515\n",
      "Epoch 36/100\n",
      "Epoch 00035: val_loss did not improve\n",
      "8s - loss: 3.3100 - acc: 0.0773 - val_loss: 3.4762 - val_acc: 0.0636\n",
      "Epoch 37/100\n",
      "Epoch 00036: val_loss did not improve\n",
      "7s - loss: 3.3251 - acc: 0.0750 - val_loss: 3.4372 - val_acc: 0.0545\n",
      "Epoch 38/100\n",
      "Epoch 00037: val_loss did not improve\n",
      "7s - loss: 3.2824 - acc: 0.0856 - val_loss: 3.4438 - val_acc: 0.0576\n",
      "Epoch 39/100\n",
      "Epoch 00038: val_loss did not improve\n",
      "7s - loss: 3.2754 - acc: 0.0788 - val_loss: 3.5828 - val_acc: 0.0485\n",
      "Epoch 40/100\n",
      "Epoch 00039: val_loss did not improve\n",
      "8s - loss: 3.2836 - acc: 0.0841 - val_loss: 3.5306 - val_acc: 0.0515\n",
      "Epoch 41/100\n",
      "Epoch 00040: val_loss did not improve\n",
      "8s - loss: 3.2967 - acc: 0.0712 - val_loss: 3.5695 - val_acc: 0.0485\n",
      "Epoch 42/100\n",
      "Epoch 00041: val_loss improved from 3.39364 to 3.36023, saving model to weights.best.model.hdf5\n",
      "9s - loss: 3.3188 - acc: 0.0720 - val_loss: 3.3602 - val_acc: 0.0788\n",
      "Epoch 43/100\n",
      "Epoch 00042: val_loss did not improve\n",
      "8s - loss: 3.2579 - acc: 0.0856 - val_loss: 3.5118 - val_acc: 0.0576\n",
      "Epoch 44/100\n",
      "Epoch 00043: val_loss did not improve\n",
      "8s - loss: 3.2335 - acc: 0.0894 - val_loss: 3.4004 - val_acc: 0.0636\n",
      "Epoch 45/100\n",
      "Epoch 00044: val_loss did not improve\n",
      "8s - loss: 3.2377 - acc: 0.0962 - val_loss: 3.4845 - val_acc: 0.0576\n",
      "Epoch 46/100\n",
      "Epoch 00045: val_loss did not improve\n",
      "8s - loss: 3.2699 - acc: 0.0833 - val_loss: 3.5777 - val_acc: 0.0545\n",
      "Epoch 47/100\n",
      "Epoch 00046: val_loss did not improve\n",
      "8s - loss: 3.2454 - acc: 0.0750 - val_loss: 3.4390 - val_acc: 0.0636\n",
      "Epoch 48/100\n",
      "Epoch 00047: val_loss did not improve\n",
      "8s - loss: 3.2185 - acc: 0.0917 - val_loss: 3.4157 - val_acc: 0.0576\n",
      "Epoch 49/100\n",
      "Epoch 00048: val_loss did not improve\n",
      "8s - loss: 3.2254 - acc: 0.0818 - val_loss: 3.4281 - val_acc: 0.0667\n",
      "Epoch 50/100\n",
      "Epoch 00049: val_loss improved from 3.36023 to 3.34269, saving model to weights.best.model.hdf5\n",
      "8s - loss: 3.2316 - acc: 0.0909 - val_loss: 3.3427 - val_acc: 0.0697\n",
      "Epoch 51/100\n",
      "Epoch 00050: val_loss did not improve\n",
      "8s - loss: 3.2078 - acc: 0.0795 - val_loss: 3.5010 - val_acc: 0.0636\n",
      "Epoch 52/100\n",
      "Epoch 00051: val_loss improved from 3.34269 to 3.32478, saving model to weights.best.model.hdf5\n",
      "8s - loss: 3.2196 - acc: 0.0932 - val_loss: 3.3248 - val_acc: 0.0788\n",
      "Epoch 53/100\n",
      "Epoch 00052: val_loss did not improve\n",
      "8s - loss: 3.1738 - acc: 0.0947 - val_loss: 3.5259 - val_acc: 0.0697\n",
      "Epoch 54/100\n",
      "Epoch 00053: val_loss improved from 3.32478 to 3.32194, saving model to weights.best.model.hdf5\n",
      "8s - loss: 3.1761 - acc: 0.0917 - val_loss: 3.3219 - val_acc: 0.0727\n",
      "Epoch 55/100\n",
      "Epoch 00054: val_loss did not improve\n",
      "7s - loss: 3.1629 - acc: 0.1083 - val_loss: 3.6456 - val_acc: 0.0545\n",
      "Epoch 56/100\n",
      "Epoch 00055: val_loss did not improve\n",
      "7s - loss: 3.1975 - acc: 0.0970 - val_loss: 3.3802 - val_acc: 0.0758\n",
      "Epoch 57/100\n",
      "Epoch 00056: val_loss did not improve\n",
      "8s - loss: 3.1800 - acc: 0.1114 - val_loss: 3.4633 - val_acc: 0.0788\n",
      "Epoch 58/100\n",
      "Epoch 00057: val_loss did not improve\n",
      "7s - loss: 3.1749 - acc: 0.1045 - val_loss: 3.5386 - val_acc: 0.0788\n",
      "Epoch 59/100\n",
      "Epoch 00058: val_loss did not improve\n",
      "7s - loss: 3.1565 - acc: 0.0985 - val_loss: 3.4690 - val_acc: 0.0697\n",
      "Epoch 60/100\n",
      "Epoch 00059: val_loss did not improve\n",
      "7s - loss: 3.1888 - acc: 0.0871 - val_loss: 3.4944 - val_acc: 0.0667\n",
      "Epoch 61/100\n",
      "Epoch 00060: val_loss did not improve\n",
      "7s - loss: 3.1622 - acc: 0.0985 - val_loss: 3.4983 - val_acc: 0.0636\n",
      "Epoch 62/100\n"
     ]
    },
    {
     "name": "stdout",
     "output_type": "stream",
     "text": [
      "Epoch 00061: val_loss did not improve\n",
      "8s - loss: 3.1293 - acc: 0.1076 - val_loss: 3.4026 - val_acc: 0.0606\n",
      "Epoch 63/100\n",
      "Epoch 00062: val_loss did not improve\n",
      "9s - loss: 3.1422 - acc: 0.1053 - val_loss: 3.3895 - val_acc: 0.0788\n",
      "Epoch 64/100\n",
      "Epoch 00063: val_loss did not improve\n",
      "9s - loss: 3.1300 - acc: 0.1061 - val_loss: 3.8916 - val_acc: 0.0606\n",
      "Epoch 65/100\n",
      "Epoch 00064: val_loss did not improve\n",
      "7s - loss: 3.2867 - acc: 0.0947 - val_loss: 3.3719 - val_acc: 0.0697\n",
      "Epoch 66/100\n",
      "Epoch 00065: val_loss did not improve\n",
      "6s - loss: 3.1870 - acc: 0.0992 - val_loss: 3.4245 - val_acc: 0.0818\n",
      "Epoch 67/100\n",
      "Epoch 00066: val_loss did not improve\n",
      "7s - loss: 3.1379 - acc: 0.1015 - val_loss: 3.5405 - val_acc: 0.0697\n",
      "Epoch 68/100\n",
      "Epoch 00067: val_loss did not improve\n",
      "7s - loss: 3.1102 - acc: 0.1008 - val_loss: 3.4908 - val_acc: 0.0727\n",
      "Epoch 69/100\n",
      "Epoch 00068: val_loss did not improve\n",
      "7s - loss: 3.1225 - acc: 0.1091 - val_loss: 3.4430 - val_acc: 0.0758\n",
      "Epoch 70/100\n",
      "Epoch 00069: val_loss did not improve\n",
      "7s - loss: 3.0955 - acc: 0.1121 - val_loss: 3.4405 - val_acc: 0.0697\n",
      "Epoch 71/100\n",
      "Epoch 00070: val_loss did not improve\n",
      "8s - loss: 3.0976 - acc: 0.1144 - val_loss: 3.4735 - val_acc: 0.0697\n",
      "Epoch 72/100\n",
      "Epoch 00071: val_loss did not improve\n",
      "7s - loss: 3.0644 - acc: 0.1197 - val_loss: 3.5544 - val_acc: 0.0697\n",
      "Epoch 73/100\n",
      "Epoch 00072: val_loss did not improve\n",
      "8s - loss: 3.0932 - acc: 0.1114 - val_loss: 3.5372 - val_acc: 0.0606\n",
      "Epoch 74/100\n",
      "Epoch 00073: val_loss did not improve\n",
      "7s - loss: 3.0613 - acc: 0.1144 - val_loss: 3.4680 - val_acc: 0.0758\n",
      "Epoch 75/100\n",
      "Epoch 00074: val_loss did not improve\n",
      "7s - loss: 3.0916 - acc: 0.1045 - val_loss: 3.6280 - val_acc: 0.0727\n",
      "Epoch 76/100\n",
      "Epoch 00075: val_loss did not improve\n",
      "7s - loss: 3.0855 - acc: 0.1106 - val_loss: 3.3770 - val_acc: 0.0848\n",
      "Epoch 77/100\n",
      "Epoch 00076: val_loss did not improve\n",
      "7s - loss: 3.0308 - acc: 0.1227 - val_loss: 3.8308 - val_acc: 0.0485\n",
      "Epoch 78/100\n",
      "Epoch 00077: val_loss did not improve\n",
      "9s - loss: 3.1181 - acc: 0.1114 - val_loss: 3.4214 - val_acc: 0.0848\n",
      "Epoch 79/100\n",
      "Epoch 00078: val_loss did not improve\n",
      "8s - loss: 3.0454 - acc: 0.1220 - val_loss: 3.5603 - val_acc: 0.0667\n",
      "Epoch 80/100\n",
      "Epoch 00079: val_loss did not improve\n",
      "8s - loss: 3.0654 - acc: 0.1250 - val_loss: 3.6767 - val_acc: 0.0636\n",
      "Epoch 81/100\n",
      "Epoch 00080: val_loss did not improve\n",
      "8s - loss: 3.0598 - acc: 0.1129 - val_loss: 3.5460 - val_acc: 0.0758\n",
      "Epoch 82/100\n",
      "Epoch 00081: val_loss did not improve\n",
      "8s - loss: 3.0459 - acc: 0.1076 - val_loss: 3.4244 - val_acc: 0.0697\n",
      "Epoch 83/100\n",
      "Epoch 00082: val_loss did not improve\n",
      "8s - loss: 3.0313 - acc: 0.1174 - val_loss: 3.5624 - val_acc: 0.1000\n",
      "Epoch 84/100\n",
      "Epoch 00083: val_loss did not improve\n",
      "8s - loss: 3.0252 - acc: 0.1212 - val_loss: 3.3922 - val_acc: 0.0909\n",
      "Epoch 85/100\n",
      "Epoch 00084: val_loss did not improve\n",
      "7s - loss: 2.9945 - acc: 0.1091 - val_loss: 3.4311 - val_acc: 0.0788\n",
      "Epoch 86/100\n",
      "Epoch 00085: val_loss did not improve\n",
      "7s - loss: 3.0494 - acc: 0.1152 - val_loss: 3.6139 - val_acc: 0.0879\n",
      "Epoch 87/100\n",
      "Epoch 00086: val_loss did not improve\n",
      "8s - loss: 3.0182 - acc: 0.1182 - val_loss: 3.4619 - val_acc: 0.0758\n",
      "Epoch 88/100\n",
      "Epoch 00087: val_loss did not improve\n",
      "8s - loss: 2.9928 - acc: 0.1235 - val_loss: 3.4584 - val_acc: 0.0727\n",
      "Epoch 89/100\n",
      "Epoch 00088: val_loss did not improve\n",
      "9s - loss: 3.0167 - acc: 0.1227 - val_loss: 3.3893 - val_acc: 0.0818\n",
      "Epoch 90/100\n",
      "Epoch 00089: val_loss did not improve\n",
      "8s - loss: 2.9964 - acc: 0.1379 - val_loss: 3.4695 - val_acc: 0.0879\n",
      "Epoch 91/100\n",
      "Epoch 00090: val_loss did not improve\n",
      "7s - loss: 3.0031 - acc: 0.1235 - val_loss: 3.3257 - val_acc: 0.0758\n",
      "Epoch 92/100\n",
      "Epoch 00091: val_loss did not improve\n",
      "7s - loss: 2.9879 - acc: 0.1250 - val_loss: 3.6017 - val_acc: 0.0818\n",
      "Epoch 93/100\n",
      "Epoch 00092: val_loss did not improve\n",
      "8s - loss: 3.0133 - acc: 0.1212 - val_loss: 3.5546 - val_acc: 0.0818\n",
      "Epoch 94/100\n",
      "Epoch 00093: val_loss did not improve\n",
      "8s - loss: 2.9533 - acc: 0.1439 - val_loss: 3.5039 - val_acc: 0.0909\n",
      "Epoch 95/100\n",
      "Epoch 00094: val_loss did not improve\n",
      "8s - loss: 2.9707 - acc: 0.1303 - val_loss: 3.4736 - val_acc: 0.0909\n",
      "Epoch 96/100\n",
      "Epoch 00095: val_loss did not improve\n",
      "8s - loss: 2.9893 - acc: 0.1189 - val_loss: 3.3987 - val_acc: 0.0848\n",
      "Epoch 97/100\n",
      "Epoch 00096: val_loss did not improve\n",
      "7s - loss: 2.9175 - acc: 0.1250 - val_loss: 3.6558 - val_acc: 0.0788\n",
      "Epoch 98/100\n",
      "Epoch 00097: val_loss improved from 3.32194 to 3.26768, saving model to weights.best.model.hdf5\n",
      "9s - loss: 2.9445 - acc: 0.1258 - val_loss: 3.2677 - val_acc: 0.0939\n",
      "Epoch 99/100\n",
      "Epoch 00098: val_loss did not improve\n",
      "8s - loss: 3.0298 - acc: 0.1129 - val_loss: 3.6372 - val_acc: 0.0909\n",
      "Epoch 100/100\n",
      "Epoch 00099: val_loss did not improve\n",
      "8s - loss: 3.0055 - acc: 0.1174 - val_loss: 3.5713 - val_acc: 0.0879\n"
     ]
    }
   ],
   "source": [
    "hide_code\n",
    "# train the model\n",
    "checkpointer = ModelCheckpoint(filepath='weights.best.model.hdf5', \n",
    "                               verbose=2, save_best_only=True)\n",
    "history = model.fit(x_train, y_train, \n",
    "                    epochs=100, batch_size=64, verbose=2,\n",
    "                    validation_data=(x_test, y_test),\n",
    "                    callbacks=[checkpointer])"
   ]
  },
  {
   "cell_type": "markdown",
   "metadata": {},
   "source": [
    "We should have an accuracy greater than 3%"
   ]
  },
  {
   "cell_type": "code",
   "execution_count": 78,
   "metadata": {},
   "outputs": [
    {
     "name": "stdout",
     "output_type": "stream",
     "text": [
      "320/330 [============================>.] - ETA: 0s"
     ]
    },
    {
     "data": {
      "text/plain": [
       "[3.2676794456713125, 0.093939393939393934]"
      ]
     },
     "execution_count": 78,
     "metadata": {},
     "output_type": "execute_result"
    }
   ],
   "source": [
    "hide_code\n",
    "# Load the model with the best validation accuracy\n",
    "model.load_weights('weights.best.model.hdf5')\n",
    "# Calculate classification accuracy on the testing set\n",
    "score = model.evaluate(x_test, y_test)\n",
    "score"
   ]
  },
  {
   "cell_type": "markdown",
   "metadata": {},
   "source": [
    "Apply the ImageDataGenerator() function."
   ]
  },
  {
   "cell_type": "code",
   "execution_count": 39,
   "metadata": {},
   "outputs": [
    {
     "name": "stdout",
     "output_type": "stream",
     "text": [
      "Epoch 1/5\n",
      "Epoch 00000: val_loss did not improve\n",
      "280s - loss: 3.1527 - acc: 0.1002 - val_loss: 3.4413 - val_acc: 0.0667\n",
      "Epoch 2/5\n",
      "Epoch 00001: val_loss did not improve\n",
      "276s - loss: 2.9898 - acc: 0.1234 - val_loss: 3.8741 - val_acc: 0.0788\n",
      "Epoch 3/5\n",
      "Epoch 00002: val_loss did not improve\n",
      "276s - loss: 2.8761 - acc: 0.1392 - val_loss: 3.8046 - val_acc: 0.0727\n",
      "Epoch 4/5\n",
      "Epoch 00003: val_loss did not improve\n",
      "302s - loss: 2.8007 - acc: 0.1497 - val_loss: 4.2373 - val_acc: 0.0667\n",
      "Epoch 5/5\n",
      "Epoch 00004: val_loss did not improve\n",
      "317s - loss: 2.7512 - acc: 0.1575 - val_loss: 4.2089 - val_acc: 0.0515\n"
     ]
    }
   ],
   "source": [
    "hide_code\n",
    "steps, epochs = 1000, 5\n",
    "data_generator = ImageDataGenerator(zoom_range=0.2, shear_range=0.2, rotation_range=20)\n",
    "\n",
    "generator = model.fit_generator(data_generator.flow(x_train, y_train, batch_size=64),\n",
    "                                        steps_per_epoch = steps, epochs = epochs,\n",
    "                                        validation_data = (x_test, y_test), \n",
    "                                        callbacks=[checkpointer], verbose=2)"
   ]
  },
  {
   "cell_type": "code",
   "execution_count": 79,
   "metadata": {},
   "outputs": [
    {
     "name": "stdout",
     "output_type": "stream",
     "text": [
      "320/330 [============================>.] - ETA: 0s"
     ]
    },
    {
     "data": {
      "text/plain": [
       "[3.2676794456713125, 0.093939393939393934]"
      ]
     },
     "execution_count": 79,
     "metadata": {},
     "output_type": "execute_result"
    }
   ],
   "source": [
    "hide_code\n",
    "# Load the model with the best validation accuracy\n",
    "model.load_weights('weights.best.model.hdf5')\n",
    "# Calculate classification accuracy on the testing set\n",
    "score = model.evaluate(x_test, y_test)\n",
    "score"
   ]
  },
  {
   "cell_type": "markdown",
   "metadata": {},
   "source": [
    "Let's compare the results with classifying algorithms."
   ]
  },
  {
   "cell_type": "code",
   "execution_count": 41,
   "metadata": {},
   "outputs": [
    {
     "data": {
      "text/plain": [
       "0.11212121212121212"
      ]
     },
     "execution_count": 41,
     "metadata": {},
     "output_type": "execute_result"
    }
   ],
   "source": [
    "hide_code\n",
    "# Fit the classifier and get the accuracy score\n",
    "y_train_c = np.array([np.argmax(y) for y in y_train])\n",
    "y_test_c = np.array([np.argmax(y) for y in y_test])\n",
    "clf = GradientBoostingClassifier().fit(x_train.reshape(-1, 32*32*3), y_train_c)\n",
    "clf.score(x_test.reshape(-1, 32*32*3), y_test_c)"
   ]
  },
  {
   "cell_type": "code",
   "execution_count": 42,
   "metadata": {},
   "outputs": [
    {
     "data": {
      "text/plain": [
       "0.10606060606060606"
      ]
     },
     "execution_count": 42,
     "metadata": {},
     "output_type": "execute_result"
    }
   ],
   "source": [
    "hide_code\n",
    "# Fit the classifier and get the accuracy score\n",
    "clf2 = RandomForestClassifier().fit(x_train.reshape(-1, 32*32*3), y_train_c)\n",
    "clf2.score(x_test.reshape(-1, 32*32*3), y_test_c)"
   ]
  },
  {
   "cell_type": "markdown",
   "metadata": {},
   "source": [
    "### Grayscaled Images"
   ]
  },
  {
   "cell_type": "code",
   "execution_count": 88,
   "metadata": {
    "collapsed": true
   },
   "outputs": [],
   "source": [
    "hide_code\n",
    "def gray_model():\n",
    "    model = Sequential()\n",
    "    # TODO: Define a model architecture\n",
    "\n",
    "    model.add(Conv2D(32, (5, 5), padding='same', input_shape=x_train2.shape[1:]))\n",
    "    model.add(Activation('relu'))    \n",
    "    model.add(MaxPooling2D(pool_size=(2, 2)))\n",
    "    model.add(Dropout(0.25))\n",
    "\n",
    "    model.add(Conv2D(256, (5, 5)))\n",
    "    model.add(Activation('relu'))    \n",
    "    model.add(MaxPooling2D(pool_size=(2, 2)))\n",
    "    model.add(Dropout(0.25))\n",
    "    \n",
    "    model.add(GlobalMaxPooling2D()) \n",
    "    \n",
    "    model.add(Dense(1024, activation='relu'))\n",
    "    model.add(Dropout(0.25)) \n",
    "    \n",
    "    model.add(Dense(256, activation='relu'))\n",
    "    model.add(Dropout(0.25))    \n",
    "\n",
    "    model.add(Dense(33))\n",
    "    model.add(Activation('softmax'))\n",
    "    \n",
    "    # TODO: Compile the model\n",
    "    model.compile(loss='categorical_crossentropy', optimizer='rmsprop', metrics=['accuracy'])\n",
    "    \n",
    "    return model\n",
    "\n",
    "gray_model = gray_model()"
   ]
  },
  {
   "cell_type": "code",
   "execution_count": 89,
   "metadata": {},
   "outputs": [
    {
     "name": "stdout",
     "output_type": "stream",
     "text": [
      "Epoch 00000: val_loss improved from inf to 3.49890, saving model to weights.best.gray_model.hdf5\n",
      "Epoch 00001: val_loss improved from 3.49890 to 3.49854, saving model to weights.best.gray_model.hdf5\n",
      "Epoch 00002: val_loss improved from 3.49854 to 3.49782, saving model to weights.best.gray_model.hdf5\n",
      "Epoch 00003: val_loss did not improve\n",
      "Epoch 00004: val_loss did not improve\n",
      "Epoch 00005: val_loss did not improve\n",
      "Epoch 00006: val_loss did not improve\n",
      "Epoch 00007: val_loss did not improve\n",
      "Epoch 00008: val_loss improved from 3.49782 to 3.49729, saving model to weights.best.gray_model.hdf5\n",
      "Epoch 00009: val_loss improved from 3.49729 to 3.49015, saving model to weights.best.gray_model.hdf5\n",
      "Epoch 00010: val_loss did not improve\n",
      "Epoch 00011: val_loss did not improve\n",
      "Epoch 00012: val_loss did not improve\n",
      "Epoch 00013: val_loss improved from 3.49015 to 3.48470, saving model to weights.best.gray_model.hdf5\n",
      "Epoch 00014: val_loss improved from 3.48470 to 3.46905, saving model to weights.best.gray_model.hdf5\n",
      "Epoch 00015: val_loss did not improve\n",
      "Epoch 00016: val_loss did not improve\n",
      "Epoch 00017: val_loss improved from 3.46905 to 3.46226, saving model to weights.best.gray_model.hdf5\n",
      "Epoch 00018: val_loss did not improve\n",
      "Epoch 00019: val_loss did not improve\n",
      "Epoch 00020: val_loss improved from 3.46226 to 3.44916, saving model to weights.best.gray_model.hdf5\n",
      "Epoch 00021: val_loss did not improve\n",
      "Epoch 00022: val_loss did not improve\n",
      "Epoch 00023: val_loss did not improve\n",
      "Epoch 00024: val_loss did not improve\n",
      "Epoch 00025: val_loss improved from 3.44916 to 3.44848, saving model to weights.best.gray_model.hdf5\n",
      "Epoch 00026: val_loss did not improve\n",
      "Epoch 00027: val_loss did not improve\n",
      "Epoch 00028: val_loss did not improve\n",
      "Epoch 00029: val_loss did not improve\n",
      "Epoch 00030: val_loss improved from 3.44848 to 3.44231, saving model to weights.best.gray_model.hdf5\n",
      "Epoch 00031: val_loss did not improve\n",
      "Epoch 00032: val_loss did not improve\n",
      "Epoch 00033: val_loss did not improve\n",
      "Epoch 00034: val_loss did not improve\n",
      "Epoch 00035: val_loss improved from 3.44231 to 3.44153, saving model to weights.best.gray_model.hdf5\n",
      "Epoch 00036: val_loss did not improve\n",
      "Epoch 00037: val_loss did not improve\n",
      "Epoch 00038: val_loss improved from 3.44153 to 3.43651, saving model to weights.best.gray_model.hdf5\n",
      "Epoch 00039: val_loss did not improve\n",
      "Epoch 00040: val_loss did not improve\n",
      "Epoch 00041: val_loss did not improve\n",
      "Epoch 00042: val_loss did not improve\n",
      "Epoch 00043: val_loss did not improve\n",
      "Epoch 00044: val_loss did not improve\n",
      "Epoch 00045: val_loss did not improve\n",
      "Epoch 00046: val_loss did not improve\n",
      "Epoch 00047: val_loss did not improve\n",
      "Epoch 00048: val_loss did not improve\n",
      "Epoch 00049: val_loss did not improve\n",
      "Epoch 00050: val_loss did not improve\n",
      "Epoch 00051: val_loss did not improve\n",
      "Epoch 00052: val_loss did not improve\n",
      "Epoch 00053: val_loss did not improve\n",
      "Epoch 00054: val_loss did not improve\n",
      "Epoch 00055: val_loss did not improve\n",
      "Epoch 00056: val_loss did not improve\n",
      "Epoch 00057: val_loss improved from 3.43651 to 3.42828, saving model to weights.best.gray_model.hdf5\n",
      "Epoch 00058: val_loss did not improve\n",
      "Epoch 00059: val_loss improved from 3.42828 to 3.41727, saving model to weights.best.gray_model.hdf5\n",
      "Epoch 00060: val_loss improved from 3.41727 to 3.40343, saving model to weights.best.gray_model.hdf5\n",
      "Epoch 00061: val_loss did not improve\n",
      "Epoch 00062: val_loss did not improve\n",
      "Epoch 00063: val_loss did not improve\n",
      "Epoch 00064: val_loss did not improve\n",
      "Epoch 00065: val_loss did not improve\n",
      "Epoch 00066: val_loss improved from 3.40343 to 3.35820, saving model to weights.best.gray_model.hdf5\n",
      "Epoch 00067: val_loss did not improve\n",
      "Epoch 00068: val_loss did not improve\n",
      "Epoch 00069: val_loss did not improve\n",
      "Epoch 00070: val_loss improved from 3.35820 to 3.35024, saving model to weights.best.gray_model.hdf5\n",
      "Epoch 00071: val_loss did not improve\n",
      "Epoch 00072: val_loss did not improve\n",
      "Epoch 00073: val_loss did not improve\n",
      "Epoch 00074: val_loss did not improve\n",
      "Epoch 00075: val_loss improved from 3.35024 to 3.34341, saving model to weights.best.gray_model.hdf5\n",
      "Epoch 00076: val_loss did not improve\n",
      "Epoch 00077: val_loss did not improve\n",
      "Epoch 00078: val_loss did not improve\n",
      "Epoch 00079: val_loss did not improve\n",
      "Epoch 00080: val_loss improved from 3.34341 to 3.20860, saving model to weights.best.gray_model.hdf5\n",
      "Epoch 00081: val_loss did not improve\n",
      "Epoch 00082: val_loss did not improve\n",
      "Epoch 00083: val_loss improved from 3.20860 to 3.19673, saving model to weights.best.gray_model.hdf5\n",
      "Epoch 00084: val_loss did not improve\n",
      "Epoch 00085: val_loss did not improve\n",
      "Epoch 00086: val_loss did not improve\n",
      "Epoch 00087: val_loss did not improve\n",
      "Epoch 00088: val_loss improved from 3.19673 to 3.15268, saving model to weights.best.gray_model.hdf5\n",
      "Epoch 00089: val_loss improved from 3.15268 to 3.04519, saving model to weights.best.gray_model.hdf5\n",
      "Epoch 00090: val_loss did not improve\n",
      "Epoch 00091: val_loss did not improve\n",
      "Epoch 00092: val_loss did not improve\n",
      "Epoch 00093: val_loss did not improve\n",
      "Epoch 00094: val_loss did not improve\n",
      "Epoch 00095: val_loss did not improve\n",
      "Epoch 00096: val_loss did not improve\n",
      "Epoch 00097: val_loss did not improve\n",
      "Epoch 00098: val_loss improved from 3.04519 to 2.98832, saving model to weights.best.gray_model.hdf5\n",
      "Epoch 00099: val_loss improved from 2.98832 to 2.96022, saving model to weights.best.gray_model.hdf5\n",
      "Epoch 00100: val_loss did not improve\n",
      "Epoch 00101: val_loss did not improve\n",
      "Epoch 00102: val_loss did not improve\n",
      "Epoch 00103: val_loss did not improve\n",
      "Epoch 00104: val_loss improved from 2.96022 to 2.88792, saving model to weights.best.gray_model.hdf5\n",
      "Epoch 00105: val_loss did not improve\n",
      "Epoch 00106: val_loss did not improve\n",
      "Epoch 00107: val_loss improved from 2.88792 to 2.85517, saving model to weights.best.gray_model.hdf5\n",
      "Epoch 00108: val_loss did not improve\n",
      "Epoch 00109: val_loss improved from 2.85517 to 2.69248, saving model to weights.best.gray_model.hdf5\n",
      "Epoch 00110: val_loss did not improve\n",
      "Epoch 00111: val_loss did not improve\n",
      "Epoch 00112: val_loss did not improve\n",
      "Epoch 00113: val_loss improved from 2.69248 to 2.66166, saving model to weights.best.gray_model.hdf5\n",
      "Epoch 00114: val_loss did not improve\n",
      "Epoch 00115: val_loss did not improve\n",
      "Epoch 00116: val_loss did not improve\n",
      "Epoch 00117: val_loss did not improve\n",
      "Epoch 00118: val_loss did not improve\n",
      "Epoch 00119: val_loss did not improve\n",
      "Epoch 00120: val_loss did not improve\n",
      "Epoch 00121: val_loss did not improve\n",
      "Epoch 00122: val_loss did not improve\n",
      "Epoch 00123: val_loss improved from 2.66166 to 2.47821, saving model to weights.best.gray_model.hdf5\n",
      "Epoch 00124: val_loss did not improve\n",
      "Epoch 00125: val_loss did not improve\n",
      "Epoch 00126: val_loss did not improve\n",
      "Epoch 00127: val_loss did not improve\n",
      "Epoch 00128: val_loss did not improve\n",
      "Epoch 00129: val_loss did not improve\n",
      "Epoch 00130: val_loss improved from 2.47821 to 2.43135, saving model to weights.best.gray_model.hdf5\n",
      "Epoch 00131: val_loss did not improve\n",
      "Epoch 00132: val_loss did not improve\n",
      "Epoch 00133: val_loss improved from 2.43135 to 2.42020, saving model to weights.best.gray_model.hdf5\n",
      "Epoch 00134: val_loss did not improve\n",
      "Epoch 00135: val_loss did not improve\n",
      "Epoch 00136: val_loss did not improve\n",
      "Epoch 00137: val_loss did not improve\n",
      "Epoch 00138: val_loss did not improve\n",
      "Epoch 00139: val_loss improved from 2.42020 to 2.36235, saving model to weights.best.gray_model.hdf5\n",
      "Epoch 00140: val_loss did not improve\n",
      "Epoch 00141: val_loss did not improve\n",
      "Epoch 00142: val_loss did not improve\n",
      "Epoch 00143: val_loss did not improve\n",
      "Epoch 00144: val_loss did not improve\n",
      "Epoch 00145: val_loss did not improve\n",
      "Epoch 00146: val_loss did not improve\n",
      "Epoch 00147: val_loss improved from 2.36235 to 2.29409, saving model to weights.best.gray_model.hdf5\n",
      "Epoch 00148: val_loss did not improve\n",
      "Epoch 00149: val_loss did not improve\n",
      "Epoch 00150: val_loss did not improve\n",
      "Epoch 00151: val_loss did not improve\n",
      "Epoch 00152: val_loss did not improve\n",
      "Epoch 00153: val_loss did not improve\n",
      "Epoch 00154: val_loss improved from 2.29409 to 2.23041, saving model to weights.best.gray_model.hdf5\n",
      "Epoch 00155: val_loss did not improve\n",
      "Epoch 00156: val_loss improved from 2.23041 to 2.16829, saving model to weights.best.gray_model.hdf5\n"
     ]
    },
    {
     "name": "stdout",
     "output_type": "stream",
     "text": [
      "Epoch 00157: val_loss did not improve\n",
      "Epoch 00158: val_loss did not improve\n",
      "Epoch 00159: val_loss did not improve\n",
      "Epoch 00160: val_loss did not improve\n",
      "Epoch 00161: val_loss did not improve\n",
      "Epoch 00162: val_loss did not improve\n",
      "Epoch 00163: val_loss did not improve\n",
      "Epoch 00164: val_loss improved from 2.16829 to 2.15063, saving model to weights.best.gray_model.hdf5\n",
      "Epoch 00165: val_loss did not improve\n",
      "Epoch 00166: val_loss did not improve\n",
      "Epoch 00167: val_loss did not improve\n",
      "Epoch 00168: val_loss did not improve\n",
      "Epoch 00169: val_loss did not improve\n",
      "Epoch 00170: val_loss did not improve\n",
      "Epoch 00171: val_loss improved from 2.15063 to 2.12317, saving model to weights.best.gray_model.hdf5\n",
      "Epoch 00172: val_loss improved from 2.12317 to 2.07575, saving model to weights.best.gray_model.hdf5\n",
      "Epoch 00173: val_loss did not improve\n",
      "Epoch 00174: val_loss did not improve\n",
      "Epoch 00175: val_loss did not improve\n",
      "Epoch 00176: val_loss improved from 2.07575 to 2.00493, saving model to weights.best.gray_model.hdf5\n",
      "Epoch 00177: val_loss did not improve\n",
      "Epoch 00178: val_loss did not improve\n",
      "Epoch 00179: val_loss did not improve\n",
      "Epoch 00180: val_loss did not improve\n",
      "Epoch 00181: val_loss did not improve\n",
      "Epoch 00182: val_loss did not improve\n",
      "Epoch 00183: val_loss did not improve\n",
      "Epoch 00184: val_loss improved from 2.00493 to 1.93838, saving model to weights.best.gray_model.hdf5\n",
      "Epoch 00185: val_loss did not improve\n",
      "Epoch 00186: val_loss did not improve\n",
      "Epoch 00187: val_loss did not improve\n",
      "Epoch 00188: val_loss did not improve\n",
      "Epoch 00189: val_loss did not improve\n",
      "Epoch 00190: val_loss improved from 1.93838 to 1.91876, saving model to weights.best.gray_model.hdf5\n",
      "Epoch 00191: val_loss did not improve\n",
      "Epoch 00192: val_loss did not improve\n",
      "Epoch 00193: val_loss did not improve\n",
      "Epoch 00194: val_loss did not improve\n",
      "Epoch 00195: val_loss did not improve\n",
      "Epoch 00196: val_loss did not improve\n",
      "Epoch 00197: val_loss did not improve\n",
      "Epoch 00198: val_loss did not improve\n",
      "Epoch 00199: val_loss did not improve\n",
      "Epoch 00200: val_loss improved from 1.91876 to 1.91508, saving model to weights.best.gray_model.hdf5\n",
      "Epoch 00201: val_loss improved from 1.91508 to 1.90032, saving model to weights.best.gray_model.hdf5\n",
      "Epoch 00202: val_loss did not improve\n",
      "Epoch 00203: val_loss did not improve\n",
      "Epoch 00204: val_loss did not improve\n",
      "Epoch 00205: val_loss did not improve\n",
      "Epoch 00206: val_loss did not improve\n",
      "Epoch 00207: val_loss did not improve\n",
      "Epoch 00208: val_loss did not improve\n",
      "Epoch 00209: val_loss did not improve\n",
      "Epoch 00210: val_loss did not improve\n",
      "Epoch 00211: val_loss did not improve\n",
      "Epoch 00212: val_loss did not improve\n",
      "Epoch 00213: val_loss did not improve\n",
      "Epoch 00214: val_loss did not improve\n",
      "Epoch 00215: val_loss did not improve\n",
      "Epoch 00216: val_loss did not improve\n",
      "Epoch 00217: val_loss did not improve\n",
      "Epoch 00218: val_loss did not improve\n",
      "Epoch 00219: val_loss did not improve\n",
      "Epoch 00220: val_loss did not improve\n",
      "Epoch 00221: val_loss did not improve\n",
      "Epoch 00222: val_loss did not improve\n",
      "Epoch 00223: val_loss did not improve\n",
      "Epoch 00224: val_loss did not improve\n",
      "Epoch 00225: val_loss did not improve\n",
      "Epoch 00226: val_loss did not improve\n",
      "Epoch 00227: val_loss did not improve\n",
      "Epoch 00228: val_loss did not improve\n",
      "Epoch 00229: val_loss did not improve\n",
      "Epoch 00230: val_loss did not improve\n",
      "Epoch 00231: val_loss did not improve\n",
      "Epoch 00232: val_loss improved from 1.90032 to 1.85080, saving model to weights.best.gray_model.hdf5\n",
      "Epoch 00233: val_loss did not improve\n",
      "Epoch 00234: val_loss did not improve\n",
      "Epoch 00235: val_loss did not improve\n",
      "Epoch 00236: val_loss did not improve\n",
      "Epoch 00237: val_loss did not improve\n",
      "Epoch 00238: val_loss did not improve\n",
      "Epoch 00239: val_loss did not improve\n",
      "Epoch 00240: val_loss did not improve\n",
      "Epoch 00241: val_loss improved from 1.85080 to 1.73307, saving model to weights.best.gray_model.hdf5\n",
      "Epoch 00242: val_loss did not improve\n",
      "Epoch 00243: val_loss did not improve\n",
      "Epoch 00244: val_loss did not improve\n",
      "Epoch 00245: val_loss did not improve\n",
      "Epoch 00246: val_loss did not improve\n",
      "Epoch 00247: val_loss did not improve\n",
      "Epoch 00248: val_loss did not improve\n",
      "Epoch 00249: val_loss did not improve\n",
      "Epoch 00250: val_loss did not improve\n",
      "Epoch 00251: val_loss did not improve\n",
      "Epoch 00252: val_loss did not improve\n",
      "Epoch 00253: val_loss did not improve\n",
      "Epoch 00254: val_loss did not improve\n",
      "Epoch 00255: val_loss did not improve\n",
      "Epoch 00256: val_loss did not improve\n",
      "Epoch 00257: val_loss did not improve\n",
      "Epoch 00258: val_loss did not improve\n",
      "Epoch 00259: val_loss did not improve\n",
      "Epoch 00260: val_loss did not improve\n",
      "Epoch 00261: val_loss did not improve\n",
      "Epoch 00262: val_loss did not improve\n",
      "Epoch 00263: val_loss did not improve\n",
      "Epoch 00264: val_loss did not improve\n",
      "Epoch 00265: val_loss did not improve\n",
      "Epoch 00266: val_loss did not improve\n",
      "Epoch 00267: val_loss did not improve\n",
      "Epoch 00268: val_loss did not improve\n",
      "Epoch 00269: val_loss did not improve\n",
      "Epoch 00270: val_loss did not improve\n",
      "Epoch 00271: val_loss did not improve\n",
      "Epoch 00272: val_loss did not improve\n",
      "Epoch 00273: val_loss did not improve\n",
      "Epoch 00274: val_loss did not improve\n",
      "Epoch 00275: val_loss did not improve\n",
      "Epoch 00276: val_loss did not improve\n",
      "Epoch 00277: val_loss did not improve\n",
      "Epoch 00278: val_loss did not improve\n",
      "Epoch 00279: val_loss did not improve\n",
      "Epoch 00280: val_loss did not improve\n",
      "Epoch 00281: val_loss did not improve\n",
      "Epoch 00282: val_loss did not improve\n",
      "Epoch 00283: val_loss did not improve\n",
      "Epoch 00284: val_loss did not improve\n",
      "Epoch 00285: val_loss did not improve\n",
      "Epoch 00286: val_loss did not improve\n",
      "Epoch 00287: val_loss did not improve\n",
      "Epoch 00288: val_loss did not improve\n",
      "Epoch 00289: val_loss did not improve\n",
      "Epoch 00290: val_loss did not improve\n",
      "Epoch 00291: val_loss did not improve\n",
      "Epoch 00292: val_loss did not improve\n",
      "Epoch 00293: val_loss did not improve\n",
      "Epoch 00294: val_loss did not improve\n",
      "Epoch 00295: val_loss did not improve\n",
      "Epoch 00296: val_loss did not improve\n",
      "Epoch 00297: val_loss did not improve\n",
      "Epoch 00298: val_loss did not improve\n",
      "Epoch 00299: val_loss did not improve\n"
     ]
    }
   ],
   "source": [
    "hide_code\n",
    "# train the model\n",
    "gray_checkpointer = ModelCheckpoint(filepath='weights.best.gray_model.hdf5', \n",
    "                                    verbose=2, save_best_only=True)\n",
    "gray_history = gray_model.fit(x_train2, y_train2, \n",
    "                              epochs=300, batch_size=64, verbose=0,\n",
    "                              validation_data=(x_test2, y_test2),\n",
    "                              callbacks=[gray_checkpointer])"
   ]
  },
  {
   "cell_type": "code",
   "execution_count": 86,
   "metadata": {},
   "outputs": [
    {
     "data": {
      "image/png": "[encoded data removed]",
      "text/plain": [
       "<matplotlib.figure.Figure at 0x13c928ef0>"
      ]
     },
     "metadata": {},
     "output_type": "display_data"
    }
   ],
   "source": [
    "hide_code\n",
    "history_plot(gray_history, 0)"
   ]
  },
  {
   "cell_type": "markdown",
   "metadata": {},
   "source": [
    "Try to reach an accuracy greater than 50%"
   ]
  },
  {
   "cell_type": "code",
   "execution_count": 90,
   "metadata": {},
   "outputs": [
    {
     "name": "stdout",
     "output_type": "stream",
     "text": [
      "320/330 [============================>.] - ETA: 0s"
     ]
    },
    {
     "data": {
      "text/plain": [
       "[1.7330748442447548, 0.47878787878787876]"
      ]
     },
     "execution_count": 90,
     "metadata": {},
     "output_type": "execute_result"
    }
   ],
   "source": [
    "hide_code\n",
    "# Load the model with the best validation accuracy\n",
    "gray_model.load_weights('weights.best.gray_model.hdf5')\n",
    "# Calculate classification accuracy on the testing set\n",
    "gray_score = gray_model.evaluate(x_test2, y_test2)\n",
    "gray_score"
   ]
  },
  {
   "cell_type": "markdown",
   "metadata": {},
   "source": [
    "Apply the ImageDataGenerator() function."
   ]
  },
  {
   "cell_type": "code",
   "execution_count": 91,
   "metadata": {},
   "outputs": [
    {
     "name": "stdout",
     "output_type": "stream",
     "text": [
      "Epoch 1/10\n",
      "Epoch 00000: val_loss did not improve\n",
      "554s - loss: 1.8642 - acc: 0.4588 - val_loss: 1.7649 - val_acc: 0.4485\n",
      "Epoch 2/10\n",
      "Epoch 00001: val_loss improved from 1.73307 to 1.66250, saving model to weights.best.gray_model.hdf5\n",
      "510s - loss: 1.6327 - acc: 0.5181 - val_loss: 1.6625 - val_acc: 0.5061\n",
      "Epoch 3/10\n",
      "Epoch 00002: val_loss improved from 1.66250 to 1.58813, saving model to weights.best.gray_model.hdf5\n",
      "519s - loss: 1.4819 - acc: 0.5643 - val_loss: 1.5881 - val_acc: 0.5303\n",
      "Epoch 4/10\n",
      "Epoch 00003: val_loss improved from 1.58813 to 1.51772, saving model to weights.best.gray_model.hdf5\n",
      "521s - loss: 1.3722 - acc: 0.5951 - val_loss: 1.5177 - val_acc: 0.5576\n",
      "Epoch 5/10\n",
      "Epoch 00004: val_loss did not improve\n",
      "534s - loss: 1.2862 - acc: 0.6216 - val_loss: 1.6433 - val_acc: 0.5424\n",
      "Epoch 6/10\n",
      "Epoch 00005: val_loss improved from 1.51772 to 1.43646, saving model to weights.best.gray_model.hdf5\n",
      "520s - loss: 1.2398 - acc: 0.6410 - val_loss: 1.4365 - val_acc: 0.5667\n",
      "Epoch 7/10\n",
      "Epoch 00006: val_loss did not improve\n",
      "568s - loss: 1.2287 - acc: 0.6466 - val_loss: 1.5024 - val_acc: 0.6061\n",
      "Epoch 8/10\n",
      "Epoch 00007: val_loss did not improve\n",
      "549s - loss: 1.1947 - acc: 0.6603 - val_loss: 1.5224 - val_acc: 0.5758\n",
      "Epoch 9/10\n",
      "Epoch 00008: val_loss did not improve\n",
      "535s - loss: 1.1804 - acc: 0.6664 - val_loss: 1.5913 - val_acc: 0.5515\n",
      "Epoch 10/10\n",
      "Epoch 00009: val_loss did not improve\n",
      "557s - loss: 1.1843 - acc: 0.6681 - val_loss: 1.5722 - val_acc: 0.5848\n"
     ]
    }
   ],
   "source": [
    "hide_code\n",
    "steps, epochs = 1000, 10\n",
    "data_generator = ImageDataGenerator(zoom_range=0.2, shear_range=0.2, rotation_range=20)\n",
    "\n",
    "gray_generator = gray_model.fit_generator(data_generator.flow(x_train2, y_train2, batch_size=64),\n",
    "                                          steps_per_epoch = steps, epochs = epochs,\n",
    "                                          validation_data = (x_test2, y_test2), \n",
    "                                          callbacks=[gray_checkpointer], verbose=2)"
   ]
  },
  {
   "cell_type": "code",
   "execution_count": 92,
   "metadata": {},
   "outputs": [
    {
     "name": "stdout",
     "output_type": "stream",
     "text": [
      "320/330 [============================>.] - ETA: 0s"
     ]
    },
    {
     "data": {
      "text/plain": [
       "[1.4364625587607875, 0.56666666738914717]"
      ]
     },
     "execution_count": 92,
     "metadata": {},
     "output_type": "execute_result"
    }
   ],
   "source": [
    "hide_code\n",
    "# Load the model with the best validation accuracy\n",
    "gray_model.load_weights('weights.best.gray_model.hdf5')\n",
    "# Calculate classification accuracy on the testing set\n",
    "gray_score = gray_model.evaluate(x_test2, y_test2)\n",
    "gray_score"
   ]
  },
  {
   "cell_type": "markdown",
   "metadata": {},
   "source": [
    "Let's compare the results with classifying algorithms."
   ]
  },
  {
   "cell_type": "code",
   "execution_count": 80,
   "metadata": {},
   "outputs": [
    {
     "data": {
      "text/plain": [
       "0.081818181818181818"
      ]
     },
     "execution_count": 80,
     "metadata": {},
     "output_type": "execute_result"
    }
   ],
   "source": [
    "hide_code\n",
    "# Fit the classifier and get the accuracy score\n",
    "y_train2_c = np.array([np.argmax(y) for y in y_train2])\n",
    "y_test2_c = np.array([np.argmax(y) for y in y_test2])\n",
    "clf = GradientBoostingClassifier().fit(x_train2.reshape(-1, 32*32), y_train2_c)\n",
    "clf.score(x_test2.reshape(-1, 32*32), y_test2_c)"
   ]
  },
  {
   "cell_type": "code",
   "execution_count": 81,
   "metadata": {},
   "outputs": [
    {
     "data": {
      "text/plain": [
       "0.087878787878787876"
      ]
     },
     "execution_count": 81,
     "metadata": {},
     "output_type": "execute_result"
    }
   ],
   "source": [
    "hide_code\n",
    "# Fit the classifier and get the accuracy score\n",
    "clf2 = RandomForestClassifier().fit(x_train2.reshape(-1, 32*32), y_train2_c)\n",
    "clf2.score(x_test2.reshape(-1, 32*32), y_test2_c)"
   ]
  },
  {
   "cell_type": "markdown",
   "metadata": {},
   "source": [
    "## Step 5. Create a Multi-Label Classification Model\n",
    "### Color Images"
   ]
  },
  {
   "cell_type": "code",
   "execution_count": 183,
   "metadata": {},
   "outputs": [],
   "source": [
    "hide_code\n",
    "def multi_model():    \n",
    "    model_input = Input(shape=(32, 32, 3))\n",
    "    x = BatchNormalization()(model_input)\n",
    "    # TODO: Define a model architecture\n",
    "        \n",
    "    x = Conv2D(32, (3, 3), activation='relu', padding='same')(model_input)\n",
    "    x = MaxPooling2D(pool_size=(2, 2))(x)    \n",
    "    x = Dropout(0.25)(x)\n",
    "    \n",
    "    x = Conv2D(128, (3, 3), activation='relu', padding='same')(x)       \n",
    "    x = MaxPooling2D(pool_size=(2, 2))(x)    \n",
    "    x = Dropout(0.25)(x)\n",
    "              \n",
    "    x = GlobalMaxPooling2D()(x)\n",
    "    \n",
    "    x = Dense(1024, activation='relu')(x)    \n",
    "    x = Dropout(0.25)(x)\n",
    "    \n",
    "    x = Dense(128, activation='relu')(x)    \n",
    "    x = Dropout(0.25)(x)\n",
    "    \n",
    "    y1 = Dense(33, activation='softmax')(x)\n",
    "    y2 = Dense(2, activation='softmax')(x)\n",
    "    \n",
    "    model = Model(inputs=model_input, outputs=[y1, y2])\n",
    "\n",
    "    model.compile(loss='categorical_crossentropy', optimizer='adam', metrics=['accuracy'])\n",
    "    return model\n",
    "\n",
    "multi_model = multi_model()"
   ]
  },
  {
   "cell_type": "code",
   "execution_count": 184,
   "metadata": {},
   "outputs": [
    {
     "name": "stdout",
     "output_type": "stream",
     "text": [
      "____________________________________________________________________________________________________\n",
      "Layer (type)                     Output Shape          Param #     Connected to                     \n",
      "====================================================================================================\n",
      "input_11 (InputLayer)            (None, 32, 32, 3)     0                                            \n",
      "____________________________________________________________________________________________________\n",
      "conv2d_61 (Conv2D)               (None, 32, 32, 32)    896         input_11[0][0]                   \n",
      "____________________________________________________________________________________________________\n",
      "max_pooling2d_61 (MaxPooling2D)  (None, 16, 16, 32)    0           conv2d_61[0][0]                  \n",
      "____________________________________________________________________________________________________\n",
      "dropout_121 (Dropout)            (None, 16, 16, 32)    0           max_pooling2d_61[0][0]           \n",
      "____________________________________________________________________________________________________\n",
      "conv2d_62 (Conv2D)               (None, 16, 16, 128)   36992       dropout_121[0][0]                \n",
      "____________________________________________________________________________________________________\n",
      "max_pooling2d_62 (MaxPooling2D)  (None, 8, 8, 128)     0           conv2d_62[0][0]                  \n",
      "____________________________________________________________________________________________________\n",
      "dropout_122 (Dropout)            (None, 8, 8, 128)     0           max_pooling2d_62[0][0]           \n",
      "____________________________________________________________________________________________________\n",
      "global_max_pooling2d_30 (GlobalM (None, 128)           0           dropout_122[0][0]                \n",
      "____________________________________________________________________________________________________\n",
      "dense_101 (Dense)                (None, 1024)          132096      global_max_pooling2d_30[0][0]    \n",
      "____________________________________________________________________________________________________\n",
      "dropout_123 (Dropout)            (None, 1024)          0           dense_101[0][0]                  \n",
      "____________________________________________________________________________________________________\n",
      "dense_102 (Dense)                (None, 128)           131200      dropout_123[0][0]                \n",
      "____________________________________________________________________________________________________\n",
      "dropout_124 (Dropout)            (None, 128)           0           dense_102[0][0]                  \n",
      "____________________________________________________________________________________________________\n",
      "dense_103 (Dense)                (None, 33)            4257        dropout_124[0][0]                \n",
      "____________________________________________________________________________________________________\n",
      "dense_104 (Dense)                (None, 2)             258         dropout_124[0][0]                \n",
      "====================================================================================================\n",
      "Total params: 305,699\n",
      "Trainable params: 305,699\n",
      "Non-trainable params: 0\n",
      "____________________________________________________________________________________________________\n"
     ]
    }
   ],
   "source": [
    "hide_code\n",
    "multi_model.summary()"
   ]
  },
  {
   "cell_type": "code",
   "execution_count": 185,
   "metadata": {},
   "outputs": [
    {
     "name": "stdout",
     "output_type": "stream",
     "text": [
      "Epoch 00000: val_loss improved from inf to 4.18444, saving model to weights.best.multi.hdf5\n",
      "Epoch 00001: val_loss improved from 4.18444 to 4.18439, saving model to weights.best.multi.hdf5\n",
      "Epoch 00002: val_loss improved from 4.18439 to 4.18302, saving model to weights.best.multi.hdf5\n",
      "Epoch 00003: val_loss improved from 4.18302 to 4.17711, saving model to weights.best.multi.hdf5\n",
      "Epoch 00004: val_loss did not improve\n",
      "Epoch 00005: val_loss did not improve\n",
      "Epoch 00006: val_loss did not improve\n",
      "Epoch 00007: val_loss did not improve\n",
      "Epoch 00008: val_loss did not improve\n",
      "Epoch 00009: val_loss improved from 4.17711 to 4.04847, saving model to weights.best.multi.hdf5\n",
      "Epoch 00010: val_loss improved from 4.04847 to 4.02744, saving model to weights.best.multi.hdf5\n",
      "Epoch 00011: val_loss improved from 4.02744 to 3.96499, saving model to weights.best.multi.hdf5\n",
      "Epoch 00012: val_loss did not improve\n",
      "Epoch 00013: val_loss did not improve\n",
      "Epoch 00014: val_loss improved from 3.96499 to 3.90728, saving model to weights.best.multi.hdf5\n",
      "Epoch 00015: val_loss improved from 3.90728 to 3.89565, saving model to weights.best.multi.hdf5\n",
      "Epoch 00016: val_loss improved from 3.89565 to 3.88707, saving model to weights.best.multi.hdf5\n",
      "Epoch 00017: val_loss improved from 3.88707 to 3.88346, saving model to weights.best.multi.hdf5\n",
      "Epoch 00018: val_loss did not improve\n",
      "Epoch 00019: val_loss improved from 3.88346 to 3.88151, saving model to weights.best.multi.hdf5\n",
      "Epoch 00020: val_loss improved from 3.88151 to 3.86843, saving model to weights.best.multi.hdf5\n",
      "Epoch 00021: val_loss did not improve\n",
      "Epoch 00022: val_loss did not improve\n",
      "Epoch 00023: val_loss improved from 3.86843 to 3.82905, saving model to weights.best.multi.hdf5\n",
      "Epoch 00024: val_loss did not improve\n",
      "Epoch 00025: val_loss improved from 3.82905 to 3.81266, saving model to weights.best.multi.hdf5\n",
      "Epoch 00026: val_loss did not improve\n",
      "Epoch 00027: val_loss improved from 3.81266 to 3.76278, saving model to weights.best.multi.hdf5\n",
      "Epoch 00028: val_loss did not improve\n",
      "Epoch 00029: val_loss did not improve\n",
      "Epoch 00030: val_loss improved from 3.76278 to 3.75201, saving model to weights.best.multi.hdf5\n",
      "Epoch 00031: val_loss improved from 3.75201 to 3.71756, saving model to weights.best.multi.hdf5\n",
      "Epoch 00032: val_loss improved from 3.71756 to 3.64309, saving model to weights.best.multi.hdf5\n",
      "Epoch 00033: val_loss did not improve\n",
      "Epoch 00034: val_loss did not improve\n",
      "Epoch 00035: val_loss did not improve\n",
      "Epoch 00036: val_loss did not improve\n",
      "Epoch 00037: val_loss did not improve\n",
      "Epoch 00038: val_loss did not improve\n",
      "Epoch 00039: val_loss did not improve\n",
      "Epoch 00040: val_loss did not improve\n",
      "Epoch 00041: val_loss improved from 3.64309 to 3.57763, saving model to weights.best.multi.hdf5\n",
      "Epoch 00042: val_loss improved from 3.57763 to 3.54889, saving model to weights.best.multi.hdf5\n",
      "Epoch 00043: val_loss did not improve\n",
      "Epoch 00044: val_loss improved from 3.54889 to 3.52939, saving model to weights.best.multi.hdf5\n",
      "Epoch 00045: val_loss did not improve\n",
      "Epoch 00046: val_loss improved from 3.52939 to 3.47849, saving model to weights.best.multi.hdf5\n",
      "Epoch 00047: val_loss did not improve\n",
      "Epoch 00048: val_loss did not improve\n",
      "Epoch 00049: val_loss did not improve\n"
     ]
    }
   ],
   "source": [
    "hide_code\n",
    "multi_checkpointer = ModelCheckpoint(filepath='weights.best.multi.hdf5', \n",
    "                                     verbose=2, save_best_only=True)\n",
    "multi_history = multi_model.fit(x_train3, y_train3_list, \n",
    "                                validation_data=(x_test3, y_test3_list), \n",
    "                                epochs=50, batch_size=64, verbose=0, \n",
    "                                callbacks=[multi_checkpointer])"
   ]
  },
  {
   "cell_type": "code",
   "execution_count": 186,
   "metadata": {},
   "outputs": [
    {
     "name": "stdout",
     "output_type": "stream",
     "text": [
      "Scores: \n",
      " [3.4784907254305755, 3.0530445474566834, 0.42544620904055508, 0.093939393939393934, 0.8181818174593376]\n",
      "First label. Accuracy: 9.39%\n",
      "Second label. Accuracy: 81.82%\n"
     ]
    }
   ],
   "source": [
    "hide_code\n",
    "multi_model.load_weights('weights.best.multi.hdf5')\n",
    "multi_scores = multi_model.evaluate(x_test3, y_test3_list, verbose=0)\n",
    "\n",
    "print(\"Scores: \\n\" , (multi_scores))\n",
    "print(\"First label. Accuracy: %.2f%%\" % (multi_scores[3]*100))\n",
    "print(\"Second label. Accuracy: %.2f%%\" % (multi_scores[4]*100))"
   ]
  },
  {
   "cell_type": "markdown",
   "metadata": {
    "collapsed": true
   },
   "source": [
    "### Grayscaled Images"
   ]
  },
  {
   "cell_type": "code",
   "execution_count": 197,
   "metadata": {},
   "outputs": [],
   "source": [
    "hide_code\n",
    "def gray_multi_model():    \n",
    "    model_input = Input(shape=(32, 32, 1))\n",
    "    x = BatchNormalization()(model_input)\n",
    "    # TODO: Define a model architecture\n",
    "        \n",
    "    x = Conv2D(32, (5, 5), activation='relu', padding='same')(model_input)\n",
    "    x = MaxPooling2D(pool_size=(2, 2))(x)    \n",
    "    x = Dropout(0.25)(x)\n",
    "    \n",
    "    x = Conv2D(256, (5, 5), activation='relu', padding='same')(x)       \n",
    "    x = MaxPooling2D(pool_size=(2, 2))(x)    \n",
    "    x = Dropout(0.25)(x)\n",
    "              \n",
    "    x = GlobalMaxPooling2D()(x)\n",
    "    \n",
    "    x = Dense(1024, activation='relu')(x)    \n",
    "    x = Dropout(0.25)(x)\n",
    "    \n",
    "    x = Dense(256, activation='relu')(x)    \n",
    "    x = Dropout(0.25)(x)\n",
    "    \n",
    "    y1 = Dense(33, activation='softmax')(x)\n",
    "    y2 = Dense(2, activation='softmax')(x)\n",
    "    \n",
    "    model = Model(inputs=model_input, outputs=[y1, y2])\n",
    "\n",
    "    model.compile(loss='categorical_crossentropy', optimizer='rmsprop', metrics=['accuracy'])\n",
    "    return model\n",
    "\n",
    "gray_multi_model = gray_multi_model()"
   ]
  },
  {
   "cell_type": "code",
   "execution_count": 198,
   "metadata": {},
   "outputs": [
    {
     "name": "stdout",
     "output_type": "stream",
     "text": [
      "Epoch 00000: val_loss improved from inf to 4.18728, saving model to weights.best.gray_multi.hdf5\n",
      "Epoch 00001: val_loss improved from 4.18728 to 4.18499, saving model to weights.best.gray_multi.hdf5\n",
      "Epoch 00002: val_loss improved from 4.18499 to 4.18078, saving model to weights.best.gray_multi.hdf5\n",
      "Epoch 00003: val_loss improved from 4.18078 to 4.17840, saving model to weights.best.gray_multi.hdf5\n",
      "Epoch 00004: val_loss improved from 4.17840 to 4.16827, saving model to weights.best.gray_multi.hdf5\n",
      "Epoch 00005: val_loss improved from 4.16827 to 4.16135, saving model to weights.best.gray_multi.hdf5\n",
      "Epoch 00006: val_loss did not improve\n",
      "Epoch 00007: val_loss did not improve\n",
      "Epoch 00008: val_loss improved from 4.16135 to 4.14561, saving model to weights.best.gray_multi.hdf5\n",
      "Epoch 00009: val_loss improved from 4.14561 to 4.13014, saving model to weights.best.gray_multi.hdf5\n",
      "Epoch 00010: val_loss improved from 4.13014 to 4.12216, saving model to weights.best.gray_multi.hdf5\n",
      "Epoch 00011: val_loss did not improve\n",
      "Epoch 00012: val_loss did not improve\n",
      "Epoch 00013: val_loss improved from 4.12216 to 4.11837, saving model to weights.best.gray_multi.hdf5\n",
      "Epoch 00014: val_loss improved from 4.11837 to 4.11774, saving model to weights.best.gray_multi.hdf5\n",
      "Epoch 00015: val_loss improved from 4.11774 to 4.11624, saving model to weights.best.gray_multi.hdf5\n",
      "Epoch 00016: val_loss improved from 4.11624 to 4.10768, saving model to weights.best.gray_multi.hdf5\n",
      "Epoch 00017: val_loss did not improve\n",
      "Epoch 00018: val_loss improved from 4.10768 to 4.10137, saving model to weights.best.gray_multi.hdf5\n",
      "Epoch 00019: val_loss did not improve\n",
      "Epoch 00020: val_loss did not improve\n",
      "Epoch 00021: val_loss improved from 4.10137 to 4.09546, saving model to weights.best.gray_multi.hdf5\n",
      "Epoch 00022: val_loss did not improve\n",
      "Epoch 00023: val_loss improved from 4.09546 to 4.09267, saving model to weights.best.gray_multi.hdf5\n",
      "Epoch 00024: val_loss did not improve\n",
      "Epoch 00025: val_loss did not improve\n",
      "Epoch 00026: val_loss did not improve\n",
      "Epoch 00027: val_loss did not improve\n",
      "Epoch 00028: val_loss did not improve\n",
      "Epoch 00029: val_loss did not improve\n",
      "Epoch 00030: val_loss improved from 4.09267 to 4.08788, saving model to weights.best.gray_multi.hdf5\n",
      "Epoch 00031: val_loss did not improve\n",
      "Epoch 00032: val_loss improved from 4.08788 to 4.07802, saving model to weights.best.gray_multi.hdf5\n",
      "Epoch 00033: val_loss did not improve\n",
      "Epoch 00034: val_loss did not improve\n",
      "Epoch 00035: val_loss did not improve\n",
      "Epoch 00036: val_loss did not improve\n",
      "Epoch 00037: val_loss did not improve\n",
      "Epoch 00038: val_loss did not improve\n",
      "Epoch 00039: val_loss did not improve\n",
      "Epoch 00040: val_loss did not improve\n",
      "Epoch 00041: val_loss did not improve\n",
      "Epoch 00042: val_loss did not improve\n",
      "Epoch 00043: val_loss did not improve\n",
      "Epoch 00044: val_loss did not improve\n",
      "Epoch 00045: val_loss did not improve\n",
      "Epoch 00046: val_loss did not improve\n",
      "Epoch 00047: val_loss did not improve\n",
      "Epoch 00048: val_loss did not improve\n",
      "Epoch 00049: val_loss did not improve\n"
     ]
    }
   ],
   "source": [
    "hide_code\n",
    "gray_multi_checkpointer = ModelCheckpoint(filepath='weights.best.gray_multi.hdf5', \n",
    "                                          verbose=2, save_best_only=True)\n",
    "gray_multi_history = gray_multi_model.fit(x_train4, y_train4_list, \n",
    "                                          validation_data=(x_test4, y_test4_list), \n",
    "                                          epochs=50, batch_size=64, verbose=0, \n",
    "                                          callbacks=[gray_multi_checkpointer])"
   ]
  },
  {
   "cell_type": "code",
   "execution_count": 199,
   "metadata": {},
   "outputs": [
    {
     "name": "stdout",
     "output_type": "stream",
     "text": [
      "Scores: \n",
      " [4.0780166568178116, 3.426785522518736, 0.65123110359365288, 0.048484848484848485, 0.60909090872966887]\n",
      "First label. Accuracy: 4.85%\n",
      "Second label. Accuracy: 60.91%\n"
     ]
    }
   ],
   "source": [
    "hide_code\n",
    "gray_multi_model.load_weights('weights.best.gray_multi.hdf5')\n",
    "gray_multi_scores = gray_multi_model.evaluate(x_test4, y_test4_list, verbose=0)\n",
    "\n",
    "print(\"Scores: \\n\" , (gray_multi_scores))\n",
    "print(\"First label. Accuracy: %.2f%%\" % (gray_multi_scores[3]*100))\n",
    "print(\"Second label. Accuracy: %.2f%%\" % (gray_multi_scores[4]*100))"
   ]
  },
  {
   "cell_type": "markdown",
   "metadata": {},
   "source": [
    "## Step 6. Keras Applications\n",
    "### Color Images"
   ]
  },
  {
   "cell_type": "code",
   "execution_count": null,
   "metadata": {
    "collapsed": true
   },
   "outputs": [],
   "source": []
  },
  {
   "cell_type": "code",
   "execution_count": null,
   "metadata": {
    "collapsed": true
   },
   "outputs": [],
   "source": []
  },
  {
   "cell_type": "markdown",
   "metadata": {},
   "source": [
    "### Grayscaled Images"
   ]
  },
  {
   "cell_type": "code",
   "execution_count": null,
   "metadata": {
    "collapsed": true
   },
   "outputs": [],
   "source": []
  },
  {
   "cell_type": "code",
   "execution_count": null,
   "metadata": {
    "collapsed": true
   },
   "outputs": [],
   "source": []
  },
  {
   "cell_type": "markdown",
   "metadata": {},
   "source": [
    "## Step 7. Predictions\n",
    "### Color Images"
   ]
  },
  {
   "cell_type": "code",
   "execution_count": null,
   "metadata": {
    "collapsed": true
   },
   "outputs": [],
   "source": []
  },
  {
   "cell_type": "code",
   "execution_count": null,
   "metadata": {
    "collapsed": true
   },
   "outputs": [],
   "source": []
  },
  {
   "cell_type": "markdown",
   "metadata": {},
   "source": [
    "### Grayscaled Images"
   ]
  },
  {
   "cell_type": "code",
   "execution_count": null,
   "metadata": {
    "collapsed": true
   },
   "outputs": [],
   "source": []
  },
  {
   "cell_type": "code",
   "execution_count": null,
   "metadata": {
    "collapsed": true
   },
   "outputs": [],
   "source": []
  }
 ],
 "metadata": {
  "kernelspec": {
   "display_name": "Python 3",
   "language": "python",
   "name": "python3"
  },
  "language_info": {
   "codemirror_mode": {
    "name": "ipython",
    "version": 3
   },
   "file_extension": ".py",
   "mimetype": "text/x-python",
   "name": "python",
   "nbconvert_exporter": "python",
   "pygments_lexer": "ipython3",
   "version": "3.6.1"
  }
 },
 "nbformat": 4,
 "nbformat_minor": 2
}
