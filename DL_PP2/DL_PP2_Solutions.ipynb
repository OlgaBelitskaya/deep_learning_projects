{
 "cells": [
  {
   "cell_type": "markdown",
   "metadata": {},
   "source": [
    "# Deep Learning\n",
    "## Practice Projects\n",
    "# P2: Multi-Label Classification\n",
    "\n",
    "## Step 0. Style and Libraries\n",
    "Let's choose a style of the Jupyter notebook and import the software libraries. The command hide_code will hide the code cells."
   ]
  },
  {
   "cell_type": "code",
   "execution_count": 1,
   "metadata": {},
   "outputs": [
    {
     "data": {
      "text/html": [
       "<style>\n",
       "@import url('https://fonts.googleapis.com/css?family=Orbitron|Roboto');\n",
       "body {background-color: aliceblue;} \n",
       "a {color: #4876ff; font-family: 'Roboto';} \n",
       "h1 {color: #348ABD; font-family: 'Orbitron'; text-shadow: 4px 4px 4px #ccc;} \n",
       "h2, h3 {color: slategray; font-family: 'Roboto'; text-shadow: 4px 4px 4px #ccc;}\n",
       "h4 {color: #348ABD; font-family: 'Orbitron';}\n",
       "span {text-shadow: 4px 4px 4px #ccc;}\n",
       "div.output_prompt, div.output_area pre {color: slategray;}\n",
       "div.input_prompt, div.output_subarea {color: #4876ff;}      \n",
       "div.output_stderr pre {background-color: aliceblue;}  \n",
       "div.output_stderr {background-color: slategrey;}                        \n",
       "</style>\n",
       "<script>\n",
       "code_show = true; \n",
       "function code_display() {\n",
       "    if (code_show) {\n",
       "        $('div.input').each(function(id) {\n",
       "            if (id == 0 || $(this).html().indexOf('hide_code') > -1) {$(this).hide();}\n",
       "        });\n",
       "        $('div.output_prompt').css('opacity', 0);\n",
       "    } else {\n",
       "        $('div.input').each(function(id) {$(this).show();});\n",
       "        $('div.output_prompt').css('opacity', 1);\n",
       "    };\n",
       "    code_show = !code_show;\n",
       "} \n",
       "$(document).ready(code_display);\n",
       "</script>\n",
       "<form action=\"javascript: code_display()\">\n",
       "<input style=\"color: #348ABD; background: aliceblue; opacity: 0.8;\" \\ \n",
       "type=\"submit\" value=\"Click to display or hide code cells\">\n",
       "</form>                  "
      ],
      "text/plain": [
       "<IPython.core.display.HTML object>"
      ]
     },
     "metadata": {},
     "output_type": "display_data"
    }
   ],
   "source": [
    "%%html\n",
    "<style>\n",
    "@import url('https://fonts.googleapis.com/css?family=Orbitron|Roboto');\n",
    "body {background-color: aliceblue;} \n",
    "a {color: #4876ff; font-family: 'Roboto';} \n",
    "h1 {color: #348ABD; font-family: 'Orbitron'; text-shadow: 4px 4px 4px #ccc;} \n",
    "h2, h3 {color: slategray; font-family: 'Roboto'; text-shadow: 4px 4px 4px #ccc;}\n",
    "h4 {color: #348ABD; font-family: 'Orbitron';}\n",
    "span {text-shadow: 4px 4px 4px #ccc;}\n",
    "div.output_prompt, div.output_area pre {color: slategray;}\n",
    "div.input_prompt, div.output_subarea {color: #4876ff;}      \n",
    "div.output_stderr pre {background-color: aliceblue;}  \n",
    "div.output_stderr {background-color: slategrey;}                        \n",
    "</style>\n",
    "<script>\n",
    "code_show = true; \n",
    "function code_display() {\n",
    "    if (code_show) {\n",
    "        $('div.input').each(function(id) {\n",
    "            if (id == 0 || $(this).html().indexOf('hide_code') > -1) {$(this).hide();}\n",
    "        });\n",
    "        $('div.output_prompt').css('opacity', 0);\n",
    "    } else {\n",
    "        $('div.input').each(function(id) {$(this).show();});\n",
    "        $('div.output_prompt').css('opacity', 1);\n",
    "    };\n",
    "    code_show = !code_show;\n",
    "} \n",
    "$(document).ready(code_display);\n",
    "</script>\n",
    "<form action=\"javascript: code_display()\">\n",
    "<input style=\"color: #348ABD; background: aliceblue; opacity: 0.8;\" \\ \n",
    "type=\"submit\" value=\"Click to display or hide code cells\">\n",
    "</form>                  "
   ]
  },
  {
   "cell_type": "code",
   "execution_count": 2,
   "metadata": {},
   "outputs": [
    {
     "name": "stderr",
     "output_type": "stream",
     "text": [
      "Using TensorFlow backend.\n"
     ]
    }
   ],
   "source": [
    "hide_code = ''\n",
    "import numpy as np \n",
    "import pandas as pd\n",
    "import tensorflow as tf\n",
    "\n",
    "from PIL import ImageFile\n",
    "from tqdm import tqdm\n",
    "import h5py\n",
    "import cv2\n",
    "\n",
    "import matplotlib.pylab as plt\n",
    "from matplotlib import cm\n",
    "%matplotlib inline\n",
    "\n",
    "import warnings\n",
    "warnings.filterwarnings(\"ignore\",category=DeprecationWarning)\n",
    "\n",
    "from sklearn.model_selection import train_test_split\n",
    "from sklearn.ensemble import GradientBoostingClassifier, RandomForestClassifier\n",
    "\n",
    "from keras.utils import to_categorical\n",
    "from keras.preprocessing import image as keras_image\n",
    "from keras.callbacks import ModelCheckpoint, EarlyStopping, ReduceLROnPlateau\n",
    "from keras.preprocessing.image import ImageDataGenerator\n",
    "\n",
    "from keras.models import Sequential, load_model, Model\n",
    "from keras.layers import Input, BatchNormalization\n",
    "from keras.layers import Dense, LSTM, GlobalAveragePooling1D, GlobalAveragePooling2D\n",
    "from keras.layers import Activation, Flatten, Dropout, BatchNormalization\n",
    "from keras.layers import Conv2D, MaxPooling2D, GlobalMaxPooling2D\n",
    "from keras.layers.advanced_activations import PReLU, LeakyReLU\n",
    "\n",
    "from keras.applications.vgg16 import VGG16, preprocess_input\n",
    "import scipy\n",
    "from scipy import misc"
   ]
  },
  {
   "cell_type": "code",
   "execution_count": 3,
   "metadata": {},
   "outputs": [],
   "source": [
    "hide_code\n",
    "# Plot the Neural network fitting history\n",
    "def history_plot(fit_history, n):\n",
    "    plt.figure(figsize=(18, 12))\n",
    "    \n",
    "    plt.subplot(211)\n",
    "    plt.plot(fit_history.history['loss'][n:], color='slategray', label = 'train')\n",
    "    plt.plot(fit_history.history['val_loss'][n:], color='#4876ff', label = 'valid')\n",
    "    plt.xlabel(\"Epochs\")\n",
    "    plt.ylabel(\"Loss\")\n",
    "    plt.legend()\n",
    "    plt.title('Loss Function');  \n",
    "    \n",
    "    plt.subplot(212)\n",
    "    plt.plot(fit_history.history['acc'][n:], color='slategray', label = 'train')\n",
    "    plt.plot(fit_history.history['val_acc'][n:], color='#4876ff', label = 'valid')\n",
    "    plt.xlabel(\"Epochs\")\n",
    "    plt.ylabel(\"Accuracy\")    \n",
    "    plt.legend()\n",
    "    plt.title('Accuracy');"
   ]
  },
  {
   "cell_type": "markdown",
   "metadata": {},
   "source": [
    "## Step 1. Load and Explore the Data\n",
    "For this project, I have created the dataset of 1650 (50x33) color images (32x32x3) with 33 handwritten letters.\n",
    "\n",
    "\n",
    "Run the following cell to download the dataset."
   ]
  },
  {
   "cell_type": "code",
   "execution_count": 4,
   "metadata": {},
   "outputs": [
    {
     "name": "stderr",
     "output_type": "stream",
     "text": [
      "100%|██████████| 1650/1650 [02:06<00:00, 13.02it/s]\n"
     ]
    }
   ],
   "source": [
    "hide_code\n",
    "# Function for processing an image\n",
    "def image_to_tensor(img_path):\n",
    "    img = keras_image.load_img(\"data/\" + img_path, target_size=(32, 32))\n",
    "    x = keras_image.img_to_array(img)\n",
    "    return np.expand_dims(x, axis=0)\n",
    "# Function for creating the data tensor\n",
    "def data_to_tensor(img_paths):\n",
    "    list_of_tensors = [image_to_tensor(img_path) for img_path in tqdm(img_paths)]\n",
    "    return np.vstack(list_of_tensors)\n",
    "\n",
    "ImageFile.LOAD_TRUNCATED_IMAGES = True \n",
    "# Load the data\n",
    "data = pd.read_csv(\"data/letters.csv\")\n",
    "files = data['file']\n",
    "letters = data['letter']\n",
    "backgrounds = data['background']\n",
    "targets = data['label'].values\n",
    "tensors = data_to_tensor(files);"
   ]
  },
  {
   "cell_type": "code",
   "execution_count": 5,
   "metadata": {},
   "outputs": [
    {
     "name": "stdout",
     "output_type": "stream",
     "text": [
      "Tensor shape: (1650, 32, 32, 3)\n",
      "Target shape (1650,)\n"
     ]
    }
   ],
   "source": [
    "hide_code\n",
    "# Print the shape \n",
    "print ('Tensor shape:', tensors.shape)\n",
    "print ('Target shape', targets.shape)"
   ]
  },
  {
   "cell_type": "code",
   "execution_count": 6,
   "metadata": {},
   "outputs": [
    {
     "data": {
      "image/png": "[encoded data removed]",
      "text/plain": [
       "<Figure size 1296x432 with 12 Axes>"
      ]
     },
     "metadata": {},
     "output_type": "display_data"
    }
   ],
   "source": [
    "hide_code\n",
    "# Read from files and display images using OpenCV\n",
    "def display_images(img_path, ax):\n",
    "    img = cv2.imread(\"data/\" + img_path)\n",
    "    ax.imshow(cv2.cvtColor(img, cv2.COLOR_BGR2RGB))\n",
    "    \n",
    "fig = plt.figure(figsize=(18, 6))\n",
    "for i in range(12):\n",
    "    ax = fig.add_subplot(2, 6, i + 1, xticks=[], yticks=[], title=letters[i*50])\n",
    "    display_images(files[i*50], ax)"
   ]
  },
  {
   "cell_type": "markdown",
   "metadata": {},
   "source": [
    "## Step 2. Save and Load the Data\n",
    "The data tensors can be saved in the appropriate format of files .h5."
   ]
  },
  {
   "cell_type": "code",
   "execution_count": 9,
   "metadata": {},
   "outputs": [],
   "source": [
    "hide_code\n",
    "# Create the tensor file\n",
    "with h5py.File('LetterColorImages.h5', 'w') as f:\n",
    "    f.create_dataset('images', data = tensors)\n",
    "    f.create_dataset('labels', data = targets)\n",
    "    f.create_dataset('backgrounds', data = backgrounds)\n",
    "    f.close()"
   ]
  },
  {
   "cell_type": "code",
   "execution_count": 7,
   "metadata": {},
   "outputs": [
    {
     "data": {
      "text/plain": [
       "['backgrounds', 'images', 'labels']"
      ]
     },
     "execution_count": 7,
     "metadata": {},
     "output_type": "execute_result"
    }
   ],
   "source": [
    "hide_code\n",
    "# Read the h5 file\n",
    "f = h5py.File('LetterColorImages.h5', 'r')\n",
    "\n",
    "# List all groups\n",
    "keys = list(f.keys())\n",
    "keys"
   ]
  },
  {
   "cell_type": "code",
   "execution_count": 8,
   "metadata": {},
   "outputs": [
    {
     "name": "stdout",
     "output_type": "stream",
     "text": [
      "Tensor shape: (1650, 32, 32, 3)\n",
      "Target shape (1650,)\n"
     ]
    }
   ],
   "source": [
    "hide_code\n",
    "# Create tensors and targets\n",
    "tensors = np.array(f[keys[1]])\n",
    "targets = np.array(f[keys[2]])\n",
    "print ('Tensor shape:', tensors.shape)\n",
    "print ('Target shape', targets.shape)"
   ]
  },
  {
   "cell_type": "markdown",
   "metadata": {},
   "source": [
    "## Step 3. Implement Preprocess Functions\n",
    "### Normalize and Gray Scale\n",
    "In the cell below, normalize the image tensors, and return them as a normalized Numpy array."
   ]
  },
  {
   "cell_type": "code",
   "execution_count": 9,
   "metadata": {},
   "outputs": [],
   "source": [
    "hide_code\n",
    "# Normalize the tensors\n",
    "tensors = tensors.astype('float32')/255"
   ]
  },
  {
   "cell_type": "code",
   "execution_count": 10,
   "metadata": {},
   "outputs": [
    {
     "name": "stdout",
     "output_type": "stream",
     "text": [
      "Label:  в\n"
     ]
    },
    {
     "data": {
      "image/png": "[encoded data removed]",
      "text/plain": [
       "<Figure size 216x216 with 1 Axes>"
      ]
     },
     "metadata": {},
     "output_type": "display_data"
    }
   ],
   "source": [
    "hide_code\n",
    "# Read and display a tensor using Matplotlib\n",
    "print('Label: ', letters[100])\n",
    "plt.figure(figsize=(3,3))\n",
    "plt.imshow(tensors[100]);"
   ]
  },
  {
   "cell_type": "markdown",
   "metadata": {},
   "source": [
    "Create tensors of grayscaled images and display their shape."
   ]
  },
  {
   "cell_type": "code",
   "execution_count": 11,
   "metadata": {},
   "outputs": [
    {
     "name": "stdout",
     "output_type": "stream",
     "text": [
      "Grayscaled Tensor shape: (1650, 32, 32)\n"
     ]
    }
   ],
   "source": [
    "hide_code\n",
    "# Grayscaled tensors\n",
    "gray_tensors = np.dot(tensors[...,:3], [0.299, 0.587, 0.114])\n",
    "print ('Grayscaled Tensor shape:', gray_tensors.shape)"
   ]
  },
  {
   "cell_type": "code",
   "execution_count": 12,
   "metadata": {},
   "outputs": [
    {
     "name": "stdout",
     "output_type": "stream",
     "text": [
      "Label:  в\n"
     ]
    },
    {
     "data": {
      "image/png": "[encoded data removed]",
      "text/plain": [
       "<Figure size 216x216 with 1 Axes>"
      ]
     },
     "metadata": {},
     "output_type": "display_data"
    }
   ],
   "source": [
    "hide_code\n",
    "# Read and display a grayscaled tensor using Matplotlib\n",
    "print('Label: ', letters[100])\n",
    "plt.figure(figsize=(3,3))\n",
    "plt.imshow(gray_tensors[100], cmap=cm.bone);"
   ]
  },
  {
   "cell_type": "markdown",
   "metadata": {},
   "source": [
    "### One-hot encode\n",
    "Now we'll implement the one-hot encoding function to_categorical."
   ]
  },
  {
   "cell_type": "code",
   "execution_count": 13,
   "metadata": {},
   "outputs": [
    {
     "name": "stdout",
     "output_type": "stream",
     "text": [
      "{1, 2, 3, 4, 5, 6, 7, 8, 9, 10, 11, 12, 13, 14, 15, 16, 17, 18, 19, 20, 21, 22, 23, 24, 25, 26, 27, 28, 29, 30, 31, 32, 33}\n"
     ]
    }
   ],
   "source": [
    "hide_code\n",
    "# Print the target unique values\n",
    "print(set(targets))"
   ]
  },
  {
   "cell_type": "code",
   "execution_count": 14,
   "metadata": {},
   "outputs": [
    {
     "data": {
      "text/plain": [
       "(1650, 33)"
      ]
     },
     "execution_count": 14,
     "metadata": {},
     "output_type": "execute_result"
    }
   ],
   "source": [
    "hide_code\n",
    "# One-hot encode the targets, started from the zero label\n",
    "cat_targets = to_categorical(np.array(targets-1), 33)\n",
    "cat_targets.shape"
   ]
  },
  {
   "cell_type": "code",
   "execution_count": 15,
   "metadata": {},
   "outputs": [
    {
     "data": {
      "text/plain": [
       "(1650, 2)"
      ]
     },
     "execution_count": 15,
     "metadata": {},
     "output_type": "execute_result"
    }
   ],
   "source": [
    "hide_code\n",
    "# One-hot encode the background targets\n",
    "backgrounds = to_categorical(backgrounds, 2)\n",
    "backgrounds.shape"
   ]
  },
  {
   "cell_type": "markdown",
   "metadata": {},
   "source": [
    "### Add background"
   ]
  },
  {
   "cell_type": "code",
   "execution_count": 16,
   "metadata": {},
   "outputs": [
    {
     "data": {
      "text/plain": [
       "(1650, 35)"
      ]
     },
     "execution_count": 16,
     "metadata": {},
     "output_type": "execute_result"
    }
   ],
   "source": [
    "hide_code\n",
    "# Create multi-label targets\n",
    "back_targets = np.concatenate((cat_targets, backgrounds), axis=1)\n",
    "back_targets.shape"
   ]
  },
  {
   "cell_type": "markdown",
   "metadata": {},
   "source": [
    "### Split\n",
    "#### Color Images\n",
    "Apply the function train_test_split and split the data into training and testing sets. \n",
    "\n",
    "Set up the size for the test set - 10% and for the validation set - 10%."
   ]
  },
  {
   "cell_type": "code",
   "execution_count": 17,
   "metadata": {},
   "outputs": [],
   "source": [
    "hide_code\n",
    "# Split the data\n",
    "x_train, x_test, y_train, y_test = train_test_split(tensors, cat_targets, \n",
    "                                                    test_size = 0.2, \n",
    "                                                    random_state = 1)\n",
    "n = int(len(x_test)/2)\n",
    "x_valid, y_valid = x_test[:n], y_test[:n]\n",
    "x_test, y_test = x_test[n:], y_test[n:]"
   ]
  },
  {
   "cell_type": "code",
   "execution_count": 18,
   "metadata": {},
   "outputs": [
    {
     "data": {
      "text/plain": [
       "((1320, 32, 32, 3),\n",
       " (165, 32, 32, 3),\n",
       " (165, 32, 32, 3),\n",
       " (1320, 33),\n",
       " (165, 33),\n",
       " (165, 33))"
      ]
     },
     "execution_count": 18,
     "metadata": {},
     "output_type": "execute_result"
    }
   ],
   "source": [
    "hide_code\n",
    "# Print the shape\n",
    "x_train.shape, x_valid.shape, x_test.shape, y_train.shape, y_valid.shape, y_test.shape"
   ]
  },
  {
   "cell_type": "markdown",
   "metadata": {},
   "source": [
    "#### Grayscaled Images"
   ]
  },
  {
   "cell_type": "code",
   "execution_count": 19,
   "metadata": {},
   "outputs": [],
   "source": [
    "hide_code\n",
    "# Split the grayscaled data\n",
    "x_train2, x_test2, y_train2, y_test2 = train_test_split(gray_tensors, cat_targets, \n",
    "                                                        test_size = 0.2, \n",
    "                                                        random_state = 1)\n",
    "x_valid2, y_valid2 = x_test2[:n], y_test2[:n]\n",
    "x_test2, y_test2 = x_test2[n:], y_test2[n:]"
   ]
  },
  {
   "cell_type": "code",
   "execution_count": 20,
   "metadata": {},
   "outputs": [],
   "source": [
    "hide_code\n",
    "# Reshape the grayscaled data\n",
    "x_train2, x_test2, x_valid2 = \\\n",
    "x_train2.reshape(-1, 32, 32, 1), x_test2.reshape(-1, 32, 32, 1), x_valid2.reshape(-1, 32, 32, 1)"
   ]
  },
  {
   "cell_type": "code",
   "execution_count": 21,
   "metadata": {},
   "outputs": [
    {
     "data": {
      "text/plain": [
       "((1320, 32, 32, 1),\n",
       " (165, 32, 32, 1),\n",
       " (165, 32, 32, 1),\n",
       " (1320, 33),\n",
       " (165, 33),\n",
       " (165, 33))"
      ]
     },
     "execution_count": 21,
     "metadata": {},
     "output_type": "execute_result"
    }
   ],
   "source": [
    "hide_code\n",
    "# Print the shape\n",
    "x_train2.shape, x_valid2.shape, x_test2.shape, y_train2.shape, y_valid2.shape, y_test2.shape"
   ]
  },
  {
   "cell_type": "code",
   "execution_count": 22,
   "metadata": {},
   "outputs": [
    {
     "data": {
      "text/plain": [
       "((1320, 32, 32, 3), (165, 32, 32, 3), (165, 32, 32, 3))"
      ]
     },
     "execution_count": 22,
     "metadata": {},
     "output_type": "execute_result"
    }
   ],
   "source": [
    "# Convert images from grayscaled to RGB\n",
    "x_train2_tensor = tf.image.grayscale_to_rgb(x_train2, name=None)\n",
    "x_test2_tensor = tf.image.grayscale_to_rgb(x_test2, name=None)\n",
    "x_valid2_tensor = tf.image.grayscale_to_rgb(x_valid2, name=None)\n",
    "# Run tensorflow session\n",
    "sess = tf.Session()\n",
    "with sess.as_default():\n",
    "    x_train2_color = x_train2_tensor.eval()\n",
    "    x_test2_color = x_test2_tensor.eval()\n",
    "    x_valid2_color = x_valid2_tensor.eval()\n",
    "# Check the shape    \n",
    "x_train2_color.shape, x_test2_color.shape, x_valid2_color.shape"
   ]
  },
  {
   "cell_type": "markdown",
   "metadata": {},
   "source": [
    "#### Multi-label targets, color images"
   ]
  },
  {
   "cell_type": "code",
   "execution_count": 30,
   "metadata": {},
   "outputs": [],
   "source": [
    "hide_code\n",
    "# Split with multi-label targets\n",
    "x_train3, x_test3, y_train3, y_test3 = train_test_split(tensors, back_targets, \n",
    "                                                        test_size = 0.2, \n",
    "                                                        random_state = 1)\n",
    "x_valid3, y_valid3 = x_test3[:n], y_test3[:n]\n",
    "x_test3, y_test3 = x_test3[n:], y_test3[n:]"
   ]
  },
  {
   "cell_type": "code",
   "execution_count": 31,
   "metadata": {},
   "outputs": [
    {
     "data": {
      "text/plain": [
       "((1320, 32, 32, 3),\n",
       " (165, 32, 32, 3),\n",
       " (165, 32, 32, 3),\n",
       " (1320, 35),\n",
       " (165, 35),\n",
       " (165, 35))"
      ]
     },
     "execution_count": 31,
     "metadata": {},
     "output_type": "execute_result"
    }
   ],
   "source": [
    "hide_code\n",
    "# Print the shape\n",
    "x_train3.shape, x_valid3.shape, x_test3.shape, y_train3.shape, y_valid3.shape, y_test3.shape"
   ]
  },
  {
   "cell_type": "code",
   "execution_count": 32,
   "metadata": {},
   "outputs": [],
   "source": [
    "hide_code\n",
    "# Create a list of targets\n",
    "y_train3_list = [y_train3[:, :33], y_train3[:, 33:]]\n",
    "y_test3_list = [y_test3[:, :33], y_valid3[:, 33:]]\n",
    "y_valid3_list = [y_valid3[:, :33], y_valid3[:, 33:]]"
   ]
  },
  {
   "cell_type": "markdown",
   "metadata": {},
   "source": [
    "#### Multi-label targets, grayscaled images"
   ]
  },
  {
   "cell_type": "code",
   "execution_count": 37,
   "metadata": {},
   "outputs": [],
   "source": [
    "hide_code\n",
    "# Split the grayscaled data\n",
    "x_train4, x_test4, y_train4, y_test4 = train_test_split(gray_tensors, back_targets, \n",
    "                                                        test_size = 0.2, \n",
    "                                                        random_state = 1)\n",
    "x_valid4, y_valid4 = x_test4[:n], y_test4[:n]\n",
    "x_test4, y_test4 = x_test4[n:], y_test4[n:]"
   ]
  },
  {
   "cell_type": "code",
   "execution_count": 38,
   "metadata": {},
   "outputs": [],
   "source": [
    "hide_code\n",
    "# Reshape the grayscaled data\n",
    "x_train4, x_test4, x_valid4 = \\\n",
    "x_train4.reshape(-1, 32, 32, 1), x_test4.reshape(-1, 32, 32, 1), x_valid4.reshape(-1, 32, 32, 1)"
   ]
  },
  {
   "cell_type": "code",
   "execution_count": 39,
   "metadata": {},
   "outputs": [
    {
     "data": {
      "text/plain": [
       "((1320, 32, 32, 1),\n",
       " (165, 32, 32, 1),\n",
       " (165, 32, 32, 1),\n",
       " (1320, 35),\n",
       " (165, 35),\n",
       " (165, 35))"
      ]
     },
     "execution_count": 39,
     "metadata": {},
     "output_type": "execute_result"
    }
   ],
   "source": [
    "hide_code\n",
    "# Print the shape\n",
    "x_train4.shape, x_valid4.shape, x_test4.shape, y_train4.shape, y_valid4.shape, y_test4.shape"
   ]
  },
  {
   "cell_type": "code",
   "execution_count": 40,
   "metadata": {},
   "outputs": [],
   "source": [
    "hide_code\n",
    "# Create a list of targets\n",
    "y_train4_list = [y_train4[:, :33], y_train4[:, 33:]]\n",
    "y_test4_list = [y_test4[:, :33], y_test4[:, 33:]]\n",
    "y_valid4_list = [y_valid4[:, :33], y_valid4[:, 33:]]"
   ]
  },
  {
   "cell_type": "markdown",
   "metadata": {},
   "source": [
    "## Step 4. Create a One-Label Classification Model\n",
    "### Color Images\n",
    "Define a model architecture and compile the model for color images."
   ]
  },
  {
   "cell_type": "code",
   "execution_count": 103,
   "metadata": {},
   "outputs": [],
   "source": [
    "hide_code\n",
    "def model():\n",
    "    model = Sequential()\n",
    "    # TODO: Define a model architecture\n",
    "\n",
    "    model.add(Conv2D(32, (5, 5), padding='same', input_shape=x_train.shape[1:]))\n",
    "    model.add(LeakyReLU(alpha=0.02))\n",
    "    \n",
    "    model.add(MaxPooling2D(pool_size=(2, 2)))\n",
    "    model.add(Dropout(0.2))\n",
    "\n",
    "    model.add(Conv2D(196, (5, 5)))\n",
    "    model.add(LeakyReLU(alpha=0.02))\n",
    "    \n",
    "    model.add(MaxPooling2D(pool_size=(2, 2)))\n",
    "    model.add(Dropout(0.2))\n",
    "\n",
    "    model.add(GlobalMaxPooling2D())\n",
    "    \n",
    "    model.add(Dense(1024))\n",
    "    model.add(LeakyReLU(alpha=0.02))\n",
    "    model.add(Dropout(0.5)) \n",
    "    \n",
    "    model.add(Dense(33))\n",
    "    model.add(Activation('softmax'))\n",
    "    \n",
    "    # TODO: Compile the model\n",
    "    model.compile(loss='categorical_crossentropy', optimizer='adam', metrics=['accuracy'])\n",
    "    \n",
    "    return model\n",
    "\n",
    "model = model()"
   ]
  },
  {
   "cell_type": "code",
   "execution_count": 42,
   "metadata": {},
   "outputs": [],
   "source": [
    "hide_code\n",
    "# Create callbacks\n",
    "checkpointer = ModelCheckpoint(filepath='weights.best.model.hdf5', \n",
    "                               verbose=2, save_best_only=True)\n",
    "lr_reduction = ReduceLROnPlateau(monitor='val_loss', \n",
    "                                 patience=5, verbose=2, factor=0.2)"
   ]
  },
  {
   "cell_type": "code",
   "execution_count": 43,
   "metadata": {
    "scrolled": true
   },
   "outputs": [
    {
     "name": "stdout",
     "output_type": "stream",
     "text": [
      "Train on 1320 samples, validate on 165 samples\n",
      "Epoch 1/100\n",
      " - 10s - loss: 3.5201 - acc: 0.0227 - val_loss: 3.4983 - val_acc: 0.0485\n",
      "\n",
      "Epoch 00001: val_loss improved from inf to 3.49834, saving model to weights.best.model.hdf5\n",
      "Epoch 2/100\n",
      " - 8s - loss: 3.4917 - acc: 0.0508 - val_loss: 3.4904 - val_acc: 0.0424\n",
      "\n",
      "Epoch 00002: val_loss improved from 3.49834 to 3.49045, saving model to weights.best.model.hdf5\n",
      "Epoch 3/100\n",
      " - 8s - loss: 3.4649 - acc: 0.0462 - val_loss: 3.4723 - val_acc: 0.0424\n",
      "\n",
      "Epoch 00003: val_loss improved from 3.49045 to 3.47232, saving model to weights.best.model.hdf5\n",
      "Epoch 4/100\n",
      " - 7s - loss: 3.4662 - acc: 0.0530 - val_loss: 3.4712 - val_acc: 0.0424\n",
      "\n",
      "Epoch 00004: val_loss improved from 3.47232 to 3.47119, saving model to weights.best.model.hdf5\n",
      "Epoch 5/100\n",
      " - 7s - loss: 3.4512 - acc: 0.0402 - val_loss: 3.4717 - val_acc: 0.0606\n",
      "\n",
      "Epoch 00005: val_loss did not improve from 3.47119\n",
      "Epoch 6/100\n",
      " - 8s - loss: 3.4468 - acc: 0.0508 - val_loss: 3.4657 - val_acc: 0.0606\n",
      "\n",
      "Epoch 00006: val_loss improved from 3.47119 to 3.46569, saving model to weights.best.model.hdf5\n",
      "Epoch 7/100\n",
      " - 8s - loss: 3.4481 - acc: 0.0447 - val_loss: 3.4675 - val_acc: 0.0606\n",
      "\n",
      "Epoch 00007: val_loss did not improve from 3.46569\n",
      "Epoch 8/100\n",
      " - 8s - loss: 3.4386 - acc: 0.0515 - val_loss: 3.4592 - val_acc: 0.0485\n",
      "\n",
      "Epoch 00008: val_loss improved from 3.46569 to 3.45923, saving model to weights.best.model.hdf5\n",
      "Epoch 9/100\n",
      " - 8s - loss: 3.4385 - acc: 0.0417 - val_loss: 3.4580 - val_acc: 0.0303\n",
      "\n",
      "Epoch 00009: val_loss improved from 3.45923 to 3.45796, saving model to weights.best.model.hdf5\n",
      "Epoch 10/100\n",
      " - 8s - loss: 3.4324 - acc: 0.0553 - val_loss: 3.4562 - val_acc: 0.0364\n",
      "\n",
      "Epoch 00010: val_loss improved from 3.45796 to 3.45622, saving model to weights.best.model.hdf5\n",
      "Epoch 11/100\n",
      " - 8s - loss: 3.4335 - acc: 0.0500 - val_loss: 3.4577 - val_acc: 0.0485\n",
      "\n",
      "Epoch 00011: val_loss did not improve from 3.45622\n",
      "Epoch 12/100\n",
      " - 8s - loss: 3.4205 - acc: 0.0629 - val_loss: 3.4614 - val_acc: 0.0485\n",
      "\n",
      "Epoch 00012: val_loss did not improve from 3.45622\n",
      "Epoch 13/100\n",
      " - 8s - loss: 3.4191 - acc: 0.0561 - val_loss: 3.4493 - val_acc: 0.0667\n",
      "\n",
      "Epoch 00013: val_loss improved from 3.45622 to 3.44930, saving model to weights.best.model.hdf5\n",
      "Epoch 14/100\n",
      " - 8s - loss: 3.4138 - acc: 0.0591 - val_loss: 3.4446 - val_acc: 0.0727\n",
      "\n",
      "Epoch 00014: val_loss improved from 3.44930 to 3.44458, saving model to weights.best.model.hdf5\n",
      "Epoch 15/100\n",
      " - 9s - loss: 3.4139 - acc: 0.0667 - val_loss: 3.4452 - val_acc: 0.0545\n",
      "\n",
      "Epoch 00015: val_loss did not improve from 3.44458\n",
      "Epoch 16/100\n",
      " - 9s - loss: 3.3961 - acc: 0.0652 - val_loss: 3.4531 - val_acc: 0.0424\n",
      "\n",
      "Epoch 00016: val_loss did not improve from 3.44458\n",
      "Epoch 17/100\n",
      " - 8s - loss: 3.3981 - acc: 0.0629 - val_loss: 3.4430 - val_acc: 0.0667\n",
      "\n",
      "Epoch 00017: val_loss improved from 3.44458 to 3.44303, saving model to weights.best.model.hdf5\n",
      "Epoch 18/100\n",
      " - 8s - loss: 3.3847 - acc: 0.0727 - val_loss: 3.4330 - val_acc: 0.0727\n",
      "\n",
      "Epoch 00018: val_loss improved from 3.44303 to 3.43303, saving model to weights.best.model.hdf5\n",
      "Epoch 19/100\n",
      " - 8s - loss: 3.3755 - acc: 0.0674 - val_loss: 3.4248 - val_acc: 0.0788\n",
      "\n",
      "Epoch 00019: val_loss improved from 3.43303 to 3.42481, saving model to weights.best.model.hdf5\n",
      "Epoch 20/100\n",
      " - 8s - loss: 3.3623 - acc: 0.0652 - val_loss: 3.4440 - val_acc: 0.0606\n",
      "\n",
      "Epoch 00020: val_loss did not improve from 3.42481\n",
      "Epoch 21/100\n",
      " - 8s - loss: 3.3549 - acc: 0.0712 - val_loss: 3.4454 - val_acc: 0.0485\n",
      "\n",
      "Epoch 00021: val_loss did not improve from 3.42481\n",
      "Epoch 22/100\n",
      " - 8s - loss: 3.3607 - acc: 0.0773 - val_loss: 3.4141 - val_acc: 0.0788\n",
      "\n",
      "Epoch 00022: val_loss improved from 3.42481 to 3.41411, saving model to weights.best.model.hdf5\n",
      "Epoch 23/100\n",
      " - 7s - loss: 3.3451 - acc: 0.0788 - val_loss: 3.4014 - val_acc: 0.0727\n",
      "\n",
      "Epoch 00023: val_loss improved from 3.41411 to 3.40135, saving model to weights.best.model.hdf5\n",
      "Epoch 24/100\n",
      " - 7s - loss: 3.3383 - acc: 0.0689 - val_loss: 3.4434 - val_acc: 0.0606\n",
      "\n",
      "Epoch 00024: val_loss did not improve from 3.40135\n",
      "Epoch 25/100\n",
      " - 7s - loss: 3.3319 - acc: 0.0811 - val_loss: 3.4040 - val_acc: 0.0727\n",
      "\n",
      "Epoch 00025: val_loss did not improve from 3.40135\n",
      "Epoch 26/100\n",
      " - 8s - loss: 3.2931 - acc: 0.0811 - val_loss: 3.4176 - val_acc: 0.0727\n",
      "\n",
      "Epoch 00026: val_loss did not improve from 3.40135\n",
      "Epoch 27/100\n",
      " - 8s - loss: 3.2726 - acc: 0.0871 - val_loss: 3.4053 - val_acc: 0.0848\n",
      "\n",
      "Epoch 00027: val_loss did not improve from 3.40135\n",
      "Epoch 28/100\n",
      " - 8s - loss: 3.2587 - acc: 0.0917 - val_loss: 3.4018 - val_acc: 0.0667\n",
      "\n",
      "Epoch 00028: val_loss did not improve from 3.40135\n",
      "\n",
      "Epoch 00028: ReduceLROnPlateau reducing learning rate to 0.00020000000949949026.\n",
      "Epoch 29/100\n",
      " - 8s - loss: 3.2416 - acc: 0.0939 - val_loss: 3.3679 - val_acc: 0.1030\n",
      "\n",
      "Epoch 00029: val_loss improved from 3.40135 to 3.36793, saving model to weights.best.model.hdf5\n",
      "Epoch 30/100\n",
      " - 8s - loss: 3.2222 - acc: 0.1015 - val_loss: 3.3442 - val_acc: 0.0970\n",
      "\n",
      "Epoch 00030: val_loss improved from 3.36793 to 3.34420, saving model to weights.best.model.hdf5\n",
      "Epoch 31/100\n",
      " - 8s - loss: 3.2247 - acc: 0.1015 - val_loss: 3.3797 - val_acc: 0.0788\n",
      "\n",
      "Epoch 00031: val_loss did not improve from 3.34420\n",
      "Epoch 32/100\n",
      " - 8s - loss: 3.1923 - acc: 0.1091 - val_loss: 3.3322 - val_acc: 0.1030\n",
      "\n",
      "Epoch 00032: val_loss improved from 3.34420 to 3.33220, saving model to weights.best.model.hdf5\n",
      "Epoch 33/100\n",
      " - 8s - loss: 3.1903 - acc: 0.1098 - val_loss: 3.3333 - val_acc: 0.0909\n",
      "\n",
      "Epoch 00033: val_loss did not improve from 3.33220\n",
      "Epoch 34/100\n",
      " - 8s - loss: 3.1905 - acc: 0.1038 - val_loss: 3.3252 - val_acc: 0.1030\n",
      "\n",
      "Epoch 00034: val_loss improved from 3.33220 to 3.32515, saving model to weights.best.model.hdf5\n",
      "Epoch 35/100\n",
      " - 7s - loss: 3.1664 - acc: 0.1114 - val_loss: 3.3170 - val_acc: 0.1030\n",
      "\n",
      "Epoch 00035: val_loss improved from 3.32515 to 3.31699, saving model to weights.best.model.hdf5\n",
      "Epoch 36/100\n",
      " - 7s - loss: 3.1519 - acc: 0.1182 - val_loss: 3.3145 - val_acc: 0.0970\n",
      "\n",
      "Epoch 00036: val_loss improved from 3.31699 to 3.31450, saving model to weights.best.model.hdf5\n",
      "Epoch 37/100\n",
      " - 8s - loss: 3.1524 - acc: 0.1174 - val_loss: 3.3100 - val_acc: 0.0970\n",
      "\n",
      "Epoch 00037: val_loss improved from 3.31450 to 3.30996, saving model to weights.best.model.hdf5\n",
      "Epoch 38/100\n",
      " - 8s - loss: 3.1399 - acc: 0.1076 - val_loss: 3.3012 - val_acc: 0.1030\n",
      "\n",
      "Epoch 00038: val_loss improved from 3.30996 to 3.30118, saving model to weights.best.model.hdf5\n",
      "Epoch 39/100\n",
      " - 8s - loss: 3.1376 - acc: 0.1121 - val_loss: 3.3031 - val_acc: 0.1091\n",
      "\n",
      "Epoch 00039: val_loss did not improve from 3.30118\n",
      "Epoch 40/100\n",
      " - 9s - loss: 3.1335 - acc: 0.1144 - val_loss: 3.2867 - val_acc: 0.1091\n",
      "\n",
      "Epoch 00040: val_loss improved from 3.30118 to 3.28671, saving model to weights.best.model.hdf5\n",
      "Epoch 41/100\n",
      " - 8s - loss: 3.1253 - acc: 0.1197 - val_loss: 3.3013 - val_acc: 0.0848\n",
      "\n",
      "Epoch 00041: val_loss did not improve from 3.28671\n",
      "Epoch 42/100\n",
      " - 8s - loss: 3.1173 - acc: 0.1167 - val_loss: 3.2819 - val_acc: 0.1212\n",
      "\n",
      "Epoch 00042: val_loss improved from 3.28671 to 3.28192, saving model to weights.best.model.hdf5\n",
      "Epoch 43/100\n",
      " - 9s - loss: 3.1189 - acc: 0.1098 - val_loss: 3.2723 - val_acc: 0.1091\n",
      "\n",
      "Epoch 00043: val_loss improved from 3.28192 to 3.27230, saving model to weights.best.model.hdf5\n",
      "Epoch 44/100\n",
      " - 9s - loss: 3.1148 - acc: 0.1235 - val_loss: 3.2689 - val_acc: 0.1091\n",
      "\n",
      "Epoch 00044: val_loss improved from 3.27230 to 3.26891, saving model to weights.best.model.hdf5\n",
      "Epoch 45/100\n",
      " - 9s - loss: 3.1080 - acc: 0.1152 - val_loss: 3.2593 - val_acc: 0.1273\n",
      "\n",
      "Epoch 00045: val_loss improved from 3.26891 to 3.25933, saving model to weights.best.model.hdf5\n",
      "Epoch 46/100\n",
      " - 9s - loss: 3.1063 - acc: 0.1174 - val_loss: 3.2591 - val_acc: 0.1030\n",
      "\n",
      "Epoch 00046: val_loss improved from 3.25933 to 3.25909, saving model to weights.best.model.hdf5\n",
      "Epoch 47/100\n",
      " - 9s - loss: 3.0857 - acc: 0.1152 - val_loss: 3.2615 - val_acc: 0.1091\n",
      "\n",
      "Epoch 00047: val_loss did not improve from 3.25909\n",
      "Epoch 48/100\n",
      " - 9s - loss: 3.0739 - acc: 0.1250 - val_loss: 3.2476 - val_acc: 0.0909\n",
      "\n",
      "Epoch 00048: val_loss improved from 3.25909 to 3.24761, saving model to weights.best.model.hdf5\n",
      "Epoch 49/100\n",
      " - 9s - loss: 3.0791 - acc: 0.1205 - val_loss: 3.2482 - val_acc: 0.0970\n",
      "\n",
      "Epoch 00049: val_loss did not improve from 3.24761\n",
      "Epoch 50/100\n"
     ]
    },
    {
     "name": "stdout",
     "output_type": "stream",
     "text": [
      " - 8s - loss: 3.0794 - acc: 0.1197 - val_loss: 3.2367 - val_acc: 0.1030\n",
      "\n",
      "Epoch 00050: val_loss improved from 3.24761 to 3.23672, saving model to weights.best.model.hdf5\n",
      "Epoch 51/100\n",
      " - 9s - loss: 3.0709 - acc: 0.1318 - val_loss: 3.2365 - val_acc: 0.1152\n",
      "\n",
      "Epoch 00051: val_loss improved from 3.23672 to 3.23647, saving model to weights.best.model.hdf5\n",
      "Epoch 52/100\n",
      " - 9s - loss: 3.0574 - acc: 0.1348 - val_loss: 3.2403 - val_acc: 0.1152\n",
      "\n",
      "Epoch 00052: val_loss did not improve from 3.23647\n",
      "Epoch 53/100\n",
      " - 9s - loss: 3.0523 - acc: 0.1197 - val_loss: 3.2325 - val_acc: 0.0909\n",
      "\n",
      "Epoch 00053: val_loss improved from 3.23647 to 3.23253, saving model to weights.best.model.hdf5\n",
      "Epoch 54/100\n",
      " - 8s - loss: 3.0538 - acc: 0.1280 - val_loss: 3.2384 - val_acc: 0.1212\n",
      "\n",
      "Epoch 00054: val_loss did not improve from 3.23253\n",
      "Epoch 55/100\n",
      " - 8s - loss: 3.0487 - acc: 0.1205 - val_loss: 3.2269 - val_acc: 0.1091\n",
      "\n",
      "Epoch 00055: val_loss improved from 3.23253 to 3.22688, saving model to weights.best.model.hdf5\n",
      "Epoch 56/100\n",
      " - 8s - loss: 3.0402 - acc: 0.1288 - val_loss: 3.2153 - val_acc: 0.1091\n",
      "\n",
      "Epoch 00056: val_loss improved from 3.22688 to 3.21533, saving model to weights.best.model.hdf5\n",
      "Epoch 57/100\n",
      " - 8s - loss: 3.0384 - acc: 0.1235 - val_loss: 3.2172 - val_acc: 0.0909\n",
      "\n",
      "Epoch 00057: val_loss did not improve from 3.21533\n",
      "Epoch 58/100\n",
      " - 8s - loss: 3.0081 - acc: 0.1409 - val_loss: 3.2083 - val_acc: 0.1030\n",
      "\n",
      "Epoch 00058: val_loss improved from 3.21533 to 3.20834, saving model to weights.best.model.hdf5\n",
      "Epoch 59/100\n",
      " - 8s - loss: 3.0188 - acc: 0.1326 - val_loss: 3.2044 - val_acc: 0.1091\n",
      "\n",
      "Epoch 00059: val_loss improved from 3.20834 to 3.20440, saving model to weights.best.model.hdf5\n",
      "Epoch 60/100\n",
      " - 8s - loss: 3.0208 - acc: 0.1394 - val_loss: 3.2038 - val_acc: 0.0970\n",
      "\n",
      "Epoch 00060: val_loss improved from 3.20440 to 3.20385, saving model to weights.best.model.hdf5\n",
      "Epoch 61/100\n",
      " - 8s - loss: 3.0156 - acc: 0.1333 - val_loss: 3.2419 - val_acc: 0.1152\n",
      "\n",
      "Epoch 00061: val_loss did not improve from 3.20385\n",
      "Epoch 62/100\n",
      " - 8s - loss: 3.0142 - acc: 0.1280 - val_loss: 3.1889 - val_acc: 0.1030\n",
      "\n",
      "Epoch 00062: val_loss improved from 3.20385 to 3.18891, saving model to weights.best.model.hdf5\n",
      "Epoch 63/100\n",
      " - 10s - loss: 3.0066 - acc: 0.1432 - val_loss: 3.1827 - val_acc: 0.0970\n",
      "\n",
      "Epoch 00063: val_loss improved from 3.18891 to 3.18274, saving model to weights.best.model.hdf5\n",
      "Epoch 64/100\n",
      " - 9s - loss: 3.0055 - acc: 0.1288 - val_loss: 3.1993 - val_acc: 0.0788\n",
      "\n",
      "Epoch 00064: val_loss did not improve from 3.18274\n",
      "Epoch 65/100\n",
      " - 9s - loss: 3.0144 - acc: 0.1242 - val_loss: 3.1889 - val_acc: 0.0970\n",
      "\n",
      "Epoch 00065: val_loss did not improve from 3.18274\n",
      "Epoch 66/100\n",
      " - 9s - loss: 2.9995 - acc: 0.1356 - val_loss: 3.1720 - val_acc: 0.1030\n",
      "\n",
      "Epoch 00066: val_loss improved from 3.18274 to 3.17200, saving model to weights.best.model.hdf5\n",
      "Epoch 67/100\n",
      " - 9s - loss: 3.0004 - acc: 0.1288 - val_loss: 3.1702 - val_acc: 0.1030\n",
      "\n",
      "Epoch 00067: val_loss improved from 3.17200 to 3.17022, saving model to weights.best.model.hdf5\n",
      "Epoch 68/100\n",
      " - 9s - loss: 2.9619 - acc: 0.1492 - val_loss: 3.1672 - val_acc: 0.1030\n",
      "\n",
      "Epoch 00068: val_loss improved from 3.17022 to 3.16721, saving model to weights.best.model.hdf5\n",
      "Epoch 69/100\n",
      " - 8s - loss: 2.9639 - acc: 0.1432 - val_loss: 3.1649 - val_acc: 0.0909\n",
      "\n",
      "Epoch 00069: val_loss improved from 3.16721 to 3.16487, saving model to weights.best.model.hdf5\n",
      "Epoch 70/100\n",
      " - 9s - loss: 2.9454 - acc: 0.1477 - val_loss: 3.1578 - val_acc: 0.0848\n",
      "\n",
      "Epoch 00070: val_loss improved from 3.16487 to 3.15780, saving model to weights.best.model.hdf5\n",
      "Epoch 71/100\n",
      " - 10s - loss: 2.9482 - acc: 0.1477 - val_loss: 3.1838 - val_acc: 0.1091\n",
      "\n",
      "Epoch 00071: val_loss did not improve from 3.15780\n",
      "Epoch 72/100\n",
      " - 10s - loss: 2.9406 - acc: 0.1538 - val_loss: 3.1574 - val_acc: 0.1152\n",
      "\n",
      "Epoch 00072: val_loss improved from 3.15780 to 3.15739, saving model to weights.best.model.hdf5\n",
      "Epoch 73/100\n",
      " - 10s - loss: 2.9213 - acc: 0.1568 - val_loss: 3.1482 - val_acc: 0.1212\n",
      "\n",
      "Epoch 00073: val_loss improved from 3.15739 to 3.14815, saving model to weights.best.model.hdf5\n",
      "Epoch 74/100\n",
      " - 9s - loss: 2.9399 - acc: 0.1432 - val_loss: 3.1453 - val_acc: 0.0909\n",
      "\n",
      "Epoch 00074: val_loss improved from 3.14815 to 3.14531, saving model to weights.best.model.hdf5\n",
      "Epoch 75/100\n",
      " - 10s - loss: 2.9407 - acc: 0.1538 - val_loss: 3.1467 - val_acc: 0.0970\n",
      "\n",
      "Epoch 00075: val_loss did not improve from 3.14531\n",
      "Epoch 76/100\n",
      " - 11s - loss: 2.9224 - acc: 0.1568 - val_loss: 3.1218 - val_acc: 0.1091\n",
      "\n",
      "Epoch 00076: val_loss improved from 3.14531 to 3.12185, saving model to weights.best.model.hdf5\n",
      "Epoch 77/100\n",
      " - 10s - loss: 2.9214 - acc: 0.1614 - val_loss: 3.1211 - val_acc: 0.1091\n",
      "\n",
      "Epoch 00077: val_loss improved from 3.12185 to 3.12109, saving model to weights.best.model.hdf5\n",
      "Epoch 78/100\n",
      " - 10s - loss: 2.8997 - acc: 0.1636 - val_loss: 3.1223 - val_acc: 0.1273\n",
      "\n",
      "Epoch 00078: val_loss did not improve from 3.12109\n",
      "Epoch 79/100\n",
      " - 11s - loss: 2.8893 - acc: 0.1568 - val_loss: 3.1317 - val_acc: 0.0970\n",
      "\n",
      "Epoch 00079: val_loss did not improve from 3.12109\n",
      "Epoch 80/100\n",
      " - 9s - loss: 2.9002 - acc: 0.1545 - val_loss: 3.1156 - val_acc: 0.1030\n",
      "\n",
      "Epoch 00080: val_loss improved from 3.12109 to 3.11562, saving model to weights.best.model.hdf5\n",
      "Epoch 81/100\n",
      " - 10s - loss: 2.8672 - acc: 0.1712 - val_loss: 3.0986 - val_acc: 0.1091\n",
      "\n",
      "Epoch 00081: val_loss improved from 3.11562 to 3.09865, saving model to weights.best.model.hdf5\n",
      "Epoch 82/100\n",
      " - 10s - loss: 2.8718 - acc: 0.1591 - val_loss: 3.0918 - val_acc: 0.1394\n",
      "\n",
      "Epoch 00082: val_loss improved from 3.09865 to 3.09185, saving model to weights.best.model.hdf5\n",
      "Epoch 83/100\n",
      " - 9s - loss: 2.8476 - acc: 0.1697 - val_loss: 3.1044 - val_acc: 0.1152\n",
      "\n",
      "Epoch 00083: val_loss did not improve from 3.09185\n",
      "Epoch 84/100\n",
      " - 10s - loss: 2.8657 - acc: 0.1591 - val_loss: 3.1080 - val_acc: 0.0970\n",
      "\n",
      "Epoch 00084: val_loss did not improve from 3.09185\n",
      "Epoch 85/100\n",
      " - 10s - loss: 2.8438 - acc: 0.1735 - val_loss: 3.0800 - val_acc: 0.1152\n",
      "\n",
      "Epoch 00085: val_loss improved from 3.09185 to 3.08000, saving model to weights.best.model.hdf5\n",
      "Epoch 86/100\n",
      " - 10s - loss: 2.8553 - acc: 0.1720 - val_loss: 3.0786 - val_acc: 0.1273\n",
      "\n",
      "Epoch 00086: val_loss improved from 3.08000 to 3.07857, saving model to weights.best.model.hdf5\n",
      "Epoch 87/100\n",
      " - 9s - loss: 2.8386 - acc: 0.1841 - val_loss: 3.0681 - val_acc: 0.1273\n",
      "\n",
      "Epoch 00087: val_loss improved from 3.07857 to 3.06815, saving model to weights.best.model.hdf5\n",
      "Epoch 88/100\n",
      " - 9s - loss: 2.8228 - acc: 0.1886 - val_loss: 3.0691 - val_acc: 0.1212\n",
      "\n",
      "Epoch 00088: val_loss did not improve from 3.06815\n",
      "Epoch 89/100\n",
      " - 10s - loss: 2.8100 - acc: 0.1765 - val_loss: 3.0578 - val_acc: 0.1333\n",
      "\n",
      "Epoch 00089: val_loss improved from 3.06815 to 3.05782, saving model to weights.best.model.hdf5\n",
      "Epoch 90/100\n",
      " - 8s - loss: 2.8039 - acc: 0.2023 - val_loss: 3.0521 - val_acc: 0.1152\n",
      "\n",
      "Epoch 00090: val_loss improved from 3.05782 to 3.05209, saving model to weights.best.model.hdf5\n",
      "Epoch 91/100\n",
      " - 8s - loss: 2.7849 - acc: 0.1841 - val_loss: 3.0445 - val_acc: 0.1394\n",
      "\n",
      "Epoch 00091: val_loss improved from 3.05209 to 3.04454, saving model to weights.best.model.hdf5\n",
      "Epoch 92/100\n",
      " - 8s - loss: 2.7856 - acc: 0.2000 - val_loss: 3.0348 - val_acc: 0.1394\n",
      "\n",
      "Epoch 00092: val_loss improved from 3.04454 to 3.03481, saving model to weights.best.model.hdf5\n",
      "Epoch 93/100\n",
      " - 7s - loss: 2.7538 - acc: 0.1970 - val_loss: 3.0295 - val_acc: 0.1515\n",
      "\n",
      "Epoch 00093: val_loss improved from 3.03481 to 3.02948, saving model to weights.best.model.hdf5\n",
      "Epoch 94/100\n",
      " - 8s - loss: 2.7741 - acc: 0.2045 - val_loss: 3.0160 - val_acc: 0.1576\n",
      "\n",
      "Epoch 00094: val_loss improved from 3.02948 to 3.01598, saving model to weights.best.model.hdf5\n",
      "Epoch 95/100\n",
      " - 8s - loss: 2.7349 - acc: 0.2061 - val_loss: 3.0112 - val_acc: 0.1636\n",
      "\n",
      "Epoch 00095: val_loss improved from 3.01598 to 3.01119, saving model to weights.best.model.hdf5\n",
      "Epoch 96/100\n",
      " - 8s - loss: 2.7266 - acc: 0.2030 - val_loss: 3.0091 - val_acc: 0.1515\n",
      "\n",
      "Epoch 00096: val_loss improved from 3.01119 to 3.00910, saving model to weights.best.model.hdf5\n",
      "Epoch 97/100\n",
      " - 8s - loss: 2.7285 - acc: 0.2167 - val_loss: 3.0110 - val_acc: 0.1576\n",
      "\n",
      "Epoch 00097: val_loss did not improve from 3.00910\n",
      "Epoch 98/100\n",
      " - 9s - loss: 2.7261 - acc: 0.2129 - val_loss: 2.9846 - val_acc: 0.1818\n"
     ]
    },
    {
     "name": "stdout",
     "output_type": "stream",
     "text": [
      "\n",
      "Epoch 00098: val_loss improved from 3.00910 to 2.98458, saving model to weights.best.model.hdf5\n",
      "Epoch 99/100\n",
      " - 9s - loss: 2.6906 - acc: 0.2265 - val_loss: 2.9615 - val_acc: 0.1455\n",
      "\n",
      "Epoch 00099: val_loss improved from 2.98458 to 2.96147, saving model to weights.best.model.hdf5\n",
      "Epoch 100/100\n",
      " - 9s - loss: 2.6769 - acc: 0.2273 - val_loss: 2.9679 - val_acc: 0.1697\n",
      "\n",
      "Epoch 00100: val_loss did not improve from 2.96147\n"
     ]
    }
   ],
   "source": [
    "hide_code\n",
    "# Train the model\n",
    "history = model.fit(x_train, y_train, \n",
    "                    epochs=100, batch_size=64, verbose=2,\n",
    "                    validation_data=(x_valid, y_valid),\n",
    "                    callbacks=[checkpointer, lr_reduction])"
   ]
  },
  {
   "cell_type": "markdown",
   "metadata": {},
   "source": [
    "We should have an accuracy greater than 3%"
   ]
  },
  {
   "cell_type": "code",
   "execution_count": 44,
   "metadata": {},
   "outputs": [
    {
     "name": "stdout",
     "output_type": "stream",
     "text": [
      "165/165 [==============================] - 0s 3ms/step\n"
     ]
    },
    {
     "data": {
      "text/plain": [
       "[2.9150874094529584, 0.15757575757575756]"
      ]
     },
     "execution_count": 44,
     "metadata": {},
     "output_type": "execute_result"
    }
   ],
   "source": [
    "hide_code\n",
    "# Load the model with the best validation accuracy\n",
    "model.load_weights('weights.best.model.hdf5')\n",
    "# Calculate classification accuracy on the testing set\n",
    "score = model.evaluate(x_test, y_test)\n",
    "score"
   ]
  },
  {
   "cell_type": "markdown",
   "metadata": {},
   "source": [
    "Apply the ImageDataGenerator() function."
   ]
  },
  {
   "cell_type": "code",
   "execution_count": 45,
   "metadata": {},
   "outputs": [
    {
     "name": "stdout",
     "output_type": "stream",
     "text": [
      "Epoch 1/5\n",
      " - 452s - loss: 2.5762 - acc: 0.2427 - val_loss: 2.6819 - val_acc: 0.2242\n",
      "\n",
      "Epoch 00001: val_loss improved from 2.96147 to 2.68193, saving model to weights.best.model.hdf5\n",
      "Epoch 2/5\n",
      " - 461s - loss: 2.2461 - acc: 0.3352 - val_loss: 2.4237 - val_acc: 0.2909\n",
      "\n",
      "Epoch 00002: val_loss improved from 2.68193 to 2.42368, saving model to weights.best.model.hdf5\n",
      "Epoch 3/5\n",
      " - 418s - loss: 1.9200 - acc: 0.4279 - val_loss: 2.0991 - val_acc: 0.3758\n",
      "\n",
      "Epoch 00003: val_loss improved from 2.42368 to 2.09913, saving model to weights.best.model.hdf5\n",
      "Epoch 4/5\n",
      " - 425s - loss: 1.6372 - acc: 0.5038 - val_loss: 1.9231 - val_acc: 0.4242\n",
      "\n",
      "Epoch 00004: val_loss improved from 2.09913 to 1.92313, saving model to weights.best.model.hdf5\n",
      "Epoch 5/5\n",
      " - 380s - loss: 1.4137 - acc: 0.5626 - val_loss: 1.7656 - val_acc: 0.4303\n",
      "\n",
      "Epoch 00005: val_loss improved from 1.92313 to 1.76556, saving model to weights.best.model.hdf5\n"
     ]
    }
   ],
   "source": [
    "hide_code\n",
    "# Fit the model with ImageDataGenerator()\n",
    "steps, epochs = 1000, 5\n",
    "data_generator = ImageDataGenerator(zoom_range=0.2, shear_range=0.2, rotation_range=20)\n",
    "\n",
    "generator = model.fit_generator(data_generator.flow(x_train, y_train, batch_size=64),\n",
    "                                steps_per_epoch = steps, epochs = epochs,\n",
    "                                validation_data = (x_valid, y_valid), \n",
    "                                callbacks=[checkpointer, lr_reduction], verbose=2)"
   ]
  },
  {
   "cell_type": "code",
   "execution_count": 105,
   "metadata": {},
   "outputs": [
    {
     "name": "stdout",
     "output_type": "stream",
     "text": [
      "165/165 [==============================] - 5s 31ms/step\n"
     ]
    },
    {
     "data": {
      "text/plain": [
       "[1.6711222280155529, 0.4666666668472868]"
      ]
     },
     "execution_count": 105,
     "metadata": {},
     "output_type": "execute_result"
    }
   ],
   "source": [
    "hide_code\n",
    "# Load the model with the best validation accuracy\n",
    "model.load_weights('weights.best.model.hdf5')\n",
    "# Calculate classification accuracy on the testing set\n",
    "score = model.evaluate(x_test, y_test)\n",
    "score"
   ]
  },
  {
   "cell_type": "markdown",
   "metadata": {},
   "source": [
    "Let's compare the results with classifying algorithms."
   ]
  },
  {
   "cell_type": "code",
   "execution_count": 47,
   "metadata": {},
   "outputs": [
    {
     "data": {
      "text/plain": [
       "0.10303030303030303"
      ]
     },
     "execution_count": 47,
     "metadata": {},
     "output_type": "execute_result"
    }
   ],
   "source": [
    "hide_code\n",
    "# Fit the classifier and get the accuracy score\n",
    "y_train_c = np.array([np.argmax(y) for y in y_train])\n",
    "y_test_c = np.array([np.argmax(y) for y in y_test])\n",
    "clf = GradientBoostingClassifier().fit(x_train.reshape(-1, 32*32*3), y_train_c)\n",
    "clf.score(x_test.reshape(-1, 32*32*3), y_test_c)"
   ]
  },
  {
   "cell_type": "code",
   "execution_count": 48,
   "metadata": {},
   "outputs": [
    {
     "data": {
      "text/plain": [
       "0.09090909090909091"
      ]
     },
     "execution_count": 48,
     "metadata": {},
     "output_type": "execute_result"
    }
   ],
   "source": [
    "hide_code\n",
    "# Fit the classifier and get the accuracy score\n",
    "clf2 = RandomForestClassifier().fit(x_train.reshape(-1, 32*32*3), y_train_c)\n",
    "clf2.score(x_test.reshape(-1, 32*32*3), y_test_c)"
   ]
  },
  {
   "cell_type": "markdown",
   "metadata": {},
   "source": [
    "### Grayscaled Images"
   ]
  },
  {
   "cell_type": "code",
   "execution_count": 106,
   "metadata": {},
   "outputs": [],
   "source": [
    "hide_code\n",
    "def gray_model():\n",
    "    model = Sequential()\n",
    "    # TODO: Define a model architecture\n",
    "\n",
    "    model.add(Conv2D(32, (5, 5), padding='same', input_shape=x_train2.shape[1:]))\n",
    "    model.add(LeakyReLU(alpha=0.02))    \n",
    "    model.add(MaxPooling2D(pool_size=(2, 2)))\n",
    "    model.add(Dropout(0.25))\n",
    "\n",
    "    model.add(Conv2D(128, (5, 5)))\n",
    "    model.add(LeakyReLU(alpha=0.02))    \n",
    "    model.add(MaxPooling2D(pool_size=(2, 2)))\n",
    "    model.add(Dropout(0.25))\n",
    "    \n",
    "    model.add(GlobalMaxPooling2D()) \n",
    "    \n",
    "    model.add(Dense(1024))\n",
    "    model.add(LeakyReLU(alpha=0.02)) \n",
    "    model.add(Dropout(0.25)) \n",
    "    \n",
    "    model.add(Dense(128))\n",
    "    model.add(LeakyReLU(alpha=0.02)) \n",
    "    model.add(Dropout(0.25))    \n",
    "\n",
    "    model.add(Dense(33))\n",
    "    model.add(Activation('softmax'))\n",
    "    \n",
    "    # TODO: Compile the model\n",
    "    model.compile(loss='categorical_crossentropy', optimizer='rmsprop', metrics=['accuracy'])\n",
    "    \n",
    "    return model\n",
    "\n",
    "gray_model = gray_model()"
   ]
  },
  {
   "cell_type": "code",
   "execution_count": 64,
   "metadata": {},
   "outputs": [],
   "source": [
    "hide_code\n",
    "# Create callbacks\n",
    "gray_checkpointer = ModelCheckpoint(filepath='weights.best.gray_model.hdf5', \n",
    "                                    verbose=2, save_best_only=True)\n",
    "gray_lr_reduction = ReduceLROnPlateau(monitor='val_loss', \n",
    "                                      patience=10, verbose=2, factor=0.8)"
   ]
  },
  {
   "cell_type": "code",
   "execution_count": 65,
   "metadata": {},
   "outputs": [
    {
     "name": "stdout",
     "output_type": "stream",
     "text": [
      "\n",
      "Epoch 00001: val_loss improved from inf to 3.49760, saving model to weights.best.gray_model.hdf5\n",
      "\n",
      "Epoch 00002: val_loss did not improve from 3.49760\n",
      "\n",
      "Epoch 00003: val_loss did not improve from 3.49760\n",
      "\n",
      "Epoch 00004: val_loss did not improve from 3.49760\n",
      "\n",
      "Epoch 00005: val_loss did not improve from 3.49760\n",
      "\n",
      "Epoch 00006: val_loss improved from 3.49760 to 3.49566, saving model to weights.best.gray_model.hdf5\n",
      "\n",
      "Epoch 00007: val_loss improved from 3.49566 to 3.49229, saving model to weights.best.gray_model.hdf5\n",
      "\n",
      "Epoch 00008: val_loss did not improve from 3.49229\n",
      "\n",
      "Epoch 00009: val_loss improved from 3.49229 to 3.48260, saving model to weights.best.gray_model.hdf5\n",
      "\n",
      "Epoch 00010: val_loss improved from 3.48260 to 3.47657, saving model to weights.best.gray_model.hdf5\n",
      "\n",
      "Epoch 00011: val_loss improved from 3.47657 to 3.45542, saving model to weights.best.gray_model.hdf5\n",
      "\n",
      "Epoch 00012: val_loss did not improve from 3.45542\n",
      "\n",
      "Epoch 00013: val_loss did not improve from 3.45542\n",
      "\n",
      "Epoch 00014: val_loss improved from 3.45542 to 3.45171, saving model to weights.best.gray_model.hdf5\n",
      "\n",
      "Epoch 00015: val_loss did not improve from 3.45171\n",
      "\n",
      "Epoch 00016: val_loss improved from 3.45171 to 3.42426, saving model to weights.best.gray_model.hdf5\n",
      "\n",
      "Epoch 00017: val_loss did not improve from 3.42426\n",
      "\n",
      "Epoch 00018: val_loss improved from 3.42426 to 3.41524, saving model to weights.best.gray_model.hdf5\n",
      "\n",
      "Epoch 00019: val_loss did not improve from 3.41524\n",
      "\n",
      "Epoch 00020: val_loss did not improve from 3.41524\n",
      "\n",
      "Epoch 00021: val_loss improved from 3.41524 to 3.40510, saving model to weights.best.gray_model.hdf5\n",
      "\n",
      "Epoch 00022: val_loss did not improve from 3.40510\n",
      "\n",
      "Epoch 00023: val_loss did not improve from 3.40510\n",
      "\n",
      "Epoch 00024: val_loss did not improve from 3.40510\n",
      "\n",
      "Epoch 00025: val_loss did not improve from 3.40510\n",
      "\n",
      "Epoch 00026: val_loss did not improve from 3.40510\n",
      "\n",
      "Epoch 00027: val_loss improved from 3.40510 to 3.38236, saving model to weights.best.gray_model.hdf5\n",
      "\n",
      "Epoch 00028: val_loss improved from 3.38236 to 3.32602, saving model to weights.best.gray_model.hdf5\n",
      "\n",
      "Epoch 00029: val_loss did not improve from 3.32602\n",
      "\n",
      "Epoch 00030: val_loss did not improve from 3.32602\n",
      "\n",
      "Epoch 00031: val_loss did not improve from 3.32602\n",
      "\n",
      "Epoch 00032: val_loss improved from 3.32602 to 3.31155, saving model to weights.best.gray_model.hdf5\n",
      "\n",
      "Epoch 00033: val_loss improved from 3.31155 to 3.22358, saving model to weights.best.gray_model.hdf5\n",
      "\n",
      "Epoch 00034: val_loss did not improve from 3.22358\n",
      "\n",
      "Epoch 00035: val_loss did not improve from 3.22358\n",
      "\n",
      "Epoch 00036: val_loss did not improve from 3.22358\n",
      "\n",
      "Epoch 00037: val_loss did not improve from 3.22358\n",
      "\n",
      "Epoch 00038: val_loss improved from 3.22358 to 3.13291, saving model to weights.best.gray_model.hdf5\n",
      "\n",
      "Epoch 00039: val_loss improved from 3.13291 to 3.05173, saving model to weights.best.gray_model.hdf5\n",
      "\n",
      "Epoch 00040: val_loss did not improve from 3.05173\n",
      "\n",
      "Epoch 00041: val_loss improved from 3.05173 to 3.01524, saving model to weights.best.gray_model.hdf5\n",
      "\n",
      "Epoch 00042: val_loss did not improve from 3.01524\n",
      "\n",
      "Epoch 00043: val_loss improved from 3.01524 to 2.89881, saving model to weights.best.gray_model.hdf5\n",
      "\n",
      "Epoch 00044: val_loss did not improve from 2.89881\n",
      "\n",
      "Epoch 00045: val_loss did not improve from 2.89881\n",
      "\n",
      "Epoch 00046: val_loss improved from 2.89881 to 2.84637, saving model to weights.best.gray_model.hdf5\n",
      "\n",
      "Epoch 00047: val_loss did not improve from 2.84637\n",
      "\n",
      "Epoch 00048: val_loss improved from 2.84637 to 2.77642, saving model to weights.best.gray_model.hdf5\n",
      "\n",
      "Epoch 00049: val_loss did not improve from 2.77642\n",
      "\n",
      "Epoch 00050: val_loss did not improve from 2.77642\n",
      "\n",
      "Epoch 00051: val_loss improved from 2.77642 to 2.76648, saving model to weights.best.gray_model.hdf5\n",
      "\n",
      "Epoch 00052: val_loss did not improve from 2.76648\n",
      "\n",
      "Epoch 00053: val_loss improved from 2.76648 to 2.70067, saving model to weights.best.gray_model.hdf5\n",
      "\n",
      "Epoch 00054: val_loss did not improve from 2.70067\n",
      "\n",
      "Epoch 00055: val_loss did not improve from 2.70067\n",
      "\n",
      "Epoch 00056: val_loss did not improve from 2.70067\n",
      "\n",
      "Epoch 00057: val_loss improved from 2.70067 to 2.64233, saving model to weights.best.gray_model.hdf5\n",
      "\n",
      "Epoch 00058: val_loss improved from 2.64233 to 2.50863, saving model to weights.best.gray_model.hdf5\n",
      "\n",
      "Epoch 00059: val_loss did not improve from 2.50863\n",
      "\n",
      "Epoch 00060: val_loss did not improve from 2.50863\n",
      "\n",
      "Epoch 00061: val_loss improved from 2.50863 to 2.50505, saving model to weights.best.gray_model.hdf5\n",
      "\n",
      "Epoch 00062: val_loss did not improve from 2.50505\n",
      "\n",
      "Epoch 00063: val_loss did not improve from 2.50505\n",
      "\n",
      "Epoch 00064: val_loss did not improve from 2.50505\n",
      "\n",
      "Epoch 00065: val_loss improved from 2.50505 to 2.41275, saving model to weights.best.gray_model.hdf5\n",
      "\n",
      "Epoch 00066: val_loss improved from 2.41275 to 2.38365, saving model to weights.best.gray_model.hdf5\n",
      "\n",
      "Epoch 00067: val_loss did not improve from 2.38365\n",
      "\n",
      "Epoch 00068: val_loss improved from 2.38365 to 2.25207, saving model to weights.best.gray_model.hdf5\n",
      "\n",
      "Epoch 00069: val_loss did not improve from 2.25207\n",
      "\n",
      "Epoch 00070: val_loss did not improve from 2.25207\n",
      "\n",
      "Epoch 00071: val_loss did not improve from 2.25207\n",
      "\n",
      "Epoch 00072: val_loss did not improve from 2.25207\n",
      "\n",
      "Epoch 00073: val_loss did not improve from 2.25207\n",
      "\n",
      "Epoch 00074: val_loss did not improve from 2.25207\n",
      "\n",
      "Epoch 00075: val_loss improved from 2.25207 to 2.14117, saving model to weights.best.gray_model.hdf5\n",
      "\n",
      "Epoch 00076: val_loss improved from 2.14117 to 2.12025, saving model to weights.best.gray_model.hdf5\n",
      "\n",
      "Epoch 00077: val_loss did not improve from 2.12025\n",
      "\n",
      "Epoch 00078: val_loss did not improve from 2.12025\n",
      "\n",
      "Epoch 00079: val_loss did not improve from 2.12025\n",
      "\n",
      "Epoch 00080: val_loss did not improve from 2.12025\n",
      "\n",
      "Epoch 00081: val_loss did not improve from 2.12025\n",
      "\n",
      "Epoch 00082: val_loss did not improve from 2.12025\n",
      "\n",
      "Epoch 00083: val_loss improved from 2.12025 to 2.06482, saving model to weights.best.gray_model.hdf5\n",
      "\n",
      "Epoch 00084: val_loss did not improve from 2.06482\n",
      "\n",
      "Epoch 00085: val_loss improved from 2.06482 to 1.99549, saving model to weights.best.gray_model.hdf5\n",
      "\n",
      "Epoch 00086: val_loss improved from 1.99549 to 1.93578, saving model to weights.best.gray_model.hdf5\n",
      "\n",
      "Epoch 00087: val_loss did not improve from 1.93578\n",
      "\n",
      "Epoch 00088: val_loss improved from 1.93578 to 1.92795, saving model to weights.best.gray_model.hdf5\n",
      "\n",
      "Epoch 00089: val_loss did not improve from 1.92795\n",
      "\n",
      "Epoch 00090: val_loss improved from 1.92795 to 1.88600, saving model to weights.best.gray_model.hdf5\n",
      "\n",
      "Epoch 00091: val_loss improved from 1.88600 to 1.77680, saving model to weights.best.gray_model.hdf5\n",
      "\n",
      "Epoch 00092: val_loss did not improve from 1.77680\n",
      "\n",
      "Epoch 00093: val_loss did not improve from 1.77680\n",
      "\n",
      "Epoch 00094: val_loss improved from 1.77680 to 1.75655, saving model to weights.best.gray_model.hdf5\n",
      "\n",
      "Epoch 00095: val_loss did not improve from 1.75655\n",
      "\n",
      "Epoch 00096: val_loss did not improve from 1.75655\n",
      "\n",
      "Epoch 00097: val_loss did not improve from 1.75655\n",
      "\n",
      "Epoch 00098: val_loss improved from 1.75655 to 1.69111, saving model to weights.best.gray_model.hdf5\n",
      "\n",
      "Epoch 00099: val_loss did not improve from 1.69111\n",
      "\n",
      "Epoch 00100: val_loss did not improve from 1.69111\n",
      "\n",
      "Epoch 00101: val_loss did not improve from 1.69111\n",
      "\n",
      "Epoch 00102: val_loss did not improve from 1.69111\n",
      "\n",
      "Epoch 00103: val_loss did not improve from 1.69111\n",
      "\n",
      "Epoch 00104: val_loss did not improve from 1.69111\n",
      "\n",
      "Epoch 00105: val_loss did not improve from 1.69111\n",
      "\n",
      "Epoch 00106: val_loss did not improve from 1.69111\n",
      "\n",
      "Epoch 00107: val_loss improved from 1.69111 to 1.59031, saving model to weights.best.gray_model.hdf5\n",
      "\n",
      "Epoch 00108: val_loss did not improve from 1.59031\n",
      "\n",
      "Epoch 00109: val_loss did not improve from 1.59031\n",
      "\n",
      "Epoch 00110: val_loss improved from 1.59031 to 1.55987, saving model to weights.best.gray_model.hdf5\n",
      "\n",
      "Epoch 00111: val_loss did not improve from 1.55987\n",
      "\n",
      "Epoch 00112: val_loss improved from 1.55987 to 1.54122, saving model to weights.best.gray_model.hdf5\n",
      "\n",
      "Epoch 00113: val_loss did not improve from 1.54122\n",
      "\n",
      "Epoch 00114: val_loss did not improve from 1.54122\n",
      "\n",
      "Epoch 00115: val_loss did not improve from 1.54122\n",
      "\n",
      "Epoch 00116: val_loss did not improve from 1.54122\n",
      "\n",
      "Epoch 00117: val_loss did not improve from 1.54122\n",
      "\n",
      "Epoch 00118: val_loss improved from 1.54122 to 1.50671, saving model to weights.best.gray_model.hdf5\n"
     ]
    },
    {
     "name": "stdout",
     "output_type": "stream",
     "text": [
      "\n",
      "Epoch 00119: val_loss did not improve from 1.50671\n",
      "\n",
      "Epoch 00120: val_loss did not improve from 1.50671\n",
      "\n",
      "Epoch 00121: val_loss did not improve from 1.50671\n",
      "\n",
      "Epoch 00122: val_loss did not improve from 1.50671\n",
      "\n",
      "Epoch 00123: val_loss did not improve from 1.50671\n",
      "\n",
      "Epoch 00124: val_loss improved from 1.50671 to 1.43768, saving model to weights.best.gray_model.hdf5\n",
      "\n",
      "Epoch 00125: val_loss did not improve from 1.43768\n",
      "\n",
      "Epoch 00126: val_loss did not improve from 1.43768\n",
      "\n",
      "Epoch 00127: val_loss did not improve from 1.43768\n",
      "\n",
      "Epoch 00128: val_loss did not improve from 1.43768\n",
      "\n",
      "Epoch 00129: val_loss did not improve from 1.43768\n",
      "\n",
      "Epoch 00130: val_loss did not improve from 1.43768\n",
      "\n",
      "Epoch 00131: val_loss did not improve from 1.43768\n",
      "\n",
      "Epoch 00132: val_loss improved from 1.43768 to 1.41228, saving model to weights.best.gray_model.hdf5\n",
      "\n",
      "Epoch 00133: val_loss did not improve from 1.41228\n",
      "\n",
      "Epoch 00134: val_loss did not improve from 1.41228\n",
      "\n",
      "Epoch 00135: val_loss improved from 1.41228 to 1.34279, saving model to weights.best.gray_model.hdf5\n",
      "\n",
      "Epoch 00136: val_loss did not improve from 1.34279\n",
      "\n",
      "Epoch 00137: val_loss did not improve from 1.34279\n",
      "\n",
      "Epoch 00138: val_loss did not improve from 1.34279\n",
      "\n",
      "Epoch 00139: val_loss did not improve from 1.34279\n",
      "\n",
      "Epoch 00140: val_loss did not improve from 1.34279\n",
      "\n",
      "Epoch 00141: val_loss did not improve from 1.34279\n",
      "\n",
      "Epoch 00142: val_loss did not improve from 1.34279\n",
      "\n",
      "Epoch 00143: val_loss improved from 1.34279 to 1.30307, saving model to weights.best.gray_model.hdf5\n",
      "\n",
      "Epoch 00144: val_loss did not improve from 1.30307\n",
      "\n",
      "Epoch 00145: val_loss did not improve from 1.30307\n",
      "\n",
      "Epoch 00146: val_loss did not improve from 1.30307\n",
      "\n",
      "Epoch 00147: val_loss did not improve from 1.30307\n",
      "\n",
      "Epoch 00148: val_loss did not improve from 1.30307\n",
      "\n",
      "Epoch 00149: val_loss did not improve from 1.30307\n",
      "\n",
      "Epoch 00150: val_loss did not improve from 1.30307\n",
      "\n",
      "Epoch 00151: val_loss did not improve from 1.30307\n",
      "\n",
      "Epoch 00152: val_loss did not improve from 1.30307\n",
      "\n",
      "Epoch 00153: val_loss did not improve from 1.30307\n",
      "\n",
      "Epoch 00153: ReduceLROnPlateau reducing learning rate to 0.000800000037997961.\n",
      "\n",
      "Epoch 00154: val_loss improved from 1.30307 to 1.23645, saving model to weights.best.gray_model.hdf5\n",
      "\n",
      "Epoch 00155: val_loss did not improve from 1.23645\n",
      "\n",
      "Epoch 00156: val_loss did not improve from 1.23645\n",
      "\n",
      "Epoch 00157: val_loss did not improve from 1.23645\n",
      "\n",
      "Epoch 00158: val_loss did not improve from 1.23645\n",
      "\n",
      "Epoch 00159: val_loss did not improve from 1.23645\n",
      "\n",
      "Epoch 00160: val_loss did not improve from 1.23645\n",
      "\n",
      "Epoch 00161: val_loss did not improve from 1.23645\n",
      "\n",
      "Epoch 00162: val_loss did not improve from 1.23645\n",
      "\n",
      "Epoch 00163: val_loss did not improve from 1.23645\n",
      "\n",
      "Epoch 00164: val_loss improved from 1.23645 to 1.20559, saving model to weights.best.gray_model.hdf5\n",
      "\n",
      "Epoch 00165: val_loss did not improve from 1.20559\n",
      "\n",
      "Epoch 00166: val_loss did not improve from 1.20559\n",
      "\n",
      "Epoch 00167: val_loss did not improve from 1.20559\n",
      "\n",
      "Epoch 00168: val_loss did not improve from 1.20559\n",
      "\n",
      "Epoch 00169: val_loss did not improve from 1.20559\n",
      "\n",
      "Epoch 00170: val_loss did not improve from 1.20559\n",
      "\n",
      "Epoch 00171: val_loss did not improve from 1.20559\n",
      "\n",
      "Epoch 00172: val_loss did not improve from 1.20559\n",
      "\n",
      "Epoch 00173: val_loss did not improve from 1.20559\n",
      "\n",
      "Epoch 00174: val_loss did not improve from 1.20559\n",
      "\n",
      "Epoch 00174: ReduceLROnPlateau reducing learning rate to 0.0006400000303983689.\n",
      "\n",
      "Epoch 00175: val_loss did not improve from 1.20559\n",
      "\n",
      "Epoch 00176: val_loss did not improve from 1.20559\n",
      "\n",
      "Epoch 00177: val_loss did not improve from 1.20559\n",
      "\n",
      "Epoch 00178: val_loss did not improve from 1.20559\n",
      "\n",
      "Epoch 00179: val_loss did not improve from 1.20559\n",
      "\n",
      "Epoch 00180: val_loss did not improve from 1.20559\n",
      "\n",
      "Epoch 00181: val_loss did not improve from 1.20559\n",
      "\n",
      "Epoch 00182: val_loss did not improve from 1.20559\n",
      "\n",
      "Epoch 00183: val_loss did not improve from 1.20559\n",
      "\n",
      "Epoch 00184: val_loss did not improve from 1.20559\n",
      "\n",
      "Epoch 00184: ReduceLROnPlateau reducing learning rate to 0.0005120000336319208.\n",
      "\n",
      "Epoch 00185: val_loss did not improve from 1.20559\n",
      "\n",
      "Epoch 00186: val_loss did not improve from 1.20559\n",
      "\n",
      "Epoch 00187: val_loss did not improve from 1.20559\n",
      "\n",
      "Epoch 00188: val_loss did not improve from 1.20559\n",
      "\n",
      "Epoch 00189: val_loss did not improve from 1.20559\n",
      "\n",
      "Epoch 00190: val_loss did not improve from 1.20559\n",
      "\n",
      "Epoch 00191: val_loss did not improve from 1.20559\n",
      "\n",
      "Epoch 00192: val_loss did not improve from 1.20559\n",
      "\n",
      "Epoch 00193: val_loss did not improve from 1.20559\n",
      "\n",
      "Epoch 00194: val_loss did not improve from 1.20559\n",
      "\n",
      "Epoch 00194: ReduceLROnPlateau reducing learning rate to 0.00040960004553198815.\n",
      "\n",
      "Epoch 00195: val_loss did not improve from 1.20559\n",
      "\n",
      "Epoch 00196: val_loss improved from 1.20559 to 1.17393, saving model to weights.best.gray_model.hdf5\n",
      "\n",
      "Epoch 00197: val_loss did not improve from 1.17393\n",
      "\n",
      "Epoch 00198: val_loss did not improve from 1.17393\n",
      "\n",
      "Epoch 00199: val_loss did not improve from 1.17393\n",
      "\n",
      "Epoch 00200: val_loss did not improve from 1.17393\n"
     ]
    }
   ],
   "source": [
    "hide_code\n",
    "# Train the model\n",
    "gray_history = gray_model.fit(x_train2, y_train2, \n",
    "                              epochs=200, batch_size=64, verbose=0,\n",
    "                              validation_data=(x_valid2, y_valid2),\n",
    "                              callbacks=[gray_checkpointer, gray_lr_reduction])"
   ]
  },
  {
   "cell_type": "code",
   "execution_count": 66,
   "metadata": {},
   "outputs": [
    {
     "data": {
      "image/png": "[encoded data removed]",
      "text/plain": [
       "<Figure size 1296x864 with 2 Axes>"
      ]
     },
     "metadata": {},
     "output_type": "display_data"
    }
   ],
   "source": [
    "hide_code\n",
    "# Plot the training history\n",
    "history_plot(gray_history, 0)"
   ]
  },
  {
   "cell_type": "markdown",
   "metadata": {},
   "source": [
    "Try to reach an accuracy greater than 50%"
   ]
  },
  {
   "cell_type": "code",
   "execution_count": 67,
   "metadata": {},
   "outputs": [
    {
     "name": "stdout",
     "output_type": "stream",
     "text": [
      "165/165 [==============================] - 0s 1ms/step\n"
     ]
    },
    {
     "data": {
      "text/plain": [
       "[1.081701368635351, 0.6909090912703312]"
      ]
     },
     "execution_count": 67,
     "metadata": {},
     "output_type": "execute_result"
    }
   ],
   "source": [
    "hide_code\n",
    "# Load the model with the best validation accuracy\n",
    "gray_model.load_weights('weights.best.gray_model.hdf5')\n",
    "# Calculate classification accuracy on the testing set\n",
    "gray_score = gray_model.evaluate(x_test2, y_test2)\n",
    "gray_score"
   ]
  },
  {
   "cell_type": "markdown",
   "metadata": {},
   "source": [
    "Apply the ImageDataGenerator() function."
   ]
  },
  {
   "cell_type": "code",
   "execution_count": 68,
   "metadata": {},
   "outputs": [
    {
     "name": "stdout",
     "output_type": "stream",
     "text": [
      "Epoch 1/10\n",
      " - 265s - loss: 1.2616 - acc: 0.6257 - val_loss: 1.1346 - val_acc: 0.6485\n",
      "\n",
      "Epoch 00001: val_loss improved from 1.17393 to 1.13462, saving model to weights.best.gray_model.hdf5\n",
      "Epoch 2/10\n",
      " - 276s - loss: 1.0199 - acc: 0.6866 - val_loss: 0.9844 - val_acc: 0.7091\n",
      "\n",
      "Epoch 00002: val_loss improved from 1.13462 to 0.98438, saving model to weights.best.gray_model.hdf5\n",
      "Epoch 3/10\n",
      " - 257s - loss: 0.8821 - acc: 0.7256 - val_loss: 0.9625 - val_acc: 0.7030\n",
      "\n",
      "Epoch 00003: val_loss improved from 0.98438 to 0.96252, saving model to weights.best.gray_model.hdf5\n",
      "Epoch 4/10\n",
      " - 278s - loss: 0.7678 - acc: 0.7588 - val_loss: 0.9479 - val_acc: 0.7273\n",
      "\n",
      "Epoch 00004: val_loss improved from 0.96252 to 0.94789, saving model to weights.best.gray_model.hdf5\n",
      "Epoch 5/10\n",
      " - 292s - loss: 0.6857 - acc: 0.7822 - val_loss: 1.0155 - val_acc: 0.7212\n",
      "\n",
      "Epoch 00005: val_loss did not improve from 0.94789\n",
      "Epoch 6/10\n",
      " - 275s - loss: 0.6113 - acc: 0.8052 - val_loss: 0.8892 - val_acc: 0.7333\n",
      "\n",
      "Epoch 00006: val_loss improved from 0.94789 to 0.88923, saving model to weights.best.gray_model.hdf5\n",
      "Epoch 7/10\n",
      " - 286s - loss: 0.5583 - acc: 0.8222 - val_loss: 0.9671 - val_acc: 0.7394\n",
      "\n",
      "Epoch 00007: val_loss did not improve from 0.88923\n",
      "Epoch 8/10\n",
      " - 285s - loss: 0.4997 - acc: 0.8396 - val_loss: 0.9933 - val_acc: 0.7212\n",
      "\n",
      "Epoch 00008: val_loss did not improve from 0.88923\n",
      "Epoch 9/10\n",
      " - 291s - loss: 0.4645 - acc: 0.8530 - val_loss: 1.0517 - val_acc: 0.6970\n",
      "\n",
      "Epoch 00009: val_loss did not improve from 0.88923\n",
      "Epoch 10/10\n",
      " - 289s - loss: 0.4217 - acc: 0.8659 - val_loss: 0.9220 - val_acc: 0.7273\n",
      "\n",
      "Epoch 00010: val_loss did not improve from 0.88923\n"
     ]
    }
   ],
   "source": [
    "hide_code\n",
    "# Fit the model with ImageDataGenerator()\n",
    "steps, epochs = 1000, 10\n",
    "data_generator = ImageDataGenerator(zoom_range=0.2, shear_range=0.2, rotation_range=20)\n",
    "\n",
    "gray_generator = gray_model.fit_generator(data_generator.flow(x_train2, y_train2, batch_size=64),\n",
    "                                          steps_per_epoch = steps, epochs = epochs,\n",
    "                                          validation_data = (x_valid2, y_valid2), \n",
    "                                          callbacks=[gray_checkpointer, gray_lr_reduction], verbose=2)"
   ]
  },
  {
   "cell_type": "code",
   "execution_count": 107,
   "metadata": {},
   "outputs": [
    {
     "name": "stdout",
     "output_type": "stream",
     "text": [
      "165/165 [==============================] - 3s 17ms/step\n"
     ]
    },
    {
     "data": {
      "text/plain": [
       "[0.6657397743427392, 0.7878787882400281]"
      ]
     },
     "execution_count": 107,
     "metadata": {},
     "output_type": "execute_result"
    }
   ],
   "source": [
    "hide_code\n",
    "# Load the model with the best validation accuracy\n",
    "gray_model.load_weights('weights.best.gray_model.hdf5')\n",
    "# Calculate classification accuracy on the testing set\n",
    "gray_score = gray_model.evaluate(x_test2, y_test2)\n",
    "gray_score"
   ]
  },
  {
   "cell_type": "markdown",
   "metadata": {},
   "source": [
    "Let's compare the results with classifying algorithms."
   ]
  },
  {
   "cell_type": "code",
   "execution_count": 80,
   "metadata": {},
   "outputs": [
    {
     "data": {
      "text/plain": [
       "0.081818181818181818"
      ]
     },
     "execution_count": 80,
     "metadata": {},
     "output_type": "execute_result"
    }
   ],
   "source": [
    "hide_code\n",
    "# Fit the classifier and get the accuracy score\n",
    "y_train2_c = np.array([np.argmax(y) for y in y_train2])\n",
    "y_test2_c = np.array([np.argmax(y) for y in y_test2])\n",
    "clf = GradientBoostingClassifier().fit(x_train2.reshape(-1, 32*32), y_train2_c)\n",
    "clf.score(x_test2.reshape(-1, 32*32), y_test2_c)"
   ]
  },
  {
   "cell_type": "code",
   "execution_count": 81,
   "metadata": {},
   "outputs": [
    {
     "data": {
      "text/plain": [
       "0.087878787878787876"
      ]
     },
     "execution_count": 81,
     "metadata": {},
     "output_type": "execute_result"
    }
   ],
   "source": [
    "hide_code\n",
    "# Fit the classifier and get the accuracy score\n",
    "clf2 = RandomForestClassifier().fit(x_train2.reshape(-1, 32*32), y_train2_c)\n",
    "clf2.score(x_test2.reshape(-1, 32*32), y_test2_c)"
   ]
  },
  {
   "cell_type": "markdown",
   "metadata": {},
   "source": [
    "## Step 5. Create a Multi-Label Classification Model\n",
    "### Color Images"
   ]
  },
  {
   "cell_type": "code",
   "execution_count": 116,
   "metadata": {},
   "outputs": [],
   "source": [
    "hide_code\n",
    "def multi_model():    \n",
    "    model_input = Input(shape=(32, 32, 3))\n",
    "    x = BatchNormalization()(model_input)\n",
    "    \n",
    "    # TODO: Define a model architecture\n",
    "    x = Conv2D(32, (3, 3), padding='same')(model_input)\n",
    "    x = LeakyReLU(alpha=0.02)(x)\n",
    "    x = MaxPooling2D(pool_size=(2, 2))(x)    \n",
    "    x = Dropout(0.25)(x)\n",
    "    \n",
    "    x = Conv2D(128, (3, 3), padding='same')(x)\n",
    "    x = LeakyReLU(alpha=0.02)(x)\n",
    "    x = MaxPooling2D(pool_size=(2, 2))(x)    \n",
    "    x = Dropout(0.25)(x)\n",
    "              \n",
    "    x = GlobalMaxPooling2D()(x)\n",
    "    \n",
    "    x = Dense(1024)(x)\n",
    "    x = LeakyReLU(alpha=0.02)(x)\n",
    "    x = Dropout(0.25)(x)\n",
    "    \n",
    "    x = Dense(128)(x)  \n",
    "    x = LeakyReLU(alpha=0.02)(x)\n",
    "    x = Dropout(0.25)(x)\n",
    "    \n",
    "    y1 = Dense(33, activation='softmax')(x)\n",
    "    y2 = Dense(2, activation='softmax')(x)\n",
    "    \n",
    "    model = Model(inputs=model_input, outputs=[y1, y2])\n",
    "    \n",
    "    # TODO: Compile the model\n",
    "    model.compile(loss='categorical_crossentropy', optimizer='adam', metrics=['accuracy'])\n",
    "    return model\n",
    "\n",
    "multi_model = multi_model()"
   ]
  },
  {
   "cell_type": "code",
   "execution_count": 117,
   "metadata": {},
   "outputs": [
    {
     "name": "stdout",
     "output_type": "stream",
     "text": [
      "__________________________________________________________________________________________________\n",
      "Layer (type)                    Output Shape         Param #     Connected to                     \n",
      "==================================================================================================\n",
      "input_11 (InputLayer)           (None, 32, 32, 3)    0                                            \n",
      "__________________________________________________________________________________________________\n",
      "conv2d_39 (Conv2D)              (None, 32, 32, 32)   896         input_11[0][0]                   \n",
      "__________________________________________________________________________________________________\n",
      "leaky_re_lu_53 (LeakyReLU)      (None, 32, 32, 32)   0           conv2d_39[0][0]                  \n",
      "__________________________________________________________________________________________________\n",
      "max_pooling2d_39 (MaxPooling2D) (None, 16, 16, 32)   0           leaky_re_lu_53[0][0]             \n",
      "__________________________________________________________________________________________________\n",
      "dropout_73 (Dropout)            (None, 16, 16, 32)   0           max_pooling2d_39[0][0]           \n",
      "__________________________________________________________________________________________________\n",
      "conv2d_40 (Conv2D)              (None, 16, 16, 128)  36992       dropout_73[0][0]                 \n",
      "__________________________________________________________________________________________________\n",
      "leaky_re_lu_54 (LeakyReLU)      (None, 16, 16, 128)  0           conv2d_40[0][0]                  \n",
      "__________________________________________________________________________________________________\n",
      "max_pooling2d_40 (MaxPooling2D) (None, 8, 8, 128)    0           leaky_re_lu_54[0][0]             \n",
      "__________________________________________________________________________________________________\n",
      "dropout_74 (Dropout)            (None, 8, 8, 128)    0           max_pooling2d_40[0][0]           \n",
      "__________________________________________________________________________________________________\n",
      "global_max_pooling2d_20 (Global (None, 128)          0           dropout_74[0][0]                 \n",
      "__________________________________________________________________________________________________\n",
      "dense_64 (Dense)                (None, 1024)         132096      global_max_pooling2d_20[0][0]    \n",
      "__________________________________________________________________________________________________\n",
      "leaky_re_lu_55 (LeakyReLU)      (None, 1024)         0           dense_64[0][0]                   \n",
      "__________________________________________________________________________________________________\n",
      "dropout_75 (Dropout)            (None, 1024)         0           leaky_re_lu_55[0][0]             \n",
      "__________________________________________________________________________________________________\n",
      "dense_65 (Dense)                (None, 128)          131200      dropout_75[0][0]                 \n",
      "__________________________________________________________________________________________________\n",
      "leaky_re_lu_56 (LeakyReLU)      (None, 128)          0           dense_65[0][0]                   \n",
      "__________________________________________________________________________________________________\n",
      "dropout_76 (Dropout)            (None, 128)          0           leaky_re_lu_56[0][0]             \n",
      "__________________________________________________________________________________________________\n",
      "dense_66 (Dense)                (None, 33)           4257        dropout_76[0][0]                 \n",
      "__________________________________________________________________________________________________\n",
      "dense_67 (Dense)                (None, 2)            258         dropout_76[0][0]                 \n",
      "==================================================================================================\n",
      "Total params: 305,699\n",
      "Trainable params: 305,699\n",
      "Non-trainable params: 0\n",
      "__________________________________________________________________________________________________\n"
     ]
    }
   ],
   "source": [
    "hide_code\n",
    "# Display the model architecture\n",
    "multi_model.summary()"
   ]
  },
  {
   "cell_type": "code",
   "execution_count": 118,
   "metadata": {},
   "outputs": [],
   "source": [
    "hide_code\n",
    "# Create callbacks\n",
    "multi_checkpointer = ModelCheckpoint(filepath='weights.best.multi.hdf5', \n",
    "                                     verbose=2, save_best_only=True)\n",
    "multi_lr_reduction = ReduceLROnPlateau(monitor='val_loss', \n",
    "                                       patience=5, verbose=2, factor=0.8)"
   ]
  },
  {
   "cell_type": "code",
   "execution_count": 119,
   "metadata": {},
   "outputs": [
    {
     "name": "stdout",
     "output_type": "stream",
     "text": [
      "\n",
      "Epoch 00001: val_loss improved from inf to 4.19048, saving model to weights.best.multi.hdf5\n",
      "\n",
      "Epoch 00002: val_loss improved from 4.19048 to 4.18492, saving model to weights.best.multi.hdf5\n",
      "\n",
      "Epoch 00003: val_loss improved from 4.18492 to 4.18052, saving model to weights.best.multi.hdf5\n",
      "\n",
      "Epoch 00004: val_loss improved from 4.18052 to 4.17439, saving model to weights.best.multi.hdf5\n",
      "\n",
      "Epoch 00005: val_loss improved from 4.17439 to 4.10641, saving model to weights.best.multi.hdf5\n",
      "\n",
      "Epoch 00006: val_loss improved from 4.10641 to 4.06883, saving model to weights.best.multi.hdf5\n",
      "\n",
      "Epoch 00007: val_loss improved from 4.06883 to 4.06882, saving model to weights.best.multi.hdf5\n",
      "\n",
      "Epoch 00008: val_loss improved from 4.06882 to 4.00557, saving model to weights.best.multi.hdf5\n",
      "\n",
      "Epoch 00009: val_loss improved from 4.00557 to 3.98756, saving model to weights.best.multi.hdf5\n",
      "\n",
      "Epoch 00010: val_loss improved from 3.98756 to 3.96089, saving model to weights.best.multi.hdf5\n",
      "\n",
      "Epoch 00011: val_loss did not improve from 3.96089\n",
      "\n",
      "Epoch 00012: val_loss did not improve from 3.96089\n",
      "\n",
      "Epoch 00013: val_loss improved from 3.96089 to 3.93254, saving model to weights.best.multi.hdf5\n",
      "\n",
      "Epoch 00014: val_loss improved from 3.93254 to 3.91957, saving model to weights.best.multi.hdf5\n",
      "\n",
      "Epoch 00015: val_loss improved from 3.91957 to 3.88585, saving model to weights.best.multi.hdf5\n",
      "\n",
      "Epoch 00016: val_loss did not improve from 3.88585\n",
      "\n",
      "Epoch 00017: val_loss did not improve from 3.88585\n",
      "\n",
      "Epoch 00018: val_loss did not improve from 3.88585\n",
      "\n",
      "Epoch 00019: val_loss did not improve from 3.88585\n",
      "\n",
      "Epoch 00020: val_loss improved from 3.88585 to 3.84338, saving model to weights.best.multi.hdf5\n",
      "\n",
      "Epoch 00021: val_loss did not improve from 3.84338\n",
      "\n",
      "Epoch 00022: val_loss improved from 3.84338 to 3.82265, saving model to weights.best.multi.hdf5\n",
      "\n",
      "Epoch 00023: val_loss did not improve from 3.82265\n",
      "\n",
      "Epoch 00024: val_loss did not improve from 3.82265\n",
      "\n",
      "Epoch 00025: val_loss did not improve from 3.82265\n",
      "\n",
      "Epoch 00026: val_loss did not improve from 3.82265\n",
      "\n",
      "Epoch 00027: val_loss did not improve from 3.82265\n",
      "\n",
      "Epoch 00027: ReduceLROnPlateau reducing learning rate to 0.000800000037997961.\n",
      "\n",
      "Epoch 00028: val_loss did not improve from 3.82265\n",
      "\n",
      "Epoch 00029: val_loss improved from 3.82265 to 3.71624, saving model to weights.best.multi.hdf5\n",
      "\n",
      "Epoch 00030: val_loss improved from 3.71624 to 3.70138, saving model to weights.best.multi.hdf5\n",
      "\n",
      "Epoch 00031: val_loss did not improve from 3.70138\n",
      "\n",
      "Epoch 00032: val_loss improved from 3.70138 to 3.67556, saving model to weights.best.multi.hdf5\n",
      "\n",
      "Epoch 00033: val_loss did not improve from 3.67556\n",
      "\n",
      "Epoch 00034: val_loss did not improve from 3.67556\n",
      "\n",
      "Epoch 00035: val_loss did not improve from 3.67556\n",
      "\n",
      "Epoch 00036: val_loss did not improve from 3.67556\n",
      "\n",
      "Epoch 00037: val_loss improved from 3.67556 to 3.57982, saving model to weights.best.multi.hdf5\n",
      "\n",
      "Epoch 00038: val_loss improved from 3.57982 to 3.53694, saving model to weights.best.multi.hdf5\n",
      "\n",
      "Epoch 00039: val_loss did not improve from 3.53694\n",
      "\n",
      "Epoch 00040: val_loss did not improve from 3.53694\n",
      "\n",
      "Epoch 00041: val_loss did not improve from 3.53694\n",
      "\n",
      "Epoch 00042: val_loss improved from 3.53694 to 3.43455, saving model to weights.best.multi.hdf5\n",
      "\n",
      "Epoch 00043: val_loss did not improve from 3.43455\n",
      "\n",
      "Epoch 00044: val_loss did not improve from 3.43455\n",
      "\n",
      "Epoch 00045: val_loss did not improve from 3.43455\n",
      "\n",
      "Epoch 00046: val_loss did not improve from 3.43455\n",
      "\n",
      "Epoch 00047: val_loss did not improve from 3.43455\n",
      "\n",
      "Epoch 00047: ReduceLROnPlateau reducing learning rate to 0.0006400000303983689.\n",
      "\n",
      "Epoch 00048: val_loss did not improve from 3.43455\n",
      "\n",
      "Epoch 00049: val_loss did not improve from 3.43455\n",
      "\n",
      "Epoch 00050: val_loss did not improve from 3.43455\n",
      "\n",
      "Epoch 00051: val_loss did not improve from 3.43455\n",
      "\n",
      "Epoch 00052: val_loss did not improve from 3.43455\n",
      "\n",
      "Epoch 00052: ReduceLROnPlateau reducing learning rate to 0.0005120000336319208.\n",
      "\n",
      "Epoch 00053: val_loss did not improve from 3.43455\n",
      "\n",
      "Epoch 00054: val_loss did not improve from 3.43455\n",
      "\n",
      "Epoch 00055: val_loss did not improve from 3.43455\n",
      "\n",
      "Epoch 00056: val_loss did not improve from 3.43455\n",
      "\n",
      "Epoch 00057: val_loss improved from 3.43455 to 3.40873, saving model to weights.best.multi.hdf5\n",
      "\n",
      "Epoch 00058: val_loss did not improve from 3.40873\n",
      "\n",
      "Epoch 00059: val_loss improved from 3.40873 to 3.32220, saving model to weights.best.multi.hdf5\n",
      "\n",
      "Epoch 00060: val_loss did not improve from 3.32220\n",
      "\n",
      "Epoch 00061: val_loss did not improve from 3.32220\n",
      "\n",
      "Epoch 00062: val_loss did not improve from 3.32220\n",
      "\n",
      "Epoch 00063: val_loss did not improve from 3.32220\n",
      "\n",
      "Epoch 00064: val_loss did not improve from 3.32220\n",
      "\n",
      "Epoch 00064: ReduceLROnPlateau reducing learning rate to 0.00040960004553198815.\n",
      "\n",
      "Epoch 00065: val_loss did not improve from 3.32220\n",
      "\n",
      "Epoch 00066: val_loss did not improve from 3.32220\n",
      "\n",
      "Epoch 00067: val_loss did not improve from 3.32220\n",
      "\n",
      "Epoch 00068: val_loss did not improve from 3.32220\n",
      "\n",
      "Epoch 00069: val_loss improved from 3.32220 to 3.30941, saving model to weights.best.multi.hdf5\n",
      "\n",
      "Epoch 00070: val_loss did not improve from 3.30941\n",
      "\n",
      "Epoch 00071: val_loss did not improve from 3.30941\n",
      "\n",
      "Epoch 00072: val_loss did not improve from 3.30941\n",
      "\n",
      "Epoch 00073: val_loss did not improve from 3.30941\n",
      "\n",
      "Epoch 00074: val_loss did not improve from 3.30941\n",
      "\n",
      "Epoch 00074: ReduceLROnPlateau reducing learning rate to 0.00032768002711236477.\n",
      "\n",
      "Epoch 00075: val_loss did not improve from 3.30941\n",
      "\n",
      "Epoch 00076: val_loss did not improve from 3.30941\n",
      "\n",
      "Epoch 00077: val_loss did not improve from 3.30941\n",
      "\n",
      "Epoch 00078: val_loss did not improve from 3.30941\n",
      "\n",
      "Epoch 00079: val_loss did not improve from 3.30941\n",
      "\n",
      "Epoch 00079: ReduceLROnPlateau reducing learning rate to 0.0002621440216898918.\n",
      "\n",
      "Epoch 00080: val_loss did not improve from 3.30941\n",
      "\n",
      "Epoch 00081: val_loss did not improve from 3.30941\n",
      "\n",
      "Epoch 00082: val_loss did not improve from 3.30941\n",
      "\n",
      "Epoch 00083: val_loss did not improve from 3.30941\n",
      "\n",
      "Epoch 00084: val_loss did not improve from 3.30941\n",
      "\n",
      "Epoch 00084: ReduceLROnPlateau reducing learning rate to 0.00020971521735191345.\n",
      "\n",
      "Epoch 00085: val_loss did not improve from 3.30941\n",
      "\n",
      "Epoch 00086: val_loss did not improve from 3.30941\n",
      "\n",
      "Epoch 00087: val_loss did not improve from 3.30941\n",
      "\n",
      "Epoch 00088: val_loss did not improve from 3.30941\n",
      "\n",
      "Epoch 00089: val_loss did not improve from 3.30941\n",
      "\n",
      "Epoch 00089: ReduceLROnPlateau reducing learning rate to 0.00016777217388153076.\n",
      "\n",
      "Epoch 00090: val_loss did not improve from 3.30941\n",
      "\n",
      "Epoch 00091: val_loss did not improve from 3.30941\n",
      "\n",
      "Epoch 00092: val_loss did not improve from 3.30941\n",
      "\n",
      "Epoch 00093: val_loss did not improve from 3.30941\n",
      "\n",
      "Epoch 00094: val_loss did not improve from 3.30941\n",
      "\n",
      "Epoch 00094: ReduceLROnPlateau reducing learning rate to 0.00013421773910522462.\n",
      "\n",
      "Epoch 00095: val_loss did not improve from 3.30941\n",
      "\n",
      "Epoch 00096: val_loss did not improve from 3.30941\n",
      "\n",
      "Epoch 00097: val_loss did not improve from 3.30941\n",
      "\n",
      "Epoch 00098: val_loss did not improve from 3.30941\n",
      "\n",
      "Epoch 00099: val_loss did not improve from 3.30941\n",
      "\n",
      "Epoch 00099: ReduceLROnPlateau reducing learning rate to 0.00010737419361248613.\n",
      "\n",
      "Epoch 00100: val_loss did not improve from 3.30941\n"
     ]
    }
   ],
   "source": [
    "hide_code\n",
    "# Train the model\n",
    "multi_history = multi_model.fit(x_train3, y_train3_list, \n",
    "                                validation_data=(x_valid3, y_valid3_list), \n",
    "                                epochs=100, batch_size=64, verbose=0, \n",
    "                                callbacks=[multi_checkpointer, multi_lr_reduction])"
   ]
  },
  {
   "cell_type": "markdown",
   "metadata": {},
   "source": [
    "We should have an accuracy greater than 3% for the first target (letter) and greater than 50% for the second target (background)."
   ]
  },
  {
   "cell_type": "code",
   "execution_count": 120,
   "metadata": {},
   "outputs": [
    {
     "name": "stdout",
     "output_type": "stream",
     "text": [
      "Scores: \n",
      " [4.226035048744896, 2.9441545125209925, 1.2818806554331923, 0.07272727272727272, 0.5272727276339676]\n",
      "First label. Accuracy: 7.27%\n",
      "Second label. Accuracy: 52.73%\n"
     ]
    }
   ],
   "source": [
    "hide_code\n",
    "# Load the model with the best validation accuracy\n",
    "multi_model.load_weights('weights.best.multi.hdf5')\n",
    "# Calculate classification accuracy on the testing set\n",
    "multi_scores = multi_model.evaluate(x_test3, y_test3_list, verbose=0)\n",
    "\n",
    "print(\"Scores: \\n\" , (multi_scores))\n",
    "print(\"First label. Accuracy: %.2f%%\" % (multi_scores[3]*100))\n",
    "print(\"Second label. Accuracy: %.2f%%\" % (multi_scores[4]*100))"
   ]
  },
  {
   "cell_type": "markdown",
   "metadata": {
    "collapsed": true
   },
   "source": [
    "### Grayscaled Images"
   ]
  },
  {
   "cell_type": "code",
   "execution_count": 107,
   "metadata": {},
   "outputs": [],
   "source": [
    "hide_code\n",
    "def gray_multi_model():    \n",
    "    model_input = Input(shape=(32, 32, 1))\n",
    "    x = BatchNormalization()(model_input)\n",
    "    \n",
    "    # TODO: Define a model architecture\n",
    "    x = Conv2D(32, (5, 5), padding='same')(model_input)\n",
    "    x = LeakyReLU(alpha=0.02)(x)\n",
    "    x = MaxPooling2D(pool_size=(2, 2))(x)    \n",
    "    x = Dropout(0.25)(x)\n",
    "    \n",
    "    x = Conv2D(256, (5, 5), padding='same')(x)\n",
    "    x = LeakyReLU(alpha=0.02)(x)\n",
    "    x = MaxPooling2D(pool_size=(2, 2))(x)    \n",
    "    x = Dropout(0.25)(x)\n",
    "              \n",
    "    x = GlobalMaxPooling2D()(x)\n",
    "    \n",
    "    x = Dense(1024)(x)\n",
    "    x = LeakyReLU(alpha=0.02)(x)\n",
    "    x = Dropout(0.25)(x)\n",
    "    \n",
    "    x = Dense(256)(x)\n",
    "    x = LeakyReLU(alpha=0.02)(x)\n",
    "    x = Dropout(0.25)(x)\n",
    "    \n",
    "    y1 = Dense(33, activation='softmax')(x)\n",
    "    y2 = Dense(2, activation='softmax')(x)\n",
    "    \n",
    "    model = Model(inputs=model_input, outputs=[y1, y2])\n",
    "    \n",
    "    # TODO: Compile the model    \n",
    "    model.compile(loss='categorical_crossentropy', optimizer='rmsprop', metrics=['accuracy'])\n",
    "    return model\n",
    "\n",
    "gray_multi_model = gray_multi_model()"
   ]
  },
  {
   "cell_type": "code",
   "execution_count": 108,
   "metadata": {},
   "outputs": [
    {
     "name": "stdout",
     "output_type": "stream",
     "text": [
      "__________________________________________________________________________________________________\n",
      "Layer (type)                    Output Shape         Param #     Connected to                     \n",
      "==================================================================================================\n",
      "input_9 (InputLayer)            (None, 32, 32, 1)    0                                            \n",
      "__________________________________________________________________________________________________\n",
      "conv2d_35 (Conv2D)              (None, 32, 32, 32)   832         input_9[0][0]                    \n",
      "__________________________________________________________________________________________________\n",
      "leaky_re_lu_45 (LeakyReLU)      (None, 32, 32, 32)   0           conv2d_35[0][0]                  \n",
      "__________________________________________________________________________________________________\n",
      "max_pooling2d_35 (MaxPooling2D) (None, 16, 16, 32)   0           leaky_re_lu_45[0][0]             \n",
      "__________________________________________________________________________________________________\n",
      "dropout_65 (Dropout)            (None, 16, 16, 32)   0           max_pooling2d_35[0][0]           \n",
      "__________________________________________________________________________________________________\n",
      "conv2d_36 (Conv2D)              (None, 16, 16, 256)  205056      dropout_65[0][0]                 \n",
      "__________________________________________________________________________________________________\n",
      "leaky_re_lu_46 (LeakyReLU)      (None, 16, 16, 256)  0           conv2d_36[0][0]                  \n",
      "__________________________________________________________________________________________________\n",
      "max_pooling2d_36 (MaxPooling2D) (None, 8, 8, 256)    0           leaky_re_lu_46[0][0]             \n",
      "__________________________________________________________________________________________________\n",
      "dropout_66 (Dropout)            (None, 8, 8, 256)    0           max_pooling2d_36[0][0]           \n",
      "__________________________________________________________________________________________________\n",
      "global_max_pooling2d_18 (Global (None, 256)          0           dropout_66[0][0]                 \n",
      "__________________________________________________________________________________________________\n",
      "dense_56 (Dense)                (None, 1024)         263168      global_max_pooling2d_18[0][0]    \n",
      "__________________________________________________________________________________________________\n",
      "leaky_re_lu_47 (LeakyReLU)      (None, 1024)         0           dense_56[0][0]                   \n",
      "__________________________________________________________________________________________________\n",
      "dropout_67 (Dropout)            (None, 1024)         0           leaky_re_lu_47[0][0]             \n",
      "__________________________________________________________________________________________________\n",
      "dense_57 (Dense)                (None, 256)          262400      dropout_67[0][0]                 \n",
      "__________________________________________________________________________________________________\n",
      "leaky_re_lu_48 (LeakyReLU)      (None, 256)          0           dense_57[0][0]                   \n",
      "__________________________________________________________________________________________________\n",
      "dropout_68 (Dropout)            (None, 256)          0           leaky_re_lu_48[0][0]             \n",
      "__________________________________________________________________________________________________\n",
      "dense_58 (Dense)                (None, 33)           8481        dropout_68[0][0]                 \n",
      "__________________________________________________________________________________________________\n",
      "dense_59 (Dense)                (None, 2)            514         dropout_68[0][0]                 \n",
      "==================================================================================================\n",
      "Total params: 740,451\n",
      "Trainable params: 740,451\n",
      "Non-trainable params: 0\n",
      "__________________________________________________________________________________________________\n"
     ]
    }
   ],
   "source": [
    "hide_code\n",
    "# Display the model architecture\n",
    "gray_multi_model.summary()\n"
   ]
  },
  {
   "cell_type": "code",
   "execution_count": 109,
   "metadata": {},
   "outputs": [],
   "source": [
    "hide_code\n",
    "# Create callbacks\n",
    "gray_multi_checkpointer = ModelCheckpoint(filepath='weights.best.gray_multi.hdf5', \n",
    "                                          verbose=2, save_best_only=True)\n",
    "hide_code\n",
    "# Display the model architecture\n",
    "gray_multi_lr_reduction = ReduceLROnPlateau(monitor='val_loss', \n",
    "                                            patience=10, verbose=2, factor=0.8)"
   ]
  },
  {
   "cell_type": "code",
   "execution_count": 110,
   "metadata": {},
   "outputs": [
    {
     "name": "stdout",
     "output_type": "stream",
     "text": [
      "\n",
      "Epoch 00001: val_loss improved from inf to 4.19105, saving model to weights.best.gray_multi.hdf5\n",
      "\n",
      "Epoch 00002: val_loss improved from 4.19105 to 4.18717, saving model to weights.best.gray_multi.hdf5\n",
      "\n",
      "Epoch 00003: val_loss did not improve from 4.18717\n",
      "\n",
      "Epoch 00004: val_loss did not improve from 4.18717\n",
      "\n",
      "Epoch 00005: val_loss improved from 4.18717 to 4.18072, saving model to weights.best.gray_multi.hdf5\n",
      "\n",
      "Epoch 00006: val_loss did not improve from 4.18072\n",
      "\n",
      "Epoch 00007: val_loss improved from 4.18072 to 4.18071, saving model to weights.best.gray_multi.hdf5\n",
      "\n",
      "Epoch 00008: val_loss improved from 4.18071 to 4.16065, saving model to weights.best.gray_multi.hdf5\n",
      "\n",
      "Epoch 00009: val_loss did not improve from 4.16065\n",
      "\n",
      "Epoch 00010: val_loss improved from 4.16065 to 4.11665, saving model to weights.best.gray_multi.hdf5\n",
      "\n",
      "Epoch 00011: val_loss improved from 4.11665 to 4.10661, saving model to weights.best.gray_multi.hdf5\n",
      "\n",
      "Epoch 00012: val_loss improved from 4.10661 to 4.10513, saving model to weights.best.gray_multi.hdf5\n",
      "\n",
      "Epoch 00013: val_loss did not improve from 4.10513\n",
      "\n",
      "Epoch 00014: val_loss did not improve from 4.10513\n",
      "\n",
      "Epoch 00015: val_loss did not improve from 4.10513\n",
      "\n",
      "Epoch 00016: val_loss did not improve from 4.10513\n",
      "\n",
      "Epoch 00017: val_loss improved from 4.10513 to 4.09313, saving model to weights.best.gray_multi.hdf5\n",
      "\n",
      "Epoch 00018: val_loss improved from 4.09313 to 4.08411, saving model to weights.best.gray_multi.hdf5\n",
      "\n",
      "Epoch 00019: val_loss did not improve from 4.08411\n",
      "\n",
      "Epoch 00020: val_loss did not improve from 4.08411\n",
      "\n",
      "Epoch 00021: val_loss did not improve from 4.08411\n",
      "\n",
      "Epoch 00022: val_loss did not improve from 4.08411\n",
      "\n",
      "Epoch 00023: val_loss did not improve from 4.08411\n",
      "\n",
      "Epoch 00024: val_loss did not improve from 4.08411\n",
      "\n",
      "Epoch 00025: val_loss did not improve from 4.08411\n",
      "\n",
      "Epoch 00026: val_loss improved from 4.08411 to 4.06733, saving model to weights.best.gray_multi.hdf5\n",
      "\n",
      "Epoch 00027: val_loss did not improve from 4.06733\n",
      "\n",
      "Epoch 00028: val_loss did not improve from 4.06733\n",
      "\n",
      "Epoch 00029: val_loss did not improve from 4.06733\n",
      "\n",
      "Epoch 00030: val_loss did not improve from 4.06733\n",
      "\n",
      "Epoch 00031: val_loss did not improve from 4.06733\n",
      "\n",
      "Epoch 00032: val_loss did not improve from 4.06733\n",
      "\n",
      "Epoch 00033: val_loss did not improve from 4.06733\n",
      "\n",
      "Epoch 00034: val_loss did not improve from 4.06733\n",
      "\n",
      "Epoch 00035: val_loss did not improve from 4.06733\n",
      "\n",
      "Epoch 00036: val_loss did not improve from 4.06733\n",
      "\n",
      "Epoch 00036: ReduceLROnPlateau reducing learning rate to 0.000800000037997961.\n",
      "\n",
      "Epoch 00037: val_loss did not improve from 4.06733\n",
      "\n",
      "Epoch 00038: val_loss did not improve from 4.06733\n",
      "\n",
      "Epoch 00039: val_loss did not improve from 4.06733\n",
      "\n",
      "Epoch 00040: val_loss did not improve from 4.06733\n",
      "\n",
      "Epoch 00041: val_loss did not improve from 4.06733\n",
      "\n",
      "Epoch 00042: val_loss did not improve from 4.06733\n",
      "\n",
      "Epoch 00043: val_loss improved from 4.06733 to 4.06624, saving model to weights.best.gray_multi.hdf5\n",
      "\n",
      "Epoch 00044: val_loss did not improve from 4.06624\n",
      "\n",
      "Epoch 00045: val_loss did not improve from 4.06624\n",
      "\n",
      "Epoch 00046: val_loss did not improve from 4.06624\n",
      "\n",
      "Epoch 00047: val_loss did not improve from 4.06624\n",
      "\n",
      "Epoch 00048: val_loss did not improve from 4.06624\n",
      "\n",
      "Epoch 00049: val_loss did not improve from 4.06624\n",
      "\n",
      "Epoch 00050: val_loss did not improve from 4.06624\n",
      "\n",
      "Epoch 00051: val_loss did not improve from 4.06624\n",
      "\n",
      "Epoch 00052: val_loss improved from 4.06624 to 4.05134, saving model to weights.best.gray_multi.hdf5\n",
      "\n",
      "Epoch 00053: val_loss did not improve from 4.05134\n",
      "\n",
      "Epoch 00054: val_loss did not improve from 4.05134\n",
      "\n",
      "Epoch 00055: val_loss did not improve from 4.05134\n",
      "\n",
      "Epoch 00056: val_loss did not improve from 4.05134\n",
      "\n",
      "Epoch 00057: val_loss did not improve from 4.05134\n",
      "\n",
      "Epoch 00058: val_loss did not improve from 4.05134\n",
      "\n",
      "Epoch 00059: val_loss did not improve from 4.05134\n",
      "\n",
      "Epoch 00060: val_loss did not improve from 4.05134\n",
      "\n",
      "Epoch 00061: val_loss did not improve from 4.05134\n",
      "\n",
      "Epoch 00062: val_loss did not improve from 4.05134\n",
      "\n",
      "Epoch 00062: ReduceLROnPlateau reducing learning rate to 0.0006400000303983689.\n",
      "\n",
      "Epoch 00063: val_loss improved from 4.05134 to 4.05088, saving model to weights.best.gray_multi.hdf5\n",
      "\n",
      "Epoch 00064: val_loss did not improve from 4.05088\n",
      "\n",
      "Epoch 00065: val_loss did not improve from 4.05088\n",
      "\n",
      "Epoch 00066: val_loss improved from 4.05088 to 4.04149, saving model to weights.best.gray_multi.hdf5\n",
      "\n",
      "Epoch 00067: val_loss did not improve from 4.04149\n",
      "\n",
      "Epoch 00068: val_loss did not improve from 4.04149\n",
      "\n",
      "Epoch 00069: val_loss did not improve from 4.04149\n",
      "\n",
      "Epoch 00070: val_loss did not improve from 4.04149\n",
      "\n",
      "Epoch 00071: val_loss did not improve from 4.04149\n",
      "\n",
      "Epoch 00072: val_loss improved from 4.04149 to 4.00452, saving model to weights.best.gray_multi.hdf5\n",
      "\n",
      "Epoch 00073: val_loss did not improve from 4.00452\n",
      "\n",
      "Epoch 00074: val_loss did not improve from 4.00452\n",
      "\n",
      "Epoch 00075: val_loss did not improve from 4.00452\n",
      "\n",
      "Epoch 00076: val_loss did not improve from 4.00452\n",
      "\n",
      "Epoch 00077: val_loss improved from 4.00452 to 4.00124, saving model to weights.best.gray_multi.hdf5\n",
      "\n",
      "Epoch 00078: val_loss did not improve from 4.00124\n",
      "\n",
      "Epoch 00079: val_loss improved from 4.00124 to 3.98924, saving model to weights.best.gray_multi.hdf5\n",
      "\n",
      "Epoch 00080: val_loss did not improve from 3.98924\n",
      "\n",
      "Epoch 00081: val_loss did not improve from 3.98924\n",
      "\n",
      "Epoch 00082: val_loss did not improve from 3.98924\n",
      "\n",
      "Epoch 00083: val_loss did not improve from 3.98924\n",
      "\n",
      "Epoch 00084: val_loss improved from 3.98924 to 3.97357, saving model to weights.best.gray_multi.hdf5\n",
      "\n",
      "Epoch 00085: val_loss did not improve from 3.97357\n",
      "\n",
      "Epoch 00086: val_loss did not improve from 3.97357\n",
      "\n",
      "Epoch 00087: val_loss improved from 3.97357 to 3.89358, saving model to weights.best.gray_multi.hdf5\n",
      "\n",
      "Epoch 00088: val_loss did not improve from 3.89358\n",
      "\n",
      "Epoch 00089: val_loss did not improve from 3.89358\n",
      "\n",
      "Epoch 00090: val_loss did not improve from 3.89358\n",
      "\n",
      "Epoch 00091: val_loss did not improve from 3.89358\n",
      "\n",
      "Epoch 00092: val_loss did not improve from 3.89358\n",
      "\n",
      "Epoch 00093: val_loss improved from 3.89358 to 3.86942, saving model to weights.best.gray_multi.hdf5\n",
      "\n",
      "Epoch 00094: val_loss did not improve from 3.86942\n",
      "\n",
      "Epoch 00095: val_loss improved from 3.86942 to 3.79982, saving model to weights.best.gray_multi.hdf5\n",
      "\n",
      "Epoch 00096: val_loss did not improve from 3.79982\n",
      "\n",
      "Epoch 00097: val_loss improved from 3.79982 to 3.74953, saving model to weights.best.gray_multi.hdf5\n",
      "\n",
      "Epoch 00098: val_loss did not improve from 3.74953\n",
      "\n",
      "Epoch 00099: val_loss improved from 3.74953 to 3.73606, saving model to weights.best.gray_multi.hdf5\n",
      "\n",
      "Epoch 00100: val_loss did not improve from 3.73606\n"
     ]
    }
   ],
   "source": [
    "hide_code\n",
    "# Train the model\n",
    "gray_multi_history = gray_multi_model.fit(x_train4, y_train4_list, \n",
    "                                          validation_data=(x_valid4, y_valid4_list), \n",
    "                                          epochs=100, batch_size=64, verbose=0, \n",
    "                                          callbacks=[gray_multi_checkpointer, gray_multi_lr_reduction])"
   ]
  },
  {
   "cell_type": "markdown",
   "metadata": {},
   "source": [
    "We should have an accuracy greater than 3% for the first target (letter) and greater than 50% for the second target (background)."
   ]
  },
  {
   "cell_type": "code",
   "execution_count": 111,
   "metadata": {},
   "outputs": [
    {
     "name": "stdout",
     "output_type": "stream",
     "text": [
      "Scores: \n",
      " [3.863917894074411, 3.276771663896965, 0.5871462684689146, 0.11515151515151516, 0.7636363639976039]\n",
      "First label. Accuracy: 11.52%\n",
      "Second label. Accuracy: 76.36%\n"
     ]
    }
   ],
   "source": [
    "hide_code\n",
    "# Load the model with the best validation accuracy\n",
    "gray_multi_model.load_weights('weights.best.gray_multi.hdf5')\n",
    "# Calculate classification accuracy on the testing set\n",
    "gray_multi_scores = gray_multi_model.evaluate(x_test4, y_test4_list, verbose=0)\n",
    "\n",
    "print(\"Scores: \\n\" , (gray_multi_scores))\n",
    "print(\"First label. Accuracy: %.2f%%\" % (gray_multi_scores[3]*100))\n",
    "print(\"Second label. Accuracy: %.2f%%\" % (gray_multi_scores[4]*100))"
   ]
  },
  {
   "cell_type": "markdown",
   "metadata": {},
   "source": [
    "## Step 6. Keras Applications\n",
    "Choose one of the keras applications and try to reach an accuracy greater than 30%\n",
    "### Color Images"
   ]
  },
  {
   "cell_type": "code",
   "execution_count": 41,
   "metadata": {},
   "outputs": [],
   "source": [
    "hide_code\n",
    "# Create bottleneck features\n",
    "resize_x_train = np.array([scipy.misc.imresize(x_train[i], (48,48,3)) \n",
    "                           for i in range(0, len(x_train))]).astype('float32')\n",
    "resize_x_valid = np.array([scipy.misc.imresize(x_valid[i], (48,48,3)) \n",
    "                           for i in range(0, len(x_valid))]).astype('float32')\n",
    "resize_x_test = np.array([scipy.misc.imresize(x_test[i], (48,48,3)) \n",
    "                          for i in range(0, len(x_test))]).astype('float32')\n",
    "\n",
    "vgg16_x_train = preprocess_input(resize_x_train)\n",
    "vgg16_x_valid = preprocess_input(resize_x_valid)\n",
    "vgg16_x_test = preprocess_input(resize_x_test)\n",
    "\n",
    "vgg16_base_model = VGG16(weights='imagenet', include_top=False)\n",
    "x_train_bn = vgg16_base_model.predict(vgg16_x_train)\n",
    "x_valid_bn = vgg16_base_model.predict(vgg16_x_valid)\n",
    "x_test_bn = vgg16_base_model.predict(vgg16_x_test)"
   ]
  },
  {
   "cell_type": "code",
   "execution_count": 42,
   "metadata": {},
   "outputs": [],
   "source": [
    "hide_code\n",
    "# Save bottleneck features\n",
    "#x_train_bn = np.squeeze(x_train_bn)\n",
    "#x_valid_bn = np.squeeze(x_valid_bn)\n",
    "#x_test_bn = np.squeeze(x_test_bn)\n",
    "\n",
    "np.save('x_train_bn.npy', x_train_bn)\n",
    "np.save('x_valid_bn.npy', x_valid_bn)\n",
    "np.save('x_test_bn.npy', x_test_bn)"
   ]
  },
  {
   "cell_type": "code",
   "execution_count": 43,
   "metadata": {},
   "outputs": [],
   "source": [
    "hide_code\n",
    "# Load bottleneck features\n",
    "x_train_bn = np.load('x_train_bn.npy')\n",
    "x_valid_bn = np.load('x_valid_bn.npy')\n",
    "x_test_bn = np.load('x_test_bn.npy')"
   ]
  },
  {
   "cell_type": "code",
   "execution_count": 121,
   "metadata": {},
   "outputs": [],
   "source": [
    "hide_code\n",
    "def vgg16_model():\n",
    "    model = Sequential()\n",
    "    # TODO: Define a model architecture\n",
    "    \n",
    "    model.add(GlobalAveragePooling2D(input_shape=x_train_bn.shape[1:]))\n",
    "    \n",
    "    model.add(Dense(2048))\n",
    "    model.add(LeakyReLU(alpha=0.02))\n",
    "    model.add(Dropout(0.5))\n",
    "        \n",
    "    model.add(Dense(256))\n",
    "    model.add(LeakyReLU(alpha=0.02))\n",
    "    model.add(Dropout(0.5))\n",
    "    \n",
    "    model.add(Dense(33, activation='softmax'))\n",
    "    # TODO: Compile the model     \n",
    "    model.compile(loss='categorical_crossentropy', optimizer='nadam', metrics=['accuracy'])\n",
    "    return model\n",
    "\n",
    "vgg16_model = vgg16_model()"
   ]
  },
  {
   "cell_type": "code",
   "execution_count": 122,
   "metadata": {},
   "outputs": [],
   "source": [
    "hide_code\n",
    "# Create callbacks\n",
    "vgg16_checkpointer = ModelCheckpoint(filepath='weights.best.vgg16.hdf5', \n",
    "                                     verbose=2, save_best_only=True)\n",
    "\n",
    "vgg16_lr_reduction = ReduceLROnPlateau(monitor='val_loss', \n",
    "                                       patience=10, verbose=2, factor=0.8)"
   ]
  },
  {
   "cell_type": "code",
   "execution_count": 123,
   "metadata": {},
   "outputs": [
    {
     "name": "stdout",
     "output_type": "stream",
     "text": [
      "\n",
      "Epoch 00001: val_loss improved from inf to 14.10678, saving model to weights.best.vgg16.hdf5\n",
      "\n",
      "Epoch 00002: val_loss improved from 14.10678 to 3.62940, saving model to weights.best.vgg16.hdf5\n",
      "\n",
      "Epoch 00003: val_loss improved from 3.62940 to 3.44185, saving model to weights.best.vgg16.hdf5\n",
      "\n",
      "Epoch 00004: val_loss improved from 3.44185 to 3.32207, saving model to weights.best.vgg16.hdf5\n",
      "\n",
      "Epoch 00005: val_loss improved from 3.32207 to 3.30946, saving model to weights.best.vgg16.hdf5\n",
      "\n",
      "Epoch 00006: val_loss improved from 3.30946 to 3.22043, saving model to weights.best.vgg16.hdf5\n",
      "\n",
      "Epoch 00007: val_loss improved from 3.22043 to 3.11375, saving model to weights.best.vgg16.hdf5\n",
      "\n",
      "Epoch 00008: val_loss did not improve from 3.11375\n",
      "\n",
      "Epoch 00009: val_loss improved from 3.11375 to 3.08339, saving model to weights.best.vgg16.hdf5\n",
      "\n",
      "Epoch 00010: val_loss improved from 3.08339 to 3.03836, saving model to weights.best.vgg16.hdf5\n",
      "\n",
      "Epoch 00011: val_loss did not improve from 3.03836\n",
      "\n",
      "Epoch 00012: val_loss did not improve from 3.03836\n",
      "\n",
      "Epoch 00013: val_loss improved from 3.03836 to 2.92337, saving model to weights.best.vgg16.hdf5\n",
      "\n",
      "Epoch 00014: val_loss did not improve from 2.92337\n",
      "\n",
      "Epoch 00015: val_loss improved from 2.92337 to 2.89462, saving model to weights.best.vgg16.hdf5\n",
      "\n",
      "Epoch 00016: val_loss did not improve from 2.89462\n",
      "\n",
      "Epoch 00017: val_loss improved from 2.89462 to 2.80682, saving model to weights.best.vgg16.hdf5\n",
      "\n",
      "Epoch 00018: val_loss improved from 2.80682 to 2.73432, saving model to weights.best.vgg16.hdf5\n",
      "\n",
      "Epoch 00019: val_loss did not improve from 2.73432\n",
      "\n",
      "Epoch 00020: val_loss improved from 2.73432 to 2.70738, saving model to weights.best.vgg16.hdf5\n",
      "\n",
      "Epoch 00021: val_loss did not improve from 2.70738\n",
      "\n",
      "Epoch 00022: val_loss did not improve from 2.70738\n",
      "\n",
      "Epoch 00023: val_loss improved from 2.70738 to 2.68209, saving model to weights.best.vgg16.hdf5\n",
      "\n",
      "Epoch 00024: val_loss did not improve from 2.68209\n",
      "\n",
      "Epoch 00025: val_loss did not improve from 2.68209\n",
      "\n",
      "Epoch 00026: val_loss did not improve from 2.68209\n",
      "\n",
      "Epoch 00027: val_loss did not improve from 2.68209\n",
      "\n",
      "Epoch 00028: val_loss did not improve from 2.68209\n",
      "\n",
      "Epoch 00029: val_loss did not improve from 2.68209\n",
      "\n",
      "Epoch 00030: val_loss improved from 2.68209 to 2.64665, saving model to weights.best.vgg16.hdf5\n",
      "\n",
      "Epoch 00031: val_loss improved from 2.64665 to 2.64352, saving model to weights.best.vgg16.hdf5\n",
      "\n",
      "Epoch 00032: val_loss did not improve from 2.64352\n",
      "\n",
      "Epoch 00033: val_loss did not improve from 2.64352\n",
      "\n",
      "Epoch 00034: val_loss did not improve from 2.64352\n",
      "\n",
      "Epoch 00035: val_loss did not improve from 2.64352\n",
      "\n",
      "Epoch 00036: val_loss did not improve from 2.64352\n",
      "\n",
      "Epoch 00037: val_loss did not improve from 2.64352\n",
      "\n",
      "Epoch 00038: val_loss did not improve from 2.64352\n",
      "\n",
      "Epoch 00039: val_loss did not improve from 2.64352\n",
      "\n",
      "Epoch 00040: val_loss did not improve from 2.64352\n",
      "\n",
      "Epoch 00041: val_loss did not improve from 2.64352\n",
      "\n",
      "Epoch 00041: ReduceLROnPlateau reducing learning rate to 0.001600000075995922.\n",
      "\n",
      "Epoch 00042: val_loss did not improve from 2.64352\n",
      "\n",
      "Epoch 00043: val_loss did not improve from 2.64352\n",
      "\n",
      "Epoch 00044: val_loss did not improve from 2.64352\n",
      "\n",
      "Epoch 00045: val_loss did not improve from 2.64352\n",
      "\n",
      "Epoch 00046: val_loss did not improve from 2.64352\n",
      "\n",
      "Epoch 00047: val_loss did not improve from 2.64352\n",
      "\n",
      "Epoch 00048: val_loss did not improve from 2.64352\n",
      "\n",
      "Epoch 00049: val_loss did not improve from 2.64352\n",
      "\n",
      "Epoch 00050: val_loss did not improve from 2.64352\n"
     ]
    }
   ],
   "source": [
    "hide_code\n",
    "# Fit the model \n",
    "vgg16_history = vgg16_model.fit(x_train_bn, y_train, \n",
    "                                validation_data=(x_valid_bn, y_valid),\n",
    "                                epochs=50, batch_size=128, \n",
    "                                callbacks=[vgg16_checkpointer, \n",
    "                                           vgg16_lr_reduction], \n",
    "                                verbose=0);"
   ]
  },
  {
   "cell_type": "code",
   "execution_count": 124,
   "metadata": {},
   "outputs": [
    {
     "data": {
      "image/png": "[encoded data removed]",
      "text/plain": [
       "<Figure size 1296x864 with 2 Axes>"
      ]
     },
     "metadata": {},
     "output_type": "display_data"
    }
   ],
   "source": [
    "hide_code\n",
    "# Plot the training history\n",
    "history_plot(vgg16_history, 0)"
   ]
  },
  {
   "cell_type": "code",
   "execution_count": 125,
   "metadata": {},
   "outputs": [
    {
     "name": "stdout",
     "output_type": "stream",
     "text": [
      "165/165 [==============================] - 0s 249us/step\n",
      "Accuracy: 30.30%\n"
     ]
    },
    {
     "data": {
      "text/plain": [
       "[2.5976277524774725, 0.30303030375278356]"
      ]
     },
     "execution_count": 125,
     "metadata": {},
     "output_type": "execute_result"
    }
   ],
   "source": [
    "hide_code\n",
    "# Load the model with the best validation accuracy\n",
    "vgg16_model.load_weights('weights.best.vgg16.hdf5')\n",
    "# Calculate classification accuracy on the testing set\n",
    "vgg16_scores = vgg16_model.evaluate(x_test_bn, y_test)\n",
    "print(\"Accuracy: %.2f%%\" % (vgg16_scores[1]*100))\n",
    "vgg16_scores"
   ]
  },
  {
   "cell_type": "markdown",
   "metadata": {},
   "source": [
    "### Grayscaled Images"
   ]
  },
  {
   "cell_type": "code",
   "execution_count": 126,
   "metadata": {},
   "outputs": [],
   "source": [
    "hide_code\n",
    "# Create bottleneck features\n",
    "resize_x_train2 = np.array([scipy.misc.imresize(x_train2_color[i], (48,48,3)) \n",
    "                            for i in range(0, len(x_train2_color))]).astype('float32')\n",
    "resize_x_valid2 = np.array([scipy.misc.imresize(x_valid2_color[i], (48,48,3)) \n",
    "                            for i in range(0, len(x_valid2_color))]).astype('float32')\n",
    "resize_x_test2 = np.array([scipy.misc.imresize(x_test2_color[i], (48,48,3)) \n",
    "                           for i in range(0, len(x_test2_color))]).astype('float32')\n",
    "\n",
    "vgg16_x_train2 = preprocess_input(resize_x_train2)\n",
    "vgg16_x_valid2 = preprocess_input(resize_x_valid2)\n",
    "vgg16_x_test2 = preprocess_input(resize_x_test2)\n",
    "\n",
    "vgg16_base_model2 = VGG16(weights='imagenet', include_top=False)\n",
    "x_train_bn2 = vgg16_base_model2.predict(vgg16_x_train2)\n",
    "x_valid_bn2 = vgg16_base_model2.predict(vgg16_x_valid2)\n",
    "x_test_bn2 = vgg16_base_model2.predict(vgg16_x_test2)"
   ]
  },
  {
   "cell_type": "code",
   "execution_count": 127,
   "metadata": {},
   "outputs": [],
   "source": [
    "hide_code\n",
    "# Save bottleneck features\n",
    "#x_train_bn2 = np.squeeze(x_train_bn2)\n",
    "#x_valid_bn2 = np.squeeze(x_valid_bn2)\n",
    "#x_test_bn2 = np.squeeze(x_test_bn2)\n",
    "\n",
    "np.save('x_train_bn2.npy', x_train_bn2)\n",
    "np.save('x_valid_bn2.npy', x_valid_bn2)\n",
    "np.save('x_test_bn2.npy', x_test_bn2)"
   ]
  },
  {
   "cell_type": "code",
   "execution_count": 128,
   "metadata": {},
   "outputs": [],
   "source": [
    "hide_code\n",
    "# Load bottleneck features\n",
    "x_train_bn2 = np.load('x_train_bn2.npy')\n",
    "x_valid_bn2 = np.load('x_valid_bn2.npy')\n",
    "x_test_bn2 = np.load('x_test_bn2.npy')"
   ]
  },
  {
   "cell_type": "code",
   "execution_count": 271,
   "metadata": {},
   "outputs": [],
   "source": [
    "hide_code\n",
    "def vgg16_gray_model():\n",
    "    model = Sequential()\n",
    "    \n",
    "    # TODO: Define a model architecture\n",
    "    model.add(GlobalAveragePooling2D(input_shape=x_train_bn2.shape[1:]))\n",
    "    \n",
    "    model.add(Dense(2048))\n",
    "    model.add(LeakyReLU(alpha=0.01))    \n",
    "    model.add(Dropout(0.5))\n",
    "        \n",
    "    model.add(Dense(256))\n",
    "    model.add(LeakyReLU(alpha=0.01))\n",
    "    model.add(Dropout(0.5))\n",
    "    \n",
    "    model.add(Dense(33, activation='softmax'))\n",
    "    \n",
    "    # TODO: Compile the model     \n",
    "    model.compile(loss='categorical_crossentropy', optimizer='rmsprop', metrics=['accuracy'])\n",
    "    return model\n",
    "\n",
    "vgg16_gray_model = vgg16_gray_model()"
   ]
  },
  {
   "cell_type": "code",
   "execution_count": 272,
   "metadata": {},
   "outputs": [],
   "source": [
    "hide_code\n",
    "# Create callbacks\n",
    "vgg16_gray_checkpointer = ModelCheckpoint(filepath='weights.best.vgg16_gray.hdf5', \n",
    "                                          verbose=2, save_best_only=True)\n",
    "vgg16_gray_lr_reduction = ReduceLROnPlateau(monitor='val_loss', \n",
    "                                            patience=5, verbose=2, factor=0.5)"
   ]
  },
  {
   "cell_type": "code",
   "execution_count": 273,
   "metadata": {
    "scrolled": false
   },
   "outputs": [
    {
     "name": "stdout",
     "output_type": "stream",
     "text": [
      "\n",
      "Epoch 00001: val_loss improved from inf to 14.83743, saving model to weights.best.vgg16_gray.hdf5\n",
      "\n",
      "Epoch 00002: val_loss improved from 14.83743 to 14.01758, saving model to weights.best.vgg16_gray.hdf5\n",
      "\n",
      "Epoch 00003: val_loss did not improve from 14.01758\n",
      "\n",
      "Epoch 00004: val_loss did not improve from 14.01758\n",
      "\n",
      "Epoch 00005: val_loss did not improve from 14.01758\n",
      "\n",
      "Epoch 00006: val_loss improved from 14.01758 to 13.06060, saving model to weights.best.vgg16_gray.hdf5\n",
      "\n",
      "Epoch 00007: val_loss did not improve from 13.06060\n",
      "\n",
      "Epoch 00008: val_loss improved from 13.06060 to 8.65411, saving model to weights.best.vgg16_gray.hdf5\n",
      "\n",
      "Epoch 00009: val_loss improved from 8.65411 to 3.34193, saving model to weights.best.vgg16_gray.hdf5\n",
      "\n",
      "Epoch 00010: val_loss did not improve from 3.34193\n",
      "\n",
      "Epoch 00011: val_loss improved from 3.34193 to 3.30323, saving model to weights.best.vgg16_gray.hdf5\n",
      "\n",
      "Epoch 00012: val_loss did not improve from 3.30323\n",
      "\n",
      "Epoch 00013: val_loss did not improve from 3.30323\n",
      "\n",
      "Epoch 00014: val_loss improved from 3.30323 to 3.29750, saving model to weights.best.vgg16_gray.hdf5\n",
      "\n",
      "Epoch 00015: val_loss improved from 3.29750 to 3.22140, saving model to weights.best.vgg16_gray.hdf5\n",
      "\n",
      "Epoch 00016: val_loss improved from 3.22140 to 3.20754, saving model to weights.best.vgg16_gray.hdf5\n",
      "\n",
      "Epoch 00017: val_loss improved from 3.20754 to 3.15668, saving model to weights.best.vgg16_gray.hdf5\n",
      "\n",
      "Epoch 00018: val_loss did not improve from 3.15668\n",
      "\n",
      "Epoch 00019: val_loss improved from 3.15668 to 3.10422, saving model to weights.best.vgg16_gray.hdf5\n",
      "\n",
      "Epoch 00020: val_loss did not improve from 3.10422\n",
      "\n",
      "Epoch 00021: val_loss did not improve from 3.10422\n",
      "\n",
      "Epoch 00022: val_loss improved from 3.10422 to 3.04826, saving model to weights.best.vgg16_gray.hdf5\n",
      "\n",
      "Epoch 00023: val_loss improved from 3.04826 to 2.98757, saving model to weights.best.vgg16_gray.hdf5\n",
      "\n",
      "Epoch 00024: val_loss did not improve from 2.98757\n",
      "\n",
      "Epoch 00025: val_loss did not improve from 2.98757\n",
      "\n",
      "Epoch 00026: val_loss did not improve from 2.98757\n",
      "\n",
      "Epoch 00027: val_loss did not improve from 2.98757\n",
      "\n",
      "Epoch 00028: val_loss did not improve from 2.98757\n",
      "\n",
      "Epoch 00028: ReduceLROnPlateau reducing learning rate to 0.0005000000237487257.\n",
      "\n",
      "Epoch 00029: val_loss did not improve from 2.98757\n",
      "\n",
      "Epoch 00030: val_loss improved from 2.98757 to 2.97349, saving model to weights.best.vgg16_gray.hdf5\n",
      "\n",
      "Epoch 00031: val_loss did not improve from 2.97349\n",
      "\n",
      "Epoch 00032: val_loss did not improve from 2.97349\n",
      "\n",
      "Epoch 00033: val_loss improved from 2.97349 to 2.96232, saving model to weights.best.vgg16_gray.hdf5\n",
      "\n",
      "Epoch 00034: val_loss improved from 2.96232 to 2.94605, saving model to weights.best.vgg16_gray.hdf5\n",
      "\n",
      "Epoch 00035: val_loss improved from 2.94605 to 2.92478, saving model to weights.best.vgg16_gray.hdf5\n",
      "\n",
      "Epoch 00036: val_loss did not improve from 2.92478\n",
      "\n",
      "Epoch 00037: val_loss did not improve from 2.92478\n",
      "\n",
      "Epoch 00038: val_loss did not improve from 2.92478\n",
      "\n",
      "Epoch 00039: val_loss did not improve from 2.92478\n",
      "\n",
      "Epoch 00040: val_loss did not improve from 2.92478\n",
      "\n",
      "Epoch 00040: ReduceLROnPlateau reducing learning rate to 0.0002500000118743628.\n",
      "\n",
      "Epoch 00041: val_loss did not improve from 2.92478\n",
      "\n",
      "Epoch 00042: val_loss did not improve from 2.92478\n",
      "\n",
      "Epoch 00043: val_loss did not improve from 2.92478\n",
      "\n",
      "Epoch 00044: val_loss did not improve from 2.92478\n",
      "\n",
      "Epoch 00045: val_loss did not improve from 2.92478\n",
      "\n",
      "Epoch 00045: ReduceLROnPlateau reducing learning rate to 0.0001250000059371814.\n",
      "\n",
      "Epoch 00046: val_loss did not improve from 2.92478\n",
      "\n",
      "Epoch 00047: val_loss did not improve from 2.92478\n",
      "\n",
      "Epoch 00048: val_loss did not improve from 2.92478\n",
      "\n",
      "Epoch 00049: val_loss did not improve from 2.92478\n",
      "\n",
      "Epoch 00050: val_loss did not improve from 2.92478\n",
      "\n",
      "Epoch 00050: ReduceLROnPlateau reducing learning rate to 6.25000029685907e-05.\n"
     ]
    }
   ],
   "source": [
    "hide_code\n",
    "# Fit the model \n",
    "vgg16_gray_history = vgg16_gray_model.fit(x_train_bn2, y_train2, \n",
    "                                          validation_data=(x_valid_bn2, y_valid2),\n",
    "                                          epochs=50, batch_size=100, \n",
    "                                          callbacks=[vgg16_gray_checkpointer, \n",
    "                                                     vgg16_gray_lr_reduction], \n",
    "                                          verbose=0);"
   ]
  },
  {
   "cell_type": "code",
   "execution_count": 274,
   "metadata": {},
   "outputs": [
    {
     "data": {
      "image/png": "[encoded data removed]",
      "text/plain": [
       "<Figure size 1296x864 with 2 Axes>"
      ]
     },
     "metadata": {},
     "output_type": "display_data"
    }
   ],
   "source": [
    "hide_code\n",
    "# Plot the training history\n",
    "history_plot(vgg16_gray_history, 0)"
   ]
  },
  {
   "cell_type": "code",
   "execution_count": 275,
   "metadata": {},
   "outputs": [
    {
     "name": "stdout",
     "output_type": "stream",
     "text": [
      "165/165 [==============================] - 0s 334us/step\n",
      "Accuracy: 31.52%\n"
     ]
    },
    {
     "data": {
      "text/plain": [
       "[2.7147346727775803, 0.31515151551275544]"
      ]
     },
     "execution_count": 275,
     "metadata": {},
     "output_type": "execute_result"
    }
   ],
   "source": [
    "hide_code\n",
    "# Load the model with the best validation accuracy\n",
    "vgg16_gray_model.load_weights('weights.best.vgg16_gray.hdf5')\n",
    "# Calculate classification accuracy on the testing set\n",
    "vgg16_gray_scores = vgg16_gray_model.evaluate(x_test_bn2, y_test2)\n",
    "print(\"Accuracy: %.2f%%\" % (vgg16_gray_scores[1]*100))\n",
    "vgg16_gray_scores"
   ]
  },
  {
   "cell_type": "markdown",
   "metadata": {},
   "source": [
    "## Step 7. Predictions\n",
    "Display predictions for the models with the best accuracy.\n",
    "### Color Images"
   ]
  },
  {
   "cell_type": "code",
   "execution_count": 108,
   "metadata": {},
   "outputs": [],
   "source": [
    "hide_code\n",
    "# Create a list of symbols\n",
    "symbols = ['а','б','в','г','д','е','ё','ж','з','и','й',\n",
    "           'к','л','м','н','о','п','р','с','т','у','ф',\n",
    "           'х','ц','ч','ш','щ','ъ','ы','ь','э','ю','я']"
   ]
  },
  {
   "cell_type": "code",
   "execution_count": 110,
   "metadata": {},
   "outputs": [],
   "source": [
    "hide_code\n",
    "# Model predictions for the testing dataset\n",
    "y_test_predict = model.predict_classes(x_test)"
   ]
  },
  {
   "cell_type": "code",
   "execution_count": 111,
   "metadata": {},
   "outputs": [
    {
     "data": {
      "image/png": "[encoded data removed]",
      "text/plain": [
       "<Figure size 1296x1296 with 16 Axes>"
      ]
     },
     "metadata": {},
     "output_type": "display_data"
    }
   ],
   "source": [
    "hide_code\n",
    "# Display true labels and predictions\n",
    "fig = plt.figure(figsize=(18, 18))\n",
    "for i, idx in enumerate(np.random.choice(x_test.shape[0], size=16, replace=False)):\n",
    "    ax = fig.add_subplot(4, 4, i + 1, xticks=[], yticks=[])\n",
    "    ax.imshow(np.squeeze(x_test[idx]))\n",
    "    pred_idx = y_test_predict[idx]\n",
    "    true_idx = np.argmax(y_test[idx])\n",
    "    ax.set_title(\"{} ({})\".format(symbols[pred_idx], symbols[true_idx]),\n",
    "                 color=(\"#4876ff\" if pred_idx == true_idx else \"darkred\"))"
   ]
  },
  {
   "cell_type": "markdown",
   "metadata": {},
   "source": [
    "### Grayscaled Images"
   ]
  },
  {
   "cell_type": "code",
   "execution_count": 112,
   "metadata": {},
   "outputs": [],
   "source": [
    "hide_code\n",
    "# Model predictions for the testing dataset\n",
    "y_test2_predict = gray_model.predict_classes(x_test2)"
   ]
  },
  {
   "cell_type": "code",
   "execution_count": 113,
   "metadata": {},
   "outputs": [
    {
     "data": {
      "image/png": "[encoded data removed]",
      "text/plain": [
       "<Figure size 1296x1296 with 16 Axes>"
      ]
     },
     "metadata": {},
     "output_type": "display_data"
    }
   ],
   "source": [
    "hide_code\n",
    "# Display true labels and predictions\n",
    "fig = plt.figure(figsize=(18, 18))\n",
    "for i, idx in enumerate(np.random.choice(x_test2.shape[0], size=16, replace=False)):\n",
    "    ax = fig.add_subplot(4, 4, i + 1, xticks=[], yticks=[])\n",
    "    ax.imshow(np.squeeze(x_test2[idx]), cmap=cm.bone)\n",
    "    pred_idx = y_test2_predict[idx]\n",
    "    true_idx = np.argmax(y_test2[idx])\n",
    "    ax.set_title(\"{} ({})\".format(symbols[pred_idx], symbols[true_idx]),\n",
    "                 color=(\"#4876ff\" if pred_idx == true_idx else \"darkred\"))"
   ]
  }
 ],
 "metadata": {
  "kernelspec": {
   "display_name": "Python 3",
   "language": "python",
   "name": "python3"
  },
  "language_info": {
   "codemirror_mode": {
    "name": "ipython",
    "version": 3
   },
   "file_extension": ".py",
   "mimetype": "text/x-python",
   "name": "python",
   "nbconvert_exporter": "python",
   "pygments_lexer": "ipython3",
   "version": "3.6.4"
  }
 },
 "nbformat": 4,
 "nbformat_minor": 2
}
