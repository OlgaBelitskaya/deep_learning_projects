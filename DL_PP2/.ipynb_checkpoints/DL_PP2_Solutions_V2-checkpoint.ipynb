{
 "cells": [
  {
   "cell_type": "markdown",
   "metadata": {},
   "source": [
    "# Deep Learning\n",
    "## Practice Projects\n",
    "# P2: Multi-Label Classification\n",
    "\n",
    "## Step 0. Style and Libraries\n",
    "Let's choose a style of the Jupyter notebook and import the software libraries. The command hide_code will hide the code cells."
   ]
  },
  {
   "cell_type": "code",
   "execution_count": 4,
   "metadata": {},
   "outputs": [
    {
     "data": {
      "text/html": [
       "<style>\n",
       "@import url('https://fonts.googleapis.com/css?family=Orbitron|Roboto');\n",
       "body {background-color: aliceblue;} \n",
       "a {color: #4876ff; font-family: 'Roboto';} \n",
       "h1 {color: #348ABD; font-family: 'Orbitron'; text-shadow: 4px 4px 4px #ccc;} \n",
       "h2, h3 {color: slategray; font-family: 'Roboto'; text-shadow: 4px 4px 4px #ccc;}\n",
       "h4 {color: #348ABD; font-family: 'Orbitron';}\n",
       "span {text-shadow: 4px 4px 4px #ccc;}\n",
       "div.output_prompt, div.output_area pre {color: slategray;}\n",
       "div.input_prompt, div.output_subarea {color: #4876ff;}      \n",
       "div.output_stderr pre {background-color: aliceblue;}  \n",
       "div.output_stderr {background-color: slategrey;}                        \n",
       "</style>\n",
       "<script>\n",
       "code_show = true; \n",
       "function code_display() {\n",
       "    if (code_show) {\n",
       "        $('div.input').each(function(id) {\n",
       "            if (id == 0 || $(this).html().indexOf('hide_code') > -1) {$(this).hide();}\n",
       "        });\n",
       "        $('div.output_prompt').css('opacity', 0);\n",
       "    } else {\n",
       "        $('div.input').each(function(id) {$(this).show();});\n",
       "        $('div.output_prompt').css('opacity', 1);\n",
       "    };\n",
       "    code_show = !code_show;\n",
       "} \n",
       "$(document).ready(code_display);\n",
       "</script>\n",
       "<form action=\"javascript: code_display()\">\n",
       "<input style=\"color: #348ABD; background: aliceblue; opacity: 0.8;\" \\ \n",
       "type=\"submit\" value=\"Click to display or hide code cells\">\n",
       "</form>                  "
      ],
      "text/plain": [
       "<IPython.core.display.HTML object>"
      ]
     },
     "metadata": {},
     "output_type": "display_data"
    }
   ],
   "source": [
    "%%html\n",
    "<style>\n",
    "@import url('https://fonts.googleapis.com/css?family=Orbitron|Roboto');\n",
    "body {background-color: aliceblue;} \n",
    "a {color: #4876ff; font-family: 'Roboto';} \n",
    "h1 {color: #348ABD; font-family: 'Orbitron'; text-shadow: 4px 4px 4px #ccc;} \n",
    "h2, h3 {color: slategray; font-family: 'Roboto'; text-shadow: 4px 4px 4px #ccc;}\n",
    "h4 {color: #348ABD; font-family: 'Orbitron';}\n",
    "span {text-shadow: 4px 4px 4px #ccc;}\n",
    "div.output_prompt, div.output_area pre {color: slategray;}\n",
    "div.input_prompt, div.output_subarea {color: #4876ff;}      \n",
    "div.output_stderr pre {background-color: aliceblue;}  \n",
    "div.output_stderr {background-color: slategrey;}                        \n",
    "</style>\n",
    "<script>\n",
    "code_show = true; \n",
    "function code_display() {\n",
    "    if (code_show) {\n",
    "        $('div.input').each(function(id) {\n",
    "            if (id == 0 || $(this).html().indexOf('hide_code') > -1) {$(this).hide();}\n",
    "        });\n",
    "        $('div.output_prompt').css('opacity', 0);\n",
    "    } else {\n",
    "        $('div.input').each(function(id) {$(this).show();});\n",
    "        $('div.output_prompt').css('opacity', 1);\n",
    "    };\n",
    "    code_show = !code_show;\n",
    "} \n",
    "$(document).ready(code_display);\n",
    "</script>\n",
    "<form action=\"javascript: code_display()\">\n",
    "<input style=\"color: #348ABD; background: aliceblue; opacity: 0.8;\" \\ \n",
    "type=\"submit\" value=\"Click to display or hide code cells\">\n",
    "</form>                  "
   ]
  },
  {
   "cell_type": "code",
   "execution_count": 36,
   "metadata": {},
   "outputs": [],
   "source": [
    "hide_code = ''\n",
    "import numpy as np \n",
    "import pandas as pd\n",
    "import tensorflow as tf\n",
    "\n",
    "from PIL import ImageFile\n",
    "from tqdm import tqdm\n",
    "import h5py\n",
    "import cv2\n",
    "\n",
    "import matplotlib.pylab as plt\n",
    "from matplotlib import cm\n",
    "%matplotlib inline\n",
    "\n",
    "import warnings\n",
    "warnings.filterwarnings(\"ignore\", category=UserWarning)\n",
    "warnings.filterwarnings(\"ignore\",category=DeprecationWarning)\n",
    "\n",
    "from sklearn.model_selection import train_test_split\n",
    "from sklearn.ensemble import GradientBoostingClassifier, RandomForestClassifier\n",
    "\n",
    "from keras.utils import to_categorical\n",
    "from keras.preprocessing import image as keras_image\n",
    "from keras.callbacks import ModelCheckpoint, EarlyStopping, ReduceLROnPlateau\n",
    "from keras.preprocessing.image import ImageDataGenerator\n",
    "\n",
    "from keras.models import Sequential, load_model, Model\n",
    "from keras.layers import Input, BatchNormalization\n",
    "from keras.layers import Dense, LSTM, GlobalAveragePooling1D, GlobalAveragePooling2D\n",
    "from keras.layers import Activation, Flatten, Dropout, BatchNormalization\n",
    "from keras.layers import Conv2D, MaxPooling2D, GlobalMaxPooling2D\n",
    "from keras.layers.advanced_activations import PReLU, LeakyReLU\n",
    "\n",
    "from keras.applications.vgg16 import VGG16, preprocess_input\n",
    "import scipy\n",
    "from scipy import misc"
   ]
  },
  {
   "cell_type": "code",
   "execution_count": 2,
   "metadata": {},
   "outputs": [],
   "source": [
    "hide_code\n",
    "# Plot the neural network fitting history\n",
    "def history_plot(fit_history, n):\n",
    "    plt.figure(figsize=(18, 12))\n",
    "    \n",
    "    plt.subplot(211)\n",
    "    plt.plot(fit_history.history['loss'][n:], color='slategray', label = 'train')\n",
    "    plt.plot(fit_history.history['val_loss'][n:], color='#4876ff', label = 'valid')\n",
    "    plt.xlabel(\"Epochs\")\n",
    "    plt.ylabel(\"Loss\")\n",
    "    plt.legend()\n",
    "    plt.title('Loss Function');  \n",
    "    \n",
    "    plt.subplot(212)\n",
    "    plt.plot(fit_history.history['acc'][n:], color='slategray', label = 'train')\n",
    "    plt.plot(fit_history.history['val_acc'][n:], color='#4876ff', label = 'valid')\n",
    "    plt.xlabel(\"Epochs\")\n",
    "    plt.ylabel(\"Accuracy\")    \n",
    "    plt.legend()\n",
    "    plt.title('Accuracy');"
   ]
  },
  {
   "cell_type": "markdown",
   "metadata": {},
   "source": [
    "## Step 1. Load and Explore the Data\n",
    "For this project, I have created two datasets of color images (32x32x3) with 33 handwritten letters.\n",
    "\n",
    "\n",
    "Run the following cells to download the data."
   ]
  },
  {
   "cell_type": "code",
   "execution_count": 3,
   "metadata": {},
   "outputs": [],
   "source": [
    "hide_code\n",
    "# Function for processing an image\n",
    "def image_to_tensor(img_path, folder_path):\n",
    "    img = keras_image.load_img(folder_path + img_path, target_size=(32, 32))\n",
    "    x = keras_image.img_to_array(img)\n",
    "    return np.expand_dims(x, axis=0)\n",
    "# Function for creating the data tensor\n",
    "def data_to_tensor(img_paths, folder_path):\n",
    "    list_of_tensors = [image_to_tensor(img_path, folder_path) for img_path in tqdm(img_paths)]\n",
    "    return np.vstack(list_of_tensors)\n",
    "ImageFile.LOAD_TRUNCATED_IMAGES = True "
   ]
  },
  {
   "cell_type": "code",
   "execution_count": 4,
   "metadata": {},
   "outputs": [
    {
     "name": "stderr",
     "output_type": "stream",
     "text": [
      "100%|██████████| 1650/1650 [00:30<00:00, 54.82it/s]\n"
     ]
    }
   ],
   "source": [
    "hide_code\n",
    "# Load the dataset #1\n",
    "data = pd.read_csv(\"data/letters.csv\")\n",
    "files = data['file']\n",
    "letters = data['letter']\n",
    "backgrounds = data['background'].values\n",
    "targets = data['label'].values\n",
    "tensors = data_to_tensor(files, \"data/\");"
   ]
  },
  {
   "cell_type": "code",
   "execution_count": 5,
   "metadata": {},
   "outputs": [
    {
     "name": "stderr",
     "output_type": "stream",
     "text": [
      "100%|██████████| 5940/5940 [02:14<00:00, 44.20it/s]\n"
     ]
    }
   ],
   "source": [
    "hide_code\n",
    "# Load the dataset #2\n",
    "data2 = pd.read_csv(\"data2/letters2.csv\")\n",
    "files2 = data2['file']\n",
    "letters2 = data2['letter']\n",
    "backgrounds2 = data2['background'].values\n",
    "targets2 = data2['label'].values\n",
    "tensors2 = data_to_tensor(files2, \"data2/\");"
   ]
  },
  {
   "cell_type": "code",
   "execution_count": 6,
   "metadata": {},
   "outputs": [
    {
     "name": "stderr",
     "output_type": "stream",
     "text": [
      "100%|██████████| 6600/6600 [02:36<00:00, 42.14it/s]\n"
     ]
    }
   ],
   "source": [
    "hide_code\n",
    "# Load the dataset #3\n",
    "data3 = pd.read_csv(\"data3/letters3.csv\")\n",
    "files3 = data3['file']\n",
    "letters3 = data3['letter']\n",
    "backgrounds3 = data3['background'].values\n",
    "targets3 = data3['label'].values\n",
    "tensors3 = data_to_tensor(files3, \"data3/\");"
   ]
  },
  {
   "cell_type": "code",
   "execution_count": 7,
   "metadata": {},
   "outputs": [
    {
     "name": "stdout",
     "output_type": "stream",
     "text": [
      "Tensor #1 shape: (1650, 32, 32, 3)\n",
      "Target #1 shape (1650,)\n",
      "Tensor #2 shape: (5940, 32, 32, 3)\n",
      "Target #2 shape (5940,)\n",
      "Tensor #3 shape: (6600, 32, 32, 3)\n",
      "Target #3 shape (6600,)\n"
     ]
    }
   ],
   "source": [
    "hide_code\n",
    "# Print the shape \n",
    "print ('Tensor #1 shape:', tensors.shape)\n",
    "print ('Target #1 shape', targets.shape)\n",
    "print ('Tensor #2 shape:', tensors2.shape)\n",
    "print ('Target #2 shape', targets2.shape)\n",
    "print ('Tensor #3 shape:', tensors3.shape)\n",
    "print ('Target #3 shape', targets3.shape)"
   ]
  },
  {
   "cell_type": "code",
   "execution_count": 8,
   "metadata": {},
   "outputs": [
    {
     "name": "stdout",
     "output_type": "stream",
     "text": [
      "Tensor shape: (7590, 32, 32, 3)\n",
      "Target shape (7590,)\n",
      "Background shape: (7590,)\n"
     ]
    }
   ],
   "source": [
    "hide_code\n",
    "# Concatenate arrays\n",
    "tensors = np.concatenate((tensors, tensors2), axis=0)\n",
    "targets = np.concatenate((targets, targets2), axis=0)\n",
    "backgrounds = np.concatenate((backgrounds, backgrounds2), axis=0)\n",
    "print ('Tensor shape:', tensors.shape)\n",
    "print ('Target shape', targets.shape)\n",
    "print ('Background shape:', backgrounds.shape)"
   ]
  },
  {
   "cell_type": "code",
   "execution_count": 9,
   "metadata": {},
   "outputs": [
    {
     "name": "stdout",
     "output_type": "stream",
     "text": [
      "Tensor shape: (14190, 32, 32, 3)\n",
      "Target shape (14190,)\n",
      "Background shape: (14190,)\n"
     ]
    }
   ],
   "source": [
    "hide_code\n",
    "# Concatenate arrays\n",
    "tensors = np.concatenate((tensors, tensors3), axis=0)\n",
    "targets = np.concatenate((targets, targets3), axis=0)\n",
    "backgrounds = np.concatenate((backgrounds, backgrounds3), axis=0)\n",
    "print ('Tensor shape:', tensors.shape)\n",
    "print ('Target shape', targets.shape)\n",
    "print ('Background shape:', backgrounds.shape)"
   ]
  },
  {
   "cell_type": "code",
   "execution_count": 10,
   "metadata": {},
   "outputs": [
    {
     "data": {
      "text/plain": [
       "14190"
      ]
     },
     "execution_count": 10,
     "metadata": {},
     "output_type": "execute_result"
    }
   ],
   "source": [
    "hide_code\n",
    "# Concatenate series\n",
    "letters = pd.concat((letters, letters2), axis=0, ignore_index=True)\n",
    "letters = pd.concat((letters, letters3), axis=0, ignore_index=True)\n",
    "len(letters)"
   ]
  },
  {
   "cell_type": "code",
   "execution_count": 11,
   "metadata": {},
   "outputs": [
    {
     "data": {
      "image/png": "[encoded data removed]",
      "text/plain": [
       "<Figure size 1296x432 with 12 Axes>"
      ]
     },
     "metadata": {},
     "output_type": "display_data"
    }
   ],
   "source": [
    "hide_code\n",
    "# Read from files and display images using OpenCV\n",
    "def display_images(img_path, ax):\n",
    "    img = cv2.imread(\"data2/\" + img_path)\n",
    "    ax.imshow(cv2.cvtColor(img, cv2.COLOR_BGR2RGB))\n",
    "    \n",
    "fig = plt.figure(figsize=(18, 6))\n",
    "for i in range(12):\n",
    "    ax = fig.add_subplot(2, 6, i + 1, xticks=[], yticks=[], title=letters2[i*180])\n",
    "    display_images(files2[i*180], ax)"
   ]
  },
  {
   "cell_type": "code",
   "execution_count": 12,
   "metadata": {},
   "outputs": [
    {
     "data": {
      "image/png": "[encoded data removed]",
      "text/plain": [
       "<Figure size 1296x432 with 12 Axes>"
      ]
     },
     "metadata": {},
     "output_type": "display_data"
    }
   ],
   "source": [
    "hide_code\n",
    "# Read from files and display images using OpenCV\n",
    "def display_images(img_path, ax):\n",
    "    img = cv2.imread(\"data3/\" + img_path)\n",
    "    ax.imshow(cv2.cvtColor(img, cv2.COLOR_BGR2RGB))\n",
    "    \n",
    "fig = plt.figure(figsize=(18, 6))\n",
    "for i in range(12):\n",
    "    ax = fig.add_subplot(2, 6, i + 1, xticks=[], yticks=[], title=letters3[i*200])\n",
    "    display_images(files3[i*200], ax)"
   ]
  },
  {
   "cell_type": "markdown",
   "metadata": {},
   "source": [
    "## Step 2. Save and Load the Data\n",
    "The data tensors can be saved in the appropriate format of files .h5."
   ]
  },
  {
   "cell_type": "code",
   "execution_count": 15,
   "metadata": {},
   "outputs": [],
   "source": [
    "hide_code\n",
    "# Create the tensor file\n",
    "with h5py.File('LetterColorImages_123.h5', 'w') as f:\n",
    "    f.create_dataset('images', data = tensors)\n",
    "    f.create_dataset('labels', data = targets)\n",
    "    f.create_dataset('backgrounds', data = backgrounds)\n",
    "    f.close()"
   ]
  },
  {
   "cell_type": "code",
   "execution_count": 16,
   "metadata": {},
   "outputs": [],
   "source": [
    "hide_code\n",
    "# Create the tensor file\n",
    "with h5py.File('LetterColorImages3.h5', 'w') as f:\n",
    "    f.create_dataset('images', data = tensors3)\n",
    "    f.create_dataset('labels', data = targets3)\n",
    "    f.create_dataset('backgrounds', data = backgrounds3)\n",
    "    f.close()"
   ]
  },
  {
   "cell_type": "code",
   "execution_count": 17,
   "metadata": {},
   "outputs": [
    {
     "data": {
      "text/plain": [
       "['backgrounds', 'images', 'labels']"
      ]
     },
     "execution_count": 17,
     "metadata": {},
     "output_type": "execute_result"
    }
   ],
   "source": [
    "hide_code\n",
    "# Read the h5 file\n",
    "f = h5py.File('LetterColorImages_123.h5', 'r')\n",
    "\n",
    "# List all groups\n",
    "keys = list(f.keys())\n",
    "keys"
   ]
  },
  {
   "cell_type": "code",
   "execution_count": 18,
   "metadata": {},
   "outputs": [
    {
     "name": "stdout",
     "output_type": "stream",
     "text": [
      "Tensor shape: (14190, 32, 32, 3)\n",
      "Target shape (14190,)\n",
      "Background shape: (14190,)\n"
     ]
    }
   ],
   "source": [
    "hide_code\n",
    "# Create tensors and targets\n",
    "backgrounds = np.array(f[keys[0]])\n",
    "tensors = np.array(f[keys[1]])\n",
    "targets = np.array(f[keys[2]])\n",
    "print ('Tensor shape:', tensors.shape)\n",
    "print ('Target shape', targets.shape)\n",
    "print ('Background shape:', backgrounds.shape)"
   ]
  },
  {
   "cell_type": "code",
   "execution_count": 19,
   "metadata": {},
   "outputs": [],
   "source": [
    "hide_code\n",
    "# Create a csv file\n",
    "images_csv = tensors.reshape(-1,32*32*3)\n",
    "np.savetxt(\"letter_images.csv\", images_csv, fmt='%i', delimiter=\",\")"
   ]
  },
  {
   "cell_type": "code",
   "execution_count": 20,
   "metadata": {},
   "outputs": [
    {
     "data": {
      "text/html": [
       "<div>\n",
       "<style scoped>\n",
       "    .dataframe tbody tr th:only-of-type {\n",
       "        vertical-align: middle;\n",
       "    }\n",
       "\n",
       "    .dataframe tbody tr th {\n",
       "        vertical-align: top;\n",
       "    }\n",
       "\n",
       "    .dataframe thead th {\n",
       "        text-align: right;\n",
       "    }\n",
       "</style>\n",
       "<table border=\"1\" class=\"dataframe\">\n",
       "  <thead>\n",
       "    <tr style=\"text-align: right;\">\n",
       "      <th></th>\n",
       "      <th>0</th>\n",
       "      <th>1</th>\n",
       "      <th>2</th>\n",
       "      <th>3</th>\n",
       "      <th>4</th>\n",
       "      <th>5</th>\n",
       "      <th>6</th>\n",
       "      <th>7</th>\n",
       "      <th>8</th>\n",
       "      <th>9</th>\n",
       "    </tr>\n",
       "  </thead>\n",
       "  <tbody>\n",
       "    <tr>\n",
       "      <th>0</th>\n",
       "      <td>196</td>\n",
       "      <td>186</td>\n",
       "      <td>203</td>\n",
       "      <td>196</td>\n",
       "      <td>188</td>\n",
       "      <td>203</td>\n",
       "      <td>194</td>\n",
       "      <td>187</td>\n",
       "      <td>202</td>\n",
       "      <td>194</td>\n",
       "    </tr>\n",
       "    <tr>\n",
       "      <th>1</th>\n",
       "      <td>179</td>\n",
       "      <td>173</td>\n",
       "      <td>183</td>\n",
       "      <td>181</td>\n",
       "      <td>174</td>\n",
       "      <td>186</td>\n",
       "      <td>182</td>\n",
       "      <td>175</td>\n",
       "      <td>185</td>\n",
       "      <td>179</td>\n",
       "    </tr>\n",
       "    <tr>\n",
       "      <th>2</th>\n",
       "      <td>179</td>\n",
       "      <td>164</td>\n",
       "      <td>164</td>\n",
       "      <td>181</td>\n",
       "      <td>168</td>\n",
       "      <td>168</td>\n",
       "      <td>182</td>\n",
       "      <td>169</td>\n",
       "      <td>168</td>\n",
       "      <td>182</td>\n",
       "    </tr>\n",
       "    <tr>\n",
       "      <th>3</th>\n",
       "      <td>177</td>\n",
       "      <td>161</td>\n",
       "      <td>167</td>\n",
       "      <td>175</td>\n",
       "      <td>162</td>\n",
       "      <td>167</td>\n",
       "      <td>173</td>\n",
       "      <td>160</td>\n",
       "      <td>165</td>\n",
       "      <td>176</td>\n",
       "    </tr>\n",
       "    <tr>\n",
       "      <th>4</th>\n",
       "      <td>154</td>\n",
       "      <td>149</td>\n",
       "      <td>156</td>\n",
       "      <td>157</td>\n",
       "      <td>151</td>\n",
       "      <td>159</td>\n",
       "      <td>157</td>\n",
       "      <td>149</td>\n",
       "      <td>157</td>\n",
       "      <td>157</td>\n",
       "    </tr>\n",
       "    <tr>\n",
       "      <th>5</th>\n",
       "      <td>252</td>\n",
       "      <td>242</td>\n",
       "      <td>233</td>\n",
       "      <td>252</td>\n",
       "      <td>242</td>\n",
       "      <td>233</td>\n",
       "      <td>254</td>\n",
       "      <td>244</td>\n",
       "      <td>235</td>\n",
       "      <td>255</td>\n",
       "    </tr>\n",
       "    <tr>\n",
       "      <th>6</th>\n",
       "      <td>176</td>\n",
       "      <td>169</td>\n",
       "      <td>179</td>\n",
       "      <td>177</td>\n",
       "      <td>170</td>\n",
       "      <td>180</td>\n",
       "      <td>177</td>\n",
       "      <td>170</td>\n",
       "      <td>180</td>\n",
       "      <td>178</td>\n",
       "    </tr>\n",
       "    <tr>\n",
       "      <th>7</th>\n",
       "      <td>200</td>\n",
       "      <td>197</td>\n",
       "      <td>214</td>\n",
       "      <td>201</td>\n",
       "      <td>198</td>\n",
       "      <td>217</td>\n",
       "      <td>202</td>\n",
       "      <td>199</td>\n",
       "      <td>218</td>\n",
       "      <td>202</td>\n",
       "    </tr>\n",
       "    <tr>\n",
       "      <th>8</th>\n",
       "      <td>252</td>\n",
       "      <td>240</td>\n",
       "      <td>233</td>\n",
       "      <td>253</td>\n",
       "      <td>242</td>\n",
       "      <td>235</td>\n",
       "      <td>253</td>\n",
       "      <td>241</td>\n",
       "      <td>234</td>\n",
       "      <td>252</td>\n",
       "    </tr>\n",
       "    <tr>\n",
       "      <th>9</th>\n",
       "      <td>178</td>\n",
       "      <td>170</td>\n",
       "      <td>177</td>\n",
       "      <td>178</td>\n",
       "      <td>170</td>\n",
       "      <td>176</td>\n",
       "      <td>176</td>\n",
       "      <td>169</td>\n",
       "      <td>178</td>\n",
       "      <td>179</td>\n",
       "    </tr>\n",
       "  </tbody>\n",
       "</table>\n",
       "</div>"
      ],
      "text/plain": [
       "     0    1    2    3    4    5    6    7    8    9\n",
       "0  196  186  203  196  188  203  194  187  202  194\n",
       "1  179  173  183  181  174  186  182  175  185  179\n",
       "2  179  164  164  181  168  168  182  169  168  182\n",
       "3  177  161  167  175  162  167  173  160  165  176\n",
       "4  154  149  156  157  151  159  157  149  157  157\n",
       "5  252  242  233  252  242  233  254  244  235  255\n",
       "6  176  169  179  177  170  180  177  170  180  178\n",
       "7  200  197  214  201  198  217  202  199  218  202\n",
       "8  252  240  233  253  242  235  253  241  234  252\n",
       "9  178  170  177  178  170  176  176  169  178  179"
      ]
     },
     "execution_count": 20,
     "metadata": {},
     "output_type": "execute_result"
    }
   ],
   "source": [
    "hide_code\n",
    "# Read the pandas dataframe from csv\n",
    "data_images = pd.read_csv(\"letter_images.csv\", header=None)\n",
    "data_images.iloc[:10,:10]"
   ]
  },
  {
   "cell_type": "code",
   "execution_count": 22,
   "metadata": {},
   "outputs": [],
   "source": [
    "hide_code\n",
    "# Read image tensors from the dataframe\n",
    "tensors = data_images.values\n",
    "tensors = tensors.reshape(14190,32,32,3)"
   ]
  },
  {
   "cell_type": "markdown",
   "metadata": {},
   "source": [
    "## Step 3. Implement Preprocess Functions\n",
    "### Normalize and Gray Scale\n",
    "In the cell below, normalize the image tensors, and return them as a normalized Numpy array."
   ]
  },
  {
   "cell_type": "code",
   "execution_count": 13,
   "metadata": {},
   "outputs": [],
   "source": [
    "hide_code\n",
    "# Normalize the tensors\n",
    "tensors = tensors.astype('float32')/255"
   ]
  },
  {
   "cell_type": "code",
   "execution_count": 14,
   "metadata": {},
   "outputs": [
    {
     "name": "stdout",
     "output_type": "stream",
     "text": [
      "Label:  я\n"
     ]
    },
    {
     "data": {
      "image/png": "[encoded data removed]",
      "text/plain": [
       "<Figure size 216x216 with 1 Axes>"
      ]
     },
     "metadata": {},
     "output_type": "display_data"
    }
   ],
   "source": [
    "hide_code\n",
    "# Read and display a tensor using Matplotlib\n",
    "print('Label: ', letters[7500])\n",
    "plt.figure(figsize=(3,3))\n",
    "plt.imshow(tensors[7500]);"
   ]
  },
  {
   "cell_type": "markdown",
   "metadata": {},
   "source": [
    "Create tensors of grayscaled images and display their shape."
   ]
  },
  {
   "cell_type": "code",
   "execution_count": 15,
   "metadata": {},
   "outputs": [
    {
     "name": "stdout",
     "output_type": "stream",
     "text": [
      "Grayscaled Tensor shape: (14190, 32, 32)\n"
     ]
    }
   ],
   "source": [
    "hide_code\n",
    "# Grayscaled tensors\n",
    "gray_tensors = np.dot(tensors[...,:3], [0.299, 0.587, 0.114])\n",
    "print ('Grayscaled Tensor shape:', gray_tensors.shape)"
   ]
  },
  {
   "cell_type": "code",
   "execution_count": 16,
   "metadata": {},
   "outputs": [
    {
     "name": "stdout",
     "output_type": "stream",
     "text": [
      "Label:  я\n"
     ]
    },
    {
     "data": {
      "image/png": "[encoded data removed]",
      "text/plain": [
       "<Figure size 216x216 with 1 Axes>"
      ]
     },
     "metadata": {},
     "output_type": "display_data"
    }
   ],
   "source": [
    "hide_code\n",
    "# Read and display a grayscaled tensor using Matplotlib\n",
    "print('Label: ', letters[7500])\n",
    "plt.figure(figsize=(3,3))\n",
    "plt.imshow(gray_tensors[7500], cmap=cm.bone);"
   ]
  },
  {
   "cell_type": "markdown",
   "metadata": {},
   "source": [
    "### One-hot encode\n",
    "Now we'll implement the one-hot encoding function to_categorical."
   ]
  },
  {
   "cell_type": "code",
   "execution_count": 17,
   "metadata": {},
   "outputs": [
    {
     "name": "stdout",
     "output_type": "stream",
     "text": [
      "backgrounds: {0, 1, 2, 3}\n",
      "targets: {1, 2, 3, 4, 5, 6, 7, 8, 9, 10, 11, 12, 13, 14, 15, 16, 17, 18, 19, 20, 21, 22, 23, 24, 25, 26, 27, 28, 29, 30, 31, 32, 33}\n"
     ]
    }
   ],
   "source": [
    "hide_code\n",
    "# Print the target unique values\n",
    "print('backgrounds:', set(backgrounds))\n",
    "print('targets:', set(targets))"
   ]
  },
  {
   "cell_type": "code",
   "execution_count": 18,
   "metadata": {},
   "outputs": [
    {
     "data": {
      "text/plain": [
       "(14190, 4)"
      ]
     },
     "execution_count": 18,
     "metadata": {},
     "output_type": "execute_result"
    }
   ],
   "source": [
    "hide_code\n",
    "# One-hot encode the background targets\n",
    "backgrounds = to_categorical(backgrounds, 4)\n",
    "backgrounds.shape"
   ]
  },
  {
   "cell_type": "code",
   "execution_count": 19,
   "metadata": {},
   "outputs": [
    {
     "data": {
      "text/plain": [
       "(14190, 33)"
      ]
     },
     "execution_count": 19,
     "metadata": {},
     "output_type": "execute_result"
    }
   ],
   "source": [
    "hide_code\n",
    "# One-hot encode the targets, started from the zero label\n",
    "cat_targets = to_categorical(np.array(targets-1), 33)\n",
    "cat_targets.shape"
   ]
  },
  {
   "cell_type": "markdown",
   "metadata": {},
   "source": [
    "### Add background"
   ]
  },
  {
   "cell_type": "code",
   "execution_count": 20,
   "metadata": {},
   "outputs": [
    {
     "data": {
      "text/plain": [
       "(14190, 37)"
      ]
     },
     "execution_count": 20,
     "metadata": {},
     "output_type": "execute_result"
    }
   ],
   "source": [
    "hide_code\n",
    "# Create multi-label targets\n",
    "back_targets = np.concatenate((cat_targets, backgrounds), axis=1)\n",
    "back_targets.shape"
   ]
  },
  {
   "cell_type": "markdown",
   "metadata": {},
   "source": [
    "### Split\n",
    "#### Color Images\n",
    "Apply the function train_test_split and split the data into training and testing sets. \n",
    "\n",
    "Set up the size for the test set - 10% and for the validation set - 10%."
   ]
  },
  {
   "cell_type": "code",
   "execution_count": 21,
   "metadata": {},
   "outputs": [],
   "source": [
    "hide_code\n",
    "# Split the data\n",
    "x_train, x_test, y_train, y_test = train_test_split(tensors, cat_targets, \n",
    "                                                    test_size = 0.2, \n",
    "                                                    random_state = 1)\n",
    "n = int(len(x_test)/2)\n",
    "x_valid, y_valid = x_test[:n], y_test[:n]\n",
    "x_test, y_test = x_test[n:], y_test[n:]"
   ]
  },
  {
   "cell_type": "code",
   "execution_count": 22,
   "metadata": {},
   "outputs": [
    {
     "data": {
      "text/plain": [
       "((11352, 32, 32, 3),\n",
       " (1419, 32, 32, 3),\n",
       " (1419, 32, 32, 3),\n",
       " (11352, 33),\n",
       " (1419, 33),\n",
       " (1419, 33))"
      ]
     },
     "execution_count": 22,
     "metadata": {},
     "output_type": "execute_result"
    }
   ],
   "source": [
    "hide_code\n",
    "# Print the shape\n",
    "x_train.shape, x_valid.shape, x_test.shape, y_train.shape, y_valid.shape, y_test.shape"
   ]
  },
  {
   "cell_type": "markdown",
   "metadata": {},
   "source": [
    "#### Grayscaled Images"
   ]
  },
  {
   "cell_type": "code",
   "execution_count": 23,
   "metadata": {},
   "outputs": [],
   "source": [
    "hide_code\n",
    "# Split the grayscaled data\n",
    "x_train2, x_test2, y_train2, y_test2 = train_test_split(gray_tensors, cat_targets, \n",
    "                                                        test_size = 0.2, \n",
    "                                                        random_state = 1)\n",
    "x_valid2, y_valid2 = x_test2[:n], y_test2[:n]\n",
    "x_test2, y_test2 = x_test2[n:], y_test2[n:]"
   ]
  },
  {
   "cell_type": "code",
   "execution_count": 24,
   "metadata": {},
   "outputs": [],
   "source": [
    "hide_code\n",
    "# Reshape the grayscaled data\n",
    "x_train2, x_test2, x_valid2 = \\\n",
    "x_train2.reshape(-1, 32, 32, 1), x_test2.reshape(-1, 32, 32, 1), x_valid2.reshape(-1, 32, 32, 1)"
   ]
  },
  {
   "cell_type": "code",
   "execution_count": 25,
   "metadata": {},
   "outputs": [
    {
     "data": {
      "text/plain": [
       "((11352, 32, 32, 1),\n",
       " (1419, 32, 32, 1),\n",
       " (1419, 32, 32, 1),\n",
       " (11352, 33),\n",
       " (1419, 33),\n",
       " (1419, 33))"
      ]
     },
     "execution_count": 25,
     "metadata": {},
     "output_type": "execute_result"
    }
   ],
   "source": [
    "hide_code\n",
    "# Print the shape\n",
    "x_train2.shape, x_valid2.shape, x_test2.shape, y_train2.shape, y_valid2.shape, y_test2.shape"
   ]
  },
  {
   "cell_type": "code",
   "execution_count": 26,
   "metadata": {},
   "outputs": [
    {
     "data": {
      "text/plain": [
       "((11352, 32, 32, 3), (1419, 32, 32, 3), (1419, 32, 32, 3))"
      ]
     },
     "execution_count": 26,
     "metadata": {},
     "output_type": "execute_result"
    }
   ],
   "source": [
    "hide_code\n",
    "# Convert images from grayscaled to RGB\n",
    "x_train2_tensor = tf.image.grayscale_to_rgb(x_train2, name=None)\n",
    "x_test2_tensor = tf.image.grayscale_to_rgb(x_test2, name=None)\n",
    "x_valid2_tensor = tf.image.grayscale_to_rgb(x_valid2, name=None)\n",
    "# Run tensorflow session\n",
    "sess = tf.Session()\n",
    "with sess.as_default():\n",
    "    x_train2_color = x_train2_tensor.eval()\n",
    "    x_test2_color = x_test2_tensor.eval()\n",
    "    x_valid2_color = x_valid2_tensor.eval()\n",
    "# Check the shape    \n",
    "x_train2_color.shape, x_test2_color.shape, x_valid2_color.shape"
   ]
  },
  {
   "cell_type": "markdown",
   "metadata": {},
   "source": [
    "#### Multi-label targets, color images"
   ]
  },
  {
   "cell_type": "code",
   "execution_count": 27,
   "metadata": {},
   "outputs": [],
   "source": [
    "hide_code\n",
    "# Split with multi-label targets\n",
    "x_train3, x_test3, y_train3, y_test3 = train_test_split(tensors, back_targets, \n",
    "                                                        test_size = 0.2, \n",
    "                                                        random_state = 1)\n",
    "x_valid3, y_valid3 = x_test3[:n], y_test3[:n]\n",
    "x_test3, y_test3 = x_test3[n:], y_test3[n:]"
   ]
  },
  {
   "cell_type": "code",
   "execution_count": 28,
   "metadata": {},
   "outputs": [
    {
     "data": {
      "text/plain": [
       "((11352, 32, 32, 3),\n",
       " (1419, 32, 32, 3),\n",
       " (1419, 32, 32, 3),\n",
       " (11352, 37),\n",
       " (1419, 37),\n",
       " (1419, 37))"
      ]
     },
     "execution_count": 28,
     "metadata": {},
     "output_type": "execute_result"
    }
   ],
   "source": [
    "hide_code\n",
    "# Print the shape\n",
    "x_train3.shape, x_valid3.shape, x_test3.shape, y_train3.shape, y_valid3.shape, y_test3.shape"
   ]
  },
  {
   "cell_type": "code",
   "execution_count": 29,
   "metadata": {},
   "outputs": [],
   "source": [
    "hide_code\n",
    "# Create a list of targets\n",
    "y_train3_list = [y_train3[:, :33], y_train3[:, 33:]]\n",
    "y_test3_list = [y_test3[:, :33], y_valid3[:, 33:]]\n",
    "y_valid3_list = [y_valid3[:, :33], y_valid3[:, 33:]]"
   ]
  },
  {
   "cell_type": "markdown",
   "metadata": {},
   "source": [
    "#### Multi-label targets, grayscaled images"
   ]
  },
  {
   "cell_type": "code",
   "execution_count": 30,
   "metadata": {},
   "outputs": [],
   "source": [
    "hide_code\n",
    "# Split the grayscaled data\n",
    "x_train4, x_test4, y_train4, y_test4 = train_test_split(gray_tensors, back_targets, \n",
    "                                                        test_size = 0.2, \n",
    "                                                        random_state = 1)\n",
    "x_valid4, y_valid4 = x_test4[:n], y_test4[:n]\n",
    "x_test4, y_test4 = x_test4[n:], y_test4[n:]"
   ]
  },
  {
   "cell_type": "code",
   "execution_count": 31,
   "metadata": {},
   "outputs": [],
   "source": [
    "hide_code\n",
    "# Reshape the grayscaled data\n",
    "x_train4, x_test4, x_valid4 = \\\n",
    "x_train4.reshape(-1, 32, 32, 1), x_test4.reshape(-1, 32, 32, 1), x_valid4.reshape(-1, 32, 32, 1)"
   ]
  },
  {
   "cell_type": "code",
   "execution_count": 32,
   "metadata": {},
   "outputs": [
    {
     "data": {
      "text/plain": [
       "((11352, 32, 32, 1),\n",
       " (1419, 32, 32, 1),\n",
       " (1419, 32, 32, 1),\n",
       " (11352, 37),\n",
       " (1419, 37),\n",
       " (1419, 37))"
      ]
     },
     "execution_count": 32,
     "metadata": {},
     "output_type": "execute_result"
    }
   ],
   "source": [
    "hide_code\n",
    "# Print the shape\n",
    "x_train4.shape, x_valid4.shape, x_test4.shape, y_train4.shape, y_valid4.shape, y_test4.shape"
   ]
  },
  {
   "cell_type": "code",
   "execution_count": 33,
   "metadata": {},
   "outputs": [],
   "source": [
    "hide_code\n",
    "# Create a list of targets\n",
    "y_train4_list = [y_train4[:, :33], y_train4[:, 33:]]\n",
    "y_test4_list = [y_test4[:, :33], y_test4[:, 33:]]\n",
    "y_valid4_list = [y_valid4[:, :33], y_valid4[:, 33:]]"
   ]
  },
  {
   "cell_type": "markdown",
   "metadata": {},
   "source": [
    "## Step 4. Create a One-Label Classification Model\n",
    "### Color Images\n",
    "Define a model architecture and compile the model for color images."
   ]
  },
  {
   "cell_type": "code",
   "execution_count": 47,
   "metadata": {},
   "outputs": [],
   "source": [
    "hide_code\n",
    "def model():\n",
    "    model = Sequential()\n",
    "    # TODO: Define a model architecture\n",
    "\n",
    "    model.add(Conv2D(32, (5, 5), padding='same', input_shape=x_train.shape[1:]))\n",
    "    model.add(LeakyReLU(alpha=0.02))\n",
    "    \n",
    "    model.add(MaxPooling2D(pool_size=(2, 2)))\n",
    "    model.add(Dropout(0.2))\n",
    "\n",
    "    model.add(Conv2D(196, (5, 5)))\n",
    "    model.add(LeakyReLU(alpha=0.02))\n",
    "    \n",
    "    model.add(MaxPooling2D(pool_size=(2, 2)))\n",
    "    model.add(Dropout(0.2))\n",
    "\n",
    "    model.add(GlobalMaxPooling2D())\n",
    "    \n",
    "    model.add(Dense(1024))\n",
    "    model.add(LeakyReLU(alpha=0.02))\n",
    "    model.add(Dropout(0.5)) \n",
    "    \n",
    "    model.add(Dense(33))\n",
    "    model.add(Activation('softmax'))\n",
    "    \n",
    "    # TODO: Compile the model\n",
    "    model.compile(loss='categorical_crossentropy', optimizer='adam', metrics=['accuracy'])\n",
    "    \n",
    "    return model\n",
    "\n",
    "model = model()"
   ]
  },
  {
   "cell_type": "code",
   "execution_count": 48,
   "metadata": {},
   "outputs": [],
   "source": [
    "hide_code\n",
    "# Create callbacks\n",
    "checkpointer = ModelCheckpoint(filepath='weights.best.model.hdf5', \n",
    "                               verbose=2, save_best_only=True)\n",
    "lr_reduction = ReduceLROnPlateau(monitor='val_loss', \n",
    "                                 patience=5, verbose=2, factor=0.5)"
   ]
  },
  {
   "cell_type": "code",
   "execution_count": 49,
   "metadata": {
    "scrolled": false
   },
   "outputs": [
    {
     "name": "stdout",
     "output_type": "stream",
     "text": [
      "Train on 11352 samples, validate on 1419 samples\n",
      "Epoch 1/100\n",
      " - 80s - loss: 3.4902 - acc: 0.0334 - val_loss: 3.4656 - val_acc: 0.0324\n",
      "\n",
      "Epoch 00001: val_loss improved from inf to 3.46558, saving model to weights.best.model.hdf5\n",
      "Epoch 2/100\n",
      " - 83s - loss: 3.3618 - acc: 0.0632 - val_loss: 3.3205 - val_acc: 0.0726\n",
      "\n",
      "Epoch 00002: val_loss improved from 3.46558 to 3.32055, saving model to weights.best.model.hdf5\n",
      "Epoch 3/100\n",
      " - 66s - loss: 3.2348 - acc: 0.0785 - val_loss: 3.1811 - val_acc: 0.0853\n",
      "\n",
      "Epoch 00003: val_loss improved from 3.32055 to 3.18108, saving model to weights.best.model.hdf5\n",
      "Epoch 4/100\n",
      " - 65s - loss: 3.1557 - acc: 0.0814 - val_loss: 3.1800 - val_acc: 0.0916\n",
      "\n",
      "Epoch 00004: val_loss improved from 3.18108 to 3.18000, saving model to weights.best.model.hdf5\n",
      "Epoch 5/100\n",
      " - 66s - loss: 3.0939 - acc: 0.0921 - val_loss: 3.0863 - val_acc: 0.0902\n",
      "\n",
      "Epoch 00005: val_loss improved from 3.18000 to 3.08626, saving model to weights.best.model.hdf5\n",
      "Epoch 6/100\n",
      " - 63s - loss: 3.0717 - acc: 0.0945 - val_loss: 3.0391 - val_acc: 0.1043\n",
      "\n",
      "Epoch 00006: val_loss improved from 3.08626 to 3.03911, saving model to weights.best.model.hdf5\n",
      "Epoch 7/100\n",
      " - 64s - loss: 3.0485 - acc: 0.1003 - val_loss: 3.0674 - val_acc: 0.1029\n",
      "\n",
      "Epoch 00007: val_loss did not improve from 3.03911\n",
      "Epoch 8/100\n",
      " - 64s - loss: 3.0210 - acc: 0.1021 - val_loss: 2.9853 - val_acc: 0.1247\n",
      "\n",
      "Epoch 00008: val_loss improved from 3.03911 to 2.98528, saving model to weights.best.model.hdf5\n",
      "Epoch 9/100\n",
      " - 63s - loss: 2.9803 - acc: 0.1079 - val_loss: 2.9893 - val_acc: 0.1240\n",
      "\n",
      "Epoch 00009: val_loss did not improve from 2.98528\n",
      "Epoch 10/100\n",
      " - 63s - loss: 2.9504 - acc: 0.1173 - val_loss: 2.9121 - val_acc: 0.1325\n",
      "\n",
      "Epoch 00010: val_loss improved from 2.98528 to 2.91214, saving model to weights.best.model.hdf5\n",
      "Epoch 11/100\n",
      " - 64s - loss: 2.8839 - acc: 0.1272 - val_loss: 2.8436 - val_acc: 0.1522\n",
      "\n",
      "Epoch 00011: val_loss improved from 2.91214 to 2.84358, saving model to weights.best.model.hdf5\n",
      "Epoch 12/100\n",
      " - 63s - loss: 2.8095 - acc: 0.1496 - val_loss: 2.7002 - val_acc: 0.1952\n",
      "\n",
      "Epoch 00012: val_loss improved from 2.84358 to 2.70021, saving model to weights.best.model.hdf5\n",
      "Epoch 13/100\n",
      " - 65s - loss: 2.6800 - acc: 0.1804 - val_loss: 2.6096 - val_acc: 0.2241\n",
      "\n",
      "Epoch 00013: val_loss improved from 2.70021 to 2.60965, saving model to weights.best.model.hdf5\n",
      "Epoch 14/100\n",
      " - 69s - loss: 2.5773 - acc: 0.2134 - val_loss: 2.4587 - val_acc: 0.2636\n",
      "\n",
      "Epoch 00014: val_loss improved from 2.60965 to 2.45871, saving model to weights.best.model.hdf5\n",
      "Epoch 15/100\n",
      " - 66s - loss: 2.4195 - acc: 0.2545 - val_loss: 2.2839 - val_acc: 0.3058\n",
      "\n",
      "Epoch 00015: val_loss improved from 2.45871 to 2.28393, saving model to weights.best.model.hdf5\n",
      "Epoch 16/100\n",
      " - 67s - loss: 2.2425 - acc: 0.3088 - val_loss: 2.0716 - val_acc: 0.3883\n",
      "\n",
      "Epoch 00016: val_loss improved from 2.28393 to 2.07160, saving model to weights.best.model.hdf5\n",
      "Epoch 17/100\n",
      " - 66s - loss: 2.0736 - acc: 0.3501 - val_loss: 1.8509 - val_acc: 0.4602\n",
      "\n",
      "Epoch 00017: val_loss improved from 2.07160 to 1.85087, saving model to weights.best.model.hdf5\n",
      "Epoch 18/100\n",
      " - 70s - loss: 1.8796 - acc: 0.4151 - val_loss: 1.6854 - val_acc: 0.5032\n",
      "\n",
      "Epoch 00018: val_loss improved from 1.85087 to 1.68537, saving model to weights.best.model.hdf5\n",
      "Epoch 19/100\n",
      " - 68s - loss: 1.7563 - acc: 0.4533 - val_loss: 1.6600 - val_acc: 0.5095\n",
      "\n",
      "Epoch 00019: val_loss improved from 1.68537 to 1.66004, saving model to weights.best.model.hdf5\n",
      "Epoch 20/100\n",
      " - 68s - loss: 1.6383 - acc: 0.4851 - val_loss: 1.4401 - val_acc: 0.5729\n",
      "\n",
      "Epoch 00020: val_loss improved from 1.66004 to 1.44006, saving model to weights.best.model.hdf5\n",
      "Epoch 21/100\n",
      " - 67s - loss: 1.5436 - acc: 0.5163 - val_loss: 1.4748 - val_acc: 0.5856\n",
      "\n",
      "Epoch 00021: val_loss did not improve from 1.44006\n",
      "Epoch 22/100\n",
      " - 66s - loss: 1.4594 - acc: 0.5425 - val_loss: 1.3825 - val_acc: 0.6124\n",
      "\n",
      "Epoch 00022: val_loss improved from 1.44006 to 1.38253, saving model to weights.best.model.hdf5\n",
      "Epoch 23/100\n",
      " - 67s - loss: 1.3981 - acc: 0.5611 - val_loss: 1.1896 - val_acc: 0.6533\n",
      "\n",
      "Epoch 00023: val_loss improved from 1.38253 to 1.18965, saving model to weights.best.model.hdf5\n",
      "Epoch 24/100\n",
      " - 67s - loss: 1.2916 - acc: 0.5999 - val_loss: 1.1947 - val_acc: 0.6589\n",
      "\n",
      "Epoch 00024: val_loss did not improve from 1.18965\n",
      "Epoch 25/100\n",
      " - 68s - loss: 1.2444 - acc: 0.6127 - val_loss: 1.0528 - val_acc: 0.7068\n",
      "\n",
      "Epoch 00025: val_loss improved from 1.18965 to 1.05276, saving model to weights.best.model.hdf5\n",
      "Epoch 26/100\n",
      " - 66s - loss: 1.2077 - acc: 0.6239 - val_loss: 1.0353 - val_acc: 0.7047\n",
      "\n",
      "Epoch 00026: val_loss improved from 1.05276 to 1.03530, saving model to weights.best.model.hdf5\n",
      "Epoch 27/100\n",
      " - 67s - loss: 1.1445 - acc: 0.6433 - val_loss: 0.9916 - val_acc: 0.7223\n",
      "\n",
      "Epoch 00027: val_loss improved from 1.03530 to 0.99156, saving model to weights.best.model.hdf5\n",
      "Epoch 28/100\n",
      " - 66s - loss: 1.0933 - acc: 0.6628 - val_loss: 0.9405 - val_acc: 0.7195\n",
      "\n",
      "Epoch 00028: val_loss improved from 0.99156 to 0.94050, saving model to weights.best.model.hdf5\n",
      "Epoch 29/100\n",
      " - 66s - loss: 1.0342 - acc: 0.6769 - val_loss: 0.8425 - val_acc: 0.7738\n",
      "\n",
      "Epoch 00029: val_loss improved from 0.94050 to 0.84246, saving model to weights.best.model.hdf5\n",
      "Epoch 30/100\n",
      " - 67s - loss: 1.0045 - acc: 0.6810 - val_loss: 0.7911 - val_acc: 0.7829\n",
      "\n",
      "Epoch 00030: val_loss improved from 0.84246 to 0.79115, saving model to weights.best.model.hdf5\n",
      "Epoch 31/100\n",
      " - 68s - loss: 0.9233 - acc: 0.7072 - val_loss: 0.8281 - val_acc: 0.7625\n",
      "\n",
      "Epoch 00031: val_loss did not improve from 0.79115\n",
      "Epoch 32/100\n",
      " - 69s - loss: 0.9123 - acc: 0.7120 - val_loss: 0.7257 - val_acc: 0.7963\n",
      "\n",
      "Epoch 00032: val_loss improved from 0.79115 to 0.72565, saving model to weights.best.model.hdf5\n",
      "Epoch 33/100\n",
      " - 71s - loss: 0.8416 - acc: 0.7334 - val_loss: 0.6956 - val_acc: 0.8090\n",
      "\n",
      "Epoch 00033: val_loss improved from 0.72565 to 0.69559, saving model to weights.best.model.hdf5\n",
      "Epoch 34/100\n",
      " - 71s - loss: 0.8376 - acc: 0.7378 - val_loss: 0.7099 - val_acc: 0.7977\n",
      "\n",
      "Epoch 00034: val_loss did not improve from 0.69559\n",
      "Epoch 35/100\n",
      " - 68s - loss: 0.8066 - acc: 0.7426 - val_loss: 0.6504 - val_acc: 0.8161\n",
      "\n",
      "Epoch 00035: val_loss improved from 0.69559 to 0.65037, saving model to weights.best.model.hdf5\n",
      "Epoch 36/100\n",
      " - 66s - loss: 0.7947 - acc: 0.7536 - val_loss: 0.6361 - val_acc: 0.8175\n",
      "\n",
      "Epoch 00036: val_loss improved from 0.65037 to 0.63610, saving model to weights.best.model.hdf5\n",
      "Epoch 37/100\n",
      " - 67s - loss: 0.7641 - acc: 0.7585 - val_loss: 0.6223 - val_acc: 0.8323\n",
      "\n",
      "Epoch 00037: val_loss improved from 0.63610 to 0.62229, saving model to weights.best.model.hdf5\n",
      "Epoch 38/100\n",
      " - 67s - loss: 0.7267 - acc: 0.7673 - val_loss: 0.5761 - val_acc: 0.8393\n",
      "\n",
      "Epoch 00038: val_loss improved from 0.62229 to 0.57606, saving model to weights.best.model.hdf5\n",
      "Epoch 39/100\n",
      " - 67s - loss: 0.7325 - acc: 0.7696 - val_loss: 0.5882 - val_acc: 0.8224\n",
      "\n",
      "Epoch 00039: val_loss did not improve from 0.57606\n",
      "Epoch 40/100\n",
      " - 66s - loss: 0.7089 - acc: 0.7766 - val_loss: 0.5530 - val_acc: 0.8569\n",
      "\n",
      "Epoch 00040: val_loss improved from 0.57606 to 0.55295, saving model to weights.best.model.hdf5\n",
      "Epoch 41/100\n",
      " - 67s - loss: 0.6767 - acc: 0.7866 - val_loss: 0.6593 - val_acc: 0.8111\n",
      "\n",
      "Epoch 00041: val_loss did not improve from 0.55295\n",
      "Epoch 42/100\n",
      " - 67s - loss: 0.6486 - acc: 0.7927 - val_loss: 0.5024 - val_acc: 0.8584\n",
      "\n",
      "Epoch 00042: val_loss improved from 0.55295 to 0.50235, saving model to weights.best.model.hdf5\n",
      "Epoch 43/100\n",
      " - 67s - loss: 0.6660 - acc: 0.7860 - val_loss: 0.5471 - val_acc: 0.8400\n",
      "\n",
      "Epoch 00043: val_loss did not improve from 0.50235\n",
      "Epoch 44/100\n",
      " - 67s - loss: 0.6210 - acc: 0.7998 - val_loss: 0.5711 - val_acc: 0.8309\n",
      "\n",
      "Epoch 00044: val_loss did not improve from 0.50235\n",
      "Epoch 45/100\n",
      " - 67s - loss: 0.6247 - acc: 0.8007 - val_loss: 0.5325 - val_acc: 0.8513\n",
      "\n",
      "Epoch 00045: val_loss did not improve from 0.50235\n",
      "Epoch 46/100\n",
      " - 66s - loss: 0.5984 - acc: 0.8089 - val_loss: 0.4669 - val_acc: 0.8732\n",
      "\n",
      "Epoch 00046: val_loss improved from 0.50235 to 0.46689, saving model to weights.best.model.hdf5\n",
      "Epoch 47/100\n",
      " - 67s - loss: 0.5624 - acc: 0.8206 - val_loss: 0.4908 - val_acc: 0.8562\n",
      "\n",
      "Epoch 00047: val_loss did not improve from 0.46689\n",
      "Epoch 48/100\n",
      " - 67s - loss: 0.5594 - acc: 0.8224 - val_loss: 0.4504 - val_acc: 0.8795\n",
      "\n",
      "Epoch 00048: val_loss improved from 0.46689 to 0.45044, saving model to weights.best.model.hdf5\n"
     ]
    },
    {
     "name": "stdout",
     "output_type": "stream",
     "text": [
      "Epoch 49/100\n",
      " - 67s - loss: 0.5569 - acc: 0.8222 - val_loss: 0.4356 - val_acc: 0.8781\n",
      "\n",
      "Epoch 00049: val_loss improved from 0.45044 to 0.43555, saving model to weights.best.model.hdf5\n",
      "Epoch 50/100\n",
      " - 69s - loss: 0.5500 - acc: 0.8238 - val_loss: 0.5336 - val_acc: 0.8344\n",
      "\n",
      "Epoch 00050: val_loss did not improve from 0.43555\n",
      "Epoch 51/100\n",
      " - 80s - loss: 0.5608 - acc: 0.8221 - val_loss: 0.4352 - val_acc: 0.8739\n",
      "\n",
      "Epoch 00051: val_loss improved from 0.43555 to 0.43516, saving model to weights.best.model.hdf5\n",
      "Epoch 52/100\n",
      " - 74s - loss: 0.5192 - acc: 0.8354 - val_loss: 0.4382 - val_acc: 0.8746\n",
      "\n",
      "Epoch 00052: val_loss did not improve from 0.43516\n",
      "Epoch 53/100\n",
      " - 67s - loss: 0.5107 - acc: 0.8384 - val_loss: 0.4516 - val_acc: 0.8774\n",
      "\n",
      "Epoch 00053: val_loss did not improve from 0.43516\n",
      "Epoch 54/100\n",
      " - 68s - loss: 0.5475 - acc: 0.8239 - val_loss: 0.4734 - val_acc: 0.8584\n",
      "\n",
      "Epoch 00054: val_loss did not improve from 0.43516\n",
      "Epoch 55/100\n",
      " - 69s - loss: 0.5068 - acc: 0.8396 - val_loss: 0.4168 - val_acc: 0.8837\n",
      "\n",
      "Epoch 00055: val_loss improved from 0.43516 to 0.41684, saving model to weights.best.model.hdf5\n",
      "Epoch 56/100\n",
      " - 69s - loss: 0.4904 - acc: 0.8436 - val_loss: 0.3994 - val_acc: 0.8894\n",
      "\n",
      "Epoch 00056: val_loss improved from 0.41684 to 0.39936, saving model to weights.best.model.hdf5\n",
      "Epoch 57/100\n",
      " - 69s - loss: 0.4857 - acc: 0.8454 - val_loss: 0.4893 - val_acc: 0.8562\n",
      "\n",
      "Epoch 00057: val_loss did not improve from 0.39936\n",
      "Epoch 58/100\n",
      " - 69s - loss: 0.4707 - acc: 0.8459 - val_loss: 0.4142 - val_acc: 0.8872\n",
      "\n",
      "Epoch 00058: val_loss did not improve from 0.39936\n",
      "Epoch 59/100\n",
      " - 69s - loss: 0.4728 - acc: 0.8446 - val_loss: 0.4003 - val_acc: 0.8830\n",
      "\n",
      "Epoch 00059: val_loss did not improve from 0.39936\n",
      "Epoch 60/100\n",
      " - 72s - loss: 0.4413 - acc: 0.8553 - val_loss: 0.4014 - val_acc: 0.8774\n",
      "\n",
      "Epoch 00060: val_loss did not improve from 0.39936\n",
      "Epoch 61/100\n",
      " - 69s - loss: 0.4538 - acc: 0.8532 - val_loss: 0.3807 - val_acc: 0.8858\n",
      "\n",
      "Epoch 00061: val_loss improved from 0.39936 to 0.38071, saving model to weights.best.model.hdf5\n",
      "Epoch 62/100\n",
      " - 68s - loss: 0.4476 - acc: 0.8526 - val_loss: 0.4476 - val_acc: 0.8598\n",
      "\n",
      "Epoch 00062: val_loss did not improve from 0.38071\n",
      "Epoch 63/100\n",
      " - 69s - loss: 0.4436 - acc: 0.8569 - val_loss: 0.4360 - val_acc: 0.8612\n",
      "\n",
      "Epoch 00063: val_loss did not improve from 0.38071\n",
      "Epoch 64/100\n",
      " - 69s - loss: 0.4540 - acc: 0.8560 - val_loss: 0.4551 - val_acc: 0.8661\n",
      "\n",
      "Epoch 00064: val_loss did not improve from 0.38071\n",
      "Epoch 65/100\n",
      " - 68s - loss: 0.4256 - acc: 0.8632 - val_loss: 0.4791 - val_acc: 0.8534\n",
      "\n",
      "Epoch 00065: val_loss did not improve from 0.38071\n",
      "Epoch 66/100\n",
      " - 69s - loss: 0.4219 - acc: 0.8607 - val_loss: 0.3995 - val_acc: 0.8823\n",
      "\n",
      "Epoch 00066: val_loss did not improve from 0.38071\n",
      "\n",
      "Epoch 00066: ReduceLROnPlateau reducing learning rate to 0.0005000000237487257.\n",
      "Epoch 67/100\n",
      " - 68s - loss: 0.3473 - acc: 0.8902 - val_loss: 0.3191 - val_acc: 0.9154\n",
      "\n",
      "Epoch 00067: val_loss improved from 0.38071 to 0.31909, saving model to weights.best.model.hdf5\n",
      "Epoch 68/100\n",
      " - 69s - loss: 0.3227 - acc: 0.8929 - val_loss: 0.3123 - val_acc: 0.9077\n",
      "\n",
      "Epoch 00068: val_loss improved from 0.31909 to 0.31234, saving model to weights.best.model.hdf5\n",
      "Epoch 69/100\n",
      " - 70s - loss: 0.3247 - acc: 0.8953 - val_loss: 0.3222 - val_acc: 0.9112\n",
      "\n",
      "Epoch 00069: val_loss did not improve from 0.31234\n",
      "Epoch 70/100\n",
      " - 69s - loss: 0.3139 - acc: 0.8984 - val_loss: 0.3251 - val_acc: 0.9070\n",
      "\n",
      "Epoch 00070: val_loss did not improve from 0.31234\n",
      "Epoch 71/100\n",
      " - 69s - loss: 0.3278 - acc: 0.8908 - val_loss: 0.3291 - val_acc: 0.9049\n",
      "\n",
      "Epoch 00071: val_loss did not improve from 0.31234\n",
      "Epoch 72/100\n",
      " - 68s - loss: 0.3217 - acc: 0.8939 - val_loss: 0.3068 - val_acc: 0.9133\n",
      "\n",
      "Epoch 00072: val_loss improved from 0.31234 to 0.30682, saving model to weights.best.model.hdf5\n",
      "Epoch 73/100\n",
      " - 70s - loss: 0.3057 - acc: 0.9017 - val_loss: 0.3516 - val_acc: 0.8922\n",
      "\n",
      "Epoch 00073: val_loss did not improve from 0.30682\n",
      "Epoch 74/100\n",
      " - 69s - loss: 0.3027 - acc: 0.9025 - val_loss: 0.3201 - val_acc: 0.8999\n",
      "\n",
      "Epoch 00074: val_loss did not improve from 0.30682\n",
      "Epoch 75/100\n",
      " - 68s - loss: 0.2925 - acc: 0.9020 - val_loss: 0.3076 - val_acc: 0.9112\n",
      "\n",
      "Epoch 00075: val_loss did not improve from 0.30682\n",
      "Epoch 76/100\n",
      " - 69s - loss: 0.3110 - acc: 0.9011 - val_loss: 0.3310 - val_acc: 0.9056\n",
      "\n",
      "Epoch 00076: val_loss did not improve from 0.30682\n",
      "Epoch 77/100\n",
      " - 70s - loss: 0.3011 - acc: 0.9002 - val_loss: 0.3136 - val_acc: 0.9105\n",
      "\n",
      "Epoch 00077: val_loss did not improve from 0.30682\n",
      "\n",
      "Epoch 00077: ReduceLROnPlateau reducing learning rate to 0.0002500000118743628.\n",
      "Epoch 78/100\n",
      " - 70s - loss: 0.2516 - acc: 0.9175 - val_loss: 0.2972 - val_acc: 0.9161\n",
      "\n",
      "Epoch 00078: val_loss improved from 0.30682 to 0.29717, saving model to weights.best.model.hdf5\n",
      "Epoch 79/100\n",
      " - 68s - loss: 0.2475 - acc: 0.9184 - val_loss: 0.3114 - val_acc: 0.9098\n",
      "\n",
      "Epoch 00079: val_loss did not improve from 0.29717\n",
      "Epoch 80/100\n",
      " - 69s - loss: 0.2524 - acc: 0.9159 - val_loss: 0.3044 - val_acc: 0.9154\n",
      "\n",
      "Epoch 00080: val_loss did not improve from 0.29717\n",
      "Epoch 81/100\n",
      " - 69s - loss: 0.2359 - acc: 0.9204 - val_loss: 0.2969 - val_acc: 0.9168\n",
      "\n",
      "Epoch 00081: val_loss improved from 0.29717 to 0.29688, saving model to weights.best.model.hdf5\n",
      "Epoch 82/100\n",
      " - 71s - loss: 0.2409 - acc: 0.9193 - val_loss: 0.3087 - val_acc: 0.9133\n",
      "\n",
      "Epoch 00082: val_loss did not improve from 0.29688\n",
      "Epoch 83/100\n",
      " - 69s - loss: 0.2506 - acc: 0.9188 - val_loss: 0.3111 - val_acc: 0.9119\n",
      "\n",
      "Epoch 00083: val_loss did not improve from 0.29688\n",
      "Epoch 84/100\n",
      " - 69s - loss: 0.2400 - acc: 0.9210 - val_loss: 0.2957 - val_acc: 0.9154\n",
      "\n",
      "Epoch 00084: val_loss improved from 0.29688 to 0.29573, saving model to weights.best.model.hdf5\n",
      "Epoch 85/100\n",
      " - 69s - loss: 0.2441 - acc: 0.9192 - val_loss: 0.2756 - val_acc: 0.9183\n",
      "\n",
      "Epoch 00085: val_loss improved from 0.29573 to 0.27563, saving model to weights.best.model.hdf5\n",
      "Epoch 86/100\n",
      " - 71s - loss: 0.2312 - acc: 0.9243 - val_loss: 0.2814 - val_acc: 0.9175\n",
      "\n",
      "Epoch 00086: val_loss did not improve from 0.27563\n",
      "Epoch 87/100\n",
      " - 69s - loss: 0.2339 - acc: 0.9239 - val_loss: 0.2839 - val_acc: 0.9161\n",
      "\n",
      "Epoch 00087: val_loss did not improve from 0.27563\n",
      "Epoch 88/100\n",
      " - 68s - loss: 0.2353 - acc: 0.9215 - val_loss: 0.2837 - val_acc: 0.9225\n",
      "\n",
      "Epoch 00088: val_loss did not improve from 0.27563\n",
      "Epoch 89/100\n",
      " - 70s - loss: 0.2235 - acc: 0.9265 - val_loss: 0.3060 - val_acc: 0.9126\n",
      "\n",
      "Epoch 00089: val_loss did not improve from 0.27563\n",
      "Epoch 90/100\n",
      " - 70s - loss: 0.2261 - acc: 0.9278 - val_loss: 0.2838 - val_acc: 0.9204\n",
      "\n",
      "Epoch 00090: val_loss did not improve from 0.27563\n",
      "\n",
      "Epoch 00090: ReduceLROnPlateau reducing learning rate to 0.0001250000059371814.\n",
      "Epoch 91/100\n",
      " - 69s - loss: 0.2172 - acc: 0.9292 - val_loss: 0.2825 - val_acc: 0.9253\n",
      "\n",
      "Epoch 00091: val_loss did not improve from 0.27563\n",
      "Epoch 92/100\n",
      " - 69s - loss: 0.2015 - acc: 0.9344 - val_loss: 0.2787 - val_acc: 0.9232\n",
      "\n",
      "Epoch 00092: val_loss did not improve from 0.27563\n",
      "Epoch 93/100\n",
      " - 70s - loss: 0.2086 - acc: 0.9306 - val_loss: 0.2910 - val_acc: 0.9239\n",
      "\n",
      "Epoch 00093: val_loss did not improve from 0.27563\n",
      "Epoch 94/100\n",
      " - 72s - loss: 0.2007 - acc: 0.9339 - val_loss: 0.2892 - val_acc: 0.9197\n",
      "\n",
      "Epoch 00094: val_loss did not improve from 0.27563\n",
      "Epoch 95/100\n",
      " - 71s - loss: 0.2125 - acc: 0.9294 - val_loss: 0.2807 - val_acc: 0.9204\n",
      "\n",
      "Epoch 00095: val_loss did not improve from 0.27563\n",
      "\n",
      "Epoch 00095: ReduceLROnPlateau reducing learning rate to 6.25000029685907e-05.\n",
      "Epoch 96/100\n",
      " - 71s - loss: 0.1944 - acc: 0.9356 - val_loss: 0.2691 - val_acc: 0.9225\n",
      "\n",
      "Epoch 00096: val_loss improved from 0.27563 to 0.26913, saving model to weights.best.model.hdf5\n",
      "Epoch 97/100\n",
      " - 70s - loss: 0.1989 - acc: 0.9345 - val_loss: 0.2739 - val_acc: 0.9246\n",
      "\n",
      "Epoch 00097: val_loss did not improve from 0.26913\n",
      "Epoch 98/100\n",
      " - 69s - loss: 0.1949 - acc: 0.9366 - val_loss: 0.2715 - val_acc: 0.9218\n",
      "\n",
      "Epoch 00098: val_loss did not improve from 0.26913\n",
      "Epoch 99/100\n",
      " - 70s - loss: 0.1924 - acc: 0.9357 - val_loss: 0.2715 - val_acc: 0.9232\n",
      "\n",
      "Epoch 00099: val_loss did not improve from 0.26913\n",
      "Epoch 100/100\n",
      " - 69s - loss: 0.1867 - acc: 0.9390 - val_loss: 0.2702 - val_acc: 0.9211\n",
      "\n",
      "Epoch 00100: val_loss did not improve from 0.26913\n"
     ]
    }
   ],
   "source": [
    "hide_code\n",
    "# Train the model\n",
    "history = model.fit(x_train, y_train, \n",
    "                    epochs=100, batch_size=64, verbose=2,\n",
    "                    validation_data=(x_valid, y_valid),\n",
    "                    callbacks=[checkpointer, lr_reduction])"
   ]
  },
  {
   "cell_type": "code",
   "execution_count": 50,
   "metadata": {},
   "outputs": [
    {
     "data": {
      "image/png": "[encoded data removed]",
      "text/plain": [
       "<Figure size 1296x864 with 2 Axes>"
      ]
     },
     "metadata": {},
     "output_type": "display_data"
    }
   ],
   "source": [
    "hide_code\n",
    "# Plot the training history\n",
    "history_plot(history, 0)"
   ]
  },
  {
   "cell_type": "markdown",
   "metadata": {},
   "source": [
    "We should have an accuracy greater than 3%"
   ]
  },
  {
   "cell_type": "code",
   "execution_count": 51,
   "metadata": {},
   "outputs": [
    {
     "name": "stdout",
     "output_type": "stream",
     "text": [
      "1419/1419 [==============================] - 3s 2ms/step\n"
     ]
    },
    {
     "data": {
      "text/plain": [
       "[0.24738302888838315, 0.9238900634249472]"
      ]
     },
     "execution_count": 51,
     "metadata": {},
     "output_type": "execute_result"
    }
   ],
   "source": [
    "hide_code\n",
    "# Load the model with the best validation accuracy\n",
    "model.load_weights('weights.best.model.hdf5')\n",
    "# Calculate classification accuracy on the testing set\n",
    "score = model.evaluate(x_test, y_test)\n",
    "score"
   ]
  },
  {
   "cell_type": "markdown",
   "metadata": {},
   "source": [
    "Apply the ImageDataGenerator() function."
   ]
  },
  {
   "cell_type": "code",
   "execution_count": 52,
   "metadata": {},
   "outputs": [
    {
     "name": "stdout",
     "output_type": "stream",
     "text": [
      "Epoch 1/20\n",
      " - 463s - loss: 0.6433 - acc: 0.8049 - val_loss: 0.3001 - val_acc: 0.9168\n",
      "\n",
      "Epoch 00001: val_loss did not improve from 0.26913\n",
      "Epoch 2/20\n",
      " - 425s - loss: 0.6010 - acc: 0.8162 - val_loss: 0.2920 - val_acc: 0.9204\n",
      "\n",
      "Epoch 00002: val_loss did not improve from 0.26913\n",
      "Epoch 3/20\n",
      " - 455s - loss: 0.5854 - acc: 0.8176 - val_loss: 0.2970 - val_acc: 0.9239\n",
      "\n",
      "Epoch 00003: val_loss did not improve from 0.26913\n",
      "Epoch 4/20\n",
      " - 465s - loss: 0.5710 - acc: 0.8226 - val_loss: 0.2865 - val_acc: 0.9197\n",
      "\n",
      "Epoch 00004: val_loss did not improve from 0.26913\n",
      "Epoch 5/20\n",
      " - 432s - loss: 0.5548 - acc: 0.8271 - val_loss: 0.2854 - val_acc: 0.9168\n",
      "\n",
      "Epoch 00005: val_loss did not improve from 0.26913\n",
      "Epoch 6/20\n",
      " - 438s - loss: 0.5510 - acc: 0.8274 - val_loss: 0.2846 - val_acc: 0.9175\n",
      "\n",
      "Epoch 00006: val_loss did not improve from 0.26913\n",
      "Epoch 7/20\n",
      " - 497s - loss: 0.5330 - acc: 0.8337 - val_loss: 0.2803 - val_acc: 0.9211\n",
      "\n",
      "Epoch 00007: val_loss did not improve from 0.26913\n",
      "Epoch 8/20\n",
      " - 408s - loss: 0.5278 - acc: 0.8348 - val_loss: 0.2819 - val_acc: 0.9154\n",
      "\n",
      "Epoch 00008: val_loss did not improve from 0.26913\n",
      "Epoch 9/20\n",
      " - 386s - loss: 0.5202 - acc: 0.8361 - val_loss: 0.2817 - val_acc: 0.9211\n",
      "\n",
      "Epoch 00009: val_loss did not improve from 0.26913\n",
      "Epoch 10/20\n",
      " - 368s - loss: 0.5206 - acc: 0.8382 - val_loss: 0.2764 - val_acc: 0.9211\n",
      "\n",
      "Epoch 00010: val_loss did not improve from 0.26913\n",
      "Epoch 11/20\n",
      " - 366s - loss: 0.5024 - acc: 0.8419 - val_loss: 0.2760 - val_acc: 0.9211\n",
      "\n",
      "Epoch 00011: val_loss did not improve from 0.26913\n",
      "Epoch 12/20\n",
      " - 419s - loss: 0.5077 - acc: 0.8386 - val_loss: 0.2759 - val_acc: 0.9183\n",
      "\n",
      "Epoch 00012: val_loss did not improve from 0.26913\n",
      "Epoch 13/20\n",
      " - 398s - loss: 0.5001 - acc: 0.8442 - val_loss: 0.2740 - val_acc: 0.9225\n",
      "\n",
      "Epoch 00013: val_loss did not improve from 0.26913\n",
      "Epoch 14/20\n",
      " - 399s - loss: 0.4937 - acc: 0.8444 - val_loss: 0.2723 - val_acc: 0.9190\n",
      "\n",
      "Epoch 00014: val_loss did not improve from 0.26913\n",
      "Epoch 15/20\n",
      " - 405s - loss: 0.4871 - acc: 0.8450 - val_loss: 0.2725 - val_acc: 0.9239\n",
      "\n",
      "Epoch 00015: val_loss did not improve from 0.26913\n",
      "Epoch 16/20\n",
      " - 403s - loss: 0.4809 - acc: 0.8483 - val_loss: 0.2740 - val_acc: 0.9183\n",
      "\n",
      "Epoch 00016: val_loss did not improve from 0.26913\n",
      "Epoch 17/20\n",
      " - 422s - loss: 0.4749 - acc: 0.8494 - val_loss: 0.2669 - val_acc: 0.9211\n",
      "\n",
      "Epoch 00017: val_loss improved from 0.26913 to 0.26689, saving model to weights.best.model.hdf5\n",
      "Epoch 18/20\n",
      " - 410s - loss: 0.4754 - acc: 0.8495 - val_loss: 0.2667 - val_acc: 0.9211\n",
      "\n",
      "Epoch 00018: val_loss improved from 0.26689 to 0.26674, saving model to weights.best.model.hdf5\n",
      "Epoch 19/20\n",
      " - 413s - loss: 0.4713 - acc: 0.8501 - val_loss: 0.2675 - val_acc: 0.9218\n",
      "\n",
      "Epoch 00019: val_loss did not improve from 0.26674\n",
      "Epoch 20/20\n",
      " - 403s - loss: 0.4623 - acc: 0.8535 - val_loss: 0.2598 - val_acc: 0.9239\n",
      "\n",
      "Epoch 00020: val_loss improved from 0.26674 to 0.25978, saving model to weights.best.model.hdf5\n"
     ]
    }
   ],
   "source": [
    "hide_code\n",
    "# Fit the model with ImageDataGenerator()\n",
    "# TODO: Define parameters\n",
    "steps, epochs = 1000, 20\n",
    "data_generator = ImageDataGenerator(zoom_range=0.2, shear_range=0.2, rotation_range=20)\n",
    "\n",
    "generator = model.fit_generator(data_generator.flow(x_train, y_train, batch_size=64),\n",
    "                                steps_per_epoch = steps, epochs = epochs,\n",
    "                                validation_data = (x_valid, y_valid), \n",
    "                                callbacks=[checkpointer, lr_reduction], verbose=2)"
   ]
  },
  {
   "cell_type": "code",
   "execution_count": 53,
   "metadata": {},
   "outputs": [
    {
     "name": "stdout",
     "output_type": "stream",
     "text": [
      "1419/1419 [==============================] - 10s 7ms/step\n"
     ]
    },
    {
     "data": {
      "text/plain": [
       "[0.24499498124984556, 0.923185341789993]"
      ]
     },
     "execution_count": 53,
     "metadata": {},
     "output_type": "execute_result"
    }
   ],
   "source": [
    "hide_code\n",
    "# Load the model with the best validation accuracy\n",
    "model.load_weights('weights.best.model.hdf5')\n",
    "# Calculate classification accuracy on the testing set\n",
    "score = model.evaluate(x_test, y_test)\n",
    "score"
   ]
  },
  {
   "cell_type": "markdown",
   "metadata": {},
   "source": [
    "Let's compare the results with classifying algorithms."
   ]
  },
  {
   "cell_type": "code",
   "execution_count": null,
   "metadata": {
    "collapsed": true
   },
   "outputs": [],
   "source": [
    "hide_code\n",
    "# Fit the classifier and get the accuracy score\n",
    "y_train_c = np.array([np.argmax(y) for y in y_train])\n",
    "y_test_c = np.array([np.argmax(y) for y in y_test])\n",
    "clf = GradientBoostingClassifier().fit(x_train.reshape(-1, 32*32*3), y_train_c)\n",
    "clf.score(x_test.reshape(-1, 32*32*3), y_test_c)"
   ]
  },
  {
   "cell_type": "code",
   "execution_count": null,
   "metadata": {
    "collapsed": true
   },
   "outputs": [],
   "source": [
    "hide_code\n",
    "# Fit the classifier and get the accuracy score\n",
    "clf2 = RandomForestClassifier().fit(x_train.reshape(-1, 32*32*3), y_train_c)\n",
    "clf2.score(x_test.reshape(-1, 32*32*3), y_test_c)"
   ]
  },
  {
   "cell_type": "markdown",
   "metadata": {},
   "source": [
    "### Grayscaled Images\n",
    "Define a model architecture and compile the model for grayscaled images."
   ]
  },
  {
   "cell_type": "code",
   "execution_count": 54,
   "metadata": {},
   "outputs": [],
   "source": [
    "hide_code\n",
    "def gray_model():\n",
    "    model = Sequential()\n",
    "    \n",
    "    # TODO: Define a model architecture\n",
    "    model.add(Conv2D(32, (5, 5), padding='same', input_shape=x_train2.shape[1:]))\n",
    "    model.add(LeakyReLU(alpha=0.02))    \n",
    "    model.add(MaxPooling2D(pool_size=(2, 2)))\n",
    "    model.add(Dropout(0.25))\n",
    "\n",
    "    model.add(Conv2D(128, (5, 5)))\n",
    "    model.add(LeakyReLU(alpha=0.02))    \n",
    "    model.add(MaxPooling2D(pool_size=(2, 2)))\n",
    "    model.add(Dropout(0.25))\n",
    "    \n",
    "    model.add(GlobalMaxPooling2D()) \n",
    "    \n",
    "    model.add(Dense(1024))\n",
    "    model.add(LeakyReLU(alpha=0.02)) \n",
    "    model.add(Dropout(0.25)) \n",
    "    \n",
    "    model.add(Dense(128))\n",
    "    model.add(LeakyReLU(alpha=0.02)) \n",
    "    model.add(Dropout(0.25))    \n",
    "\n",
    "    model.add(Dense(33))\n",
    "    model.add(Activation('softmax'))\n",
    "    \n",
    "    # TODO: Compile the model\n",
    "    model.compile(loss='categorical_crossentropy', optimizer='rmsprop', metrics=['accuracy'])\n",
    "    return model\n",
    "\n",
    "gray_model = gray_model()"
   ]
  },
  {
   "cell_type": "code",
   "execution_count": 55,
   "metadata": {},
   "outputs": [],
   "source": [
    "hide_code\n",
    "# Create callbacks\n",
    "gray_checkpointer = ModelCheckpoint(filepath='weights.best.gray_model.hdf5', \n",
    "                                    verbose=2, save_best_only=True)\n",
    "gray_lr_reduction = ReduceLROnPlateau(monitor='val_loss', \n",
    "                                      patience=10, verbose=2, factor=0.8)"
   ]
  },
  {
   "cell_type": "code",
   "execution_count": 56,
   "metadata": {
    "scrolled": false
   },
   "outputs": [
    {
     "name": "stdout",
     "output_type": "stream",
     "text": [
      "\n",
      "Epoch 00001: val_loss improved from inf to 3.45369, saving model to weights.best.gray_model.hdf5\n",
      "\n",
      "Epoch 00002: val_loss improved from 3.45369 to 3.40002, saving model to weights.best.gray_model.hdf5\n",
      "\n",
      "Epoch 00003: val_loss improved from 3.40002 to 3.38329, saving model to weights.best.gray_model.hdf5\n",
      "\n",
      "Epoch 00004: val_loss did not improve from 3.38329\n",
      "\n",
      "Epoch 00005: val_loss improved from 3.38329 to 3.37040, saving model to weights.best.gray_model.hdf5\n",
      "\n",
      "Epoch 00006: val_loss improved from 3.37040 to 2.85877, saving model to weights.best.gray_model.hdf5\n",
      "\n",
      "Epoch 00007: val_loss improved from 2.85877 to 2.70932, saving model to weights.best.gray_model.hdf5\n",
      "\n",
      "Epoch 00008: val_loss improved from 2.70932 to 2.15681, saving model to weights.best.gray_model.hdf5\n",
      "\n",
      "Epoch 00009: val_loss improved from 2.15681 to 2.03639, saving model to weights.best.gray_model.hdf5\n",
      "\n",
      "Epoch 00010: val_loss improved from 2.03639 to 2.02739, saving model to weights.best.gray_model.hdf5\n",
      "\n",
      "Epoch 00011: val_loss improved from 2.02739 to 1.90605, saving model to weights.best.gray_model.hdf5\n",
      "\n",
      "Epoch 00012: val_loss improved from 1.90605 to 1.57145, saving model to weights.best.gray_model.hdf5\n",
      "\n",
      "Epoch 00013: val_loss improved from 1.57145 to 1.36344, saving model to weights.best.gray_model.hdf5\n",
      "\n",
      "Epoch 00014: val_loss improved from 1.36344 to 1.23527, saving model to weights.best.gray_model.hdf5\n",
      "\n",
      "Epoch 00015: val_loss improved from 1.23527 to 1.08486, saving model to weights.best.gray_model.hdf5\n",
      "\n",
      "Epoch 00016: val_loss did not improve from 1.08486\n",
      "\n",
      "Epoch 00017: val_loss improved from 1.08486 to 0.97010, saving model to weights.best.gray_model.hdf5\n",
      "\n",
      "Epoch 00018: val_loss improved from 0.97010 to 0.91904, saving model to weights.best.gray_model.hdf5\n",
      "\n",
      "Epoch 00019: val_loss did not improve from 0.91904\n",
      "\n",
      "Epoch 00020: val_loss improved from 0.91904 to 0.78284, saving model to weights.best.gray_model.hdf5\n",
      "\n",
      "Epoch 00021: val_loss did not improve from 0.78284\n",
      "\n",
      "Epoch 00022: val_loss did not improve from 0.78284\n",
      "\n",
      "Epoch 00023: val_loss did not improve from 0.78284\n",
      "\n",
      "Epoch 00024: val_loss improved from 0.78284 to 0.72622, saving model to weights.best.gray_model.hdf5\n",
      "\n",
      "Epoch 00025: val_loss improved from 0.72622 to 0.69710, saving model to weights.best.gray_model.hdf5\n",
      "\n",
      "Epoch 00026: val_loss did not improve from 0.69710\n",
      "\n",
      "Epoch 00027: val_loss did not improve from 0.69710\n",
      "\n",
      "Epoch 00028: val_loss improved from 0.69710 to 0.57178, saving model to weights.best.gray_model.hdf5\n",
      "\n",
      "Epoch 00029: val_loss did not improve from 0.57178\n",
      "\n",
      "Epoch 00030: val_loss did not improve from 0.57178\n",
      "\n",
      "Epoch 00031: val_loss did not improve from 0.57178\n",
      "\n",
      "Epoch 00032: val_loss did not improve from 0.57178\n",
      "\n",
      "Epoch 00033: val_loss did not improve from 0.57178\n",
      "\n",
      "Epoch 00034: val_loss improved from 0.57178 to 0.52883, saving model to weights.best.gray_model.hdf5\n",
      "\n",
      "Epoch 00035: val_loss did not improve from 0.52883\n",
      "\n",
      "Epoch 00036: val_loss did not improve from 0.52883\n",
      "\n",
      "Epoch 00037: val_loss did not improve from 0.52883\n",
      "\n",
      "Epoch 00038: val_loss did not improve from 0.52883\n",
      "\n",
      "Epoch 00039: val_loss did not improve from 0.52883\n",
      "\n",
      "Epoch 00040: val_loss did not improve from 0.52883\n",
      "\n",
      "Epoch 00041: val_loss improved from 0.52883 to 0.52257, saving model to weights.best.gray_model.hdf5\n",
      "\n",
      "Epoch 00042: val_loss did not improve from 0.52257\n",
      "\n",
      "Epoch 00043: val_loss improved from 0.52257 to 0.50231, saving model to weights.best.gray_model.hdf5\n",
      "\n",
      "Epoch 00044: val_loss did not improve from 0.50231\n",
      "\n",
      "Epoch 00045: val_loss did not improve from 0.50231\n",
      "\n",
      "Epoch 00046: val_loss did not improve from 0.50231\n",
      "\n",
      "Epoch 00047: val_loss did not improve from 0.50231\n",
      "\n",
      "Epoch 00048: val_loss improved from 0.50231 to 0.44098, saving model to weights.best.gray_model.hdf5\n",
      "\n",
      "Epoch 00049: val_loss did not improve from 0.44098\n",
      "\n",
      "Epoch 00050: val_loss did not improve from 0.44098\n",
      "\n",
      "Epoch 00051: val_loss improved from 0.44098 to 0.38885, saving model to weights.best.gray_model.hdf5\n",
      "\n",
      "Epoch 00052: val_loss did not improve from 0.38885\n",
      "\n",
      "Epoch 00053: val_loss did not improve from 0.38885\n",
      "\n",
      "Epoch 00054: val_loss did not improve from 0.38885\n",
      "\n",
      "Epoch 00055: val_loss did not improve from 0.38885\n",
      "\n",
      "Epoch 00056: val_loss improved from 0.38885 to 0.36511, saving model to weights.best.gray_model.hdf5\n",
      "\n",
      "Epoch 00057: val_loss did not improve from 0.36511\n",
      "\n",
      "Epoch 00058: val_loss did not improve from 0.36511\n",
      "\n",
      "Epoch 00059: val_loss did not improve from 0.36511\n",
      "\n",
      "Epoch 00060: val_loss did not improve from 0.36511\n",
      "\n",
      "Epoch 00061: val_loss did not improve from 0.36511\n",
      "\n",
      "Epoch 00062: val_loss did not improve from 0.36511\n",
      "\n",
      "Epoch 00063: val_loss did not improve from 0.36511\n",
      "\n",
      "Epoch 00064: val_loss did not improve from 0.36511\n",
      "\n",
      "Epoch 00065: val_loss did not improve from 0.36511\n",
      "\n",
      "Epoch 00066: val_loss did not improve from 0.36511\n",
      "\n",
      "Epoch 00066: ReduceLROnPlateau reducing learning rate to 0.000800000037997961.\n",
      "\n",
      "Epoch 00067: val_loss did not improve from 0.36511\n",
      "\n",
      "Epoch 00068: val_loss did not improve from 0.36511\n",
      "\n",
      "Epoch 00069: val_loss did not improve from 0.36511\n",
      "\n",
      "Epoch 00070: val_loss did not improve from 0.36511\n",
      "\n",
      "Epoch 00071: val_loss did not improve from 0.36511\n",
      "\n",
      "Epoch 00072: val_loss improved from 0.36511 to 0.33051, saving model to weights.best.gray_model.hdf5\n",
      "\n",
      "Epoch 00073: val_loss did not improve from 0.33051\n",
      "\n",
      "Epoch 00074: val_loss did not improve from 0.33051\n",
      "\n",
      "Epoch 00075: val_loss did not improve from 0.33051\n",
      "\n",
      "Epoch 00076: val_loss did not improve from 0.33051\n",
      "\n",
      "Epoch 00077: val_loss did not improve from 0.33051\n",
      "\n",
      "Epoch 00078: val_loss did not improve from 0.33051\n",
      "\n",
      "Epoch 00079: val_loss did not improve from 0.33051\n",
      "\n",
      "Epoch 00080: val_loss improved from 0.33051 to 0.32576, saving model to weights.best.gray_model.hdf5\n",
      "\n",
      "Epoch 00081: val_loss did not improve from 0.32576\n",
      "\n",
      "Epoch 00082: val_loss did not improve from 0.32576\n",
      "\n",
      "Epoch 00083: val_loss did not improve from 0.32576\n",
      "\n",
      "Epoch 00084: val_loss did not improve from 0.32576\n",
      "\n",
      "Epoch 00085: val_loss did not improve from 0.32576\n",
      "\n",
      "Epoch 00086: val_loss did not improve from 0.32576\n",
      "\n",
      "Epoch 00087: val_loss did not improve from 0.32576\n",
      "\n",
      "Epoch 00088: val_loss did not improve from 0.32576\n",
      "\n",
      "Epoch 00089: val_loss did not improve from 0.32576\n",
      "\n",
      "Epoch 00090: val_loss did not improve from 0.32576\n",
      "\n",
      "Epoch 00090: ReduceLROnPlateau reducing learning rate to 0.0006400000303983689.\n",
      "\n",
      "Epoch 00091: val_loss did not improve from 0.32576\n",
      "\n",
      "Epoch 00092: val_loss did not improve from 0.32576\n",
      "\n",
      "Epoch 00093: val_loss did not improve from 0.32576\n",
      "\n",
      "Epoch 00094: val_loss did not improve from 0.32576\n",
      "\n",
      "Epoch 00095: val_loss improved from 0.32576 to 0.31864, saving model to weights.best.gray_model.hdf5\n",
      "\n",
      "Epoch 00096: val_loss improved from 0.31864 to 0.31743, saving model to weights.best.gray_model.hdf5\n",
      "\n",
      "Epoch 00097: val_loss did not improve from 0.31743\n",
      "\n",
      "Epoch 00098: val_loss did not improve from 0.31743\n",
      "\n",
      "Epoch 00099: val_loss did not improve from 0.31743\n",
      "\n",
      "Epoch 00100: val_loss did not improve from 0.31743\n",
      "\n",
      "Epoch 00101: val_loss improved from 0.31743 to 0.30556, saving model to weights.best.gray_model.hdf5\n",
      "\n",
      "Epoch 00102: val_loss did not improve from 0.30556\n",
      "\n",
      "Epoch 00103: val_loss did not improve from 0.30556\n",
      "\n",
      "Epoch 00104: val_loss did not improve from 0.30556\n",
      "\n",
      "Epoch 00105: val_loss did not improve from 0.30556\n",
      "\n",
      "Epoch 00106: val_loss did not improve from 0.30556\n",
      "\n",
      "Epoch 00107: val_loss did not improve from 0.30556\n",
      "\n",
      "Epoch 00108: val_loss did not improve from 0.30556\n",
      "\n",
      "Epoch 00109: val_loss did not improve from 0.30556\n",
      "\n",
      "Epoch 00110: val_loss did not improve from 0.30556\n",
      "\n",
      "Epoch 00111: val_loss did not improve from 0.30556\n",
      "\n",
      "Epoch 00111: ReduceLROnPlateau reducing learning rate to 0.0005120000336319208.\n",
      "\n",
      "Epoch 00112: val_loss improved from 0.30556 to 0.30341, saving model to weights.best.gray_model.hdf5\n",
      "\n",
      "Epoch 00113: val_loss did not improve from 0.30341\n",
      "\n",
      "Epoch 00114: val_loss did not improve from 0.30341\n",
      "\n",
      "Epoch 00115: val_loss did not improve from 0.30341\n",
      "\n",
      "Epoch 00116: val_loss did not improve from 0.30341\n",
      "\n",
      "Epoch 00117: val_loss did not improve from 0.30341\n",
      "\n",
      "Epoch 00118: val_loss did not improve from 0.30341\n",
      "\n",
      "Epoch 00119: val_loss did not improve from 0.30341\n",
      "\n",
      "Epoch 00120: val_loss did not improve from 0.30341\n",
      "\n",
      "Epoch 00121: val_loss did not improve from 0.30341\n",
      "\n",
      "Epoch 00122: val_loss did not improve from 0.30341\n",
      "\n",
      "Epoch 00122: ReduceLROnPlateau reducing learning rate to 0.00040960004553198815.\n"
     ]
    },
    {
     "name": "stdout",
     "output_type": "stream",
     "text": [
      "\n",
      "Epoch 00123: val_loss did not improve from 0.30341\n",
      "\n",
      "Epoch 00124: val_loss did not improve from 0.30341\n",
      "\n",
      "Epoch 00125: val_loss did not improve from 0.30341\n",
      "\n",
      "Epoch 00126: val_loss did not improve from 0.30341\n",
      "\n",
      "Epoch 00127: val_loss did not improve from 0.30341\n",
      "\n",
      "Epoch 00128: val_loss did not improve from 0.30341\n",
      "\n",
      "Epoch 00129: val_loss did not improve from 0.30341\n",
      "\n",
      "Epoch 00130: val_loss did not improve from 0.30341\n",
      "\n",
      "Epoch 00131: val_loss did not improve from 0.30341\n",
      "\n",
      "Epoch 00132: val_loss did not improve from 0.30341\n",
      "\n",
      "Epoch 00132: ReduceLROnPlateau reducing learning rate to 0.00032768002711236477.\n",
      "\n",
      "Epoch 00133: val_loss did not improve from 0.30341\n",
      "\n",
      "Epoch 00134: val_loss improved from 0.30341 to 0.29877, saving model to weights.best.gray_model.hdf5\n",
      "\n",
      "Epoch 00135: val_loss did not improve from 0.29877\n",
      "\n",
      "Epoch 00136: val_loss did not improve from 0.29877\n",
      "\n",
      "Epoch 00137: val_loss improved from 0.29877 to 0.28750, saving model to weights.best.gray_model.hdf5\n",
      "\n",
      "Epoch 00138: val_loss did not improve from 0.28750\n",
      "\n",
      "Epoch 00139: val_loss did not improve from 0.28750\n",
      "\n",
      "Epoch 00140: val_loss did not improve from 0.28750\n",
      "\n",
      "Epoch 00141: val_loss did not improve from 0.28750\n",
      "\n",
      "Epoch 00142: val_loss did not improve from 0.28750\n",
      "\n",
      "Epoch 00143: val_loss did not improve from 0.28750\n",
      "\n",
      "Epoch 00144: val_loss did not improve from 0.28750\n",
      "\n",
      "Epoch 00145: val_loss did not improve from 0.28750\n",
      "\n",
      "Epoch 00146: val_loss did not improve from 0.28750\n",
      "\n",
      "Epoch 00147: val_loss did not improve from 0.28750\n",
      "\n",
      "Epoch 00147: ReduceLROnPlateau reducing learning rate to 0.0002621440216898918.\n",
      "\n",
      "Epoch 00148: val_loss did not improve from 0.28750\n",
      "\n",
      "Epoch 00149: val_loss did not improve from 0.28750\n",
      "\n",
      "Epoch 00150: val_loss did not improve from 0.28750\n",
      "\n",
      "Epoch 00151: val_loss did not improve from 0.28750\n",
      "\n",
      "Epoch 00152: val_loss did not improve from 0.28750\n",
      "\n",
      "Epoch 00153: val_loss did not improve from 0.28750\n",
      "\n",
      "Epoch 00154: val_loss did not improve from 0.28750\n",
      "\n",
      "Epoch 00155: val_loss did not improve from 0.28750\n",
      "\n",
      "Epoch 00156: val_loss did not improve from 0.28750\n",
      "\n",
      "Epoch 00157: val_loss did not improve from 0.28750\n",
      "\n",
      "Epoch 00157: ReduceLROnPlateau reducing learning rate to 0.00020971521735191345.\n",
      "\n",
      "Epoch 00158: val_loss did not improve from 0.28750\n",
      "\n",
      "Epoch 00159: val_loss did not improve from 0.28750\n",
      "\n",
      "Epoch 00160: val_loss did not improve from 0.28750\n",
      "\n",
      "Epoch 00161: val_loss did not improve from 0.28750\n",
      "\n",
      "Epoch 00162: val_loss did not improve from 0.28750\n",
      "\n",
      "Epoch 00163: val_loss did not improve from 0.28750\n",
      "\n",
      "Epoch 00164: val_loss did not improve from 0.28750\n",
      "\n",
      "Epoch 00165: val_loss did not improve from 0.28750\n",
      "\n",
      "Epoch 00166: val_loss improved from 0.28750 to 0.27781, saving model to weights.best.gray_model.hdf5\n",
      "\n",
      "Epoch 00167: val_loss did not improve from 0.27781\n",
      "\n",
      "Epoch 00168: val_loss did not improve from 0.27781\n",
      "\n",
      "Epoch 00169: val_loss did not improve from 0.27781\n",
      "\n",
      "Epoch 00170: val_loss did not improve from 0.27781\n",
      "\n",
      "Epoch 00171: val_loss did not improve from 0.27781\n",
      "\n",
      "Epoch 00172: val_loss did not improve from 0.27781\n",
      "\n",
      "Epoch 00173: val_loss did not improve from 0.27781\n",
      "\n",
      "Epoch 00174: val_loss did not improve from 0.27781\n",
      "\n",
      "Epoch 00175: val_loss did not improve from 0.27781\n",
      "\n",
      "Epoch 00176: val_loss did not improve from 0.27781\n",
      "\n",
      "Epoch 00176: ReduceLROnPlateau reducing learning rate to 0.00016777217388153076.\n",
      "\n",
      "Epoch 00177: val_loss did not improve from 0.27781\n",
      "\n",
      "Epoch 00178: val_loss did not improve from 0.27781\n",
      "\n",
      "Epoch 00179: val_loss did not improve from 0.27781\n",
      "\n",
      "Epoch 00180: val_loss did not improve from 0.27781\n",
      "\n",
      "Epoch 00181: val_loss did not improve from 0.27781\n",
      "\n",
      "Epoch 00182: val_loss did not improve from 0.27781\n",
      "\n",
      "Epoch 00183: val_loss improved from 0.27781 to 0.27773, saving model to weights.best.gray_model.hdf5\n",
      "\n",
      "Epoch 00184: val_loss did not improve from 0.27773\n",
      "\n",
      "Epoch 00185: val_loss did not improve from 0.27773\n",
      "\n",
      "Epoch 00186: val_loss did not improve from 0.27773\n",
      "\n",
      "Epoch 00186: ReduceLROnPlateau reducing learning rate to 0.00013421773910522462.\n",
      "\n",
      "Epoch 00187: val_loss did not improve from 0.27773\n",
      "\n",
      "Epoch 00188: val_loss did not improve from 0.27773\n",
      "\n",
      "Epoch 00189: val_loss did not improve from 0.27773\n",
      "\n",
      "Epoch 00190: val_loss did not improve from 0.27773\n",
      "\n",
      "Epoch 00191: val_loss did not improve from 0.27773\n",
      "\n",
      "Epoch 00192: val_loss did not improve from 0.27773\n",
      "\n",
      "Epoch 00193: val_loss did not improve from 0.27773\n",
      "\n",
      "Epoch 00194: val_loss did not improve from 0.27773\n",
      "\n",
      "Epoch 00195: val_loss did not improve from 0.27773\n",
      "\n",
      "Epoch 00196: val_loss did not improve from 0.27773\n",
      "\n",
      "Epoch 00196: ReduceLROnPlateau reducing learning rate to 0.00010737419361248613.\n",
      "\n",
      "Epoch 00197: val_loss did not improve from 0.27773\n",
      "\n",
      "Epoch 00198: val_loss did not improve from 0.27773\n",
      "\n",
      "Epoch 00199: val_loss did not improve from 0.27773\n",
      "\n",
      "Epoch 00200: val_loss did not improve from 0.27773\n"
     ]
    }
   ],
   "source": [
    "hide_code\n",
    "# Train the model\n",
    "gray_history = gray_model.fit(x_train2, y_train2, \n",
    "                              epochs=200, batch_size=64, verbose=0,\n",
    "                              validation_data=(x_valid2, y_valid2),\n",
    "                              callbacks=[gray_checkpointer, gray_lr_reduction])"
   ]
  },
  {
   "cell_type": "code",
   "execution_count": 57,
   "metadata": {},
   "outputs": [
    {
     "data": {
      "image/png": "[encoded data removed]",
      "text/plain": [
       "<Figure size 1296x864 with 2 Axes>"
      ]
     },
     "metadata": {},
     "output_type": "display_data"
    }
   ],
   "source": [
    "hide_code\n",
    "# Plot the training history\n",
    "history_plot(gray_history, 0)"
   ]
  },
  {
   "cell_type": "markdown",
   "metadata": {},
   "source": [
    "Try to reach an accuracy greater than 80%"
   ]
  },
  {
   "cell_type": "code",
   "execution_count": 58,
   "metadata": {},
   "outputs": [
    {
     "name": "stdout",
     "output_type": "stream",
     "text": [
      "1419/1419 [==============================] - 9s 6ms/step\n"
     ]
    },
    {
     "data": {
      "text/plain": [
       "[0.3054520464525246, 0.9295278365045807]"
      ]
     },
     "execution_count": 58,
     "metadata": {},
     "output_type": "execute_result"
    }
   ],
   "source": [
    "hide_code\n",
    "# Load the model with the best validation accuracy\n",
    "gray_model.load_weights('weights.best.gray_model.hdf5')\n",
    "# Calculate classification accuracy on the testing set\n",
    "gray_score = gray_model.evaluate(x_test2, y_test2)\n",
    "gray_score"
   ]
  },
  {
   "cell_type": "markdown",
   "metadata": {},
   "source": [
    "Apply the ImageDataGenerator() function."
   ]
  },
  {
   "cell_type": "code",
   "execution_count": 61,
   "metadata": {},
   "outputs": [
    {
     "name": "stdout",
     "output_type": "stream",
     "text": [
      "Epoch 1/20\n",
      " - 257s - loss: 0.7912 - acc: 0.7939 - val_loss: 0.2639 - val_acc: 0.9232\n",
      "\n",
      "Epoch 00001: val_loss improved from 0.27773 to 0.26388, saving model to weights.best.gray_model.hdf5\n",
      "Epoch 2/20\n",
      " - 246s - loss: 0.7671 - acc: 0.8008 - val_loss: 0.2861 - val_acc: 0.9197\n",
      "\n",
      "Epoch 00002: val_loss did not improve from 0.26388\n",
      "Epoch 3/20\n",
      " - 245s - loss: 0.7388 - acc: 0.8044 - val_loss: 0.2917 - val_acc: 0.9232\n",
      "\n",
      "Epoch 00003: val_loss did not improve from 0.26388\n",
      "Epoch 4/20\n",
      " - 242s - loss: 0.7273 - acc: 0.8091 - val_loss: 0.2842 - val_acc: 0.9239\n",
      "\n",
      "Epoch 00004: val_loss did not improve from 0.26388\n",
      "Epoch 5/20\n",
      " - 249s - loss: 0.7195 - acc: 0.8105 - val_loss: 0.2909 - val_acc: 0.9232\n",
      "\n",
      "Epoch 00005: val_loss did not improve from 0.26388\n",
      "Epoch 6/20\n",
      " - 265s - loss: 0.7158 - acc: 0.8116 - val_loss: 0.2784 - val_acc: 0.9225\n",
      "\n",
      "Epoch 00006: val_loss did not improve from 0.26388\n",
      "Epoch 7/20\n",
      " - 279s - loss: 0.6965 - acc: 0.8137 - val_loss: 0.2907 - val_acc: 0.9218\n",
      "\n",
      "Epoch 00007: val_loss did not improve from 0.26388\n",
      "Epoch 8/20\n",
      " - 271s - loss: 0.6951 - acc: 0.8175 - val_loss: 0.2848 - val_acc: 0.9232\n",
      "\n",
      "Epoch 00008: val_loss did not improve from 0.26388\n",
      "Epoch 9/20\n",
      " - 254s - loss: 0.6683 - acc: 0.8229 - val_loss: 0.2688 - val_acc: 0.9274\n",
      "\n",
      "Epoch 00009: val_loss did not improve from 0.26388\n",
      "Epoch 10/20\n",
      " - 250s - loss: 0.6747 - acc: 0.8199 - val_loss: 0.2731 - val_acc: 0.9267\n",
      "\n",
      "Epoch 00010: val_loss did not improve from 0.26388\n",
      "Epoch 11/20\n",
      " - 253s - loss: 0.6568 - acc: 0.8248 - val_loss: 0.2816 - val_acc: 0.9281\n",
      "\n",
      "Epoch 00011: val_loss did not improve from 0.26388\n",
      "\n",
      "Epoch 00011: ReduceLROnPlateau reducing learning rate to 8.589935605414213e-05.\n",
      "Epoch 12/20\n",
      " - 249s - loss: 0.6588 - acc: 0.8245 - val_loss: 0.2763 - val_acc: 0.9323\n",
      "\n",
      "Epoch 00012: val_loss did not improve from 0.26388\n",
      "Epoch 13/20\n",
      " - 248s - loss: 0.6460 - acc: 0.8303 - val_loss: 0.2771 - val_acc: 0.9331\n",
      "\n",
      "Epoch 00013: val_loss did not improve from 0.26388\n",
      "Epoch 14/20\n",
      " - 248s - loss: 0.6342 - acc: 0.8281 - val_loss: 0.2871 - val_acc: 0.9288\n",
      "\n",
      "Epoch 00014: val_loss did not improve from 0.26388\n",
      "Epoch 15/20\n",
      " - 247s - loss: 0.6265 - acc: 0.8331 - val_loss: 0.2660 - val_acc: 0.9281\n",
      "\n",
      "Epoch 00015: val_loss did not improve from 0.26388\n",
      "Epoch 16/20\n",
      " - 248s - loss: 0.6320 - acc: 0.8291 - val_loss: 0.2780 - val_acc: 0.9288\n",
      "\n",
      "Epoch 00016: val_loss did not improve from 0.26388\n",
      "Epoch 17/20\n",
      " - 252s - loss: 0.6257 - acc: 0.8340 - val_loss: 0.2639 - val_acc: 0.9331\n",
      "\n",
      "Epoch 00017: val_loss did not improve from 0.26388\n",
      "Epoch 18/20\n",
      " - 250s - loss: 0.6122 - acc: 0.8354 - val_loss: 0.2821 - val_acc: 0.9246\n",
      "\n",
      "Epoch 00018: val_loss did not improve from 0.26388\n",
      "Epoch 19/20\n",
      " - 251s - loss: 0.6188 - acc: 0.8328 - val_loss: 0.2683 - val_acc: 0.9274\n",
      "\n",
      "Epoch 00019: val_loss did not improve from 0.26388\n",
      "Epoch 20/20\n",
      " - 259s - loss: 0.6102 - acc: 0.8371 - val_loss: 0.2816 - val_acc: 0.9274\n",
      "\n",
      "Epoch 00020: val_loss did not improve from 0.26388\n"
     ]
    }
   ],
   "source": [
    "hide_code\n",
    "# Fit the model with ImageDataGenerator()\n",
    "# TODO: Define parameters\n",
    "steps, epochs = 1000, 20\n",
    "data_generator = ImageDataGenerator(zoom_range=0.2, shear_range=0.2, rotation_range=20)\n",
    "\n",
    "gray_generator = gray_model.fit_generator(data_generator.flow(x_train2, y_train2, batch_size=64),\n",
    "                                          steps_per_epoch = steps, epochs = epochs,\n",
    "                                          validation_data = (x_valid2, y_valid2), \n",
    "                                          callbacks=[gray_checkpointer, gray_lr_reduction], verbose=2)"
   ]
  },
  {
   "cell_type": "code",
   "execution_count": 62,
   "metadata": {},
   "outputs": [
    {
     "name": "stdout",
     "output_type": "stream",
     "text": [
      "1419/1419 [==============================] - 11s 8ms/step\n"
     ]
    },
    {
     "data": {
      "text/plain": [
       "[0.290765018877721, 0.9231853420000163]"
      ]
     },
     "execution_count": 62,
     "metadata": {},
     "output_type": "execute_result"
    }
   ],
   "source": [
    "hide_code\n",
    "# Load the model with the best validation accuracy\n",
    "gray_model.load_weights('weights.best.gray_model.hdf5')\n",
    "# Calculate classification accuracy on the testing set\n",
    "gray_score = gray_model.evaluate(x_test2, y_test2)\n",
    "gray_score"
   ]
  },
  {
   "cell_type": "markdown",
   "metadata": {},
   "source": [
    "Let's compare the results with classifying algorithms."
   ]
  },
  {
   "cell_type": "code",
   "execution_count": null,
   "metadata": {
    "collapsed": true
   },
   "outputs": [],
   "source": [
    "hide_code\n",
    "# Fit the classifier and get the accuracy score\n",
    "y_train2_c = np.array([np.argmax(y) for y in y_train2])\n",
    "y_test2_c = np.array([np.argmax(y) for y in y_test2])\n",
    "clf = GradientBoostingClassifier().fit(x_train2.reshape(-1, 32*32), y_train2_c)\n",
    "clf.score(x_test2.reshape(-1, 32*32), y_test2_c)"
   ]
  },
  {
   "cell_type": "code",
   "execution_count": null,
   "metadata": {
    "collapsed": true
   },
   "outputs": [],
   "source": [
    "hide_code\n",
    "# Fit the classifier and get the accuracy score\n",
    "clf2 = RandomForestClassifier().fit(x_train2.reshape(-1, 32*32), y_train2_c)\n",
    "clf2.score(x_test2.reshape(-1, 32*32), y_test2_c)"
   ]
  },
  {
   "cell_type": "markdown",
   "metadata": {},
   "source": [
    "## Step 5. Create a Multi-Label Classification Model\n",
    "### Color Images"
   ]
  },
  {
   "cell_type": "code",
   "execution_count": 71,
   "metadata": {},
   "outputs": [],
   "source": [
    "hide_code\n",
    "def multi_model():    \n",
    "    model_input = Input(shape=(32, 32, 3))\n",
    "    x = BatchNormalization()(model_input)\n",
    "    # TODO: Define a model architecture\n",
    "    x = Conv2D(32, (3, 3), padding='same')(model_input)\n",
    "    x = LeakyReLU(alpha=0.02)(x)\n",
    "    x = MaxPooling2D(pool_size=(2, 2))(x)    \n",
    "    x = Dropout(0.25)(x)\n",
    "    \n",
    "    x = Conv2D(128, (3, 3), padding='same')(x)\n",
    "    x = LeakyReLU(alpha=0.02)(x)\n",
    "    x = MaxPooling2D(pool_size=(2, 2))(x)    \n",
    "    x = Dropout(0.25)(x)\n",
    "              \n",
    "    x = GlobalMaxPooling2D()(x)\n",
    "    \n",
    "    x = Dense(1024)(x)\n",
    "    x = LeakyReLU(alpha=0.02)(x)\n",
    "    x = Dropout(0.25)(x)\n",
    "    \n",
    "    x = Dense(128)(x)  \n",
    "    x = LeakyReLU(alpha=0.02)(x)\n",
    "    x = Dropout(0.25)(x)\n",
    "    \n",
    "    y1 = Dense(33, activation='softmax')(x)\n",
    "    y2 = Dense(4, activation='softmax')(x)\n",
    "    \n",
    "    model = Model(inputs=model_input, outputs=[y1, y2])\n",
    "    \n",
    "    # TODO: Compile the model\n",
    "    model.compile(loss='categorical_crossentropy', optimizer='nadam', metrics=['accuracy'])\n",
    "    return model\n",
    "\n",
    "multi_model = multi_model()"
   ]
  },
  {
   "cell_type": "code",
   "execution_count": 72,
   "metadata": {},
   "outputs": [
    {
     "name": "stdout",
     "output_type": "stream",
     "text": [
      "__________________________________________________________________________________________________\n",
      "Layer (type)                    Output Shape         Param #     Connected to                     \n",
      "==================================================================================================\n",
      "input_2 (InputLayer)            (None, 32, 32, 3)    0                                            \n",
      "__________________________________________________________________________________________________\n",
      "conv2d_11 (Conv2D)              (None, 32, 32, 32)   896         input_2[0][0]                    \n",
      "__________________________________________________________________________________________________\n",
      "leaky_re_lu_18 (LeakyReLU)      (None, 32, 32, 32)   0           conv2d_11[0][0]                  \n",
      "__________________________________________________________________________________________________\n",
      "max_pooling2d_11 (MaxPooling2D) (None, 16, 16, 32)   0           leaky_re_lu_18[0][0]             \n",
      "__________________________________________________________________________________________________\n",
      "dropout_18 (Dropout)            (None, 16, 16, 32)   0           max_pooling2d_11[0][0]           \n",
      "__________________________________________________________________________________________________\n",
      "conv2d_12 (Conv2D)              (None, 16, 16, 128)  36992       dropout_18[0][0]                 \n",
      "__________________________________________________________________________________________________\n",
      "leaky_re_lu_19 (LeakyReLU)      (None, 16, 16, 128)  0           conv2d_12[0][0]                  \n",
      "__________________________________________________________________________________________________\n",
      "max_pooling2d_12 (MaxPooling2D) (None, 8, 8, 128)    0           leaky_re_lu_19[0][0]             \n",
      "__________________________________________________________________________________________________\n",
      "dropout_19 (Dropout)            (None, 8, 8, 128)    0           max_pooling2d_12[0][0]           \n",
      "__________________________________________________________________________________________________\n",
      "global_max_pooling2d_6 (GlobalM (None, 128)          0           dropout_19[0][0]                 \n",
      "__________________________________________________________________________________________________\n",
      "dense_14 (Dense)                (None, 1024)         132096      global_max_pooling2d_6[0][0]     \n",
      "__________________________________________________________________________________________________\n",
      "leaky_re_lu_20 (LeakyReLU)      (None, 1024)         0           dense_14[0][0]                   \n",
      "__________________________________________________________________________________________________\n",
      "dropout_20 (Dropout)            (None, 1024)         0           leaky_re_lu_20[0][0]             \n",
      "__________________________________________________________________________________________________\n",
      "dense_15 (Dense)                (None, 128)          131200      dropout_20[0][0]                 \n",
      "__________________________________________________________________________________________________\n",
      "leaky_re_lu_21 (LeakyReLU)      (None, 128)          0           dense_15[0][0]                   \n",
      "__________________________________________________________________________________________________\n",
      "dropout_21 (Dropout)            (None, 128)          0           leaky_re_lu_21[0][0]             \n",
      "__________________________________________________________________________________________________\n",
      "dense_16 (Dense)                (None, 33)           4257        dropout_21[0][0]                 \n",
      "__________________________________________________________________________________________________\n",
      "dense_17 (Dense)                (None, 4)            516         dropout_21[0][0]                 \n",
      "==================================================================================================\n",
      "Total params: 305,957\n",
      "Trainable params: 305,957\n",
      "Non-trainable params: 0\n",
      "__________________________________________________________________________________________________\n"
     ]
    }
   ],
   "source": [
    "hide_code\n",
    "# Display the model architecture\n",
    "multi_model.summary()"
   ]
  },
  {
   "cell_type": "code",
   "execution_count": 74,
   "metadata": {},
   "outputs": [],
   "source": [
    "hide_code\n",
    "# Create callbacks\n",
    "multi_checkpointer = ModelCheckpoint(filepath='weights.best.multi.hdf5', \n",
    "                                     verbose=2, save_best_only=True)\n",
    "multi_lr_reduction = ReduceLROnPlateau(monitor='val_loss', \n",
    "                                       patience=5, verbose=2, factor=0.8)"
   ]
  },
  {
   "cell_type": "code",
   "execution_count": 75,
   "metadata": {},
   "outputs": [
    {
     "name": "stdout",
     "output_type": "stream",
     "text": [
      "\n",
      "Epoch 00001: val_loss improved from inf to 4.40898, saving model to weights.best.multi.hdf5\n",
      "\n",
      "Epoch 00002: val_loss improved from 4.40898 to 4.20733, saving model to weights.best.multi.hdf5\n",
      "\n",
      "Epoch 00003: val_loss improved from 4.20733 to 4.01372, saving model to weights.best.multi.hdf5\n",
      "\n",
      "Epoch 00004: val_loss improved from 4.01372 to 3.91702, saving model to weights.best.multi.hdf5\n",
      "\n",
      "Epoch 00005: val_loss improved from 3.91702 to 3.79861, saving model to weights.best.multi.hdf5\n",
      "\n",
      "Epoch 00006: val_loss did not improve from 3.79861\n",
      "\n",
      "Epoch 00007: val_loss did not improve from 3.79861\n",
      "\n",
      "Epoch 00008: val_loss did not improve from 3.79861\n",
      "\n",
      "Epoch 00009: val_loss improved from 3.79861 to 3.65847, saving model to weights.best.multi.hdf5\n",
      "\n",
      "Epoch 00010: val_loss did not improve from 3.65847\n",
      "\n",
      "Epoch 00011: val_loss did not improve from 3.65847\n",
      "\n",
      "Epoch 00012: val_loss did not improve from 3.65847\n",
      "\n",
      "Epoch 00013: val_loss improved from 3.65847 to 3.53820, saving model to weights.best.multi.hdf5\n",
      "\n",
      "Epoch 00014: val_loss did not improve from 3.53820\n",
      "\n",
      "Epoch 00015: val_loss improved from 3.53820 to 3.41594, saving model to weights.best.multi.hdf5\n",
      "\n",
      "Epoch 00016: val_loss did not improve from 3.41594\n",
      "\n",
      "Epoch 00017: val_loss improved from 3.41594 to 3.40702, saving model to weights.best.multi.hdf5\n",
      "\n",
      "Epoch 00018: val_loss did not improve from 3.40702\n",
      "\n",
      "Epoch 00019: val_loss did not improve from 3.40702\n",
      "\n",
      "Epoch 00020: val_loss did not improve from 3.40702\n",
      "\n",
      "Epoch 00021: val_loss improved from 3.40702 to 3.16133, saving model to weights.best.multi.hdf5\n",
      "\n",
      "Epoch 00022: val_loss did not improve from 3.16133\n",
      "\n",
      "Epoch 00023: val_loss did not improve from 3.16133\n",
      "\n",
      "Epoch 00024: val_loss did not improve from 3.16133\n",
      "\n",
      "Epoch 00025: val_loss improved from 3.16133 to 3.15801, saving model to weights.best.multi.hdf5\n",
      "\n",
      "Epoch 00026: val_loss did not improve from 3.15801\n",
      "\n",
      "Epoch 00027: val_loss did not improve from 3.15801\n",
      "\n",
      "Epoch 00028: val_loss did not improve from 3.15801\n",
      "\n",
      "Epoch 00029: val_loss did not improve from 3.15801\n",
      "\n",
      "Epoch 00030: val_loss did not improve from 3.15801\n",
      "\n",
      "Epoch 00030: ReduceLROnPlateau reducing learning rate to 0.001600000075995922.\n",
      "\n",
      "Epoch 00031: val_loss did not improve from 3.15801\n",
      "\n",
      "Epoch 00032: val_loss did not improve from 3.15801\n",
      "\n",
      "Epoch 00033: val_loss improved from 3.15801 to 3.12298, saving model to weights.best.multi.hdf5\n",
      "\n",
      "Epoch 00034: val_loss did not improve from 3.12298\n",
      "\n",
      "Epoch 00035: val_loss did not improve from 3.12298\n",
      "\n",
      "Epoch 00036: val_loss did not improve from 3.12298\n",
      "\n",
      "Epoch 00037: val_loss improved from 3.12298 to 2.96928, saving model to weights.best.multi.hdf5\n",
      "\n",
      "Epoch 00038: val_loss did not improve from 2.96928\n",
      "\n",
      "Epoch 00039: val_loss did not improve from 2.96928\n",
      "\n",
      "Epoch 00040: val_loss did not improve from 2.96928\n",
      "\n",
      "Epoch 00041: val_loss did not improve from 2.96928\n",
      "\n",
      "Epoch 00042: val_loss did not improve from 2.96928\n",
      "\n",
      "Epoch 00042: ReduceLROnPlateau reducing learning rate to 0.0012800000607967378.\n",
      "\n",
      "Epoch 00043: val_loss did not improve from 2.96928\n",
      "\n",
      "Epoch 00044: val_loss did not improve from 2.96928\n",
      "\n",
      "Epoch 00045: val_loss did not improve from 2.96928\n",
      "\n",
      "Epoch 00046: val_loss did not improve from 2.96928\n",
      "\n",
      "Epoch 00047: val_loss did not improve from 2.96928\n",
      "\n",
      "Epoch 00047: ReduceLROnPlateau reducing learning rate to 0.0010240000672638416.\n",
      "\n",
      "Epoch 00048: val_loss did not improve from 2.96928\n",
      "\n",
      "Epoch 00049: val_loss did not improve from 2.96928\n",
      "\n",
      "Epoch 00050: val_loss did not improve from 2.96928\n",
      "\n",
      "Epoch 00051: val_loss did not improve from 2.96928\n",
      "\n",
      "Epoch 00052: val_loss did not improve from 2.96928\n",
      "\n",
      "Epoch 00052: ReduceLROnPlateau reducing learning rate to 0.0008192000910639763.\n",
      "\n",
      "Epoch 00053: val_loss did not improve from 2.96928\n",
      "\n",
      "Epoch 00054: val_loss did not improve from 2.96928\n",
      "\n",
      "Epoch 00055: val_loss did not improve from 2.96928\n",
      "\n",
      "Epoch 00056: val_loss did not improve from 2.96928\n",
      "\n",
      "Epoch 00057: val_loss did not improve from 2.96928\n",
      "\n",
      "Epoch 00057: ReduceLROnPlateau reducing learning rate to 0.0006553600542247295.\n",
      "\n",
      "Epoch 00058: val_loss did not improve from 2.96928\n",
      "\n",
      "Epoch 00059: val_loss did not improve from 2.96928\n",
      "\n",
      "Epoch 00060: val_loss did not improve from 2.96928\n",
      "\n",
      "Epoch 00061: val_loss did not improve from 2.96928\n",
      "\n",
      "Epoch 00062: val_loss did not improve from 2.96928\n",
      "\n",
      "Epoch 00062: ReduceLROnPlateau reducing learning rate to 0.0005242880433797836.\n",
      "\n",
      "Epoch 00063: val_loss did not improve from 2.96928\n",
      "\n",
      "Epoch 00064: val_loss did not improve from 2.96928\n",
      "\n",
      "Epoch 00065: val_loss did not improve from 2.96928\n",
      "\n",
      "Epoch 00066: val_loss did not improve from 2.96928\n",
      "\n",
      "Epoch 00067: val_loss did not improve from 2.96928\n",
      "\n",
      "Epoch 00067: ReduceLROnPlateau reducing learning rate to 0.0004194304347038269.\n",
      "\n",
      "Epoch 00068: val_loss did not improve from 2.96928\n",
      "\n",
      "Epoch 00069: val_loss did not improve from 2.96928\n",
      "\n",
      "Epoch 00070: val_loss did not improve from 2.96928\n",
      "\n",
      "Epoch 00071: val_loss did not improve from 2.96928\n",
      "\n",
      "Epoch 00072: val_loss did not improve from 2.96928\n",
      "\n",
      "Epoch 00072: ReduceLROnPlateau reducing learning rate to 0.0003355443477630615.\n",
      "\n",
      "Epoch 00073: val_loss did not improve from 2.96928\n",
      "\n",
      "Epoch 00074: val_loss did not improve from 2.96928\n",
      "\n",
      "Epoch 00075: val_loss did not improve from 2.96928\n",
      "\n",
      "Epoch 00076: val_loss did not improve from 2.96928\n",
      "\n",
      "Epoch 00077: val_loss did not improve from 2.96928\n",
      "\n",
      "Epoch 00077: ReduceLROnPlateau reducing learning rate to 0.00026843547821044924.\n",
      "\n",
      "Epoch 00078: val_loss did not improve from 2.96928\n",
      "\n",
      "Epoch 00079: val_loss did not improve from 2.96928\n",
      "\n",
      "Epoch 00080: val_loss did not improve from 2.96928\n",
      "\n",
      "Epoch 00081: val_loss did not improve from 2.96928\n",
      "\n",
      "Epoch 00082: val_loss did not improve from 2.96928\n",
      "\n",
      "Epoch 00082: ReduceLROnPlateau reducing learning rate to 0.00021474838722497226.\n",
      "\n",
      "Epoch 00083: val_loss did not improve from 2.96928\n",
      "\n",
      "Epoch 00084: val_loss did not improve from 2.96928\n",
      "\n",
      "Epoch 00085: val_loss did not improve from 2.96928\n",
      "\n",
      "Epoch 00086: val_loss did not improve from 2.96928\n",
      "\n",
      "Epoch 00087: val_loss did not improve from 2.96928\n",
      "\n",
      "Epoch 00087: ReduceLROnPlateau reducing learning rate to 0.00017179871210828426.\n",
      "\n",
      "Epoch 00088: val_loss did not improve from 2.96928\n",
      "\n",
      "Epoch 00089: val_loss did not improve from 2.96928\n",
      "\n",
      "Epoch 00090: val_loss did not improve from 2.96928\n",
      "\n",
      "Epoch 00091: val_loss did not improve from 2.96928\n",
      "\n",
      "Epoch 00092: val_loss did not improve from 2.96928\n",
      "\n",
      "Epoch 00092: ReduceLROnPlateau reducing learning rate to 0.00013743897434324027.\n",
      "\n",
      "Epoch 00093: val_loss did not improve from 2.96928\n",
      "\n",
      "Epoch 00094: val_loss did not improve from 2.96928\n",
      "\n",
      "Epoch 00095: val_loss did not improve from 2.96928\n",
      "\n",
      "Epoch 00096: val_loss did not improve from 2.96928\n",
      "\n",
      "Epoch 00097: val_loss did not improve from 2.96928\n",
      "\n",
      "Epoch 00097: ReduceLROnPlateau reducing learning rate to 0.00010995117481797934.\n",
      "\n",
      "Epoch 00098: val_loss did not improve from 2.96928\n",
      "\n",
      "Epoch 00099: val_loss did not improve from 2.96928\n",
      "\n",
      "Epoch 00100: val_loss did not improve from 2.96928\n"
     ]
    }
   ],
   "source": [
    "hide_code\n",
    "# Train the model\n",
    "multi_history = multi_model.fit(x_train3, y_train3_list, \n",
    "                                validation_data=(x_valid3, y_valid3_list), \n",
    "                                epochs=100, batch_size=64, verbose=0, \n",
    "                                callbacks=[multi_checkpointer, multi_lr_reduction])"
   ]
  },
  {
   "cell_type": "markdown",
   "metadata": {},
   "source": [
    "We should have an accuracy greater than 3% for the first target (letter) and greater than 25% for the second target (background)."
   ]
  },
  {
   "cell_type": "code",
   "execution_count": 76,
   "metadata": {},
   "outputs": [
    {
     "name": "stdout",
     "output_type": "stream",
     "text": [
      "Scores: \n",
      " [8.749844092731328, 2.8440989943941855, 5.905745039194549, 0.18252290353714537, 0.3883016209647721]\n",
      "First label. Accuracy: 18.25%\n",
      "Second label. Accuracy: 38.83%\n"
     ]
    }
   ],
   "source": [
    "hide_code\n",
    "# Load the model with the best validation accuracy\n",
    "multi_model.load_weights('weights.best.multi.hdf5')\n",
    "# Calculate classification accuracy on the testing set\n",
    "multi_scores = multi_model.evaluate(x_test3, y_test3_list, verbose=0)\n",
    "\n",
    "print(\"Scores: \\n\" , (multi_scores))\n",
    "print(\"First label. Accuracy: %.2f%%\" % (multi_scores[3]*100))\n",
    "print(\"Second label. Accuracy: %.2f%%\" % (multi_scores[4]*100))"
   ]
  },
  {
   "cell_type": "markdown",
   "metadata": {
    "collapsed": true
   },
   "source": [
    "### Grayscaled Images"
   ]
  },
  {
   "cell_type": "code",
   "execution_count": 78,
   "metadata": {},
   "outputs": [],
   "source": [
    "hide_code\n",
    "def gray_multi_model():    \n",
    "    model_input = Input(shape=(32, 32, 1))\n",
    "    x = BatchNormalization()(model_input)\n",
    "    \n",
    "    # TODO: Define a model architecture\n",
    "    x = Conv2D(32, (5, 5), padding='same')(model_input)\n",
    "    x = LeakyReLU(alpha=0.02)(x)\n",
    "    x = MaxPooling2D(pool_size=(2, 2))(x)    \n",
    "    x = Dropout(0.25)(x)\n",
    "    \n",
    "    x = Conv2D(256, (5, 5), padding='same')(x) \n",
    "    x = LeakyReLU(alpha=0.02)(x)\n",
    "    x = MaxPooling2D(pool_size=(2, 2))(x)    \n",
    "    x = Dropout(0.25)(x)\n",
    "              \n",
    "    x = GlobalMaxPooling2D()(x)\n",
    "    \n",
    "    x = Dense(1024)(x) \n",
    "    x = LeakyReLU(alpha=0.02)(x)\n",
    "    x = Dropout(0.25)(x)\n",
    "    \n",
    "    x = Dense(256)(x) \n",
    "    x = LeakyReLU(alpha=0.02)(x)\n",
    "    x = Dropout(0.25)(x)\n",
    "    \n",
    "    y1 = Dense(33, activation='softmax')(x)\n",
    "    y2 = Dense(4, activation='softmax')(x)\n",
    "       \n",
    "    model = Model(inputs=model_input, outputs=[y1, y2])\n",
    "    \n",
    "    # TODO: Compile the model\n",
    "    model.compile(loss='categorical_crossentropy', optimizer='rmsprop', metrics=['accuracy'])  \n",
    "    \n",
    "    return model\n",
    "\n",
    "gray_multi_model = gray_multi_model()"
   ]
  },
  {
   "cell_type": "code",
   "execution_count": 79,
   "metadata": {},
   "outputs": [],
   "source": [
    "hide_code\n",
    "# Create callbacks\n",
    "gray_multi_checkpointer = ModelCheckpoint(filepath='weights.best.gray_multi.hdf5', \n",
    "                                          verbose=2, save_best_only=True)\n",
    "hide_code\n",
    "# Display the model architecture\n",
    "gray_multi_lr_reduction = ReduceLROnPlateau(monitor='val_loss', \n",
    "                                            patience=10, verbose=2, factor=0.8)"
   ]
  },
  {
   "cell_type": "code",
   "execution_count": 80,
   "metadata": {},
   "outputs": [
    {
     "name": "stdout",
     "output_type": "stream",
     "text": [
      "\n",
      "Epoch 00001: val_loss improved from inf to 4.56719, saving model to weights.best.gray_multi.hdf5\n",
      "\n",
      "Epoch 00002: val_loss improved from 4.56719 to 4.10845, saving model to weights.best.gray_multi.hdf5\n",
      "\n",
      "Epoch 00003: val_loss improved from 4.10845 to 3.82228, saving model to weights.best.gray_multi.hdf5\n",
      "\n",
      "Epoch 00004: val_loss did not improve from 3.82228\n",
      "\n",
      "Epoch 00005: val_loss improved from 3.82228 to 3.57119, saving model to weights.best.gray_multi.hdf5\n",
      "\n",
      "Epoch 00006: val_loss improved from 3.57119 to 3.50969, saving model to weights.best.gray_multi.hdf5\n",
      "\n",
      "Epoch 00007: val_loss did not improve from 3.50969\n",
      "\n",
      "Epoch 00008: val_loss improved from 3.50969 to 3.41744, saving model to weights.best.gray_multi.hdf5\n",
      "\n",
      "Epoch 00009: val_loss improved from 3.41744 to 3.38803, saving model to weights.best.gray_multi.hdf5\n",
      "\n",
      "Epoch 00010: val_loss improved from 3.38803 to 3.01899, saving model to weights.best.gray_multi.hdf5\n",
      "\n",
      "Epoch 00011: val_loss improved from 3.01899 to 2.74828, saving model to weights.best.gray_multi.hdf5\n",
      "\n",
      "Epoch 00012: val_loss improved from 2.74828 to 2.63922, saving model to weights.best.gray_multi.hdf5\n",
      "\n",
      "Epoch 00013: val_loss did not improve from 2.63922\n",
      "\n",
      "Epoch 00014: val_loss improved from 2.63922 to 2.56891, saving model to weights.best.gray_multi.hdf5\n",
      "\n",
      "Epoch 00015: val_loss improved from 2.56891 to 2.19898, saving model to weights.best.gray_multi.hdf5\n",
      "\n",
      "Epoch 00016: val_loss did not improve from 2.19898\n",
      "\n",
      "Epoch 00017: val_loss did not improve from 2.19898\n",
      "\n",
      "Epoch 00018: val_loss did not improve from 2.19898\n",
      "\n",
      "Epoch 00019: val_loss improved from 2.19898 to 2.15843, saving model to weights.best.gray_multi.hdf5\n",
      "\n",
      "Epoch 00020: val_loss did not improve from 2.15843\n",
      "\n",
      "Epoch 00021: val_loss improved from 2.15843 to 1.88533, saving model to weights.best.gray_multi.hdf5\n",
      "\n",
      "Epoch 00022: val_loss improved from 1.88533 to 1.59052, saving model to weights.best.gray_multi.hdf5\n",
      "\n",
      "Epoch 00023: val_loss did not improve from 1.59052\n",
      "\n",
      "Epoch 00024: val_loss improved from 1.59052 to 1.50788, saving model to weights.best.gray_multi.hdf5\n",
      "\n",
      "Epoch 00025: val_loss improved from 1.50788 to 1.39603, saving model to weights.best.gray_multi.hdf5\n",
      "\n",
      "Epoch 00026: val_loss did not improve from 1.39603\n",
      "\n",
      "Epoch 00027: val_loss improved from 1.39603 to 1.21846, saving model to weights.best.gray_multi.hdf5\n",
      "\n",
      "Epoch 00028: val_loss did not improve from 1.21846\n",
      "\n",
      "Epoch 00029: val_loss did not improve from 1.21846\n",
      "\n",
      "Epoch 00030: val_loss improved from 1.21846 to 1.14028, saving model to weights.best.gray_multi.hdf5\n",
      "\n",
      "Epoch 00031: val_loss did not improve from 1.14028\n",
      "\n",
      "Epoch 00032: val_loss did not improve from 1.14028\n",
      "\n",
      "Epoch 00033: val_loss did not improve from 1.14028\n",
      "\n",
      "Epoch 00034: val_loss improved from 1.14028 to 0.97151, saving model to weights.best.gray_multi.hdf5\n",
      "\n",
      "Epoch 00035: val_loss did not improve from 0.97151\n",
      "\n",
      "Epoch 00036: val_loss did not improve from 0.97151\n",
      "\n",
      "Epoch 00037: val_loss did not improve from 0.97151\n",
      "\n",
      "Epoch 00038: val_loss did not improve from 0.97151\n",
      "\n",
      "Epoch 00039: val_loss did not improve from 0.97151\n",
      "\n",
      "Epoch 00040: val_loss improved from 0.97151 to 0.91962, saving model to weights.best.gray_multi.hdf5\n",
      "\n",
      "Epoch 00041: val_loss did not improve from 0.91962\n",
      "\n",
      "Epoch 00042: val_loss did not improve from 0.91962\n",
      "\n",
      "Epoch 00043: val_loss did not improve from 0.91962\n",
      "\n",
      "Epoch 00044: val_loss improved from 0.91962 to 0.82838, saving model to weights.best.gray_multi.hdf5\n",
      "\n",
      "Epoch 00045: val_loss did not improve from 0.82838\n",
      "\n",
      "Epoch 00046: val_loss improved from 0.82838 to 0.79367, saving model to weights.best.gray_multi.hdf5\n",
      "\n",
      "Epoch 00047: val_loss did not improve from 0.79367\n",
      "\n",
      "Epoch 00048: val_loss did not improve from 0.79367\n",
      "\n",
      "Epoch 00049: val_loss did not improve from 0.79367\n",
      "\n",
      "Epoch 00050: val_loss did not improve from 0.79367\n",
      "\n",
      "Epoch 00051: val_loss did not improve from 0.79367\n",
      "\n",
      "Epoch 00052: val_loss improved from 0.79367 to 0.68909, saving model to weights.best.gray_multi.hdf5\n",
      "\n",
      "Epoch 00053: val_loss did not improve from 0.68909\n",
      "\n",
      "Epoch 00054: val_loss did not improve from 0.68909\n",
      "\n",
      "Epoch 00055: val_loss did not improve from 0.68909\n",
      "\n",
      "Epoch 00056: val_loss did not improve from 0.68909\n",
      "\n",
      "Epoch 00057: val_loss did not improve from 0.68909\n",
      "\n",
      "Epoch 00058: val_loss did not improve from 0.68909\n",
      "\n",
      "Epoch 00059: val_loss did not improve from 0.68909\n",
      "\n",
      "Epoch 00060: val_loss improved from 0.68909 to 0.65689, saving model to weights.best.gray_multi.hdf5\n",
      "\n",
      "Epoch 00061: val_loss did not improve from 0.65689\n",
      "\n",
      "Epoch 00062: val_loss did not improve from 0.65689\n",
      "\n",
      "Epoch 00063: val_loss did not improve from 0.65689\n",
      "\n",
      "Epoch 00064: val_loss did not improve from 0.65689\n",
      "\n",
      "Epoch 00065: val_loss did not improve from 0.65689\n",
      "\n",
      "Epoch 00066: val_loss did not improve from 0.65689\n",
      "\n",
      "Epoch 00067: val_loss did not improve from 0.65689\n",
      "\n",
      "Epoch 00068: val_loss did not improve from 0.65689\n",
      "\n",
      "Epoch 00069: val_loss did not improve from 0.65689\n",
      "\n",
      "Epoch 00070: val_loss improved from 0.65689 to 0.56727, saving model to weights.best.gray_multi.hdf5\n",
      "\n",
      "Epoch 00071: val_loss did not improve from 0.56727\n",
      "\n",
      "Epoch 00072: val_loss did not improve from 0.56727\n",
      "\n",
      "Epoch 00073: val_loss did not improve from 0.56727\n",
      "\n",
      "Epoch 00074: val_loss did not improve from 0.56727\n",
      "\n",
      "Epoch 00075: val_loss did not improve from 0.56727\n",
      "\n",
      "Epoch 00076: val_loss did not improve from 0.56727\n",
      "\n",
      "Epoch 00077: val_loss did not improve from 0.56727\n",
      "\n",
      "Epoch 00078: val_loss did not improve from 0.56727\n",
      "\n",
      "Epoch 00079: val_loss did not improve from 0.56727\n",
      "\n",
      "Epoch 00080: val_loss did not improve from 0.56727\n",
      "\n",
      "Epoch 00080: ReduceLROnPlateau reducing learning rate to 0.000800000037997961.\n",
      "\n",
      "Epoch 00081: val_loss did not improve from 0.56727\n",
      "\n",
      "Epoch 00082: val_loss did not improve from 0.56727\n",
      "\n",
      "Epoch 00083: val_loss did not improve from 0.56727\n",
      "\n",
      "Epoch 00084: val_loss did not improve from 0.56727\n",
      "\n",
      "Epoch 00085: val_loss did not improve from 0.56727\n",
      "\n",
      "Epoch 00086: val_loss did not improve from 0.56727\n",
      "\n",
      "Epoch 00087: val_loss did not improve from 0.56727\n",
      "\n",
      "Epoch 00088: val_loss did not improve from 0.56727\n",
      "\n",
      "Epoch 00089: val_loss did not improve from 0.56727\n",
      "\n",
      "Epoch 00090: val_loss improved from 0.56727 to 0.53355, saving model to weights.best.gray_multi.hdf5\n",
      "\n",
      "Epoch 00091: val_loss did not improve from 0.53355\n",
      "\n",
      "Epoch 00092: val_loss did not improve from 0.53355\n",
      "\n",
      "Epoch 00093: val_loss did not improve from 0.53355\n",
      "\n",
      "Epoch 00094: val_loss did not improve from 0.53355\n",
      "\n",
      "Epoch 00095: val_loss did not improve from 0.53355\n",
      "\n",
      "Epoch 00096: val_loss did not improve from 0.53355\n",
      "\n",
      "Epoch 00097: val_loss did not improve from 0.53355\n",
      "\n",
      "Epoch 00098: val_loss did not improve from 0.53355\n",
      "\n",
      "Epoch 00099: val_loss did not improve from 0.53355\n",
      "\n",
      "Epoch 00100: val_loss did not improve from 0.53355\n",
      "\n",
      "Epoch 00100: ReduceLROnPlateau reducing learning rate to 0.0006400000303983689.\n"
     ]
    }
   ],
   "source": [
    "hide_code\n",
    "# Train the model\n",
    "gray_multi_history = gray_multi_model.fit(x_train4, y_train4_list, \n",
    "                                          validation_data=(x_valid4, y_valid4_list), \n",
    "                                          epochs=100, batch_size=64, verbose=0, \n",
    "                                          callbacks=[gray_multi_checkpointer, gray_multi_lr_reduction])"
   ]
  },
  {
   "cell_type": "markdown",
   "metadata": {},
   "source": [
    "We should have an accuracy greater than 3% for the first target (letter) and greater than 25% for the second target (background)."
   ]
  },
  {
   "cell_type": "code",
   "execution_count": 81,
   "metadata": {},
   "outputs": [
    {
     "name": "stdout",
     "output_type": "stream",
     "text": [
      "Scores: \n",
      " [0.585417575624898, 0.5349602406927193, 0.05045733699766877, 0.8308668076109936, 0.9901338971106413]\n",
      "First label. Accuracy: 83.09%\n",
      "Second label. Accuracy: 99.01%\n"
     ]
    }
   ],
   "source": [
    "hide_code\n",
    "# Load the model with the best validation accuracy\n",
    "gray_multi_model.load_weights('weights.best.gray_multi.hdf5')\n",
    "# Calculate classification accuracy on the testing set\n",
    "gray_multi_scores = gray_multi_model.evaluate(x_test4, y_test4_list, verbose=0)\n",
    "\n",
    "print(\"Scores: \\n\" , (gray_multi_scores))\n",
    "print(\"First label. Accuracy: %.2f%%\" % (gray_multi_scores[3]*100))\n",
    "print(\"Second label. Accuracy: %.2f%%\" % (gray_multi_scores[4]*100))"
   ]
  },
  {
   "cell_type": "markdown",
   "metadata": {},
   "source": [
    "## Step 6. Keras Applications\n",
    "Choose one of the keras applications and try to reach an accuracy greater than 30%\n",
    "### Color Images"
   ]
  },
  {
   "cell_type": "code",
   "execution_count": 37,
   "metadata": {},
   "outputs": [],
   "source": [
    "hide_code\n",
    "# Create bottleneck features\n",
    "resize_x_train = np.array([scipy.misc.imresize(x_train[i], (48,48,3)) \n",
    "                           for i in range(0, len(x_train))]).astype('float32')\n",
    "resize_x_valid = np.array([scipy.misc.imresize(x_valid[i], (48,48,3)) \n",
    "                           for i in range(0, len(x_valid))]).astype('float32')\n",
    "resize_x_test = np.array([scipy.misc.imresize(x_test[i], (48,48,3)) \n",
    "                          for i in range(0, len(x_test))]).astype('float32')\n",
    "\n",
    "vgg16_x_train = preprocess_input(resize_x_train)\n",
    "vgg16_x_valid = preprocess_input(resize_x_valid)\n",
    "vgg16_x_test = preprocess_input(resize_x_test)\n",
    "\n",
    "vgg16_base_model = VGG16(weights='imagenet', include_top=False)\n",
    "x_train_bn = vgg16_base_model.predict(vgg16_x_train)\n",
    "x_valid_bn = vgg16_base_model.predict(vgg16_x_valid)\n",
    "x_test_bn = vgg16_base_model.predict(vgg16_x_test)"
   ]
  },
  {
   "cell_type": "code",
   "execution_count": null,
   "metadata": {
    "collapsed": true
   },
   "outputs": [],
   "source": [
    "hide_code\n",
    "# Save bottleneck features\n",
    "#x_train_bn = np.squeeze(x_train_bn)\n",
    "#x_valid_bn = np.squeeze(x_valid_bn)\n",
    "#x_test_bn = np.squeeze(x_test_bn)\n",
    "\n",
    "np.save('x_train_bn.npy', x_train_bn)\n",
    "np.save('x_valid_bn.npy', x_valid_bn)\n",
    "np.save('x_test_bn.npy', x_test_bn)"
   ]
  },
  {
   "cell_type": "code",
   "execution_count": null,
   "metadata": {
    "collapsed": true
   },
   "outputs": [],
   "source": [
    "hide_code\n",
    "# Load bottleneck features\n",
    "x_train_bn = np.load('x_train_bn.npy')\n",
    "x_valid_bn = np.load('x_valid_bn.npy')\n",
    "x_test_bn = np.load('x_test_bn.npy')"
   ]
  },
  {
   "cell_type": "code",
   "execution_count": 51,
   "metadata": {},
   "outputs": [],
   "source": [
    "hide_code\n",
    "def vgg16_model():\n",
    "    model = Sequential()\n",
    "    # TODO: Define a model architecture\n",
    "    \n",
    "    model.add(GlobalAveragePooling2D(input_shape=x_train_bn.shape[1:]))\n",
    "    \n",
    "    model.add(Dense(2048))\n",
    "    model.add(LeakyReLU(alpha=0.02))\n",
    "    model.add(Dropout(0.5))\n",
    "        \n",
    "    model.add(Dense(256))\n",
    "    model.add(LeakyReLU(alpha=0.02))\n",
    "    model.add(Dropout(0.5))\n",
    "    \n",
    "    model.add(Dense(33, activation='softmax'))\n",
    "    # TODO: Compile the model     \n",
    "    model.compile(loss='categorical_crossentropy',optimizer='nadam',metrics=['accuracy'])\n",
    "    return model\n",
    "\n",
    "vgg16_model = vgg16_model()"
   ]
  },
  {
   "cell_type": "code",
   "execution_count": 52,
   "metadata": {},
   "outputs": [],
   "source": [
    "hide_code\n",
    "# Create callbacks\n",
    "vgg16_checkpointer = ModelCheckpoint(filepath='weights.best.vgg16.hdf5', \n",
    "                                     verbose=2,save_best_only=True)\n",
    "\n",
    "vgg16_lr_reduction = ReduceLROnPlateau(monitor='val_loss', \n",
    "                                       patience=10,verbose=2,factor=0.8)"
   ]
  },
  {
   "cell_type": "code",
   "execution_count": 53,
   "metadata": {},
   "outputs": [
    {
     "name": "stdout",
     "output_type": "stream",
     "text": [
      "\n",
      "Epoch 00001: val_loss improved from inf to 13.18783, saving model to weights.best.vgg16.hdf5\n",
      "\n",
      "Epoch 00002: val_loss improved from 13.18783 to 2.88023, saving model to weights.best.vgg16.hdf5\n",
      "\n",
      "Epoch 00003: val_loss improved from 2.88023 to 2.48637, saving model to weights.best.vgg16.hdf5\n",
      "\n",
      "Epoch 00004: val_loss improved from 2.48637 to 2.27948, saving model to weights.best.vgg16.hdf5\n",
      "\n",
      "Epoch 00005: val_loss improved from 2.27948 to 2.12670, saving model to weights.best.vgg16.hdf5\n",
      "\n",
      "Epoch 00006: val_loss improved from 2.12670 to 1.99492, saving model to weights.best.vgg16.hdf5\n",
      "\n",
      "Epoch 00007: val_loss improved from 1.99492 to 1.85828, saving model to weights.best.vgg16.hdf5\n",
      "\n",
      "Epoch 00008: val_loss improved from 1.85828 to 1.76830, saving model to weights.best.vgg16.hdf5\n",
      "\n",
      "Epoch 00009: val_loss improved from 1.76830 to 1.72557, saving model to weights.best.vgg16.hdf5\n",
      "\n",
      "Epoch 00010: val_loss improved from 1.72557 to 1.70302, saving model to weights.best.vgg16.hdf5\n",
      "\n",
      "Epoch 00011: val_loss did not improve from 1.70302\n",
      "\n",
      "Epoch 00012: val_loss improved from 1.70302 to 1.63408, saving model to weights.best.vgg16.hdf5\n",
      "\n",
      "Epoch 00013: val_loss improved from 1.63408 to 1.63218, saving model to weights.best.vgg16.hdf5\n",
      "\n",
      "Epoch 00014: val_loss improved from 1.63218 to 1.61494, saving model to weights.best.vgg16.hdf5\n",
      "\n",
      "Epoch 00015: val_loss improved from 1.61494 to 1.58993, saving model to weights.best.vgg16.hdf5\n",
      "\n",
      "Epoch 00016: val_loss improved from 1.58993 to 1.56691, saving model to weights.best.vgg16.hdf5\n",
      "\n",
      "Epoch 00017: val_loss did not improve from 1.56691\n",
      "\n",
      "Epoch 00018: val_loss improved from 1.56691 to 1.54014, saving model to weights.best.vgg16.hdf5\n",
      "\n",
      "Epoch 00019: val_loss improved from 1.54014 to 1.50607, saving model to weights.best.vgg16.hdf5\n",
      "\n",
      "Epoch 00020: val_loss did not improve from 1.50607\n",
      "\n",
      "Epoch 00021: val_loss did not improve from 1.50607\n",
      "\n",
      "Epoch 00022: val_loss did not improve from 1.50607\n",
      "\n",
      "Epoch 00023: val_loss improved from 1.50607 to 1.49742, saving model to weights.best.vgg16.hdf5\n",
      "\n",
      "Epoch 00024: val_loss improved from 1.49742 to 1.46901, saving model to weights.best.vgg16.hdf5\n",
      "\n",
      "Epoch 00025: val_loss improved from 1.46901 to 1.44264, saving model to weights.best.vgg16.hdf5\n",
      "\n",
      "Epoch 00026: val_loss did not improve from 1.44264\n",
      "\n",
      "Epoch 00027: val_loss did not improve from 1.44264\n",
      "\n",
      "Epoch 00028: val_loss did not improve from 1.44264\n",
      "\n",
      "Epoch 00029: val_loss improved from 1.44264 to 1.43446, saving model to weights.best.vgg16.hdf5\n",
      "\n",
      "Epoch 00030: val_loss did not improve from 1.43446\n",
      "\n",
      "Epoch 00031: val_loss did not improve from 1.43446\n",
      "\n",
      "Epoch 00032: val_loss did not improve from 1.43446\n",
      "\n",
      "Epoch 00033: val_loss did not improve from 1.43446\n",
      "\n",
      "Epoch 00034: val_loss did not improve from 1.43446\n",
      "\n",
      "Epoch 00035: val_loss did not improve from 1.43446\n",
      "\n",
      "Epoch 00036: val_loss did not improve from 1.43446\n",
      "\n",
      "Epoch 00037: val_loss did not improve from 1.43446\n",
      "\n",
      "Epoch 00038: val_loss did not improve from 1.43446\n",
      "\n",
      "Epoch 00039: val_loss did not improve from 1.43446\n",
      "\n",
      "Epoch 00039: ReduceLROnPlateau reducing learning rate to 0.001600000075995922.\n",
      "\n",
      "Epoch 00040: val_loss improved from 1.43446 to 1.42423, saving model to weights.best.vgg16.hdf5\n",
      "\n",
      "Epoch 00041: val_loss did not improve from 1.42423\n",
      "\n",
      "Epoch 00042: val_loss did not improve from 1.42423\n",
      "\n",
      "Epoch 00043: val_loss did not improve from 1.42423\n",
      "\n",
      "Epoch 00044: val_loss improved from 1.42423 to 1.39349, saving model to weights.best.vgg16.hdf5\n",
      "\n",
      "Epoch 00045: val_loss did not improve from 1.39349\n",
      "\n",
      "Epoch 00046: val_loss did not improve from 1.39349\n",
      "\n",
      "Epoch 00047: val_loss did not improve from 1.39349\n",
      "\n",
      "Epoch 00048: val_loss did not improve from 1.39349\n",
      "\n",
      "Epoch 00049: val_loss did not improve from 1.39349\n",
      "\n",
      "Epoch 00050: val_loss did not improve from 1.39349\n",
      "\n",
      "Epoch 00051: val_loss did not improve from 1.39349\n",
      "\n",
      "Epoch 00052: val_loss did not improve from 1.39349\n",
      "\n",
      "Epoch 00053: val_loss did not improve from 1.39349\n",
      "\n",
      "Epoch 00054: val_loss did not improve from 1.39349\n",
      "\n",
      "Epoch 00054: ReduceLROnPlateau reducing learning rate to 0.0012800000607967378.\n",
      "\n",
      "Epoch 00055: val_loss did not improve from 1.39349\n",
      "\n",
      "Epoch 00056: val_loss did not improve from 1.39349\n",
      "\n",
      "Epoch 00057: val_loss did not improve from 1.39349\n",
      "\n",
      "Epoch 00058: val_loss did not improve from 1.39349\n",
      "\n",
      "Epoch 00059: val_loss did not improve from 1.39349\n",
      "\n",
      "Epoch 00060: val_loss did not improve from 1.39349\n",
      "\n",
      "Epoch 00061: val_loss did not improve from 1.39349\n",
      "\n",
      "Epoch 00062: val_loss did not improve from 1.39349\n",
      "\n",
      "Epoch 00063: val_loss did not improve from 1.39349\n",
      "\n",
      "Epoch 00064: val_loss did not improve from 1.39349\n",
      "\n",
      "Epoch 00064: ReduceLROnPlateau reducing learning rate to 0.0010240000672638416.\n",
      "\n",
      "Epoch 00065: val_loss did not improve from 1.39349\n",
      "\n",
      "Epoch 00066: val_loss did not improve from 1.39349\n",
      "\n",
      "Epoch 00067: val_loss did not improve from 1.39349\n",
      "\n",
      "Epoch 00068: val_loss did not improve from 1.39349\n",
      "\n",
      "Epoch 00069: val_loss did not improve from 1.39349\n",
      "\n",
      "Epoch 00070: val_loss did not improve from 1.39349\n"
     ]
    }
   ],
   "source": [
    "hide_code\n",
    "# Fit the model \n",
    "vgg16_history = vgg16_model.fit(x_train_bn,y_train, \n",
    "                                validation_data=(x_valid_bn, y_valid),\n",
    "                                epochs=70, batch_size=128, \n",
    "                                callbacks=[vgg16_checkpointer, \n",
    "                                           vgg16_lr_reduction], \n",
    "                                verbose=0);"
   ]
  },
  {
   "cell_type": "code",
   "execution_count": 54,
   "metadata": {},
   "outputs": [
    {
     "data": {
      "image/png": "[encoded data removed]",
      "text/plain": [
       "<Figure size 1296x864 with 2 Axes>"
      ]
     },
     "metadata": {},
     "output_type": "display_data"
    }
   ],
   "source": [
    "hide_code\n",
    "# Plot the training history\n",
    "history_plot(vgg16_history, 0)"
   ]
  },
  {
   "cell_type": "code",
   "execution_count": 55,
   "metadata": {},
   "outputs": [
    {
     "name": "stdout",
     "output_type": "stream",
     "text": [
      "1419/1419 [==============================] - 0s 250us/step\n",
      "Accuracy: 58.00%\n"
     ]
    },
    {
     "data": {
      "text/plain": [
       "[1.5458970134572465, 0.5799859057353196]"
      ]
     },
     "execution_count": 55,
     "metadata": {},
     "output_type": "execute_result"
    }
   ],
   "source": [
    "hide_code\n",
    "# Load the model with the best validation accuracy\n",
    "vgg16_model.load_weights('weights.best.vgg16.hdf5')\n",
    "# Calculate classification accuracy on the testing set\n",
    "vgg16_scores = vgg16_model.evaluate(x_test_bn,y_test)\n",
    "print(\"Accuracy: %.2f%%\" % (vgg16_scores[1]*100))\n",
    "vgg16_scores"
   ]
  },
  {
   "cell_type": "markdown",
   "metadata": {},
   "source": [
    "### Grayscaled Images"
   ]
  },
  {
   "cell_type": "code",
   "execution_count": 56,
   "metadata": {},
   "outputs": [],
   "source": [
    "hide_code\n",
    "# Create bottleneck features\n",
    "resize_x_train2 = np.array([scipy.misc.imresize(x_train2_color[i], (48,48,3)) \n",
    "                            for i in range(0, len(x_train2_color))]).astype('float32')\n",
    "resize_x_valid2 = np.array([scipy.misc.imresize(x_valid2_color[i], (48,48,3)) \n",
    "                            for i in range(0, len(x_valid2_color))]).astype('float32')\n",
    "resize_x_test2 = np.array([scipy.misc.imresize(x_test2_color[i], (48,48,3)) \n",
    "                           for i in range(0, len(x_test2_color))]).astype('float32')\n",
    "\n",
    "vgg16_x_train2 = preprocess_input(resize_x_train2)\n",
    "vgg16_x_valid2 = preprocess_input(resize_x_valid2)\n",
    "vgg16_x_test2 = preprocess_input(resize_x_test2)\n",
    "\n",
    "vgg16_base_model2 = VGG16(weights='imagenet', include_top=False)\n",
    "x_train_bn2 = vgg16_base_model2.predict(vgg16_x_train2)\n",
    "x_valid_bn2 = vgg16_base_model2.predict(vgg16_x_valid2)\n",
    "x_test_bn2 = vgg16_base_model2.predict(vgg16_x_test2)"
   ]
  },
  {
   "cell_type": "code",
   "execution_count": null,
   "metadata": {
    "collapsed": true
   },
   "outputs": [],
   "source": [
    "hide_code\n",
    "# Save bottleneck features\n",
    "#x_train_bn2 = np.squeeze(x_train_bn2)\n",
    "#x_valid_bn2 = np.squeeze(x_valid_bn2)\n",
    "#x_test_bn2 = np.squeeze(x_test_bn2)\n",
    "\n",
    "np.save('x_train_bn2.npy', x_train_bn2)\n",
    "np.save('x_valid_bn2.npy', x_valid_bn2)\n",
    "np.save('x_test_bn2.npy', x_test_bn2)"
   ]
  },
  {
   "cell_type": "code",
   "execution_count": null,
   "metadata": {
    "collapsed": true
   },
   "outputs": [],
   "source": [
    "hide_code\n",
    "# Load bottleneck features\n",
    "x_train_bn2 = np.load('x_train_bn2.npy')\n",
    "x_valid_bn2 = np.load('x_valid_bn2.npy')\n",
    "x_test_bn2 = np.load('x_test_bn2.npy')"
   ]
  },
  {
   "cell_type": "code",
   "execution_count": 57,
   "metadata": {},
   "outputs": [],
   "source": [
    "hide_code\n",
    "def vgg16_gray_model():\n",
    "    model = Sequential()\n",
    "    \n",
    "    # TODO: Define a model architecture\n",
    "    model.add(GlobalAveragePooling2D(input_shape=x_train_bn2.shape[1:]))\n",
    "    \n",
    "    model.add(Dense(2048))\n",
    "    model.add(LeakyReLU(alpha=0.01))    \n",
    "    model.add(Dropout(0.5))\n",
    "        \n",
    "    model.add(Dense(256))\n",
    "    model.add(LeakyReLU(alpha=0.01))\n",
    "    model.add(Dropout(0.5))\n",
    "    \n",
    "    model.add(Dense(33,activation='softmax'))\n",
    "    \n",
    "    # TODO: Compile the model     \n",
    "    model.compile(loss='categorical_crossentropy',optimizer='rmsprop',metrics=['accuracy'])\n",
    "    return model\n",
    "\n",
    "vgg16_gray_model = vgg16_gray_model()"
   ]
  },
  {
   "cell_type": "code",
   "execution_count": 58,
   "metadata": {},
   "outputs": [],
   "source": [
    "hide_code\n",
    "# Create callbacks\n",
    "vgg16_gray_checkpointer = ModelCheckpoint(filepath='weights.best.vgg16_gray.hdf5', \n",
    "                                          verbose=2,save_best_only=True)\n",
    "vgg16_gray_lr_reduction = ReduceLROnPlateau(monitor='val_loss', \n",
    "                                            patience=5,verbose=2,factor=0.5)"
   ]
  },
  {
   "cell_type": "code",
   "execution_count": 59,
   "metadata": {},
   "outputs": [
    {
     "name": "stdout",
     "output_type": "stream",
     "text": [
      "\n",
      "Epoch 00001: val_loss improved from inf to 14.41310, saving model to weights.best.vgg16_gray.hdf5\n",
      "\n",
      "Epoch 00002: val_loss improved from 14.41310 to 3.19180, saving model to weights.best.vgg16_gray.hdf5\n",
      "\n",
      "Epoch 00003: val_loss improved from 3.19180 to 2.90512, saving model to weights.best.vgg16_gray.hdf5\n",
      "\n",
      "Epoch 00004: val_loss improved from 2.90512 to 2.66898, saving model to weights.best.vgg16_gray.hdf5\n",
      "\n",
      "Epoch 00005: val_loss improved from 2.66898 to 2.56208, saving model to weights.best.vgg16_gray.hdf5\n",
      "\n",
      "Epoch 00006: val_loss improved from 2.56208 to 2.39597, saving model to weights.best.vgg16_gray.hdf5\n",
      "\n",
      "Epoch 00007: val_loss improved from 2.39597 to 2.20028, saving model to weights.best.vgg16_gray.hdf5\n",
      "\n",
      "Epoch 00008: val_loss improved from 2.20028 to 2.15364, saving model to weights.best.vgg16_gray.hdf5\n",
      "\n",
      "Epoch 00009: val_loss improved from 2.15364 to 2.05387, saving model to weights.best.vgg16_gray.hdf5\n",
      "\n",
      "Epoch 00010: val_loss improved from 2.05387 to 1.95761, saving model to weights.best.vgg16_gray.hdf5\n",
      "\n",
      "Epoch 00011: val_loss did not improve from 1.95761\n",
      "\n",
      "Epoch 00012: val_loss improved from 1.95761 to 1.87979, saving model to weights.best.vgg16_gray.hdf5\n",
      "\n",
      "Epoch 00013: val_loss improved from 1.87979 to 1.76557, saving model to weights.best.vgg16_gray.hdf5\n",
      "\n",
      "Epoch 00014: val_loss did not improve from 1.76557\n",
      "\n",
      "Epoch 00015: val_loss did not improve from 1.76557\n",
      "\n",
      "Epoch 00016: val_loss improved from 1.76557 to 1.72918, saving model to weights.best.vgg16_gray.hdf5\n",
      "\n",
      "Epoch 00017: val_loss improved from 1.72918 to 1.69652, saving model to weights.best.vgg16_gray.hdf5\n",
      "\n",
      "Epoch 00018: val_loss did not improve from 1.69652\n",
      "\n",
      "Epoch 00019: val_loss improved from 1.69652 to 1.64543, saving model to weights.best.vgg16_gray.hdf5\n",
      "\n",
      "Epoch 00020: val_loss did not improve from 1.64543\n",
      "\n",
      "Epoch 00021: val_loss improved from 1.64543 to 1.64085, saving model to weights.best.vgg16_gray.hdf5\n",
      "\n",
      "Epoch 00022: val_loss did not improve from 1.64085\n",
      "\n",
      "Epoch 00023: val_loss did not improve from 1.64085\n",
      "\n",
      "Epoch 00024: val_loss improved from 1.64085 to 1.62769, saving model to weights.best.vgg16_gray.hdf5\n",
      "\n",
      "Epoch 00025: val_loss did not improve from 1.62769\n",
      "\n",
      "Epoch 00026: val_loss did not improve from 1.62769\n",
      "\n",
      "Epoch 00027: val_loss did not improve from 1.62769\n",
      "\n",
      "Epoch 00028: val_loss did not improve from 1.62769\n",
      "\n",
      "Epoch 00029: val_loss did not improve from 1.62769\n",
      "\n",
      "Epoch 00029: ReduceLROnPlateau reducing learning rate to 0.0005000000237487257.\n",
      "\n",
      "Epoch 00030: val_loss did not improve from 1.62769\n",
      "\n",
      "Epoch 00031: val_loss improved from 1.62769 to 1.62578, saving model to weights.best.vgg16_gray.hdf5\n",
      "\n",
      "Epoch 00032: val_loss did not improve from 1.62578\n",
      "\n",
      "Epoch 00033: val_loss did not improve from 1.62578\n",
      "\n",
      "Epoch 00034: val_loss did not improve from 1.62578\n",
      "\n",
      "Epoch 00035: val_loss did not improve from 1.62578\n",
      "\n",
      "Epoch 00036: val_loss did not improve from 1.62578\n",
      "\n",
      "Epoch 00036: ReduceLROnPlateau reducing learning rate to 0.0002500000118743628.\n",
      "\n",
      "Epoch 00037: val_loss did not improve from 1.62578\n",
      "\n",
      "Epoch 00038: val_loss did not improve from 1.62578\n",
      "\n",
      "Epoch 00039: val_loss did not improve from 1.62578\n",
      "\n",
      "Epoch 00040: val_loss did not improve from 1.62578\n",
      "\n",
      "Epoch 00041: val_loss did not improve from 1.62578\n",
      "\n",
      "Epoch 00041: ReduceLROnPlateau reducing learning rate to 0.0001250000059371814.\n",
      "\n",
      "Epoch 00042: val_loss did not improve from 1.62578\n",
      "\n",
      "Epoch 00043: val_loss did not improve from 1.62578\n",
      "\n",
      "Epoch 00044: val_loss did not improve from 1.62578\n",
      "\n",
      "Epoch 00045: val_loss did not improve from 1.62578\n",
      "\n",
      "Epoch 00046: val_loss did not improve from 1.62578\n",
      "\n",
      "Epoch 00046: ReduceLROnPlateau reducing learning rate to 6.25000029685907e-05.\n",
      "\n",
      "Epoch 00047: val_loss did not improve from 1.62578\n",
      "\n",
      "Epoch 00048: val_loss did not improve from 1.62578\n",
      "\n",
      "Epoch 00049: val_loss did not improve from 1.62578\n",
      "\n",
      "Epoch 00050: val_loss did not improve from 1.62578\n",
      "\n",
      "Epoch 00051: val_loss did not improve from 1.62578\n",
      "\n",
      "Epoch 00051: ReduceLROnPlateau reducing learning rate to 3.125000148429535e-05.\n",
      "\n",
      "Epoch 00052: val_loss did not improve from 1.62578\n",
      "\n",
      "Epoch 00053: val_loss did not improve from 1.62578\n",
      "\n",
      "Epoch 00054: val_loss did not improve from 1.62578\n",
      "\n",
      "Epoch 00055: val_loss did not improve from 1.62578\n",
      "\n",
      "Epoch 00056: val_loss did not improve from 1.62578\n",
      "\n",
      "Epoch 00056: ReduceLROnPlateau reducing learning rate to 1.5625000742147677e-05.\n",
      "\n",
      "Epoch 00057: val_loss did not improve from 1.62578\n",
      "\n",
      "Epoch 00058: val_loss did not improve from 1.62578\n",
      "\n",
      "Epoch 00059: val_loss did not improve from 1.62578\n",
      "\n",
      "Epoch 00060: val_loss did not improve from 1.62578\n",
      "\n",
      "Epoch 00061: val_loss did not improve from 1.62578\n",
      "\n",
      "Epoch 00061: ReduceLROnPlateau reducing learning rate to 7.812500371073838e-06.\n",
      "\n",
      "Epoch 00062: val_loss did not improve from 1.62578\n",
      "\n",
      "Epoch 00063: val_loss did not improve from 1.62578\n",
      "\n",
      "Epoch 00064: val_loss did not improve from 1.62578\n",
      "\n",
      "Epoch 00065: val_loss did not improve from 1.62578\n",
      "\n",
      "Epoch 00066: val_loss did not improve from 1.62578\n",
      "\n",
      "Epoch 00066: ReduceLROnPlateau reducing learning rate to 3.906250185536919e-06.\n",
      "\n",
      "Epoch 00067: val_loss did not improve from 1.62578\n",
      "\n",
      "Epoch 00068: val_loss did not improve from 1.62578\n",
      "\n",
      "Epoch 00069: val_loss did not improve from 1.62578\n",
      "\n",
      "Epoch 00070: val_loss did not improve from 1.62578\n"
     ]
    }
   ],
   "source": [
    "hide_code\n",
    "# Fit the model \n",
    "vgg16_gray_history = vgg16_gray_model.fit(x_train_bn2,y_train2, \n",
    "                                          validation_data=(x_valid_bn2, y_valid2),\n",
    "                                          epochs=70,batch_size=128, \n",
    "                                          callbacks=[vgg16_gray_checkpointer, \n",
    "                                                     vgg16_gray_lr_reduction], \n",
    "                                          verbose=0);"
   ]
  },
  {
   "cell_type": "code",
   "execution_count": 60,
   "metadata": {},
   "outputs": [
    {
     "data": {
      "image/png": "[encoded data removed]",
      "text/plain": [
       "<Figure size 1296x864 with 2 Axes>"
      ]
     },
     "metadata": {},
     "output_type": "display_data"
    }
   ],
   "source": [
    "hide_code\n",
    "# Plot the training history\n",
    "history_plot(vgg16_gray_history, 0)"
   ]
  },
  {
   "cell_type": "code",
   "execution_count": 61,
   "metadata": {},
   "outputs": [
    {
     "name": "stdout",
     "output_type": "stream",
     "text": [
      "1419/1419 [==============================] - 0s 255us/step\n",
      "Accuracy: 59.41%\n"
     ]
    },
    {
     "data": {
      "text/plain": [
       "[1.694364378576635, 0.5940803382243801]"
      ]
     },
     "execution_count": 61,
     "metadata": {},
     "output_type": "execute_result"
    }
   ],
   "source": [
    "hide_code\n",
    "# Load the model with the best validation accuracy\n",
    "vgg16_gray_model.load_weights('weights.best.vgg16_gray.hdf5')\n",
    "# Calculate classification accuracy on the testing set\n",
    "vgg16_gray_scores = vgg16_gray_model.evaluate(x_test_bn2, y_test2)\n",
    "print(\"Accuracy: %.2f%%\" % (vgg16_gray_scores[1]*100))\n",
    "vgg16_gray_scores"
   ]
  },
  {
   "cell_type": "markdown",
   "metadata": {},
   "source": [
    "## Step 7. Predictions\n",
    "Display predictions for the models with the best accuracy.\n",
    "### Color Images"
   ]
  },
  {
   "cell_type": "code",
   "execution_count": 65,
   "metadata": {},
   "outputs": [],
   "source": [
    "hide_code\n",
    "# Create a list of symbols\n",
    "symbols = ['а','б','в','г','д','е','ё','ж','з','и','й',\n",
    "           'к','л','м','н','о','п','р','с','т','у','ф',\n",
    "           'х','ц','ч','ш','щ','ъ','ы','ь','э','ю','я']"
   ]
  },
  {
   "cell_type": "code",
   "execution_count": 66,
   "metadata": {},
   "outputs": [],
   "source": [
    "hide_code\n",
    "# Model predictions for the testing dataset\n",
    "y_test_predict = model.predict_classes(x_test)"
   ]
  },
  {
   "cell_type": "code",
   "execution_count": 67,
   "metadata": {},
   "outputs": [
    {
     "data": {
      "image/png": "[encoded data removed]",
      "text/plain": [
       "<Figure size 1296x1296 with 16 Axes>"
      ]
     },
     "metadata": {},
     "output_type": "display_data"
    }
   ],
   "source": [
    "hide_code\n",
    "# Display true labels and predictions\n",
    "fig = plt.figure(figsize=(18, 18))\n",
    "for i, idx in enumerate(np.random.choice(x_test.shape[0], size=16, replace=False)):\n",
    "    ax = fig.add_subplot(4, 4, i + 1, xticks=[], yticks=[])\n",
    "    ax.imshow(np.squeeze(x_test[idx]))\n",
    "    pred_idx = y_test_predict[idx]\n",
    "    true_idx = np.argmax(y_test[idx])\n",
    "    ax.set_title(\"{} ({})\".format(symbols[pred_idx], symbols[true_idx]),\n",
    "                 color=(\"#4876ff\" if pred_idx == true_idx else \"darkred\"))"
   ]
  },
  {
   "cell_type": "markdown",
   "metadata": {},
   "source": [
    "### Grayscaled Images"
   ]
  },
  {
   "cell_type": "code",
   "execution_count": 68,
   "metadata": {},
   "outputs": [],
   "source": [
    "hide_code\n",
    "# Model predictions for the testing dataset\n",
    "y_test2_predict = gray_model.predict_classes(x_test2)"
   ]
  },
  {
   "cell_type": "code",
   "execution_count": 70,
   "metadata": {},
   "outputs": [
    {
     "data": {
      "image/png": "[encoded data removed]",
      "text/plain": [
       "<Figure size 1296x1296 with 16 Axes>"
      ]
     },
     "metadata": {},
     "output_type": "display_data"
    }
   ],
   "source": [
    "hide_code\n",
    "# Display true labels and predictions\n",
    "fig = plt.figure(figsize=(18, 18))\n",
    "for i, idx in enumerate(np.random.choice(x_test2.shape[0], size=16, replace=False)):\n",
    "    ax = fig.add_subplot(4, 4, i + 1, xticks=[], yticks=[])\n",
    "    ax.imshow(np.squeeze(x_test2[idx]), cmap=cm.bone)\n",
    "    pred_idx = y_test2_predict[idx]\n",
    "    true_idx = np.argmax(y_test2[idx])\n",
    "    ax.set_title(\"{} ({})\".format(symbols[pred_idx], symbols[true_idx]),\n",
    "                 color=(\"#4876ff\" if pred_idx == true_idx else \"darkred\"))"
   ]
  }
 ],
 "metadata": {
  "kernelspec": {
   "display_name": "Python 3",
   "language": "python",
   "name": "python3"
  },
  "language_info": {
   "codemirror_mode": {
    "name": "ipython",
    "version": 3
   },
   "file_extension": ".py",
   "mimetype": "text/x-python",
   "name": "python",
   "nbconvert_exporter": "python",
   "pygments_lexer": "ipython3",
   "version": "3.6.4"
  }
 },
 "nbformat": 4,
 "nbformat_minor": 2
}
