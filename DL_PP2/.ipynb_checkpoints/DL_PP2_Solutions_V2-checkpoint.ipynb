{
 "cells": [
  {
   "cell_type": "markdown",
   "metadata": {},
   "source": [
    "# Deep Learning\n",
    "## Practice Projects\n",
    "# P2: Multi-Label Classification\n",
    "\n",
    "## Step 0. Style and Libraries\n",
    "Let's choose a style of the Jupyter notebook and import the software libraries. The command hide_code will hide the code cells."
   ]
  },
  {
   "cell_type": "code",
   "execution_count": 1,
   "metadata": {},
   "outputs": [
    {
     "data": {
      "text/html": [
       "<style>\n",
       "@import url('https://fonts.googleapis.com/css?family=Orbitron|Roboto');\n",
       "body {background-color: aliceblue;} \n",
       "a {color: #4876ff; font-family: 'Roboto';} \n",
       "h1 {color: #348ABD; font-family: 'Orbitron'; text-shadow: 4px 4px 4px #ccc;} \n",
       "h2, h3 {color: slategray; font-family: 'Roboto'; text-shadow: 4px 4px 4px #ccc;}\n",
       "h4 {color: #348ABD; font-family: 'Orbitron';}\n",
       "span {text-shadow: 4px 4px 4px #ccc;}\n",
       "div.output_prompt, div.output_area pre {color: slategray;}\n",
       "div.input_prompt, div.output_subarea {color: #4876ff;}      \n",
       "div.output_stderr pre {background-color: aliceblue;}  \n",
       "div.output_stderr {background-color: slategrey;}                        \n",
       "</style>\n",
       "<script>\n",
       "code_show = true; \n",
       "function code_display() {\n",
       "    if (code_show) {\n",
       "        $('div.input').each(function(id) {\n",
       "            if (id == 0 || $(this).html().indexOf('hide_code') > -1) {$(this).hide();}\n",
       "        });\n",
       "        $('div.output_prompt').css('opacity', 0);\n",
       "    } else {\n",
       "        $('div.input').each(function(id) {$(this).show();});\n",
       "        $('div.output_prompt').css('opacity', 1);\n",
       "    };\n",
       "    code_show = !code_show;\n",
       "} \n",
       "$(document).ready(code_display);\n",
       "</script>\n",
       "<form action=\"javascript: code_display()\">\n",
       "<input style=\"color: #348ABD; background: aliceblue; opacity: 0.8;\" \\ \n",
       "type=\"submit\" value=\"Click to display or hide code cells\">\n",
       "</form>                  "
      ],
      "text/plain": [
       "<IPython.core.display.HTML object>"
      ]
     },
     "metadata": {},
     "output_type": "display_data"
    }
   ],
   "source": [
    "%%html\n",
    "<style>\n",
    "@import url('https://fonts.googleapis.com/css?family=Orbitron|Roboto');\n",
    "body {background-color: aliceblue;} \n",
    "a {color: #4876ff; font-family: 'Roboto';} \n",
    "h1 {color: #348ABD; font-family: 'Orbitron'; text-shadow: 4px 4px 4px #ccc;} \n",
    "h2, h3 {color: slategray; font-family: 'Roboto'; text-shadow: 4px 4px 4px #ccc;}\n",
    "h4 {color: #348ABD; font-family: 'Orbitron';}\n",
    "span {text-shadow: 4px 4px 4px #ccc;}\n",
    "div.output_prompt, div.output_area pre {color: slategray;}\n",
    "div.input_prompt, div.output_subarea {color: #4876ff;}      \n",
    "div.output_stderr pre {background-color: aliceblue;}  \n",
    "div.output_stderr {background-color: slategrey;}                        \n",
    "</style>\n",
    "<script>\n",
    "code_show = true; \n",
    "function code_display() {\n",
    "    if (code_show) {\n",
    "        $('div.input').each(function(id) {\n",
    "            if (id == 0 || $(this).html().indexOf('hide_code') > -1) {$(this).hide();}\n",
    "        });\n",
    "        $('div.output_prompt').css('opacity', 0);\n",
    "    } else {\n",
    "        $('div.input').each(function(id) {$(this).show();});\n",
    "        $('div.output_prompt').css('opacity', 1);\n",
    "    };\n",
    "    code_show = !code_show;\n",
    "} \n",
    "$(document).ready(code_display);\n",
    "</script>\n",
    "<form action=\"javascript: code_display()\">\n",
    "<input style=\"color: #348ABD; background: aliceblue; opacity: 0.8;\" \\ \n",
    "type=\"submit\" value=\"Click to display or hide code cells\">\n",
    "</form>                  "
   ]
  },
  {
   "cell_type": "code",
   "execution_count": 2,
   "metadata": {},
   "outputs": [
    {
     "name": "stderr",
     "output_type": "stream",
     "text": [
      "Using TensorFlow backend.\n"
     ]
    }
   ],
   "source": [
    "hide_code = ''\n",
    "import numpy as np \n",
    "import pandas as pd\n",
    "import tensorflow as tf\n",
    "\n",
    "from PIL import ImageFile\n",
    "from tqdm import tqdm\n",
    "import h5py\n",
    "import cv2\n",
    "\n",
    "import matplotlib.pylab as plt\n",
    "from matplotlib import cm\n",
    "%matplotlib inline\n",
    "\n",
    "from sklearn.model_selection import train_test_split\n",
    "from sklearn.ensemble import GradientBoostingClassifier, RandomForestClassifier\n",
    "\n",
    "from keras.utils import to_categorical\n",
    "from keras.preprocessing import image as keras_image\n",
    "from keras.callbacks import ModelCheckpoint\n",
    "from keras.preprocessing.image import ImageDataGenerator\n",
    "\n",
    "from keras.models import Sequential, load_model, Model\n",
    "from keras.layers import Input, BatchNormalization\n",
    "from keras.layers import Dense, LSTM, GlobalAveragePooling1D, GlobalAveragePooling2D\n",
    "from keras.layers import Activation, Flatten, Dropout, BatchNormalization\n",
    "from keras.layers import Conv2D, MaxPooling2D, GlobalMaxPooling2D\n",
    "\n",
    "from keras.applications.inception_v3 import InceptionV3, preprocess_input\n",
    "import scipy\n",
    "from scipy import misc"
   ]
  },
  {
   "cell_type": "code",
   "execution_count": 3,
   "metadata": {
    "collapsed": true
   },
   "outputs": [],
   "source": [
    "hide_code\n",
    "# Plot the neural network fitting history\n",
    "def history_plot(fit_history, n):\n",
    "    plt.figure(figsize=(18, 12))\n",
    "    \n",
    "    plt.subplot(211)\n",
    "    plt.plot(fit_history.history['loss'][n:], color='slategray', label = 'train')\n",
    "    plt.plot(fit_history.history['val_loss'][n:], color='#4876ff', label = 'valid')\n",
    "    plt.xlabel(\"Epochs\")\n",
    "    plt.ylabel(\"Loss\")\n",
    "    plt.legend()\n",
    "    plt.title('Loss Function');  \n",
    "    \n",
    "    plt.subplot(212)\n",
    "    plt.plot(fit_history.history['acc'][n:], color='slategray', label = 'train')\n",
    "    plt.plot(fit_history.history['val_acc'][n:], color='#4876ff', label = 'valid')\n",
    "    plt.xlabel(\"Epochs\")\n",
    "    plt.ylabel(\"Accuracy\")    \n",
    "    plt.legend()\n",
    "    plt.title('Accuracy');"
   ]
  },
  {
   "cell_type": "markdown",
   "metadata": {},
   "source": [
    "## Step 1. Load and Explore the Data\n",
    "For this project, I have created two datasets of color images (32x32x3) with 33 handwritten letters.\n",
    "\n",
    "\n",
    "Run the following cells to download the data."
   ]
  },
  {
   "cell_type": "code",
   "execution_count": 4,
   "metadata": {
    "collapsed": true
   },
   "outputs": [],
   "source": [
    "hide_code\n",
    "# Function for processing an image\n",
    "def image_to_tensor(img_path, folder_path):\n",
    "    img = keras_image.load_img(folder_path + img_path, target_size=(32, 32))\n",
    "    x = keras_image.img_to_array(img)\n",
    "    return np.expand_dims(x, axis=0)\n",
    "# Function for creating the data tensor\n",
    "def data_to_tensor(img_paths, folder_path):\n",
    "    list_of_tensors = [image_to_tensor(img_path, folder_path) for img_path in tqdm(img_paths)]\n",
    "    return np.vstack(list_of_tensors)\n",
    "ImageFile.LOAD_TRUNCATED_IMAGES = True "
   ]
  },
  {
   "cell_type": "code",
   "execution_count": 5,
   "metadata": {},
   "outputs": [
    {
     "name": "stderr",
     "output_type": "stream",
     "text": [
      "100%|██████████| 1650/1650 [00:37<00:00, 50.82it/s]\n"
     ]
    }
   ],
   "source": [
    "hide_code\n",
    "# Load the dataset #1\n",
    "data = pd.read_csv(\"data/letters.csv\")\n",
    "files = data['file']\n",
    "letters = data['letter']\n",
    "backgrounds = data['background'].as_matrix()\n",
    "targets = data['label'].as_matrix()\n",
    "tensors = data_to_tensor(files, \"data/\");"
   ]
  },
  {
   "cell_type": "code",
   "execution_count": 6,
   "metadata": {},
   "outputs": [
    {
     "name": "stderr",
     "output_type": "stream",
     "text": [
      "100%|██████████| 5940/5940 [06:52<00:00, 14.41it/s]\n"
     ]
    }
   ],
   "source": [
    "hide_code\n",
    "# Load the dataset #2\n",
    "data2 = pd.read_csv(\"data2/letters2.csv\")\n",
    "files2 = data2['file']\n",
    "letters2 = data2['letter']\n",
    "backgrounds2 = data2['background'].as_matrix()\n",
    "targets2 = data2['label'].as_matrix()\n",
    "tensors2 = data_to_tensor(files2, \"data2/\");"
   ]
  },
  {
   "cell_type": "code",
   "execution_count": 7,
   "metadata": {},
   "outputs": [
    {
     "name": "stderr",
     "output_type": "stream",
     "text": [
      "100%|██████████| 6600/6600 [12:44<00:00,  8.63it/s]  \n"
     ]
    }
   ],
   "source": [
    "hide_code\n",
    "# Load the dataset #3\n",
    "data3 = pd.read_csv(\"data3/letters3.csv\")\n",
    "files3 = data3['file']\n",
    "letters3 = data3['letter']\n",
    "backgrounds3 = data3['background'].as_matrix()\n",
    "targets3 = data3['label'].as_matrix()\n",
    "tensors3 = data_to_tensor(files3, \"data3/\");"
   ]
  },
  {
   "cell_type": "code",
   "execution_count": 8,
   "metadata": {},
   "outputs": [
    {
     "name": "stdout",
     "output_type": "stream",
     "text": [
      "Tensor #1 shape: (1650, 32, 32, 3)\n",
      "Target #1 shape (1650,)\n",
      "Tensor #2 shape: (5940, 32, 32, 3)\n",
      "Target #2 shape (5940,)\n",
      "Tensor #3 shape: (6600, 32, 32, 3)\n",
      "Target #3 shape (6600,)\n"
     ]
    }
   ],
   "source": [
    "hide_code\n",
    "# Print the shape \n",
    "print ('Tensor #1 shape:', tensors.shape)\n",
    "print ('Target #1 shape', targets.shape)\n",
    "print ('Tensor #2 shape:', tensors2.shape)\n",
    "print ('Target #2 shape', targets2.shape)\n",
    "print ('Tensor #3 shape:', tensors3.shape)\n",
    "print ('Target #3 shape', targets3.shape)"
   ]
  },
  {
   "cell_type": "code",
   "execution_count": 9,
   "metadata": {},
   "outputs": [
    {
     "name": "stdout",
     "output_type": "stream",
     "text": [
      "Tensor shape: (7590, 32, 32, 3)\n",
      "Target shape (7590,)\n",
      "Background shape: (7590,)\n"
     ]
    }
   ],
   "source": [
    "hide_code\n",
    "# Concatenate arrays\n",
    "tensors = np.concatenate((tensors, tensors2), axis=0)\n",
    "targets = np.concatenate((targets, targets2), axis=0)\n",
    "backgrounds = np.concatenate((backgrounds, backgrounds2), axis=0)\n",
    "print ('Tensor shape:', tensors.shape)\n",
    "print ('Target shape', targets.shape)\n",
    "print ('Background shape:', backgrounds.shape)"
   ]
  },
  {
   "cell_type": "code",
   "execution_count": 10,
   "metadata": {},
   "outputs": [
    {
     "name": "stdout",
     "output_type": "stream",
     "text": [
      "Tensor shape: (14190, 32, 32, 3)\n",
      "Target shape (14190,)\n",
      "Background shape: (14190,)\n"
     ]
    }
   ],
   "source": [
    "hide_code\n",
    "# Concatenate arrays\n",
    "tensors = np.concatenate((tensors, tensors3), axis=0)\n",
    "targets = np.concatenate((targets, targets3), axis=0)\n",
    "backgrounds = np.concatenate((backgrounds, backgrounds3), axis=0)\n",
    "print ('Tensor shape:', tensors.shape)\n",
    "print ('Target shape', targets.shape)\n",
    "print ('Background shape:', backgrounds.shape)"
   ]
  },
  {
   "cell_type": "code",
   "execution_count": 11,
   "metadata": {},
   "outputs": [
    {
     "data": {
      "text/plain": [
       "14190"
      ]
     },
     "execution_count": 11,
     "metadata": {},
     "output_type": "execute_result"
    }
   ],
   "source": [
    "hide_code\n",
    "# Concatenate series\n",
    "letters = pd.concat((letters, letters2), axis=0, ignore_index=True)\n",
    "letters = pd.concat((letters, letters3), axis=0, ignore_index=True)\n",
    "len(letters)"
   ]
  },
  {
   "cell_type": "code",
   "execution_count": 12,
   "metadata": {},
   "outputs": [
    {
     "data": {
      "image/png": "[encoded data removed]",
      "text/plain": [
       "<matplotlib.figure.Figure at 0x11668f860>"
      ]
     },
     "metadata": {},
     "output_type": "display_data"
    }
   ],
   "source": [
    "hide_code\n",
    "# Read from files and display images using OpenCV\n",
    "def display_images(img_path, ax):\n",
    "    img = cv2.imread(\"data2/\" + img_path)\n",
    "    ax.imshow(cv2.cvtColor(img, cv2.COLOR_BGR2RGB))\n",
    "    \n",
    "fig = plt.figure(figsize=(18, 6))\n",
    "for i in range(12):\n",
    "    ax = fig.add_subplot(2, 6, i + 1, xticks=[], yticks=[], title=letters2[i*180])\n",
    "    display_images(files2[i*180], ax)"
   ]
  },
  {
   "cell_type": "code",
   "execution_count": 13,
   "metadata": {},
   "outputs": [
    {
     "data": {
      "image/png": "[encoded data removed]",
      "text/plain": [
       "<matplotlib.figure.Figure at 0x139fce198>"
      ]
     },
     "metadata": {},
     "output_type": "display_data"
    }
   ],
   "source": [
    "hide_code\n",
    "# Read from files and display images using OpenCV\n",
    "def display_images(img_path, ax):\n",
    "    img = cv2.imread(\"data3/\" + img_path)\n",
    "    ax.imshow(cv2.cvtColor(img, cv2.COLOR_BGR2RGB))\n",
    "    \n",
    "fig = plt.figure(figsize=(18, 6))\n",
    "for i in range(12):\n",
    "    ax = fig.add_subplot(2, 6, i + 1, xticks=[], yticks=[], title=letters3[i*200])\n",
    "    display_images(files3[i*200], ax)"
   ]
  },
  {
   "cell_type": "markdown",
   "metadata": {},
   "source": [
    "## Step 2. Save and Load the Data\n",
    "The data tensors can be saved in the appropriate format of files .h5."
   ]
  },
  {
   "cell_type": "code",
   "execution_count": 26,
   "metadata": {
    "collapsed": true
   },
   "outputs": [],
   "source": [
    "hide_code\n",
    "# Create the tensor file\n",
    "with h5py.File('LetterColorImages_123.h5', 'w') as f:\n",
    "    f.create_dataset('images', data = tensors)\n",
    "    f.create_dataset('labels', data = targets)\n",
    "    f.create_dataset('backgrounds', data = backgrounds)\n",
    "    f.close()"
   ]
  },
  {
   "cell_type": "code",
   "execution_count": 12,
   "metadata": {
    "collapsed": true
   },
   "outputs": [],
   "source": [
    "hide_code\n",
    "# Create the tensor file\n",
    "with h5py.File('LetterColorImages3.h5', 'w') as f:\n",
    "    f.create_dataset('images', data = tensors3)\n",
    "    f.create_dataset('labels', data = targets3)\n",
    "    f.create_dataset('backgrounds', data = backgrounds3)\n",
    "    f.close()"
   ]
  },
  {
   "cell_type": "code",
   "execution_count": 27,
   "metadata": {},
   "outputs": [
    {
     "data": {
      "text/plain": [
       "['backgrounds', 'images', 'labels']"
      ]
     },
     "execution_count": 27,
     "metadata": {},
     "output_type": "execute_result"
    }
   ],
   "source": [
    "hide_code\n",
    "# Read the h5 file\n",
    "f = h5py.File('LetterColorImages_123.h5', 'r')\n",
    "\n",
    "# List all groups\n",
    "keys = list(f.keys())\n",
    "keys"
   ]
  },
  {
   "cell_type": "code",
   "execution_count": 42,
   "metadata": {},
   "outputs": [
    {
     "name": "stdout",
     "output_type": "stream",
     "text": [
      "Tensor shape: (14190, 32, 32, 3)\n",
      "Target shape (14190,)\n",
      "Background shape: (14190,)\n"
     ]
    }
   ],
   "source": [
    "hide_code\n",
    "# Create tensors and targets\n",
    "backgrounds = np.array(f[keys[0]])\n",
    "tensors = np.array(f[keys[1]])\n",
    "targets = np.array(f[keys[2]])\n",
    "print ('Tensor shape:', tensors.shape)\n",
    "print ('Target shape', targets.shape)\n",
    "print ('Background shape:', backgrounds.shape)"
   ]
  },
  {
   "cell_type": "code",
   "execution_count": 29,
   "metadata": {
    "collapsed": true
   },
   "outputs": [],
   "source": [
    "hide_code\n",
    "# Create a csv file\n",
    "images_csv = tensors.reshape(-1,32*32*3)\n",
    "np.savetxt(\"letter_images.csv\", images_csv, fmt='%i', delimiter=\",\")"
   ]
  },
  {
   "cell_type": "code",
   "execution_count": 30,
   "metadata": {},
   "outputs": [
    {
     "data": {
      "text/html": [
       "<div>\n",
       "<style>\n",
       "    .dataframe thead tr:only-child th {\n",
       "        text-align: right;\n",
       "    }\n",
       "\n",
       "    .dataframe thead th {\n",
       "        text-align: left;\n",
       "    }\n",
       "\n",
       "    .dataframe tbody tr th {\n",
       "        vertical-align: top;\n",
       "    }\n",
       "</style>\n",
       "<table border=\"1\" class=\"dataframe\">\n",
       "  <thead>\n",
       "    <tr style=\"text-align: right;\">\n",
       "      <th></th>\n",
       "      <th>0</th>\n",
       "      <th>1</th>\n",
       "      <th>2</th>\n",
       "      <th>3</th>\n",
       "      <th>4</th>\n",
       "      <th>5</th>\n",
       "      <th>6</th>\n",
       "      <th>7</th>\n",
       "      <th>8</th>\n",
       "      <th>9</th>\n",
       "    </tr>\n",
       "  </thead>\n",
       "  <tbody>\n",
       "    <tr>\n",
       "      <th>0</th>\n",
       "      <td>196</td>\n",
       "      <td>186</td>\n",
       "      <td>203</td>\n",
       "      <td>196</td>\n",
       "      <td>188</td>\n",
       "      <td>203</td>\n",
       "      <td>194</td>\n",
       "      <td>187</td>\n",
       "      <td>202</td>\n",
       "      <td>194</td>\n",
       "    </tr>\n",
       "    <tr>\n",
       "      <th>1</th>\n",
       "      <td>179</td>\n",
       "      <td>173</td>\n",
       "      <td>183</td>\n",
       "      <td>181</td>\n",
       "      <td>174</td>\n",
       "      <td>186</td>\n",
       "      <td>182</td>\n",
       "      <td>175</td>\n",
       "      <td>185</td>\n",
       "      <td>179</td>\n",
       "    </tr>\n",
       "    <tr>\n",
       "      <th>2</th>\n",
       "      <td>179</td>\n",
       "      <td>164</td>\n",
       "      <td>164</td>\n",
       "      <td>181</td>\n",
       "      <td>168</td>\n",
       "      <td>168</td>\n",
       "      <td>182</td>\n",
       "      <td>169</td>\n",
       "      <td>168</td>\n",
       "      <td>182</td>\n",
       "    </tr>\n",
       "    <tr>\n",
       "      <th>3</th>\n",
       "      <td>177</td>\n",
       "      <td>161</td>\n",
       "      <td>167</td>\n",
       "      <td>175</td>\n",
       "      <td>162</td>\n",
       "      <td>167</td>\n",
       "      <td>173</td>\n",
       "      <td>160</td>\n",
       "      <td>165</td>\n",
       "      <td>176</td>\n",
       "    </tr>\n",
       "    <tr>\n",
       "      <th>4</th>\n",
       "      <td>154</td>\n",
       "      <td>149</td>\n",
       "      <td>156</td>\n",
       "      <td>157</td>\n",
       "      <td>151</td>\n",
       "      <td>159</td>\n",
       "      <td>157</td>\n",
       "      <td>149</td>\n",
       "      <td>157</td>\n",
       "      <td>157</td>\n",
       "    </tr>\n",
       "    <tr>\n",
       "      <th>5</th>\n",
       "      <td>252</td>\n",
       "      <td>242</td>\n",
       "      <td>233</td>\n",
       "      <td>252</td>\n",
       "      <td>242</td>\n",
       "      <td>233</td>\n",
       "      <td>254</td>\n",
       "      <td>244</td>\n",
       "      <td>235</td>\n",
       "      <td>255</td>\n",
       "    </tr>\n",
       "    <tr>\n",
       "      <th>6</th>\n",
       "      <td>176</td>\n",
       "      <td>169</td>\n",
       "      <td>179</td>\n",
       "      <td>177</td>\n",
       "      <td>170</td>\n",
       "      <td>180</td>\n",
       "      <td>177</td>\n",
       "      <td>170</td>\n",
       "      <td>180</td>\n",
       "      <td>178</td>\n",
       "    </tr>\n",
       "    <tr>\n",
       "      <th>7</th>\n",
       "      <td>200</td>\n",
       "      <td>197</td>\n",
       "      <td>214</td>\n",
       "      <td>201</td>\n",
       "      <td>198</td>\n",
       "      <td>217</td>\n",
       "      <td>202</td>\n",
       "      <td>199</td>\n",
       "      <td>218</td>\n",
       "      <td>202</td>\n",
       "    </tr>\n",
       "    <tr>\n",
       "      <th>8</th>\n",
       "      <td>252</td>\n",
       "      <td>240</td>\n",
       "      <td>233</td>\n",
       "      <td>253</td>\n",
       "      <td>242</td>\n",
       "      <td>235</td>\n",
       "      <td>253</td>\n",
       "      <td>241</td>\n",
       "      <td>234</td>\n",
       "      <td>252</td>\n",
       "    </tr>\n",
       "    <tr>\n",
       "      <th>9</th>\n",
       "      <td>178</td>\n",
       "      <td>170</td>\n",
       "      <td>177</td>\n",
       "      <td>178</td>\n",
       "      <td>170</td>\n",
       "      <td>176</td>\n",
       "      <td>176</td>\n",
       "      <td>169</td>\n",
       "      <td>178</td>\n",
       "      <td>179</td>\n",
       "    </tr>\n",
       "  </tbody>\n",
       "</table>\n",
       "</div>"
      ],
      "text/plain": [
       "     0    1    2    3    4    5    6    7    8    9\n",
       "0  196  186  203  196  188  203  194  187  202  194\n",
       "1  179  173  183  181  174  186  182  175  185  179\n",
       "2  179  164  164  181  168  168  182  169  168  182\n",
       "3  177  161  167  175  162  167  173  160  165  176\n",
       "4  154  149  156  157  151  159  157  149  157  157\n",
       "5  252  242  233  252  242  233  254  244  235  255\n",
       "6  176  169  179  177  170  180  177  170  180  178\n",
       "7  200  197  214  201  198  217  202  199  218  202\n",
       "8  252  240  233  253  242  235  253  241  234  252\n",
       "9  178  170  177  178  170  176  176  169  178  179"
      ]
     },
     "execution_count": 30,
     "metadata": {},
     "output_type": "execute_result"
    }
   ],
   "source": [
    "hide_code\n",
    "# Read the pandas dataframe from csv\n",
    "data_images = pd.read_csv(\"letter_images.csv\", header=None)\n",
    "data_images.iloc[:10,:10]"
   ]
  },
  {
   "cell_type": "code",
   "execution_count": 33,
   "metadata": {
    "collapsed": true
   },
   "outputs": [],
   "source": [
    "hide_code\n",
    "# Read image tensors from the dataframe\n",
    "tensors = data_images.as_matrix()\n",
    "tensors = tensors.reshape(14190,32,32,3)"
   ]
  },
  {
   "cell_type": "markdown",
   "metadata": {},
   "source": [
    "## Step 3. Implement Preprocess Functions\n",
    "### Normalize and Gray Scale\n",
    "In the cell below, normalize the image tensors, and return them as a normalized Numpy array."
   ]
  },
  {
   "cell_type": "code",
   "execution_count": 14,
   "metadata": {
    "collapsed": true
   },
   "outputs": [],
   "source": [
    "hide_code\n",
    "# Normalize the tensors\n",
    "tensors = tensors.astype('float32')/255"
   ]
  },
  {
   "cell_type": "code",
   "execution_count": 15,
   "metadata": {},
   "outputs": [
    {
     "name": "stdout",
     "output_type": "stream",
     "text": [
      "Label:  я\n"
     ]
    },
    {
     "data": {
      "image/png": "[encoded data removed]",
      "text/plain": [
       "<matplotlib.figure.Figure at 0x11651b160>"
      ]
     },
     "metadata": {},
     "output_type": "display_data"
    }
   ],
   "source": [
    "hide_code\n",
    "# Read and display a tensor using Matplotlib\n",
    "print('Label: ', letters[7500])\n",
    "plt.figure(figsize=(3,3))\n",
    "plt.imshow(tensors[7500]);"
   ]
  },
  {
   "cell_type": "markdown",
   "metadata": {},
   "source": [
    "Create tensors of grayscaled images and display their shape."
   ]
  },
  {
   "cell_type": "code",
   "execution_count": 16,
   "metadata": {},
   "outputs": [
    {
     "name": "stdout",
     "output_type": "stream",
     "text": [
      "Grayscaled Tensor shape: (14190, 32, 32)\n"
     ]
    }
   ],
   "source": [
    "hide_code\n",
    "# Grayscaled tensors\n",
    "gray_tensors = np.dot(tensors[...,:3], [0.299, 0.587, 0.114])\n",
    "print ('Grayscaled Tensor shape:', gray_tensors.shape)"
   ]
  },
  {
   "cell_type": "code",
   "execution_count": 17,
   "metadata": {},
   "outputs": [
    {
     "name": "stdout",
     "output_type": "stream",
     "text": [
      "Label:  я\n"
     ]
    },
    {
     "data": {
      "image/png": "[encoded data removed]",
      "text/plain": [
       "<matplotlib.figure.Figure at 0x13a7f9630>"
      ]
     },
     "metadata": {},
     "output_type": "display_data"
    }
   ],
   "source": [
    "hide_code\n",
    "# Read and display a grayscaled tensor using Matplotlib\n",
    "print('Label: ', letters[7500])\n",
    "plt.figure(figsize=(3,3))\n",
    "plt.imshow(gray_tensors[7500], cmap=cm.bone);"
   ]
  },
  {
   "cell_type": "markdown",
   "metadata": {},
   "source": [
    "### One-hot encode\n",
    "Now we'll implement the one-hot encoding function to_categorical."
   ]
  },
  {
   "cell_type": "code",
   "execution_count": 18,
   "metadata": {},
   "outputs": [
    {
     "name": "stdout",
     "output_type": "stream",
     "text": [
      "{0, 1, 2, 3}\n"
     ]
    }
   ],
   "source": [
    "hide_code\n",
    "# Print the target unique values\n",
    "print(set(backgrounds))"
   ]
  },
  {
   "cell_type": "code",
   "execution_count": 19,
   "metadata": {},
   "outputs": [
    {
     "name": "stdout",
     "output_type": "stream",
     "text": [
      "{1, 2, 3, 4, 5, 6, 7, 8, 9, 10, 11, 12, 13, 14, 15, 16, 17, 18, 19, 20, 21, 22, 23, 24, 25, 26, 27, 28, 29, 30, 31, 32, 33}\n"
     ]
    }
   ],
   "source": [
    "print(set(targets))"
   ]
  },
  {
   "cell_type": "code",
   "execution_count": 20,
   "metadata": {},
   "outputs": [
    {
     "data": {
      "text/plain": [
       "(14190, 4)"
      ]
     },
     "execution_count": 20,
     "metadata": {},
     "output_type": "execute_result"
    }
   ],
   "source": [
    "hide_code\n",
    "# One-hot encode the background targets\n",
    "backgrounds = to_categorical(backgrounds,4)\n",
    "backgrounds.shape"
   ]
  },
  {
   "cell_type": "code",
   "execution_count": 21,
   "metadata": {},
   "outputs": [
    {
     "data": {
      "text/plain": [
       "(14190, 33)"
      ]
     },
     "execution_count": 21,
     "metadata": {},
     "output_type": "execute_result"
    }
   ],
   "source": [
    "hide_code\n",
    "# One-hot encode the targets, started from the zero label\n",
    "cat_targets = to_categorical(np.array(targets-1), 33)\n",
    "cat_targets.shape"
   ]
  },
  {
   "cell_type": "markdown",
   "metadata": {},
   "source": [
    "### Add background"
   ]
  },
  {
   "cell_type": "code",
   "execution_count": 22,
   "metadata": {},
   "outputs": [
    {
     "data": {
      "text/plain": [
       "(14190, 37)"
      ]
     },
     "execution_count": 22,
     "metadata": {},
     "output_type": "execute_result"
    }
   ],
   "source": [
    "hide_code\n",
    "# Create multi-label targets\n",
    "back_targets = np.concatenate((cat_targets, backgrounds), axis=1)\n",
    "back_targets.shape"
   ]
  },
  {
   "cell_type": "markdown",
   "metadata": {},
   "source": [
    "### Split\n",
    "#### Color Images\n",
    "Apply the function train_test_split and split the data into training and testing sets. Set up the size of the testing set - 20%."
   ]
  },
  {
   "cell_type": "code",
   "execution_count": 23,
   "metadata": {
    "collapsed": true
   },
   "outputs": [],
   "source": [
    "hide_code\n",
    "# Split the data\n",
    "x_train, x_test, y_train, y_test = train_test_split(tensors, cat_targets, \n",
    "                                                    test_size = 0.2, \n",
    "                                                    random_state = 1)\n",
    "n = int(len(x_test)/2)\n",
    "x_valid, y_valid = x_test[:n], y_test[:n]\n",
    "x_test, y_test = x_test[n:], y_test[n:]"
   ]
  },
  {
   "cell_type": "code",
   "execution_count": 24,
   "metadata": {},
   "outputs": [
    {
     "name": "stdout",
     "output_type": "stream",
     "text": [
      "Training tensor's shape: (11352, 32, 32, 3)\n",
      "Training target's shape (11352, 33)\n",
      "Validating tensor's shape: (1419, 32, 32, 3)\n",
      "Validating target's shape (1419, 33)\n",
      "Testing tensor's shape: (1419, 32, 32, 3)\n",
      "Testing target's shape (1419, 33)\n"
     ]
    }
   ],
   "source": [
    "hide_code\n",
    "# Print the shape\n",
    "print (\"Training tensor's shape:\", x_train.shape)\n",
    "print (\"Training target's shape\", y_train.shape)\n",
    "print (\"Validating tensor's shape:\", x_valid.shape)\n",
    "print (\"Validating target's shape\", y_valid.shape)\n",
    "print (\"Testing tensor's shape:\", x_test.shape)\n",
    "print (\"Testing target's shape\", y_test.shape)"
   ]
  },
  {
   "cell_type": "markdown",
   "metadata": {},
   "source": [
    "#### Grayscaled Images"
   ]
  },
  {
   "cell_type": "code",
   "execution_count": 38,
   "metadata": {},
   "outputs": [],
   "source": [
    "hide_code\n",
    "# Split the grayscaled data\n",
    "x_train2, x_test2, y_train2, y_test2 = train_test_split(gray_tensors, cat_targets, \n",
    "                                                        test_size = 0.2, \n",
    "                                                        random_state = 1)\n",
    "x_valid2, y_valid2 = x_test2[:n], y_test2[:n]\n",
    "x_test2, y_test2 = x_test2[n:], y_test2[n:]"
   ]
  },
  {
   "cell_type": "code",
   "execution_count": 39,
   "metadata": {
    "collapsed": true
   },
   "outputs": [],
   "source": [
    "hide_code\n",
    "# Reshape the grayscaled data\n",
    "x_train2, x_test2, x_valid2 = \\\n",
    "x_train2.reshape(-1, 32, 32, 1), x_test2.reshape(-1, 32, 32, 1), x_valid2.reshape(-1, 32, 32, 1)"
   ]
  },
  {
   "cell_type": "code",
   "execution_count": 40,
   "metadata": {},
   "outputs": [
    {
     "name": "stdout",
     "output_type": "stream",
     "text": [
      "Training grayscaled tensor's shape: (11352, 32, 32, 1)\n",
      "Training grayscaled target's shape (11352, 33)\n",
      "Validating grayscaled tensor's shape: (1419, 32, 32, 1)\n",
      "Validating grayscaled target's shape (1419, 33)\n",
      "Testing grayscaled tensor's shape: (1419, 32, 32, 1)\n",
      "Testing grayscaled target's shape (1419, 33)\n"
     ]
    }
   ],
   "source": [
    "hide_code\n",
    "# Print the shape\n",
    "print (\"Training grayscaled tensor's shape:\", x_train2.shape)\n",
    "print (\"Training grayscaled target's shape\", y_train2.shape)\n",
    "print (\"Validating grayscaled tensor's shape:\", x_valid2.shape)\n",
    "print (\"Validating grayscaled target's shape\", y_valid2.shape)\n",
    "print (\"Testing grayscaled tensor's shape:\", x_test2.shape)\n",
    "print (\"Testing grayscaled target's shape\", y_test2.shape)"
   ]
  },
  {
   "cell_type": "code",
   "execution_count": 29,
   "metadata": {},
   "outputs": [
    {
     "data": {
      "text/plain": [
       "((11352, 32, 32, 3), (1419, 32, 32, 3), (1419, 32, 32, 3))"
      ]
     },
     "execution_count": 29,
     "metadata": {},
     "output_type": "execute_result"
    }
   ],
   "source": [
    "hide_code\n",
    "# Convert images from grayscaled to RGB\n",
    "x_train2_tensor = tf.image.grayscale_to_rgb(x_train2, name=None)\n",
    "x_test2_tensor = tf.image.grayscale_to_rgb(x_test2, name=None)\n",
    "x_valid2_tensor = tf.image.grayscale_to_rgb(x_valid2, name=None)\n",
    "# Run tensorflow session\n",
    "sess = tf.Session()\n",
    "with sess.as_default():\n",
    "    x_train2_color = x_train2_tensor.eval()\n",
    "    x_test2_color = x_test2_tensor.eval()\n",
    "    x_valid2_color = x_valid2_tensor.eval()\n",
    "# Check the shape    \n",
    "x_train2_color.shape, x_test2_color.shape, x_valid2_color.shape"
   ]
  },
  {
   "cell_type": "markdown",
   "metadata": {},
   "source": [
    "#### Multi-label targets, color images"
   ]
  },
  {
   "cell_type": "code",
   "execution_count": 52,
   "metadata": {
    "collapsed": true
   },
   "outputs": [],
   "source": [
    "hide_code\n",
    "# Split with multi-label targets\n",
    "x_train3, x_test3, y_train3, y_test3 = train_test_split(tensors, back_targets, \n",
    "                                                        test_size = 0.2, \n",
    "                                                        random_state = 1)\n",
    "x_valid3, y_valid3 = x_test3[:n], y_test3[:n]\n",
    "x_test3, y_test3 = x_test3[n:], y_test3[n:]"
   ]
  },
  {
   "cell_type": "code",
   "execution_count": 53,
   "metadata": {},
   "outputs": [
    {
     "name": "stdout",
     "output_type": "stream",
     "text": [
      "Training tensor's shape: (11352, 32, 32, 3)\n",
      "Training target's shape (11352, 37)\n",
      "Validating tensor's shape: (1419, 32, 32, 3)\n",
      "Validating target's shape (1419, 37)\n",
      "Testing tensor's shape: (1419, 32, 32, 3)\n",
      "Testing target's shape (1419, 37)\n"
     ]
    }
   ],
   "source": [
    "hide_code\n",
    "# Print the shape\n",
    "print (\"Training tensor's shape:\", x_train3.shape)\n",
    "print (\"Training target's shape\", y_train3.shape)\n",
    "print (\"Validating tensor's shape:\", x_valid3.shape)\n",
    "print (\"Validating target's shape\", y_valid3.shape)\n",
    "print (\"Testing tensor's shape:\", x_test3.shape)\n",
    "print (\"Testing target's shape\", y_test3.shape)"
   ]
  },
  {
   "cell_type": "code",
   "execution_count": 54,
   "metadata": {
    "collapsed": true
   },
   "outputs": [],
   "source": [
    "hide_code\n",
    "# Create a list of targets\n",
    "y_train3_list = [y_train3[:, :33], y_train3[:, 33:]]\n",
    "y_test3_list = [y_test3[:, :33], y_valid3[:, 33:]]\n",
    "y_valid3_list = [y_valid3[:, :33], y_valid3[:, 33:]]"
   ]
  },
  {
   "cell_type": "markdown",
   "metadata": {},
   "source": [
    "#### Multi-label targets, grayscaled images"
   ]
  },
  {
   "cell_type": "code",
   "execution_count": 64,
   "metadata": {
    "collapsed": true
   },
   "outputs": [],
   "source": [
    "hide_code\n",
    "# Split the grayscaled data\n",
    "x_train4, x_test4, y_train4, y_test4 = train_test_split(gray_tensors, back_targets, \n",
    "                                                        test_size = 0.2, \n",
    "                                                        random_state = 1)\n",
    "x_valid4, y_valid4 = x_test4[:n], y_test4[:n]\n",
    "x_test4, y_test4 = x_test4[n:], y_test4[n:]"
   ]
  },
  {
   "cell_type": "code",
   "execution_count": 65,
   "metadata": {
    "collapsed": true
   },
   "outputs": [],
   "source": [
    "hide_code\n",
    "# Reshape the grayscaled data\n",
    "x_train4, x_test4, x_valid4 = \\\n",
    "x_train4.reshape(-1, 32, 32, 1), x_test4.reshape(-1, 32, 32, 1), x_valid4.reshape(-1, 32, 32, 1)"
   ]
  },
  {
   "cell_type": "code",
   "execution_count": 66,
   "metadata": {},
   "outputs": [
    {
     "name": "stdout",
     "output_type": "stream",
     "text": [
      "Training grayscaled tensor's shape: (11352, 32, 32, 1)\n",
      "Training grayscaled target's shape (11352, 37)\n",
      "Validating grayscaled tensor's shape: (1419, 32, 32, 1)\n",
      "Validating grayscaled target's shape (1419, 37)\n",
      "Testing grayscaled tensor's shape: (1419, 32, 32, 1)\n",
      "Testing grayscaled target's shape (1419, 37)\n"
     ]
    }
   ],
   "source": [
    "hide_code\n",
    "# Print the shape\n",
    "print (\"Training grayscaled tensor's shape:\", x_train4.shape)\n",
    "print (\"Training grayscaled target's shape\", y_train4.shape)\n",
    "print (\"Validating grayscaled tensor's shape:\", x_valid4.shape)\n",
    "print (\"Validating grayscaled target's shape\", y_valid4.shape)\n",
    "print (\"Testing grayscaled tensor's shape:\", x_test4.shape)\n",
    "print (\"Testing grayscaled target's shape\", y_test4.shape)"
   ]
  },
  {
   "cell_type": "code",
   "execution_count": 67,
   "metadata": {
    "collapsed": true
   },
   "outputs": [],
   "source": [
    "hide_code\n",
    "# Create a list of targets\n",
    "y_train4_list = [y_train4[:, :33], y_train4[:, 33:]]\n",
    "y_test4_list = [y_test4[:, :33], y_test4[:, 33:]]\n",
    "y_valid4_list = [y_valid4[:, :33], y_valid4[:, 33:]]"
   ]
  },
  {
   "cell_type": "markdown",
   "metadata": {},
   "source": [
    "## Step 4. Create a One-Label Classification Model\n",
    "### Color Images\n",
    "Define a model architecture and compile the model for color images."
   ]
  },
  {
   "cell_type": "code",
   "execution_count": 29,
   "metadata": {
    "collapsed": true
   },
   "outputs": [],
   "source": [
    "hide_code\n",
    "def model():\n",
    "    model = Sequential()\n",
    "    # TODO: Define a model architecture\n",
    "\n",
    "    model.add(Conv2D(32, (5, 5), padding='same', input_shape=x_train.shape[1:]))\n",
    "    model.add(Activation('relu'))    \n",
    "    model.add(MaxPooling2D(pool_size=(2, 2)))\n",
    "    model.add(Dropout(0.25))\n",
    "\n",
    "    model.add(Conv2D(96, (5, 5)))\n",
    "    model.add(Activation('relu'))    \n",
    "    model.add(MaxPooling2D(pool_size=(2, 2)))\n",
    "    model.add(Dropout(0.25))\n",
    "    \n",
    "    model.add(GlobalMaxPooling2D()) \n",
    "    \n",
    "    model.add(Dense(512, activation='relu'))\n",
    "    model.add(Dropout(0.25))    \n",
    "\n",
    "    model.add(Dense(33))\n",
    "    model.add(Activation('softmax'))\n",
    "    \n",
    "    # TODO: Compile the model\n",
    "    model.compile(loss='categorical_crossentropy', optimizer='nadam', metrics=['accuracy'])\n",
    "    \n",
    "    return model\n",
    "\n",
    "model = model()"
   ]
  },
  {
   "cell_type": "code",
   "execution_count": 30,
   "metadata": {
    "scrolled": false
   },
   "outputs": [
    {
     "name": "stdout",
     "output_type": "stream",
     "text": [
      "Train on 11352 samples, validate on 1419 samples\n",
      "Epoch 1/30\n",
      "\n",
      "Epoch 00001: val_loss improved from inf to 3.49939, saving model to weights.best.model.hdf5\n",
      " - 54s - loss: 3.4943 - acc: 0.0333 - val_loss: 3.4994 - val_acc: 0.0317\n",
      "Epoch 2/30\n",
      "\n",
      "Epoch 00002: val_loss improved from 3.49939 to 3.47525, saving model to weights.best.model.hdf5\n",
      " - 51s - loss: 3.4739 - acc: 0.0426 - val_loss: 3.4753 - val_acc: 0.0345\n",
      "Epoch 3/30\n",
      "\n",
      "Epoch 00003: val_loss did not improve\n",
      " - 49s - loss: 3.4079 - acc: 0.0529 - val_loss: 3.6176 - val_acc: 0.0338\n",
      "Epoch 4/30\n",
      "\n",
      "Epoch 00004: val_loss did not improve\n",
      " - 49s - loss: 3.3572 - acc: 0.0604 - val_loss: 3.5068 - val_acc: 0.0465\n",
      "Epoch 5/30\n",
      "\n",
      "Epoch 00005: val_loss improved from 3.47525 to 3.31415, saving model to weights.best.model.hdf5\n",
      " - 50s - loss: 3.2952 - acc: 0.0681 - val_loss: 3.3142 - val_acc: 0.0817\n",
      "Epoch 6/30\n",
      "\n",
      "Epoch 00006: val_loss did not improve\n",
      " - 49s - loss: 3.2218 - acc: 0.0816 - val_loss: 3.4486 - val_acc: 0.0606\n",
      "Epoch 7/30\n",
      "\n",
      "Epoch 00007: val_loss improved from 3.31415 to 3.29660, saving model to weights.best.model.hdf5\n",
      " - 51s - loss: 3.1625 - acc: 0.0882 - val_loss: 3.2966 - val_acc: 0.0691\n",
      "Epoch 8/30\n",
      "\n",
      "Epoch 00008: val_loss improved from 3.29660 to 3.25692, saving model to weights.best.model.hdf5\n",
      " - 50s - loss: 3.1076 - acc: 0.0899 - val_loss: 3.2569 - val_acc: 0.0691\n",
      "Epoch 9/30\n",
      "\n",
      "Epoch 00009: val_loss did not improve\n",
      " - 49s - loss: 3.0826 - acc: 0.0909 - val_loss: 3.3043 - val_acc: 0.0606\n",
      "Epoch 10/30\n",
      "\n",
      "Epoch 00010: val_loss improved from 3.25692 to 3.12058, saving model to weights.best.model.hdf5\n",
      " - 50s - loss: 3.0563 - acc: 0.0977 - val_loss: 3.1206 - val_acc: 0.0853\n",
      "Epoch 11/30\n",
      "\n",
      "Epoch 00011: val_loss did not improve\n",
      " - 50s - loss: 3.0374 - acc: 0.0953 - val_loss: 3.2212 - val_acc: 0.0789\n",
      "Epoch 12/30\n",
      "\n",
      "Epoch 00012: val_loss did not improve\n",
      " - 49s - loss: 3.0165 - acc: 0.0978 - val_loss: 3.1358 - val_acc: 0.0937\n",
      "Epoch 13/30\n",
      "\n",
      "Epoch 00013: val_loss did not improve\n",
      " - 50s - loss: 3.0037 - acc: 0.1091 - val_loss: 3.2977 - val_acc: 0.0726\n",
      "Epoch 14/30\n",
      "\n",
      "Epoch 00014: val_loss did not improve\n",
      " - 49s - loss: 2.9851 - acc: 0.1088 - val_loss: 3.2307 - val_acc: 0.0698\n",
      "Epoch 15/30\n",
      "\n",
      "Epoch 00015: val_loss did not improve\n",
      " - 49s - loss: 2.9776 - acc: 0.1138 - val_loss: 3.4582 - val_acc: 0.0592\n",
      "Epoch 16/30\n",
      "\n",
      "Epoch 00016: val_loss did not improve\n",
      " - 49s - loss: 2.9659 - acc: 0.1172 - val_loss: 3.2181 - val_acc: 0.0817\n",
      "Epoch 17/30\n",
      "\n",
      "Epoch 00017: val_loss did not improve\n",
      " - 50s - loss: 2.9599 - acc: 0.1178 - val_loss: 3.7111 - val_acc: 0.0543\n",
      "Epoch 18/30\n",
      "\n",
      "Epoch 00018: val_loss improved from 3.12058 to 3.06068, saving model to weights.best.model.hdf5\n",
      " - 49s - loss: 2.9356 - acc: 0.1173 - val_loss: 3.0607 - val_acc: 0.0930\n",
      "Epoch 19/30\n",
      "\n",
      "Epoch 00019: val_loss did not improve\n",
      " - 50s - loss: 2.9187 - acc: 0.1263 - val_loss: 3.0905 - val_acc: 0.1036\n",
      "Epoch 20/30\n",
      "\n",
      "Epoch 00020: val_loss improved from 3.06068 to 3.01569, saving model to weights.best.model.hdf5\n",
      " - 50s - loss: 2.8975 - acc: 0.1291 - val_loss: 3.0157 - val_acc: 0.1191\n",
      "Epoch 21/30\n",
      "\n",
      "Epoch 00021: val_loss did not improve\n",
      " - 50s - loss: 2.8922 - acc: 0.1306 - val_loss: 3.1161 - val_acc: 0.0909\n",
      "Epoch 22/30\n",
      "\n",
      "Epoch 00022: val_loss did not improve\n",
      " - 49s - loss: 2.8638 - acc: 0.1403 - val_loss: 3.2637 - val_acc: 0.0705\n",
      "Epoch 23/30\n",
      "\n",
      "Epoch 00023: val_loss did not improve\n",
      " - 50s - loss: 2.8384 - acc: 0.1461 - val_loss: 3.1752 - val_acc: 0.0980\n",
      "Epoch 24/30\n",
      "\n",
      "Epoch 00024: val_loss did not improve\n",
      " - 50s - loss: 2.8045 - acc: 0.1580 - val_loss: 3.0933 - val_acc: 0.0916\n",
      "Epoch 25/30\n",
      "\n",
      "Epoch 00025: val_loss did not improve\n",
      " - 50s - loss: 2.7851 - acc: 0.1562 - val_loss: 3.0698 - val_acc: 0.1135\n",
      "Epoch 26/30\n",
      "\n",
      "Epoch 00026: val_loss did not improve\n",
      " - 50s - loss: 2.7643 - acc: 0.1723 - val_loss: 3.0243 - val_acc: 0.1240\n",
      "Epoch 27/30\n",
      "\n",
      "Epoch 00027: val_loss did not improve\n",
      " - 51s - loss: 2.7195 - acc: 0.1777 - val_loss: 3.1126 - val_acc: 0.1219\n",
      "Epoch 28/30\n",
      "\n",
      "Epoch 00028: val_loss did not improve\n",
      " - 50s - loss: 2.7041 - acc: 0.1814 - val_loss: 3.3616 - val_acc: 0.0937\n",
      "Epoch 29/30\n",
      "\n",
      "Epoch 00029: val_loss did not improve\n",
      " - 50s - loss: 2.6548 - acc: 0.1969 - val_loss: 3.1751 - val_acc: 0.1128\n",
      "Epoch 30/30\n",
      "\n",
      "Epoch 00030: val_loss improved from 3.01569 to 2.94331, saving model to weights.best.model.hdf5\n",
      " - 52s - loss: 2.6185 - acc: 0.2096 - val_loss: 2.9433 - val_acc: 0.1557\n"
     ]
    }
   ],
   "source": [
    "hide_code\n",
    "# Train the model\n",
    "checkpointer = ModelCheckpoint(filepath='weights.best.model.hdf5', \n",
    "                               verbose=2, save_best_only=True)\n",
    "history = model.fit(x_train, y_train, \n",
    "                    epochs=30, batch_size=64, verbose=2,\n",
    "                    validation_data=(x_valid, y_valid),\n",
    "                    callbacks=[checkpointer])"
   ]
  },
  {
   "cell_type": "code",
   "execution_count": 31,
   "metadata": {},
   "outputs": [
    {
     "data": {
      "image/png": "[encoded data removed]",
      "text/plain": [
       "<matplotlib.figure.Figure at 0x11884ad30>"
      ]
     },
     "metadata": {},
     "output_type": "display_data"
    }
   ],
   "source": [
    "hide_code\n",
    "# Plot the training history\n",
    "history_plot(history, 0)"
   ]
  },
  {
   "cell_type": "markdown",
   "metadata": {},
   "source": [
    "We should have an accuracy greater than 3%"
   ]
  },
  {
   "cell_type": "code",
   "execution_count": 32,
   "metadata": {},
   "outputs": [
    {
     "name": "stdout",
     "output_type": "stream",
     "text": [
      "1419/1419 [==============================] - 2s 2ms/step\n"
     ]
    },
    {
     "data": {
      "text/plain": [
       "[2.9705671751641991, 0.15362931642001409]"
      ]
     },
     "execution_count": 32,
     "metadata": {},
     "output_type": "execute_result"
    }
   ],
   "source": [
    "hide_code\n",
    "# Load the model with the best validation accuracy\n",
    "model.load_weights('weights.best.model.hdf5')\n",
    "# Calculate classification accuracy on the testing set\n",
    "score = model.evaluate(x_test, y_test)\n",
    "score"
   ]
  },
  {
   "cell_type": "markdown",
   "metadata": {},
   "source": [
    "Apply the ImageDataGenerator() function."
   ]
  },
  {
   "cell_type": "code",
   "execution_count": 33,
   "metadata": {},
   "outputs": [
    {
     "name": "stdout",
     "output_type": "stream",
     "text": [
      "Epoch 1/20\n",
      "\n",
      "Epoch 00001: val_loss improved from 2.94331 to 2.70824, saving model to weights.best.model.hdf5\n",
      " - 311s - loss: 2.6150 - acc: 0.2159 - val_loss: 2.7082 - val_acc: 0.2340\n",
      "Epoch 2/20\n",
      "\n",
      "Epoch 00002: val_loss improved from 2.70824 to 2.48796, saving model to weights.best.model.hdf5\n",
      " - 305s - loss: 2.4326 - acc: 0.2709 - val_loss: 2.4880 - val_acc: 0.2918\n",
      "Epoch 3/20\n",
      "\n",
      "Epoch 00003: val_loss improved from 2.48796 to 2.35728, saving model to weights.best.model.hdf5\n",
      " - 287s - loss: 2.3042 - acc: 0.3011 - val_loss: 2.3573 - val_acc: 0.3164\n",
      "Epoch 4/20\n",
      "\n",
      "Epoch 00004: val_loss improved from 2.35728 to 2.35480, saving model to weights.best.model.hdf5\n",
      " - 325s - loss: 2.2069 - acc: 0.3294 - val_loss: 2.3548 - val_acc: 0.3136\n",
      "Epoch 5/20\n",
      "\n",
      "Epoch 00005: val_loss improved from 2.35480 to 2.10591, saving model to weights.best.model.hdf5\n",
      " - 339s - loss: 2.1345 - acc: 0.3475 - val_loss: 2.1059 - val_acc: 0.4045\n",
      "Epoch 6/20\n",
      "\n",
      "Epoch 00006: val_loss did not improve\n",
      " - 334s - loss: 2.0591 - acc: 0.3670 - val_loss: 2.2798 - val_acc: 0.3347\n",
      "Epoch 7/20\n",
      "\n",
      "Epoch 00007: val_loss did not improve\n",
      " - 323s - loss: 2.0112 - acc: 0.3809 - val_loss: 2.1083 - val_acc: 0.3827\n",
      "Epoch 8/20\n",
      "\n",
      "Epoch 00008: val_loss did not improve\n",
      " - 290s - loss: 1.9686 - acc: 0.3924 - val_loss: 2.1139 - val_acc: 0.3834\n",
      "Epoch 9/20\n",
      "\n",
      "Epoch 00009: val_loss did not improve\n",
      " - 289s - loss: 1.9973 - acc: 0.3873 - val_loss: 2.1465 - val_acc: 0.3658\n",
      "Epoch 10/20\n",
      "\n",
      "Epoch 00010: val_loss improved from 2.10591 to 1.89105, saving model to weights.best.model.hdf5\n",
      " - 292s - loss: 1.8874 - acc: 0.4155 - val_loss: 1.8910 - val_acc: 0.4454\n",
      "Epoch 11/20\n",
      "\n",
      "Epoch 00011: val_loss improved from 1.89105 to 1.85353, saving model to weights.best.model.hdf5\n",
      " - 316s - loss: 1.8203 - acc: 0.4328 - val_loss: 1.8535 - val_acc: 0.4602\n",
      "Epoch 12/20\n",
      "\n",
      "Epoch 00012: val_loss improved from 1.85353 to 1.77031, saving model to weights.best.model.hdf5\n",
      " - 347s - loss: 1.7492 - acc: 0.4531 - val_loss: 1.7703 - val_acc: 0.4750\n",
      "Epoch 13/20\n",
      "\n",
      "Epoch 00013: val_loss did not improve\n",
      " - 317s - loss: 1.6978 - acc: 0.4701 - val_loss: 1.8185 - val_acc: 0.4588\n",
      "Epoch 14/20\n",
      "\n",
      "Epoch 00014: val_loss improved from 1.77031 to 1.75177, saving model to weights.best.model.hdf5\n",
      " - 326s - loss: 1.6597 - acc: 0.4812 - val_loss: 1.7518 - val_acc: 0.4806\n",
      "Epoch 15/20\n",
      "\n",
      "Epoch 00015: val_loss did not improve\n",
      " - 327s - loss: 1.6098 - acc: 0.4966 - val_loss: 1.8493 - val_acc: 0.4503\n",
      "Epoch 16/20\n",
      "\n",
      "Epoch 00016: val_loss did not improve\n",
      " - 317s - loss: 1.5783 - acc: 0.5046 - val_loss: 1.8183 - val_acc: 0.4468\n",
      "Epoch 17/20\n",
      "\n",
      "Epoch 00017: val_loss improved from 1.75177 to 1.69633, saving model to weights.best.model.hdf5\n",
      " - 336s - loss: 1.5446 - acc: 0.5150 - val_loss: 1.6963 - val_acc: 0.4982\n",
      "Epoch 18/20\n",
      "\n",
      "Epoch 00018: val_loss did not improve\n",
      " - 323s - loss: 1.5195 - acc: 0.5241 - val_loss: 1.8666 - val_acc: 0.4722\n",
      "Epoch 19/20\n",
      "\n",
      "Epoch 00019: val_loss did not improve\n",
      " - 300s - loss: 1.4861 - acc: 0.5339 - val_loss: 1.7795 - val_acc: 0.4778\n",
      "Epoch 20/20\n",
      "\n",
      "Epoch 00020: val_loss improved from 1.69633 to 1.60777, saving model to weights.best.model.hdf5\n",
      " - 314s - loss: 1.4829 - acc: 0.5381 - val_loss: 1.6078 - val_acc: 0.5257\n"
     ]
    }
   ],
   "source": [
    "hide_code\n",
    "# Fit the model with ImageDataGenerator()\n",
    "# TODO: Define parameters\n",
    "steps, epochs = 1000, 20\n",
    "data_generator = ImageDataGenerator(zoom_range=0.2, shear_range=0.2, rotation_range=20)\n",
    "\n",
    "generator = model.fit_generator(data_generator.flow(x_train, y_train, batch_size=64),\n",
    "                                steps_per_epoch = steps, epochs = epochs,\n",
    "                                validation_data = (x_valid, y_valid), \n",
    "                                callbacks=[checkpointer], verbose=2)"
   ]
  },
  {
   "cell_type": "code",
   "execution_count": 35,
   "metadata": {},
   "outputs": [
    {
     "name": "stdout",
     "output_type": "stream",
     "text": [
      "1419/1419 [==============================] - 3s 2ms/step\n"
     ]
    },
    {
     "data": {
      "text/plain": [
       "[1.588149335789294, 0.51585623689148108]"
      ]
     },
     "execution_count": 35,
     "metadata": {},
     "output_type": "execute_result"
    }
   ],
   "source": [
    "hide_code\n",
    "# Load the model with the best validation accuracy\n",
    "model.load_weights('weights.best.model.hdf5')\n",
    "# Calculate classification accuracy on the testing set\n",
    "score = model.evaluate(x_test, y_test)\n",
    "score"
   ]
  },
  {
   "cell_type": "markdown",
   "metadata": {},
   "source": [
    "Let's compare the results with classifying algorithms."
   ]
  },
  {
   "cell_type": "code",
   "execution_count": null,
   "metadata": {
    "collapsed": true
   },
   "outputs": [],
   "source": [
    "hide_code\n",
    "# Fit the classifier and get the accuracy score\n",
    "y_train_c = np.array([np.argmax(y) for y in y_train])\n",
    "y_test_c = np.array([np.argmax(y) for y in y_test])\n",
    "clf = GradientBoostingClassifier().fit(x_train.reshape(-1, 32*32*3), y_train_c)\n",
    "clf.score(x_test.reshape(-1, 32*32*3), y_test_c)"
   ]
  },
  {
   "cell_type": "code",
   "execution_count": null,
   "metadata": {
    "collapsed": true
   },
   "outputs": [],
   "source": [
    "hide_code\n",
    "# Fit the classifier and get the accuracy score\n",
    "clf2 = RandomForestClassifier().fit(x_train.reshape(-1, 32*32*3), y_train_c)\n",
    "clf2.score(x_test.reshape(-1, 32*32*3), y_test_c)"
   ]
  },
  {
   "cell_type": "markdown",
   "metadata": {},
   "source": [
    "### Grayscaled Images\n",
    "Define a model architecture and compile the model for grayscaled images."
   ]
  },
  {
   "cell_type": "code",
   "execution_count": 41,
   "metadata": {},
   "outputs": [],
   "source": [
    "hide_code\n",
    "def gray_model():\n",
    "    model = Sequential()\n",
    "    \n",
    "    # TODO: Define a model architecture\n",
    "    model.add(Conv2D(32, (5, 5), padding='same', input_shape=x_train2.shape[1:]))\n",
    "    model.add(Activation('relu'))    \n",
    "    model.add(MaxPooling2D(pool_size=(2, 2)))\n",
    "    model.add(Dropout(0.25))\n",
    "\n",
    "    model.add(Conv2D(256, (5, 5)))\n",
    "    model.add(Activation('relu'))    \n",
    "    model.add(MaxPooling2D(pool_size=(2, 2)))\n",
    "    model.add(Dropout(0.25))\n",
    "    \n",
    "    model.add(GlobalMaxPooling2D()) \n",
    "    \n",
    "    model.add(Dense(1024, activation='relu'))\n",
    "    model.add(Dropout(0.25)) \n",
    "    \n",
    "    model.add(Dense(256, activation='relu'))\n",
    "    model.add(Dropout(0.25))    \n",
    "\n",
    "    model.add(Dense(33))\n",
    "    model.add(Activation('softmax'))\n",
    "    \n",
    "    # TODO: Compile the model\n",
    "    model.compile(loss='categorical_crossentropy', optimizer='rmsprop', metrics=['accuracy'])\n",
    "    return model\n",
    "\n",
    "gray_model = gray_model()"
   ]
  },
  {
   "cell_type": "code",
   "execution_count": 42,
   "metadata": {
    "scrolled": false
   },
   "outputs": [
    {
     "name": "stdout",
     "output_type": "stream",
     "text": [
      "\n",
      "Epoch 00001: val_loss improved from inf to 3.48849, saving model to weights.best.gray_model.hdf5\n",
      "\n",
      "Epoch 00002: val_loss improved from 3.48849 to 3.44826, saving model to weights.best.gray_model.hdf5\n",
      "\n",
      "Epoch 00003: val_loss improved from 3.44826 to 3.42566, saving model to weights.best.gray_model.hdf5\n",
      "\n",
      "Epoch 00004: val_loss improved from 3.42566 to 3.39931, saving model to weights.best.gray_model.hdf5\n",
      "\n",
      "Epoch 00005: val_loss improved from 3.39931 to 3.26551, saving model to weights.best.gray_model.hdf5\n",
      "\n",
      "Epoch 00006: val_loss did not improve\n",
      "\n",
      "Epoch 00007: val_loss improved from 3.26551 to 3.22171, saving model to weights.best.gray_model.hdf5\n",
      "\n",
      "Epoch 00008: val_loss improved from 3.22171 to 3.14504, saving model to weights.best.gray_model.hdf5\n",
      "\n",
      "Epoch 00009: val_loss improved from 3.14504 to 3.05662, saving model to weights.best.gray_model.hdf5\n",
      "\n",
      "Epoch 00010: val_loss improved from 3.05662 to 2.90761, saving model to weights.best.gray_model.hdf5\n",
      "\n",
      "Epoch 00011: val_loss improved from 2.90761 to 2.37627, saving model to weights.best.gray_model.hdf5\n",
      "\n",
      "Epoch 00012: val_loss did not improve\n",
      "\n",
      "Epoch 00013: val_loss improved from 2.37627 to 2.06525, saving model to weights.best.gray_model.hdf5\n",
      "\n",
      "Epoch 00014: val_loss improved from 2.06525 to 2.06080, saving model to weights.best.gray_model.hdf5\n",
      "\n",
      "Epoch 00015: val_loss improved from 2.06080 to 1.73944, saving model to weights.best.gray_model.hdf5\n",
      "\n",
      "Epoch 00016: val_loss did not improve\n",
      "\n",
      "Epoch 00017: val_loss improved from 1.73944 to 1.69440, saving model to weights.best.gray_model.hdf5\n",
      "\n",
      "Epoch 00018: val_loss improved from 1.69440 to 1.43397, saving model to weights.best.gray_model.hdf5\n",
      "\n",
      "Epoch 00019: val_loss improved from 1.43397 to 1.35013, saving model to weights.best.gray_model.hdf5\n",
      "\n",
      "Epoch 00020: val_loss improved from 1.35013 to 1.31554, saving model to weights.best.gray_model.hdf5\n",
      "\n",
      "Epoch 00021: val_loss improved from 1.31554 to 1.16787, saving model to weights.best.gray_model.hdf5\n",
      "\n",
      "Epoch 00022: val_loss improved from 1.16787 to 1.03838, saving model to weights.best.gray_model.hdf5\n",
      "\n",
      "Epoch 00023: val_loss improved from 1.03838 to 0.93872, saving model to weights.best.gray_model.hdf5\n",
      "\n",
      "Epoch 00024: val_loss did not improve\n",
      "\n",
      "Epoch 00025: val_loss did not improve\n",
      "\n",
      "Epoch 00026: val_loss improved from 0.93872 to 0.93203, saving model to weights.best.gray_model.hdf5\n",
      "\n",
      "Epoch 00027: val_loss improved from 0.93203 to 0.76280, saving model to weights.best.gray_model.hdf5\n",
      "\n",
      "Epoch 00028: val_loss improved from 0.76280 to 0.71566, saving model to weights.best.gray_model.hdf5\n",
      "\n",
      "Epoch 00029: val_loss did not improve\n",
      "\n",
      "Epoch 00030: val_loss improved from 0.71566 to 0.71426, saving model to weights.best.gray_model.hdf5\n",
      "\n",
      "Epoch 00031: val_loss did not improve\n",
      "\n",
      "Epoch 00032: val_loss did not improve\n",
      "\n",
      "Epoch 00033: val_loss did not improve\n",
      "\n",
      "Epoch 00034: val_loss improved from 0.71426 to 0.62216, saving model to weights.best.gray_model.hdf5\n",
      "\n",
      "Epoch 00035: val_loss did not improve\n",
      "\n",
      "Epoch 00036: val_loss did not improve\n",
      "\n",
      "Epoch 00037: val_loss did not improve\n",
      "\n",
      "Epoch 00038: val_loss did not improve\n",
      "\n",
      "Epoch 00039: val_loss did not improve\n",
      "\n",
      "Epoch 00040: val_loss improved from 0.62216 to 0.60468, saving model to weights.best.gray_model.hdf5\n",
      "\n",
      "Epoch 00041: val_loss did not improve\n",
      "\n",
      "Epoch 00042: val_loss did not improve\n",
      "\n",
      "Epoch 00043: val_loss improved from 0.60468 to 0.57173, saving model to weights.best.gray_model.hdf5\n",
      "\n",
      "Epoch 00044: val_loss improved from 0.57173 to 0.51084, saving model to weights.best.gray_model.hdf5\n",
      "\n",
      "Epoch 00045: val_loss did not improve\n",
      "\n",
      "Epoch 00046: val_loss did not improve\n",
      "\n",
      "Epoch 00047: val_loss did not improve\n",
      "\n",
      "Epoch 00048: val_loss did not improve\n",
      "\n",
      "Epoch 00049: val_loss did not improve\n",
      "\n",
      "Epoch 00050: val_loss did not improve\n",
      "\n",
      "Epoch 00051: val_loss did not improve\n",
      "\n",
      "Epoch 00052: val_loss did not improve\n",
      "\n",
      "Epoch 00053: val_loss did not improve\n",
      "\n",
      "Epoch 00054: val_loss did not improve\n",
      "\n",
      "Epoch 00055: val_loss did not improve\n",
      "\n",
      "Epoch 00056: val_loss did not improve\n",
      "\n",
      "Epoch 00057: val_loss did not improve\n",
      "\n",
      "Epoch 00058: val_loss did not improve\n",
      "\n",
      "Epoch 00059: val_loss did not improve\n",
      "\n",
      "Epoch 00060: val_loss did not improve\n",
      "\n",
      "Epoch 00061: val_loss did not improve\n",
      "\n",
      "Epoch 00062: val_loss did not improve\n",
      "\n",
      "Epoch 00063: val_loss did not improve\n",
      "\n",
      "Epoch 00064: val_loss did not improve\n",
      "\n",
      "Epoch 00065: val_loss did not improve\n",
      "\n",
      "Epoch 00066: val_loss did not improve\n",
      "\n",
      "Epoch 00067: val_loss did not improve\n",
      "\n",
      "Epoch 00068: val_loss did not improve\n",
      "\n",
      "Epoch 00069: val_loss did not improve\n",
      "\n",
      "Epoch 00070: val_loss did not improve\n",
      "\n",
      "Epoch 00071: val_loss did not improve\n",
      "\n",
      "Epoch 00072: val_loss did not improve\n",
      "\n",
      "Epoch 00073: val_loss did not improve\n",
      "\n",
      "Epoch 00074: val_loss did not improve\n",
      "\n",
      "Epoch 00075: val_loss did not improve\n",
      "\n",
      "Epoch 00076: val_loss did not improve\n",
      "\n",
      "Epoch 00077: val_loss did not improve\n",
      "\n",
      "Epoch 00078: val_loss did not improve\n",
      "\n",
      "Epoch 00079: val_loss did not improve\n",
      "\n",
      "Epoch 00080: val_loss did not improve\n",
      "\n",
      "Epoch 00081: val_loss did not improve\n",
      "\n",
      "Epoch 00082: val_loss did not improve\n",
      "\n",
      "Epoch 00083: val_loss did not improve\n",
      "\n",
      "Epoch 00084: val_loss did not improve\n",
      "\n",
      "Epoch 00085: val_loss did not improve\n",
      "\n",
      "Epoch 00086: val_loss did not improve\n",
      "\n",
      "Epoch 00087: val_loss did not improve\n",
      "\n",
      "Epoch 00088: val_loss did not improve\n",
      "\n",
      "Epoch 00089: val_loss did not improve\n",
      "\n",
      "Epoch 00090: val_loss did not improve\n",
      "\n",
      "Epoch 00091: val_loss did not improve\n",
      "\n",
      "Epoch 00092: val_loss did not improve\n",
      "\n",
      "Epoch 00093: val_loss did not improve\n",
      "\n",
      "Epoch 00094: val_loss did not improve\n",
      "\n",
      "Epoch 00095: val_loss did not improve\n",
      "\n",
      "Epoch 00096: val_loss did not improve\n",
      "\n",
      "Epoch 00097: val_loss did not improve\n",
      "\n",
      "Epoch 00098: val_loss did not improve\n",
      "\n",
      "Epoch 00099: val_loss did not improve\n",
      "\n",
      "Epoch 00100: val_loss did not improve\n",
      "\n",
      "Epoch 00101: val_loss did not improve\n",
      "\n",
      "Epoch 00102: val_loss did not improve\n",
      "\n",
      "Epoch 00103: val_loss did not improve\n",
      "\n",
      "Epoch 00104: val_loss did not improve\n",
      "\n",
      "Epoch 00105: val_loss did not improve\n",
      "\n",
      "Epoch 00106: val_loss did not improve\n",
      "\n",
      "Epoch 00107: val_loss did not improve\n",
      "\n",
      "Epoch 00108: val_loss did not improve\n",
      "\n",
      "Epoch 00109: val_loss did not improve\n",
      "\n",
      "Epoch 00110: val_loss did not improve\n",
      "\n",
      "Epoch 00111: val_loss did not improve\n",
      "\n",
      "Epoch 00112: val_loss did not improve\n",
      "\n",
      "Epoch 00113: val_loss did not improve\n",
      "\n",
      "Epoch 00114: val_loss did not improve\n",
      "\n",
      "Epoch 00115: val_loss did not improve\n",
      "\n",
      "Epoch 00116: val_loss did not improve\n",
      "\n",
      "Epoch 00117: val_loss did not improve\n",
      "\n",
      "Epoch 00118: val_loss did not improve\n",
      "\n",
      "Epoch 00119: val_loss did not improve\n",
      "\n",
      "Epoch 00120: val_loss did not improve\n",
      "\n",
      "Epoch 00121: val_loss did not improve\n",
      "\n",
      "Epoch 00122: val_loss did not improve\n",
      "\n",
      "Epoch 00123: val_loss did not improve\n",
      "\n",
      "Epoch 00124: val_loss did not improve\n",
      "\n",
      "Epoch 00125: val_loss did not improve\n",
      "\n",
      "Epoch 00126: val_loss did not improve\n",
      "\n",
      "Epoch 00127: val_loss improved from 0.51084 to 0.50525, saving model to weights.best.gray_model.hdf5\n",
      "\n",
      "Epoch 00128: val_loss did not improve\n",
      "\n",
      "Epoch 00129: val_loss did not improve\n",
      "\n",
      "Epoch 00130: val_loss did not improve\n",
      "\n",
      "Epoch 00131: val_loss did not improve\n",
      "\n",
      "Epoch 00132: val_loss did not improve\n",
      "\n",
      "Epoch 00133: val_loss did not improve\n",
      "\n",
      "Epoch 00134: val_loss did not improve\n",
      "\n",
      "Epoch 00135: val_loss did not improve\n",
      "\n",
      "Epoch 00136: val_loss did not improve\n",
      "\n",
      "Epoch 00137: val_loss did not improve\n",
      "\n",
      "Epoch 00138: val_loss did not improve\n",
      "\n",
      "Epoch 00139: val_loss did not improve\n",
      "\n",
      "Epoch 00140: val_loss did not improve\n",
      "\n",
      "Epoch 00141: val_loss did not improve\n",
      "\n",
      "Epoch 00142: val_loss did not improve\n",
      "\n",
      "Epoch 00143: val_loss did not improve\n",
      "\n",
      "Epoch 00144: val_loss did not improve\n",
      "\n",
      "Epoch 00145: val_loss did not improve\n",
      "\n",
      "Epoch 00146: val_loss did not improve\n",
      "\n",
      "Epoch 00147: val_loss did not improve\n",
      "\n",
      "Epoch 00148: val_loss did not improve\n",
      "\n",
      "Epoch 00149: val_loss did not improve\n",
      "\n",
      "Epoch 00150: val_loss did not improve\n",
      "\n",
      "Epoch 00151: val_loss did not improve\n",
      "\n",
      "Epoch 00152: val_loss did not improve\n",
      "\n",
      "Epoch 00153: val_loss did not improve\n",
      "\n",
      "Epoch 00154: val_loss did not improve\n",
      "\n",
      "Epoch 00155: val_loss did not improve\n",
      "\n",
      "Epoch 00156: val_loss did not improve\n",
      "\n",
      "Epoch 00157: val_loss did not improve\n",
      "\n",
      "Epoch 00158: val_loss did not improve\n",
      "\n",
      "Epoch 00159: val_loss did not improve\n",
      "\n",
      "Epoch 00160: val_loss did not improve\n",
      "\n",
      "Epoch 00161: val_loss did not improve\n",
      "\n",
      "Epoch 00162: val_loss did not improve\n",
      "\n",
      "Epoch 00163: val_loss did not improve\n",
      "\n",
      "Epoch 00164: val_loss did not improve\n"
     ]
    },
    {
     "name": "stdout",
     "output_type": "stream",
     "text": [
      "\n",
      "Epoch 00165: val_loss did not improve\n",
      "\n",
      "Epoch 00166: val_loss did not improve\n",
      "\n",
      "Epoch 00167: val_loss did not improve\n",
      "\n",
      "Epoch 00168: val_loss did not improve\n",
      "\n",
      "Epoch 00169: val_loss did not improve\n",
      "\n",
      "Epoch 00170: val_loss did not improve\n",
      "\n",
      "Epoch 00171: val_loss did not improve\n",
      "\n",
      "Epoch 00172: val_loss did not improve\n",
      "\n",
      "Epoch 00173: val_loss did not improve\n",
      "\n",
      "Epoch 00174: val_loss did not improve\n",
      "\n",
      "Epoch 00175: val_loss did not improve\n",
      "\n",
      "Epoch 00176: val_loss did not improve\n",
      "\n",
      "Epoch 00177: val_loss did not improve\n",
      "\n",
      "Epoch 00178: val_loss did not improve\n",
      "\n",
      "Epoch 00179: val_loss did not improve\n",
      "\n",
      "Epoch 00180: val_loss did not improve\n",
      "\n",
      "Epoch 00181: val_loss did not improve\n",
      "\n",
      "Epoch 00182: val_loss did not improve\n",
      "\n",
      "Epoch 00183: val_loss did not improve\n",
      "\n",
      "Epoch 00184: val_loss did not improve\n",
      "\n",
      "Epoch 00185: val_loss did not improve\n",
      "\n",
      "Epoch 00186: val_loss did not improve\n",
      "\n",
      "Epoch 00187: val_loss did not improve\n",
      "\n",
      "Epoch 00188: val_loss did not improve\n",
      "\n",
      "Epoch 00189: val_loss did not improve\n",
      "\n",
      "Epoch 00190: val_loss did not improve\n",
      "\n",
      "Epoch 00191: val_loss did not improve\n",
      "\n",
      "Epoch 00192: val_loss did not improve\n",
      "\n",
      "Epoch 00193: val_loss did not improve\n",
      "\n",
      "Epoch 00194: val_loss did not improve\n",
      "\n",
      "Epoch 00195: val_loss did not improve\n",
      "\n",
      "Epoch 00196: val_loss did not improve\n",
      "\n",
      "Epoch 00197: val_loss did not improve\n",
      "\n",
      "Epoch 00198: val_loss did not improve\n",
      "\n",
      "Epoch 00199: val_loss did not improve\n",
      "\n",
      "Epoch 00200: val_loss did not improve\n"
     ]
    }
   ],
   "source": [
    "hide_code\n",
    "# Train the model\n",
    "gray_checkpointer = ModelCheckpoint(filepath='weights.best.gray_model.hdf5', \n",
    "                                    verbose=2, save_best_only=True)\n",
    "gray_history = gray_model.fit(x_train2, y_train2, \n",
    "                              epochs=200, batch_size=64, verbose=0,\n",
    "                              validation_data=(x_valid2, y_valid2),\n",
    "                              callbacks=[gray_checkpointer])"
   ]
  },
  {
   "cell_type": "code",
   "execution_count": 45,
   "metadata": {},
   "outputs": [
    {
     "data": {
      "image/png": "[encoded data removed]",
      "text/plain": [
       "<matplotlib.figure.Figure at 0x128522ef0>"
      ]
     },
     "metadata": {},
     "output_type": "display_data"
    }
   ],
   "source": [
    "hide_code\n",
    "# Plot the training history\n",
    "history_plot(gray_history, 0)"
   ]
  },
  {
   "cell_type": "markdown",
   "metadata": {},
   "source": [
    "Try to reach an accuracy greater than 80%"
   ]
  },
  {
   "cell_type": "code",
   "execution_count": 46,
   "metadata": {},
   "outputs": [
    {
     "name": "stdout",
     "output_type": "stream",
     "text": [
      "1419/1419 [==============================] - 4s 3ms/step\n"
     ]
    },
    {
     "data": {
      "text/plain": [
       "[0.53796458938451108, 0.86680761099365755]"
      ]
     },
     "execution_count": 46,
     "metadata": {},
     "output_type": "execute_result"
    }
   ],
   "source": [
    "hide_code\n",
    "# Load the model with the best validation accuracy\n",
    "gray_model.load_weights('weights.best.gray_model.hdf5')\n",
    "# Calculate classification accuracy on the testing set\n",
    "gray_score = gray_model.evaluate(x_test2, y_test2)\n",
    "gray_score"
   ]
  },
  {
   "cell_type": "markdown",
   "metadata": {},
   "source": [
    "Apply the ImageDataGenerator() function."
   ]
  },
  {
   "cell_type": "code",
   "execution_count": 47,
   "metadata": {},
   "outputs": [
    {
     "name": "stdout",
     "output_type": "stream",
     "text": [
      "Epoch 1/20\n",
      "\n",
      "Epoch 00001: val_loss did not improve\n",
      " - 576s - loss: 1.7627 - acc: 0.5516 - val_loss: 0.8374 - val_acc: 0.7752\n",
      "Epoch 2/20\n",
      "\n",
      "Epoch 00002: val_loss did not improve\n",
      " - 567s - loss: 1.6919 - acc: 0.5692 - val_loss: 0.9914 - val_acc: 0.7350\n",
      "Epoch 3/20\n",
      "\n",
      "Epoch 00003: val_loss did not improve\n",
      " - 552s - loss: 1.6795 - acc: 0.5702 - val_loss: 0.8412 - val_acc: 0.7780\n",
      "Epoch 4/20\n",
      "\n",
      "Epoch 00004: val_loss did not improve\n",
      " - 537s - loss: 1.6807 - acc: 0.5694 - val_loss: 0.6908 - val_acc: 0.8309\n",
      "Epoch 5/20\n",
      "\n",
      "Epoch 00005: val_loss did not improve\n",
      " - 521s - loss: 1.6758 - acc: 0.5731 - val_loss: 0.8094 - val_acc: 0.7928\n",
      "Epoch 6/20\n",
      "\n",
      "Epoch 00006: val_loss did not improve\n",
      " - 530s - loss: 1.7106 - acc: 0.5644 - val_loss: 0.8367 - val_acc: 0.7942\n",
      "Epoch 7/20\n",
      "\n",
      "Epoch 00007: val_loss did not improve\n",
      " - 516s - loss: 1.7151 - acc: 0.5676 - val_loss: 0.9911 - val_acc: 0.7533\n",
      "Epoch 8/20\n",
      "\n",
      "Epoch 00008: val_loss did not improve\n",
      " - 491s - loss: 1.7855 - acc: 0.5500 - val_loss: 0.8528 - val_acc: 0.7667\n",
      "Epoch 9/20\n",
      "\n",
      "Epoch 00009: val_loss did not improve\n",
      " - 494s - loss: 1.8287 - acc: 0.5365 - val_loss: 0.8646 - val_acc: 0.7562\n",
      "Epoch 10/20\n",
      "\n",
      "Epoch 00010: val_loss did not improve\n",
      " - 523s - loss: 1.8694 - acc: 0.5313 - val_loss: 0.9533 - val_acc: 0.7562\n",
      "Epoch 11/20\n",
      "\n",
      "Epoch 00011: val_loss did not improve\n",
      " - 521s - loss: 1.8884 - acc: 0.5328 - val_loss: 0.9691 - val_acc: 0.7618\n",
      "Epoch 12/20\n",
      "\n",
      "Epoch 00012: val_loss did not improve\n",
      " - 513s - loss: 1.9287 - acc: 0.5178 - val_loss: 0.8069 - val_acc: 0.7914\n",
      "Epoch 13/20\n",
      "\n",
      "Epoch 00013: val_loss did not improve\n",
      " - 532s - loss: 1.9443 - acc: 0.5169 - val_loss: 0.7981 - val_acc: 0.7928\n",
      "Epoch 14/20\n",
      "\n",
      "Epoch 00014: val_loss did not improve\n",
      " - 529s - loss: 2.0038 - acc: 0.5069 - val_loss: 1.0079 - val_acc: 0.7308\n",
      "Epoch 15/20\n",
      "\n",
      "Epoch 00015: val_loss did not improve\n",
      " - 558s - loss: 2.0510 - acc: 0.4926 - val_loss: 0.9123 - val_acc: 0.7773\n",
      "Epoch 16/20\n",
      "\n",
      "Epoch 00016: val_loss did not improve\n",
      " - 568s - loss: 2.0887 - acc: 0.4894 - val_loss: 1.0575 - val_acc: 0.7132\n",
      "Epoch 17/20\n",
      "\n",
      "Epoch 00017: val_loss did not improve\n",
      " - 545s - loss: 2.1522 - acc: 0.4734 - val_loss: 0.9823 - val_acc: 0.7428\n",
      "Epoch 18/20\n",
      "\n",
      "Epoch 00018: val_loss did not improve\n",
      " - 555s - loss: 2.2079 - acc: 0.4619 - val_loss: 1.2415 - val_acc: 0.6730\n",
      "Epoch 19/20\n",
      "\n",
      "Epoch 00019: val_loss did not improve\n",
      " - 530s - loss: 2.2319 - acc: 0.4529 - val_loss: 1.1941 - val_acc: 0.6850\n",
      "Epoch 20/20\n",
      "\n",
      "Epoch 00020: val_loss did not improve\n",
      " - 534s - loss: 2.2603 - acc: 0.4497 - val_loss: 1.1903 - val_acc: 0.6822\n"
     ]
    }
   ],
   "source": [
    "hide_code\n",
    "# Fit the model with ImageDataGenerator()\n",
    "# TODO: Define parameters\n",
    "steps, epochs = 1000, 20\n",
    "data_generator = ImageDataGenerator(zoom_range=0.2, shear_range=0.2, rotation_range=20)\n",
    "\n",
    "gray_generator = gray_model.fit_generator(data_generator.flow(x_train2, y_train2, batch_size=64),\n",
    "                                          steps_per_epoch = steps, epochs = epochs,\n",
    "                                          validation_data = (x_test2, y_test2), \n",
    "                                          callbacks=[gray_checkpointer], verbose=2)"
   ]
  },
  {
   "cell_type": "code",
   "execution_count": 48,
   "metadata": {},
   "outputs": [
    {
     "name": "stdout",
     "output_type": "stream",
     "text": [
      "1419/1419 [==============================] - 4s 3ms/step\n"
     ]
    },
    {
     "data": {
      "text/plain": [
       "[0.53796458938451108, 0.86680761099365755]"
      ]
     },
     "execution_count": 48,
     "metadata": {},
     "output_type": "execute_result"
    }
   ],
   "source": [
    "hide_code\n",
    "# Load the model with the best validation accuracy\n",
    "gray_model.load_weights('weights.best.gray_model.hdf5')\n",
    "# Calculate classification accuracy on the testing set\n",
    "gray_score = gray_model.evaluate(x_test2, y_test2)\n",
    "gray_score"
   ]
  },
  {
   "cell_type": "markdown",
   "metadata": {},
   "source": [
    "Let's compare the results with classifying algorithms."
   ]
  },
  {
   "cell_type": "code",
   "execution_count": null,
   "metadata": {
    "collapsed": true
   },
   "outputs": [],
   "source": [
    "hide_code\n",
    "# Fit the classifier and get the accuracy score\n",
    "y_train2_c = np.array([np.argmax(y) for y in y_train2])\n",
    "y_test2_c = np.array([np.argmax(y) for y in y_test2])\n",
    "clf = GradientBoostingClassifier().fit(x_train2.reshape(-1, 32*32), y_train2_c)\n",
    "clf.score(x_test2.reshape(-1, 32*32), y_test2_c)"
   ]
  },
  {
   "cell_type": "code",
   "execution_count": null,
   "metadata": {
    "collapsed": true
   },
   "outputs": [],
   "source": [
    "hide_code\n",
    "# Fit the classifier and get the accuracy score\n",
    "clf2 = RandomForestClassifier().fit(x_train2.reshape(-1, 32*32), y_train2_c)\n",
    "clf2.score(x_test2.reshape(-1, 32*32), y_test2_c)"
   ]
  },
  {
   "cell_type": "markdown",
   "metadata": {},
   "source": [
    "## Step 5. Create a Multi-Label Classification Model\n",
    "### Color Images"
   ]
  },
  {
   "cell_type": "code",
   "execution_count": 103,
   "metadata": {
    "collapsed": true
   },
   "outputs": [],
   "source": [
    "hide_code\n",
    "def multi_model():    \n",
    "    model_input = Input(shape=(32, 32, 3))\n",
    "    x = BatchNormalization()(model_input)\n",
    "    # TODO: Define a model architecture\n",
    "    x = Conv2D(64, (5, 5), activation='relu', padding='same')(model_input)\n",
    "    x = MaxPooling2D(pool_size=(2, 2))(x)    \n",
    "    x = Dropout(0.25)(x)\n",
    "    \n",
    "    x = Conv2D(256, (5, 5), activation='relu', padding='same')(x)       \n",
    "    x = MaxPooling2D(pool_size=(2, 2))(x)    \n",
    "    x = Dropout(0.25)(x)\n",
    "              \n",
    "    x = GlobalMaxPooling2D()(x)\n",
    "    \n",
    "    x = Dense(1024, activation='tanh')(x)    \n",
    "    x = Dropout(0.25)(x)\n",
    "    \n",
    "    x = Dense(256, activation='tanh')(x)    \n",
    "    x = Dropout(0.25)(x) \n",
    "    \n",
    "    y1 = Dense(33, activation='softmax')(x)\n",
    "    y2 = Dense(4, activation='softmax')(x)\n",
    "    \n",
    "    model = Model(inputs=model_input, outputs=[y1, y2])\n",
    "    \n",
    "    # TODO: Compile the model\n",
    "    model.compile(loss='categorical_crossentropy', optimizer='nadam', metrics=['accuracy'])\n",
    "    return model\n",
    "\n",
    "multi_model = multi_model()"
   ]
  },
  {
   "cell_type": "code",
   "execution_count": 104,
   "metadata": {},
   "outputs": [
    {
     "name": "stdout",
     "output_type": "stream",
     "text": [
      "__________________________________________________________________________________________________\n",
      "Layer (type)                    Output Shape         Param #     Connected to                     \n",
      "==================================================================================================\n",
      "input_14 (InputLayer)           (None, 32, 32, 3)    0                                            \n",
      "__________________________________________________________________________________________________\n",
      "conv2d_35 (Conv2D)              (None, 32, 32, 64)   4864        input_14[0][0]                   \n",
      "__________________________________________________________________________________________________\n",
      "max_pooling2d_35 (MaxPooling2D) (None, 16, 16, 64)   0           conv2d_35[0][0]                  \n",
      "__________________________________________________________________________________________________\n",
      "dropout_66 (Dropout)            (None, 16, 16, 64)   0           max_pooling2d_35[0][0]           \n",
      "__________________________________________________________________________________________________\n",
      "conv2d_36 (Conv2D)              (None, 16, 16, 256)  409856      dropout_66[0][0]                 \n",
      "__________________________________________________________________________________________________\n",
      "max_pooling2d_36 (MaxPooling2D) (None, 8, 8, 256)    0           conv2d_36[0][0]                  \n",
      "__________________________________________________________________________________________________\n",
      "dropout_67 (Dropout)            (None, 8, 8, 256)    0           max_pooling2d_36[0][0]           \n",
      "__________________________________________________________________________________________________\n",
      "global_max_pooling2d_18 (Global (None, 256)          0           dropout_67[0][0]                 \n",
      "__________________________________________________________________________________________________\n",
      "dense_62 (Dense)                (None, 1024)         263168      global_max_pooling2d_18[0][0]    \n",
      "__________________________________________________________________________________________________\n",
      "dropout_68 (Dropout)            (None, 1024)         0           dense_62[0][0]                   \n",
      "__________________________________________________________________________________________________\n",
      "dense_63 (Dense)                (None, 256)          262400      dropout_68[0][0]                 \n",
      "__________________________________________________________________________________________________\n",
      "dropout_69 (Dropout)            (None, 256)          0           dense_63[0][0]                   \n",
      "__________________________________________________________________________________________________\n",
      "dense_64 (Dense)                (None, 33)           8481        dropout_69[0][0]                 \n",
      "__________________________________________________________________________________________________\n",
      "dense_65 (Dense)                (None, 4)            1028        dropout_69[0][0]                 \n",
      "==================================================================================================\n",
      "Total params: 949,797\n",
      "Trainable params: 949,797\n",
      "Non-trainable params: 0\n",
      "__________________________________________________________________________________________________\n"
     ]
    }
   ],
   "source": [
    "hide_code\n",
    "# Display the model architecture\n",
    "multi_model.summary()"
   ]
  },
  {
   "cell_type": "code",
   "execution_count": 105,
   "metadata": {},
   "outputs": [
    {
     "name": "stdout",
     "output_type": "stream",
     "text": [
      "\n",
      "Epoch 00001: val_loss improved from inf to 4.55754, saving model to weights.best.multi.hdf5\n",
      "\n",
      "Epoch 00002: val_loss improved from 4.55754 to 4.52434, saving model to weights.best.multi.hdf5\n",
      "\n",
      "Epoch 00003: val_loss did not improve\n",
      "\n",
      "Epoch 00004: val_loss did not improve\n",
      "\n",
      "Epoch 00005: val_loss did not improve\n",
      "\n",
      "Epoch 00006: val_loss did not improve\n",
      "\n",
      "Epoch 00007: val_loss did not improve\n",
      "\n",
      "Epoch 00008: val_loss did not improve\n",
      "\n",
      "Epoch 00009: val_loss did not improve\n",
      "\n",
      "Epoch 00010: val_loss did not improve\n"
     ]
    }
   ],
   "source": [
    "hide_code\n",
    "# Train the model\n",
    "multi_checkpointer = ModelCheckpoint(filepath='weights.best.multi.hdf5', \n",
    "                                     verbose=2, save_best_only=True)\n",
    "multi_history = multi_model.fit(x_train3, y_train3_list, \n",
    "                                validation_data=(x_test3, y_test3_list), \n",
    "                                epochs=10, batch_size=128, verbose=0, \n",
    "                                callbacks=[multi_checkpointer])"
   ]
  },
  {
   "cell_type": "markdown",
   "metadata": {},
   "source": [
    "We should have an accuracy greater than 3% for the first target (letter) and greater than 50% for the second target (background)."
   ]
  },
  {
   "cell_type": "code",
   "execution_count": 106,
   "metadata": {},
   "outputs": [
    {
     "name": "stdout",
     "output_type": "stream",
     "text": [
      "Scores: \n",
      " [4.5243446075891089, 3.4702539126414327, 1.0540906626460753, 0.047921071176885127, 0.45806906284623955]\n",
      "First label. Accuracy: 4.79%\n",
      "Second label. Accuracy: 45.81%\n"
     ]
    }
   ],
   "source": [
    "hide_code\n",
    "# Load the model with the best validation accuracy\n",
    "multi_model.load_weights('weights.best.multi.hdf5')\n",
    "# Calculate classification accuracy on the testing set\n",
    "multi_scores = multi_model.evaluate(x_test3, y_test3_list, verbose=0)\n",
    "\n",
    "print(\"Scores: \\n\" , (multi_scores))\n",
    "print(\"First label. Accuracy: %.2f%%\" % (multi_scores[3]*100))\n",
    "print(\"Second label. Accuracy: %.2f%%\" % (multi_scores[4]*100))"
   ]
  },
  {
   "cell_type": "markdown",
   "metadata": {
    "collapsed": true
   },
   "source": [
    "### Grayscaled Images"
   ]
  },
  {
   "cell_type": "code",
   "execution_count": 76,
   "metadata": {
    "collapsed": true
   },
   "outputs": [],
   "source": [
    "hide_code\n",
    "def gray_multi_model():    \n",
    "    model_input = Input(shape=(32, 32, 1))\n",
    "    x = BatchNormalization()(model_input)\n",
    "    # TODO: Define a model architecture\n",
    "    x = Conv2D(32, (5, 5), activation='relu', padding='same')(model_input)\n",
    "    x = MaxPooling2D(pool_size=(2, 2))(x)    \n",
    "    x = Dropout(0.25)(x)\n",
    "    \n",
    "    x = Conv2D(256, (5, 5), activation='relu', padding='same')(x)       \n",
    "    x = MaxPooling2D(pool_size=(2, 2))(x)    \n",
    "    x = Dropout(0.25)(x)\n",
    "              \n",
    "    x = GlobalMaxPooling2D()(x)\n",
    "    \n",
    "    x = Dense(1024, activation='relu')(x)    \n",
    "    x = Dropout(0.25)(x)\n",
    "    \n",
    "    x = Dense(256, activation='relu')(x)    \n",
    "    x = Dropout(0.25)(x)\n",
    "    \n",
    "    y1 = Dense(33, activation='softmax')(x)\n",
    "    y2 = Dense(4, activation='softmax')(x)\n",
    "       \n",
    "    model = Model(inputs=model_input, outputs=[y1, y2])\n",
    "    # TODO: Compile the model\n",
    "\n",
    "    model.compile(loss='categorical_crossentropy', optimizer='rmsprop', metrics=['accuracy'])   \n",
    "    return model\n",
    "\n",
    "gray_multi_model = gray_multi_model()"
   ]
  },
  {
   "cell_type": "code",
   "execution_count": 77,
   "metadata": {},
   "outputs": [
    {
     "name": "stdout",
     "output_type": "stream",
     "text": [
      "\n",
      "Epoch 00001: val_loss improved from inf to 4.59080, saving model to weights.best.gray_multi.hdf5\n",
      "\n",
      "Epoch 00002: val_loss improved from 4.59080 to 4.48156, saving model to weights.best.gray_multi.hdf5\n",
      "\n",
      "Epoch 00003: val_loss did not improve\n",
      "\n",
      "Epoch 00004: val_loss improved from 4.48156 to 4.09494, saving model to weights.best.gray_multi.hdf5\n",
      "\n",
      "Epoch 00005: val_loss improved from 4.09494 to 3.81356, saving model to weights.best.gray_multi.hdf5\n",
      "\n",
      "Epoch 00006: val_loss did not improve\n",
      "\n",
      "Epoch 00007: val_loss improved from 3.81356 to 3.66999, saving model to weights.best.gray_multi.hdf5\n",
      "\n",
      "Epoch 00008: val_loss improved from 3.66999 to 3.46014, saving model to weights.best.gray_multi.hdf5\n",
      "\n",
      "Epoch 00009: val_loss improved from 3.46014 to 3.36177, saving model to weights.best.gray_multi.hdf5\n",
      "\n",
      "Epoch 00010: val_loss did not improve\n",
      "\n",
      "Epoch 00011: val_loss improved from 3.36177 to 3.21495, saving model to weights.best.gray_multi.hdf5\n",
      "\n",
      "Epoch 00012: val_loss improved from 3.21495 to 3.09212, saving model to weights.best.gray_multi.hdf5\n",
      "\n",
      "Epoch 00013: val_loss did not improve\n",
      "\n",
      "Epoch 00014: val_loss improved from 3.09212 to 2.72814, saving model to weights.best.gray_multi.hdf5\n",
      "\n",
      "Epoch 00015: val_loss improved from 2.72814 to 2.52495, saving model to weights.best.gray_multi.hdf5\n",
      "\n",
      "Epoch 00016: val_loss improved from 2.52495 to 2.40752, saving model to weights.best.gray_multi.hdf5\n",
      "\n",
      "Epoch 00017: val_loss improved from 2.40752 to 2.30448, saving model to weights.best.gray_multi.hdf5\n",
      "\n",
      "Epoch 00018: val_loss did not improve\n",
      "\n",
      "Epoch 00019: val_loss improved from 2.30448 to 2.23482, saving model to weights.best.gray_multi.hdf5\n",
      "\n",
      "Epoch 00020: val_loss improved from 2.23482 to 1.97120, saving model to weights.best.gray_multi.hdf5\n",
      "\n",
      "Epoch 00021: val_loss improved from 1.97120 to 1.73347, saving model to weights.best.gray_multi.hdf5\n",
      "\n",
      "Epoch 00022: val_loss did not improve\n",
      "\n",
      "Epoch 00023: val_loss did not improve\n",
      "\n",
      "Epoch 00024: val_loss did not improve\n",
      "\n",
      "Epoch 00025: val_loss did not improve\n",
      "\n",
      "Epoch 00026: val_loss improved from 1.73347 to 1.47820, saving model to weights.best.gray_multi.hdf5\n",
      "\n",
      "Epoch 00027: val_loss did not improve\n",
      "\n",
      "Epoch 00028: val_loss improved from 1.47820 to 1.46933, saving model to weights.best.gray_multi.hdf5\n",
      "\n",
      "Epoch 00029: val_loss improved from 1.46933 to 1.33195, saving model to weights.best.gray_multi.hdf5\n",
      "\n",
      "Epoch 00030: val_loss did not improve\n",
      "\n",
      "Epoch 00031: val_loss did not improve\n",
      "\n",
      "Epoch 00032: val_loss improved from 1.33195 to 1.15460, saving model to weights.best.gray_multi.hdf5\n",
      "\n",
      "Epoch 00033: val_loss improved from 1.15460 to 1.07438, saving model to weights.best.gray_multi.hdf5\n",
      "\n",
      "Epoch 00034: val_loss improved from 1.07438 to 1.04936, saving model to weights.best.gray_multi.hdf5\n",
      "\n",
      "Epoch 00035: val_loss did not improve\n",
      "\n",
      "Epoch 00036: val_loss improved from 1.04936 to 0.92944, saving model to weights.best.gray_multi.hdf5\n",
      "\n",
      "Epoch 00037: val_loss did not improve\n",
      "\n",
      "Epoch 00038: val_loss did not improve\n",
      "\n",
      "Epoch 00039: val_loss did not improve\n",
      "\n",
      "Epoch 00040: val_loss did not improve\n",
      "\n",
      "Epoch 00041: val_loss improved from 0.92944 to 0.91745, saving model to weights.best.gray_multi.hdf5\n",
      "\n",
      "Epoch 00042: val_loss did not improve\n",
      "\n",
      "Epoch 00043: val_loss improved from 0.91745 to 0.83704, saving model to weights.best.gray_multi.hdf5\n",
      "\n",
      "Epoch 00044: val_loss improved from 0.83704 to 0.83302, saving model to weights.best.gray_multi.hdf5\n",
      "\n",
      "Epoch 00045: val_loss improved from 0.83302 to 0.78066, saving model to weights.best.gray_multi.hdf5\n",
      "\n",
      "Epoch 00046: val_loss did not improve\n",
      "\n",
      "Epoch 00047: val_loss did not improve\n",
      "\n",
      "Epoch 00048: val_loss did not improve\n",
      "\n",
      "Epoch 00049: val_loss did not improve\n",
      "\n",
      "Epoch 00050: val_loss improved from 0.78066 to 0.74053, saving model to weights.best.gray_multi.hdf5\n",
      "\n",
      "Epoch 00051: val_loss did not improve\n",
      "\n",
      "Epoch 00052: val_loss improved from 0.74053 to 0.64824, saving model to weights.best.gray_multi.hdf5\n",
      "\n",
      "Epoch 00053: val_loss did not improve\n",
      "\n",
      "Epoch 00054: val_loss improved from 0.64824 to 0.63057, saving model to weights.best.gray_multi.hdf5\n",
      "\n",
      "Epoch 00055: val_loss did not improve\n",
      "\n",
      "Epoch 00056: val_loss did not improve\n",
      "\n",
      "Epoch 00057: val_loss improved from 0.63057 to 0.61849, saving model to weights.best.gray_multi.hdf5\n",
      "\n",
      "Epoch 00058: val_loss did not improve\n",
      "\n",
      "Epoch 00059: val_loss did not improve\n",
      "\n",
      "Epoch 00060: val_loss improved from 0.61849 to 0.59070, saving model to weights.best.gray_multi.hdf5\n",
      "\n",
      "Epoch 00061: val_loss did not improve\n",
      "\n",
      "Epoch 00062: val_loss did not improve\n",
      "\n",
      "Epoch 00063: val_loss improved from 0.59070 to 0.58503, saving model to weights.best.gray_multi.hdf5\n",
      "\n",
      "Epoch 00064: val_loss improved from 0.58503 to 0.56096, saving model to weights.best.gray_multi.hdf5\n",
      "\n",
      "Epoch 00065: val_loss did not improve\n",
      "\n",
      "Epoch 00066: val_loss did not improve\n",
      "\n",
      "Epoch 00067: val_loss did not improve\n",
      "\n",
      "Epoch 00068: val_loss did not improve\n",
      "\n",
      "Epoch 00069: val_loss did not improve\n",
      "\n",
      "Epoch 00070: val_loss improved from 0.56096 to 0.50192, saving model to weights.best.gray_multi.hdf5\n",
      "\n",
      "Epoch 00071: val_loss did not improve\n",
      "\n",
      "Epoch 00072: val_loss did not improve\n",
      "\n",
      "Epoch 00073: val_loss did not improve\n",
      "\n",
      "Epoch 00074: val_loss did not improve\n",
      "\n",
      "Epoch 00075: val_loss did not improve\n",
      "\n",
      "Epoch 00076: val_loss improved from 0.50192 to 0.48907, saving model to weights.best.gray_multi.hdf5\n",
      "\n",
      "Epoch 00077: val_loss did not improve\n",
      "\n",
      "Epoch 00078: val_loss improved from 0.48907 to 0.45794, saving model to weights.best.gray_multi.hdf5\n",
      "\n",
      "Epoch 00079: val_loss did not improve\n",
      "\n",
      "Epoch 00080: val_loss did not improve\n",
      "\n",
      "Epoch 00081: val_loss did not improve\n",
      "\n",
      "Epoch 00082: val_loss did not improve\n",
      "\n",
      "Epoch 00083: val_loss did not improve\n",
      "\n",
      "Epoch 00084: val_loss did not improve\n",
      "\n",
      "Epoch 00085: val_loss did not improve\n",
      "\n",
      "Epoch 00086: val_loss did not improve\n",
      "\n",
      "Epoch 00087: val_loss did not improve\n",
      "\n",
      "Epoch 00088: val_loss did not improve\n",
      "\n",
      "Epoch 00089: val_loss did not improve\n",
      "\n",
      "Epoch 00090: val_loss did not improve\n",
      "\n",
      "Epoch 00091: val_loss did not improve\n",
      "\n",
      "Epoch 00092: val_loss did not improve\n",
      "\n",
      "Epoch 00093: val_loss did not improve\n",
      "\n",
      "Epoch 00094: val_loss did not improve\n",
      "\n",
      "Epoch 00095: val_loss did not improve\n",
      "\n",
      "Epoch 00096: val_loss did not improve\n",
      "\n",
      "Epoch 00097: val_loss did not improve\n",
      "\n",
      "Epoch 00098: val_loss improved from 0.45794 to 0.44682, saving model to weights.best.gray_multi.hdf5\n",
      "\n",
      "Epoch 00099: val_loss did not improve\n",
      "\n",
      "Epoch 00100: val_loss did not improve\n"
     ]
    }
   ],
   "source": [
    "hide_code\n",
    "# Train the model\n",
    "gray_multi_checkpointer = ModelCheckpoint(filepath='weights.best.gray_multi.hdf5', \n",
    "                                          verbose=2, save_best_only=True)\n",
    "gray_multi_history = gray_multi_model.fit(x_train4, y_train4_list, \n",
    "                                          validation_data=(x_test4, y_test4_list), \n",
    "                                          epochs=100, batch_size=128, verbose=0, \n",
    "                                          callbacks=[gray_multi_checkpointer])"
   ]
  },
  {
   "cell_type": "markdown",
   "metadata": {},
   "source": [
    "We should have an accuracy greater than 3% for the first target (letter) and greater than 50% for the second target (background)."
   ]
  },
  {
   "cell_type": "code",
   "execution_count": 78,
   "metadata": {},
   "outputs": [
    {
     "name": "stdout",
     "output_type": "stream",
     "text": [
      "Scores: \n",
      " [0.44682457501238043, 0.4157445699375561, 0.031080002318923324, 0.87315010591826869, 0.99295278365045803]\n",
      "First label. Accuracy: 87.32%\n",
      "Second label. Accuracy: 99.30%\n"
     ]
    }
   ],
   "source": [
    "hide_code\n",
    "# Load the model with the best validation accuracy\n",
    "gray_multi_model.load_weights('weights.best.gray_multi.hdf5')\n",
    "# Calculate classification accuracy on the testing set\n",
    "gray_multi_scores = gray_multi_model.evaluate(x_test4, y_test4_list, verbose=0)\n",
    "\n",
    "print(\"Scores: \\n\" , (gray_multi_scores))\n",
    "print(\"First label. Accuracy: %.2f%%\" % (gray_multi_scores[3]*100))\n",
    "print(\"Second label. Accuracy: %.2f%%\" % (gray_multi_scores[4]*100))"
   ]
  },
  {
   "cell_type": "markdown",
   "metadata": {},
   "source": [
    "## Step 6. Keras Applications\n",
    "Choose one of the keras applications and try to reach an accuracy greater than 30%\n",
    "### Color Images"
   ]
  },
  {
   "cell_type": "code",
   "execution_count": null,
   "metadata": {
    "collapsed": true
   },
   "outputs": [],
   "source": [
    "# Create bottleneck features\n",
    "resize_x_train = np.array([scipy.misc.imresize(x_train[i], (139, 139, 3)) \n",
    "                           for i in range(0, len(x_train))]).astype('float32')\n",
    "resize_x_test = np.array([scipy.misc.imresize(x_test[i], (139, 139, 3)) \n",
    "                          for i in range(0, len(x_test))]).astype('float32')\n",
    "resize_x_valid = np.array([scipy.misc.imresize(x_valid[i], (139, 139, 3)) \n",
    "                          for i in range(0, len(x_valid))]).astype('float32')\n",
    "\n",
    "iv3_x_train = preprocess_input(resize_x_train)\n",
    "iv3_x_test = preprocess_input(resize_x_test)\n",
    "iv3_x_valid = preprocess_input(resize_x_valid)\n",
    "\n",
    "iv3_base_model = InceptionV3(weights='imagenet', include_top=False)\n",
    "x_train_bn = iv3_base_model.predict(iv3_x_train)\n",
    "x_test_bn = iv3_base_model.predict(iv3_x_test)\n",
    "x_valid_bn = iv3_base_model.predict(iv3_x_valid)"
   ]
  },
  {
   "cell_type": "code",
   "execution_count": null,
   "metadata": {
    "collapsed": true
   },
   "outputs": [],
   "source": [
    "# Save bottleneck features\n",
    "x_train_bn = np.squeeze(x_train_bn)\n",
    "x_test_bn = np.squeeze(x_test_bn)\n",
    "x_valid_bn = np.squeeze(x_valid_bn)\n",
    "\n",
    "np.save('x_train_bn.npy', x_train_bn)\n",
    "np.save('x_test_bn.npy', x_test_bn)\n",
    "np.save('x_valid_bn.npy', x_valid_bn)"
   ]
  },
  {
   "cell_type": "code",
   "execution_count": null,
   "metadata": {
    "collapsed": true
   },
   "outputs": [],
   "source": [
    "# Load bottleneck features\n",
    "x_train_bn = np.load('x_train_bn.npy')\n",
    "x_test_bn = np.load('x_test_bn.npy')\n",
    "x_valid_bn = np.load('x_valid_bn.npy')"
   ]
  },
  {
   "cell_type": "code",
   "execution_count": null,
   "metadata": {
    "collapsed": true
   },
   "outputs": [],
   "source": [
    "hide_code\n",
    "def iv3_model():\n",
    "    model = Sequential()\n",
    "    # TODO: Define a model architecture\n",
    "    model.add(Conv2D(filters=32, kernel_size=2, input_shape=x_train_bn.shape[1:]))\n",
    "    model.add(MaxPooling2D(pool_size=(2, 2)))\n",
    "    model.add(Dropout(0.25))\n",
    "    \n",
    "    model.add(GlobalAveragePooling2D())\n",
    "    model.add(Dropout(0.25))\n",
    "    \n",
    "    model.add(Dense(2048, activation='relu'))\n",
    "    model.add(Dropout(0.25))\n",
    "        \n",
    "    model.add(Dense(512, activation='relu'))\n",
    "    model.add(Dropout(0.25))\n",
    "    \n",
    "    model.add(Dense(33, activation='softmax'))\n",
    "    \n",
    "    # TODO: Compile the model \n",
    "    model.compile(loss='categorical_crossentropy', optimizer='rmsprop', metrics=['accuracy'])    \n",
    "\n",
    "    return model\n",
    "\n",
    "iv3_model = iv3_model()"
   ]
  },
  {
   "cell_type": "code",
   "execution_count": null,
   "metadata": {
    "collapsed": true
   },
   "outputs": [],
   "source": [
    "hide_code\n",
    "# Fit the model \n",
    "iv3_checkpointer = ModelCheckpoint(filepath='weights.best.iv3.hdf5', \n",
    "                                     verbose=2, save_best_only=True)\n",
    "iv3_history = iv3_model.fit(x_train_bn, y_train, \n",
    "                            validation_data=(x_valid_bn, y_valid),\n",
    "                            epochs=50, batch_size=64, \n",
    "                            callbacks=[iv3_checkpointer], verbose=0);"
   ]
  },
  {
   "cell_type": "code",
   "execution_count": null,
   "metadata": {
    "collapsed": true
   },
   "outputs": [],
   "source": [
    "hide_code\n",
    "# Plot the training history\n",
    "history_plot(iv3_history, 0)"
   ]
  },
  {
   "cell_type": "code",
   "execution_count": null,
   "metadata": {
    "collapsed": true
   },
   "outputs": [],
   "source": [
    "hide_code\n",
    "# Load the model with the best validation accuracy\n",
    "iv3_model.load_weights('weights.best.iv3.hdf5')\n",
    "# Calculate classification accuracy on the testing set\n",
    "iv3_scores = iv3_model.evaluate(x_test_bn, y_test)\n",
    "print(\"Accuracy: %.2f%%\" % (iv3_scores[1]*100))\n",
    "iv3_scores"
   ]
  },
  {
   "cell_type": "markdown",
   "metadata": {},
   "source": [
    "### Grayscaled Images"
   ]
  },
  {
   "cell_type": "code",
   "execution_count": null,
   "metadata": {
    "collapsed": true
   },
   "outputs": [],
   "source": [
    "# Create bottleneck features\n",
    "resize_x_train2 = np.array([scipy.misc.imresize(x_train2_color[i], (139, 139, 3)) \n",
    "                            for i in range(0, len(x_train2_color))]).astype('float32')\n",
    "resize_x_test2 = np.array([scipy.misc.imresize(x_test2_color[i], (139, 139, 3)) \n",
    "                           for i in range(0, len(x_test2_color))]).astype('float32')\n",
    "resize_x_valid2 = np.array([scipy.misc.imresize(x_valid2_color[i], (139, 139, 3)) \n",
    "                           for i in range(0, len(x_valid2_color))]).astype('float32')\n",
    "\n",
    "iv3_x_train2 = preprocess_input(resize_x_train2)\n",
    "iv3_x_test2 = preprocess_input(resize_x_test2)\n",
    "iv3_x_valid2 = preprocess_input(resize_x_valid2)\n",
    "\n",
    "iv3_base_model2 = InceptionV3(weights='imagenet', include_top=False)\n",
    "x_train_bn2 = iv3_base_model2.predict(iv3_x_train2)\n",
    "x_test_bn2 = iv3_base_model2.predict(iv3_x_test2)\n",
    "x_valid_bn2 = iv3_base_model2.predict(iv3_x_valid2)"
   ]
  },
  {
   "cell_type": "code",
   "execution_count": null,
   "metadata": {
    "collapsed": true
   },
   "outputs": [],
   "source": [
    "# Save bottleneck features\n",
    "x_train_bn2 = np.squeeze(x_train_bn2)\n",
    "x_test_bn2 = np.squeeze(x_test_bn2)\n",
    "x_valid_bn2 = np.squeeze(x_valid_bn2)\n",
    "\n",
    "np.save('x_train_bn2.npy', x_train_bn2)\n",
    "np.save('x_test_bn2.npy', x_test_bn2)\n",
    "np.save('x_valid_bn2.npy', x_valid_bn2)"
   ]
  },
  {
   "cell_type": "code",
   "execution_count": null,
   "metadata": {
    "collapsed": true
   },
   "outputs": [],
   "source": [
    "# Load bottleneck features\n",
    "x_train_bn2 = np.load('x_train_bn2.npy')\n",
    "x_test_bn2 = np.load('x_test_bn2.npy')\n",
    "x_valid_bn2 = np.load('x_valid_bn2.npy')"
   ]
  },
  {
   "cell_type": "code",
   "execution_count": null,
   "metadata": {
    "collapsed": true
   },
   "outputs": [],
   "source": [
    "hide_code\n",
    "def iv3_gray_model():\n",
    "    model = Sequential()\n",
    "    # TODO: Define a model architecture\n",
    "    model.add(Conv2D(filters=32, kernel_size=2, input_shape=x_train_bn2.shape[1:]))\n",
    "    model.add(MaxPooling2D(pool_size=(2, 2)))\n",
    "    model.add(Dropout(0.25))\n",
    "    \n",
    "    model.add(GlobalAveragePooling2D())\n",
    "    model.add(Dropout(0.25))\n",
    "    \n",
    "    model.add(Dense(1024, activation='relu'))\n",
    "    model.add(Dropout(0.25))\n",
    "        \n",
    "    model.add(Dense(256, activation='relu'))\n",
    "    model.add(Dropout(0.25))\n",
    "    \n",
    "    model.add(Dense(33, activation='softmax'))\n",
    "    # TODO: Compile the model     \n",
    "    model.compile(loss='categorical_crossentropy', optimizer='rmsprop', metrics=['accuracy'])\n",
    "    return model\n",
    "\n",
    "iv3_gray_model = iv3_gray_model()"
   ]
  },
  {
   "cell_type": "code",
   "execution_count": null,
   "metadata": {
    "collapsed": true
   },
   "outputs": [],
   "source": [
    "hide_code\n",
    "# Fit the model \n",
    "iv3_gray_checkpointer = ModelCheckpoint(filepath='weights.best.iv3_gray.hdf5', \n",
    "                                        verbose=2, save_best_only=True)\n",
    "iv3_gray_history = iv3_gray_model.fit(x_train_bn2, y_train2, \n",
    "                                      validation_data=(x_valid_bn2, y_valid2),\n",
    "                                      epochs=50, batch_size=64, \n",
    "                                      callbacks=[iv3_gray_checkpointer], verbose=0);"
   ]
  },
  {
   "cell_type": "code",
   "execution_count": null,
   "metadata": {
    "collapsed": true
   },
   "outputs": [],
   "source": [
    "hide_code\n",
    "# Plot the training history\n",
    "history_plot(iv3_gray_history, 0)"
   ]
  },
  {
   "cell_type": "code",
   "execution_count": null,
   "metadata": {
    "collapsed": true
   },
   "outputs": [],
   "source": [
    "hide_code\n",
    "# Load the model with the best validation accuracy\n",
    "iv3_gray_model.load_weights('weights.best.iv3_gray.hdf5')\n",
    "# Calculate classification accuracy on the testing set\n",
    "iv3_gray_scores = iv3_gray_model.evaluate(x_test_bn2, y_test2)\n",
    "print(\"Accuracy: %.2f%%\" % (iv3_gray_scores[1]*100))\n",
    "iv3_gray_scores"
   ]
  },
  {
   "cell_type": "markdown",
   "metadata": {},
   "source": [
    "## Step 7. Predictions\n",
    "Display predictions for the models with the best accuracy.\n",
    "### Color Images"
   ]
  },
  {
   "cell_type": "code",
   "execution_count": 81,
   "metadata": {
    "collapsed": true
   },
   "outputs": [],
   "source": [
    "hide_code\n",
    "# Create a list of symbols\n",
    "symbols = ['а','б','в','г','д','е','ё','ж','з','и','й',\n",
    "           'к','л','м','н','о','п','р','с','т','у','ф',\n",
    "           'х','ц','ч','ш','щ','ъ','ы','ь','э','ю','я']"
   ]
  },
  {
   "cell_type": "code",
   "execution_count": null,
   "metadata": {
    "collapsed": true
   },
   "outputs": [],
   "source": [
    "hide_code\n",
    "# Model predictions for the testing dataset\n",
    "y_test_predict = iv3_model.predict_classes(x_test_bn)"
   ]
  },
  {
   "cell_type": "code",
   "execution_count": null,
   "metadata": {
    "collapsed": true
   },
   "outputs": [],
   "source": [
    "hide_code\n",
    "# Display true labels and predictions\n",
    "fig = plt.figure(figsize=(18, 18))\n",
    "for i, idx in enumerate(np.random.choice(x_test.shape[0], size=16, replace=False)):\n",
    "    ax = fig.add_subplot(4, 4, i + 1, xticks=[], yticks=[])\n",
    "    ax.imshow(np.squeeze(x_test[idx]))\n",
    "    pred_idx = y_test_predict[idx]\n",
    "    true_idx = np.argmax(y_test[idx])\n",
    "    ax.set_title(\"{} ({})\".format(symbols[pred_idx], symbols[true_idx]),\n",
    "                 color=(\"#4876ff\" if pred_idx == true_idx else \"darkred\"))"
   ]
  },
  {
   "cell_type": "markdown",
   "metadata": {},
   "source": [
    "### Grayscaled Images"
   ]
  },
  {
   "cell_type": "code",
   "execution_count": 79,
   "metadata": {
    "collapsed": true
   },
   "outputs": [],
   "source": [
    "hide_code\n",
    "# Model predictions for the testing dataset\n",
    "y_test2_predict = gray_model.predict_classes(x_test2)"
   ]
  },
  {
   "cell_type": "code",
   "execution_count": 82,
   "metadata": {},
   "outputs": [
    {
     "data": {
      "image/png": "[encoded data removed]",
      "text/plain": [
       "<matplotlib.figure.Figure at 0x172f90fd0>"
      ]
     },
     "metadata": {},
     "output_type": "display_data"
    }
   ],
   "source": [
    "hide_code\n",
    "# Display true labels and predictions\n",
    "fig = plt.figure(figsize=(18, 18))\n",
    "for i, idx in enumerate(np.random.choice(x_test2.shape[0], size=16, replace=False)):\n",
    "    ax = fig.add_subplot(4, 4, i + 1, xticks=[], yticks=[])\n",
    "    ax.imshow(np.squeeze(x_test2[idx]), cmap=cm.bone)\n",
    "    pred_idx = y_test2_predict[idx]\n",
    "    true_idx = np.argmax(y_test2[idx])\n",
    "    ax.set_title(\"{} ({})\".format(symbols[pred_idx], symbols[true_idx]),\n",
    "                 color=(\"#4876ff\" if pred_idx == true_idx else \"darkred\"))"
   ]
  }
 ],
 "metadata": {
  "kernelspec": {
   "display_name": "Python 3",
   "language": "python",
   "name": "python3"
  },
  "language_info": {
   "codemirror_mode": {
    "name": "ipython",
    "version": 3
   },
   "file_extension": ".py",
   "mimetype": "text/x-python",
   "name": "python",
   "nbconvert_exporter": "python",
   "pygments_lexer": "ipython3",
   "version": "3.6.4"
  }
 },
 "nbformat": 4,
 "nbformat_minor": 2
}
