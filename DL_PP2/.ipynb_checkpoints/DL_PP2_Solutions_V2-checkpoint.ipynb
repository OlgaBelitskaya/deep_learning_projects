{
 "cells": [
  {
   "cell_type": "markdown",
   "metadata": {},
   "source": [
    "# Deep Learning\n",
    "## Practice Projects\n",
    "# P2: Multi-Label Classification\n",
    "\n",
    "## Step 0. Style and Libraries\n",
    "Let's choose a style of the Jupyter notebook and import the software libraries. The command hide_code will hide the code cells."
   ]
  },
  {
   "cell_type": "code",
   "execution_count": 1,
   "metadata": {},
   "outputs": [
    {
     "data": {
      "text/html": [
       "<style>\n",
       "@import url('https://fonts.googleapis.com/css?family=Orbitron|Roboto');\n",
       "body {background-color: aliceblue;} \n",
       "a {color: #4876ff; font-family: 'Roboto';} \n",
       "h1 {color: #348ABD; font-family: 'Orbitron'; text-shadow: 4px 4px 4px #ccc;} \n",
       "h2, h3 {color: slategray; font-family: 'Roboto'; text-shadow: 4px 4px 4px #ccc;}\n",
       "h4 {color: #348ABD; font-family: 'Orbitron';}\n",
       "span {text-shadow: 4px 4px 4px #ccc;}\n",
       "div.output_prompt, div.output_area pre {color: slategray;}\n",
       "div.input_prompt, div.output_subarea {color: #4876ff;}      \n",
       "div.output_stderr pre {background-color: aliceblue;}  \n",
       "div.output_stderr {background-color: slategrey;}                        \n",
       "</style>\n",
       "<script>\n",
       "code_show = true; \n",
       "function code_display() {\n",
       "    if (code_show) {\n",
       "        $('div.input').each(function(id) {\n",
       "            if (id == 0 || $(this).html().indexOf('hide_code') > -1) {$(this).hide();}\n",
       "        });\n",
       "        $('div.output_prompt').css('opacity', 0);\n",
       "    } else {\n",
       "        $('div.input').each(function(id) {$(this).show();});\n",
       "        $('div.output_prompt').css('opacity', 1);\n",
       "    };\n",
       "    code_show = !code_show;\n",
       "} \n",
       "$(document).ready(code_display);\n",
       "</script>\n",
       "<form action=\"javascript: code_display()\">\n",
       "<input style=\"color: #348ABD; background: aliceblue; opacity: 0.8;\" \\ \n",
       "type=\"submit\" value=\"Click to display or hide code cells\">\n",
       "</form>                  "
      ],
      "text/plain": [
       "<IPython.core.display.HTML object>"
      ]
     },
     "metadata": {},
     "output_type": "display_data"
    }
   ],
   "source": [
    "%%html\n",
    "<style>\n",
    "@import url('https://fonts.googleapis.com/css?family=Orbitron|Roboto');\n",
    "body {background-color: aliceblue;} \n",
    "a {color: #4876ff; font-family: 'Roboto';} \n",
    "h1 {color: #348ABD; font-family: 'Orbitron'; text-shadow: 4px 4px 4px #ccc;} \n",
    "h2, h3 {color: slategray; font-family: 'Roboto'; text-shadow: 4px 4px 4px #ccc;}\n",
    "h4 {color: #348ABD; font-family: 'Orbitron';}\n",
    "span {text-shadow: 4px 4px 4px #ccc;}\n",
    "div.output_prompt, div.output_area pre {color: slategray;}\n",
    "div.input_prompt, div.output_subarea {color: #4876ff;}      \n",
    "div.output_stderr pre {background-color: aliceblue;}  \n",
    "div.output_stderr {background-color: slategrey;}                        \n",
    "</style>\n",
    "<script>\n",
    "code_show = true; \n",
    "function code_display() {\n",
    "    if (code_show) {\n",
    "        $('div.input').each(function(id) {\n",
    "            if (id == 0 || $(this).html().indexOf('hide_code') > -1) {$(this).hide();}\n",
    "        });\n",
    "        $('div.output_prompt').css('opacity', 0);\n",
    "    } else {\n",
    "        $('div.input').each(function(id) {$(this).show();});\n",
    "        $('div.output_prompt').css('opacity', 1);\n",
    "    };\n",
    "    code_show = !code_show;\n",
    "} \n",
    "$(document).ready(code_display);\n",
    "</script>\n",
    "<form action=\"javascript: code_display()\">\n",
    "<input style=\"color: #348ABD; background: aliceblue; opacity: 0.8;\" \\ \n",
    "type=\"submit\" value=\"Click to display or hide code cells\">\n",
    "</form>                  "
   ]
  },
  {
   "cell_type": "code",
   "execution_count": 2,
   "metadata": {},
   "outputs": [
    {
     "name": "stderr",
     "output_type": "stream",
     "text": [
      "Using TensorFlow backend.\n"
     ]
    }
   ],
   "source": [
    "hide_code = ''\n",
    "import numpy as np \n",
    "import pandas as pd\n",
    "import tensorflow as tf\n",
    "\n",
    "from PIL import ImageFile\n",
    "from tqdm import tqdm\n",
    "import h5py\n",
    "import cv2\n",
    "\n",
    "import matplotlib.pylab as plt\n",
    "from matplotlib import cm\n",
    "%matplotlib inline\n",
    "\n",
    "from sklearn.model_selection import train_test_split\n",
    "from sklearn.ensemble import GradientBoostingClassifier, RandomForestClassifier\n",
    "\n",
    "from keras.utils import to_categorical\n",
    "from keras.preprocessing import image as keras_image\n",
    "from keras.callbacks import ModelCheckpoint\n",
    "from keras.preprocessing.image import ImageDataGenerator\n",
    "\n",
    "from keras.models import Sequential, load_model, Model\n",
    "from keras.layers import Input, BatchNormalization\n",
    "from keras.layers import Dense, LSTM, GlobalAveragePooling1D, GlobalAveragePooling2D\n",
    "from keras.layers import Activation, Flatten, Dropout, BatchNormalization\n",
    "from keras.layers import Conv2D, MaxPooling2D, GlobalMaxPooling2D\n",
    "\n",
    "from keras.applications.inception_v3 import InceptionV3, preprocess_input\n",
    "import scipy\n",
    "from scipy import misc"
   ]
  },
  {
   "cell_type": "code",
   "execution_count": 3,
   "metadata": {
    "collapsed": true
   },
   "outputs": [],
   "source": [
    "hide_code\n",
    "# Plot the neural network fitting history\n",
    "def history_plot(fit_history, n):\n",
    "    plt.figure(figsize=(18, 12))\n",
    "    \n",
    "    plt.subplot(211)\n",
    "    plt.plot(fit_history.history['loss'][n:], color='slategray', label = 'train')\n",
    "    plt.plot(fit_history.history['val_loss'][n:], color='#4876ff', label = 'valid')\n",
    "    plt.xlabel(\"Epochs\")\n",
    "    plt.ylabel(\"Loss\")\n",
    "    plt.legend()\n",
    "    plt.title('Loss Function');  \n",
    "    \n",
    "    plt.subplot(212)\n",
    "    plt.plot(fit_history.history['acc'][n:], color='slategray', label = 'train')\n",
    "    plt.plot(fit_history.history['val_acc'][n:], color='#4876ff', label = 'valid')\n",
    "    plt.xlabel(\"Epochs\")\n",
    "    plt.ylabel(\"Accuracy\")    \n",
    "    plt.legend()\n",
    "    plt.title('Accuracy');"
   ]
  },
  {
   "cell_type": "markdown",
   "metadata": {},
   "source": [
    "## Step 1. Load and Explore the Data\n",
    "For this project, I have created two datasets of color images (32x32x3) with 33 handwritten letters.\n",
    "Run the following cell to download the data."
   ]
  },
  {
   "cell_type": "code",
   "execution_count": 4,
   "metadata": {
    "collapsed": true
   },
   "outputs": [],
   "source": [
    "hide_code\n",
    "# Function for processing an image\n",
    "def image_to_tensor(img_path, folder_path):\n",
    "    img = keras_image.load_img(folder_path + img_path, target_size=(32, 32))\n",
    "    x = keras_image.img_to_array(img)\n",
    "    return np.expand_dims(x, axis=0)\n",
    "# Function for creating the data tensor\n",
    "def data_to_tensor(img_paths, folder_path):\n",
    "    list_of_tensors = [image_to_tensor(img_path, folder_path) for img_path in tqdm(img_paths)]\n",
    "    return np.vstack(list_of_tensors)\n",
    "ImageFile.LOAD_TRUNCATED_IMAGES = True "
   ]
  },
  {
   "cell_type": "code",
   "execution_count": 5,
   "metadata": {},
   "outputs": [
    {
     "name": "stderr",
     "output_type": "stream",
     "text": [
      "100%|██████████| 5940/5940 [04:35<00:00, 21.59it/s]\n"
     ]
    }
   ],
   "source": [
    "hide_code\n",
    "# Load the dataset #2\n",
    "data2 = pd.read_csv(\"data2/letters2.csv\")\n",
    "files2 = data2['file']\n",
    "letters2 = data2['letter']\n",
    "backgrounds2 = data2['background'].as_matrix()\n",
    "targets2 = data2['label'].as_matrix()\n",
    "tensors2 = data_to_tensor(files2, \"data2/\");"
   ]
  },
  {
   "cell_type": "code",
   "execution_count": 6,
   "metadata": {},
   "outputs": [
    {
     "name": "stderr",
     "output_type": "stream",
     "text": [
      "100%|██████████| 6600/6600 [03:17<00:00, 33.38it/s]\n"
     ]
    }
   ],
   "source": [
    "hide_code\n",
    "# Load the dataset #2\n",
    "data3 = pd.read_csv(\"data3/letters3.csv\")\n",
    "files3 = data3['file']\n",
    "letters3 = data3['letter']\n",
    "backgrounds3 = data3['background'].as_matrix()\n",
    "targets3 = data3['label'].as_matrix()\n",
    "tensors3 = data_to_tensor(files3, \"data3/\");"
   ]
  },
  {
   "cell_type": "code",
   "execution_count": 7,
   "metadata": {},
   "outputs": [
    {
     "name": "stdout",
     "output_type": "stream",
     "text": [
      "Tensor #2 shape: (5940, 32, 32, 3)\n",
      "Target #2 shape (5940,)\n",
      "Tensor #3 shape: (6600, 32, 32, 3)\n",
      "Target #3 shape (6600,)\n"
     ]
    }
   ],
   "source": [
    "hide_code\n",
    "# Print the shape \n",
    "print ('Tensor #2 shape:', tensors2.shape)\n",
    "print ('Target #2 shape', targets2.shape)\n",
    "print ('Tensor #3 shape:', tensors3.shape)\n",
    "print ('Target #3 shape', targets3.shape)"
   ]
  },
  {
   "cell_type": "code",
   "execution_count": 8,
   "metadata": {},
   "outputs": [
    {
     "name": "stdout",
     "output_type": "stream",
     "text": [
      "Tensor shape: (12540, 32, 32, 3)\n",
      "Target shape (12540,)\n",
      "Background shape: (12540,)\n"
     ]
    }
   ],
   "source": [
    "hide_code\n",
    "# Concatenate arrays\n",
    "tensors = np.concatenate((tensors2, tensors3), axis=0)\n",
    "targets = np.concatenate((targets2, targets3), axis=0)\n",
    "backgrounds = np.concatenate((backgrounds2, backgrounds3), axis=0)\n",
    "print ('Tensor shape:', tensors.shape)\n",
    "print ('Target shape', targets.shape)\n",
    "print ('Background shape:', backgrounds.shape)"
   ]
  },
  {
   "cell_type": "code",
   "execution_count": 9,
   "metadata": {},
   "outputs": [
    {
     "data": {
      "text/plain": [
       "12540"
      ]
     },
     "execution_count": 9,
     "metadata": {},
     "output_type": "execute_result"
    }
   ],
   "source": [
    "hide_code\n",
    "# Concatenate series\n",
    "letters = pd.concat((letters2, letters3), axis=0, ignore_index=True)\n",
    "len(letters)"
   ]
  },
  {
   "cell_type": "code",
   "execution_count": 10,
   "metadata": {},
   "outputs": [
    {
     "data": {
      "image/png": "[encoded data removed]",
      "text/plain": [
       "<matplotlib.figure.Figure at 0x1190676d8>"
      ]
     },
     "metadata": {},
     "output_type": "display_data"
    }
   ],
   "source": [
    "hide_code\n",
    "# Read from files and display images using OpenCV\n",
    "def display_images(img_path, ax):\n",
    "    img = cv2.imread(\"data2/\" + img_path)\n",
    "    ax.imshow(cv2.cvtColor(img, cv2.COLOR_BGR2RGB))\n",
    "    \n",
    "fig = plt.figure(figsize=(18, 6))\n",
    "for i in range(12):\n",
    "    ax = fig.add_subplot(2, 6, i + 1, xticks=[], yticks=[], title=letters2[i*180])\n",
    "    display_images(files2[i*180], ax)"
   ]
  },
  {
   "cell_type": "code",
   "execution_count": 11,
   "metadata": {},
   "outputs": [
    {
     "data": {
      "image/png": "[encoded data removed]",
      "text/plain": [
       "<matplotlib.figure.Figure at 0x131952c18>"
      ]
     },
     "metadata": {},
     "output_type": "display_data"
    }
   ],
   "source": [
    "hide_code\n",
    "# Read from files and display images using OpenCV\n",
    "def display_images(img_path, ax):\n",
    "    img = cv2.imread(\"data3/\" + img_path)\n",
    "    ax.imshow(cv2.cvtColor(img, cv2.COLOR_BGR2RGB))\n",
    "    \n",
    "fig = plt.figure(figsize=(18, 6))\n",
    "for i in range(12):\n",
    "    ax = fig.add_subplot(2, 6, i + 1, xticks=[], yticks=[], title=letters3[i*200])\n",
    "    display_images(files3[i*200], ax)"
   ]
  },
  {
   "cell_type": "markdown",
   "metadata": {},
   "source": [
    "## Step 2. Save and Load the Data\n",
    "The data tensors can be saved in the appropriate format of files .h5."
   ]
  },
  {
   "cell_type": "code",
   "execution_count": 59,
   "metadata": {
    "collapsed": true
   },
   "outputs": [],
   "source": [
    "hide_code\n",
    "# Create the tensor file\n",
    "with h5py.File('LetterColorImages3.h5', 'w') as f:\n",
    "    f.create_dataset('images', data = tensors3)\n",
    "    f.create_dataset('labels', data = targets3)\n",
    "    f.create_dataset('backgrounds', data = backgrounds3)\n",
    "    f.close()"
   ]
  },
  {
   "cell_type": "code",
   "execution_count": 60,
   "metadata": {
    "collapsed": true
   },
   "outputs": [],
   "source": [
    "hide_code\n",
    "# Create the tensor file\n",
    "with h5py.File('LetterColorImages_23.h5', 'w') as f:\n",
    "    f.create_dataset('images', data = tensors)\n",
    "    f.create_dataset('labels', data = targets)\n",
    "    f.create_dataset('backgrounds', data = backgrounds)\n",
    "    f.close()"
   ]
  },
  {
   "cell_type": "code",
   "execution_count": 61,
   "metadata": {},
   "outputs": [
    {
     "data": {
      "text/plain": [
       "['backgrounds', 'images', 'labels']"
      ]
     },
     "execution_count": 61,
     "metadata": {},
     "output_type": "execute_result"
    }
   ],
   "source": [
    "hide_code\n",
    "# Read the h5 file\n",
    "f = h5py.File('LetterColorImages_23.h5', 'r')\n",
    "\n",
    "# List all groups\n",
    "keys = list(f.keys())\n",
    "keys"
   ]
  },
  {
   "cell_type": "code",
   "execution_count": 62,
   "metadata": {},
   "outputs": [
    {
     "name": "stdout",
     "output_type": "stream",
     "text": [
      "Tensor shape: (12540, 32, 32, 3)\n",
      "Target shape (12540,)\n",
      "Background shape: (12540,)\n"
     ]
    }
   ],
   "source": [
    "hide_code\n",
    "# Create tensors and targets\n",
    "backgrounds = np.array(f[keys[0]])\n",
    "tensors = np.array(f[keys[1]])\n",
    "targets = np.array(f[keys[2]])\n",
    "print ('Tensor shape:', tensors.shape)\n",
    "print ('Target shape', targets.shape)\n",
    "print ('Background shape:', backgrounds.shape)"
   ]
  },
  {
   "cell_type": "markdown",
   "metadata": {},
   "source": [
    "## Step 3. Implement Preprocess Functions\n",
    "### Normalize and Gray Scale\n",
    "In the cell below, normalize the image tensors, and return them as a normalized Numpy array."
   ]
  },
  {
   "cell_type": "code",
   "execution_count": 10,
   "metadata": {
    "collapsed": true
   },
   "outputs": [],
   "source": [
    "hide_code\n",
    "# Normalize the tensors\n",
    "tensors = tensors.astype('float32')/255"
   ]
  },
  {
   "cell_type": "code",
   "execution_count": 11,
   "metadata": {},
   "outputs": [
    {
     "name": "stdout",
     "output_type": "stream",
     "text": [
      "Label:  ж\n"
     ]
    },
    {
     "data": {
      "image/png": "[encoded data removed]",
      "text/plain": [
       "<matplotlib.figure.Figure at 0x118fe7e80>"
      ]
     },
     "metadata": {},
     "output_type": "display_data"
    }
   ],
   "source": [
    "hide_code\n",
    "# Read and display a tensor using Matplotlib\n",
    "print('Label: ', letters[7500])\n",
    "plt.figure(figsize=(3,3))\n",
    "plt.imshow(tensors[7500]);"
   ]
  },
  {
   "cell_type": "markdown",
   "metadata": {},
   "source": [
    "Create tensors of grayscaled images and display their shape."
   ]
  },
  {
   "cell_type": "code",
   "execution_count": 12,
   "metadata": {},
   "outputs": [
    {
     "name": "stdout",
     "output_type": "stream",
     "text": [
      "Grayscaled Tensor shape: (12540, 32, 32)\n"
     ]
    }
   ],
   "source": [
    "hide_code\n",
    "# Grayscaled tensors\n",
    "gray_tensors = np.dot(tensors[...,:3], [0.299, 0.587, 0.114])\n",
    "print ('Grayscaled Tensor shape:', gray_tensors.shape)"
   ]
  },
  {
   "cell_type": "code",
   "execution_count": 13,
   "metadata": {},
   "outputs": [
    {
     "name": "stdout",
     "output_type": "stream",
     "text": [
      "Label:  ж\n"
     ]
    },
    {
     "data": {
      "image/png": "[encoded data removed]",
      "text/plain": [
       "<matplotlib.figure.Figure at 0x118f46278>"
      ]
     },
     "metadata": {},
     "output_type": "display_data"
    }
   ],
   "source": [
    "hide_code\n",
    "# Read and display a grayscaled tensor using Matplotlib\n",
    "print('Label: ', letters[7500])\n",
    "plt.figure(figsize=(3,3))\n",
    "plt.imshow(gray_tensors[7500], cmap=cm.bone);"
   ]
  },
  {
   "cell_type": "markdown",
   "metadata": {},
   "source": [
    "### One-hot encode\n",
    "Now we'll implement the one-hot encoding function to_categorical."
   ]
  },
  {
   "cell_type": "code",
   "execution_count": 14,
   "metadata": {},
   "outputs": [
    {
     "name": "stdout",
     "output_type": "stream",
     "text": [
      "{1, 2, 3, 4, 5, 6, 7, 8, 9, 10, 11, 12, 13, 14, 15, 16, 17, 18, 19, 20, 21, 22, 23, 24, 25, 26, 27, 28, 29, 30, 31, 32, 33}\n"
     ]
    }
   ],
   "source": [
    "hide_code\n",
    "# Print the target unique values\n",
    "print(set(targets))"
   ]
  },
  {
   "cell_type": "code",
   "execution_count": 15,
   "metadata": {},
   "outputs": [
    {
     "data": {
      "text/plain": [
       "(12540, 33)"
      ]
     },
     "execution_count": 15,
     "metadata": {},
     "output_type": "execute_result"
    }
   ],
   "source": [
    "hide_code\n",
    "# One-hot encode the targets, started from the zero label\n",
    "cat_targets = to_categorical(np.array(targets-1), 33)\n",
    "cat_targets.shape"
   ]
  },
  {
   "cell_type": "code",
   "execution_count": 16,
   "metadata": {},
   "outputs": [
    {
     "data": {
      "text/plain": [
       "(12540, 2)"
      ]
     },
     "execution_count": 16,
     "metadata": {},
     "output_type": "execute_result"
    }
   ],
   "source": [
    "hide_code\n",
    "# One-hot encode the background targets\n",
    "backgrounds = to_categorical(backgrounds-2,2)\n",
    "backgrounds.shape"
   ]
  },
  {
   "cell_type": "markdown",
   "metadata": {},
   "source": [
    "### Add background"
   ]
  },
  {
   "cell_type": "code",
   "execution_count": 17,
   "metadata": {},
   "outputs": [
    {
     "data": {
      "text/plain": [
       "(12540, 35)"
      ]
     },
     "execution_count": 17,
     "metadata": {},
     "output_type": "execute_result"
    }
   ],
   "source": [
    "hide_code\n",
    "# Create multi-label targets\n",
    "back_targets = np.concatenate((cat_targets, backgrounds), axis=1)\n",
    "back_targets.shape"
   ]
  },
  {
   "cell_type": "markdown",
   "metadata": {},
   "source": [
    "### Split\n",
    "#### Color Images\n",
    "Apply the function train_test_split and split the data into training and testing sets. Set up the size of the testing set - 20%."
   ]
  },
  {
   "cell_type": "code",
   "execution_count": 18,
   "metadata": {
    "collapsed": true
   },
   "outputs": [],
   "source": [
    "hide_code\n",
    "# Split the data\n",
    "x_train, x_test, y_train, y_test = train_test_split(tensors, cat_targets, \n",
    "                                                    test_size = 0.2, \n",
    "                                                    random_state = 1)\n",
    "n = int(len(x_test)/2)\n",
    "x_valid, y_valid = x_test[:n], y_test[:n]\n",
    "x_test, y_test = x_test[n:], y_test[n:]"
   ]
  },
  {
   "cell_type": "code",
   "execution_count": 19,
   "metadata": {},
   "outputs": [
    {
     "name": "stdout",
     "output_type": "stream",
     "text": [
      "Training tensor's shape: (10032, 32, 32, 3)\n",
      "Training target's shape (10032, 33)\n",
      "Validating tensor's shape: (1254, 32, 32, 3)\n",
      "Validating target's shape (1254, 33)\n",
      "Testing tensor's shape: (1254, 32, 32, 3)\n",
      "Testing target's shape (1254, 33)\n"
     ]
    }
   ],
   "source": [
    "hide_code\n",
    "# Print the shape\n",
    "print (\"Training tensor's shape:\", x_train.shape)\n",
    "print (\"Training target's shape\", y_train.shape)\n",
    "print (\"Validating tensor's shape:\", x_valid.shape)\n",
    "print (\"Validating target's shape\", y_valid.shape)\n",
    "print (\"Testing tensor's shape:\", x_test.shape)\n",
    "print (\"Testing target's shape\", y_test.shape)"
   ]
  },
  {
   "cell_type": "markdown",
   "metadata": {},
   "source": [
    "#### Grayscaled Images"
   ]
  },
  {
   "cell_type": "code",
   "execution_count": 20,
   "metadata": {
    "collapsed": true
   },
   "outputs": [],
   "source": [
    "hide_code\n",
    "# Split the grayscaled data\n",
    "x_train2, x_test2, y_train2, y_test2 = train_test_split(gray_tensors, cat_targets, \n",
    "                                                        test_size = 0.2, \n",
    "                                                        random_state = 1)\n",
    "x_valid2, y_valid2 = x_test2[:n], y_test2[:n]\n",
    "x_test2, y_test2 = x_test2[n:], y_test2[n:]"
   ]
  },
  {
   "cell_type": "code",
   "execution_count": 21,
   "metadata": {
    "collapsed": true
   },
   "outputs": [],
   "source": [
    "hide_code\n",
    "# Reshape the grayscaled data\n",
    "x_train2, x_test2, x_valid2 = \\\n",
    "x_train2.reshape(-1, 32, 32, 1), x_test2.reshape(-1, 32, 32, 1), x_valid2.reshape(-1, 32, 32, 1)"
   ]
  },
  {
   "cell_type": "code",
   "execution_count": 22,
   "metadata": {},
   "outputs": [
    {
     "name": "stdout",
     "output_type": "stream",
     "text": [
      "Training grayscaled tensor's shape: (10032, 32, 32, 1)\n",
      "Training grayscaled target's shape (10032, 33)\n",
      "Validating grayscaled tensor's shape: (1254, 32, 32, 1)\n",
      "Validating grayscaled target's shape (1254, 33)\n",
      "Testing grayscaled tensor's shape: (1254, 32, 32, 1)\n",
      "Testing grayscaled target's shape (1254, 33)\n"
     ]
    }
   ],
   "source": [
    "hide_code\n",
    "# Print the shape\n",
    "print (\"Training grayscaled tensor's shape:\", x_train2.shape)\n",
    "print (\"Training grayscaled target's shape\", y_train2.shape)\n",
    "print (\"Validating grayscaled tensor's shape:\", x_valid2.shape)\n",
    "print (\"Validating grayscaled target's shape\", y_valid2.shape)\n",
    "print (\"Testing grayscaled tensor's shape:\", x_test2.shape)\n",
    "print (\"Testing grayscaled target's shape\", y_test2.shape)"
   ]
  },
  {
   "cell_type": "code",
   "execution_count": 23,
   "metadata": {},
   "outputs": [
    {
     "data": {
      "text/plain": [
       "((10032, 32, 32, 3), (1254, 32, 32, 3), (1254, 32, 32, 3))"
      ]
     },
     "execution_count": 23,
     "metadata": {},
     "output_type": "execute_result"
    }
   ],
   "source": [
    "hide_code\n",
    "# Convert images from grayscaled to RGB\n",
    "x_train2_tensor = tf.image.grayscale_to_rgb(x_train2, name=None)\n",
    "x_test2_tensor = tf.image.grayscale_to_rgb(x_test2, name=None)\n",
    "x_valid2_tensor = tf.image.grayscale_to_rgb(x_valid2, name=None)\n",
    "# Run tensorflow session\n",
    "sess = tf.Session()\n",
    "with sess.as_default():\n",
    "    x_train2_color = x_train2_tensor.eval()\n",
    "    x_test2_color = x_test2_tensor.eval()\n",
    "    x_valid2_color = x_valid2_tensor.eval()\n",
    "# Check the shape    \n",
    "x_train2_color.shape, x_test2_color.shape, x_valid2_color.shape"
   ]
  },
  {
   "cell_type": "markdown",
   "metadata": {},
   "source": [
    "#### Multi-label targets, color images"
   ]
  },
  {
   "cell_type": "code",
   "execution_count": 24,
   "metadata": {
    "collapsed": true
   },
   "outputs": [],
   "source": [
    "hide_code\n",
    "# Split with multi-label targets\n",
    "x_train3, x_test3, y_train3, y_test3 = train_test_split(tensors, back_targets, \n",
    "                                                        test_size = 0.2, \n",
    "                                                        random_state = 1)\n",
    "x_valid3, y_valid3 = x_test3[:n], y_test3[:n]\n",
    "x_test3, y_test3 = x_test3[n:], y_test3[n:]"
   ]
  },
  {
   "cell_type": "code",
   "execution_count": 25,
   "metadata": {},
   "outputs": [
    {
     "name": "stdout",
     "output_type": "stream",
     "text": [
      "Training tensor's shape: (10032, 32, 32, 3)\n",
      "Training target's shape (10032, 35)\n",
      "Validating tensor's shape: (1254, 32, 32, 3)\n",
      "Validating target's shape (1254, 35)\n",
      "Testing tensor's shape: (1254, 32, 32, 3)\n",
      "Testing target's shape (1254, 35)\n"
     ]
    }
   ],
   "source": [
    "hide_code\n",
    "# Print the shape\n",
    "print (\"Training tensor's shape:\", x_train3.shape)\n",
    "print (\"Training target's shape\", y_train3.shape)\n",
    "print (\"Validating tensor's shape:\", x_valid3.shape)\n",
    "print (\"Validating target's shape\", y_valid3.shape)\n",
    "print (\"Testing tensor's shape:\", x_test3.shape)\n",
    "print (\"Testing target's shape\", y_test3.shape)"
   ]
  },
  {
   "cell_type": "code",
   "execution_count": 26,
   "metadata": {
    "collapsed": true
   },
   "outputs": [],
   "source": [
    "hide_code\n",
    "# Create a list of targets\n",
    "y_train3_list = [y_train3[:, :33], y_train3[:, 33:]]\n",
    "y_test3_list = [y_test3[:, :33], y_valid3[:, 33:]]\n",
    "y_valid3_list = [y_valid3[:, :33], y_valid3[:, 33:]]"
   ]
  },
  {
   "cell_type": "markdown",
   "metadata": {},
   "source": [
    "#### Multi-label targets, grayscaled images"
   ]
  },
  {
   "cell_type": "code",
   "execution_count": 27,
   "metadata": {
    "collapsed": true
   },
   "outputs": [],
   "source": [
    "hide_code\n",
    "# Split the grayscaled data\n",
    "x_train4, x_test4, y_train4, y_test4 = train_test_split(gray_tensors, back_targets, \n",
    "                                                        test_size = 0.2, \n",
    "                                                        random_state = 1)\n",
    "x_valid4, y_valid4 = x_test4[:n], y_test4[:n]\n",
    "x_test4, y_test4 = x_test4[n:], y_test4[n:]"
   ]
  },
  {
   "cell_type": "code",
   "execution_count": 28,
   "metadata": {
    "collapsed": true
   },
   "outputs": [],
   "source": [
    "hide_code\n",
    "# Reshape the grayscaled data\n",
    "x_train4, x_test4, x_valid4 = \\\n",
    "x_train4.reshape(-1, 32, 32, 1), x_test4.reshape(-1, 32, 32, 1), x_valid4.reshape(-1, 32, 32, 1)"
   ]
  },
  {
   "cell_type": "code",
   "execution_count": 29,
   "metadata": {},
   "outputs": [
    {
     "name": "stdout",
     "output_type": "stream",
     "text": [
      "Training grayscaled tensor's shape: (10032, 32, 32, 1)\n",
      "Training grayscaled target's shape (10032, 35)\n",
      "Validating grayscaled tensor's shape: (1254, 32, 32, 1)\n",
      "Validating grayscaled target's shape (1254, 35)\n",
      "Testing grayscaled tensor's shape: (1254, 32, 32, 1)\n",
      "Testing grayscaled target's shape (1254, 35)\n"
     ]
    }
   ],
   "source": [
    "hide_code\n",
    "# Print the shape\n",
    "print (\"Training grayscaled tensor's shape:\", x_train4.shape)\n",
    "print (\"Training grayscaled target's shape\", y_train4.shape)\n",
    "print (\"Validating grayscaled tensor's shape:\", x_valid4.shape)\n",
    "print (\"Validating grayscaled target's shape\", y_valid4.shape)\n",
    "print (\"Testing grayscaled tensor's shape:\", x_test4.shape)\n",
    "print (\"Testing grayscaled target's shape\", y_test4.shape)"
   ]
  },
  {
   "cell_type": "code",
   "execution_count": 30,
   "metadata": {
    "collapsed": true
   },
   "outputs": [],
   "source": [
    "hide_code\n",
    "# Create a list of targets\n",
    "y_train4_list = [y_train4[:, :33], y_train4[:, 33:]]\n",
    "y_test4_list = [y_test4[:, :33], y_test4[:, 33:]]\n",
    "y_valid4_list = [y_valid4[:, :33], y_valid4[:, 33:]]"
   ]
  },
  {
   "cell_type": "markdown",
   "metadata": {},
   "source": [
    "## Step 4. Create a One-Label Classification Model\n",
    "### Color Images\n",
    "Define a model architecture and compile the model for color images."
   ]
  },
  {
   "cell_type": "code",
   "execution_count": 31,
   "metadata": {
    "collapsed": true
   },
   "outputs": [],
   "source": [
    "hide_code\n",
    "def model():\n",
    "    model = Sequential()\n",
    "    # TODO: Define a model architecture\n",
    "\n",
    "    model.add(Conv2D(32, (5, 5), padding='same', input_shape=x_train.shape[1:]))\n",
    "    model.add(Activation('relu'))    \n",
    "    model.add(MaxPooling2D(pool_size=(2, 2)))\n",
    "    model.add(Dropout(0.25))\n",
    "\n",
    "    model.add(Conv2D(96, (5, 5)))\n",
    "    model.add(Activation('relu'))    \n",
    "    model.add(MaxPooling2D(pool_size=(2, 2)))\n",
    "    model.add(Dropout(0.25))\n",
    "    \n",
    "    model.add(GlobalMaxPooling2D()) \n",
    "    \n",
    "    model.add(Dense(512, activation='relu'))\n",
    "    model.add(Dropout(0.25))    \n",
    "\n",
    "    model.add(Dense(33))\n",
    "    model.add(Activation('softmax'))\n",
    "    \n",
    "    # TODO: Compile the model\n",
    "    model.compile(loss='categorical_crossentropy', optimizer='nadam', metrics=['accuracy'])\n",
    "    \n",
    "    return model\n",
    "\n",
    "model = model()"
   ]
  },
  {
   "cell_type": "code",
   "execution_count": 32,
   "metadata": {},
   "outputs": [
    {
     "name": "stdout",
     "output_type": "stream",
     "text": [
      "Train on 10032 samples, validate on 1254 samples\n",
      "Epoch 1/100\n",
      "Epoch 00000: val_loss improved from inf to 3.47713, saving model to weights.best.model.hdf5\n",
      "103s - loss: 3.4870 - acc: 0.0349 - val_loss: 3.4771 - val_acc: 0.0399\n",
      "Epoch 2/100\n",
      "Epoch 00001: val_loss improved from 3.47713 to 3.38315, saving model to weights.best.model.hdf5\n",
      "42s - loss: 3.4070 - acc: 0.0501 - val_loss: 3.3832 - val_acc: 0.0431\n",
      "Epoch 3/100\n",
      "Epoch 00002: val_loss improved from 3.38315 to 3.33632, saving model to weights.best.model.hdf5\n",
      "46s - loss: 3.3412 - acc: 0.0620 - val_loss: 3.3363 - val_acc: 0.0638\n",
      "Epoch 4/100\n",
      "Epoch 00003: val_loss did not improve\n",
      "43s - loss: 3.2683 - acc: 0.0690 - val_loss: 3.5023 - val_acc: 0.0478\n",
      "Epoch 5/100\n",
      "Epoch 00004: val_loss did not improve\n",
      "42s - loss: 3.2062 - acc: 0.0770 - val_loss: 3.3634 - val_acc: 0.0574\n",
      "Epoch 6/100\n",
      "Epoch 00005: val_loss did not improve\n",
      "43s - loss: 3.1470 - acc: 0.0821 - val_loss: 3.4556 - val_acc: 0.0470\n",
      "Epoch 7/100\n",
      "Epoch 00006: val_loss did not improve\n",
      "43s - loss: 3.1016 - acc: 0.0852 - val_loss: 3.3494 - val_acc: 0.0590\n",
      "Epoch 8/100\n",
      "Epoch 00007: val_loss improved from 3.33632 to 3.30684, saving model to weights.best.model.hdf5\n",
      "48s - loss: 3.0641 - acc: 0.0972 - val_loss: 3.3068 - val_acc: 0.0678\n",
      "Epoch 9/100\n",
      "Epoch 00008: val_loss improved from 3.30684 to 3.24710, saving model to weights.best.model.hdf5\n",
      "43s - loss: 3.0634 - acc: 0.0966 - val_loss: 3.2471 - val_acc: 0.0662\n",
      "Epoch 10/100\n",
      "Epoch 00009: val_loss improved from 3.24710 to 3.18416, saving model to weights.best.model.hdf5\n",
      "45s - loss: 3.0086 - acc: 0.1001 - val_loss: 3.1842 - val_acc: 0.0797\n",
      "Epoch 11/100\n",
      "Epoch 00010: val_loss improved from 3.18416 to 3.14909, saving model to weights.best.model.hdf5\n",
      "43s - loss: 2.9917 - acc: 0.1059 - val_loss: 3.1491 - val_acc: 0.0845\n",
      "Epoch 12/100\n",
      "Epoch 00011: val_loss did not improve\n",
      "44s - loss: 2.9517 - acc: 0.1103 - val_loss: 3.3522 - val_acc: 0.0622\n",
      "Epoch 13/100\n",
      "Epoch 00012: val_loss did not improve\n",
      "43s - loss: 2.9418 - acc: 0.1159 - val_loss: 3.4198 - val_acc: 0.0550\n",
      "Epoch 14/100\n",
      "Epoch 00013: val_loss did not improve\n",
      "42s - loss: 2.8903 - acc: 0.1272 - val_loss: 3.3266 - val_acc: 0.0694\n",
      "Epoch 15/100\n",
      "Epoch 00014: val_loss did not improve\n",
      "42s - loss: 2.8648 - acc: 0.1341 - val_loss: 3.2115 - val_acc: 0.0813\n",
      "Epoch 16/100\n",
      "Epoch 00015: val_loss did not improve\n",
      "43s - loss: 2.8347 - acc: 0.1361 - val_loss: 3.1933 - val_acc: 0.0829\n",
      "Epoch 17/100\n",
      "Epoch 00016: val_loss improved from 3.14909 to 2.96126, saving model to weights.best.model.hdf5\n",
      "46s - loss: 2.8072 - acc: 0.1490 - val_loss: 2.9613 - val_acc: 0.1180\n",
      "Epoch 18/100\n",
      "Epoch 00017: val_loss did not improve\n",
      "43s - loss: 2.7817 - acc: 0.1527 - val_loss: 3.2056 - val_acc: 0.0789\n",
      "Epoch 19/100\n",
      "Epoch 00018: val_loss did not improve\n",
      "44s - loss: 2.7496 - acc: 0.1555 - val_loss: 3.0959 - val_acc: 0.1164\n",
      "Epoch 20/100\n",
      "Epoch 00019: val_loss did not improve\n",
      "44s - loss: 2.7124 - acc: 0.1627 - val_loss: 3.0258 - val_acc: 0.1077\n",
      "Epoch 21/100\n",
      "Epoch 00020: val_loss did not improve\n",
      "46s - loss: 2.6921 - acc: 0.1764 - val_loss: 3.0601 - val_acc: 0.1244\n",
      "Epoch 22/100\n",
      "Epoch 00021: val_loss did not improve\n",
      "46s - loss: 2.6585 - acc: 0.1838 - val_loss: 3.1652 - val_acc: 0.0933\n",
      "Epoch 23/100\n",
      "Epoch 00022: val_loss improved from 2.96126 to 2.83045, saving model to weights.best.model.hdf5\n",
      "46s - loss: 2.6276 - acc: 0.1871 - val_loss: 2.8305 - val_acc: 0.1459\n",
      "Epoch 24/100\n",
      "Epoch 00023: val_loss did not improve\n",
      "49s - loss: 2.6073 - acc: 0.1919 - val_loss: 2.8947 - val_acc: 0.1435\n",
      "Epoch 25/100\n",
      "Epoch 00024: val_loss improved from 2.83045 to 2.82898, saving model to weights.best.model.hdf5\n",
      "44s - loss: 2.5727 - acc: 0.2062 - val_loss: 2.8290 - val_acc: 0.1659\n",
      "Epoch 26/100\n",
      "Epoch 00025: val_loss did not improve\n",
      "45s - loss: 2.5442 - acc: 0.2053 - val_loss: 2.8726 - val_acc: 0.1507\n",
      "Epoch 27/100\n",
      "Epoch 00026: val_loss improved from 2.82898 to 2.77215, saving model to weights.best.model.hdf5\n",
      "45s - loss: 2.5176 - acc: 0.2209 - val_loss: 2.7721 - val_acc: 0.1754\n",
      "Epoch 28/100\n",
      "Epoch 00027: val_loss did not improve\n",
      "44s - loss: 2.4803 - acc: 0.2220 - val_loss: 2.9340 - val_acc: 0.1507\n",
      "Epoch 29/100\n",
      "Epoch 00028: val_loss did not improve\n",
      "46s - loss: 2.4404 - acc: 0.2379 - val_loss: 2.7909 - val_acc: 0.1810\n",
      "Epoch 30/100\n",
      "Epoch 00029: val_loss did not improve\n",
      "47s - loss: 2.4057 - acc: 0.2486 - val_loss: 3.1768 - val_acc: 0.1372\n",
      "Epoch 31/100\n",
      "Epoch 00030: val_loss improved from 2.77215 to 2.72254, saving model to weights.best.model.hdf5\n",
      "52s - loss: 2.3686 - acc: 0.2605 - val_loss: 2.7225 - val_acc: 0.1954\n",
      "Epoch 32/100\n",
      "Epoch 00031: val_loss improved from 2.72254 to 2.65097, saving model to weights.best.model.hdf5\n",
      "47s - loss: 2.3219 - acc: 0.2709 - val_loss: 2.6510 - val_acc: 0.2201\n",
      "Epoch 33/100\n",
      "Epoch 00032: val_loss did not improve\n",
      "47s - loss: 2.2923 - acc: 0.2829 - val_loss: 2.6578 - val_acc: 0.2241\n",
      "Epoch 34/100\n",
      "Epoch 00033: val_loss did not improve\n",
      "53s - loss: 2.2698 - acc: 0.2911 - val_loss: 3.0097 - val_acc: 0.1754\n",
      "Epoch 35/100\n",
      "Epoch 00034: val_loss did not improve\n",
      "54s - loss: 2.2173 - acc: 0.3062 - val_loss: 2.8480 - val_acc: 0.1986\n",
      "Epoch 36/100\n",
      "Epoch 00035: val_loss did not improve\n",
      "52s - loss: 2.1763 - acc: 0.3226 - val_loss: 2.6656 - val_acc: 0.2249\n",
      "Epoch 37/100\n",
      "Epoch 00036: val_loss improved from 2.65097 to 2.43131, saving model to weights.best.model.hdf5\n",
      "48s - loss: 2.1405 - acc: 0.3265 - val_loss: 2.4313 - val_acc: 0.2863\n",
      "Epoch 38/100\n",
      "Epoch 00037: val_loss improved from 2.43131 to 2.19779, saving model to weights.best.model.hdf5\n",
      "51s - loss: 2.1038 - acc: 0.3344 - val_loss: 2.1978 - val_acc: 0.3684\n",
      "Epoch 39/100\n",
      "Epoch 00038: val_loss did not improve\n",
      "50s - loss: 2.0775 - acc: 0.3469 - val_loss: 2.3896 - val_acc: 0.2863\n",
      "Epoch 40/100\n",
      "Epoch 00039: val_loss did not improve\n",
      "51s - loss: 2.0313 - acc: 0.3597 - val_loss: 2.6280 - val_acc: 0.2456\n",
      "Epoch 41/100\n",
      "Epoch 00040: val_loss did not improve\n",
      "48s - loss: 1.9732 - acc: 0.3774 - val_loss: 2.4134 - val_acc: 0.2791\n",
      "Epoch 42/100\n",
      "Epoch 00041: val_loss did not improve\n",
      "48s - loss: 1.9384 - acc: 0.3859 - val_loss: 2.4869 - val_acc: 0.2871\n",
      "Epoch 43/100\n",
      "Epoch 00042: val_loss improved from 2.19779 to 2.14820, saving model to weights.best.model.hdf5\n",
      "48s - loss: 1.9175 - acc: 0.3941 - val_loss: 2.1482 - val_acc: 0.3636\n",
      "Epoch 44/100\n",
      "Epoch 00043: val_loss did not improve\n",
      "49s - loss: 1.8608 - acc: 0.4136 - val_loss: 2.3303 - val_acc: 0.3238\n",
      "Epoch 45/100\n",
      "Epoch 00044: val_loss did not improve\n",
      "48s - loss: 1.8270 - acc: 0.4233 - val_loss: 2.3431 - val_acc: 0.3246\n",
      "Epoch 46/100\n",
      "Epoch 00045: val_loss improved from 2.14820 to 2.08899, saving model to weights.best.model.hdf5\n",
      "50s - loss: 1.7838 - acc: 0.4343 - val_loss: 2.0890 - val_acc: 0.3748\n",
      "Epoch 47/100\n",
      "Epoch 00046: val_loss did not improve\n",
      "49s - loss: 1.7661 - acc: 0.4402 - val_loss: 2.2116 - val_acc: 0.3557\n",
      "Epoch 48/100\n",
      "Epoch 00047: val_loss did not improve\n",
      "48s - loss: 1.7544 - acc: 0.4450 - val_loss: 2.5322 - val_acc: 0.2935\n",
      "Epoch 49/100\n",
      "Epoch 00048: val_loss did not improve\n",
      "57s - loss: 1.7180 - acc: 0.4545 - val_loss: 2.2919 - val_acc: 0.3581\n",
      "Epoch 50/100\n",
      "Epoch 00049: val_loss did not improve\n",
      "54s - loss: 1.6850 - acc: 0.4564 - val_loss: 2.2826 - val_acc: 0.3700\n",
      "Epoch 51/100\n",
      "Epoch 00050: val_loss did not improve\n",
      "53s - loss: 1.6702 - acc: 0.4718 - val_loss: 2.2950 - val_acc: 0.3676\n",
      "Epoch 52/100\n",
      "Epoch 00051: val_loss did not improve\n",
      "46s - loss: 1.6326 - acc: 0.4808 - val_loss: 2.1700 - val_acc: 0.3780\n",
      "Epoch 53/100\n",
      "Epoch 00052: val_loss did not improve\n",
      "50s - loss: 1.6244 - acc: 0.4844 - val_loss: 2.7071 - val_acc: 0.2847\n",
      "Epoch 54/100\n",
      "Epoch 00053: val_loss did not improve\n",
      "53s - loss: 1.5917 - acc: 0.4892 - val_loss: 2.3015 - val_acc: 0.3541\n",
      "Epoch 55/100\n",
      "Epoch 00054: val_loss improved from 2.08899 to 1.97694, saving model to weights.best.model.hdf5\n",
      "57s - loss: 1.5732 - acc: 0.4920 - val_loss: 1.9769 - val_acc: 0.4195\n",
      "Epoch 56/100\n",
      "Epoch 00055: val_loss improved from 1.97694 to 1.92496, saving model to weights.best.model.hdf5\n",
      "52s - loss: 1.5518 - acc: 0.5042 - val_loss: 1.9250 - val_acc: 0.4266\n",
      "Epoch 57/100\n",
      "Epoch 00056: val_loss did not improve\n",
      "48s - loss: 1.5140 - acc: 0.5109 - val_loss: 2.1260 - val_acc: 0.3995\n",
      "Epoch 58/100\n",
      "Epoch 00057: val_loss did not improve\n",
      "48s - loss: 1.5020 - acc: 0.5162 - val_loss: 2.0899 - val_acc: 0.3955\n",
      "Epoch 59/100\n",
      "Epoch 00058: val_loss did not improve\n",
      "48s - loss: 1.4795 - acc: 0.5245 - val_loss: 2.4857 - val_acc: 0.3341\n",
      "Epoch 60/100\n"
     ]
    },
    {
     "name": "stdout",
     "output_type": "stream",
     "text": [
      "Epoch 00059: val_loss did not improve\n",
      "48s - loss: 1.4475 - acc: 0.5344 - val_loss: 2.1355 - val_acc: 0.3900\n",
      "Epoch 61/100\n",
      "Epoch 00060: val_loss did not improve\n",
      "49s - loss: 1.4240 - acc: 0.5431 - val_loss: 2.1013 - val_acc: 0.4083\n",
      "Epoch 62/100\n",
      "Epoch 00061: val_loss did not improve\n",
      "48s - loss: 1.4080 - acc: 0.5468 - val_loss: 1.9787 - val_acc: 0.4234\n",
      "Epoch 63/100\n",
      "Epoch 00062: val_loss did not improve\n",
      "48s - loss: 1.3899 - acc: 0.5519 - val_loss: 2.3380 - val_acc: 0.3708\n",
      "Epoch 64/100\n",
      "Epoch 00063: val_loss did not improve\n",
      "48s - loss: 1.3727 - acc: 0.5568 - val_loss: 2.1568 - val_acc: 0.4051\n",
      "Epoch 65/100\n",
      "Epoch 00064: val_loss did not improve\n",
      "48s - loss: 1.3717 - acc: 0.5622 - val_loss: 2.4103 - val_acc: 0.3660\n",
      "Epoch 66/100\n",
      "Epoch 00065: val_loss did not improve\n",
      "48s - loss: 1.3469 - acc: 0.5652 - val_loss: 2.8317 - val_acc: 0.3038\n",
      "Epoch 67/100\n",
      "Epoch 00066: val_loss did not improve\n",
      "48s - loss: 1.3320 - acc: 0.5727 - val_loss: 2.0232 - val_acc: 0.4195\n",
      "Epoch 68/100\n",
      "Epoch 00067: val_loss did not improve\n",
      "48s - loss: 1.3209 - acc: 0.5761 - val_loss: 2.0356 - val_acc: 0.4338\n",
      "Epoch 69/100\n",
      "Epoch 00068: val_loss improved from 1.92496 to 1.92086, saving model to weights.best.model.hdf5\n",
      "49s - loss: 1.2911 - acc: 0.5838 - val_loss: 1.9209 - val_acc: 0.4466\n",
      "Epoch 70/100\n",
      "Epoch 00069: val_loss improved from 1.92086 to 1.69733, saving model to weights.best.model.hdf5\n",
      "50s - loss: 1.2959 - acc: 0.5828 - val_loss: 1.6973 - val_acc: 0.4984\n",
      "Epoch 71/100\n",
      "Epoch 00070: val_loss did not improve\n",
      "48s - loss: 1.2736 - acc: 0.5876 - val_loss: 2.1837 - val_acc: 0.4179\n",
      "Epoch 72/100\n",
      "Epoch 00071: val_loss did not improve\n",
      "49s - loss: 1.2725 - acc: 0.5942 - val_loss: 1.9719 - val_acc: 0.4514\n",
      "Epoch 73/100\n",
      "Epoch 00072: val_loss did not improve\n",
      "49s - loss: 1.2587 - acc: 0.5969 - val_loss: 2.4768 - val_acc: 0.3700\n",
      "Epoch 74/100\n",
      "Epoch 00073: val_loss did not improve\n",
      "50s - loss: 1.2487 - acc: 0.5999 - val_loss: 1.9654 - val_acc: 0.4514\n",
      "Epoch 75/100\n",
      "Epoch 00074: val_loss did not improve\n",
      "57s - loss: 1.2425 - acc: 0.5954 - val_loss: 1.9792 - val_acc: 0.4561\n",
      "Epoch 76/100\n",
      "Epoch 00075: val_loss did not improve\n",
      "52s - loss: 1.2446 - acc: 0.6022 - val_loss: 2.0357 - val_acc: 0.4458\n",
      "Epoch 77/100\n",
      "Epoch 00076: val_loss did not improve\n",
      "52s - loss: 1.2020 - acc: 0.6120 - val_loss: 1.9689 - val_acc: 0.4625\n",
      "Epoch 78/100\n",
      "Epoch 00077: val_loss did not improve\n",
      "49s - loss: 1.2115 - acc: 0.6114 - val_loss: 2.0105 - val_acc: 0.4553\n",
      "Epoch 79/100\n",
      "Epoch 00078: val_loss did not improve\n",
      "57s - loss: 1.1981 - acc: 0.6102 - val_loss: 1.8773 - val_acc: 0.4697\n",
      "Epoch 80/100\n",
      "Epoch 00079: val_loss did not improve\n",
      "54s - loss: 1.1859 - acc: 0.6176 - val_loss: 1.9834 - val_acc: 0.4577\n",
      "Epoch 81/100\n",
      "Epoch 00080: val_loss did not improve\n",
      "55s - loss: 1.1730 - acc: 0.6200 - val_loss: 1.7744 - val_acc: 0.4896\n",
      "Epoch 82/100\n",
      "Epoch 00081: val_loss did not improve\n",
      "52s - loss: 1.1563 - acc: 0.6284 - val_loss: 1.9775 - val_acc: 0.4506\n",
      "Epoch 83/100\n",
      "Epoch 00082: val_loss did not improve\n",
      "53s - loss: 1.1771 - acc: 0.6220 - val_loss: 1.9957 - val_acc: 0.4681\n",
      "Epoch 84/100\n",
      "Epoch 00083: val_loss did not improve\n",
      "47s - loss: 1.1592 - acc: 0.6238 - val_loss: 1.8652 - val_acc: 0.5056\n",
      "Epoch 85/100\n",
      "Epoch 00084: val_loss did not improve\n",
      "46s - loss: 1.1434 - acc: 0.6301 - val_loss: 2.0436 - val_acc: 0.4545\n",
      "Epoch 86/100\n",
      "Epoch 00085: val_loss did not improve\n",
      "48s - loss: 1.1481 - acc: 0.6256 - val_loss: 1.8510 - val_acc: 0.4928\n",
      "Epoch 87/100\n",
      "Epoch 00086: val_loss did not improve\n",
      "47s - loss: 1.1229 - acc: 0.6395 - val_loss: 2.0827 - val_acc: 0.4450\n",
      "Epoch 88/100\n",
      "Epoch 00087: val_loss did not improve\n",
      "45s - loss: 1.1306 - acc: 0.6307 - val_loss: 1.8234 - val_acc: 0.4777\n",
      "Epoch 89/100\n",
      "Epoch 00088: val_loss did not improve\n",
      "45s - loss: 1.1219 - acc: 0.6363 - val_loss: 2.3506 - val_acc: 0.4226\n",
      "Epoch 90/100\n",
      "Epoch 00089: val_loss did not improve\n",
      "47s - loss: 1.0972 - acc: 0.6414 - val_loss: 2.0390 - val_acc: 0.4848\n",
      "Epoch 91/100\n",
      "Epoch 00090: val_loss did not improve\n",
      "54s - loss: 1.1086 - acc: 0.6423 - val_loss: 1.8599 - val_acc: 0.4960\n",
      "Epoch 92/100\n",
      "Epoch 00091: val_loss did not improve\n",
      "48s - loss: 1.1067 - acc: 0.6409 - val_loss: 2.0243 - val_acc: 0.4234\n",
      "Epoch 93/100\n",
      "Epoch 00092: val_loss did not improve\n",
      "46s - loss: 1.1221 - acc: 0.6364 - val_loss: 2.3512 - val_acc: 0.4450\n",
      "Epoch 94/100\n",
      "Epoch 00093: val_loss did not improve\n",
      "50s - loss: 1.0948 - acc: 0.6472 - val_loss: 2.4073 - val_acc: 0.4139\n",
      "Epoch 95/100\n",
      "Epoch 00094: val_loss did not improve\n",
      "56s - loss: 1.0772 - acc: 0.6550 - val_loss: 1.9599 - val_acc: 0.4856\n",
      "Epoch 96/100\n",
      "Epoch 00095: val_loss did not improve\n",
      "51s - loss: 1.0849 - acc: 0.6532 - val_loss: 2.1927 - val_acc: 0.4426\n",
      "Epoch 97/100\n",
      "Epoch 00096: val_loss did not improve\n",
      "47s - loss: 1.0723 - acc: 0.6534 - val_loss: 1.8254 - val_acc: 0.5247\n",
      "Epoch 98/100\n",
      "Epoch 00097: val_loss did not improve\n",
      "55s - loss: 1.0686 - acc: 0.6527 - val_loss: 2.3305 - val_acc: 0.4354\n",
      "Epoch 99/100\n",
      "Epoch 00098: val_loss did not improve\n",
      "46s - loss: 1.0562 - acc: 0.6561 - val_loss: 2.1268 - val_acc: 0.4585\n",
      "Epoch 100/100\n",
      "Epoch 00099: val_loss did not improve\n",
      "47s - loss: 1.0585 - acc: 0.6625 - val_loss: 2.0488 - val_acc: 0.4809\n"
     ]
    }
   ],
   "source": [
    "hide_code\n",
    "# Train the model\n",
    "checkpointer = ModelCheckpoint(filepath='weights.best.model.hdf5', \n",
    "                               verbose=2, save_best_only=True)\n",
    "history = model.fit(x_train, y_train, \n",
    "                    epochs=100, batch_size=64, verbose=2,\n",
    "                    validation_data=(x_valid, y_valid),\n",
    "                    callbacks=[checkpointer])"
   ]
  },
  {
   "cell_type": "code",
   "execution_count": 33,
   "metadata": {},
   "outputs": [
    {
     "data": {
      "image/png": "[encoded data removed]",
      "text/plain": [
       "<matplotlib.figure.Figure at 0x10497e978>"
      ]
     },
     "metadata": {},
     "output_type": "display_data"
    }
   ],
   "source": [
    "hide_code\n",
    "# Plot the training history\n",
    "history_plot(history, 0)"
   ]
  },
  {
   "cell_type": "markdown",
   "metadata": {},
   "source": [
    "We should have an accuracy greater than 3%"
   ]
  },
  {
   "cell_type": "code",
   "execution_count": 34,
   "metadata": {},
   "outputs": [
    {
     "name": "stdout",
     "output_type": "stream",
     "text": [
      "1248/1254 [============================>.] - ETA: 0s"
     ]
    },
    {
     "data": {
      "text/plain": [
       "[1.7573603501920685, 0.47846889961659433]"
      ]
     },
     "execution_count": 34,
     "metadata": {},
     "output_type": "execute_result"
    }
   ],
   "source": [
    "hide_code\n",
    "# Load the model with the best validation accuracy\n",
    "model.load_weights('weights.best.model.hdf5')\n",
    "# Calculate classification accuracy on the testing set\n",
    "score = model.evaluate(x_test, y_test)\n",
    "score"
   ]
  },
  {
   "cell_type": "markdown",
   "metadata": {},
   "source": [
    "Apply the ImageDataGenerator() function."
   ]
  },
  {
   "cell_type": "code",
   "execution_count": 61,
   "metadata": {},
   "outputs": [
    {
     "name": "stdout",
     "output_type": "stream",
     "text": [
      "Epoch 1/10\n",
      "Epoch 00000: val_loss did not improve\n",
      "368s - loss: 1.6434 - acc: 0.4832 - val_loss: 2.8636 - val_acc: 0.3198\n",
      "Epoch 2/10\n",
      "Epoch 00001: val_loss did not improve\n",
      "333s - loss: 1.5781 - acc: 0.5021 - val_loss: 2.2109 - val_acc: 0.3979\n",
      "Epoch 3/10\n",
      "Epoch 00002: val_loss did not improve\n",
      "327s - loss: 1.5417 - acc: 0.5109 - val_loss: 2.6555 - val_acc: 0.3541\n",
      "Epoch 4/10\n",
      "Epoch 00003: val_loss did not improve\n",
      "346s - loss: 1.4942 - acc: 0.5228 - val_loss: 2.3751 - val_acc: 0.3947\n",
      "Epoch 5/10\n",
      "Epoch 00004: val_loss did not improve\n",
      "359s - loss: 1.4661 - acc: 0.5328 - val_loss: 2.5568 - val_acc: 0.3868\n",
      "Epoch 6/10\n",
      "Epoch 00005: val_loss did not improve\n",
      "354s - loss: 1.4250 - acc: 0.5425 - val_loss: 2.6123 - val_acc: 0.3604\n",
      "Epoch 7/10\n",
      "Epoch 00006: val_loss did not improve\n",
      "374s - loss: 1.4181 - acc: 0.5443 - val_loss: 2.4997 - val_acc: 0.3939\n",
      "Epoch 8/10\n",
      "Epoch 00007: val_loss did not improve\n",
      "368s - loss: 1.3928 - acc: 0.5531 - val_loss: 2.4880 - val_acc: 0.4123\n",
      "Epoch 9/10\n",
      "Epoch 00008: val_loss did not improve\n",
      "365s - loss: 1.3710 - acc: 0.5611 - val_loss: 2.5809 - val_acc: 0.4011\n",
      "Epoch 10/10\n",
      "Epoch 00009: val_loss did not improve\n",
      "353s - loss: 1.3555 - acc: 0.5657 - val_loss: 2.5251 - val_acc: 0.3995\n"
     ]
    }
   ],
   "source": [
    "hide_code\n",
    "# Fit the model with ImageDataGenerator()\n",
    "# TODO: Define parameters\n",
    "steps, epochs = 1000, 10\n",
    "data_generator = ImageDataGenerator(zoom_range=0.2, shear_range=0.2, rotation_range=20)\n",
    "\n",
    "generator = model.fit_generator(data_generator.flow(x_train, y_train, batch_size=64),\n",
    "                                steps_per_epoch = steps, epochs = epochs,\n",
    "                                validation_data = (x_valid, y_valid), \n",
    "                                callbacks=[checkpointer], verbose=2)"
   ]
  },
  {
   "cell_type": "code",
   "execution_count": 62,
   "metadata": {},
   "outputs": [
    {
     "name": "stdout",
     "output_type": "stream",
     "text": [
      "1248/1254 [============================>.] - ETA: 0s"
     ]
    },
    {
     "data": {
      "text/plain": [
       "[1.7573603501920685, 0.47846889961659433]"
      ]
     },
     "execution_count": 62,
     "metadata": {},
     "output_type": "execute_result"
    }
   ],
   "source": [
    "hide_code\n",
    "# Load the model with the best validation accuracy\n",
    "model.load_weights('weights.best.model.hdf5')\n",
    "# Calculate classification accuracy on the testing set\n",
    "score = model.evaluate(x_test, y_test)\n",
    "score"
   ]
  },
  {
   "cell_type": "markdown",
   "metadata": {},
   "source": [
    "Let's compare the results with classifying algorithms."
   ]
  },
  {
   "cell_type": "code",
   "execution_count": 65,
   "metadata": {},
   "outputs": [
    {
     "data": {
      "text/plain": [
       "0.35007974481658694"
      ]
     },
     "execution_count": 65,
     "metadata": {},
     "output_type": "execute_result"
    }
   ],
   "source": [
    "hide_code\n",
    "# Fit the classifier and get the accuracy score\n",
    "y_train_c = np.array([np.argmax(y) for y in y_train])\n",
    "y_test_c = np.array([np.argmax(y) for y in y_test])\n",
    "clf = GradientBoostingClassifier().fit(x_train.reshape(-1, 32*32*3), y_train_c)\n",
    "clf.score(x_test.reshape(-1, 32*32*3), y_test_c)"
   ]
  },
  {
   "cell_type": "code",
   "execution_count": 66,
   "metadata": {},
   "outputs": [
    {
     "data": {
      "text/plain": [
       "0.24003189792663476"
      ]
     },
     "execution_count": 66,
     "metadata": {},
     "output_type": "execute_result"
    }
   ],
   "source": [
    "hide_code\n",
    "# Fit the classifier and get the accuracy score\n",
    "clf2 = RandomForestClassifier().fit(x_train.reshape(-1, 32*32*3), y_train_c)\n",
    "clf2.score(x_test.reshape(-1, 32*32*3), y_test_c)"
   ]
  },
  {
   "cell_type": "markdown",
   "metadata": {},
   "source": [
    "### Grayscaled Images\n",
    "Define a model architecture and compile the model for grayscaled images."
   ]
  },
  {
   "cell_type": "code",
   "execution_count": 35,
   "metadata": {
    "collapsed": true
   },
   "outputs": [],
   "source": [
    "hide_code\n",
    "def gray_model():\n",
    "    model = Sequential()\n",
    "    \n",
    "    # TODO: Define a model architecture\n",
    "    model.add(Conv2D(32, (5, 5), padding='same', input_shape=x_train2.shape[1:]))\n",
    "    model.add(Activation('relu'))    \n",
    "    model.add(MaxPooling2D(pool_size=(2, 2)))\n",
    "    model.add(Dropout(0.25))\n",
    "\n",
    "    model.add(Conv2D(256, (5, 5)))\n",
    "    model.add(Activation('relu'))    \n",
    "    model.add(MaxPooling2D(pool_size=(2, 2)))\n",
    "    model.add(Dropout(0.25))\n",
    "    \n",
    "    model.add(GlobalMaxPooling2D()) \n",
    "    \n",
    "    model.add(Dense(1024, activation='relu'))\n",
    "    model.add(Dropout(0.25)) \n",
    "    \n",
    "    model.add(Dense(256, activation='relu'))\n",
    "    model.add(Dropout(0.25))    \n",
    "\n",
    "    model.add(Dense(33))\n",
    "    model.add(Activation('softmax'))\n",
    "    \n",
    "    # TODO: Compile the model\n",
    "    model.compile(loss='categorical_crossentropy', optimizer='rmsprop', metrics=['accuracy'])\n",
    "    return model\n",
    "\n",
    "gray_model = gray_model()"
   ]
  },
  {
   "cell_type": "code",
   "execution_count": 36,
   "metadata": {},
   "outputs": [
    {
     "name": "stdout",
     "output_type": "stream",
     "text": [
      "Epoch 00000: val_loss improved from inf to 3.47498, saving model to weights.best.gray_model.hdf5\n",
      "Epoch 00001: val_loss improved from 3.47498 to 3.41011, saving model to weights.best.gray_model.hdf5\n",
      "Epoch 00002: val_loss improved from 3.41011 to 3.36410, saving model to weights.best.gray_model.hdf5\n",
      "Epoch 00003: val_loss did not improve\n",
      "Epoch 00004: val_loss improved from 3.36410 to 3.35433, saving model to weights.best.gray_model.hdf5\n",
      "Epoch 00005: val_loss improved from 3.35433 to 3.17535, saving model to weights.best.gray_model.hdf5\n",
      "Epoch 00006: val_loss improved from 3.17535 to 3.15366, saving model to weights.best.gray_model.hdf5\n",
      "Epoch 00007: val_loss improved from 3.15366 to 2.85614, saving model to weights.best.gray_model.hdf5\n",
      "Epoch 00008: val_loss improved from 2.85614 to 2.71109, saving model to weights.best.gray_model.hdf5\n",
      "Epoch 00009: val_loss improved from 2.71109 to 2.41761, saving model to weights.best.gray_model.hdf5\n",
      "Epoch 00010: val_loss improved from 2.41761 to 2.38982, saving model to weights.best.gray_model.hdf5\n",
      "Epoch 00011: val_loss improved from 2.38982 to 2.16874, saving model to weights.best.gray_model.hdf5\n",
      "Epoch 00012: val_loss improved from 2.16874 to 1.94857, saving model to weights.best.gray_model.hdf5\n",
      "Epoch 00013: val_loss did not improve\n",
      "Epoch 00014: val_loss improved from 1.94857 to 1.71027, saving model to weights.best.gray_model.hdf5\n",
      "Epoch 00015: val_loss improved from 1.71027 to 1.65407, saving model to weights.best.gray_model.hdf5\n",
      "Epoch 00016: val_loss improved from 1.65407 to 1.40672, saving model to weights.best.gray_model.hdf5\n",
      "Epoch 00017: val_loss improved from 1.40672 to 1.11561, saving model to weights.best.gray_model.hdf5\n",
      "Epoch 00018: val_loss improved from 1.11561 to 1.09096, saving model to weights.best.gray_model.hdf5\n",
      "Epoch 00019: val_loss improved from 1.09096 to 0.99528, saving model to weights.best.gray_model.hdf5\n",
      "Epoch 00020: val_loss did not improve\n",
      "Epoch 00021: val_loss did not improve\n",
      "Epoch 00022: val_loss improved from 0.99528 to 0.95573, saving model to weights.best.gray_model.hdf5\n",
      "Epoch 00023: val_loss improved from 0.95573 to 0.89899, saving model to weights.best.gray_model.hdf5\n",
      "Epoch 00024: val_loss improved from 0.89899 to 0.85217, saving model to weights.best.gray_model.hdf5\n",
      "Epoch 00025: val_loss improved from 0.85217 to 0.78612, saving model to weights.best.gray_model.hdf5\n",
      "Epoch 00026: val_loss improved from 0.78612 to 0.68806, saving model to weights.best.gray_model.hdf5\n",
      "Epoch 00027: val_loss improved from 0.68806 to 0.62821, saving model to weights.best.gray_model.hdf5\n",
      "Epoch 00028: val_loss improved from 0.62821 to 0.61517, saving model to weights.best.gray_model.hdf5\n",
      "Epoch 00029: val_loss improved from 0.61517 to 0.61175, saving model to weights.best.gray_model.hdf5\n",
      "Epoch 00030: val_loss improved from 0.61175 to 0.58617, saving model to weights.best.gray_model.hdf5\n",
      "Epoch 00031: val_loss did not improve\n",
      "Epoch 00032: val_loss did not improve\n",
      "Epoch 00033: val_loss did not improve\n",
      "Epoch 00034: val_loss improved from 0.58617 to 0.52963, saving model to weights.best.gray_model.hdf5\n",
      "Epoch 00035: val_loss did not improve\n",
      "Epoch 00036: val_loss did not improve\n",
      "Epoch 00037: val_loss improved from 0.52963 to 0.46706, saving model to weights.best.gray_model.hdf5\n",
      "Epoch 00038: val_loss improved from 0.46706 to 0.43510, saving model to weights.best.gray_model.hdf5\n",
      "Epoch 00039: val_loss did not improve\n",
      "Epoch 00040: val_loss did not improve\n",
      "Epoch 00041: val_loss did not improve\n",
      "Epoch 00042: val_loss improved from 0.43510 to 0.41354, saving model to weights.best.gray_model.hdf5\n",
      "Epoch 00043: val_loss did not improve\n",
      "Epoch 00044: val_loss did not improve\n",
      "Epoch 00045: val_loss did not improve\n",
      "Epoch 00046: val_loss did not improve\n",
      "Epoch 00047: val_loss did not improve\n",
      "Epoch 00048: val_loss did not improve\n",
      "Epoch 00049: val_loss did not improve\n",
      "Epoch 00050: val_loss improved from 0.41354 to 0.39573, saving model to weights.best.gray_model.hdf5\n",
      "Epoch 00051: val_loss did not improve\n",
      "Epoch 00052: val_loss did not improve\n",
      "Epoch 00053: val_loss did not improve\n",
      "Epoch 00054: val_loss did not improve\n",
      "Epoch 00055: val_loss did not improve\n",
      "Epoch 00056: val_loss improved from 0.39573 to 0.38993, saving model to weights.best.gray_model.hdf5\n",
      "Epoch 00057: val_loss improved from 0.38993 to 0.36392, saving model to weights.best.gray_model.hdf5\n",
      "Epoch 00058: val_loss did not improve\n",
      "Epoch 00059: val_loss improved from 0.36392 to 0.36156, saving model to weights.best.gray_model.hdf5\n",
      "Epoch 00060: val_loss did not improve\n",
      "Epoch 00061: val_loss did not improve\n",
      "Epoch 00062: val_loss did not improve\n",
      "Epoch 00063: val_loss improved from 0.36156 to 0.34841, saving model to weights.best.gray_model.hdf5\n",
      "Epoch 00064: val_loss did not improve\n",
      "Epoch 00065: val_loss did not improve\n",
      "Epoch 00066: val_loss did not improve\n",
      "Epoch 00067: val_loss did not improve\n",
      "Epoch 00068: val_loss did not improve\n",
      "Epoch 00069: val_loss did not improve\n",
      "Epoch 00070: val_loss did not improve\n",
      "Epoch 00071: val_loss did not improve\n",
      "Epoch 00072: val_loss did not improve\n",
      "Epoch 00073: val_loss did not improve\n",
      "Epoch 00074: val_loss did not improve\n",
      "Epoch 00075: val_loss did not improve\n",
      "Epoch 00076: val_loss did not improve\n",
      "Epoch 00077: val_loss did not improve\n",
      "Epoch 00078: val_loss did not improve\n",
      "Epoch 00079: val_loss did not improve\n",
      "Epoch 00080: val_loss did not improve\n",
      "Epoch 00081: val_loss did not improve\n",
      "Epoch 00082: val_loss did not improve\n",
      "Epoch 00083: val_loss did not improve\n",
      "Epoch 00084: val_loss did not improve\n",
      "Epoch 00085: val_loss did not improve\n",
      "Epoch 00086: val_loss did not improve\n",
      "Epoch 00087: val_loss did not improve\n",
      "Epoch 00088: val_loss did not improve\n",
      "Epoch 00089: val_loss did not improve\n",
      "Epoch 00090: val_loss did not improve\n",
      "Epoch 00091: val_loss did not improve\n",
      "Epoch 00092: val_loss did not improve\n",
      "Epoch 00093: val_loss did not improve\n",
      "Epoch 00094: val_loss did not improve\n",
      "Epoch 00095: val_loss did not improve\n",
      "Epoch 00096: val_loss did not improve\n",
      "Epoch 00097: val_loss did not improve\n",
      "Epoch 00098: val_loss did not improve\n",
      "Epoch 00099: val_loss did not improve\n",
      "Epoch 00100: val_loss did not improve\n",
      "Epoch 00101: val_loss did not improve\n",
      "Epoch 00102: val_loss did not improve\n",
      "Epoch 00103: val_loss did not improve\n",
      "Epoch 00104: val_loss did not improve\n",
      "Epoch 00105: val_loss did not improve\n",
      "Epoch 00106: val_loss did not improve\n",
      "Epoch 00107: val_loss did not improve\n",
      "Epoch 00108: val_loss did not improve\n",
      "Epoch 00109: val_loss did not improve\n",
      "Epoch 00110: val_loss did not improve\n",
      "Epoch 00111: val_loss did not improve\n",
      "Epoch 00112: val_loss did not improve\n",
      "Epoch 00113: val_loss did not improve\n",
      "Epoch 00114: val_loss did not improve\n",
      "Epoch 00115: val_loss did not improve\n",
      "Epoch 00116: val_loss did not improve\n",
      "Epoch 00117: val_loss did not improve\n",
      "Epoch 00118: val_loss did not improve\n",
      "Epoch 00119: val_loss did not improve\n",
      "Epoch 00120: val_loss did not improve\n",
      "Epoch 00121: val_loss did not improve\n",
      "Epoch 00122: val_loss did not improve\n",
      "Epoch 00123: val_loss did not improve\n",
      "Epoch 00124: val_loss did not improve\n",
      "Epoch 00125: val_loss did not improve\n",
      "Epoch 00126: val_loss did not improve\n",
      "Epoch 00127: val_loss did not improve\n",
      "Epoch 00128: val_loss did not improve\n",
      "Epoch 00129: val_loss did not improve\n",
      "Epoch 00130: val_loss did not improve\n",
      "Epoch 00131: val_loss did not improve\n",
      "Epoch 00132: val_loss did not improve\n",
      "Epoch 00133: val_loss did not improve\n",
      "Epoch 00134: val_loss did not improve\n",
      "Epoch 00135: val_loss did not improve\n",
      "Epoch 00136: val_loss did not improve\n",
      "Epoch 00137: val_loss did not improve\n",
      "Epoch 00138: val_loss did not improve\n",
      "Epoch 00139: val_loss did not improve\n",
      "Epoch 00140: val_loss did not improve\n",
      "Epoch 00141: val_loss did not improve\n",
      "Epoch 00142: val_loss did not improve\n",
      "Epoch 00143: val_loss did not improve\n",
      "Epoch 00144: val_loss did not improve\n",
      "Epoch 00145: val_loss did not improve\n",
      "Epoch 00146: val_loss did not improve\n",
      "Epoch 00147: val_loss did not improve\n",
      "Epoch 00148: val_loss did not improve\n",
      "Epoch 00149: val_loss did not improve\n",
      "Epoch 00150: val_loss did not improve\n",
      "Epoch 00151: val_loss did not improve\n",
      "Epoch 00152: val_loss did not improve\n",
      "Epoch 00153: val_loss did not improve\n",
      "Epoch 00154: val_loss did not improve\n",
      "Epoch 00155: val_loss did not improve\n",
      "Epoch 00156: val_loss did not improve\n"
     ]
    },
    {
     "name": "stdout",
     "output_type": "stream",
     "text": [
      "Epoch 00157: val_loss did not improve\n",
      "Epoch 00158: val_loss did not improve\n",
      "Epoch 00159: val_loss did not improve\n",
      "Epoch 00160: val_loss did not improve\n",
      "Epoch 00161: val_loss did not improve\n",
      "Epoch 00162: val_loss did not improve\n",
      "Epoch 00163: val_loss did not improve\n",
      "Epoch 00164: val_loss did not improve\n",
      "Epoch 00165: val_loss did not improve\n",
      "Epoch 00166: val_loss did not improve\n",
      "Epoch 00167: val_loss did not improve\n",
      "Epoch 00168: val_loss did not improve\n",
      "Epoch 00169: val_loss did not improve\n",
      "Epoch 00170: val_loss did not improve\n",
      "Epoch 00171: val_loss did not improve\n",
      "Epoch 00172: val_loss did not improve\n",
      "Epoch 00173: val_loss did not improve\n",
      "Epoch 00174: val_loss did not improve\n",
      "Epoch 00175: val_loss did not improve\n",
      "Epoch 00176: val_loss did not improve\n",
      "Epoch 00177: val_loss did not improve\n",
      "Epoch 00178: val_loss did not improve\n",
      "Epoch 00179: val_loss did not improve\n",
      "Epoch 00180: val_loss did not improve\n",
      "Epoch 00181: val_loss did not improve\n",
      "Epoch 00182: val_loss did not improve\n",
      "Epoch 00183: val_loss did not improve\n",
      "Epoch 00184: val_loss did not improve\n",
      "Epoch 00185: val_loss did not improve\n",
      "Epoch 00186: val_loss did not improve\n",
      "Epoch 00187: val_loss did not improve\n",
      "Epoch 00188: val_loss did not improve\n",
      "Epoch 00189: val_loss did not improve\n",
      "Epoch 00190: val_loss did not improve\n",
      "Epoch 00191: val_loss did not improve\n",
      "Epoch 00192: val_loss did not improve\n",
      "Epoch 00193: val_loss did not improve\n",
      "Epoch 00194: val_loss did not improve\n",
      "Epoch 00195: val_loss did not improve\n",
      "Epoch 00196: val_loss did not improve\n",
      "Epoch 00197: val_loss did not improve\n",
      "Epoch 00198: val_loss did not improve\n",
      "Epoch 00199: val_loss did not improve\n"
     ]
    }
   ],
   "source": [
    "hide_code\n",
    "# Train the model\n",
    "gray_checkpointer = ModelCheckpoint(filepath='weights.best.gray_model.hdf5', \n",
    "                                    verbose=2, save_best_only=True)\n",
    "gray_history = gray_model.fit(x_train2, y_train2, \n",
    "                              epochs=200, batch_size=64, verbose=0,\n",
    "                              validation_data=(x_valid2, y_valid2),\n",
    "                              callbacks=[gray_checkpointer])"
   ]
  },
  {
   "cell_type": "code",
   "execution_count": 37,
   "metadata": {},
   "outputs": [
    {
     "data": {
      "image/png": "[encoded data removed]",
      "text/plain": [
       "<matplotlib.figure.Figure at 0x18f6e16a0>"
      ]
     },
     "metadata": {},
     "output_type": "display_data"
    }
   ],
   "source": [
    "hide_code\n",
    "# Plot the training history\n",
    "history_plot(gray_history, 0)"
   ]
  },
  {
   "cell_type": "markdown",
   "metadata": {},
   "source": [
    "Try to reach an accuracy greater than 80%"
   ]
  },
  {
   "cell_type": "code",
   "execution_count": 38,
   "metadata": {},
   "outputs": [
    {
     "name": "stdout",
     "output_type": "stream",
     "text": [
      "1248/1254 [============================>.] - ETA: 0s"
     ]
    },
    {
     "data": {
      "text/plain": [
       "[0.34041649445392297, 0.89952153100541521]"
      ]
     },
     "execution_count": 38,
     "metadata": {},
     "output_type": "execute_result"
    }
   ],
   "source": [
    "hide_code\n",
    "# Load the model with the best validation accuracy\n",
    "gray_model.load_weights('weights.best.gray_model.hdf5')\n",
    "# Calculate classification accuracy on the testing set\n",
    "gray_score = gray_model.evaluate(x_test2, y_test2)\n",
    "gray_score"
   ]
  },
  {
   "cell_type": "markdown",
   "metadata": {},
   "source": [
    "Apply the ImageDataGenerator() function."
   ]
  },
  {
   "cell_type": "code",
   "execution_count": 63,
   "metadata": {},
   "outputs": [
    {
     "name": "stdout",
     "output_type": "stream",
     "text": [
      "Epoch 1/10\n",
      "Epoch 00000: val_loss did not improve\n",
      "633s - loss: 1.3229 - acc: 0.6317 - val_loss: 0.4411 - val_acc: 0.8692\n",
      "Epoch 2/10\n",
      "Epoch 00001: val_loss did not improve\n",
      "585s - loss: 1.2178 - acc: 0.6577 - val_loss: 0.4843 - val_acc: 0.8700\n",
      "Epoch 3/10\n",
      "Epoch 00002: val_loss did not improve\n",
      "589s - loss: 1.1815 - acc: 0.6654 - val_loss: 0.4043 - val_acc: 0.8923\n",
      "Epoch 4/10\n",
      "Epoch 00003: val_loss did not improve\n",
      "557s - loss: 1.1669 - acc: 0.6705 - val_loss: 0.4339 - val_acc: 0.8764\n",
      "Epoch 5/10\n",
      "Epoch 00004: val_loss did not improve\n",
      "508s - loss: 1.1560 - acc: 0.6767 - val_loss: 0.5334 - val_acc: 0.8493\n",
      "Epoch 6/10\n",
      "Epoch 00005: val_loss did not improve\n",
      "511s - loss: 1.1803 - acc: 0.6738 - val_loss: 0.4970 - val_acc: 0.8660\n",
      "Epoch 7/10\n",
      "Epoch 00006: val_loss did not improve\n",
      "558s - loss: 1.1895 - acc: 0.6711 - val_loss: 0.6149 - val_acc: 0.8174\n",
      "Epoch 8/10\n",
      "Epoch 00007: val_loss did not improve\n",
      "640s - loss: 1.2251 - acc: 0.6651 - val_loss: 0.4428 - val_acc: 0.8860\n",
      "Epoch 9/10\n",
      "Epoch 00008: val_loss did not improve\n",
      "610s - loss: 1.2165 - acc: 0.6679 - val_loss: 0.4492 - val_acc: 0.8740\n",
      "Epoch 10/10\n",
      "Epoch 00009: val_loss did not improve\n",
      "569s - loss: 1.2299 - acc: 0.6687 - val_loss: 0.4076 - val_acc: 0.9003\n"
     ]
    }
   ],
   "source": [
    "hide_code\n",
    "# Fit the model with ImageDataGenerator()\n",
    "# TODO: Define parameters\n",
    "steps, epochs = 1000, 10\n",
    "data_generator = ImageDataGenerator(zoom_range=0.2, shear_range=0.2, rotation_range=20)\n",
    "\n",
    "gray_generator = gray_model.fit_generator(data_generator.flow(x_train2, y_train2, batch_size=64),\n",
    "                                          steps_per_epoch = steps, epochs = epochs,\n",
    "                                          validation_data = (x_test2, y_test2), \n",
    "                                          callbacks=[gray_checkpointer], verbose=2)"
   ]
  },
  {
   "cell_type": "code",
   "execution_count": 64,
   "metadata": {},
   "outputs": [
    {
     "name": "stdout",
     "output_type": "stream",
     "text": [
      "1248/1254 [============================>.] - ETA: 0s"
     ]
    },
    {
     "data": {
      "text/plain": [
       "[0.34041649445392297, 0.89952153100541521]"
      ]
     },
     "execution_count": 64,
     "metadata": {},
     "output_type": "execute_result"
    }
   ],
   "source": [
    "hide_code\n",
    "# Load the model with the best validation accuracy\n",
    "gray_model.load_weights('weights.best.gray_model.hdf5')\n",
    "# Calculate classification accuracy on the testing set\n",
    "gray_score = gray_model.evaluate(x_test2, y_test2)\n",
    "gray_score"
   ]
  },
  {
   "cell_type": "markdown",
   "metadata": {},
   "source": [
    "Let's compare the results with classifying algorithms."
   ]
  },
  {
   "cell_type": "code",
   "execution_count": 67,
   "metadata": {},
   "outputs": [
    {
     "data": {
      "text/plain": [
       "0.31897926634768742"
      ]
     },
     "execution_count": 67,
     "metadata": {},
     "output_type": "execute_result"
    }
   ],
   "source": [
    "hide_code\n",
    "# Fit the classifier and get the accuracy score\n",
    "y_train2_c = np.array([np.argmax(y) for y in y_train2])\n",
    "y_test2_c = np.array([np.argmax(y) for y in y_test2])\n",
    "clf = GradientBoostingClassifier().fit(x_train2.reshape(-1, 32*32), y_train2_c)\n",
    "clf.score(x_test2.reshape(-1, 32*32), y_test2_c)"
   ]
  },
  {
   "cell_type": "code",
   "execution_count": 68,
   "metadata": {},
   "outputs": [
    {
     "data": {
      "text/plain": [
       "0.22089314194577353"
      ]
     },
     "execution_count": 68,
     "metadata": {},
     "output_type": "execute_result"
    }
   ],
   "source": [
    "hide_code\n",
    "# Fit the classifier and get the accuracy score\n",
    "clf2 = RandomForestClassifier().fit(x_train2.reshape(-1, 32*32), y_train2_c)\n",
    "clf2.score(x_test2.reshape(-1, 32*32), y_test2_c)"
   ]
  },
  {
   "cell_type": "markdown",
   "metadata": {},
   "source": [
    "## Step 5. Create a Multi-Label Classification Model\n",
    "### Color Images"
   ]
  },
  {
   "cell_type": "code",
   "execution_count": 54,
   "metadata": {
    "collapsed": true
   },
   "outputs": [],
   "source": [
    "hide_code\n",
    "def multi_model():    \n",
    "    model_input = Input(shape=(32, 32, 3))\n",
    "    x = BatchNormalization()(model_input)\n",
    "    # TODO: Define a model architecture\n",
    "    x = Conv2D(32, (5, 5), activation='relu', padding='same')(model_input)\n",
    "    x = MaxPooling2D(pool_size=(2, 2))(x)    \n",
    "    x = Dropout(0.25)(x)\n",
    "    \n",
    "    x = Conv2D(256, (5, 5), activation='relu', padding='same')(x)       \n",
    "    x = MaxPooling2D(pool_size=(2, 2))(x)    \n",
    "    x = Dropout(0.25)(x)\n",
    "              \n",
    "    x = GlobalMaxPooling2D()(x)\n",
    "    \n",
    "    x = Dense(1024, activation='relu')(x)    \n",
    "    x = Dropout(0.25)(x)\n",
    "    \n",
    "    x = Dense(256, activation='relu')(x)    \n",
    "    x = Dropout(0.25)(x) \n",
    "    \n",
    "    y1 = Dense(33, activation='softmax')(x)\n",
    "    y2 = Dense(2, activation='softmax')(x)\n",
    "    \n",
    "    model = Model(inputs=model_input, outputs=[y1, y2])\n",
    "    \n",
    "    # TODO: Compile the model\n",
    "    model.compile(loss='categorical_crossentropy', optimizer='nadam', metrics=['accuracy'])\n",
    "    return model\n",
    "\n",
    "multi_model = multi_model()"
   ]
  },
  {
   "cell_type": "code",
   "execution_count": 55,
   "metadata": {},
   "outputs": [
    {
     "name": "stdout",
     "output_type": "stream",
     "text": [
      "____________________________________________________________________________________________________\n",
      "Layer (type)                     Output Shape          Param #     Connected to                     \n",
      "====================================================================================================\n",
      "input_6 (InputLayer)             (None, 32, 32, 3)     0                                            \n",
      "____________________________________________________________________________________________________\n",
      "conv2d_15 (Conv2D)               (None, 32, 32, 32)    2432        input_6[0][0]                    \n",
      "____________________________________________________________________________________________________\n",
      "max_pooling2d_15 (MaxPooling2D)  (None, 16, 16, 32)    0           conv2d_15[0][0]                  \n",
      "____________________________________________________________________________________________________\n",
      "dropout_25 (Dropout)             (None, 16, 16, 32)    0           max_pooling2d_15[0][0]           \n",
      "____________________________________________________________________________________________________\n",
      "conv2d_16 (Conv2D)               (None, 16, 16, 256)   205056      dropout_25[0][0]                 \n",
      "____________________________________________________________________________________________________\n",
      "max_pooling2d_16 (MaxPooling2D)  (None, 8, 8, 256)     0           conv2d_16[0][0]                  \n",
      "____________________________________________________________________________________________________\n",
      "dropout_26 (Dropout)             (None, 8, 8, 256)     0           max_pooling2d_16[0][0]           \n",
      "____________________________________________________________________________________________________\n",
      "global_max_pooling2d_8 (GlobalMa (None, 256)           0           dropout_26[0][0]                 \n",
      "____________________________________________________________________________________________________\n",
      "dense_23 (Dense)                 (None, 1024)          263168      global_max_pooling2d_8[0][0]     \n",
      "____________________________________________________________________________________________________\n",
      "dropout_27 (Dropout)             (None, 1024)          0           dense_23[0][0]                   \n",
      "____________________________________________________________________________________________________\n",
      "dense_24 (Dense)                 (None, 256)           262400      dropout_27[0][0]                 \n",
      "____________________________________________________________________________________________________\n",
      "dropout_28 (Dropout)             (None, 256)           0           dense_24[0][0]                   \n",
      "____________________________________________________________________________________________________\n",
      "dense_25 (Dense)                 (None, 33)            8481        dropout_28[0][0]                 \n",
      "____________________________________________________________________________________________________\n",
      "dense_26 (Dense)                 (None, 2)             514         dropout_28[0][0]                 \n",
      "====================================================================================================\n",
      "Total params: 742,051\n",
      "Trainable params: 742,051\n",
      "Non-trainable params: 0\n",
      "____________________________________________________________________________________________________\n"
     ]
    }
   ],
   "source": [
    "hide_code\n",
    "# Display the model architecture\n",
    "multi_model.summary()"
   ]
  },
  {
   "cell_type": "code",
   "execution_count": 56,
   "metadata": {},
   "outputs": [
    {
     "name": "stdout",
     "output_type": "stream",
     "text": [
      "Epoch 00000: val_loss improved from inf to 4.19283, saving model to weights.best.multi.hdf5\n",
      "Epoch 00001: val_loss improved from 4.19283 to 4.18674, saving model to weights.best.multi.hdf5\n",
      "Epoch 00002: val_loss improved from 4.18674 to 4.17741, saving model to weights.best.multi.hdf5\n",
      "Epoch 00003: val_loss did not improve\n",
      "Epoch 00004: val_loss did not improve\n",
      "Epoch 00005: val_loss did not improve\n",
      "Epoch 00006: val_loss did not improve\n",
      "Epoch 00007: val_loss did not improve\n",
      "Epoch 00008: val_loss did not improve\n",
      "Epoch 00009: val_loss did not improve\n"
     ]
    }
   ],
   "source": [
    "hide_code\n",
    "# Train the model\n",
    "multi_checkpointer = ModelCheckpoint(filepath='weights.best.multi.hdf5', \n",
    "                                     verbose=2, save_best_only=True)\n",
    "multi_history = multi_model.fit(x_train3, y_train3_list, \n",
    "                                validation_data=(x_test3, y_test3_list), \n",
    "                                epochs=10, batch_size=64, verbose=0, \n",
    "                                callbacks=[multi_checkpointer])"
   ]
  },
  {
   "cell_type": "markdown",
   "metadata": {},
   "source": [
    "We should have an accuracy greater than 3% for the first target (letter) and greater than 50% for the second target (background)."
   ]
  },
  {
   "cell_type": "code",
   "execution_count": 57,
   "metadata": {},
   "outputs": [
    {
     "name": "stdout",
     "output_type": "stream",
     "text": [
      "Scores: \n",
      " [4.1774145564394134, 3.4451665680564383, 0.73224796100476519, 0.039872408317226729, 0.49282296660224029]\n",
      "First label. Accuracy: 3.99%\n",
      "Second label. Accuracy: 49.28%\n"
     ]
    }
   ],
   "source": [
    "hide_code\n",
    "# Load the model with the best validation accuracy\n",
    "multi_model.load_weights('weights.best.multi.hdf5')\n",
    "# Calculate classification accuracy on the testing set\n",
    "multi_scores = multi_model.evaluate(x_test3, y_test3_list, verbose=0)\n",
    "\n",
    "print(\"Scores: \\n\" , (multi_scores))\n",
    "print(\"First label. Accuracy: %.2f%%\" % (multi_scores[3]*100))\n",
    "print(\"Second label. Accuracy: %.2f%%\" % (multi_scores[4]*100))"
   ]
  },
  {
   "cell_type": "markdown",
   "metadata": {
    "collapsed": true
   },
   "source": [
    "### Grayscaled Images"
   ]
  },
  {
   "cell_type": "code",
   "execution_count": 58,
   "metadata": {
    "collapsed": true
   },
   "outputs": [],
   "source": [
    "hide_code\n",
    "def gray_multi_model():    \n",
    "    model_input = Input(shape=(32, 32, 1))\n",
    "    x = BatchNormalization()(model_input)\n",
    "    # TODO: Define a model architecture\n",
    "    x = Conv2D(32, (5, 5), activation='relu', padding='same')(model_input)\n",
    "    x = MaxPooling2D(pool_size=(2, 2))(x)    \n",
    "    x = Dropout(0.25)(x)\n",
    "    \n",
    "    x = Conv2D(256, (5, 5), activation='relu', padding='same')(x)       \n",
    "    x = MaxPooling2D(pool_size=(2, 2))(x)    \n",
    "    x = Dropout(0.25)(x)\n",
    "              \n",
    "    x = GlobalMaxPooling2D()(x)\n",
    "    \n",
    "    x = Dense(1024, activation='relu')(x)    \n",
    "    x = Dropout(0.25)(x)\n",
    "    \n",
    "    x = Dense(256, activation='relu')(x)    \n",
    "    x = Dropout(0.25)(x)\n",
    "    \n",
    "    y1 = Dense(33, activation='softmax')(x)\n",
    "    y2 = Dense(2, activation='softmax')(x)\n",
    "       \n",
    "    model = Model(inputs=model_input, outputs=[y1, y2])\n",
    "    # TODO: Compile the model\n",
    "\n",
    "    model.compile(loss='categorical_crossentropy', optimizer='rmsprop', metrics=['accuracy'])   \n",
    "    return model\n",
    "\n",
    "gray_multi_model = gray_multi_model()"
   ]
  },
  {
   "cell_type": "code",
   "execution_count": 59,
   "metadata": {},
   "outputs": [
    {
     "name": "stdout",
     "output_type": "stream",
     "text": [
      "Epoch 00000: val_loss improved from inf to 4.12388, saving model to weights.best.gray_multi.hdf5\n",
      "Epoch 00001: val_loss improved from 4.12388 to 4.08850, saving model to weights.best.gray_multi.hdf5\n",
      "Epoch 00002: val_loss improved from 4.08850 to 3.95714, saving model to weights.best.gray_multi.hdf5\n",
      "Epoch 00003: val_loss improved from 3.95714 to 3.58091, saving model to weights.best.gray_multi.hdf5\n",
      "Epoch 00004: val_loss improved from 3.58091 to 3.22485, saving model to weights.best.gray_multi.hdf5\n",
      "Epoch 00005: val_loss did not improve\n",
      "Epoch 00006: val_loss improved from 3.22485 to 3.10279, saving model to weights.best.gray_multi.hdf5\n",
      "Epoch 00007: val_loss did not improve\n",
      "Epoch 00008: val_loss did not improve\n",
      "Epoch 00009: val_loss improved from 3.10279 to 2.97522, saving model to weights.best.gray_multi.hdf5\n",
      "Epoch 00010: val_loss improved from 2.97522 to 2.93544, saving model to weights.best.gray_multi.hdf5\n",
      "Epoch 00011: val_loss improved from 2.93544 to 2.86560, saving model to weights.best.gray_multi.hdf5\n",
      "Epoch 00012: val_loss did not improve\n",
      "Epoch 00013: val_loss did not improve\n",
      "Epoch 00014: val_loss did not improve\n",
      "Epoch 00015: val_loss improved from 2.86560 to 2.66017, saving model to weights.best.gray_multi.hdf5\n",
      "Epoch 00016: val_loss did not improve\n",
      "Epoch 00017: val_loss improved from 2.66017 to 2.35667, saving model to weights.best.gray_multi.hdf5\n",
      "Epoch 00018: val_loss improved from 2.35667 to 2.28541, saving model to weights.best.gray_multi.hdf5\n",
      "Epoch 00019: val_loss did not improve\n",
      "Epoch 00020: val_loss improved from 2.28541 to 2.23184, saving model to weights.best.gray_multi.hdf5\n",
      "Epoch 00021: val_loss improved from 2.23184 to 1.91189, saving model to weights.best.gray_multi.hdf5\n",
      "Epoch 00022: val_loss did not improve\n",
      "Epoch 00023: val_loss improved from 1.91189 to 1.74872, saving model to weights.best.gray_multi.hdf5\n",
      "Epoch 00024: val_loss improved from 1.74872 to 1.70942, saving model to weights.best.gray_multi.hdf5\n",
      "Epoch 00025: val_loss did not improve\n",
      "Epoch 00026: val_loss improved from 1.70942 to 1.62458, saving model to weights.best.gray_multi.hdf5\n",
      "Epoch 00027: val_loss did not improve\n",
      "Epoch 00028: val_loss improved from 1.62458 to 1.46409, saving model to weights.best.gray_multi.hdf5\n",
      "Epoch 00029: val_loss did not improve\n",
      "Epoch 00030: val_loss improved from 1.46409 to 1.27239, saving model to weights.best.gray_multi.hdf5\n",
      "Epoch 00031: val_loss did not improve\n",
      "Epoch 00032: val_loss improved from 1.27239 to 1.16731, saving model to weights.best.gray_multi.hdf5\n",
      "Epoch 00033: val_loss did not improve\n",
      "Epoch 00034: val_loss did not improve\n",
      "Epoch 00035: val_loss improved from 1.16731 to 1.02109, saving model to weights.best.gray_multi.hdf5\n",
      "Epoch 00036: val_loss did not improve\n",
      "Epoch 00037: val_loss improved from 1.02109 to 0.94062, saving model to weights.best.gray_multi.hdf5\n",
      "Epoch 00038: val_loss did not improve\n",
      "Epoch 00039: val_loss did not improve\n",
      "Epoch 00040: val_loss did not improve\n",
      "Epoch 00041: val_loss did not improve\n",
      "Epoch 00042: val_loss improved from 0.94062 to 0.89336, saving model to weights.best.gray_multi.hdf5\n",
      "Epoch 00043: val_loss improved from 0.89336 to 0.80072, saving model to weights.best.gray_multi.hdf5\n",
      "Epoch 00044: val_loss did not improve\n",
      "Epoch 00045: val_loss did not improve\n",
      "Epoch 00046: val_loss improved from 0.80072 to 0.76805, saving model to weights.best.gray_multi.hdf5\n",
      "Epoch 00047: val_loss improved from 0.76805 to 0.75573, saving model to weights.best.gray_multi.hdf5\n",
      "Epoch 00048: val_loss improved from 0.75573 to 0.74306, saving model to weights.best.gray_multi.hdf5\n",
      "Epoch 00049: val_loss did not improve\n",
      "Epoch 00050: val_loss did not improve\n",
      "Epoch 00051: val_loss did not improve\n",
      "Epoch 00052: val_loss improved from 0.74306 to 0.71596, saving model to weights.best.gray_multi.hdf5\n",
      "Epoch 00053: val_loss did not improve\n",
      "Epoch 00054: val_loss did not improve\n",
      "Epoch 00055: val_loss did not improve\n",
      "Epoch 00056: val_loss did not improve\n",
      "Epoch 00057: val_loss improved from 0.71596 to 0.69136, saving model to weights.best.gray_multi.hdf5\n",
      "Epoch 00058: val_loss did not improve\n",
      "Epoch 00059: val_loss did not improve\n",
      "Epoch 00060: val_loss improved from 0.69136 to 0.68151, saving model to weights.best.gray_multi.hdf5\n",
      "Epoch 00061: val_loss improved from 0.68151 to 0.61470, saving model to weights.best.gray_multi.hdf5\n",
      "Epoch 00062: val_loss did not improve\n",
      "Epoch 00063: val_loss did not improve\n",
      "Epoch 00064: val_loss did not improve\n",
      "Epoch 00065: val_loss did not improve\n",
      "Epoch 00066: val_loss improved from 0.61470 to 0.52703, saving model to weights.best.gray_multi.hdf5\n",
      "Epoch 00067: val_loss did not improve\n",
      "Epoch 00068: val_loss did not improve\n",
      "Epoch 00069: val_loss did not improve\n",
      "Epoch 00070: val_loss did not improve\n",
      "Epoch 00071: val_loss did not improve\n",
      "Epoch 00072: val_loss did not improve\n",
      "Epoch 00073: val_loss did not improve\n",
      "Epoch 00074: val_loss improved from 0.52703 to 0.51538, saving model to weights.best.gray_multi.hdf5\n",
      "Epoch 00075: val_loss did not improve\n",
      "Epoch 00076: val_loss did not improve\n",
      "Epoch 00077: val_loss did not improve\n",
      "Epoch 00078: val_loss did not improve\n",
      "Epoch 00079: val_loss did not improve\n",
      "Epoch 00080: val_loss did not improve\n",
      "Epoch 00081: val_loss did not improve\n",
      "Epoch 00082: val_loss did not improve\n",
      "Epoch 00083: val_loss did not improve\n",
      "Epoch 00084: val_loss did not improve\n",
      "Epoch 00085: val_loss did not improve\n",
      "Epoch 00086: val_loss did not improve\n",
      "Epoch 00087: val_loss did not improve\n",
      "Epoch 00088: val_loss did not improve\n",
      "Epoch 00089: val_loss improved from 0.51538 to 0.49209, saving model to weights.best.gray_multi.hdf5\n",
      "Epoch 00090: val_loss did not improve\n",
      "Epoch 00091: val_loss did not improve\n",
      "Epoch 00092: val_loss did not improve\n",
      "Epoch 00093: val_loss did not improve\n",
      "Epoch 00094: val_loss did not improve\n",
      "Epoch 00095: val_loss improved from 0.49209 to 0.46024, saving model to weights.best.gray_multi.hdf5\n",
      "Epoch 00096: val_loss did not improve\n",
      "Epoch 00097: val_loss did not improve\n",
      "Epoch 00098: val_loss did not improve\n",
      "Epoch 00099: val_loss did not improve\n"
     ]
    }
   ],
   "source": [
    "hide_code\n",
    "# Train the model\n",
    "gray_multi_checkpointer = ModelCheckpoint(filepath='weights.best.gray_multi.hdf5', \n",
    "                                          verbose=2, save_best_only=True)\n",
    "gray_multi_history = gray_multi_model.fit(x_train4, y_train4_list, \n",
    "                                          validation_data=(x_test4, y_test4_list), \n",
    "                                          epochs=100, batch_size=64, verbose=0, \n",
    "                                          callbacks=[gray_multi_checkpointer])"
   ]
  },
  {
   "cell_type": "markdown",
   "metadata": {},
   "source": [
    "We should have an accuracy greater than 3% for the first target (letter) and greater than 50% for the second target (background)."
   ]
  },
  {
   "cell_type": "code",
   "execution_count": 60,
   "metadata": {},
   "outputs": [
    {
     "name": "stdout",
     "output_type": "stream",
     "text": [
      "Scores: \n",
      " [0.46023634204453828, 0.45373355859869785, 0.0065027880134243682, 0.8564593301435407, 0.99840510366826152]\n",
      "First label. Accuracy: 85.65%\n",
      "Second label. Accuracy: 99.84%\n"
     ]
    }
   ],
   "source": [
    "hide_code\n",
    "# Load the model with the best validation accuracy\n",
    "gray_multi_model.load_weights('weights.best.gray_multi.hdf5')\n",
    "# Calculate classification accuracy on the testing set\n",
    "gray_multi_scores = gray_multi_model.evaluate(x_test4, y_test4_list, verbose=0)\n",
    "\n",
    "print(\"Scores: \\n\" , (gray_multi_scores))\n",
    "print(\"First label. Accuracy: %.2f%%\" % (gray_multi_scores[3]*100))\n",
    "print(\"Second label. Accuracy: %.2f%%\" % (gray_multi_scores[4]*100))"
   ]
  },
  {
   "cell_type": "markdown",
   "metadata": {},
   "source": [
    "## Step 6. Keras Applications\n",
    "Choose one of the keras applications and try to reach an accuracy greater than 30%\n",
    "### Color Images"
   ]
  },
  {
   "cell_type": "code",
   "execution_count": null,
   "metadata": {
    "collapsed": true
   },
   "outputs": [],
   "source": [
    "# Create bottleneck features\n",
    "resize_x_train = np.array([scipy.misc.imresize(x_train[i], (139, 139, 3)) \n",
    "                           for i in range(0, len(x_train))]).astype('float32')\n",
    "resize_x_test = np.array([scipy.misc.imresize(x_test[i], (139, 139, 3)) \n",
    "                          for i in range(0, len(x_test))]).astype('float32')\n",
    "resize_x_valid = np.array([scipy.misc.imresize(x_valid[i], (139, 139, 3)) \n",
    "                          for i in range(0, len(x_valid))]).astype('float32')\n",
    "\n",
    "iv3_x_train = preprocess_input(resize_x_train)\n",
    "iv3_x_test = preprocess_input(resize_x_test)\n",
    "iv3_x_valid = preprocess_input(resize_x_valid)\n",
    "\n",
    "iv3_base_model = InceptionV3(weights='imagenet', include_top=False)\n",
    "x_train_bn = iv3_base_model.predict(iv3_x_train)\n",
    "x_test_bn = iv3_base_model.predict(iv3_x_test)\n",
    "x_valid_bn = iv3_base_model.predict(iv3_x_valid)"
   ]
  },
  {
   "cell_type": "code",
   "execution_count": null,
   "metadata": {
    "collapsed": true
   },
   "outputs": [],
   "source": [
    "# Save bottleneck features\n",
    "x_train_bn = np.squeeze(x_train_bn)\n",
    "x_test_bn = np.squeeze(x_test_bn)\n",
    "x_valid_bn = np.squeeze(x_valid_bn)\n",
    "\n",
    "np.save('x_train_bn.npy', x_train_bn)\n",
    "np.save('x_test_bn.npy', x_test_bn)\n",
    "np.save('x_valid_bn.npy', x_valid_bn)"
   ]
  },
  {
   "cell_type": "code",
   "execution_count": null,
   "metadata": {
    "collapsed": true
   },
   "outputs": [],
   "source": [
    "# Load bottleneck features\n",
    "x_train_bn = np.load('x_train_bn.npy')\n",
    "x_test_bn = np.load('x_test_bn.npy')\n",
    "x_valid_bn = np.load('x_valid_bn.npy')"
   ]
  },
  {
   "cell_type": "code",
   "execution_count": null,
   "metadata": {
    "collapsed": true
   },
   "outputs": [],
   "source": [
    "hide_code\n",
    "def iv3_model():\n",
    "    model = Sequential()\n",
    "    # TODO: Define a model architecture\n",
    "    model.add(Conv2D(filters=32, kernel_size=2, input_shape=x_train_bn.shape[1:]))\n",
    "    model.add(MaxPooling2D(pool_size=(2, 2)))\n",
    "    model.add(Dropout(0.25))\n",
    "    \n",
    "    model.add(GlobalAveragePooling2D())\n",
    "    model.add(Dropout(0.25))\n",
    "    \n",
    "    model.add(Dense(2048, activation='relu'))\n",
    "    model.add(Dropout(0.25))\n",
    "        \n",
    "    model.add(Dense(512, activation='relu'))\n",
    "    model.add(Dropout(0.25))\n",
    "    \n",
    "    model.add(Dense(33, activation='softmax'))\n",
    "    \n",
    "    # TODO: Compile the model \n",
    "    model.compile(loss='categorical_crossentropy', optimizer='rmsprop', metrics=['accuracy'])    \n",
    "\n",
    "    return model\n",
    "\n",
    "iv3_model = iv3_model()"
   ]
  },
  {
   "cell_type": "code",
   "execution_count": null,
   "metadata": {
    "collapsed": true
   },
   "outputs": [],
   "source": [
    "hide_code\n",
    "# Fit the model \n",
    "iv3_checkpointer = ModelCheckpoint(filepath='weights.best.iv3.hdf5', \n",
    "                                     verbose=2, save_best_only=True)\n",
    "iv3_history = iv3_model.fit(x_train_bn, y_train, \n",
    "                            validation_data=(x_valid_bn, y_valid),\n",
    "                            epochs=50, batch_size=64, \n",
    "                            callbacks=[iv3_checkpointer], verbose=0);"
   ]
  },
  {
   "cell_type": "code",
   "execution_count": null,
   "metadata": {
    "collapsed": true
   },
   "outputs": [],
   "source": [
    "hide_code\n",
    "# Plot the training history\n",
    "history_plot(iv3_history, 0)"
   ]
  },
  {
   "cell_type": "code",
   "execution_count": null,
   "metadata": {
    "collapsed": true
   },
   "outputs": [],
   "source": [
    "hide_code\n",
    "# Load the model with the best validation accuracy\n",
    "iv3_model.load_weights('weights.best.iv3.hdf5')\n",
    "# Calculate classification accuracy on the testing set\n",
    "iv3_scores = iv3_model.evaluate(x_test_bn, y_test)\n",
    "print(\"Accuracy: %.2f%%\" % (iv3_scores[1]*100))\n",
    "iv3_scores"
   ]
  },
  {
   "cell_type": "markdown",
   "metadata": {},
   "source": [
    "### Grayscaled Images"
   ]
  },
  {
   "cell_type": "code",
   "execution_count": null,
   "metadata": {
    "collapsed": true
   },
   "outputs": [],
   "source": [
    "# Create bottleneck features\n",
    "resize_x_train2 = np.array([scipy.misc.imresize(x_train2_color[i], (139, 139, 3)) \n",
    "                            for i in range(0, len(x_train2_color))]).astype('float32')\n",
    "resize_x_test2 = np.array([scipy.misc.imresize(x_test2_color[i], (139, 139, 3)) \n",
    "                           for i in range(0, len(x_test2_color))]).astype('float32')\n",
    "resize_x_valid2 = np.array([scipy.misc.imresize(x_valid2_color[i], (139, 139, 3)) \n",
    "                           for i in range(0, len(x_valid2_color))]).astype('float32')\n",
    "\n",
    "iv3_x_train2 = preprocess_input(resize_x_train2)\n",
    "iv3_x_test2 = preprocess_input(resize_x_test2)\n",
    "iv3_x_valid2 = preprocess_input(resize_x_valid2)\n",
    "\n",
    "iv3_base_model2 = InceptionV3(weights='imagenet', include_top=False)\n",
    "x_train_bn2 = iv3_base_model2.predict(iv3_x_train2)\n",
    "x_test_bn2 = iv3_base_model2.predict(iv3_x_test2)\n",
    "x_valid_bn2 = iv3_base_model2.predict(iv3_x_valid2)"
   ]
  },
  {
   "cell_type": "code",
   "execution_count": null,
   "metadata": {
    "collapsed": true
   },
   "outputs": [],
   "source": [
    "# Save bottleneck features\n",
    "x_train_bn2 = np.squeeze(x_train_bn2)\n",
    "x_test_bn2 = np.squeeze(x_test_bn2)\n",
    "x_valid_bn2 = np.squeeze(x_valid_bn2)\n",
    "\n",
    "np.save('x_train_bn2.npy', x_train_bn2)\n",
    "np.save('x_test_bn2.npy', x_test_bn2)\n",
    "np.save('x_valid_bn2.npy', x_valid_bn2)"
   ]
  },
  {
   "cell_type": "code",
   "execution_count": null,
   "metadata": {
    "collapsed": true
   },
   "outputs": [],
   "source": [
    "# Load bottleneck features\n",
    "x_train_bn2 = np.load('x_train_bn2.npy')\n",
    "x_test_bn2 = np.load('x_test_bn2.npy')\n",
    "x_valid_bn2 = np.load('x_valid_bn2.npy')"
   ]
  },
  {
   "cell_type": "code",
   "execution_count": null,
   "metadata": {
    "collapsed": true
   },
   "outputs": [],
   "source": [
    "hide_code\n",
    "def iv3_gray_model():\n",
    "    model = Sequential()\n",
    "    # TODO: Define a model architecture\n",
    "    model.add(Conv2D(filters=32, kernel_size=2, input_shape=x_train_bn2.shape[1:]))\n",
    "    model.add(MaxPooling2D(pool_size=(2, 2)))\n",
    "    model.add(Dropout(0.25))\n",
    "    \n",
    "    model.add(GlobalAveragePooling2D())\n",
    "    model.add(Dropout(0.25))\n",
    "    \n",
    "    model.add(Dense(1024, activation='relu'))\n",
    "    model.add(Dropout(0.25))\n",
    "        \n",
    "    model.add(Dense(256, activation='relu'))\n",
    "    model.add(Dropout(0.25))\n",
    "    \n",
    "    model.add(Dense(33, activation='softmax'))\n",
    "    # TODO: Compile the model     \n",
    "    model.compile(loss='categorical_crossentropy', optimizer='rmsprop', metrics=['accuracy'])\n",
    "    return model\n",
    "\n",
    "iv3_gray_model = iv3_gray_model()"
   ]
  },
  {
   "cell_type": "code",
   "execution_count": null,
   "metadata": {
    "collapsed": true
   },
   "outputs": [],
   "source": [
    "hide_code\n",
    "# Fit the model \n",
    "iv3_gray_checkpointer = ModelCheckpoint(filepath='weights.best.iv3_gray.hdf5', \n",
    "                                        verbose=2, save_best_only=True)\n",
    "iv3_gray_history = iv3_gray_model.fit(x_train_bn2, y_train2, \n",
    "                                      validation_data=(x_valid_bn2, y_valid2),\n",
    "                                      epochs=50, batch_size=64, \n",
    "                                      callbacks=[iv3_gray_checkpointer], verbose=0);"
   ]
  },
  {
   "cell_type": "code",
   "execution_count": null,
   "metadata": {
    "collapsed": true
   },
   "outputs": [],
   "source": [
    "hide_code\n",
    "# Plot the training history\n",
    "history_plot(iv3_gray_history, 0)"
   ]
  },
  {
   "cell_type": "code",
   "execution_count": null,
   "metadata": {
    "collapsed": true
   },
   "outputs": [],
   "source": [
    "hide_code\n",
    "# Load the model with the best validation accuracy\n",
    "iv3_gray_model.load_weights('weights.best.iv3_gray.hdf5')\n",
    "# Calculate classification accuracy on the testing set\n",
    "iv3_gray_scores = iv3_gray_model.evaluate(x_test_bn2, y_test2)\n",
    "print(\"Accuracy: %.2f%%\" % (iv3_gray_scores[1]*100))\n",
    "iv3_gray_scores"
   ]
  },
  {
   "cell_type": "markdown",
   "metadata": {},
   "source": [
    "## Step 7. Predictions\n",
    "Display predictions for the models with the best accuracy.\n",
    "### Color Images"
   ]
  },
  {
   "cell_type": "code",
   "execution_count": null,
   "metadata": {
    "collapsed": true
   },
   "outputs": [],
   "source": [
    "hide_code\n",
    "# Create a list of symbols\n",
    "symbols = ['а','б','в','г','д','е','ё','ж','з','и','й',\n",
    "           'к','л','м','н','о','п','р','с','т','у','ф',\n",
    "           'х','ц','ч','ш','щ','ъ','ы','ь','э','ю','я']"
   ]
  },
  {
   "cell_type": "code",
   "execution_count": null,
   "metadata": {
    "collapsed": true
   },
   "outputs": [],
   "source": [
    "hide_code\n",
    "# Model predictions for the testing dataset\n",
    "y_test_predict = iv3_model.predict_classes(x_test_bn)"
   ]
  },
  {
   "cell_type": "code",
   "execution_count": null,
   "metadata": {
    "collapsed": true
   },
   "outputs": [],
   "source": [
    "hide_code\n",
    "# Display true labels and predictions\n",
    "fig = plt.figure(figsize=(18, 18))\n",
    "for i, idx in enumerate(np.random.choice(x_test.shape[0], size=16, replace=False)):\n",
    "    ax = fig.add_subplot(4, 4, i + 1, xticks=[], yticks=[])\n",
    "    ax.imshow(np.squeeze(x_test[idx]))\n",
    "    pred_idx = y_test_predict[idx]\n",
    "    true_idx = np.argmax(y_test[idx])\n",
    "    ax.set_title(\"{} ({})\".format(symbols[pred_idx], symbols[true_idx]),\n",
    "                 color=(\"#4876ff\" if pred_idx == true_idx else \"darkred\"))"
   ]
  },
  {
   "cell_type": "markdown",
   "metadata": {},
   "source": [
    "### Grayscaled Images"
   ]
  },
  {
   "cell_type": "code",
   "execution_count": null,
   "metadata": {
    "collapsed": true
   },
   "outputs": [],
   "source": [
    "hide_code\n",
    "# Model predictions for the testing dataset\n",
    "y_test2_predict = gray_model.predict_classes(x_test2)"
   ]
  },
  {
   "cell_type": "code",
   "execution_count": null,
   "metadata": {
    "collapsed": true
   },
   "outputs": [],
   "source": [
    "hide_code\n",
    "# Display true labels and predictions\n",
    "fig = plt.figure(figsize=(18, 18))\n",
    "for i, idx in enumerate(np.random.choice(x_test2.shape[0], size=16, replace=False)):\n",
    "    ax = fig.add_subplot(4, 4, i + 1, xticks=[], yticks=[])\n",
    "    ax.imshow(np.squeeze(x_test2[idx]), cmap=cm.bone)\n",
    "    pred_idx = y_test2_predict[idx]\n",
    "    true_idx = np.argmax(y_test2[idx])\n",
    "    ax.set_title(\"{} ({})\".format(symbols[pred_idx], symbols[true_idx]),\n",
    "                 color=(\"#4876ff\" if pred_idx == true_idx else \"darkred\"))"
   ]
  }
 ],
 "metadata": {
  "kernelspec": {
   "display_name": "Python 3",
   "language": "python",
   "name": "python3"
  },
  "language_info": {
   "codemirror_mode": {
    "name": "ipython",
    "version": 3
   },
   "file_extension": ".py",
   "mimetype": "text/x-python",
   "name": "python",
   "nbconvert_exporter": "python",
   "pygments_lexer": "ipython3",
   "version": "3.6.1"
  }
 },
 "nbformat": 4,
 "nbformat_minor": 2
}
