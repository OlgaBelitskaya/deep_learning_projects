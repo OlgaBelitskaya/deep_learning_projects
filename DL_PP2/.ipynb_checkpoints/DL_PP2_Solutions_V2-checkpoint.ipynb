{
 "cells": [
  {
   "cell_type": "markdown",
   "metadata": {},
   "source": [
    "# Deep Learning\n",
    "## Practice Projects\n",
    "# P2: Multi-Label Classification\n",
    "\n",
    "## Step 0. Style and Libraries\n",
    "Let's choose a style of the Jupyter notebook and import the software libraries. The command hide_code will hide the code cells."
   ]
  },
  {
   "cell_type": "code",
   "execution_count": 1,
   "metadata": {},
   "outputs": [
    {
     "data": {
      "text/html": [
       "<style>\n",
       "@import url('https://fonts.googleapis.com/css?family=Orbitron|Roboto');\n",
       "body {background-color: aliceblue;} \n",
       "a {color: #4876ff; font-family: 'Roboto';} \n",
       "h1 {color: #348ABD; font-family: 'Orbitron'; text-shadow: 4px 4px 4px #ccc;} \n",
       "h2, h3 {color: slategray; font-family: 'Roboto'; text-shadow: 4px 4px 4px #ccc;}\n",
       "h4 {color: #348ABD; font-family: 'Orbitron';}\n",
       "span {text-shadow: 4px 4px 4px #ccc;}\n",
       "div.output_prompt, div.output_area pre {color: slategray;}\n",
       "div.input_prompt, div.output_subarea {color: #4876ff;}      \n",
       "div.output_stderr pre {background-color: aliceblue;}  \n",
       "div.output_stderr {background-color: slategrey;}                        \n",
       "</style>\n",
       "<script>\n",
       "code_show = true; \n",
       "function code_display() {\n",
       "    if (code_show) {\n",
       "        $('div.input').each(function(id) {\n",
       "            if (id == 0 || $(this).html().indexOf('hide_code') > -1) {$(this).hide();}\n",
       "        });\n",
       "        $('div.output_prompt').css('opacity', 0);\n",
       "    } else {\n",
       "        $('div.input').each(function(id) {$(this).show();});\n",
       "        $('div.output_prompt').css('opacity', 1);\n",
       "    };\n",
       "    code_show = !code_show;\n",
       "} \n",
       "$(document).ready(code_display);\n",
       "</script>\n",
       "<form action=\"javascript: code_display()\">\n",
       "<input style=\"color: #348ABD; background: aliceblue; opacity: 0.8;\" \\ \n",
       "type=\"submit\" value=\"Click to display or hide code cells\">\n",
       "</form>                  "
      ],
      "text/plain": [
       "<IPython.core.display.HTML object>"
      ]
     },
     "metadata": {},
     "output_type": "display_data"
    }
   ],
   "source": [
    "%%html\n",
    "<style>\n",
    "@import url('https://fonts.googleapis.com/css?family=Orbitron|Roboto');\n",
    "body {background-color: aliceblue;} \n",
    "a {color: #4876ff; font-family: 'Roboto';} \n",
    "h1 {color: #348ABD; font-family: 'Orbitron'; text-shadow: 4px 4px 4px #ccc;} \n",
    "h2, h3 {color: slategray; font-family: 'Roboto'; text-shadow: 4px 4px 4px #ccc;}\n",
    "h4 {color: #348ABD; font-family: 'Orbitron';}\n",
    "span {text-shadow: 4px 4px 4px #ccc;}\n",
    "div.output_prompt, div.output_area pre {color: slategray;}\n",
    "div.input_prompt, div.output_subarea {color: #4876ff;}      \n",
    "div.output_stderr pre {background-color: aliceblue;}  \n",
    "div.output_stderr {background-color: slategrey;}                        \n",
    "</style>\n",
    "<script>\n",
    "code_show = true; \n",
    "function code_display() {\n",
    "    if (code_show) {\n",
    "        $('div.input').each(function(id) {\n",
    "            if (id == 0 || $(this).html().indexOf('hide_code') > -1) {$(this).hide();}\n",
    "        });\n",
    "        $('div.output_prompt').css('opacity', 0);\n",
    "    } else {\n",
    "        $('div.input').each(function(id) {$(this).show();});\n",
    "        $('div.output_prompt').css('opacity', 1);\n",
    "    };\n",
    "    code_show = !code_show;\n",
    "} \n",
    "$(document).ready(code_display);\n",
    "</script>\n",
    "<form action=\"javascript: code_display()\">\n",
    "<input style=\"color: #348ABD; background: aliceblue; opacity: 0.8;\" \\ \n",
    "type=\"submit\" value=\"Click to display or hide code cells\">\n",
    "</form>                  "
   ]
  },
  {
   "cell_type": "code",
   "execution_count": 2,
   "metadata": {},
   "outputs": [
    {
     "name": "stderr",
     "output_type": "stream",
     "text": [
      "Using TensorFlow backend.\n"
     ]
    }
   ],
   "source": [
    "hide_code = ''\n",
    "import numpy as np \n",
    "import pandas as pd\n",
    "import tensorflow as tf\n",
    "\n",
    "from PIL import ImageFile\n",
    "from tqdm import tqdm\n",
    "import h5py\n",
    "import cv2\n",
    "\n",
    "import matplotlib.pylab as plt\n",
    "from matplotlib import cm\n",
    "%matplotlib inline\n",
    "\n",
    "from sklearn.model_selection import train_test_split\n",
    "from sklearn.ensemble import GradientBoostingClassifier, RandomForestClassifier\n",
    "\n",
    "from keras.utils import to_categorical\n",
    "from keras.preprocessing import image as keras_image\n",
    "from keras.callbacks import ModelCheckpoint\n",
    "from keras.preprocessing.image import ImageDataGenerator\n",
    "\n",
    "from keras.models import Sequential, load_model, Model\n",
    "from keras.layers import Input, BatchNormalization\n",
    "from keras.layers import Dense, LSTM, GlobalAveragePooling1D, GlobalAveragePooling2D\n",
    "from keras.layers import Activation, Flatten, Dropout, BatchNormalization\n",
    "from keras.layers import Conv2D, MaxPooling2D, GlobalMaxPooling2D\n",
    "\n",
    "from keras.applications.inception_v3 import InceptionV3, preprocess_input\n",
    "import scipy\n",
    "from scipy import misc"
   ]
  },
  {
   "cell_type": "code",
   "execution_count": 3,
   "metadata": {
    "collapsed": true
   },
   "outputs": [],
   "source": [
    "hide_code\n",
    "# Plot the neural network fitting history\n",
    "def history_plot(fit_history, n):\n",
    "    plt.figure(figsize=(18, 12))\n",
    "    \n",
    "    plt.subplot(211)\n",
    "    plt.plot(fit_history.history['loss'][n:], color='slategray', label = 'train')\n",
    "    plt.plot(fit_history.history['val_loss'][n:], color='#4876ff', label = 'valid')\n",
    "    plt.xlabel(\"Epochs\")\n",
    "    plt.ylabel(\"Loss\")\n",
    "    plt.legend()\n",
    "    plt.title('Loss Function');  \n",
    "    \n",
    "    plt.subplot(212)\n",
    "    plt.plot(fit_history.history['acc'][n:], color='slategray', label = 'train')\n",
    "    plt.plot(fit_history.history['val_acc'][n:], color='#4876ff', label = 'valid')\n",
    "    plt.xlabel(\"Epochs\")\n",
    "    plt.ylabel(\"Accuracy\")    \n",
    "    plt.legend()\n",
    "    plt.title('Accuracy');"
   ]
  },
  {
   "cell_type": "markdown",
   "metadata": {},
   "source": [
    "## Step 1. Load and Explore the Data\n",
    "For this project, I have created two datasets of color images (32x32x3) with 33 handwritten letters.\n",
    "Run the following cell to download the data."
   ]
  },
  {
   "cell_type": "code",
   "execution_count": 4,
   "metadata": {
    "collapsed": true
   },
   "outputs": [],
   "source": [
    "hide_code\n",
    "# Function for processing an image\n",
    "def image_to_tensor(img_path, folder_path):\n",
    "    img = keras_image.load_img(folder_path + img_path, target_size=(32, 32))\n",
    "    x = keras_image.img_to_array(img)\n",
    "    return np.expand_dims(x, axis=0)\n",
    "# Function for creating the data tensor\n",
    "def data_to_tensor(img_paths, folder_path):\n",
    "    list_of_tensors = [image_to_tensor(img_path, folder_path) for img_path in tqdm(img_paths)]\n",
    "    return np.vstack(list_of_tensors)\n",
    "ImageFile.LOAD_TRUNCATED_IMAGES = True "
   ]
  },
  {
   "cell_type": "code",
   "execution_count": 5,
   "metadata": {},
   "outputs": [
    {
     "name": "stderr",
     "output_type": "stream",
     "text": [
      "100%|██████████| 5940/5940 [01:57<00:00, 50.52it/s]\n"
     ]
    }
   ],
   "source": [
    "hide_code\n",
    "# Load the dataset #2\n",
    "data2 = pd.read_csv(\"data2/letters2.csv\")\n",
    "files2 = data2['file']\n",
    "letters2 = data2['letter']\n",
    "backgrounds2 = data2['background'].as_matrix()\n",
    "targets2 = data2['label'].as_matrix()\n",
    "tensors2 = data_to_tensor(files2, \"data2/\");"
   ]
  },
  {
   "cell_type": "code",
   "execution_count": 6,
   "metadata": {},
   "outputs": [
    {
     "name": "stderr",
     "output_type": "stream",
     "text": [
      "100%|██████████| 5200/5200 [02:15<00:00, 38.24it/s]\n"
     ]
    }
   ],
   "source": [
    "hide_code\n",
    "# Load the dataset #2\n",
    "data3 = pd.read_csv(\"data3/letters3.csv\")\n",
    "files3 = data3['file']\n",
    "letters3 = data3['letter']\n",
    "backgrounds3 = data3['background'].as_matrix()\n",
    "targets3 = data3['label'].as_matrix()\n",
    "tensors3 = data_to_tensor(files3, \"data3/\");"
   ]
  },
  {
   "cell_type": "code",
   "execution_count": 7,
   "metadata": {},
   "outputs": [
    {
     "name": "stdout",
     "output_type": "stream",
     "text": [
      "Tensor #2 shape: (5940, 32, 32, 3)\n",
      "Target #2 shape (5940,)\n",
      "Tensor #3 shape: (5200, 32, 32, 3)\n",
      "Target #3 shape (5200,)\n"
     ]
    }
   ],
   "source": [
    "hide_code\n",
    "# Print the shape \n",
    "print ('Tensor #2 shape:', tensors2.shape)\n",
    "print ('Target #2 shape', targets2.shape)\n",
    "print ('Tensor #3 shape:', tensors3.shape)\n",
    "print ('Target #3 shape', targets3.shape)"
   ]
  },
  {
   "cell_type": "code",
   "execution_count": 8,
   "metadata": {},
   "outputs": [
    {
     "name": "stdout",
     "output_type": "stream",
     "text": [
      "Tensor shape: (11140, 32, 32, 3)\n",
      "Target shape (11140,)\n",
      "Background shape: (11140,)\n"
     ]
    }
   ],
   "source": [
    "hide_code\n",
    "# Concatenate arrays\n",
    "tensors = np.concatenate((tensors2, tensors3), axis=0)\n",
    "targets = np.concatenate((targets2, targets3), axis=0)\n",
    "backgrounds = np.concatenate((backgrounds2, backgrounds3), axis=0)\n",
    "print ('Tensor shape:', tensors.shape)\n",
    "print ('Target shape', targets.shape)\n",
    "print ('Background shape:', backgrounds.shape)"
   ]
  },
  {
   "cell_type": "code",
   "execution_count": 9,
   "metadata": {},
   "outputs": [
    {
     "data": {
      "text/plain": [
       "11140"
      ]
     },
     "execution_count": 9,
     "metadata": {},
     "output_type": "execute_result"
    }
   ],
   "source": [
    "hide_code\n",
    "# Concatenate series\n",
    "letters = pd.concat((letters2, letters3), axis=0, ignore_index=True)\n",
    "len(letters)"
   ]
  },
  {
   "cell_type": "code",
   "execution_count": 10,
   "metadata": {},
   "outputs": [
    {
     "data": {
      "image/png": "[encoded data removed]",
      "text/plain": [
       "<matplotlib.figure.Figure at 0x118f725f8>"
      ]
     },
     "metadata": {},
     "output_type": "display_data"
    }
   ],
   "source": [
    "hide_code\n",
    "# Read from files and display images using OpenCV\n",
    "def display_images(img_path, ax):\n",
    "    img = cv2.imread(\"data2/\" + img_path)\n",
    "    ax.imshow(cv2.cvtColor(img, cv2.COLOR_BGR2RGB))\n",
    "    \n",
    "fig = plt.figure(figsize=(18, 6))\n",
    "for i in range(12):\n",
    "    ax = fig.add_subplot(2, 6, i + 1, xticks=[], yticks=[], title=letters2[i*180])\n",
    "    display_images(files2[i*180], ax)"
   ]
  },
  {
   "cell_type": "code",
   "execution_count": 11,
   "metadata": {},
   "outputs": [
    {
     "data": {
      "image/png": "[encoded data removed]",
      "text/plain": [
       "<matplotlib.figure.Figure at 0x12e75c0f0>"
      ]
     },
     "metadata": {},
     "output_type": "display_data"
    }
   ],
   "source": [
    "hide_code\n",
    "# Read from files and display images using OpenCV\n",
    "def display_images(img_path, ax):\n",
    "    img = cv2.imread(\"data3/\" + img_path)\n",
    "    ax.imshow(cv2.cvtColor(img, cv2.COLOR_BGR2RGB))\n",
    "    \n",
    "fig = plt.figure(figsize=(18, 6))\n",
    "for i in range(12):\n",
    "    ax = fig.add_subplot(2, 6, i + 1, xticks=[], yticks=[], title=letters3[i*200])\n",
    "    display_images(files3[i*200], ax)"
   ]
  },
  {
   "cell_type": "markdown",
   "metadata": {},
   "source": [
    "## Step 2. Save and Load the Data\n",
    "The data tensors can be saved in the appropriate format of files .h5."
   ]
  },
  {
   "cell_type": "code",
   "execution_count": 12,
   "metadata": {
    "collapsed": true
   },
   "outputs": [],
   "source": [
    "hide_code\n",
    "# Create the tensor file\n",
    "with h5py.File('LetterColorImages_23.h5', 'w') as f:\n",
    "    f.create_dataset('images', data = tensors)\n",
    "    f.create_dataset('labels', data = targets)\n",
    "    f.create_dataset('backgrounds', data = backgrounds)\n",
    "    f.close()"
   ]
  },
  {
   "cell_type": "code",
   "execution_count": 13,
   "metadata": {},
   "outputs": [
    {
     "data": {
      "text/plain": [
       "['backgrounds', 'images', 'labels']"
      ]
     },
     "execution_count": 13,
     "metadata": {},
     "output_type": "execute_result"
    }
   ],
   "source": [
    "hide_code\n",
    "# Read the h5 file\n",
    "f = h5py.File('LetterColorImages_23.h5', 'r')\n",
    "\n",
    "# List all groups\n",
    "keys = list(f.keys())\n",
    "keys"
   ]
  },
  {
   "cell_type": "code",
   "execution_count": 14,
   "metadata": {},
   "outputs": [
    {
     "name": "stdout",
     "output_type": "stream",
     "text": [
      "Tensor shape: (11140, 32, 32, 3)\n",
      "Target shape (11140,)\n",
      "Background shape: (11140,)\n"
     ]
    }
   ],
   "source": [
    "hide_code\n",
    "# Create tensors and targets\n",
    "backgrounds = np.array(f[keys[0]])\n",
    "tensors = np.array(f[keys[1]])\n",
    "targets = np.array(f[keys[2]])\n",
    "print ('Tensor shape:', tensors.shape)\n",
    "print ('Target shape', targets.shape)\n",
    "print ('Background shape:', backgrounds.shape)"
   ]
  },
  {
   "cell_type": "markdown",
   "metadata": {},
   "source": [
    "## Step 3. Implement Preprocess Functions\n",
    "### Normalize and Gray Scale\n",
    "In the cell below, normalize the image tensors, and return them as a normalized Numpy array."
   ]
  },
  {
   "cell_type": "code",
   "execution_count": 15,
   "metadata": {
    "collapsed": true
   },
   "outputs": [],
   "source": [
    "hide_code\n",
    "# Normalize the tensors\n",
    "tensors = tensors.astype('float32')/255"
   ]
  },
  {
   "cell_type": "code",
   "execution_count": 16,
   "metadata": {},
   "outputs": [
    {
     "name": "stdout",
     "output_type": "stream",
     "text": [
      "Label:  ж\n"
     ]
    },
    {
     "data": {
      "image/png": "[encoded data removed]",
      "text/plain": [
       "<matplotlib.figure.Figure at 0x12e5ea780>"
      ]
     },
     "metadata": {},
     "output_type": "display_data"
    }
   ],
   "source": [
    "hide_code\n",
    "# Read and display a tensor using Matplotlib\n",
    "print('Label: ', letters[7500])\n",
    "plt.figure(figsize=(3,3))\n",
    "plt.imshow(tensors[7500]);"
   ]
  },
  {
   "cell_type": "markdown",
   "metadata": {},
   "source": [
    "Create tensors of grayscaled images and display their shape."
   ]
  },
  {
   "cell_type": "code",
   "execution_count": 17,
   "metadata": {},
   "outputs": [
    {
     "name": "stdout",
     "output_type": "stream",
     "text": [
      "Grayscaled Tensor shape: (11140, 32, 32)\n"
     ]
    }
   ],
   "source": [
    "hide_code\n",
    "# Grayscaled tensors\n",
    "gray_tensors = np.dot(tensors[...,:3], [0.299, 0.587, 0.114])\n",
    "print ('Grayscaled Tensor shape:', gray_tensors.shape)"
   ]
  },
  {
   "cell_type": "code",
   "execution_count": 18,
   "metadata": {},
   "outputs": [
    {
     "name": "stdout",
     "output_type": "stream",
     "text": [
      "Label:  ж\n"
     ]
    },
    {
     "data": {
      "image/png": "[encoded data removed]",
      "text/plain": [
       "<matplotlib.figure.Figure at 0x1194dc5f8>"
      ]
     },
     "metadata": {},
     "output_type": "display_data"
    }
   ],
   "source": [
    "hide_code\n",
    "# Read and display a grayscaled tensor using Matplotlib\n",
    "print('Label: ', letters[7500])\n",
    "plt.figure(figsize=(3,3))\n",
    "plt.imshow(gray_tensors[7500], cmap=cm.bone);"
   ]
  },
  {
   "cell_type": "markdown",
   "metadata": {},
   "source": [
    "### One-hot encode\n",
    "Now we'll implement the one-hot encoding function to_categorical."
   ]
  },
  {
   "cell_type": "code",
   "execution_count": 19,
   "metadata": {},
   "outputs": [
    {
     "name": "stdout",
     "output_type": "stream",
     "text": [
      "{1, 2, 3, 4, 5, 6, 7, 8, 9, 10, 11, 12, 13, 14, 15, 16, 17, 18, 19, 20, 21, 22, 23, 24, 25, 26, 27, 28, 29, 30, 31, 32, 33}\n"
     ]
    }
   ],
   "source": [
    "hide_code\n",
    "# Print the target unique values\n",
    "print(set(targets))"
   ]
  },
  {
   "cell_type": "code",
   "execution_count": 20,
   "metadata": {},
   "outputs": [
    {
     "data": {
      "text/plain": [
       "(11140, 33)"
      ]
     },
     "execution_count": 20,
     "metadata": {},
     "output_type": "execute_result"
    }
   ],
   "source": [
    "hide_code\n",
    "# One-hot encode the targets, started from the zero label\n",
    "cat_targets = to_categorical(np.array(targets-1), 33)\n",
    "cat_targets.shape"
   ]
  },
  {
   "cell_type": "code",
   "execution_count": 21,
   "metadata": {},
   "outputs": [
    {
     "data": {
      "text/plain": [
       "(11140, 2)"
      ]
     },
     "execution_count": 21,
     "metadata": {},
     "output_type": "execute_result"
    }
   ],
   "source": [
    "hide_code\n",
    "# One-hot encode the background targets\n",
    "backgrounds = to_categorical(backgrounds-2,2)\n",
    "backgrounds.shape"
   ]
  },
  {
   "cell_type": "markdown",
   "metadata": {},
   "source": [
    "### Add background"
   ]
  },
  {
   "cell_type": "code",
   "execution_count": 22,
   "metadata": {},
   "outputs": [
    {
     "data": {
      "text/plain": [
       "(11140, 35)"
      ]
     },
     "execution_count": 22,
     "metadata": {},
     "output_type": "execute_result"
    }
   ],
   "source": [
    "hide_code\n",
    "# Create multi-label targets\n",
    "back_targets = np.concatenate((cat_targets, backgrounds), axis=1)\n",
    "back_targets.shape"
   ]
  },
  {
   "cell_type": "markdown",
   "metadata": {},
   "source": [
    "### Split\n",
    "#### Color Images\n",
    "Apply the function train_test_split and split the data into training and testing sets. Set up the size of the testing set - 20%."
   ]
  },
  {
   "cell_type": "code",
   "execution_count": 23,
   "metadata": {
    "collapsed": true
   },
   "outputs": [],
   "source": [
    "hide_code\n",
    "# Split the data\n",
    "x_train, x_test, y_train, y_test = train_test_split(tensors, cat_targets, \n",
    "                                                    test_size = 0.2, \n",
    "                                                    random_state = 1)\n",
    "n = int(len(x_test)/2)\n",
    "x_valid, y_valid = x_test[:n], y_test[:n]\n",
    "x_test, y_test = x_test[n:], y_test[n:]"
   ]
  },
  {
   "cell_type": "code",
   "execution_count": 24,
   "metadata": {},
   "outputs": [
    {
     "name": "stdout",
     "output_type": "stream",
     "text": [
      "Training tensor's shape: (8912, 32, 32, 3)\n",
      "Training target's shape (8912, 33)\n",
      "Validating tensor's shape: (1114, 32, 32, 3)\n",
      "Validating target's shape (1114, 33)\n",
      "Testing tensor's shape: (1114, 32, 32, 3)\n",
      "Testing target's shape (1114, 33)\n"
     ]
    }
   ],
   "source": [
    "hide_code\n",
    "# Print the shape\n",
    "print (\"Training tensor's shape:\", x_train.shape)\n",
    "print (\"Training target's shape\", y_train.shape)\n",
    "print (\"Validating tensor's shape:\", x_valid.shape)\n",
    "print (\"Validating target's shape\", y_valid.shape)\n",
    "print (\"Testing tensor's shape:\", x_test.shape)\n",
    "print (\"Testing target's shape\", y_test.shape)"
   ]
  },
  {
   "cell_type": "markdown",
   "metadata": {},
   "source": [
    "#### Grayscaled Images"
   ]
  },
  {
   "cell_type": "code",
   "execution_count": 25,
   "metadata": {
    "collapsed": true
   },
   "outputs": [],
   "source": [
    "hide_code\n",
    "# Split the grayscaled data\n",
    "x_train2, x_test2, y_train2, y_test2 = train_test_split(gray_tensors, cat_targets, \n",
    "                                                        test_size = 0.2, \n",
    "                                                        random_state = 1)\n",
    "x_valid2, y_valid2 = x_test2[:n], y_test2[:n]\n",
    "x_test2, y_test2 = x_test2[n:], y_test2[n:]"
   ]
  },
  {
   "cell_type": "code",
   "execution_count": 26,
   "metadata": {
    "collapsed": true
   },
   "outputs": [],
   "source": [
    "hide_code\n",
    "# Reshape the grayscaled data\n",
    "x_train2, x_test2, x_valid2 = \\\n",
    "x_train2.reshape(-1, 32, 32, 1), x_test2.reshape(-1, 32, 32, 1), x_valid2.reshape(-1, 32, 32, 1)"
   ]
  },
  {
   "cell_type": "code",
   "execution_count": 27,
   "metadata": {},
   "outputs": [
    {
     "name": "stdout",
     "output_type": "stream",
     "text": [
      "Training grayscaled tensor's shape: (8912, 32, 32, 1)\n",
      "Training grayscaled target's shape (8912, 33)\n",
      "Validating grayscaled tensor's shape: (1114, 32, 32, 1)\n",
      "Validating grayscaled target's shape (1114, 33)\n",
      "Testing grayscaled tensor's shape: (1114, 32, 32, 1)\n",
      "Testing grayscaled target's shape (1114, 33)\n"
     ]
    }
   ],
   "source": [
    "hide_code\n",
    "# Print the shape\n",
    "print (\"Training grayscaled tensor's shape:\", x_train2.shape)\n",
    "print (\"Training grayscaled target's shape\", y_train2.shape)\n",
    "print (\"Validating grayscaled tensor's shape:\", x_valid2.shape)\n",
    "print (\"Validating grayscaled target's shape\", y_valid2.shape)\n",
    "print (\"Testing grayscaled tensor's shape:\", x_test2.shape)\n",
    "print (\"Testing grayscaled target's shape\", y_test2.shape)"
   ]
  },
  {
   "cell_type": "code",
   "execution_count": 28,
   "metadata": {},
   "outputs": [
    {
     "data": {
      "text/plain": [
       "((8912, 32, 32, 3), (1114, 32, 32, 3), (1114, 32, 32, 3))"
      ]
     },
     "execution_count": 28,
     "metadata": {},
     "output_type": "execute_result"
    }
   ],
   "source": [
    "hide_code\n",
    "# Convert images from grayscaled to RGB\n",
    "x_train2_tensor = tf.image.grayscale_to_rgb(x_train2, name=None)\n",
    "x_test2_tensor = tf.image.grayscale_to_rgb(x_test2, name=None)\n",
    "x_valid2_tensor = tf.image.grayscale_to_rgb(x_valid2, name=None)\n",
    "# Run tensorflow session\n",
    "sess = tf.Session()\n",
    "with sess.as_default():\n",
    "    x_train2_color = x_train2_tensor.eval()\n",
    "    x_test2_color = x_test2_tensor.eval()\n",
    "    x_valid2_color = x_valid2_tensor.eval()\n",
    "# Check the shape    \n",
    "x_train2_color.shape, x_test2_color.shape, x_valid2_color.shape"
   ]
  },
  {
   "cell_type": "markdown",
   "metadata": {},
   "source": [
    "#### Multi-label targets, color images"
   ]
  },
  {
   "cell_type": "code",
   "execution_count": 29,
   "metadata": {
    "collapsed": true
   },
   "outputs": [],
   "source": [
    "hide_code\n",
    "# Split with multi-label targets\n",
    "x_train3, x_test3, y_train3, y_test3 = train_test_split(tensors, back_targets, \n",
    "                                                        test_size = 0.2, \n",
    "                                                        random_state = 1)\n",
    "x_valid3, y_valid3 = x_test3[:n], y_test3[:n]\n",
    "x_test3, y_test3 = x_test3[n:], y_test3[n:]"
   ]
  },
  {
   "cell_type": "code",
   "execution_count": 30,
   "metadata": {},
   "outputs": [
    {
     "name": "stdout",
     "output_type": "stream",
     "text": [
      "Training tensor's shape: (8912, 32, 32, 3)\n",
      "Training target's shape (8912, 35)\n",
      "Validating tensor's shape: (1114, 32, 32, 3)\n",
      "Validating target's shape (1114, 35)\n",
      "Testing tensor's shape: (1114, 32, 32, 3)\n",
      "Testing target's shape (1114, 35)\n"
     ]
    }
   ],
   "source": [
    "hide_code\n",
    "# Print the shape\n",
    "print (\"Training tensor's shape:\", x_train3.shape)\n",
    "print (\"Training target's shape\", y_train3.shape)\n",
    "print (\"Validating tensor's shape:\", x_valid3.shape)\n",
    "print (\"Validating target's shape\", y_valid3.shape)\n",
    "print (\"Testing tensor's shape:\", x_test3.shape)\n",
    "print (\"Testing target's shape\", y_test3.shape)"
   ]
  },
  {
   "cell_type": "code",
   "execution_count": 31,
   "metadata": {
    "collapsed": true
   },
   "outputs": [],
   "source": [
    "hide_code\n",
    "# Create a list of targets\n",
    "y_train3_list = [y_train3[:, :33], y_train3[:, 33:]]\n",
    "y_test3_list = [y_test3[:, :33], y_valid3[:, 33:]]\n",
    "y_valid3_list = [y_valid3[:, :33], y_valid3[:, 33:]]"
   ]
  },
  {
   "cell_type": "markdown",
   "metadata": {},
   "source": [
    "#### Multi-label targets, grayscaled images"
   ]
  },
  {
   "cell_type": "code",
   "execution_count": 32,
   "metadata": {
    "collapsed": true
   },
   "outputs": [],
   "source": [
    "hide_code\n",
    "# Split the grayscaled data\n",
    "x_train4, x_test4, y_train4, y_test4 = train_test_split(gray_tensors, back_targets, \n",
    "                                                        test_size = 0.2, \n",
    "                                                        random_state = 1)\n",
    "x_valid4, y_valid4 = x_test4[:n], y_test4[:n]\n",
    "x_test4, y_test4 = x_test4[n:], y_test4[n:]"
   ]
  },
  {
   "cell_type": "code",
   "execution_count": 33,
   "metadata": {
    "collapsed": true
   },
   "outputs": [],
   "source": [
    "hide_code\n",
    "# Reshape the grayscaled data\n",
    "x_train4, x_test4, x_valid4 = \\\n",
    "x_train4.reshape(-1, 32, 32, 1), x_test4.reshape(-1, 32, 32, 1), x_valid4.reshape(-1, 32, 32, 1)"
   ]
  },
  {
   "cell_type": "code",
   "execution_count": 34,
   "metadata": {},
   "outputs": [
    {
     "name": "stdout",
     "output_type": "stream",
     "text": [
      "Training grayscaled tensor's shape: (8912, 32, 32, 1)\n",
      "Training grayscaled target's shape (8912, 35)\n",
      "Validating grayscaled tensor's shape: (1114, 32, 32, 1)\n",
      "Validating grayscaled target's shape (1114, 35)\n",
      "Testing grayscaled tensor's shape: (1114, 32, 32, 1)\n",
      "Testing grayscaled target's shape (1114, 35)\n"
     ]
    }
   ],
   "source": [
    "hide_code\n",
    "# Print the shape\n",
    "print (\"Training grayscaled tensor's shape:\", x_train4.shape)\n",
    "print (\"Training grayscaled target's shape\", y_train4.shape)\n",
    "print (\"Validating grayscaled tensor's shape:\", x_valid4.shape)\n",
    "print (\"Validating grayscaled target's shape\", y_valid4.shape)\n",
    "print (\"Testing grayscaled tensor's shape:\", x_test4.shape)\n",
    "print (\"Testing grayscaled target's shape\", y_test4.shape)"
   ]
  },
  {
   "cell_type": "code",
   "execution_count": 35,
   "metadata": {
    "collapsed": true
   },
   "outputs": [],
   "source": [
    "hide_code\n",
    "# Create a list of targets\n",
    "y_train4_list = [y_train4[:, :33], y_train4[:, 33:]]\n",
    "y_test4_list = [y_test4[:, :33], y_test4[:, 33:]]\n",
    "y_valid4_list = [y_valid4[:, :33], y_valid4[:, 33:]]"
   ]
  },
  {
   "cell_type": "markdown",
   "metadata": {},
   "source": [
    "## Step 4. Create a One-Label Classification Model\n",
    "### Color Images\n",
    "Define a model architecture and compile the model for color images."
   ]
  },
  {
   "cell_type": "code",
   "execution_count": 36,
   "metadata": {
    "collapsed": true
   },
   "outputs": [],
   "source": [
    "hide_code\n",
    "def model():\n",
    "    model = Sequential()\n",
    "    # TODO: Define a model architecture\n",
    "\n",
    "    model.add(Conv2D(32, (5, 5), padding='same', input_shape=x_train.shape[1:]))\n",
    "    model.add(Activation('relu'))    \n",
    "    model.add(MaxPooling2D(pool_size=(2, 2)))\n",
    "    model.add(Dropout(0.25))\n",
    "\n",
    "    model.add(Conv2D(96, (5, 5)))\n",
    "    model.add(Activation('relu'))    \n",
    "    model.add(MaxPooling2D(pool_size=(2, 2)))\n",
    "    model.add(Dropout(0.25))\n",
    "    \n",
    "    model.add(GlobalMaxPooling2D()) \n",
    "    \n",
    "    model.add(Dense(512, activation='relu'))\n",
    "    model.add(Dropout(0.25))    \n",
    "\n",
    "    model.add(Dense(33))\n",
    "    model.add(Activation('softmax'))\n",
    "    \n",
    "    # TODO: Compile the model\n",
    "    model.compile(loss='categorical_crossentropy', optimizer='nadam', metrics=['accuracy'])\n",
    "    \n",
    "    return model\n",
    "\n",
    "model = model()"
   ]
  },
  {
   "cell_type": "code",
   "execution_count": 37,
   "metadata": {},
   "outputs": [
    {
     "name": "stdout",
     "output_type": "stream",
     "text": [
      "Train on 8912 samples, validate on 1114 samples\n",
      "Epoch 1/100\n",
      "Epoch 00000: val_loss improved from inf to 3.46209, saving model to weights.best.model.hdf5\n",
      "102s - loss: 3.4715 - acc: 0.0376 - val_loss: 3.4621 - val_acc: 0.0521\n",
      "Epoch 2/100\n",
      "Epoch 00001: val_loss improved from 3.46209 to 3.41970, saving model to weights.best.model.hdf5\n",
      "133s - loss: 3.4294 - acc: 0.0480 - val_loss: 3.4197 - val_acc: 0.0548\n",
      "Epoch 3/100\n",
      "Epoch 00002: val_loss did not improve\n",
      "40s - loss: 3.3824 - acc: 0.0535 - val_loss: 3.4608 - val_acc: 0.0332\n",
      "Epoch 4/100\n",
      "Epoch 00003: val_loss did not improve\n",
      "38s - loss: 3.3469 - acc: 0.0624 - val_loss: 3.4675 - val_acc: 0.0431\n",
      "Epoch 5/100\n",
      "Epoch 00004: val_loss improved from 3.41970 to 3.30186, saving model to weights.best.model.hdf5\n",
      "46s - loss: 3.3088 - acc: 0.0674 - val_loss: 3.3019 - val_acc: 0.0691\n",
      "Epoch 6/100\n",
      "Epoch 00005: val_loss did not improve\n",
      "39s - loss: 3.2557 - acc: 0.0799 - val_loss: 3.4306 - val_acc: 0.0521\n",
      "Epoch 7/100\n",
      "Epoch 00006: val_loss improved from 3.30186 to 3.29932, saving model to weights.best.model.hdf5\n",
      "57s - loss: 3.1828 - acc: 0.0880 - val_loss: 3.2993 - val_acc: 0.0754\n",
      "Epoch 8/100\n",
      "Epoch 00007: val_loss improved from 3.29932 to 3.16798, saving model to weights.best.model.hdf5\n",
      "49s - loss: 3.1069 - acc: 0.0984 - val_loss: 3.1680 - val_acc: 0.0978\n",
      "Epoch 9/100\n",
      "Epoch 00008: val_loss improved from 3.16798 to 3.10202, saving model to weights.best.model.hdf5\n",
      "46s - loss: 3.0409 - acc: 0.1079 - val_loss: 3.1020 - val_acc: 0.0862\n",
      "Epoch 10/100\n",
      "Epoch 00009: val_loss improved from 3.10202 to 3.05100, saving model to weights.best.model.hdf5\n",
      "49s - loss: 2.9961 - acc: 0.1156 - val_loss: 3.0510 - val_acc: 0.1113\n",
      "Epoch 11/100\n",
      "Epoch 00010: val_loss improved from 3.05100 to 3.00412, saving model to weights.best.model.hdf5\n",
      "44s - loss: 2.9771 - acc: 0.1180 - val_loss: 3.0041 - val_acc: 0.1230\n",
      "Epoch 12/100\n",
      "Epoch 00011: val_loss did not improve\n",
      "47s - loss: 2.9441 - acc: 0.1197 - val_loss: 3.1531 - val_acc: 0.0987\n",
      "Epoch 13/100\n",
      "Epoch 00012: val_loss improved from 3.00412 to 2.96021, saving model to weights.best.model.hdf5\n",
      "45s - loss: 2.9229 - acc: 0.1266 - val_loss: 2.9602 - val_acc: 0.1122\n",
      "Epoch 14/100\n",
      "Epoch 00013: val_loss did not improve\n",
      "44s - loss: 2.9019 - acc: 0.1281 - val_loss: 3.1872 - val_acc: 0.0781\n",
      "Epoch 15/100\n",
      "Epoch 00014: val_loss did not improve\n",
      "47s - loss: 2.8742 - acc: 0.1378 - val_loss: 3.0957 - val_acc: 0.0880\n",
      "Epoch 16/100\n",
      "Epoch 00015: val_loss did not improve\n",
      "47s - loss: 2.8428 - acc: 0.1368 - val_loss: 3.0150 - val_acc: 0.0978\n",
      "Epoch 17/100\n",
      "Epoch 00016: val_loss did not improve\n",
      "47s - loss: 2.8457 - acc: 0.1462 - val_loss: 3.3176 - val_acc: 0.0700\n",
      "Epoch 18/100\n",
      "Epoch 00017: val_loss improved from 2.96021 to 2.90876, saving model to weights.best.model.hdf5\n",
      "49s - loss: 2.8015 - acc: 0.1492 - val_loss: 2.9088 - val_acc: 0.1329\n",
      "Epoch 19/100\n",
      "Epoch 00018: val_loss did not improve\n",
      "43s - loss: 2.7855 - acc: 0.1603 - val_loss: 3.0540 - val_acc: 0.1041\n",
      "Epoch 20/100\n",
      "Epoch 00019: val_loss did not improve\n",
      "46s - loss: 2.7371 - acc: 0.1678 - val_loss: 2.9681 - val_acc: 0.1329\n",
      "Epoch 21/100\n",
      "Epoch 00020: val_loss improved from 2.90876 to 2.76443, saving model to weights.best.model.hdf5\n",
      "46s - loss: 2.6962 - acc: 0.1828 - val_loss: 2.7644 - val_acc: 0.1688\n",
      "Epoch 22/100\n",
      "Epoch 00021: val_loss did not improve\n",
      "44s - loss: 2.6695 - acc: 0.1853 - val_loss: 2.8823 - val_acc: 0.1508\n",
      "Epoch 23/100\n",
      "Epoch 00022: val_loss did not improve\n",
      "44s - loss: 2.6371 - acc: 0.2002 - val_loss: 2.9906 - val_acc: 0.1373\n",
      "Epoch 24/100\n",
      "Epoch 00023: val_loss did not improve\n",
      "44s - loss: 2.5881 - acc: 0.2035 - val_loss: 2.9700 - val_acc: 0.1293\n",
      "Epoch 25/100\n",
      "Epoch 00024: val_loss did not improve\n",
      "44s - loss: 2.5507 - acc: 0.2149 - val_loss: 2.7810 - val_acc: 0.1741\n",
      "Epoch 26/100\n",
      "Epoch 00025: val_loss did not improve\n",
      "44s - loss: 2.4818 - acc: 0.2362 - val_loss: 2.8891 - val_acc: 0.1625\n",
      "Epoch 27/100\n",
      "Epoch 00026: val_loss did not improve\n",
      "44s - loss: 2.4619 - acc: 0.2450 - val_loss: 3.0640 - val_acc: 0.1508\n",
      "Epoch 28/100\n",
      "Epoch 00027: val_loss did not improve\n",
      "44s - loss: 2.4220 - acc: 0.2466 - val_loss: 3.0921 - val_acc: 0.1346\n",
      "Epoch 29/100\n",
      "Epoch 00028: val_loss did not improve\n",
      "44s - loss: 2.3983 - acc: 0.2626 - val_loss: 3.3597 - val_acc: 0.1284\n",
      "Epoch 30/100\n",
      "Epoch 00029: val_loss did not improve\n",
      "45s - loss: 2.3667 - acc: 0.2659 - val_loss: 2.8198 - val_acc: 0.1652\n",
      "Epoch 31/100\n",
      "Epoch 00030: val_loss did not improve\n",
      "43s - loss: 2.3393 - acc: 0.2730 - val_loss: 2.9457 - val_acc: 0.1598\n",
      "Epoch 32/100\n",
      "Epoch 00031: val_loss improved from 2.76443 to 2.57933, saving model to weights.best.model.hdf5\n",
      "44s - loss: 2.3052 - acc: 0.2862 - val_loss: 2.5793 - val_acc: 0.2433\n",
      "Epoch 33/100\n",
      "Epoch 00032: val_loss did not improve\n",
      "44s - loss: 2.2712 - acc: 0.2940 - val_loss: 2.5808 - val_acc: 0.2379\n",
      "Epoch 34/100\n",
      "Epoch 00033: val_loss did not improve\n",
      "44s - loss: 2.2478 - acc: 0.3070 - val_loss: 2.6387 - val_acc: 0.2361\n",
      "Epoch 35/100\n",
      "Epoch 00034: val_loss did not improve\n",
      "43s - loss: 2.2304 - acc: 0.3077 - val_loss: 2.6570 - val_acc: 0.2352\n",
      "Epoch 36/100\n",
      "Epoch 00035: val_loss did not improve\n",
      "44s - loss: 2.1972 - acc: 0.3091 - val_loss: 2.7352 - val_acc: 0.2101\n",
      "Epoch 37/100\n",
      "Epoch 00036: val_loss did not improve\n",
      "45s - loss: 2.1664 - acc: 0.3245 - val_loss: 2.8901 - val_acc: 0.1885\n",
      "Epoch 38/100\n",
      "Epoch 00037: val_loss did not improve\n",
      "45s - loss: 2.1466 - acc: 0.3224 - val_loss: 2.8141 - val_acc: 0.2047\n",
      "Epoch 39/100\n",
      "Epoch 00038: val_loss improved from 2.57933 to 2.50951, saving model to weights.best.model.hdf5\n",
      "38s - loss: 2.1176 - acc: 0.3331 - val_loss: 2.5095 - val_acc: 0.2496\n",
      "Epoch 40/100\n",
      "Epoch 00039: val_loss did not improve\n",
      "41s - loss: 2.0942 - acc: 0.3441 - val_loss: 2.8625 - val_acc: 0.2038\n",
      "Epoch 41/100\n",
      "Epoch 00040: val_loss improved from 2.50951 to 2.34235, saving model to weights.best.model.hdf5\n",
      "42s - loss: 2.0655 - acc: 0.3560 - val_loss: 2.3424 - val_acc: 0.2980\n",
      "Epoch 42/100\n",
      "Epoch 00041: val_loss did not improve\n",
      "42s - loss: 2.0565 - acc: 0.3504 - val_loss: 2.5318 - val_acc: 0.2639\n",
      "Epoch 43/100\n",
      "Epoch 00042: val_loss did not improve\n",
      "43s - loss: 2.0337 - acc: 0.3623 - val_loss: 2.5676 - val_acc: 0.2558\n",
      "Epoch 44/100\n",
      "Epoch 00043: val_loss did not improve\n",
      "46s - loss: 2.0131 - acc: 0.3642 - val_loss: 2.7616 - val_acc: 0.2531\n",
      "Epoch 45/100\n",
      "Epoch 00044: val_loss did not improve\n",
      "44s - loss: 1.9898 - acc: 0.3748 - val_loss: 2.7247 - val_acc: 0.2190\n",
      "Epoch 46/100\n",
      "Epoch 00045: val_loss did not improve\n",
      "44s - loss: 1.9658 - acc: 0.3820 - val_loss: 2.4121 - val_acc: 0.3097\n",
      "Epoch 47/100\n",
      "Epoch 00046: val_loss did not improve\n",
      "44s - loss: 1.9707 - acc: 0.3841 - val_loss: 2.6116 - val_acc: 0.2487\n",
      "Epoch 48/100\n",
      "Epoch 00047: val_loss did not improve\n",
      "44s - loss: 1.9259 - acc: 0.3914 - val_loss: 2.8232 - val_acc: 0.2567\n",
      "Epoch 49/100\n",
      "Epoch 00048: val_loss did not improve\n",
      "44s - loss: 1.9007 - acc: 0.4010 - val_loss: 2.4358 - val_acc: 0.3187\n",
      "Epoch 50/100\n",
      "Epoch 00049: val_loss did not improve\n",
      "42s - loss: 1.8979 - acc: 0.4036 - val_loss: 2.3662 - val_acc: 0.3124\n",
      "Epoch 51/100\n",
      "Epoch 00050: val_loss did not improve\n",
      "44s - loss: 1.8874 - acc: 0.4064 - val_loss: 2.3904 - val_acc: 0.3088\n",
      "Epoch 52/100\n",
      "Epoch 00051: val_loss did not improve\n",
      "45s - loss: 1.8488 - acc: 0.4210 - val_loss: 2.7707 - val_acc: 0.2711\n",
      "Epoch 53/100\n",
      "Epoch 00052: val_loss did not improve\n",
      "46s - loss: 1.8373 - acc: 0.4211 - val_loss: 2.6576 - val_acc: 0.2783\n",
      "Epoch 54/100\n",
      "Epoch 00053: val_loss did not improve\n",
      "44s - loss: 1.7881 - acc: 0.4299 - val_loss: 2.8155 - val_acc: 0.2720\n",
      "Epoch 55/100\n",
      "Epoch 00054: val_loss did not improve\n",
      "46s - loss: 1.8047 - acc: 0.4322 - val_loss: 2.3919 - val_acc: 0.3196\n",
      "Epoch 56/100\n",
      "Epoch 00055: val_loss improved from 2.34235 to 2.16868, saving model to weights.best.model.hdf5\n",
      "59s - loss: 1.7800 - acc: 0.4333 - val_loss: 2.1687 - val_acc: 0.3689\n",
      "Epoch 57/100\n",
      "Epoch 00056: val_loss improved from 2.16868 to 2.06985, saving model to weights.best.model.hdf5\n",
      "43s - loss: 1.7597 - acc: 0.4523 - val_loss: 2.0699 - val_acc: 0.3896\n",
      "Epoch 58/100\n",
      "Epoch 00057: val_loss did not improve\n",
      "42s - loss: 1.7589 - acc: 0.4432 - val_loss: 2.3338 - val_acc: 0.3375\n",
      "Epoch 59/100\n",
      "Epoch 00058: val_loss did not improve\n",
      "42s - loss: 1.7234 - acc: 0.4631 - val_loss: 2.1394 - val_acc: 0.3725\n",
      "Epoch 60/100\n",
      "Epoch 00059: val_loss did not improve\n",
      "44s - loss: 1.6999 - acc: 0.4588 - val_loss: 2.1473 - val_acc: 0.3591\n",
      "Epoch 61/100\n"
     ]
    },
    {
     "name": "stdout",
     "output_type": "stream",
     "text": [
      "Epoch 00060: val_loss did not improve\n",
      "42s - loss: 1.6947 - acc: 0.4690 - val_loss: 3.3194 - val_acc: 0.2325\n",
      "Epoch 62/100\n",
      "Epoch 00061: val_loss did not improve\n",
      "41s - loss: 1.7045 - acc: 0.4629 - val_loss: 2.2028 - val_acc: 0.3950\n",
      "Epoch 63/100\n",
      "Epoch 00062: val_loss did not improve\n",
      "40s - loss: 1.6399 - acc: 0.4809 - val_loss: 2.2779 - val_acc: 0.3707\n",
      "Epoch 64/100\n",
      "Epoch 00063: val_loss did not improve\n",
      "40s - loss: 1.6645 - acc: 0.4728 - val_loss: 2.4699 - val_acc: 0.3133\n",
      "Epoch 65/100\n",
      "Epoch 00064: val_loss did not improve\n",
      "40s - loss: 1.6581 - acc: 0.4763 - val_loss: 2.1613 - val_acc: 0.3707\n",
      "Epoch 66/100\n",
      "Epoch 00065: val_loss did not improve\n",
      "42s - loss: 1.6317 - acc: 0.4871 - val_loss: 2.2473 - val_acc: 0.3725\n",
      "Epoch 67/100\n",
      "Epoch 00066: val_loss did not improve\n",
      "45s - loss: 1.6078 - acc: 0.4960 - val_loss: 2.2785 - val_acc: 0.3357\n",
      "Epoch 68/100\n",
      "Epoch 00067: val_loss did not improve\n",
      "44s - loss: 1.6111 - acc: 0.4846 - val_loss: 2.3910 - val_acc: 0.3384\n",
      "Epoch 69/100\n",
      "Epoch 00068: val_loss did not improve\n",
      "44s - loss: 1.6068 - acc: 0.4967 - val_loss: 2.1866 - val_acc: 0.3950\n",
      "Epoch 70/100\n",
      "Epoch 00069: val_loss did not improve\n",
      "43s - loss: 1.5835 - acc: 0.4981 - val_loss: 2.7018 - val_acc: 0.3384\n",
      "Epoch 71/100\n",
      "Epoch 00070: val_loss did not improve\n",
      "42s - loss: 1.5596 - acc: 0.5103 - val_loss: 2.4752 - val_acc: 0.3734\n",
      "Epoch 72/100\n",
      "Epoch 00071: val_loss did not improve\n",
      "43s - loss: 1.5570 - acc: 0.5076 - val_loss: 2.3159 - val_acc: 0.3833\n",
      "Epoch 73/100\n",
      "Epoch 00072: val_loss did not improve\n",
      "44s - loss: 1.5418 - acc: 0.5064 - val_loss: 2.7973 - val_acc: 0.3285\n",
      "Epoch 74/100\n",
      "Epoch 00073: val_loss did not improve\n",
      "42s - loss: 1.5419 - acc: 0.5144 - val_loss: 2.1565 - val_acc: 0.4147\n",
      "Epoch 75/100\n",
      "Epoch 00074: val_loss did not improve\n",
      "43s - loss: 1.5290 - acc: 0.5096 - val_loss: 2.1383 - val_acc: 0.3995\n",
      "Epoch 76/100\n",
      "Epoch 00075: val_loss improved from 2.06985 to 2.02718, saving model to weights.best.model.hdf5\n",
      "54s - loss: 1.5188 - acc: 0.5146 - val_loss: 2.0272 - val_acc: 0.4057\n",
      "Epoch 77/100\n",
      "Epoch 00076: val_loss did not improve\n",
      "41s - loss: 1.4954 - acc: 0.5286 - val_loss: 2.1897 - val_acc: 0.3959\n",
      "Epoch 78/100\n",
      "Epoch 00077: val_loss did not improve\n",
      "44s - loss: 1.4855 - acc: 0.5311 - val_loss: 3.0573 - val_acc: 0.2980\n",
      "Epoch 79/100\n",
      "Epoch 00078: val_loss did not improve\n",
      "43s - loss: 1.4707 - acc: 0.5329 - val_loss: 2.3902 - val_acc: 0.3914\n",
      "Epoch 80/100\n",
      "Epoch 00079: val_loss did not improve\n",
      "44s - loss: 1.4567 - acc: 0.5389 - val_loss: 2.5173 - val_acc: 0.3510\n",
      "Epoch 81/100\n",
      "Epoch 00080: val_loss did not improve\n",
      "44s - loss: 1.4396 - acc: 0.5505 - val_loss: 2.5131 - val_acc: 0.3492\n",
      "Epoch 82/100\n",
      "Epoch 00081: val_loss did not improve\n",
      "43s - loss: 1.4356 - acc: 0.5512 - val_loss: 2.4336 - val_acc: 0.3869\n",
      "Epoch 83/100\n",
      "Epoch 00082: val_loss improved from 2.02718 to 1.87680, saving model to weights.best.model.hdf5\n",
      "42s - loss: 1.4350 - acc: 0.5432 - val_loss: 1.8768 - val_acc: 0.4551\n",
      "Epoch 84/100\n",
      "Epoch 00083: val_loss improved from 1.87680 to 1.80743, saving model to weights.best.model.hdf5\n",
      "43s - loss: 1.4143 - acc: 0.5496 - val_loss: 1.8074 - val_acc: 0.4740\n",
      "Epoch 85/100\n",
      "Epoch 00084: val_loss did not improve\n",
      "43s - loss: 1.4233 - acc: 0.5500 - val_loss: 1.9161 - val_acc: 0.4650\n",
      "Epoch 86/100\n",
      "Epoch 00085: val_loss did not improve\n",
      "42s - loss: 1.3987 - acc: 0.5610 - val_loss: 2.1112 - val_acc: 0.4013\n",
      "Epoch 87/100\n",
      "Epoch 00086: val_loss did not improve\n",
      "42s - loss: 1.3935 - acc: 0.5562 - val_loss: 1.9679 - val_acc: 0.4524\n",
      "Epoch 88/100\n",
      "Epoch 00087: val_loss did not improve\n",
      "41s - loss: 1.3589 - acc: 0.5663 - val_loss: 1.8641 - val_acc: 0.4542\n",
      "Epoch 89/100\n",
      "Epoch 00088: val_loss did not improve\n",
      "41s - loss: 1.3757 - acc: 0.5583 - val_loss: 2.0447 - val_acc: 0.4408\n",
      "Epoch 90/100\n",
      "Epoch 00089: val_loss did not improve\n",
      "43s - loss: 1.3362 - acc: 0.5768 - val_loss: 1.9346 - val_acc: 0.4434\n",
      "Epoch 91/100\n",
      "Epoch 00090: val_loss did not improve\n",
      "42s - loss: 1.3367 - acc: 0.5760 - val_loss: 2.1386 - val_acc: 0.4533\n",
      "Epoch 92/100\n",
      "Epoch 00091: val_loss improved from 1.80743 to 1.71149, saving model to weights.best.model.hdf5\n",
      "41s - loss: 1.3205 - acc: 0.5763 - val_loss: 1.7115 - val_acc: 0.5197\n",
      "Epoch 93/100\n",
      "Epoch 00092: val_loss did not improve\n",
      "41s - loss: 1.3176 - acc: 0.5791 - val_loss: 1.8838 - val_acc: 0.4551\n",
      "Epoch 94/100\n",
      "Epoch 00093: val_loss did not improve\n",
      "43s - loss: 1.3109 - acc: 0.5892 - val_loss: 1.8974 - val_acc: 0.4829\n",
      "Epoch 95/100\n",
      "Epoch 00094: val_loss did not improve\n",
      "43s - loss: 1.2819 - acc: 0.5922 - val_loss: 2.3242 - val_acc: 0.4102\n",
      "Epoch 96/100\n",
      "Epoch 00095: val_loss did not improve\n",
      "44s - loss: 1.2702 - acc: 0.5904 - val_loss: 2.0797 - val_acc: 0.4264\n",
      "Epoch 97/100\n",
      "Epoch 00096: val_loss improved from 1.71149 to 1.68588, saving model to weights.best.model.hdf5\n",
      "43s - loss: 1.2675 - acc: 0.6007 - val_loss: 1.6859 - val_acc: 0.5197\n",
      "Epoch 98/100\n",
      "Epoch 00097: val_loss did not improve\n",
      "42s - loss: 1.2377 - acc: 0.6056 - val_loss: 2.3853 - val_acc: 0.3725\n",
      "Epoch 99/100\n",
      "Epoch 00098: val_loss did not improve\n",
      "43s - loss: 1.2506 - acc: 0.6012 - val_loss: 2.2669 - val_acc: 0.4372\n",
      "Epoch 100/100\n",
      "Epoch 00099: val_loss did not improve\n",
      "42s - loss: 1.2383 - acc: 0.6050 - val_loss: 2.2729 - val_acc: 0.4300\n"
     ]
    }
   ],
   "source": [
    "hide_code\n",
    "# Train the model\n",
    "checkpointer = ModelCheckpoint(filepath='weights.best.model.hdf5', \n",
    "                               verbose=2, save_best_only=True)\n",
    "history = model.fit(x_train, y_train, \n",
    "                    epochs=100, batch_size=64, verbose=2,\n",
    "                    validation_data=(x_valid, y_valid),\n",
    "                    callbacks=[checkpointer])"
   ]
  },
  {
   "cell_type": "code",
   "execution_count": 38,
   "metadata": {},
   "outputs": [
    {
     "data": {
      "image/png": "[encoded data removed]",
      "text/plain": [
       "<matplotlib.figure.Figure at 0x12e75c4e0>"
      ]
     },
     "metadata": {},
     "output_type": "display_data"
    }
   ],
   "source": [
    "hide_code\n",
    "# Plot the training history\n",
    "history_plot(history, 0)"
   ]
  },
  {
   "cell_type": "markdown",
   "metadata": {},
   "source": [
    "We should have an accuracy greater than 3%"
   ]
  },
  {
   "cell_type": "code",
   "execution_count": 39,
   "metadata": {},
   "outputs": [
    {
     "name": "stdout",
     "output_type": "stream",
     "text": [
      "1114/1114 [==============================] - 3s     \n"
     ]
    },
    {
     "data": {
      "text/plain": [
       "[1.6527948512209167, 0.50179533192242498]"
      ]
     },
     "execution_count": 39,
     "metadata": {},
     "output_type": "execute_result"
    }
   ],
   "source": [
    "hide_code\n",
    "# Load the model with the best validation accuracy\n",
    "model.load_weights('weights.best.model.hdf5')\n",
    "# Calculate classification accuracy on the testing set\n",
    "score = model.evaluate(x_test, y_test)\n",
    "score"
   ]
  },
  {
   "cell_type": "markdown",
   "metadata": {},
   "source": [
    "Apply the ImageDataGenerator() function."
   ]
  },
  {
   "cell_type": "code",
   "execution_count": null,
   "metadata": {
    "collapsed": true
   },
   "outputs": [],
   "source": [
    "hide_code\n",
    "# Fit the model with ImageDataGenerator()\n",
    "# TODO: Define parameters\n",
    "steps, epochs = 1000, 10\n",
    "data_generator = ImageDataGenerator(zoom_range=0.2, shear_range=0.2, rotation_range=20)\n",
    "\n",
    "generator = model.fit_generator(data_generator.flow(x_train, y_train, batch_size=64),\n",
    "                                steps_per_epoch = steps, epochs = epochs,\n",
    "                                validation_data = (x_valid, y_valid), \n",
    "                                callbacks=[checkpointer], verbose=2)"
   ]
  },
  {
   "cell_type": "code",
   "execution_count": null,
   "metadata": {
    "collapsed": true
   },
   "outputs": [],
   "source": [
    "hide_code\n",
    "# Load the model with the best validation accuracy\n",
    "model.load_weights('weights.best.model.hdf5')\n",
    "# Calculate classification accuracy on the testing set\n",
    "score = model.evaluate(x_test, y_test)\n",
    "score"
   ]
  },
  {
   "cell_type": "markdown",
   "metadata": {},
   "source": [
    "Let's compare the results with classifying algorithms."
   ]
  },
  {
   "cell_type": "code",
   "execution_count": null,
   "metadata": {
    "collapsed": true
   },
   "outputs": [],
   "source": [
    "hide_code\n",
    "# Fit the classifier and get the accuracy score\n",
    "y_train_c = np.array([np.argmax(y) for y in y_train])\n",
    "y_test_c = np.array([np.argmax(y) for y in y_test])\n",
    "clf = GradientBoostingClassifier().fit(x_train.reshape(-1, 32*32*3), y_train_c)\n",
    "clf.score(x_test.reshape(-1, 32*32*3), y_test_c)"
   ]
  },
  {
   "cell_type": "code",
   "execution_count": null,
   "metadata": {
    "collapsed": true
   },
   "outputs": [],
   "source": [
    "hide_code\n",
    "# Fit the classifier and get the accuracy score\n",
    "clf2 = RandomForestClassifier().fit(x_train.reshape(-1, 32*32*3), y_train_c)\n",
    "clf2.score(x_test.reshape(-1, 32*32*3), y_test_c)"
   ]
  },
  {
   "cell_type": "markdown",
   "metadata": {},
   "source": [
    "### Grayscaled Images\n",
    "Define a model architecture and compile the model for grayscaled images."
   ]
  },
  {
   "cell_type": "code",
   "execution_count": 40,
   "metadata": {
    "collapsed": true
   },
   "outputs": [],
   "source": [
    "hide_code\n",
    "def gray_model():\n",
    "    model = Sequential()\n",
    "    \n",
    "    # TODO: Define a model architecture\n",
    "    model.add(Conv2D(32, (5, 5), padding='same', input_shape=x_train2.shape[1:]))\n",
    "    model.add(Activation('relu'))    \n",
    "    model.add(MaxPooling2D(pool_size=(2, 2)))\n",
    "    model.add(Dropout(0.25))\n",
    "\n",
    "    model.add(Conv2D(256, (5, 5)))\n",
    "    model.add(Activation('relu'))    \n",
    "    model.add(MaxPooling2D(pool_size=(2, 2)))\n",
    "    model.add(Dropout(0.25))\n",
    "    \n",
    "    model.add(GlobalMaxPooling2D()) \n",
    "    \n",
    "    model.add(Dense(1024, activation='relu'))\n",
    "    model.add(Dropout(0.25)) \n",
    "    \n",
    "    model.add(Dense(256, activation='relu'))\n",
    "    model.add(Dropout(0.25))    \n",
    "\n",
    "    model.add(Dense(33))\n",
    "    model.add(Activation('softmax'))\n",
    "    \n",
    "    # TODO: Compile the model\n",
    "    model.compile(loss='categorical_crossentropy', optimizer='rmsprop', metrics=['accuracy'])\n",
    "    return model\n",
    "\n",
    "gray_model = gray_model()"
   ]
  },
  {
   "cell_type": "code",
   "execution_count": 41,
   "metadata": {},
   "outputs": [
    {
     "name": "stdout",
     "output_type": "stream",
     "text": [
      "Epoch 00000: val_loss improved from inf to 3.45585, saving model to weights.best.gray_model.hdf5\n",
      "Epoch 00001: val_loss improved from 3.45585 to 3.40624, saving model to weights.best.gray_model.hdf5\n",
      "Epoch 00002: val_loss did not improve\n",
      "Epoch 00003: val_loss improved from 3.40624 to 3.35260, saving model to weights.best.gray_model.hdf5\n",
      "Epoch 00004: val_loss did not improve\n",
      "Epoch 00005: val_loss did not improve\n",
      "Epoch 00006: val_loss did not improve\n",
      "Epoch 00007: val_loss did not improve\n",
      "Epoch 00008: val_loss improved from 3.35260 to 3.34989, saving model to weights.best.gray_model.hdf5\n",
      "Epoch 00009: val_loss did not improve\n",
      "Epoch 00010: val_loss did not improve\n",
      "Epoch 00011: val_loss improved from 3.34989 to 3.28479, saving model to weights.best.gray_model.hdf5\n",
      "Epoch 00012: val_loss improved from 3.28479 to 3.26891, saving model to weights.best.gray_model.hdf5\n",
      "Epoch 00013: val_loss did not improve\n",
      "Epoch 00014: val_loss improved from 3.26891 to 3.16779, saving model to weights.best.gray_model.hdf5\n",
      "Epoch 00015: val_loss improved from 3.16779 to 3.05292, saving model to weights.best.gray_model.hdf5\n",
      "Epoch 00016: val_loss improved from 3.05292 to 3.05283, saving model to weights.best.gray_model.hdf5\n",
      "Epoch 00017: val_loss improved from 3.05283 to 2.97068, saving model to weights.best.gray_model.hdf5\n",
      "Epoch 00018: val_loss improved from 2.97068 to 2.76794, saving model to weights.best.gray_model.hdf5\n",
      "Epoch 00019: val_loss improved from 2.76794 to 2.67502, saving model to weights.best.gray_model.hdf5\n",
      "Epoch 00020: val_loss did not improve\n",
      "Epoch 00021: val_loss improved from 2.67502 to 2.23494, saving model to weights.best.gray_model.hdf5\n",
      "Epoch 00022: val_loss did not improve\n",
      "Epoch 00023: val_loss improved from 2.23494 to 2.13222, saving model to weights.best.gray_model.hdf5\n",
      "Epoch 00024: val_loss did not improve\n",
      "Epoch 00025: val_loss did not improve\n",
      "Epoch 00026: val_loss improved from 2.13222 to 1.74339, saving model to weights.best.gray_model.hdf5\n",
      "Epoch 00027: val_loss did not improve\n",
      "Epoch 00028: val_loss did not improve\n",
      "Epoch 00029: val_loss did not improve\n",
      "Epoch 00030: val_loss improved from 1.74339 to 1.39871, saving model to weights.best.gray_model.hdf5\n",
      "Epoch 00031: val_loss did not improve\n",
      "Epoch 00032: val_loss improved from 1.39871 to 1.37588, saving model to weights.best.gray_model.hdf5\n",
      "Epoch 00033: val_loss did not improve\n",
      "Epoch 00034: val_loss improved from 1.37588 to 1.29598, saving model to weights.best.gray_model.hdf5\n",
      "Epoch 00035: val_loss improved from 1.29598 to 1.16396, saving model to weights.best.gray_model.hdf5\n",
      "Epoch 00036: val_loss improved from 1.16396 to 0.98875, saving model to weights.best.gray_model.hdf5\n",
      "Epoch 00037: val_loss did not improve\n",
      "Epoch 00038: val_loss did not improve\n",
      "Epoch 00039: val_loss improved from 0.98875 to 0.97267, saving model to weights.best.gray_model.hdf5\n",
      "Epoch 00040: val_loss improved from 0.97267 to 0.96138, saving model to weights.best.gray_model.hdf5\n",
      "Epoch 00041: val_loss improved from 0.96138 to 0.89433, saving model to weights.best.gray_model.hdf5\n",
      "Epoch 00042: val_loss improved from 0.89433 to 0.79283, saving model to weights.best.gray_model.hdf5\n",
      "Epoch 00043: val_loss did not improve\n",
      "Epoch 00044: val_loss did not improve\n",
      "Epoch 00045: val_loss did not improve\n",
      "Epoch 00046: val_loss did not improve\n",
      "Epoch 00047: val_loss improved from 0.79283 to 0.76800, saving model to weights.best.gray_model.hdf5\n",
      "Epoch 00048: val_loss improved from 0.76800 to 0.70666, saving model to weights.best.gray_model.hdf5\n",
      "Epoch 00049: val_loss did not improve\n",
      "Epoch 00050: val_loss did not improve\n",
      "Epoch 00051: val_loss did not improve\n",
      "Epoch 00052: val_loss did not improve\n",
      "Epoch 00053: val_loss did not improve\n",
      "Epoch 00054: val_loss did not improve\n",
      "Epoch 00055: val_loss improved from 0.70666 to 0.67018, saving model to weights.best.gray_model.hdf5\n",
      "Epoch 00056: val_loss improved from 0.67018 to 0.64246, saving model to weights.best.gray_model.hdf5\n",
      "Epoch 00057: val_loss did not improve\n",
      "Epoch 00058: val_loss did not improve\n",
      "Epoch 00059: val_loss improved from 0.64246 to 0.60208, saving model to weights.best.gray_model.hdf5\n",
      "Epoch 00060: val_loss improved from 0.60208 to 0.57646, saving model to weights.best.gray_model.hdf5\n",
      "Epoch 00061: val_loss did not improve\n",
      "Epoch 00062: val_loss did not improve\n",
      "Epoch 00063: val_loss did not improve\n",
      "Epoch 00064: val_loss improved from 0.57646 to 0.56852, saving model to weights.best.gray_model.hdf5\n",
      "Epoch 00065: val_loss improved from 0.56852 to 0.51308, saving model to weights.best.gray_model.hdf5\n",
      "Epoch 00066: val_loss did not improve\n",
      "Epoch 00067: val_loss did not improve\n",
      "Epoch 00068: val_loss did not improve\n",
      "Epoch 00069: val_loss did not improve\n",
      "Epoch 00070: val_loss did not improve\n",
      "Epoch 00071: val_loss did not improve\n",
      "Epoch 00072: val_loss did not improve\n",
      "Epoch 00073: val_loss did not improve\n",
      "Epoch 00074: val_loss did not improve\n",
      "Epoch 00075: val_loss did not improve\n",
      "Epoch 00076: val_loss did not improve\n",
      "Epoch 00077: val_loss did not improve\n",
      "Epoch 00078: val_loss did not improve\n",
      "Epoch 00079: val_loss did not improve\n",
      "Epoch 00080: val_loss improved from 0.51308 to 0.49622, saving model to weights.best.gray_model.hdf5\n",
      "Epoch 00081: val_loss did not improve\n",
      "Epoch 00082: val_loss did not improve\n",
      "Epoch 00083: val_loss did not improve\n",
      "Epoch 00084: val_loss did not improve\n",
      "Epoch 00085: val_loss did not improve\n",
      "Epoch 00086: val_loss did not improve\n",
      "Epoch 00087: val_loss did not improve\n",
      "Epoch 00088: val_loss improved from 0.49622 to 0.45609, saving model to weights.best.gray_model.hdf5\n",
      "Epoch 00089: val_loss did not improve\n",
      "Epoch 00090: val_loss did not improve\n",
      "Epoch 00091: val_loss did not improve\n",
      "Epoch 00092: val_loss did not improve\n",
      "Epoch 00093: val_loss did not improve\n",
      "Epoch 00094: val_loss improved from 0.45609 to 0.41791, saving model to weights.best.gray_model.hdf5\n",
      "Epoch 00095: val_loss did not improve\n",
      "Epoch 00096: val_loss did not improve\n",
      "Epoch 00097: val_loss did not improve\n",
      "Epoch 00098: val_loss improved from 0.41791 to 0.40616, saving model to weights.best.gray_model.hdf5\n",
      "Epoch 00099: val_loss did not improve\n",
      "Epoch 00100: val_loss did not improve\n",
      "Epoch 00101: val_loss did not improve\n",
      "Epoch 00102: val_loss did not improve\n",
      "Epoch 00103: val_loss did not improve\n",
      "Epoch 00104: val_loss did not improve\n",
      "Epoch 00105: val_loss did not improve\n",
      "Epoch 00106: val_loss did not improve\n",
      "Epoch 00107: val_loss did not improve\n",
      "Epoch 00108: val_loss did not improve\n",
      "Epoch 00109: val_loss did not improve\n",
      "Epoch 00110: val_loss did not improve\n",
      "Epoch 00111: val_loss did not improve\n",
      "Epoch 00112: val_loss did not improve\n",
      "Epoch 00113: val_loss improved from 0.40616 to 0.37978, saving model to weights.best.gray_model.hdf5\n",
      "Epoch 00114: val_loss did not improve\n",
      "Epoch 00115: val_loss did not improve\n",
      "Epoch 00116: val_loss did not improve\n",
      "Epoch 00117: val_loss did not improve\n",
      "Epoch 00118: val_loss did not improve\n",
      "Epoch 00119: val_loss did not improve\n",
      "Epoch 00120: val_loss did not improve\n",
      "Epoch 00121: val_loss did not improve\n",
      "Epoch 00122: val_loss did not improve\n",
      "Epoch 00123: val_loss did not improve\n",
      "Epoch 00124: val_loss did not improve\n",
      "Epoch 00125: val_loss did not improve\n",
      "Epoch 00126: val_loss did not improve\n",
      "Epoch 00127: val_loss did not improve\n",
      "Epoch 00128: val_loss did not improve\n",
      "Epoch 00129: val_loss did not improve\n",
      "Epoch 00130: val_loss did not improve\n",
      "Epoch 00131: val_loss did not improve\n",
      "Epoch 00132: val_loss did not improve\n",
      "Epoch 00133: val_loss did not improve\n",
      "Epoch 00134: val_loss did not improve\n",
      "Epoch 00135: val_loss did not improve\n",
      "Epoch 00136: val_loss did not improve\n",
      "Epoch 00137: val_loss did not improve\n",
      "Epoch 00138: val_loss did not improve\n",
      "Epoch 00139: val_loss did not improve\n",
      "Epoch 00140: val_loss did not improve\n",
      "Epoch 00141: val_loss did not improve\n",
      "Epoch 00142: val_loss did not improve\n",
      "Epoch 00143: val_loss did not improve\n",
      "Epoch 00144: val_loss did not improve\n",
      "Epoch 00145: val_loss did not improve\n",
      "Epoch 00146: val_loss did not improve\n",
      "Epoch 00147: val_loss did not improve\n",
      "Epoch 00148: val_loss did not improve\n",
      "Epoch 00149: val_loss did not improve\n",
      "Epoch 00150: val_loss did not improve\n",
      "Epoch 00151: val_loss did not improve\n",
      "Epoch 00152: val_loss did not improve\n",
      "Epoch 00153: val_loss did not improve\n",
      "Epoch 00154: val_loss did not improve\n"
     ]
    },
    {
     "name": "stdout",
     "output_type": "stream",
     "text": [
      "Epoch 00155: val_loss did not improve\n",
      "Epoch 00156: val_loss did not improve\n",
      "Epoch 00157: val_loss did not improve\n",
      "Epoch 00158: val_loss did not improve\n",
      "Epoch 00159: val_loss did not improve\n",
      "Epoch 00160: val_loss did not improve\n",
      "Epoch 00161: val_loss did not improve\n",
      "Epoch 00162: val_loss did not improve\n",
      "Epoch 00163: val_loss did not improve\n",
      "Epoch 00164: val_loss did not improve\n",
      "Epoch 00165: val_loss did not improve\n",
      "Epoch 00166: val_loss did not improve\n",
      "Epoch 00167: val_loss did not improve\n",
      "Epoch 00168: val_loss did not improve\n",
      "Epoch 00169: val_loss did not improve\n",
      "Epoch 00170: val_loss did not improve\n",
      "Epoch 00171: val_loss did not improve\n",
      "Epoch 00172: val_loss did not improve\n",
      "Epoch 00173: val_loss did not improve\n",
      "Epoch 00174: val_loss did not improve\n",
      "Epoch 00175: val_loss did not improve\n",
      "Epoch 00176: val_loss did not improve\n",
      "Epoch 00177: val_loss did not improve\n",
      "Epoch 00178: val_loss did not improve\n",
      "Epoch 00179: val_loss did not improve\n",
      "Epoch 00180: val_loss did not improve\n",
      "Epoch 00181: val_loss did not improve\n",
      "Epoch 00182: val_loss did not improve\n",
      "Epoch 00183: val_loss did not improve\n",
      "Epoch 00184: val_loss did not improve\n",
      "Epoch 00185: val_loss did not improve\n",
      "Epoch 00186: val_loss did not improve\n",
      "Epoch 00187: val_loss did not improve\n",
      "Epoch 00188: val_loss did not improve\n",
      "Epoch 00189: val_loss did not improve\n",
      "Epoch 00190: val_loss did not improve\n",
      "Epoch 00191: val_loss did not improve\n",
      "Epoch 00192: val_loss did not improve\n",
      "Epoch 00193: val_loss did not improve\n",
      "Epoch 00194: val_loss did not improve\n",
      "Epoch 00195: val_loss did not improve\n",
      "Epoch 00196: val_loss did not improve\n",
      "Epoch 00197: val_loss did not improve\n",
      "Epoch 00198: val_loss did not improve\n",
      "Epoch 00199: val_loss did not improve\n"
     ]
    }
   ],
   "source": [
    "hide_code\n",
    "# Train the model\n",
    "gray_checkpointer = ModelCheckpoint(filepath='weights.best.gray_model.hdf5', \n",
    "                                    verbose=2, save_best_only=True)\n",
    "gray_history = gray_model.fit(x_train2, y_train2, \n",
    "                              epochs=200, batch_size=64, verbose=0,\n",
    "                              validation_data=(x_valid2, y_valid2),\n",
    "                              callbacks=[gray_checkpointer])"
   ]
  },
  {
   "cell_type": "code",
   "execution_count": 44,
   "metadata": {},
   "outputs": [
    {
     "data": {
      "image/png": "[encoded data removed]",
      "text/plain": [
       "<matplotlib.figure.Figure at 0x18bdf7da0>"
      ]
     },
     "metadata": {},
     "output_type": "display_data"
    }
   ],
   "source": [
    "hide_code\n",
    "# Plot the training history\n",
    "history_plot(gray_history, 0)"
   ]
  },
  {
   "cell_type": "markdown",
   "metadata": {},
   "source": [
    "Try to reach an accuracy greater than 80%"
   ]
  },
  {
   "cell_type": "code",
   "execution_count": 45,
   "metadata": {},
   "outputs": [
    {
     "name": "stdout",
     "output_type": "stream",
     "text": [
      "1114/1114 [==============================] - 2s     \n"
     ]
    },
    {
     "data": {
      "text/plain": [
       "[0.45182838260164382, 0.87253141841939796]"
      ]
     },
     "execution_count": 45,
     "metadata": {},
     "output_type": "execute_result"
    }
   ],
   "source": [
    "hide_code\n",
    "# Load the model with the best validation accuracy\n",
    "gray_model.load_weights('weights.best.gray_model.hdf5')\n",
    "# Calculate classification accuracy on the testing set\n",
    "gray_score = gray_model.evaluate(x_test2, y_test2)\n",
    "gray_score"
   ]
  },
  {
   "cell_type": "markdown",
   "metadata": {},
   "source": [
    "Apply the ImageDataGenerator() function."
   ]
  },
  {
   "cell_type": "code",
   "execution_count": null,
   "metadata": {
    "collapsed": true
   },
   "outputs": [],
   "source": [
    "hide_code\n",
    "# Fit the model with ImageDataGenerator()\n",
    "# TODO: Define parameters\n",
    "steps, epochs = 1000, 10\n",
    "data_generator = ImageDataGenerator(zoom_range=0.2, shear_range=0.2, rotation_range=20)\n",
    "\n",
    "gray_generator = gray_model.fit_generator(data_generator.flow(x_train2, y_train2, batch_size=64),\n",
    "                                          steps_per_epoch = steps, epochs = epochs,\n",
    "                                          validation_data = (x_test2, y_test2), \n",
    "                                          callbacks=[gray_checkpointer], verbose=2)"
   ]
  },
  {
   "cell_type": "code",
   "execution_count": null,
   "metadata": {
    "collapsed": true
   },
   "outputs": [],
   "source": [
    "hide_code\n",
    "# Load the model with the best validation accuracy\n",
    "gray_model.load_weights('weights.best.gray_model.hdf5')\n",
    "# Calculate classification accuracy on the testing set\n",
    "gray_score = gray_model.evaluate(x_test2, y_test2)\n",
    "gray_score"
   ]
  },
  {
   "cell_type": "markdown",
   "metadata": {},
   "source": [
    "Let's compare the results with classifying algorithms."
   ]
  },
  {
   "cell_type": "code",
   "execution_count": null,
   "metadata": {
    "collapsed": true
   },
   "outputs": [],
   "source": [
    "hide_code\n",
    "# Fit the classifier and get the accuracy score\n",
    "y_train2_c = np.array([np.argmax(y) for y in y_train2])\n",
    "y_test2_c = np.array([np.argmax(y) for y in y_test2])\n",
    "clf = GradientBoostingClassifier().fit(x_train2.reshape(-1, 32*32), y_train2_c)\n",
    "clf.score(x_test2.reshape(-1, 32*32), y_test2_c)"
   ]
  },
  {
   "cell_type": "code",
   "execution_count": null,
   "metadata": {
    "collapsed": true
   },
   "outputs": [],
   "source": [
    "hide_code\n",
    "# Fit the classifier and get the accuracy score\n",
    "clf2 = RandomForestClassifier().fit(x_train2.reshape(-1, 32*32), y_train2_c)\n",
    "clf2.score(x_test2.reshape(-1, 32*32), y_test2_c)"
   ]
  },
  {
   "cell_type": "markdown",
   "metadata": {},
   "source": [
    "## Step 5. Create a Multi-Label Classification Model\n",
    "### Color Images"
   ]
  },
  {
   "cell_type": "code",
   "execution_count": 46,
   "metadata": {
    "collapsed": true
   },
   "outputs": [],
   "source": [
    "hide_code\n",
    "def multi_model():    \n",
    "    model_input = Input(shape=(32, 32, 3))\n",
    "    x = BatchNormalization()(model_input)\n",
    "    # TODO: Define a model architecture\n",
    "    x = Conv2D(32, (5, 5), activation='relu', padding='same')(model_input)\n",
    "    x = MaxPooling2D(pool_size=(2, 2))(x)    \n",
    "    x = Dropout(0.25)(x)\n",
    "    \n",
    "    x = Conv2D(128, (5, 5), activation='relu', padding='same')(x)       \n",
    "    x = MaxPooling2D(pool_size=(2, 2))(x)    \n",
    "    x = Dropout(0.25)(x)\n",
    "              \n",
    "    x = GlobalMaxPooling2D()(x)\n",
    "    \n",
    "    x = Dense(1024, activation='relu')(x)    \n",
    "    x = Dropout(0.25)(x)\n",
    "    \n",
    "    y1 = Dense(33, activation='softmax')(x)\n",
    "    y2 = Dense(2, activation='softmax')(x)\n",
    "    \n",
    "    model = Model(inputs=model_input, outputs=[y1, y2])\n",
    "    \n",
    "    # TODO: Compile the model\n",
    "    model.compile(loss='categorical_crossentropy', optimizer='rmsprop', metrics=['accuracy'])\n",
    "    return model\n",
    "\n",
    "multi_model = multi_model()"
   ]
  },
  {
   "cell_type": "code",
   "execution_count": 47,
   "metadata": {},
   "outputs": [
    {
     "name": "stdout",
     "output_type": "stream",
     "text": [
      "____________________________________________________________________________________________________\n",
      "Layer (type)                     Output Shape          Param #     Connected to                     \n",
      "====================================================================================================\n",
      "input_1 (InputLayer)             (None, 32, 32, 3)     0                                            \n",
      "____________________________________________________________________________________________________\n",
      "conv2d_5 (Conv2D)                (None, 32, 32, 32)    2432        input_1[0][0]                    \n",
      "____________________________________________________________________________________________________\n",
      "max_pooling2d_5 (MaxPooling2D)   (None, 16, 16, 32)    0           conv2d_5[0][0]                   \n",
      "____________________________________________________________________________________________________\n",
      "dropout_8 (Dropout)              (None, 16, 16, 32)    0           max_pooling2d_5[0][0]            \n",
      "____________________________________________________________________________________________________\n",
      "conv2d_6 (Conv2D)                (None, 16, 16, 128)   102528      dropout_8[0][0]                  \n",
      "____________________________________________________________________________________________________\n",
      "max_pooling2d_6 (MaxPooling2D)   (None, 8, 8, 128)     0           conv2d_6[0][0]                   \n",
      "____________________________________________________________________________________________________\n",
      "dropout_9 (Dropout)              (None, 8, 8, 128)     0           max_pooling2d_6[0][0]            \n",
      "____________________________________________________________________________________________________\n",
      "global_max_pooling2d_3 (GlobalMa (None, 128)           0           dropout_9[0][0]                  \n",
      "____________________________________________________________________________________________________\n",
      "dense_6 (Dense)                  (None, 1024)          132096      global_max_pooling2d_3[0][0]     \n",
      "____________________________________________________________________________________________________\n",
      "dropout_10 (Dropout)             (None, 1024)          0           dense_6[0][0]                    \n",
      "____________________________________________________________________________________________________\n",
      "dense_7 (Dense)                  (None, 33)            33825       dropout_10[0][0]                 \n",
      "____________________________________________________________________________________________________\n",
      "dense_8 (Dense)                  (None, 2)             2050        dropout_10[0][0]                 \n",
      "====================================================================================================\n",
      "Total params: 272,931\n",
      "Trainable params: 272,931\n",
      "Non-trainable params: 0\n",
      "____________________________________________________________________________________________________\n"
     ]
    }
   ],
   "source": [
    "hide_code\n",
    "# Display the model architecture\n",
    "multi_model.summary()"
   ]
  },
  {
   "cell_type": "code",
   "execution_count": 48,
   "metadata": {},
   "outputs": [
    {
     "name": "stdout",
     "output_type": "stream",
     "text": [
      "Epoch 00000: val_loss improved from inf to 4.20252, saving model to weights.best.multi.hdf5\n",
      "Epoch 00001: val_loss did not improve\n",
      "Epoch 00002: val_loss improved from 4.20252 to 4.13064, saving model to weights.best.multi.hdf5\n",
      "Epoch 00003: val_loss did not improve\n",
      "Epoch 00004: val_loss did not improve\n",
      "Epoch 00005: val_loss did not improve\n",
      "Epoch 00006: val_loss did not improve\n",
      "Epoch 00007: val_loss did not improve\n",
      "Epoch 00008: val_loss did not improve\n",
      "Epoch 00009: val_loss did not improve\n"
     ]
    }
   ],
   "source": [
    "hide_code\n",
    "# Train the model\n",
    "multi_checkpointer = ModelCheckpoint(filepath='weights.best.multi.hdf5', \n",
    "                                     verbose=2, save_best_only=True)\n",
    "multi_history = multi_model.fit(x_train3, y_train3_list, \n",
    "                                validation_data=(x_test3, y_test3_list), \n",
    "                                epochs=10, batch_size=64, verbose=0, \n",
    "                                callbacks=[multi_checkpointer])"
   ]
  },
  {
   "cell_type": "markdown",
   "metadata": {},
   "source": [
    "We should have an accuracy greater than 3% for the first target (letter) and greater than 50% for the second target (background)."
   ]
  },
  {
   "cell_type": "code",
   "execution_count": 49,
   "metadata": {},
   "outputs": [
    {
     "name": "stdout",
     "output_type": "stream",
     "text": [
      "Scores: \n",
      " [4.1306384881052125, 3.3628470174286051, 0.76779149700110005, 0.061041292706019573, 0.49730700184883719]\n",
      "First label. Accuracy: 6.10%\n",
      "Second label. Accuracy: 49.73%\n"
     ]
    }
   ],
   "source": [
    "hide_code\n",
    "# Load the model with the best validation accuracy\n",
    "multi_model.load_weights('weights.best.multi.hdf5')\n",
    "# Calculate classification accuracy on the testing set\n",
    "multi_scores = multi_model.evaluate(x_test3, y_test3_list, verbose=0)\n",
    "\n",
    "print(\"Scores: \\n\" , (multi_scores))\n",
    "print(\"First label. Accuracy: %.2f%%\" % (multi_scores[3]*100))\n",
    "print(\"Second label. Accuracy: %.2f%%\" % (multi_scores[4]*100))"
   ]
  },
  {
   "cell_type": "markdown",
   "metadata": {
    "collapsed": true
   },
   "source": [
    "### Grayscaled Images"
   ]
  },
  {
   "cell_type": "code",
   "execution_count": 50,
   "metadata": {
    "collapsed": true
   },
   "outputs": [],
   "source": [
    "hide_code\n",
    "def gray_multi_model():    \n",
    "    model_input = Input(shape=(32, 32, 1))\n",
    "    x = BatchNormalization()(model_input)\n",
    "    # TODO: Define a model architecture\n",
    "    x = Conv2D(32, (5, 5), activation='relu', padding='same')(model_input)\n",
    "    x = MaxPooling2D(pool_size=(2, 2))(x)    \n",
    "    x = Dropout(0.25)(x)\n",
    "    \n",
    "    x = Conv2D(256, (5, 5), activation='relu', padding='same')(x)       \n",
    "    x = MaxPooling2D(pool_size=(2, 2))(x)    \n",
    "    x = Dropout(0.25)(x)\n",
    "              \n",
    "    x = GlobalMaxPooling2D()(x)\n",
    "    \n",
    "    x = Dense(1024, activation='relu')(x)    \n",
    "    x = Dropout(0.25)(x)\n",
    "    \n",
    "    x = Dense(256, activation='relu')(x)    \n",
    "    x = Dropout(0.25)(x)\n",
    "    \n",
    "    y1 = Dense(33, activation='softmax')(x)\n",
    "    y2 = Dense(2, activation='softmax')(x)\n",
    "       \n",
    "    model = Model(inputs=model_input, outputs=[y1, y2])\n",
    "    # TODO: Compile the model\n",
    "\n",
    "    model.compile(loss='categorical_crossentropy', optimizer='rmsprop', metrics=['accuracy'])   \n",
    "    return model\n",
    "\n",
    "gray_multi_model = gray_multi_model()"
   ]
  },
  {
   "cell_type": "code",
   "execution_count": 51,
   "metadata": {},
   "outputs": [
    {
     "name": "stdout",
     "output_type": "stream",
     "text": [
      "Epoch 00000: val_loss improved from inf to 4.12317, saving model to weights.best.gray_multi.hdf5\n",
      "Epoch 00001: val_loss improved from 4.12317 to 4.07046, saving model to weights.best.gray_multi.hdf5\n",
      "Epoch 00002: val_loss improved from 4.07046 to 4.06225, saving model to weights.best.gray_multi.hdf5\n",
      "Epoch 00003: val_loss improved from 4.06225 to 3.60994, saving model to weights.best.gray_multi.hdf5\n",
      "Epoch 00004: val_loss improved from 3.60994 to 3.49411, saving model to weights.best.gray_multi.hdf5\n",
      "Epoch 00005: val_loss improved from 3.49411 to 3.39508, saving model to weights.best.gray_multi.hdf5\n",
      "Epoch 00006: val_loss improved from 3.39508 to 3.20797, saving model to weights.best.gray_multi.hdf5\n",
      "Epoch 00007: val_loss did not improve\n",
      "Epoch 00008: val_loss improved from 3.20797 to 3.15714, saving model to weights.best.gray_multi.hdf5\n",
      "Epoch 00009: val_loss did not improve\n",
      "Epoch 00010: val_loss improved from 3.15714 to 3.12581, saving model to weights.best.gray_multi.hdf5\n",
      "Epoch 00011: val_loss did not improve\n",
      "Epoch 00012: val_loss did not improve\n",
      "Epoch 00013: val_loss improved from 3.12581 to 3.05825, saving model to weights.best.gray_multi.hdf5\n",
      "Epoch 00014: val_loss did not improve\n",
      "Epoch 00015: val_loss improved from 3.05825 to 2.99667, saving model to weights.best.gray_multi.hdf5\n",
      "Epoch 00016: val_loss improved from 2.99667 to 2.89776, saving model to weights.best.gray_multi.hdf5\n",
      "Epoch 00017: val_loss improved from 2.89776 to 2.80055, saving model to weights.best.gray_multi.hdf5\n",
      "Epoch 00018: val_loss did not improve\n",
      "Epoch 00019: val_loss did not improve\n",
      "Epoch 00020: val_loss improved from 2.80055 to 2.71203, saving model to weights.best.gray_multi.hdf5\n",
      "Epoch 00021: val_loss improved from 2.71203 to 2.46365, saving model to weights.best.gray_multi.hdf5\n",
      "Epoch 00022: val_loss did not improve\n",
      "Epoch 00023: val_loss improved from 2.46365 to 2.17571, saving model to weights.best.gray_multi.hdf5\n",
      "Epoch 00024: val_loss did not improve\n",
      "Epoch 00025: val_loss did not improve\n",
      "Epoch 00026: val_loss improved from 2.17571 to 1.83764, saving model to weights.best.gray_multi.hdf5\n",
      "Epoch 00027: val_loss did not improve\n",
      "Epoch 00028: val_loss did not improve\n",
      "Epoch 00029: val_loss did not improve\n",
      "Epoch 00030: val_loss improved from 1.83764 to 1.79529, saving model to weights.best.gray_multi.hdf5\n",
      "Epoch 00031: val_loss improved from 1.79529 to 1.67780, saving model to weights.best.gray_multi.hdf5\n",
      "Epoch 00032: val_loss improved from 1.67780 to 1.57870, saving model to weights.best.gray_multi.hdf5\n",
      "Epoch 00033: val_loss improved from 1.57870 to 1.53846, saving model to weights.best.gray_multi.hdf5\n",
      "Epoch 00034: val_loss did not improve\n",
      "Epoch 00035: val_loss improved from 1.53846 to 1.53007, saving model to weights.best.gray_multi.hdf5\n",
      "Epoch 00036: val_loss did not improve\n",
      "Epoch 00037: val_loss did not improve\n",
      "Epoch 00038: val_loss improved from 1.53007 to 1.40978, saving model to weights.best.gray_multi.hdf5\n",
      "Epoch 00039: val_loss improved from 1.40978 to 1.22964, saving model to weights.best.gray_multi.hdf5\n",
      "Epoch 00040: val_loss did not improve\n",
      "Epoch 00041: val_loss improved from 1.22964 to 1.12674, saving model to weights.best.gray_multi.hdf5\n",
      "Epoch 00042: val_loss did not improve\n",
      "Epoch 00043: val_loss did not improve\n",
      "Epoch 00044: val_loss did not improve\n",
      "Epoch 00045: val_loss did not improve\n",
      "Epoch 00046: val_loss did not improve\n",
      "Epoch 00047: val_loss improved from 1.12674 to 1.11787, saving model to weights.best.gray_multi.hdf5\n",
      "Epoch 00048: val_loss did not improve\n",
      "Epoch 00049: val_loss did not improve\n",
      "Epoch 00050: val_loss improved from 1.11787 to 0.98099, saving model to weights.best.gray_multi.hdf5\n",
      "Epoch 00051: val_loss improved from 0.98099 to 0.84749, saving model to weights.best.gray_multi.hdf5\n",
      "Epoch 00052: val_loss did not improve\n",
      "Epoch 00053: val_loss did not improve\n",
      "Epoch 00054: val_loss did not improve\n",
      "Epoch 00055: val_loss did not improve\n",
      "Epoch 00056: val_loss did not improve\n",
      "Epoch 00057: val_loss did not improve\n",
      "Epoch 00058: val_loss improved from 0.84749 to 0.84667, saving model to weights.best.gray_multi.hdf5\n",
      "Epoch 00059: val_loss improved from 0.84667 to 0.72837, saving model to weights.best.gray_multi.hdf5\n",
      "Epoch 00060: val_loss did not improve\n",
      "Epoch 00061: val_loss did not improve\n",
      "Epoch 00062: val_loss improved from 0.72837 to 0.72199, saving model to weights.best.gray_multi.hdf5\n",
      "Epoch 00063: val_loss did not improve\n",
      "Epoch 00064: val_loss improved from 0.72199 to 0.71731, saving model to weights.best.gray_multi.hdf5\n",
      "Epoch 00065: val_loss did not improve\n",
      "Epoch 00066: val_loss did not improve\n",
      "Epoch 00067: val_loss did not improve\n",
      "Epoch 00068: val_loss improved from 0.71731 to 0.70154, saving model to weights.best.gray_multi.hdf5\n",
      "Epoch 00069: val_loss improved from 0.70154 to 0.68233, saving model to weights.best.gray_multi.hdf5\n",
      "Epoch 00070: val_loss did not improve\n",
      "Epoch 00071: val_loss did not improve\n",
      "Epoch 00072: val_loss did not improve\n",
      "Epoch 00073: val_loss did not improve\n",
      "Epoch 00074: val_loss improved from 0.68233 to 0.62684, saving model to weights.best.gray_multi.hdf5\n",
      "Epoch 00075: val_loss improved from 0.62684 to 0.61809, saving model to weights.best.gray_multi.hdf5\n",
      "Epoch 00076: val_loss did not improve\n",
      "Epoch 00077: val_loss did not improve\n",
      "Epoch 00078: val_loss did not improve\n",
      "Epoch 00079: val_loss did not improve\n",
      "Epoch 00080: val_loss did not improve\n",
      "Epoch 00081: val_loss improved from 0.61809 to 0.60191, saving model to weights.best.gray_multi.hdf5\n",
      "Epoch 00082: val_loss did not improve\n",
      "Epoch 00083: val_loss did not improve\n",
      "Epoch 00084: val_loss did not improve\n",
      "Epoch 00085: val_loss did not improve\n",
      "Epoch 00086: val_loss improved from 0.60191 to 0.58844, saving model to weights.best.gray_multi.hdf5\n",
      "Epoch 00087: val_loss improved from 0.58844 to 0.56666, saving model to weights.best.gray_multi.hdf5\n",
      "Epoch 00088: val_loss did not improve\n",
      "Epoch 00089: val_loss did not improve\n",
      "Epoch 00090: val_loss did not improve\n",
      "Epoch 00091: val_loss did not improve\n",
      "Epoch 00092: val_loss did not improve\n",
      "Epoch 00093: val_loss did not improve\n",
      "Epoch 00094: val_loss did not improve\n",
      "Epoch 00095: val_loss did not improve\n",
      "Epoch 00096: val_loss did not improve\n",
      "Epoch 00097: val_loss did not improve\n",
      "Epoch 00098: val_loss did not improve\n",
      "Epoch 00099: val_loss improved from 0.56666 to 0.53422, saving model to weights.best.gray_multi.hdf5\n"
     ]
    }
   ],
   "source": [
    "hide_code\n",
    "# Train the model\n",
    "gray_multi_checkpointer = ModelCheckpoint(filepath='weights.best.gray_multi.hdf5', \n",
    "                                          verbose=2, save_best_only=True)\n",
    "gray_multi_history = gray_multi_model.fit(x_train4, y_train4_list, \n",
    "                                          validation_data=(x_test4, y_test4_list), \n",
    "                                          epochs=100, batch_size=64, verbose=0, \n",
    "                                          callbacks=[gray_multi_checkpointer])"
   ]
  },
  {
   "cell_type": "markdown",
   "metadata": {},
   "source": [
    "We should have an accuracy greater than 3% for the first target (letter) and greater than 50% for the second target (background)."
   ]
  },
  {
   "cell_type": "code",
   "execution_count": 52,
   "metadata": {},
   "outputs": [
    {
     "name": "stdout",
     "output_type": "stream",
     "text": [
      "Scores: \n",
      " [0.53422397388483078, 0.51465137262746719, 0.019572603152456645, 0.82944344714471208, 0.99281867145421898]\n",
      "First label. Accuracy: 82.94%\n",
      "Second label. Accuracy: 99.28%\n"
     ]
    }
   ],
   "source": [
    "hide_code\n",
    "# Load the model with the best validation accuracy\n",
    "gray_multi_model.load_weights('weights.best.gray_multi.hdf5')\n",
    "# Calculate classification accuracy on the testing set\n",
    "gray_multi_scores = gray_multi_model.evaluate(x_test4, y_test4_list, verbose=0)\n",
    "\n",
    "print(\"Scores: \\n\" , (gray_multi_scores))\n",
    "print(\"First label. Accuracy: %.2f%%\" % (gray_multi_scores[3]*100))\n",
    "print(\"Second label. Accuracy: %.2f%%\" % (gray_multi_scores[4]*100))"
   ]
  },
  {
   "cell_type": "markdown",
   "metadata": {},
   "source": [
    "## Step 6. Keras Applications\n",
    "Choose one of the keras applications and try to reach an accuracy greater than 30%\n",
    "### Color Images"
   ]
  },
  {
   "cell_type": "code",
   "execution_count": null,
   "metadata": {
    "collapsed": true
   },
   "outputs": [],
   "source": [
    "# Create bottleneck features\n",
    "resize_x_train = np.array([scipy.misc.imresize(x_train[i], (139, 139, 3)) \n",
    "                           for i in range(0, len(x_train))]).astype('float32')\n",
    "resize_x_test = np.array([scipy.misc.imresize(x_test[i], (139, 139, 3)) \n",
    "                          for i in range(0, len(x_test))]).astype('float32')\n",
    "resize_x_valid = np.array([scipy.misc.imresize(x_valid[i], (139, 139, 3)) \n",
    "                          for i in range(0, len(x_valid))]).astype('float32')\n",
    "\n",
    "iv3_x_train = preprocess_input(resize_x_train)\n",
    "iv3_x_test = preprocess_input(resize_x_test)\n",
    "iv3_x_valid = preprocess_input(resize_x_valid)\n",
    "\n",
    "iv3_base_model = InceptionV3(weights='imagenet', include_top=False)\n",
    "x_train_bn = iv3_base_model.predict(iv3_x_train)\n",
    "x_test_bn = iv3_base_model.predict(iv3_x_test)\n",
    "x_valid_bn = iv3_base_model.predict(iv3_x_valid)"
   ]
  },
  {
   "cell_type": "code",
   "execution_count": null,
   "metadata": {
    "collapsed": true
   },
   "outputs": [],
   "source": [
    "# Save bottleneck features\n",
    "x_train_bn = np.squeeze(x_train_bn)\n",
    "x_test_bn = np.squeeze(x_test_bn)\n",
    "x_valid_bn = np.squeeze(x_valid_bn)\n",
    "\n",
    "np.save('x_train_bn.npy', x_train_bn)\n",
    "np.save('x_test_bn.npy', x_test_bn)\n",
    "np.save('x_valid_bn.npy', x_valid_bn)"
   ]
  },
  {
   "cell_type": "code",
   "execution_count": null,
   "metadata": {
    "collapsed": true
   },
   "outputs": [],
   "source": [
    "# Load bottleneck features\n",
    "x_train_bn = np.load('x_train_bn.npy')\n",
    "x_test_bn = np.load('x_test_bn.npy')\n",
    "x_valid_bn = np.load('x_valid_bn.npy')"
   ]
  },
  {
   "cell_type": "code",
   "execution_count": null,
   "metadata": {
    "collapsed": true
   },
   "outputs": [],
   "source": [
    "hide_code\n",
    "def iv3_model():\n",
    "    model = Sequential()\n",
    "    # TODO: Define a model architecture\n",
    "    model.add(Conv2D(filters=32, kernel_size=2, input_shape=x_train_bn.shape[1:]))\n",
    "    model.add(MaxPooling2D(pool_size=(2, 2)))\n",
    "    model.add(Dropout(0.25))\n",
    "    \n",
    "    model.add(GlobalAveragePooling2D())\n",
    "    model.add(Dropout(0.25))\n",
    "    \n",
    "    model.add(Dense(2048, activation='relu'))\n",
    "    model.add(Dropout(0.25))\n",
    "        \n",
    "    model.add(Dense(512, activation='relu'))\n",
    "    model.add(Dropout(0.25))\n",
    "    \n",
    "    model.add(Dense(33, activation='softmax'))\n",
    "    \n",
    "    # TODO: Compile the model \n",
    "    model.compile(loss='categorical_crossentropy', optimizer='rmsprop', metrics=['accuracy'])    \n",
    "\n",
    "    return model\n",
    "\n",
    "iv3_model = iv3_model()"
   ]
  },
  {
   "cell_type": "code",
   "execution_count": null,
   "metadata": {
    "collapsed": true
   },
   "outputs": [],
   "source": [
    "hide_code\n",
    "# Fit the model \n",
    "iv3_checkpointer = ModelCheckpoint(filepath='weights.best.iv3.hdf5', \n",
    "                                     verbose=2, save_best_only=True)\n",
    "iv3_history = iv3_model.fit(x_train_bn, y_train, \n",
    "                            validation_data=(x_valid_bn, y_valid),\n",
    "                            epochs=50, batch_size=64, \n",
    "                            callbacks=[iv3_checkpointer], verbose=0);"
   ]
  },
  {
   "cell_type": "code",
   "execution_count": null,
   "metadata": {
    "collapsed": true
   },
   "outputs": [],
   "source": [
    "hide_code\n",
    "# Plot the training history\n",
    "history_plot(iv3_history, 0)"
   ]
  },
  {
   "cell_type": "code",
   "execution_count": null,
   "metadata": {
    "collapsed": true
   },
   "outputs": [],
   "source": [
    "hide_code\n",
    "# Load the model with the best validation accuracy\n",
    "iv3_model.load_weights('weights.best.iv3.hdf5')\n",
    "# Calculate classification accuracy on the testing set\n",
    "iv3_scores = iv3_model.evaluate(x_test_bn, y_test)\n",
    "print(\"Accuracy: %.2f%%\" % (iv3_scores[1]*100))\n",
    "iv3_scores"
   ]
  },
  {
   "cell_type": "markdown",
   "metadata": {},
   "source": [
    "### Grayscaled Images"
   ]
  },
  {
   "cell_type": "code",
   "execution_count": null,
   "metadata": {
    "collapsed": true
   },
   "outputs": [],
   "source": [
    "# Create bottleneck features\n",
    "resize_x_train2 = np.array([scipy.misc.imresize(x_train2_color[i], (139, 139, 3)) \n",
    "                            for i in range(0, len(x_train2_color))]).astype('float32')\n",
    "resize_x_test2 = np.array([scipy.misc.imresize(x_test2_color[i], (139, 139, 3)) \n",
    "                           for i in range(0, len(x_test2_color))]).astype('float32')\n",
    "resize_x_valid2 = np.array([scipy.misc.imresize(x_valid2_color[i], (139, 139, 3)) \n",
    "                           for i in range(0, len(x_valid2_color))]).astype('float32')\n",
    "\n",
    "iv3_x_train2 = preprocess_input(resize_x_train2)\n",
    "iv3_x_test2 = preprocess_input(resize_x_test2)\n",
    "iv3_x_valid2 = preprocess_input(resize_x_valid2)\n",
    "\n",
    "iv3_base_model2 = InceptionV3(weights='imagenet', include_top=False)\n",
    "x_train_bn2 = iv3_base_model2.predict(iv3_x_train2)\n",
    "x_test_bn2 = iv3_base_model2.predict(iv3_x_test2)\n",
    "x_valid_bn2 = iv3_base_model2.predict(iv3_x_valid2)"
   ]
  },
  {
   "cell_type": "code",
   "execution_count": null,
   "metadata": {
    "collapsed": true
   },
   "outputs": [],
   "source": [
    "# Save bottleneck features\n",
    "x_train_bn2 = np.squeeze(x_train_bn2)\n",
    "x_test_bn2 = np.squeeze(x_test_bn2)\n",
    "x_valid_bn2 = np.squeeze(x_valid_bn2)\n",
    "\n",
    "np.save('x_train_bn2.npy', x_train_bn2)\n",
    "np.save('x_test_bn2.npy', x_test_bn2)\n",
    "np.save('x_valid_bn2.npy', x_valid_bn2)"
   ]
  },
  {
   "cell_type": "code",
   "execution_count": null,
   "metadata": {
    "collapsed": true
   },
   "outputs": [],
   "source": [
    "# Load bottleneck features\n",
    "x_train_bn2 = np.load('x_train_bn2.npy')\n",
    "x_test_bn2 = np.load('x_test_bn2.npy')\n",
    "x_valid_bn2 = np.load('x_valid_bn2.npy')"
   ]
  },
  {
   "cell_type": "code",
   "execution_count": null,
   "metadata": {
    "collapsed": true
   },
   "outputs": [],
   "source": [
    "hide_code\n",
    "def iv3_gray_model():\n",
    "    model = Sequential()\n",
    "    # TODO: Define a model architecture\n",
    "    model.add(Conv2D(filters=32, kernel_size=2, input_shape=x_train_bn2.shape[1:]))\n",
    "    model.add(MaxPooling2D(pool_size=(2, 2)))\n",
    "    model.add(Dropout(0.25))\n",
    "    \n",
    "    model.add(GlobalAveragePooling2D())\n",
    "    model.add(Dropout(0.25))\n",
    "    \n",
    "    model.add(Dense(1024, activation='relu'))\n",
    "    model.add(Dropout(0.25))\n",
    "        \n",
    "    model.add(Dense(256, activation='relu'))\n",
    "    model.add(Dropout(0.25))\n",
    "    \n",
    "    model.add(Dense(33, activation='softmax'))\n",
    "    # TODO: Compile the model     \n",
    "    model.compile(loss='categorical_crossentropy', optimizer='rmsprop', metrics=['accuracy'])\n",
    "    return model\n",
    "\n",
    "iv3_gray_model = iv3_gray_model()"
   ]
  },
  {
   "cell_type": "code",
   "execution_count": null,
   "metadata": {
    "collapsed": true
   },
   "outputs": [],
   "source": [
    "hide_code\n",
    "# Fit the model \n",
    "iv3_gray_checkpointer = ModelCheckpoint(filepath='weights.best.iv3_gray.hdf5', \n",
    "                                        verbose=2, save_best_only=True)\n",
    "iv3_gray_history = iv3_gray_model.fit(x_train_bn2, y_train2, \n",
    "                                      validation_data=(x_valid_bn2, y_valid2),\n",
    "                                      epochs=50, batch_size=64, \n",
    "                                      callbacks=[iv3_gray_checkpointer], verbose=0);"
   ]
  },
  {
   "cell_type": "code",
   "execution_count": null,
   "metadata": {
    "collapsed": true
   },
   "outputs": [],
   "source": [
    "hide_code\n",
    "# Plot the training history\n",
    "history_plot(iv3_gray_history, 0)"
   ]
  },
  {
   "cell_type": "code",
   "execution_count": null,
   "metadata": {
    "collapsed": true
   },
   "outputs": [],
   "source": [
    "hide_code\n",
    "# Load the model with the best validation accuracy\n",
    "iv3_gray_model.load_weights('weights.best.iv3_gray.hdf5')\n",
    "# Calculate classification accuracy on the testing set\n",
    "iv3_gray_scores = iv3_gray_model.evaluate(x_test_bn2, y_test2)\n",
    "print(\"Accuracy: %.2f%%\" % (iv3_gray_scores[1]*100))\n",
    "iv3_gray_scores"
   ]
  },
  {
   "cell_type": "markdown",
   "metadata": {},
   "source": [
    "## Step 7. Predictions\n",
    "Display predictions for the models with the best accuracy.\n",
    "### Color Images"
   ]
  },
  {
   "cell_type": "code",
   "execution_count": 66,
   "metadata": {
    "collapsed": true
   },
   "outputs": [],
   "source": [
    "hide_code\n",
    "# Create a list of symbols\n",
    "symbols = ['а','б','в','г','д','е','ё','ж','з','и','й',\n",
    "           'к','л','м','н','о','п','р','с','т','у','ф',\n",
    "           'х','ц','ч','ш','щ','ъ','ы','ь','э','ю','я']"
   ]
  },
  {
   "cell_type": "code",
   "execution_count": null,
   "metadata": {
    "collapsed": true
   },
   "outputs": [],
   "source": [
    "hide_code\n",
    "# Model predictions for the testing dataset\n",
    "y_test_predict = iv3_model.predict_classes(x_test_bn)"
   ]
  },
  {
   "cell_type": "code",
   "execution_count": null,
   "metadata": {
    "collapsed": true
   },
   "outputs": [],
   "source": [
    "hide_code\n",
    "# Display true labels and predictions\n",
    "fig = plt.figure(figsize=(18, 18))\n",
    "for i, idx in enumerate(np.random.choice(x_test.shape[0], size=16, replace=False)):\n",
    "    ax = fig.add_subplot(4, 4, i + 1, xticks=[], yticks=[])\n",
    "    ax.imshow(np.squeeze(x_test[idx]))\n",
    "    pred_idx = y_test_predict[idx]\n",
    "    true_idx = np.argmax(y_test[idx])\n",
    "    ax.set_title(\"{} ({})\".format(symbols[pred_idx], symbols[true_idx]),\n",
    "                 color=(\"#4876ff\" if pred_idx == true_idx else \"darkred\"))"
   ]
  },
  {
   "cell_type": "markdown",
   "metadata": {},
   "source": [
    "### Grayscaled Images"
   ]
  },
  {
   "cell_type": "code",
   "execution_count": null,
   "metadata": {
    "collapsed": true
   },
   "outputs": [],
   "source": [
    "hide_code\n",
    "# Model predictions for the testing dataset\n",
    "y_test2_predict = gray_model.predict_classes(x_test2)"
   ]
  },
  {
   "cell_type": "code",
   "execution_count": null,
   "metadata": {
    "collapsed": true
   },
   "outputs": [],
   "source": [
    "hide_code\n",
    "# Display true labels and predictions\n",
    "fig = plt.figure(figsize=(18, 18))\n",
    "for i, idx in enumerate(np.random.choice(x_test2.shape[0], size=16, replace=False)):\n",
    "    ax = fig.add_subplot(4, 4, i + 1, xticks=[], yticks=[])\n",
    "    ax.imshow(np.squeeze(x_test2[idx]), cmap=cm.bone)\n",
    "    pred_idx = y_test2_predict[idx]\n",
    "    true_idx = np.argmax(y_test2[idx])\n",
    "    ax.set_title(\"{} ({})\".format(symbols[pred_idx], symbols[true_idx]),\n",
    "                 color=(\"#4876ff\" if pred_idx == true_idx else \"darkred\"))"
   ]
  }
 ],
 "metadata": {
  "kernelspec": {
   "display_name": "Python 3",
   "language": "python",
   "name": "python3"
  },
  "language_info": {
   "codemirror_mode": {
    "name": "ipython",
    "version": 3
   },
   "file_extension": ".py",
   "mimetype": "text/x-python",
   "name": "python",
   "nbconvert_exporter": "python",
   "pygments_lexer": "ipython3",
   "version": "3.6.1"
  }
 },
 "nbformat": 4,
 "nbformat_minor": 2
}
