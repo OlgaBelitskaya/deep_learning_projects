{
 "cells": [
  {
   "cell_type": "markdown",
   "metadata": {},
   "source": [
    "# Deep Learning\n",
    "## Practice Projects\n",
    "# P2: Multi-Label Classification\n",
    "\n",
    "## Step 0. Style and Libraries\n",
    "Let's choose a style of the Jupyter notebook and import the software libraries. The command hide_code will hide the code cells."
   ]
  },
  {
   "cell_type": "code",
   "execution_count": 1,
   "metadata": {},
   "outputs": [
    {
     "data": {
      "text/html": [
       "<style>\n",
       "@import url('https://fonts.googleapis.com/css?family=Orbitron|Roboto');\n",
       "body {background-color: aliceblue;} \n",
       "a {color: #4876ff; font-family: 'Roboto';} \n",
       "h1 {color: #348ABD; font-family: 'Orbitron'; text-shadow: 4px 4px 4px #ccc;} \n",
       "h2, h3 {color: slategray; font-family: 'Roboto'; text-shadow: 4px 4px 4px #ccc;}\n",
       "h4 {color: #348ABD; font-family: 'Orbitron';}\n",
       "span {text-shadow: 4px 4px 4px #ccc;}\n",
       "div.output_prompt, div.output_area pre {color: slategray;}\n",
       "div.input_prompt, div.output_subarea {color: #4876ff;}      \n",
       "div.output_stderr pre {background-color: aliceblue;}  \n",
       "div.output_stderr {background-color: slategrey;}                        \n",
       "</style>\n",
       "<script>\n",
       "code_show = true; \n",
       "function code_display() {\n",
       "    if (code_show) {\n",
       "        $('div.input').each(function(id) {\n",
       "            if (id == 0 || $(this).html().indexOf('hide_code') > -1) {$(this).hide();}\n",
       "        });\n",
       "        $('div.output_prompt').css('opacity', 0);\n",
       "    } else {\n",
       "        $('div.input').each(function(id) {$(this).show();});\n",
       "        $('div.output_prompt').css('opacity', 1);\n",
       "    };\n",
       "    code_show = !code_show;\n",
       "} \n",
       "$(document).ready(code_display);\n",
       "</script>\n",
       "<form action=\"javascript: code_display()\">\n",
       "<input style=\"color: #348ABD; background: aliceblue; opacity: 0.8;\" \\ \n",
       "type=\"submit\" value=\"Click to display or hide code cells\">\n",
       "</form>                  "
      ],
      "text/plain": [
       "<IPython.core.display.HTML object>"
      ]
     },
     "metadata": {},
     "output_type": "display_data"
    }
   ],
   "source": [
    "%%html\n",
    "<style>\n",
    "@import url('https://fonts.googleapis.com/css?family=Orbitron|Roboto');\n",
    "body {background-color: aliceblue;} \n",
    "a {color: #4876ff; font-family: 'Roboto';} \n",
    "h1 {color: #348ABD; font-family: 'Orbitron'; text-shadow: 4px 4px 4px #ccc;} \n",
    "h2, h3 {color: slategray; font-family: 'Roboto'; text-shadow: 4px 4px 4px #ccc;}\n",
    "h4 {color: #348ABD; font-family: 'Orbitron';}\n",
    "span {text-shadow: 4px 4px 4px #ccc;}\n",
    "div.output_prompt, div.output_area pre {color: slategray;}\n",
    "div.input_prompt, div.output_subarea {color: #4876ff;}      \n",
    "div.output_stderr pre {background-color: aliceblue;}  \n",
    "div.output_stderr {background-color: slategrey;}                        \n",
    "</style>\n",
    "<script>\n",
    "code_show = true; \n",
    "function code_display() {\n",
    "    if (code_show) {\n",
    "        $('div.input').each(function(id) {\n",
    "            if (id == 0 || $(this).html().indexOf('hide_code') > -1) {$(this).hide();}\n",
    "        });\n",
    "        $('div.output_prompt').css('opacity', 0);\n",
    "    } else {\n",
    "        $('div.input').each(function(id) {$(this).show();});\n",
    "        $('div.output_prompt').css('opacity', 1);\n",
    "    };\n",
    "    code_show = !code_show;\n",
    "} \n",
    "$(document).ready(code_display);\n",
    "</script>\n",
    "<form action=\"javascript: code_display()\">\n",
    "<input style=\"color: #348ABD; background: aliceblue; opacity: 0.8;\" \\ \n",
    "type=\"submit\" value=\"Click to display or hide code cells\">\n",
    "</form>                  "
   ]
  },
  {
   "cell_type": "code",
   "execution_count": 2,
   "metadata": {},
   "outputs": [
    {
     "name": "stderr",
     "output_type": "stream",
     "text": [
      "Using TensorFlow backend.\n"
     ]
    }
   ],
   "source": [
    "hide_code = ''\n",
    "import numpy as np \n",
    "import pandas as pd\n",
    "import tensorflow as tf\n",
    "\n",
    "from PIL import ImageFile\n",
    "from tqdm import tqdm\n",
    "import h5py\n",
    "import cv2\n",
    "\n",
    "import matplotlib.pylab as plt\n",
    "from matplotlib import cm\n",
    "%matplotlib inline\n",
    "\n",
    "from sklearn.model_selection import train_test_split\n",
    "from sklearn.ensemble import GradientBoostingClassifier, RandomForestClassifier\n",
    "\n",
    "from keras.utils import to_categorical\n",
    "from keras.preprocessing import image as keras_image\n",
    "from keras.callbacks import ModelCheckpoint\n",
    "from keras.preprocessing.image import ImageDataGenerator\n",
    "\n",
    "from keras.models import Sequential, load_model, Model\n",
    "from keras.layers import Input, BatchNormalization\n",
    "from keras.layers import Dense, LSTM, GlobalAveragePooling1D, GlobalAveragePooling2D\n",
    "from keras.layers import Activation, Flatten, Dropout, BatchNormalization\n",
    "from keras.layers import Conv2D, MaxPooling2D, GlobalMaxPooling2D\n",
    "\n",
    "from keras.applications.inception_v3 import InceptionV3, preprocess_input\n",
    "import scipy\n",
    "from scipy import misc"
   ]
  },
  {
   "cell_type": "code",
   "execution_count": 3,
   "metadata": {
    "collapsed": true
   },
   "outputs": [],
   "source": [
    "hide_code\n",
    "# Plot the neural network fitting history\n",
    "def history_plot(fit_history, n):\n",
    "    plt.figure(figsize=(18, 12))\n",
    "    \n",
    "    plt.subplot(211)\n",
    "    plt.plot(fit_history.history['loss'][n:], color='slategray', label = 'train')\n",
    "    plt.plot(fit_history.history['val_loss'][n:], color='#4876ff', label = 'valid')\n",
    "    plt.xlabel(\"Epochs\")\n",
    "    plt.ylabel(\"Loss\")\n",
    "    plt.legend()\n",
    "    plt.title('Loss Function');  \n",
    "    \n",
    "    plt.subplot(212)\n",
    "    plt.plot(fit_history.history['acc'][n:], color='slategray', label = 'train')\n",
    "    plt.plot(fit_history.history['val_acc'][n:], color='#4876ff', label = 'valid')\n",
    "    plt.xlabel(\"Epochs\")\n",
    "    plt.ylabel(\"Accuracy\")    \n",
    "    plt.legend()\n",
    "    plt.title('Accuracy');"
   ]
  },
  {
   "cell_type": "markdown",
   "metadata": {},
   "source": [
    "## Step 1. Load and Explore the Data\n",
    "For this project, I have created two datasets of color images (32x32x3) with 33 handwritten letters.\n",
    "Run the following cells to download the data."
   ]
  },
  {
   "cell_type": "code",
   "execution_count": 4,
   "metadata": {
    "collapsed": true
   },
   "outputs": [],
   "source": [
    "hide_code\n",
    "# Function for processing an image\n",
    "def image_to_tensor(img_path, folder_path):\n",
    "    img = keras_image.load_img(folder_path + img_path, target_size=(32, 32))\n",
    "    x = keras_image.img_to_array(img)\n",
    "    return np.expand_dims(x, axis=0)\n",
    "# Function for creating the data tensor\n",
    "def data_to_tensor(img_paths, folder_path):\n",
    "    list_of_tensors = [image_to_tensor(img_path, folder_path) for img_path in tqdm(img_paths)]\n",
    "    return np.vstack(list_of_tensors)\n",
    "ImageFile.LOAD_TRUNCATED_IMAGES = True "
   ]
  },
  {
   "cell_type": "code",
   "execution_count": 5,
   "metadata": {},
   "outputs": [
    {
     "name": "stderr",
     "output_type": "stream",
     "text": [
      "100%|██████████| 5940/5940 [05:43<00:00, 17.30it/s]\n"
     ]
    }
   ],
   "source": [
    "hide_code\n",
    "# Load the dataset #2\n",
    "data2 = pd.read_csv(\"data2/letters2.csv\")\n",
    "files2 = data2['file']\n",
    "letters2 = data2['letter']\n",
    "backgrounds2 = data2['background'].as_matrix()\n",
    "targets2 = data2['label'].as_matrix()\n",
    "tensors2 = data_to_tensor(files2, \"data2/\");"
   ]
  },
  {
   "cell_type": "code",
   "execution_count": 6,
   "metadata": {},
   "outputs": [
    {
     "name": "stderr",
     "output_type": "stream",
     "text": [
      "100%|██████████| 6600/6600 [04:04<00:00, 27.03it/s]\n"
     ]
    }
   ],
   "source": [
    "hide_code\n",
    "# Load the dataset #3\n",
    "data3 = pd.read_csv(\"data3/letters3.csv\")\n",
    "files3 = data3['file']\n",
    "letters3 = data3['letter']\n",
    "backgrounds3 = data3['background'].as_matrix()\n",
    "targets3 = data3['label'].as_matrix()\n",
    "tensors3 = data_to_tensor(files3, \"data3/\");"
   ]
  },
  {
   "cell_type": "code",
   "execution_count": 7,
   "metadata": {},
   "outputs": [
    {
     "name": "stdout",
     "output_type": "stream",
     "text": [
      "Tensor #2 shape: (5940, 32, 32, 3)\n",
      "Target #2 shape (5940,)\n",
      "Tensor #3 shape: (6600, 32, 32, 3)\n",
      "Target #3 shape (6600,)\n"
     ]
    }
   ],
   "source": [
    "hide_code\n",
    "# Print the shape \n",
    "print ('Tensor #2 shape:', tensors2.shape)\n",
    "print ('Target #2 shape', targets2.shape)\n",
    "print ('Tensor #3 shape:', tensors3.shape)\n",
    "print ('Target #3 shape', targets3.shape)"
   ]
  },
  {
   "cell_type": "code",
   "execution_count": 8,
   "metadata": {},
   "outputs": [
    {
     "name": "stdout",
     "output_type": "stream",
     "text": [
      "Tensor shape: (12540, 32, 32, 3)\n",
      "Target shape (12540,)\n",
      "Background shape: (12540,)\n"
     ]
    }
   ],
   "source": [
    "hide_code\n",
    "# Concatenate arrays\n",
    "tensors = np.concatenate((tensors2, tensors3), axis=0)\n",
    "targets = np.concatenate((targets2, targets3), axis=0)\n",
    "backgrounds = np.concatenate((backgrounds2, backgrounds3), axis=0)\n",
    "print ('Tensor shape:', tensors.shape)\n",
    "print ('Target shape', targets.shape)\n",
    "print ('Background shape:', backgrounds.shape)"
   ]
  },
  {
   "cell_type": "code",
   "execution_count": 9,
   "metadata": {},
   "outputs": [
    {
     "data": {
      "text/plain": [
       "12540"
      ]
     },
     "execution_count": 9,
     "metadata": {},
     "output_type": "execute_result"
    }
   ],
   "source": [
    "hide_code\n",
    "# Concatenate series\n",
    "letters = pd.concat((letters2, letters3), axis=0, ignore_index=True)\n",
    "len(letters)"
   ]
  },
  {
   "cell_type": "code",
   "execution_count": 10,
   "metadata": {},
   "outputs": [
    {
     "data": {
      "image/png": "[encoded data removed]",
      "text/plain": [
       "<matplotlib.figure.Figure at 0x1190a7588>"
      ]
     },
     "metadata": {},
     "output_type": "display_data"
    }
   ],
   "source": [
    "hide_code\n",
    "# Read from files and display images using OpenCV\n",
    "def display_images(img_path, ax):\n",
    "    img = cv2.imread(\"data2/\" + img_path)\n",
    "    ax.imshow(cv2.cvtColor(img, cv2.COLOR_BGR2RGB))\n",
    "    \n",
    "fig = plt.figure(figsize=(18, 6))\n",
    "for i in range(12):\n",
    "    ax = fig.add_subplot(2, 6, i + 1, xticks=[], yticks=[], title=letters2[i*180])\n",
    "    display_images(files2[i*180], ax)"
   ]
  },
  {
   "cell_type": "code",
   "execution_count": 11,
   "metadata": {},
   "outputs": [
    {
     "data": {
      "image/png": "[encoded data removed]",
      "text/plain": [
       "<matplotlib.figure.Figure at 0x11d0118d0>"
      ]
     },
     "metadata": {},
     "output_type": "display_data"
    }
   ],
   "source": [
    "hide_code\n",
    "# Read from files and display images using OpenCV\n",
    "def display_images(img_path, ax):\n",
    "    img = cv2.imread(\"data3/\" + img_path)\n",
    "    ax.imshow(cv2.cvtColor(img, cv2.COLOR_BGR2RGB))\n",
    "    \n",
    "fig = plt.figure(figsize=(18, 6))\n",
    "for i in range(12):\n",
    "    ax = fig.add_subplot(2, 6, i + 1, xticks=[], yticks=[], title=letters3[i*200])\n",
    "    display_images(files3[i*200], ax)"
   ]
  },
  {
   "cell_type": "markdown",
   "metadata": {},
   "source": [
    "## Step 2. Save and Load the Data\n",
    "The data tensors can be saved in the appropriate format of files .h5."
   ]
  },
  {
   "cell_type": "code",
   "execution_count": 12,
   "metadata": {
    "collapsed": true
   },
   "outputs": [],
   "source": [
    "hide_code\n",
    "# Create the tensor file\n",
    "with h5py.File('LetterColorImages3.h5', 'w') as f:\n",
    "    f.create_dataset('images', data = tensors3)\n",
    "    f.create_dataset('labels', data = targets3)\n",
    "    f.create_dataset('backgrounds', data = backgrounds3)\n",
    "    f.close()"
   ]
  },
  {
   "cell_type": "code",
   "execution_count": 13,
   "metadata": {
    "collapsed": true
   },
   "outputs": [],
   "source": [
    "hide_code\n",
    "# Create the tensor file\n",
    "with h5py.File('LetterColorImages_23.h5', 'w') as f:\n",
    "    f.create_dataset('images', data = tensors)\n",
    "    f.create_dataset('labels', data = targets)\n",
    "    f.create_dataset('backgrounds', data = backgrounds)\n",
    "    f.close()"
   ]
  },
  {
   "cell_type": "code",
   "execution_count": 14,
   "metadata": {},
   "outputs": [
    {
     "data": {
      "text/plain": [
       "['backgrounds', 'images', 'labels']"
      ]
     },
     "execution_count": 14,
     "metadata": {},
     "output_type": "execute_result"
    }
   ],
   "source": [
    "hide_code\n",
    "# Read the h5 file\n",
    "f = h5py.File('LetterColorImages_23.h5', 'r')\n",
    "\n",
    "# List all groups\n",
    "keys = list(f.keys())\n",
    "keys"
   ]
  },
  {
   "cell_type": "code",
   "execution_count": 15,
   "metadata": {},
   "outputs": [
    {
     "name": "stdout",
     "output_type": "stream",
     "text": [
      "Tensor shape: (12540, 32, 32, 3)\n",
      "Target shape (12540,)\n",
      "Background shape: (12540,)\n"
     ]
    }
   ],
   "source": [
    "hide_code\n",
    "# Create tensors and targets\n",
    "backgrounds = np.array(f[keys[0]])\n",
    "tensors = np.array(f[keys[1]])\n",
    "targets = np.array(f[keys[2]])\n",
    "print ('Tensor shape:', tensors.shape)\n",
    "print ('Target shape', targets.shape)\n",
    "print ('Background shape:', backgrounds.shape)"
   ]
  },
  {
   "cell_type": "markdown",
   "metadata": {},
   "source": [
    "## Step 3. Implement Preprocess Functions\n",
    "### Normalize and Gray Scale\n",
    "In the cell below, normalize the image tensors, and return them as a normalized Numpy array."
   ]
  },
  {
   "cell_type": "code",
   "execution_count": 16,
   "metadata": {
    "collapsed": true
   },
   "outputs": [],
   "source": [
    "hide_code\n",
    "# Normalize the tensors\n",
    "tensors = tensors.astype('float32')/255"
   ]
  },
  {
   "cell_type": "code",
   "execution_count": 17,
   "metadata": {},
   "outputs": [
    {
     "name": "stdout",
     "output_type": "stream",
     "text": [
      "Label:  ж\n"
     ]
    },
    {
     "data": {
      "image/png": "[encoded data removed]",
      "text/plain": [
       "<matplotlib.figure.Figure at 0x1193a1438>"
      ]
     },
     "metadata": {},
     "output_type": "display_data"
    }
   ],
   "source": [
    "hide_code\n",
    "# Read and display a tensor using Matplotlib\n",
    "print('Label: ', letters[7500])\n",
    "plt.figure(figsize=(3,3))\n",
    "plt.imshow(tensors[7500]);"
   ]
  },
  {
   "cell_type": "markdown",
   "metadata": {},
   "source": [
    "Create tensors of grayscaled images and display their shape."
   ]
  },
  {
   "cell_type": "code",
   "execution_count": 18,
   "metadata": {},
   "outputs": [
    {
     "name": "stdout",
     "output_type": "stream",
     "text": [
      "Grayscaled Tensor shape: (12540, 32, 32)\n"
     ]
    }
   ],
   "source": [
    "hide_code\n",
    "# Grayscaled tensors\n",
    "gray_tensors = np.dot(tensors[...,:3], [0.299, 0.587, 0.114])\n",
    "print ('Grayscaled Tensor shape:', gray_tensors.shape)"
   ]
  },
  {
   "cell_type": "code",
   "execution_count": 19,
   "metadata": {},
   "outputs": [
    {
     "name": "stdout",
     "output_type": "stream",
     "text": [
      "Label:  ж\n"
     ]
    },
    {
     "data": {
      "image/png": "[encoded data removed]",
      "text/plain": [
       "<matplotlib.figure.Figure at 0x10400d4a8>"
      ]
     },
     "metadata": {},
     "output_type": "display_data"
    }
   ],
   "source": [
    "hide_code\n",
    "# Read and display a grayscaled tensor using Matplotlib\n",
    "print('Label: ', letters[7500])\n",
    "plt.figure(figsize=(3,3))\n",
    "plt.imshow(gray_tensors[7500], cmap=cm.bone);"
   ]
  },
  {
   "cell_type": "markdown",
   "metadata": {},
   "source": [
    "### One-hot encode\n",
    "Now we'll implement the one-hot encoding function to_categorical."
   ]
  },
  {
   "cell_type": "code",
   "execution_count": 20,
   "metadata": {},
   "outputs": [
    {
     "name": "stdout",
     "output_type": "stream",
     "text": [
      "{1, 2, 3, 4, 5, 6, 7, 8, 9, 10, 11, 12, 13, 14, 15, 16, 17, 18, 19, 20, 21, 22, 23, 24, 25, 26, 27, 28, 29, 30, 31, 32, 33}\n"
     ]
    }
   ],
   "source": [
    "hide_code\n",
    "# Print the target unique values\n",
    "print(set(targets))"
   ]
  },
  {
   "cell_type": "code",
   "execution_count": 21,
   "metadata": {},
   "outputs": [
    {
     "data": {
      "text/plain": [
       "(12540, 33)"
      ]
     },
     "execution_count": 21,
     "metadata": {},
     "output_type": "execute_result"
    }
   ],
   "source": [
    "hide_code\n",
    "# One-hot encode the targets, started from the zero label\n",
    "cat_targets = to_categorical(np.array(targets-1), 33)\n",
    "cat_targets.shape"
   ]
  },
  {
   "cell_type": "code",
   "execution_count": 22,
   "metadata": {},
   "outputs": [
    {
     "data": {
      "text/plain": [
       "(12540, 2)"
      ]
     },
     "execution_count": 22,
     "metadata": {},
     "output_type": "execute_result"
    }
   ],
   "source": [
    "hide_code\n",
    "# One-hot encode the background targets\n",
    "backgrounds = to_categorical(backgrounds-2,2)\n",
    "backgrounds.shape"
   ]
  },
  {
   "cell_type": "markdown",
   "metadata": {},
   "source": [
    "### Add background"
   ]
  },
  {
   "cell_type": "code",
   "execution_count": 23,
   "metadata": {},
   "outputs": [
    {
     "data": {
      "text/plain": [
       "(12540, 35)"
      ]
     },
     "execution_count": 23,
     "metadata": {},
     "output_type": "execute_result"
    }
   ],
   "source": [
    "hide_code\n",
    "# Create multi-label targets\n",
    "back_targets = np.concatenate((cat_targets, backgrounds), axis=1)\n",
    "back_targets.shape"
   ]
  },
  {
   "cell_type": "markdown",
   "metadata": {},
   "source": [
    "### Split\n",
    "#### Color Images\n",
    "Apply the function train_test_split and split the data into training and testing sets. Set up the size of the testing set - 20%."
   ]
  },
  {
   "cell_type": "code",
   "execution_count": 24,
   "metadata": {
    "collapsed": true
   },
   "outputs": [],
   "source": [
    "hide_code\n",
    "# Split the data\n",
    "x_train, x_test, y_train, y_test = train_test_split(tensors, cat_targets, \n",
    "                                                    test_size = 0.2, \n",
    "                                                    random_state = 1)\n",
    "n = int(len(x_test)/2)\n",
    "x_valid, y_valid = x_test[:n], y_test[:n]\n",
    "x_test, y_test = x_test[n:], y_test[n:]"
   ]
  },
  {
   "cell_type": "code",
   "execution_count": 25,
   "metadata": {},
   "outputs": [
    {
     "name": "stdout",
     "output_type": "stream",
     "text": [
      "Training tensor's shape: (10032, 32, 32, 3)\n",
      "Training target's shape (10032, 33)\n",
      "Validating tensor's shape: (1254, 32, 32, 3)\n",
      "Validating target's shape (1254, 33)\n",
      "Testing tensor's shape: (1254, 32, 32, 3)\n",
      "Testing target's shape (1254, 33)\n"
     ]
    }
   ],
   "source": [
    "hide_code\n",
    "# Print the shape\n",
    "print (\"Training tensor's shape:\", x_train.shape)\n",
    "print (\"Training target's shape\", y_train.shape)\n",
    "print (\"Validating tensor's shape:\", x_valid.shape)\n",
    "print (\"Validating target's shape\", y_valid.shape)\n",
    "print (\"Testing tensor's shape:\", x_test.shape)\n",
    "print (\"Testing target's shape\", y_test.shape)"
   ]
  },
  {
   "cell_type": "markdown",
   "metadata": {},
   "source": [
    "#### Grayscaled Images"
   ]
  },
  {
   "cell_type": "code",
   "execution_count": 26,
   "metadata": {
    "collapsed": true
   },
   "outputs": [],
   "source": [
    "hide_code\n",
    "# Split the grayscaled data\n",
    "x_train2, x_test2, y_train2, y_test2 = train_test_split(gray_tensors, cat_targets, \n",
    "                                                        test_size = 0.2, \n",
    "                                                        random_state = 1)\n",
    "x_valid2, y_valid2 = x_test2[:n], y_test2[:n]\n",
    "x_test2, y_test2 = x_test2[n:], y_test2[n:]"
   ]
  },
  {
   "cell_type": "code",
   "execution_count": 27,
   "metadata": {
    "collapsed": true
   },
   "outputs": [],
   "source": [
    "hide_code\n",
    "# Reshape the grayscaled data\n",
    "x_train2, x_test2, x_valid2 = \\\n",
    "x_train2.reshape(-1, 32, 32, 1), x_test2.reshape(-1, 32, 32, 1), x_valid2.reshape(-1, 32, 32, 1)"
   ]
  },
  {
   "cell_type": "code",
   "execution_count": 28,
   "metadata": {},
   "outputs": [
    {
     "name": "stdout",
     "output_type": "stream",
     "text": [
      "Training grayscaled tensor's shape: (10032, 32, 32, 1)\n",
      "Training grayscaled target's shape (10032, 33)\n",
      "Validating grayscaled tensor's shape: (1254, 32, 32, 1)\n",
      "Validating grayscaled target's shape (1254, 33)\n",
      "Testing grayscaled tensor's shape: (1254, 32, 32, 1)\n",
      "Testing grayscaled target's shape (1254, 33)\n"
     ]
    }
   ],
   "source": [
    "hide_code\n",
    "# Print the shape\n",
    "print (\"Training grayscaled tensor's shape:\", x_train2.shape)\n",
    "print (\"Training grayscaled target's shape\", y_train2.shape)\n",
    "print (\"Validating grayscaled tensor's shape:\", x_valid2.shape)\n",
    "print (\"Validating grayscaled target's shape\", y_valid2.shape)\n",
    "print (\"Testing grayscaled tensor's shape:\", x_test2.shape)\n",
    "print (\"Testing grayscaled target's shape\", y_test2.shape)"
   ]
  },
  {
   "cell_type": "code",
   "execution_count": 29,
   "metadata": {},
   "outputs": [
    {
     "data": {
      "text/plain": [
       "((10032, 32, 32, 3), (1254, 32, 32, 3), (1254, 32, 32, 3))"
      ]
     },
     "execution_count": 29,
     "metadata": {},
     "output_type": "execute_result"
    }
   ],
   "source": [
    "hide_code\n",
    "# Convert images from grayscaled to RGB\n",
    "x_train2_tensor = tf.image.grayscale_to_rgb(x_train2, name=None)\n",
    "x_test2_tensor = tf.image.grayscale_to_rgb(x_test2, name=None)\n",
    "x_valid2_tensor = tf.image.grayscale_to_rgb(x_valid2, name=None)\n",
    "# Run tensorflow session\n",
    "sess = tf.Session()\n",
    "with sess.as_default():\n",
    "    x_train2_color = x_train2_tensor.eval()\n",
    "    x_test2_color = x_test2_tensor.eval()\n",
    "    x_valid2_color = x_valid2_tensor.eval()\n",
    "# Check the shape    \n",
    "x_train2_color.shape, x_test2_color.shape, x_valid2_color.shape"
   ]
  },
  {
   "cell_type": "markdown",
   "metadata": {},
   "source": [
    "#### Multi-label targets, color images"
   ]
  },
  {
   "cell_type": "code",
   "execution_count": 30,
   "metadata": {
    "collapsed": true
   },
   "outputs": [],
   "source": [
    "hide_code\n",
    "# Split with multi-label targets\n",
    "x_train3, x_test3, y_train3, y_test3 = train_test_split(tensors, back_targets, \n",
    "                                                        test_size = 0.2, \n",
    "                                                        random_state = 1)\n",
    "x_valid3, y_valid3 = x_test3[:n], y_test3[:n]\n",
    "x_test3, y_test3 = x_test3[n:], y_test3[n:]"
   ]
  },
  {
   "cell_type": "code",
   "execution_count": 31,
   "metadata": {},
   "outputs": [
    {
     "name": "stdout",
     "output_type": "stream",
     "text": [
      "Training tensor's shape: (10032, 32, 32, 3)\n",
      "Training target's shape (10032, 35)\n",
      "Validating tensor's shape: (1254, 32, 32, 3)\n",
      "Validating target's shape (1254, 35)\n",
      "Testing tensor's shape: (1254, 32, 32, 3)\n",
      "Testing target's shape (1254, 35)\n"
     ]
    }
   ],
   "source": [
    "hide_code\n",
    "# Print the shape\n",
    "print (\"Training tensor's shape:\", x_train3.shape)\n",
    "print (\"Training target's shape\", y_train3.shape)\n",
    "print (\"Validating tensor's shape:\", x_valid3.shape)\n",
    "print (\"Validating target's shape\", y_valid3.shape)\n",
    "print (\"Testing tensor's shape:\", x_test3.shape)\n",
    "print (\"Testing target's shape\", y_test3.shape)"
   ]
  },
  {
   "cell_type": "code",
   "execution_count": 32,
   "metadata": {
    "collapsed": true
   },
   "outputs": [],
   "source": [
    "hide_code\n",
    "# Create a list of targets\n",
    "y_train3_list = [y_train3[:, :33], y_train3[:, 33:]]\n",
    "y_test3_list = [y_test3[:, :33], y_valid3[:, 33:]]\n",
    "y_valid3_list = [y_valid3[:, :33], y_valid3[:, 33:]]"
   ]
  },
  {
   "cell_type": "markdown",
   "metadata": {},
   "source": [
    "#### Multi-label targets, grayscaled images"
   ]
  },
  {
   "cell_type": "code",
   "execution_count": 33,
   "metadata": {
    "collapsed": true
   },
   "outputs": [],
   "source": [
    "hide_code\n",
    "# Split the grayscaled data\n",
    "x_train4, x_test4, y_train4, y_test4 = train_test_split(gray_tensors, back_targets, \n",
    "                                                        test_size = 0.2, \n",
    "                                                        random_state = 1)\n",
    "x_valid4, y_valid4 = x_test4[:n], y_test4[:n]\n",
    "x_test4, y_test4 = x_test4[n:], y_test4[n:]"
   ]
  },
  {
   "cell_type": "code",
   "execution_count": 34,
   "metadata": {
    "collapsed": true
   },
   "outputs": [],
   "source": [
    "hide_code\n",
    "# Reshape the grayscaled data\n",
    "x_train4, x_test4, x_valid4 = \\\n",
    "x_train4.reshape(-1, 32, 32, 1), x_test4.reshape(-1, 32, 32, 1), x_valid4.reshape(-1, 32, 32, 1)"
   ]
  },
  {
   "cell_type": "code",
   "execution_count": 35,
   "metadata": {},
   "outputs": [
    {
     "name": "stdout",
     "output_type": "stream",
     "text": [
      "Training grayscaled tensor's shape: (10032, 32, 32, 1)\n",
      "Training grayscaled target's shape (10032, 35)\n",
      "Validating grayscaled tensor's shape: (1254, 32, 32, 1)\n",
      "Validating grayscaled target's shape (1254, 35)\n",
      "Testing grayscaled tensor's shape: (1254, 32, 32, 1)\n",
      "Testing grayscaled target's shape (1254, 35)\n"
     ]
    }
   ],
   "source": [
    "hide_code\n",
    "# Print the shape\n",
    "print (\"Training grayscaled tensor's shape:\", x_train4.shape)\n",
    "print (\"Training grayscaled target's shape\", y_train4.shape)\n",
    "print (\"Validating grayscaled tensor's shape:\", x_valid4.shape)\n",
    "print (\"Validating grayscaled target's shape\", y_valid4.shape)\n",
    "print (\"Testing grayscaled tensor's shape:\", x_test4.shape)\n",
    "print (\"Testing grayscaled target's shape\", y_test4.shape)"
   ]
  },
  {
   "cell_type": "code",
   "execution_count": 36,
   "metadata": {
    "collapsed": true
   },
   "outputs": [],
   "source": [
    "hide_code\n",
    "# Create a list of targets\n",
    "y_train4_list = [y_train4[:, :33], y_train4[:, 33:]]\n",
    "y_test4_list = [y_test4[:, :33], y_test4[:, 33:]]\n",
    "y_valid4_list = [y_valid4[:, :33], y_valid4[:, 33:]]"
   ]
  },
  {
   "cell_type": "markdown",
   "metadata": {},
   "source": [
    "## Step 4. Create a One-Label Classification Model\n",
    "### Color Images\n",
    "Define a model architecture and compile the model for color images."
   ]
  },
  {
   "cell_type": "code",
   "execution_count": 37,
   "metadata": {
    "collapsed": true
   },
   "outputs": [],
   "source": [
    "hide_code\n",
    "def model():\n",
    "    model = Sequential()\n",
    "    # TODO: Define a model architecture\n",
    "\n",
    "    model.add(Conv2D(32, (5, 5), padding='same', input_shape=x_train.shape[1:]))\n",
    "    model.add(Activation('relu'))    \n",
    "    model.add(MaxPooling2D(pool_size=(2, 2)))\n",
    "    model.add(Dropout(0.25))\n",
    "\n",
    "    model.add(Conv2D(96, (5, 5)))\n",
    "    model.add(Activation('relu'))    \n",
    "    model.add(MaxPooling2D(pool_size=(2, 2)))\n",
    "    model.add(Dropout(0.25))\n",
    "    \n",
    "    model.add(GlobalMaxPooling2D()) \n",
    "    \n",
    "    model.add(Dense(512, activation='relu'))\n",
    "    model.add(Dropout(0.25))    \n",
    "\n",
    "    model.add(Dense(33))\n",
    "    model.add(Activation('softmax'))\n",
    "    \n",
    "    # TODO: Compile the model\n",
    "    model.compile(loss='categorical_crossentropy', optimizer='nadam', metrics=['accuracy'])\n",
    "    \n",
    "    return model\n",
    "\n",
    "model = model()"
   ]
  },
  {
   "cell_type": "code",
   "execution_count": 38,
   "metadata": {},
   "outputs": [
    {
     "name": "stdout",
     "output_type": "stream",
     "text": [
      "Train on 10032 samples, validate on 1254 samples\n",
      "Epoch 1/100\n",
      "Epoch 00000: val_loss improved from inf to 3.41448, saving model to weights.best.model.hdf5\n",
      "95s - loss: 3.4843 - acc: 0.0376 - val_loss: 3.4145 - val_acc: 0.0694\n",
      "Epoch 2/100\n",
      "Epoch 00001: val_loss improved from 3.41448 to 3.31093, saving model to weights.best.model.hdf5\n",
      "73s - loss: 3.3794 - acc: 0.0582 - val_loss: 3.3109 - val_acc: 0.0789\n",
      "Epoch 3/100\n",
      "Epoch 00002: val_loss did not improve\n",
      "44s - loss: 3.2994 - acc: 0.0635 - val_loss: 3.4992 - val_acc: 0.0606\n",
      "Epoch 4/100\n",
      "Epoch 00003: val_loss improved from 3.31093 to 3.21640, saving model to weights.best.model.hdf5\n",
      "62s - loss: 3.2199 - acc: 0.0734 - val_loss: 3.2164 - val_acc: 0.0702\n",
      "Epoch 5/100\n",
      "Epoch 00004: val_loss improved from 3.21640 to 3.13447, saving model to weights.best.model.hdf5\n",
      "51s - loss: 3.1670 - acc: 0.0854 - val_loss: 3.1345 - val_acc: 0.0774\n",
      "Epoch 6/100\n",
      "Epoch 00005: val_loss did not improve\n",
      "43s - loss: 3.2095 - acc: 0.0829 - val_loss: 3.2309 - val_acc: 0.1085\n",
      "Epoch 7/100\n",
      "Epoch 00006: val_loss did not improve\n",
      "43s - loss: 3.0964 - acc: 0.0896 - val_loss: 3.1450 - val_acc: 0.0718\n",
      "Epoch 8/100\n",
      "Epoch 00007: val_loss did not improve\n",
      "44s - loss: 3.0282 - acc: 0.0961 - val_loss: 3.2776 - val_acc: 0.0590\n",
      "Epoch 9/100\n",
      "Epoch 00008: val_loss improved from 3.13447 to 3.00202, saving model to weights.best.model.hdf5\n",
      "52s - loss: 2.9875 - acc: 0.0991 - val_loss: 3.0020 - val_acc: 0.1061\n",
      "Epoch 10/100\n",
      "Epoch 00009: val_loss did not improve\n",
      "43s - loss: 2.9544 - acc: 0.1049 - val_loss: 3.0454 - val_acc: 0.0957\n",
      "Epoch 11/100\n",
      "Epoch 00010: val_loss did not improve\n",
      "43s - loss: 2.9303 - acc: 0.1057 - val_loss: 3.0598 - val_acc: 0.0989\n",
      "Epoch 12/100\n",
      "Epoch 00011: val_loss did not improve\n",
      "42s - loss: 2.9068 - acc: 0.1095 - val_loss: 3.0937 - val_acc: 0.0837\n",
      "Epoch 13/100\n",
      "Epoch 00012: val_loss improved from 3.00202 to 2.94515, saving model to weights.best.model.hdf5\n",
      "43s - loss: 2.8882 - acc: 0.1201 - val_loss: 2.9452 - val_acc: 0.1220\n",
      "Epoch 14/100\n",
      "Epoch 00013: val_loss improved from 2.94515 to 2.92671, saving model to weights.best.model.hdf5\n",
      "42s - loss: 2.8682 - acc: 0.1226 - val_loss: 2.9267 - val_acc: 0.0941\n",
      "Epoch 15/100\n",
      "Epoch 00014: val_loss did not improve\n",
      "42s - loss: 2.8442 - acc: 0.1183 - val_loss: 3.0081 - val_acc: 0.0925\n",
      "Epoch 16/100\n",
      "Epoch 00015: val_loss did not improve\n",
      "42s - loss: 2.8325 - acc: 0.1250 - val_loss: 2.9844 - val_acc: 0.1108\n",
      "Epoch 17/100\n",
      "Epoch 00016: val_loss did not improve\n",
      "42s - loss: 2.8152 - acc: 0.1273 - val_loss: 3.2306 - val_acc: 0.0797\n",
      "Epoch 18/100\n",
      "Epoch 00017: val_loss improved from 2.92671 to 2.81878, saving model to weights.best.model.hdf5\n",
      "48s - loss: 2.7868 - acc: 0.1288 - val_loss: 2.8188 - val_acc: 0.1316\n",
      "Epoch 19/100\n",
      "Epoch 00018: val_loss did not improve\n",
      "43s - loss: 2.7864 - acc: 0.1284 - val_loss: 2.9389 - val_acc: 0.0957\n",
      "Epoch 20/100\n",
      "Epoch 00019: val_loss did not improve\n",
      "43s - loss: 2.7510 - acc: 0.1374 - val_loss: 3.1487 - val_acc: 0.0813\n",
      "Epoch 21/100\n",
      "Epoch 00020: val_loss improved from 2.81878 to 2.79412, saving model to weights.best.model.hdf5\n",
      "43s - loss: 2.7455 - acc: 0.1338 - val_loss: 2.7941 - val_acc: 0.1252\n",
      "Epoch 22/100\n",
      "Epoch 00021: val_loss did not improve\n",
      "44s - loss: 2.7032 - acc: 0.1424 - val_loss: 2.8151 - val_acc: 0.1340\n",
      "Epoch 23/100\n",
      "Epoch 00022: val_loss did not improve\n",
      "44s - loss: 2.6922 - acc: 0.1507 - val_loss: 2.8735 - val_acc: 0.0957\n",
      "Epoch 24/100\n",
      "Epoch 00023: val_loss improved from 2.79412 to 2.73032, saving model to weights.best.model.hdf5\n",
      "44s - loss: 2.6661 - acc: 0.1584 - val_loss: 2.7303 - val_acc: 0.1515\n",
      "Epoch 25/100\n",
      "Epoch 00024: val_loss did not improve\n",
      "43s - loss: 2.6451 - acc: 0.1662 - val_loss: 2.8454 - val_acc: 0.1324\n",
      "Epoch 26/100\n",
      "Epoch 00025: val_loss improved from 2.73032 to 2.70741, saving model to weights.best.model.hdf5\n",
      "42s - loss: 2.6157 - acc: 0.1696 - val_loss: 2.7074 - val_acc: 0.1603\n",
      "Epoch 27/100\n",
      "Epoch 00026: val_loss did not improve\n",
      "42s - loss: 2.5857 - acc: 0.1827 - val_loss: 2.9933 - val_acc: 0.1053\n",
      "Epoch 28/100\n",
      "Epoch 00027: val_loss did not improve\n",
      "42s - loss: 2.5476 - acc: 0.1942 - val_loss: 2.8438 - val_acc: 0.1284\n",
      "Epoch 29/100\n",
      "Epoch 00028: val_loss improved from 2.70741 to 2.59676, saving model to weights.best.model.hdf5\n",
      "42s - loss: 2.5276 - acc: 0.1961 - val_loss: 2.5968 - val_acc: 0.2010\n",
      "Epoch 30/100\n",
      "Epoch 00029: val_loss did not improve\n",
      "42s - loss: 2.4979 - acc: 0.2098 - val_loss: 2.9421 - val_acc: 0.1236\n",
      "Epoch 31/100\n",
      "Epoch 00030: val_loss did not improve\n",
      "42s - loss: 2.4600 - acc: 0.2243 - val_loss: 2.9395 - val_acc: 0.1531\n",
      "Epoch 32/100\n",
      "Epoch 00031: val_loss did not improve\n",
      "42s - loss: 2.4337 - acc: 0.2295 - val_loss: 2.6584 - val_acc: 0.2177\n",
      "Epoch 33/100\n",
      "Epoch 00032: val_loss did not improve\n",
      "42s - loss: 2.3752 - acc: 0.2502 - val_loss: 2.9563 - val_acc: 0.1691\n",
      "Epoch 34/100\n",
      "Epoch 00033: val_loss improved from 2.59676 to 2.41599, saving model to weights.best.model.hdf5\n",
      "42s - loss: 2.3433 - acc: 0.2617 - val_loss: 2.4160 - val_acc: 0.3014\n",
      "Epoch 35/100\n",
      "Epoch 00034: val_loss did not improve\n",
      "42s - loss: 2.3007 - acc: 0.2775 - val_loss: 2.6159 - val_acc: 0.2209\n",
      "Epoch 36/100\n",
      "Epoch 00035: val_loss did not improve\n",
      "42s - loss: 2.2526 - acc: 0.2842 - val_loss: 2.5629 - val_acc: 0.2257\n",
      "Epoch 37/100\n",
      "Epoch 00036: val_loss did not improve\n",
      "42s - loss: 2.1949 - acc: 0.3102 - val_loss: 2.4854 - val_acc: 0.2536\n",
      "Epoch 38/100\n",
      "Epoch 00037: val_loss did not improve\n",
      "42s - loss: 2.1473 - acc: 0.3231 - val_loss: 2.5537 - val_acc: 0.2392\n",
      "Epoch 39/100\n",
      "Epoch 00038: val_loss did not improve\n",
      "42s - loss: 2.0920 - acc: 0.3350 - val_loss: 2.7698 - val_acc: 0.1930\n",
      "Epoch 40/100\n",
      "Epoch 00039: val_loss improved from 2.41599 to 2.23771, saving model to weights.best.model.hdf5\n",
      "43s - loss: 2.0391 - acc: 0.3459 - val_loss: 2.2377 - val_acc: 0.3493\n",
      "Epoch 41/100\n",
      "Epoch 00040: val_loss did not improve\n",
      "42s - loss: 1.9917 - acc: 0.3652 - val_loss: 2.3452 - val_acc: 0.3022\n",
      "Epoch 42/100\n",
      "Epoch 00041: val_loss did not improve\n",
      "42s - loss: 1.9430 - acc: 0.3781 - val_loss: 2.4728 - val_acc: 0.2751\n",
      "Epoch 43/100\n",
      "Epoch 00042: val_loss improved from 2.23771 to 2.22327, saving model to weights.best.model.hdf5\n",
      "42s - loss: 1.8928 - acc: 0.3993 - val_loss: 2.2233 - val_acc: 0.3349\n",
      "Epoch 44/100\n",
      "Epoch 00043: val_loss improved from 2.22327 to 2.08015, saving model to weights.best.model.hdf5\n",
      "42s - loss: 1.8548 - acc: 0.4099 - val_loss: 2.0801 - val_acc: 0.3900\n",
      "Epoch 45/100\n",
      "Epoch 00044: val_loss improved from 2.08015 to 2.00215, saving model to weights.best.model.hdf5\n",
      "42s - loss: 1.8060 - acc: 0.4271 - val_loss: 2.0021 - val_acc: 0.4139\n",
      "Epoch 46/100\n",
      "Epoch 00045: val_loss did not improve\n",
      "42s - loss: 1.7316 - acc: 0.4419 - val_loss: 2.2310 - val_acc: 0.3461\n",
      "Epoch 47/100\n",
      "Epoch 00046: val_loss improved from 2.00215 to 1.87734, saving model to weights.best.model.hdf5\n",
      "42s - loss: 1.7164 - acc: 0.4498 - val_loss: 1.8773 - val_acc: 0.4585\n",
      "Epoch 48/100\n",
      "Epoch 00047: val_loss improved from 1.87734 to 1.83613, saving model to weights.best.model.hdf5\n",
      "42s - loss: 1.6637 - acc: 0.4671 - val_loss: 1.8361 - val_acc: 0.4553\n",
      "Epoch 49/100\n",
      "Epoch 00048: val_loss did not improve\n",
      "42s - loss: 1.6583 - acc: 0.4667 - val_loss: 1.9309 - val_acc: 0.4402\n",
      "Epoch 50/100\n",
      "Epoch 00049: val_loss improved from 1.83613 to 1.75570, saving model to weights.best.model.hdf5\n",
      "42s - loss: 1.6131 - acc: 0.4842 - val_loss: 1.7557 - val_acc: 0.4992\n",
      "Epoch 51/100\n",
      "Epoch 00050: val_loss improved from 1.75570 to 1.66529, saving model to weights.best.model.hdf5\n",
      "42s - loss: 1.5775 - acc: 0.4937 - val_loss: 1.6653 - val_acc: 0.5152\n",
      "Epoch 52/100\n",
      "Epoch 00051: val_loss improved from 1.66529 to 1.64128, saving model to weights.best.model.hdf5\n",
      "42s - loss: 1.5325 - acc: 0.5052 - val_loss: 1.6413 - val_acc: 0.5319\n",
      "Epoch 53/100\n",
      "Epoch 00052: val_loss improved from 1.64128 to 1.63237, saving model to weights.best.model.hdf5\n",
      "42s - loss: 1.5185 - acc: 0.5115 - val_loss: 1.6324 - val_acc: 0.5295\n",
      "Epoch 54/100\n",
      "Epoch 00053: val_loss did not improve\n",
      "42s - loss: 1.4884 - acc: 0.5225 - val_loss: 1.8026 - val_acc: 0.4737\n",
      "Epoch 55/100\n",
      "Epoch 00054: val_loss improved from 1.63237 to 1.60866, saving model to weights.best.model.hdf5\n",
      "42s - loss: 1.5044 - acc: 0.5187 - val_loss: 1.6087 - val_acc: 0.5447\n",
      "Epoch 56/100\n",
      "Epoch 00055: val_loss did not improve\n",
      "42s - loss: 1.4535 - acc: 0.5320 - val_loss: 1.8157 - val_acc: 0.4753\n",
      "Epoch 57/100\n"
     ]
    },
    {
     "name": "stdout",
     "output_type": "stream",
     "text": [
      "Epoch 00056: val_loss improved from 1.60866 to 1.40778, saving model to weights.best.model.hdf5\n",
      "42s - loss: 1.4183 - acc: 0.5479 - val_loss: 1.4078 - val_acc: 0.5893\n",
      "Epoch 58/100\n",
      "Epoch 00057: val_loss did not improve\n",
      "42s - loss: 1.3934 - acc: 0.5568 - val_loss: 1.5413 - val_acc: 0.5518\n",
      "Epoch 59/100\n",
      "Epoch 00058: val_loss did not improve\n",
      "42s - loss: 1.3618 - acc: 0.5575 - val_loss: 1.7135 - val_acc: 0.5000\n",
      "Epoch 60/100\n",
      "Epoch 00059: val_loss did not improve\n",
      "42s - loss: 1.3554 - acc: 0.5593 - val_loss: 1.4986 - val_acc: 0.5646\n",
      "Epoch 61/100\n",
      "Epoch 00060: val_loss did not improve\n",
      "42s - loss: 1.3537 - acc: 0.5683 - val_loss: 1.6363 - val_acc: 0.5263\n",
      "Epoch 62/100\n",
      "Epoch 00061: val_loss did not improve\n",
      "42s - loss: 1.3068 - acc: 0.5822 - val_loss: 1.6872 - val_acc: 0.4920\n",
      "Epoch 63/100\n",
      "Epoch 00062: val_loss did not improve\n",
      "42s - loss: 1.3294 - acc: 0.5731 - val_loss: 1.6124 - val_acc: 0.5167\n",
      "Epoch 64/100\n",
      "Epoch 00063: val_loss did not improve\n",
      "42s - loss: 1.3171 - acc: 0.5840 - val_loss: 1.4666 - val_acc: 0.5718\n",
      "Epoch 65/100\n",
      "Epoch 00064: val_loss did not improve\n",
      "42s - loss: 1.2629 - acc: 0.5967 - val_loss: 2.0125 - val_acc: 0.3939\n",
      "Epoch 66/100\n",
      "Epoch 00065: val_loss improved from 1.40778 to 1.39957, saving model to weights.best.model.hdf5\n",
      "42s - loss: 1.2871 - acc: 0.5783 - val_loss: 1.3996 - val_acc: 0.5973\n",
      "Epoch 67/100\n",
      "Epoch 00066: val_loss did not improve\n",
      "42s - loss: 1.2517 - acc: 0.5930 - val_loss: 1.5630 - val_acc: 0.5447\n",
      "Epoch 68/100\n",
      "Epoch 00067: val_loss did not improve\n",
      "42s - loss: 1.2305 - acc: 0.6046 - val_loss: 1.5109 - val_acc: 0.5622\n",
      "Epoch 69/100\n",
      "Epoch 00068: val_loss did not improve\n",
      "42s - loss: 1.2255 - acc: 0.6038 - val_loss: 1.5039 - val_acc: 0.5526\n",
      "Epoch 70/100\n",
      "Epoch 00069: val_loss did not improve\n",
      "42s - loss: 1.1712 - acc: 0.6147 - val_loss: 1.7271 - val_acc: 0.5152\n",
      "Epoch 71/100\n",
      "Epoch 00070: val_loss did not improve\n",
      "42s - loss: 1.2076 - acc: 0.6133 - val_loss: 1.4921 - val_acc: 0.5774\n",
      "Epoch 72/100\n",
      "Epoch 00071: val_loss did not improve\n",
      "42s - loss: 1.1675 - acc: 0.6191 - val_loss: 1.8178 - val_acc: 0.4809\n",
      "Epoch 73/100\n",
      "Epoch 00072: val_loss did not improve\n",
      "42s - loss: 1.1636 - acc: 0.6270 - val_loss: 1.4505 - val_acc: 0.5821\n",
      "Epoch 74/100\n",
      "Epoch 00073: val_loss did not improve\n",
      "42s - loss: 1.1376 - acc: 0.6326 - val_loss: 1.6053 - val_acc: 0.5526\n",
      "Epoch 75/100\n",
      "Epoch 00074: val_loss improved from 1.39957 to 1.35641, saving model to weights.best.model.hdf5\n",
      "42s - loss: 1.1603 - acc: 0.6229 - val_loss: 1.3564 - val_acc: 0.6180\n",
      "Epoch 76/100\n",
      "Epoch 00075: val_loss did not improve\n",
      "42s - loss: 1.1253 - acc: 0.6379 - val_loss: 1.3662 - val_acc: 0.5877\n",
      "Epoch 77/100\n",
      "Epoch 00076: val_loss did not improve\n",
      "42s - loss: 1.1178 - acc: 0.6389 - val_loss: 1.6572 - val_acc: 0.5215\n",
      "Epoch 78/100\n",
      "Epoch 00077: val_loss did not improve\n",
      "42s - loss: 1.1073 - acc: 0.6416 - val_loss: 1.4639 - val_acc: 0.5797\n",
      "Epoch 79/100\n",
      "Epoch 00078: val_loss did not improve\n",
      "42s - loss: 1.0995 - acc: 0.6415 - val_loss: 1.5810 - val_acc: 0.5343\n",
      "Epoch 80/100\n",
      "Epoch 00079: val_loss did not improve\n",
      "42s - loss: 1.1051 - acc: 0.6441 - val_loss: 1.6241 - val_acc: 0.5375\n",
      "Epoch 81/100\n",
      "Epoch 00080: val_loss did not improve\n",
      "42s - loss: 1.0717 - acc: 0.6520 - val_loss: 1.4178 - val_acc: 0.5901\n",
      "Epoch 82/100\n",
      "Epoch 00081: val_loss did not improve\n",
      "42s - loss: 1.0953 - acc: 0.6439 - val_loss: 1.6804 - val_acc: 0.5175\n",
      "Epoch 83/100\n",
      "Epoch 00082: val_loss did not improve\n",
      "42s - loss: 1.0526 - acc: 0.6607 - val_loss: 1.4286 - val_acc: 0.5877\n",
      "Epoch 84/100\n",
      "Epoch 00083: val_loss did not improve\n",
      "42s - loss: 1.0424 - acc: 0.6628 - val_loss: 1.4795 - val_acc: 0.5758\n",
      "Epoch 85/100\n",
      "Epoch 00084: val_loss did not improve\n",
      "42s - loss: 1.0499 - acc: 0.6628 - val_loss: 1.3921 - val_acc: 0.5853\n",
      "Epoch 86/100\n",
      "Epoch 00085: val_loss did not improve\n",
      "42s - loss: 1.0390 - acc: 0.6659 - val_loss: 1.6526 - val_acc: 0.5447\n",
      "Epoch 87/100\n",
      "Epoch 00086: val_loss did not improve\n",
      "42s - loss: 1.0434 - acc: 0.6648 - val_loss: 1.5589 - val_acc: 0.5582\n",
      "Epoch 88/100\n",
      "Epoch 00087: val_loss did not improve\n",
      "42s - loss: 1.0326 - acc: 0.6629 - val_loss: 1.6013 - val_acc: 0.5598\n",
      "Epoch 89/100\n",
      "Epoch 00088: val_loss did not improve\n",
      "42s - loss: 1.0121 - acc: 0.6720 - val_loss: 1.8368 - val_acc: 0.4896\n",
      "Epoch 90/100\n",
      "Epoch 00089: val_loss did not improve\n",
      "42s - loss: 1.0073 - acc: 0.6700 - val_loss: 1.3606 - val_acc: 0.6013\n",
      "Epoch 91/100\n",
      "Epoch 00090: val_loss did not improve\n",
      "42s - loss: 1.0136 - acc: 0.6708 - val_loss: 1.5358 - val_acc: 0.5510\n",
      "Epoch 92/100\n",
      "Epoch 00091: val_loss did not improve\n",
      "42s - loss: 1.0152 - acc: 0.6731 - val_loss: 1.4815 - val_acc: 0.5550\n",
      "Epoch 93/100\n",
      "Epoch 00092: val_loss did not improve\n",
      "42s - loss: 1.0039 - acc: 0.6754 - val_loss: 1.3921 - val_acc: 0.5949\n",
      "Epoch 94/100\n",
      "Epoch 00093: val_loss improved from 1.35641 to 1.13856, saving model to weights.best.model.hdf5\n",
      "42s - loss: 0.9736 - acc: 0.6821 - val_loss: 1.1386 - val_acc: 0.6587\n",
      "Epoch 95/100\n",
      "Epoch 00094: val_loss did not improve\n",
      "42s - loss: 0.9795 - acc: 0.6851 - val_loss: 1.7496 - val_acc: 0.5255\n",
      "Epoch 96/100\n",
      "Epoch 00095: val_loss did not improve\n",
      "42s - loss: 0.9763 - acc: 0.6823 - val_loss: 1.2484 - val_acc: 0.6308\n",
      "Epoch 97/100\n",
      "Epoch 00096: val_loss did not improve\n",
      "42s - loss: 0.9633 - acc: 0.6873 - val_loss: 1.2050 - val_acc: 0.6372\n",
      "Epoch 98/100\n",
      "Epoch 00097: val_loss did not improve\n",
      "42s - loss: 0.9520 - acc: 0.6915 - val_loss: 1.4316 - val_acc: 0.5941\n",
      "Epoch 99/100\n",
      "Epoch 00098: val_loss did not improve\n",
      "42s - loss: 0.9603 - acc: 0.6898 - val_loss: 1.6958 - val_acc: 0.5199\n",
      "Epoch 100/100\n",
      "Epoch 00099: val_loss did not improve\n",
      "42s - loss: 0.9447 - acc: 0.6930 - val_loss: 1.3752 - val_acc: 0.5997\n"
     ]
    }
   ],
   "source": [
    "hide_code\n",
    "# Train the model\n",
    "checkpointer = ModelCheckpoint(filepath='weights.best.model.hdf5', \n",
    "                               verbose=2, save_best_only=True)\n",
    "history = model.fit(x_train, y_train, \n",
    "                    epochs=100, batch_size=64, verbose=2,\n",
    "                    validation_data=(x_valid, y_valid),\n",
    "                    callbacks=[checkpointer])"
   ]
  },
  {
   "cell_type": "code",
   "execution_count": 39,
   "metadata": {},
   "outputs": [
    {
     "data": {
      "image/png": "[encoded data removed]",
      "text/plain": [
       "<matplotlib.figure.Figure at 0x11d7acbe0>"
      ]
     },
     "metadata": {},
     "output_type": "display_data"
    }
   ],
   "source": [
    "hide_code\n",
    "# Plot the training history\n",
    "history_plot(history, 0)"
   ]
  },
  {
   "cell_type": "markdown",
   "metadata": {},
   "source": [
    "We should have an accuracy greater than 3%"
   ]
  },
  {
   "cell_type": "code",
   "execution_count": 40,
   "metadata": {},
   "outputs": [
    {
     "name": "stdout",
     "output_type": "stream",
     "text": [
      "1248/1254 [============================>.] - ETA: 0s"
     ]
    },
    {
     "data": {
      "text/plain": [
       "[1.1593346611924908, 0.65231259958595755]"
      ]
     },
     "execution_count": 40,
     "metadata": {},
     "output_type": "execute_result"
    }
   ],
   "source": [
    "hide_code\n",
    "# Load the model with the best validation accuracy\n",
    "model.load_weights('weights.best.model.hdf5')\n",
    "# Calculate classification accuracy on the testing set\n",
    "score = model.evaluate(x_test, y_test)\n",
    "score"
   ]
  },
  {
   "cell_type": "markdown",
   "metadata": {},
   "source": [
    "Apply the ImageDataGenerator() function."
   ]
  },
  {
   "cell_type": "code",
   "execution_count": 41,
   "metadata": {},
   "outputs": [
    {
     "name": "stdout",
     "output_type": "stream",
     "text": [
      "Epoch 1/20\n",
      "Epoch 00000: val_loss did not improve\n",
      "274s - loss: 1.4664 - acc: 0.5421 - val_loss: 1.7401 - val_acc: 0.5112\n",
      "Epoch 2/20\n",
      "Epoch 00001: val_loss did not improve\n",
      "271s - loss: 1.3936 - acc: 0.5591 - val_loss: 1.6767 - val_acc: 0.5439\n",
      "Epoch 3/20\n",
      "Epoch 00002: val_loss did not improve\n",
      "273s - loss: 1.3602 - acc: 0.5669 - val_loss: 1.5810 - val_acc: 0.5351\n",
      "Epoch 4/20\n",
      "Epoch 00003: val_loss did not improve\n",
      "271s - loss: 1.3191 - acc: 0.5799 - val_loss: 1.6108 - val_acc: 0.5239\n",
      "Epoch 5/20\n",
      "Epoch 00004: val_loss did not improve\n",
      "271s - loss: 1.2913 - acc: 0.5884 - val_loss: 1.7222 - val_acc: 0.5152\n",
      "Epoch 6/20\n",
      "Epoch 00005: val_loss did not improve\n",
      "270s - loss: 1.2643 - acc: 0.5946 - val_loss: 1.7137 - val_acc: 0.5072\n",
      "Epoch 7/20\n",
      "Epoch 00006: val_loss did not improve\n",
      "269s - loss: 1.2339 - acc: 0.6051 - val_loss: 1.4083 - val_acc: 0.5981\n",
      "Epoch 8/20\n",
      "Epoch 00007: val_loss did not improve\n",
      "270s - loss: 1.2156 - acc: 0.6097 - val_loss: 1.7082 - val_acc: 0.5159\n",
      "Epoch 9/20\n",
      "Epoch 00008: val_loss did not improve\n",
      "271s - loss: 1.1897 - acc: 0.6178 - val_loss: 1.7200 - val_acc: 0.5056\n",
      "Epoch 10/20\n",
      "Epoch 00009: val_loss did not improve\n",
      "270s - loss: 1.1860 - acc: 0.6202 - val_loss: 1.6063 - val_acc: 0.5502\n",
      "Epoch 11/20\n",
      "Epoch 00010: val_loss did not improve\n",
      "272s - loss: 1.1588 - acc: 0.6256 - val_loss: 1.2356 - val_acc: 0.6539\n",
      "Epoch 12/20\n",
      "Epoch 00011: val_loss did not improve\n",
      "271s - loss: 1.1455 - acc: 0.6314 - val_loss: 1.7637 - val_acc: 0.5175\n",
      "Epoch 13/20\n",
      "Epoch 00012: val_loss did not improve\n",
      "272s - loss: 1.1226 - acc: 0.6389 - val_loss: 1.4724 - val_acc: 0.5646\n",
      "Epoch 14/20\n",
      "Epoch 00013: val_loss did not improve\n",
      "272s - loss: 1.1324 - acc: 0.6369 - val_loss: 1.8904 - val_acc: 0.5024\n",
      "Epoch 15/20\n",
      "Epoch 00014: val_loss did not improve\n",
      "271s - loss: 1.1157 - acc: 0.6412 - val_loss: 1.6008 - val_acc: 0.5558\n",
      "Epoch 16/20\n",
      "Epoch 00015: val_loss did not improve\n",
      "271s - loss: 1.1752 - acc: 0.6252 - val_loss: 1.8880 - val_acc: 0.5199\n",
      "Epoch 17/20\n",
      "Epoch 00016: val_loss did not improve\n",
      "270s - loss: 1.0921 - acc: 0.6493 - val_loss: 1.7952 - val_acc: 0.5136\n",
      "Epoch 18/20\n",
      "Epoch 00017: val_loss did not improve\n",
      "270s - loss: 1.1152 - acc: 0.6417 - val_loss: 1.5823 - val_acc: 0.5638\n",
      "Epoch 19/20\n",
      "Epoch 00018: val_loss did not improve\n",
      "271s - loss: 1.0716 - acc: 0.6561 - val_loss: 1.6911 - val_acc: 0.5510\n",
      "Epoch 20/20\n",
      "Epoch 00019: val_loss did not improve\n",
      "270s - loss: 1.0660 - acc: 0.6544 - val_loss: 1.6594 - val_acc: 0.5781\n"
     ]
    }
   ],
   "source": [
    "hide_code\n",
    "# Fit the model with ImageDataGenerator()\n",
    "# TODO: Define parameters\n",
    "steps, epochs = 1000, 20\n",
    "data_generator = ImageDataGenerator(zoom_range=0.2, shear_range=0.2, rotation_range=20)\n",
    "\n",
    "generator = model.fit_generator(data_generator.flow(x_train, y_train, batch_size=64),\n",
    "                                steps_per_epoch = steps, epochs = epochs,\n",
    "                                validation_data = (x_valid, y_valid), \n",
    "                                callbacks=[checkpointer], verbose=2)"
   ]
  },
  {
   "cell_type": "code",
   "execution_count": 42,
   "metadata": {},
   "outputs": [
    {
     "name": "stdout",
     "output_type": "stream",
     "text": [
      "1248/1254 [============================>.] - ETA: 0s"
     ]
    },
    {
     "data": {
      "text/plain": [
       "[1.1593346611924908, 0.65231259958595755]"
      ]
     },
     "execution_count": 42,
     "metadata": {},
     "output_type": "execute_result"
    }
   ],
   "source": [
    "hide_code\n",
    "# Load the model with the best validation accuracy\n",
    "model.load_weights('weights.best.model.hdf5')\n",
    "# Calculate classification accuracy on the testing set\n",
    "score = model.evaluate(x_test, y_test)\n",
    "score"
   ]
  },
  {
   "cell_type": "markdown",
   "metadata": {},
   "source": [
    "Let's compare the results with classifying algorithms."
   ]
  },
  {
   "cell_type": "code",
   "execution_count": 65,
   "metadata": {},
   "outputs": [
    {
     "data": {
      "text/plain": [
       "0.35007974481658694"
      ]
     },
     "execution_count": 65,
     "metadata": {},
     "output_type": "execute_result"
    }
   ],
   "source": [
    "hide_code\n",
    "# Fit the classifier and get the accuracy score\n",
    "y_train_c = np.array([np.argmax(y) for y in y_train])\n",
    "y_test_c = np.array([np.argmax(y) for y in y_test])\n",
    "clf = GradientBoostingClassifier().fit(x_train.reshape(-1, 32*32*3), y_train_c)\n",
    "clf.score(x_test.reshape(-1, 32*32*3), y_test_c)"
   ]
  },
  {
   "cell_type": "code",
   "execution_count": 66,
   "metadata": {},
   "outputs": [
    {
     "data": {
      "text/plain": [
       "0.24003189792663476"
      ]
     },
     "execution_count": 66,
     "metadata": {},
     "output_type": "execute_result"
    }
   ],
   "source": [
    "hide_code\n",
    "# Fit the classifier and get the accuracy score\n",
    "clf2 = RandomForestClassifier().fit(x_train.reshape(-1, 32*32*3), y_train_c)\n",
    "clf2.score(x_test.reshape(-1, 32*32*3), y_test_c)"
   ]
  },
  {
   "cell_type": "markdown",
   "metadata": {},
   "source": [
    "### Grayscaled Images\n",
    "Define a model architecture and compile the model for grayscaled images."
   ]
  },
  {
   "cell_type": "code",
   "execution_count": 43,
   "metadata": {
    "collapsed": true
   },
   "outputs": [],
   "source": [
    "hide_code\n",
    "def gray_model():\n",
    "    model = Sequential()\n",
    "    \n",
    "    # TODO: Define a model architecture\n",
    "    model.add(Conv2D(32, (5, 5), padding='same', input_shape=x_train2.shape[1:]))\n",
    "    model.add(Activation('relu'))    \n",
    "    model.add(MaxPooling2D(pool_size=(2, 2)))\n",
    "    model.add(Dropout(0.25))\n",
    "\n",
    "    model.add(Conv2D(256, (5, 5)))\n",
    "    model.add(Activation('relu'))    \n",
    "    model.add(MaxPooling2D(pool_size=(2, 2)))\n",
    "    model.add(Dropout(0.25))\n",
    "    \n",
    "    model.add(GlobalMaxPooling2D()) \n",
    "    \n",
    "    model.add(Dense(1024, activation='relu'))\n",
    "    model.add(Dropout(0.25)) \n",
    "    \n",
    "    model.add(Dense(256, activation='relu'))\n",
    "    model.add(Dropout(0.25))    \n",
    "\n",
    "    model.add(Dense(33))\n",
    "    model.add(Activation('softmax'))\n",
    "    \n",
    "    # TODO: Compile the model\n",
    "    model.compile(loss='categorical_crossentropy', optimizer='rmsprop', metrics=['accuracy'])\n",
    "    return model\n",
    "\n",
    "gray_model = gray_model()"
   ]
  },
  {
   "cell_type": "code",
   "execution_count": 44,
   "metadata": {},
   "outputs": [
    {
     "name": "stdout",
     "output_type": "stream",
     "text": [
      "Epoch 00000: val_loss improved from inf to 3.48858, saving model to weights.best.gray_model.hdf5\n",
      "Epoch 00001: val_loss improved from 3.48858 to 3.39916, saving model to weights.best.gray_model.hdf5\n",
      "Epoch 00002: val_loss improved from 3.39916 to 3.39280, saving model to weights.best.gray_model.hdf5\n",
      "Epoch 00003: val_loss improved from 3.39280 to 3.39230, saving model to weights.best.gray_model.hdf5\n",
      "Epoch 00004: val_loss improved from 3.39230 to 3.32259, saving model to weights.best.gray_model.hdf5\n",
      "Epoch 00005: val_loss did not improve\n",
      "Epoch 00006: val_loss improved from 3.32259 to 3.18405, saving model to weights.best.gray_model.hdf5\n",
      "Epoch 00007: val_loss did not improve\n",
      "Epoch 00008: val_loss improved from 3.18405 to 2.95884, saving model to weights.best.gray_model.hdf5\n",
      "Epoch 00009: val_loss improved from 2.95884 to 2.76752, saving model to weights.best.gray_model.hdf5\n",
      "Epoch 00010: val_loss improved from 2.76752 to 2.44388, saving model to weights.best.gray_model.hdf5\n",
      "Epoch 00011: val_loss improved from 2.44388 to 2.05276, saving model to weights.best.gray_model.hdf5\n",
      "Epoch 00012: val_loss improved from 2.05276 to 1.97008, saving model to weights.best.gray_model.hdf5\n",
      "Epoch 00013: val_loss improved from 1.97008 to 1.85881, saving model to weights.best.gray_model.hdf5\n",
      "Epoch 00014: val_loss improved from 1.85881 to 1.59872, saving model to weights.best.gray_model.hdf5\n",
      "Epoch 00015: val_loss did not improve\n",
      "Epoch 00016: val_loss improved from 1.59872 to 1.39936, saving model to weights.best.gray_model.hdf5\n",
      "Epoch 00017: val_loss improved from 1.39936 to 1.20511, saving model to weights.best.gray_model.hdf5\n",
      "Epoch 00018: val_loss improved from 1.20511 to 1.11052, saving model to weights.best.gray_model.hdf5\n",
      "Epoch 00019: val_loss did not improve\n",
      "Epoch 00020: val_loss did not improve\n",
      "Epoch 00021: val_loss improved from 1.11052 to 1.11020, saving model to weights.best.gray_model.hdf5\n",
      "Epoch 00022: val_loss improved from 1.11020 to 0.82870, saving model to weights.best.gray_model.hdf5\n",
      "Epoch 00023: val_loss improved from 0.82870 to 0.79849, saving model to weights.best.gray_model.hdf5\n",
      "Epoch 00024: val_loss improved from 0.79849 to 0.71051, saving model to weights.best.gray_model.hdf5\n",
      "Epoch 00025: val_loss did not improve\n",
      "Epoch 00026: val_loss did not improve\n",
      "Epoch 00027: val_loss improved from 0.71051 to 0.64135, saving model to weights.best.gray_model.hdf5\n",
      "Epoch 00028: val_loss did not improve\n",
      "Epoch 00029: val_loss improved from 0.64135 to 0.56791, saving model to weights.best.gray_model.hdf5\n",
      "Epoch 00030: val_loss did not improve\n",
      "Epoch 00031: val_loss improved from 0.56791 to 0.48091, saving model to weights.best.gray_model.hdf5\n",
      "Epoch 00032: val_loss did not improve\n",
      "Epoch 00033: val_loss did not improve\n",
      "Epoch 00034: val_loss did not improve\n",
      "Epoch 00035: val_loss did not improve\n",
      "Epoch 00036: val_loss did not improve\n",
      "Epoch 00037: val_loss did not improve\n",
      "Epoch 00038: val_loss did not improve\n",
      "Epoch 00039: val_loss improved from 0.48091 to 0.47684, saving model to weights.best.gray_model.hdf5\n",
      "Epoch 00040: val_loss improved from 0.47684 to 0.42874, saving model to weights.best.gray_model.hdf5\n",
      "Epoch 00041: val_loss did not improve\n",
      "Epoch 00042: val_loss did not improve\n",
      "Epoch 00043: val_loss did not improve\n",
      "Epoch 00044: val_loss did not improve\n",
      "Epoch 00045: val_loss improved from 0.42874 to 0.41318, saving model to weights.best.gray_model.hdf5\n",
      "Epoch 00046: val_loss improved from 0.41318 to 0.36182, saving model to weights.best.gray_model.hdf5\n",
      "Epoch 00047: val_loss did not improve\n",
      "Epoch 00048: val_loss did not improve\n",
      "Epoch 00049: val_loss did not improve\n",
      "Epoch 00050: val_loss did not improve\n",
      "Epoch 00051: val_loss did not improve\n",
      "Epoch 00052: val_loss did not improve\n",
      "Epoch 00053: val_loss did not improve\n",
      "Epoch 00054: val_loss improved from 0.36182 to 0.33496, saving model to weights.best.gray_model.hdf5\n",
      "Epoch 00055: val_loss did not improve\n",
      "Epoch 00056: val_loss did not improve\n",
      "Epoch 00057: val_loss did not improve\n",
      "Epoch 00058: val_loss improved from 0.33496 to 0.32586, saving model to weights.best.gray_model.hdf5\n",
      "Epoch 00059: val_loss did not improve\n",
      "Epoch 00060: val_loss did not improve\n",
      "Epoch 00061: val_loss did not improve\n",
      "Epoch 00062: val_loss did not improve\n",
      "Epoch 00063: val_loss did not improve\n",
      "Epoch 00064: val_loss did not improve\n",
      "Epoch 00065: val_loss did not improve\n",
      "Epoch 00066: val_loss improved from 0.32586 to 0.31046, saving model to weights.best.gray_model.hdf5\n",
      "Epoch 00067: val_loss did not improve\n",
      "Epoch 00068: val_loss did not improve\n",
      "Epoch 00069: val_loss did not improve\n",
      "Epoch 00070: val_loss did not improve\n",
      "Epoch 00071: val_loss did not improve\n",
      "Epoch 00072: val_loss did not improve\n",
      "Epoch 00073: val_loss did not improve\n",
      "Epoch 00074: val_loss did not improve\n",
      "Epoch 00075: val_loss did not improve\n",
      "Epoch 00076: val_loss did not improve\n",
      "Epoch 00077: val_loss did not improve\n",
      "Epoch 00078: val_loss did not improve\n",
      "Epoch 00079: val_loss did not improve\n",
      "Epoch 00080: val_loss did not improve\n",
      "Epoch 00081: val_loss did not improve\n",
      "Epoch 00082: val_loss did not improve\n",
      "Epoch 00083: val_loss did not improve\n",
      "Epoch 00084: val_loss did not improve\n",
      "Epoch 00085: val_loss did not improve\n",
      "Epoch 00086: val_loss did not improve\n",
      "Epoch 00087: val_loss did not improve\n",
      "Epoch 00088: val_loss did not improve\n",
      "Epoch 00089: val_loss did not improve\n",
      "Epoch 00090: val_loss did not improve\n",
      "Epoch 00091: val_loss did not improve\n",
      "Epoch 00092: val_loss did not improve\n",
      "Epoch 00093: val_loss did not improve\n",
      "Epoch 00094: val_loss did not improve\n",
      "Epoch 00095: val_loss improved from 0.31046 to 0.27338, saving model to weights.best.gray_model.hdf5\n",
      "Epoch 00096: val_loss did not improve\n",
      "Epoch 00097: val_loss did not improve\n",
      "Epoch 00098: val_loss did not improve\n",
      "Epoch 00099: val_loss did not improve\n",
      "Epoch 00100: val_loss did not improve\n",
      "Epoch 00101: val_loss did not improve\n",
      "Epoch 00102: val_loss did not improve\n",
      "Epoch 00103: val_loss did not improve\n",
      "Epoch 00104: val_loss did not improve\n",
      "Epoch 00105: val_loss did not improve\n",
      "Epoch 00106: val_loss did not improve\n",
      "Epoch 00107: val_loss did not improve\n",
      "Epoch 00108: val_loss did not improve\n",
      "Epoch 00109: val_loss did not improve\n",
      "Epoch 00110: val_loss did not improve\n",
      "Epoch 00111: val_loss did not improve\n",
      "Epoch 00112: val_loss did not improve\n",
      "Epoch 00113: val_loss did not improve\n",
      "Epoch 00114: val_loss did not improve\n",
      "Epoch 00115: val_loss did not improve\n",
      "Epoch 00116: val_loss did not improve\n",
      "Epoch 00117: val_loss did not improve\n",
      "Epoch 00118: val_loss did not improve\n",
      "Epoch 00119: val_loss did not improve\n",
      "Epoch 00120: val_loss did not improve\n",
      "Epoch 00121: val_loss did not improve\n",
      "Epoch 00122: val_loss did not improve\n",
      "Epoch 00123: val_loss did not improve\n",
      "Epoch 00124: val_loss did not improve\n",
      "Epoch 00125: val_loss did not improve\n",
      "Epoch 00126: val_loss did not improve\n",
      "Epoch 00127: val_loss did not improve\n",
      "Epoch 00128: val_loss did not improve\n",
      "Epoch 00129: val_loss did not improve\n",
      "Epoch 00130: val_loss did not improve\n",
      "Epoch 00131: val_loss did not improve\n",
      "Epoch 00132: val_loss did not improve\n",
      "Epoch 00133: val_loss did not improve\n",
      "Epoch 00134: val_loss did not improve\n",
      "Epoch 00135: val_loss did not improve\n",
      "Epoch 00136: val_loss did not improve\n",
      "Epoch 00137: val_loss did not improve\n",
      "Epoch 00138: val_loss did not improve\n",
      "Epoch 00139: val_loss did not improve\n",
      "Epoch 00140: val_loss did not improve\n",
      "Epoch 00141: val_loss did not improve\n",
      "Epoch 00142: val_loss did not improve\n",
      "Epoch 00143: val_loss did not improve\n",
      "Epoch 00144: val_loss did not improve\n",
      "Epoch 00145: val_loss did not improve\n",
      "Epoch 00146: val_loss did not improve\n",
      "Epoch 00147: val_loss did not improve\n",
      "Epoch 00148: val_loss did not improve\n",
      "Epoch 00149: val_loss did not improve\n",
      "Epoch 00150: val_loss did not improve\n",
      "Epoch 00151: val_loss did not improve\n",
      "Epoch 00152: val_loss did not improve\n",
      "Epoch 00153: val_loss did not improve\n",
      "Epoch 00154: val_loss did not improve\n",
      "Epoch 00155: val_loss did not improve\n",
      "Epoch 00156: val_loss did not improve\n",
      "Epoch 00157: val_loss did not improve\n",
      "Epoch 00158: val_loss did not improve\n",
      "Epoch 00159: val_loss did not improve\n",
      "Epoch 00160: val_loss did not improve\n",
      "Epoch 00161: val_loss did not improve\n",
      "Epoch 00162: val_loss did not improve\n",
      "Epoch 00163: val_loss did not improve\n",
      "Epoch 00164: val_loss did not improve\n"
     ]
    },
    {
     "name": "stdout",
     "output_type": "stream",
     "text": [
      "Epoch 00165: val_loss did not improve\n",
      "Epoch 00166: val_loss did not improve\n",
      "Epoch 00167: val_loss did not improve\n",
      "Epoch 00168: val_loss did not improve\n",
      "Epoch 00169: val_loss did not improve\n",
      "Epoch 00170: val_loss did not improve\n",
      "Epoch 00171: val_loss did not improve\n",
      "Epoch 00172: val_loss did not improve\n",
      "Epoch 00173: val_loss did not improve\n",
      "Epoch 00174: val_loss did not improve\n",
      "Epoch 00175: val_loss did not improve\n",
      "Epoch 00176: val_loss did not improve\n",
      "Epoch 00177: val_loss did not improve\n",
      "Epoch 00178: val_loss did not improve\n",
      "Epoch 00179: val_loss did not improve\n",
      "Epoch 00180: val_loss did not improve\n",
      "Epoch 00181: val_loss did not improve\n",
      "Epoch 00182: val_loss did not improve\n",
      "Epoch 00183: val_loss did not improve\n",
      "Epoch 00184: val_loss did not improve\n",
      "Epoch 00185: val_loss did not improve\n",
      "Epoch 00186: val_loss did not improve\n",
      "Epoch 00187: val_loss did not improve\n",
      "Epoch 00188: val_loss did not improve\n",
      "Epoch 00189: val_loss did not improve\n",
      "Epoch 00190: val_loss did not improve\n",
      "Epoch 00191: val_loss did not improve\n",
      "Epoch 00192: val_loss did not improve\n",
      "Epoch 00193: val_loss did not improve\n",
      "Epoch 00194: val_loss did not improve\n",
      "Epoch 00195: val_loss did not improve\n",
      "Epoch 00196: val_loss did not improve\n",
      "Epoch 00197: val_loss did not improve\n",
      "Epoch 00198: val_loss did not improve\n",
      "Epoch 00199: val_loss did not improve\n"
     ]
    }
   ],
   "source": [
    "hide_code\n",
    "# Train the model\n",
    "gray_checkpointer = ModelCheckpoint(filepath='weights.best.gray_model.hdf5', \n",
    "                                    verbose=2, save_best_only=True)\n",
    "gray_history = gray_model.fit(x_train2, y_train2, \n",
    "                              epochs=200, batch_size=64, verbose=0,\n",
    "                              validation_data=(x_valid2, y_valid2),\n",
    "                              callbacks=[gray_checkpointer])"
   ]
  },
  {
   "cell_type": "code",
   "execution_count": 45,
   "metadata": {},
   "outputs": [
    {
     "data": {
      "image/png": "[encoded data removed]",
      "text/plain": [
       "<matplotlib.figure.Figure at 0x17c378518>"
      ]
     },
     "metadata": {},
     "output_type": "display_data"
    }
   ],
   "source": [
    "hide_code\n",
    "# Plot the training history\n",
    "history_plot(gray_history, 0)"
   ]
  },
  {
   "cell_type": "markdown",
   "metadata": {},
   "source": [
    "Try to reach an accuracy greater than 80%"
   ]
  },
  {
   "cell_type": "code",
   "execution_count": 46,
   "metadata": {},
   "outputs": [
    {
     "name": "stdout",
     "output_type": "stream",
     "text": [
      "1248/1254 [============================>.] - ETA: 0s"
     ]
    },
    {
     "data": {
      "text/plain": [
       "[0.33723747487843891, 0.90111642733715369]"
      ]
     },
     "execution_count": 46,
     "metadata": {},
     "output_type": "execute_result"
    }
   ],
   "source": [
    "hide_code\n",
    "# Load the model with the best validation accuracy\n",
    "gray_model.load_weights('weights.best.gray_model.hdf5')\n",
    "# Calculate classification accuracy on the testing set\n",
    "gray_score = gray_model.evaluate(x_test2, y_test2)\n",
    "gray_score"
   ]
  },
  {
   "cell_type": "markdown",
   "metadata": {},
   "source": [
    "Apply the ImageDataGenerator() function."
   ]
  },
  {
   "cell_type": "code",
   "execution_count": 47,
   "metadata": {},
   "outputs": [
    {
     "name": "stdout",
     "output_type": "stream",
     "text": [
      "Epoch 1/20\n",
      "Epoch 00000: val_loss did not improve\n",
      "530s - loss: 1.4148 - acc: 0.6263 - val_loss: 0.5480 - val_acc: 0.8772\n",
      "Epoch 2/20\n",
      "Epoch 00001: val_loss did not improve\n",
      "484s - loss: 1.3130 - acc: 0.6471 - val_loss: 0.5981 - val_acc: 0.8397\n",
      "Epoch 3/20\n",
      "Epoch 00002: val_loss did not improve\n",
      "485s - loss: 1.2651 - acc: 0.6618 - val_loss: 0.4441 - val_acc: 0.8844\n",
      "Epoch 4/20\n",
      "Epoch 00003: val_loss did not improve\n",
      "484s - loss: 1.2754 - acc: 0.6605 - val_loss: 0.4570 - val_acc: 0.8828\n",
      "Epoch 5/20\n",
      "Epoch 00004: val_loss did not improve\n",
      "486s - loss: 1.2865 - acc: 0.6593 - val_loss: 0.7593 - val_acc: 0.7719\n",
      "Epoch 6/20\n",
      "Epoch 00005: val_loss did not improve\n",
      "489s - loss: 1.2852 - acc: 0.6592 - val_loss: 0.3587 - val_acc: 0.9107\n",
      "Epoch 7/20\n",
      "Epoch 00006: val_loss did not improve\n",
      "520s - loss: 1.2977 - acc: 0.6585 - val_loss: 0.5169 - val_acc: 0.8652\n",
      "Epoch 8/20\n",
      "Epoch 00007: val_loss did not improve\n",
      "525s - loss: 1.3136 - acc: 0.6584 - val_loss: 0.4053 - val_acc: 0.8907\n",
      "Epoch 9/20\n",
      "Epoch 00008: val_loss did not improve\n",
      "517s - loss: 1.3264 - acc: 0.6536 - val_loss: 0.4217 - val_acc: 0.8915\n",
      "Epoch 10/20\n",
      "Epoch 00009: val_loss did not improve\n",
      "589s - loss: 1.3578 - acc: 0.6484 - val_loss: 0.4139 - val_acc: 0.8772\n",
      "Epoch 11/20\n",
      "Epoch 00010: val_loss did not improve\n",
      "609s - loss: 1.3907 - acc: 0.6423 - val_loss: 0.6638 - val_acc: 0.8166\n",
      "Epoch 12/20\n",
      "Epoch 00011: val_loss did not improve\n",
      "626s - loss: 1.4154 - acc: 0.6417 - val_loss: 0.4572 - val_acc: 0.8884\n",
      "Epoch 13/20\n",
      "Epoch 00012: val_loss did not improve\n",
      "611s - loss: 1.4353 - acc: 0.6373 - val_loss: 0.6618 - val_acc: 0.8461\n",
      "Epoch 14/20\n",
      "Epoch 00013: val_loss did not improve\n",
      "487s - loss: 1.4493 - acc: 0.6318 - val_loss: 0.6127 - val_acc: 0.8405\n",
      "Epoch 15/20\n",
      "Epoch 00014: val_loss did not improve\n",
      "549s - loss: 1.5123 - acc: 0.6186 - val_loss: 0.7043 - val_acc: 0.8198\n",
      "Epoch 16/20\n",
      "Epoch 00015: val_loss did not improve\n",
      "530s - loss: 1.5552 - acc: 0.6117 - val_loss: 0.5003 - val_acc: 0.8708\n",
      "Epoch 17/20\n",
      "Epoch 00016: val_loss did not improve\n",
      "575s - loss: 1.5782 - acc: 0.6073 - val_loss: 0.5917 - val_acc: 0.8317\n",
      "Epoch 18/20\n",
      "Epoch 00017: val_loss did not improve\n",
      "515s - loss: 1.6274 - acc: 0.5987 - val_loss: 0.6484 - val_acc: 0.8118\n",
      "Epoch 19/20\n",
      "Epoch 00018: val_loss did not improve\n",
      "549s - loss: 1.6766 - acc: 0.5917 - val_loss: 0.5729 - val_acc: 0.8437\n",
      "Epoch 20/20\n",
      "Epoch 00019: val_loss did not improve\n",
      "593s - loss: 1.7146 - acc: 0.5787 - val_loss: 0.5900 - val_acc: 0.8477\n"
     ]
    }
   ],
   "source": [
    "hide_code\n",
    "# Fit the model with ImageDataGenerator()\n",
    "# TODO: Define parameters\n",
    "steps, epochs = 1000, 20\n",
    "data_generator = ImageDataGenerator(zoom_range=0.2, shear_range=0.2, rotation_range=20)\n",
    "\n",
    "gray_generator = gray_model.fit_generator(data_generator.flow(x_train2, y_train2, batch_size=64),\n",
    "                                          steps_per_epoch = steps, epochs = epochs,\n",
    "                                          validation_data = (x_test2, y_test2), \n",
    "                                          callbacks=[gray_checkpointer], verbose=2)"
   ]
  },
  {
   "cell_type": "code",
   "execution_count": 48,
   "metadata": {},
   "outputs": [
    {
     "name": "stdout",
     "output_type": "stream",
     "text": [
      "1248/1254 [============================>.] - ETA: 0s"
     ]
    },
    {
     "data": {
      "text/plain": [
       "[0.33723747487843891, 0.90111642733715369]"
      ]
     },
     "execution_count": 48,
     "metadata": {},
     "output_type": "execute_result"
    }
   ],
   "source": [
    "hide_code\n",
    "# Load the model with the best validation accuracy\n",
    "gray_model.load_weights('weights.best.gray_model.hdf5')\n",
    "# Calculate classification accuracy on the testing set\n",
    "gray_score = gray_model.evaluate(x_test2, y_test2)\n",
    "gray_score"
   ]
  },
  {
   "cell_type": "markdown",
   "metadata": {},
   "source": [
    "Let's compare the results with classifying algorithms."
   ]
  },
  {
   "cell_type": "code",
   "execution_count": 67,
   "metadata": {},
   "outputs": [
    {
     "data": {
      "text/plain": [
       "0.31897926634768742"
      ]
     },
     "execution_count": 67,
     "metadata": {},
     "output_type": "execute_result"
    }
   ],
   "source": [
    "hide_code\n",
    "# Fit the classifier and get the accuracy score\n",
    "y_train2_c = np.array([np.argmax(y) for y in y_train2])\n",
    "y_test2_c = np.array([np.argmax(y) for y in y_test2])\n",
    "clf = GradientBoostingClassifier().fit(x_train2.reshape(-1, 32*32), y_train2_c)\n",
    "clf.score(x_test2.reshape(-1, 32*32), y_test2_c)"
   ]
  },
  {
   "cell_type": "code",
   "execution_count": 68,
   "metadata": {},
   "outputs": [
    {
     "data": {
      "text/plain": [
       "0.22089314194577353"
      ]
     },
     "execution_count": 68,
     "metadata": {},
     "output_type": "execute_result"
    }
   ],
   "source": [
    "hide_code\n",
    "# Fit the classifier and get the accuracy score\n",
    "clf2 = RandomForestClassifier().fit(x_train2.reshape(-1, 32*32), y_train2_c)\n",
    "clf2.score(x_test2.reshape(-1, 32*32), y_test2_c)"
   ]
  },
  {
   "cell_type": "markdown",
   "metadata": {},
   "source": [
    "## Step 5. Create a Multi-Label Classification Model\n",
    "### Color Images"
   ]
  },
  {
   "cell_type": "code",
   "execution_count": 54,
   "metadata": {
    "collapsed": true
   },
   "outputs": [],
   "source": [
    "hide_code\n",
    "def multi_model():    \n",
    "    model_input = Input(shape=(32, 32, 3))\n",
    "    x = BatchNormalization()(model_input)\n",
    "    # TODO: Define a model architecture\n",
    "    x = Conv2D(32, (5, 5), activation='relu', padding='same')(model_input)\n",
    "    x = MaxPooling2D(pool_size=(2, 2))(x)    \n",
    "    x = Dropout(0.25)(x)\n",
    "    \n",
    "    x = Conv2D(256, (5, 5), activation='relu', padding='same')(x)       \n",
    "    x = MaxPooling2D(pool_size=(2, 2))(x)    \n",
    "    x = Dropout(0.25)(x)\n",
    "              \n",
    "    x = GlobalMaxPooling2D()(x)\n",
    "    \n",
    "    x = Dense(1024, activation='tanh')(x)    \n",
    "    x = Dropout(0.25)(x)\n",
    "    \n",
    "    x = Dense(256, activation='tanh')(x)    \n",
    "    x = Dropout(0.25)(x) \n",
    "    \n",
    "    y1 = Dense(33, activation='softmax')(x)\n",
    "    y2 = Dense(2, activation='softmax')(x)\n",
    "    \n",
    "    model = Model(inputs=model_input, outputs=[y1, y2])\n",
    "    \n",
    "    # TODO: Compile the model\n",
    "    model.compile(loss='categorical_crossentropy', optimizer='nadam', metrics=['accuracy'])\n",
    "    return model\n",
    "\n",
    "multi_model = multi_model()"
   ]
  },
  {
   "cell_type": "code",
   "execution_count": 55,
   "metadata": {},
   "outputs": [
    {
     "name": "stdout",
     "output_type": "stream",
     "text": [
      "____________________________________________________________________________________________________\n",
      "Layer (type)                     Output Shape          Param #     Connected to                     \n",
      "====================================================================================================\n",
      "input_6 (InputLayer)             (None, 32, 32, 3)     0                                            \n",
      "____________________________________________________________________________________________________\n",
      "conv2d_15 (Conv2D)               (None, 32, 32, 32)    2432        input_6[0][0]                    \n",
      "____________________________________________________________________________________________________\n",
      "max_pooling2d_15 (MaxPooling2D)  (None, 16, 16, 32)    0           conv2d_15[0][0]                  \n",
      "____________________________________________________________________________________________________\n",
      "dropout_25 (Dropout)             (None, 16, 16, 32)    0           max_pooling2d_15[0][0]           \n",
      "____________________________________________________________________________________________________\n",
      "conv2d_16 (Conv2D)               (None, 16, 16, 256)   205056      dropout_25[0][0]                 \n",
      "____________________________________________________________________________________________________\n",
      "max_pooling2d_16 (MaxPooling2D)  (None, 8, 8, 256)     0           conv2d_16[0][0]                  \n",
      "____________________________________________________________________________________________________\n",
      "dropout_26 (Dropout)             (None, 8, 8, 256)     0           max_pooling2d_16[0][0]           \n",
      "____________________________________________________________________________________________________\n",
      "global_max_pooling2d_8 (GlobalMa (None, 256)           0           dropout_26[0][0]                 \n",
      "____________________________________________________________________________________________________\n",
      "dense_23 (Dense)                 (None, 1024)          263168      global_max_pooling2d_8[0][0]     \n",
      "____________________________________________________________________________________________________\n",
      "dropout_27 (Dropout)             (None, 1024)          0           dense_23[0][0]                   \n",
      "____________________________________________________________________________________________________\n",
      "dense_24 (Dense)                 (None, 256)           262400      dropout_27[0][0]                 \n",
      "____________________________________________________________________________________________________\n",
      "dropout_28 (Dropout)             (None, 256)           0           dense_24[0][0]                   \n",
      "____________________________________________________________________________________________________\n",
      "dense_25 (Dense)                 (None, 33)            8481        dropout_28[0][0]                 \n",
      "____________________________________________________________________________________________________\n",
      "dense_26 (Dense)                 (None, 2)             514         dropout_28[0][0]                 \n",
      "====================================================================================================\n",
      "Total params: 742,051\n",
      "Trainable params: 742,051\n",
      "Non-trainable params: 0\n",
      "____________________________________________________________________________________________________\n"
     ]
    }
   ],
   "source": [
    "hide_code\n",
    "# Display the model architecture\n",
    "multi_model.summary()"
   ]
  },
  {
   "cell_type": "code",
   "execution_count": 56,
   "metadata": {},
   "outputs": [
    {
     "name": "stdout",
     "output_type": "stream",
     "text": [
      "Epoch 00000: val_loss improved from inf to 4.19283, saving model to weights.best.multi.hdf5\n",
      "Epoch 00001: val_loss improved from 4.19283 to 4.18674, saving model to weights.best.multi.hdf5\n",
      "Epoch 00002: val_loss improved from 4.18674 to 4.17741, saving model to weights.best.multi.hdf5\n",
      "Epoch 00003: val_loss did not improve\n",
      "Epoch 00004: val_loss did not improve\n",
      "Epoch 00005: val_loss did not improve\n",
      "Epoch 00006: val_loss did not improve\n",
      "Epoch 00007: val_loss did not improve\n",
      "Epoch 00008: val_loss did not improve\n",
      "Epoch 00009: val_loss did not improve\n"
     ]
    }
   ],
   "source": [
    "hide_code\n",
    "# Train the model\n",
    "multi_checkpointer = ModelCheckpoint(filepath='weights.best.multi.hdf5', \n",
    "                                     verbose=2, save_best_only=True)\n",
    "multi_history = multi_model.fit(x_train3, y_train3_list, \n",
    "                                validation_data=(x_test3, y_test3_list), \n",
    "                                epochs=10, batch_size=64, verbose=0, \n",
    "                                callbacks=[multi_checkpointer])"
   ]
  },
  {
   "cell_type": "markdown",
   "metadata": {},
   "source": [
    "We should have an accuracy greater than 3% for the first target (letter) and greater than 50% for the second target (background)."
   ]
  },
  {
   "cell_type": "code",
   "execution_count": 57,
   "metadata": {},
   "outputs": [
    {
     "name": "stdout",
     "output_type": "stream",
     "text": [
      "Scores: \n",
      " [4.1774145564394134, 3.4451665680564383, 0.73224796100476519, 0.039872408317226729, 0.49282296660224029]\n",
      "First label. Accuracy: 3.99%\n",
      "Second label. Accuracy: 49.28%\n"
     ]
    }
   ],
   "source": [
    "hide_code\n",
    "# Load the model with the best validation accuracy\n",
    "multi_model.load_weights('weights.best.multi.hdf5')\n",
    "# Calculate classification accuracy on the testing set\n",
    "multi_scores = multi_model.evaluate(x_test3, y_test3_list, verbose=0)\n",
    "\n",
    "print(\"Scores: \\n\" , (multi_scores))\n",
    "print(\"First label. Accuracy: %.2f%%\" % (multi_scores[3]*100))\n",
    "print(\"Second label. Accuracy: %.2f%%\" % (multi_scores[4]*100))"
   ]
  },
  {
   "cell_type": "markdown",
   "metadata": {
    "collapsed": true
   },
   "source": [
    "### Grayscaled Images"
   ]
  },
  {
   "cell_type": "code",
   "execution_count": 58,
   "metadata": {
    "collapsed": true
   },
   "outputs": [],
   "source": [
    "hide_code\n",
    "def gray_multi_model():    \n",
    "    model_input = Input(shape=(32, 32, 1))\n",
    "    x = BatchNormalization()(model_input)\n",
    "    # TODO: Define a model architecture\n",
    "    x = Conv2D(32, (5, 5), activation='relu', padding='same')(model_input)\n",
    "    x = MaxPooling2D(pool_size=(2, 2))(x)    \n",
    "    x = Dropout(0.25)(x)\n",
    "    \n",
    "    x = Conv2D(256, (5, 5), activation='relu', padding='same')(x)       \n",
    "    x = MaxPooling2D(pool_size=(2, 2))(x)    \n",
    "    x = Dropout(0.25)(x)\n",
    "              \n",
    "    x = GlobalMaxPooling2D()(x)\n",
    "    \n",
    "    x = Dense(1024, activation='relu')(x)    \n",
    "    x = Dropout(0.25)(x)\n",
    "    \n",
    "    x = Dense(256, activation='relu')(x)    \n",
    "    x = Dropout(0.25)(x)\n",
    "    \n",
    "    y1 = Dense(33, activation='softmax')(x)\n",
    "    y2 = Dense(2, activation='softmax')(x)\n",
    "       \n",
    "    model = Model(inputs=model_input, outputs=[y1, y2])\n",
    "    # TODO: Compile the model\n",
    "\n",
    "    model.compile(loss='categorical_crossentropy', optimizer='rmsprop', metrics=['accuracy'])   \n",
    "    return model\n",
    "\n",
    "gray_multi_model = gray_multi_model()"
   ]
  },
  {
   "cell_type": "code",
   "execution_count": 59,
   "metadata": {},
   "outputs": [
    {
     "name": "stdout",
     "output_type": "stream",
     "text": [
      "Epoch 00000: val_loss improved from inf to 4.12388, saving model to weights.best.gray_multi.hdf5\n",
      "Epoch 00001: val_loss improved from 4.12388 to 4.08850, saving model to weights.best.gray_multi.hdf5\n",
      "Epoch 00002: val_loss improved from 4.08850 to 3.95714, saving model to weights.best.gray_multi.hdf5\n",
      "Epoch 00003: val_loss improved from 3.95714 to 3.58091, saving model to weights.best.gray_multi.hdf5\n",
      "Epoch 00004: val_loss improved from 3.58091 to 3.22485, saving model to weights.best.gray_multi.hdf5\n",
      "Epoch 00005: val_loss did not improve\n",
      "Epoch 00006: val_loss improved from 3.22485 to 3.10279, saving model to weights.best.gray_multi.hdf5\n",
      "Epoch 00007: val_loss did not improve\n",
      "Epoch 00008: val_loss did not improve\n",
      "Epoch 00009: val_loss improved from 3.10279 to 2.97522, saving model to weights.best.gray_multi.hdf5\n",
      "Epoch 00010: val_loss improved from 2.97522 to 2.93544, saving model to weights.best.gray_multi.hdf5\n",
      "Epoch 00011: val_loss improved from 2.93544 to 2.86560, saving model to weights.best.gray_multi.hdf5\n",
      "Epoch 00012: val_loss did not improve\n",
      "Epoch 00013: val_loss did not improve\n",
      "Epoch 00014: val_loss did not improve\n",
      "Epoch 00015: val_loss improved from 2.86560 to 2.66017, saving model to weights.best.gray_multi.hdf5\n",
      "Epoch 00016: val_loss did not improve\n",
      "Epoch 00017: val_loss improved from 2.66017 to 2.35667, saving model to weights.best.gray_multi.hdf5\n",
      "Epoch 00018: val_loss improved from 2.35667 to 2.28541, saving model to weights.best.gray_multi.hdf5\n",
      "Epoch 00019: val_loss did not improve\n",
      "Epoch 00020: val_loss improved from 2.28541 to 2.23184, saving model to weights.best.gray_multi.hdf5\n",
      "Epoch 00021: val_loss improved from 2.23184 to 1.91189, saving model to weights.best.gray_multi.hdf5\n",
      "Epoch 00022: val_loss did not improve\n",
      "Epoch 00023: val_loss improved from 1.91189 to 1.74872, saving model to weights.best.gray_multi.hdf5\n",
      "Epoch 00024: val_loss improved from 1.74872 to 1.70942, saving model to weights.best.gray_multi.hdf5\n",
      "Epoch 00025: val_loss did not improve\n",
      "Epoch 00026: val_loss improved from 1.70942 to 1.62458, saving model to weights.best.gray_multi.hdf5\n",
      "Epoch 00027: val_loss did not improve\n",
      "Epoch 00028: val_loss improved from 1.62458 to 1.46409, saving model to weights.best.gray_multi.hdf5\n",
      "Epoch 00029: val_loss did not improve\n",
      "Epoch 00030: val_loss improved from 1.46409 to 1.27239, saving model to weights.best.gray_multi.hdf5\n",
      "Epoch 00031: val_loss did not improve\n",
      "Epoch 00032: val_loss improved from 1.27239 to 1.16731, saving model to weights.best.gray_multi.hdf5\n",
      "Epoch 00033: val_loss did not improve\n",
      "Epoch 00034: val_loss did not improve\n",
      "Epoch 00035: val_loss improved from 1.16731 to 1.02109, saving model to weights.best.gray_multi.hdf5\n",
      "Epoch 00036: val_loss did not improve\n",
      "Epoch 00037: val_loss improved from 1.02109 to 0.94062, saving model to weights.best.gray_multi.hdf5\n",
      "Epoch 00038: val_loss did not improve\n",
      "Epoch 00039: val_loss did not improve\n",
      "Epoch 00040: val_loss did not improve\n",
      "Epoch 00041: val_loss did not improve\n",
      "Epoch 00042: val_loss improved from 0.94062 to 0.89336, saving model to weights.best.gray_multi.hdf5\n",
      "Epoch 00043: val_loss improved from 0.89336 to 0.80072, saving model to weights.best.gray_multi.hdf5\n",
      "Epoch 00044: val_loss did not improve\n",
      "Epoch 00045: val_loss did not improve\n",
      "Epoch 00046: val_loss improved from 0.80072 to 0.76805, saving model to weights.best.gray_multi.hdf5\n",
      "Epoch 00047: val_loss improved from 0.76805 to 0.75573, saving model to weights.best.gray_multi.hdf5\n",
      "Epoch 00048: val_loss improved from 0.75573 to 0.74306, saving model to weights.best.gray_multi.hdf5\n",
      "Epoch 00049: val_loss did not improve\n",
      "Epoch 00050: val_loss did not improve\n",
      "Epoch 00051: val_loss did not improve\n",
      "Epoch 00052: val_loss improved from 0.74306 to 0.71596, saving model to weights.best.gray_multi.hdf5\n",
      "Epoch 00053: val_loss did not improve\n",
      "Epoch 00054: val_loss did not improve\n",
      "Epoch 00055: val_loss did not improve\n",
      "Epoch 00056: val_loss did not improve\n",
      "Epoch 00057: val_loss improved from 0.71596 to 0.69136, saving model to weights.best.gray_multi.hdf5\n",
      "Epoch 00058: val_loss did not improve\n",
      "Epoch 00059: val_loss did not improve\n",
      "Epoch 00060: val_loss improved from 0.69136 to 0.68151, saving model to weights.best.gray_multi.hdf5\n",
      "Epoch 00061: val_loss improved from 0.68151 to 0.61470, saving model to weights.best.gray_multi.hdf5\n",
      "Epoch 00062: val_loss did not improve\n",
      "Epoch 00063: val_loss did not improve\n",
      "Epoch 00064: val_loss did not improve\n",
      "Epoch 00065: val_loss did not improve\n",
      "Epoch 00066: val_loss improved from 0.61470 to 0.52703, saving model to weights.best.gray_multi.hdf5\n",
      "Epoch 00067: val_loss did not improve\n",
      "Epoch 00068: val_loss did not improve\n",
      "Epoch 00069: val_loss did not improve\n",
      "Epoch 00070: val_loss did not improve\n",
      "Epoch 00071: val_loss did not improve\n",
      "Epoch 00072: val_loss did not improve\n",
      "Epoch 00073: val_loss did not improve\n",
      "Epoch 00074: val_loss improved from 0.52703 to 0.51538, saving model to weights.best.gray_multi.hdf5\n",
      "Epoch 00075: val_loss did not improve\n",
      "Epoch 00076: val_loss did not improve\n",
      "Epoch 00077: val_loss did not improve\n",
      "Epoch 00078: val_loss did not improve\n",
      "Epoch 00079: val_loss did not improve\n",
      "Epoch 00080: val_loss did not improve\n",
      "Epoch 00081: val_loss did not improve\n",
      "Epoch 00082: val_loss did not improve\n",
      "Epoch 00083: val_loss did not improve\n",
      "Epoch 00084: val_loss did not improve\n",
      "Epoch 00085: val_loss did not improve\n",
      "Epoch 00086: val_loss did not improve\n",
      "Epoch 00087: val_loss did not improve\n",
      "Epoch 00088: val_loss did not improve\n",
      "Epoch 00089: val_loss improved from 0.51538 to 0.49209, saving model to weights.best.gray_multi.hdf5\n",
      "Epoch 00090: val_loss did not improve\n",
      "Epoch 00091: val_loss did not improve\n",
      "Epoch 00092: val_loss did not improve\n",
      "Epoch 00093: val_loss did not improve\n",
      "Epoch 00094: val_loss did not improve\n",
      "Epoch 00095: val_loss improved from 0.49209 to 0.46024, saving model to weights.best.gray_multi.hdf5\n",
      "Epoch 00096: val_loss did not improve\n",
      "Epoch 00097: val_loss did not improve\n",
      "Epoch 00098: val_loss did not improve\n",
      "Epoch 00099: val_loss did not improve\n"
     ]
    }
   ],
   "source": [
    "hide_code\n",
    "# Train the model\n",
    "gray_multi_checkpointer = ModelCheckpoint(filepath='weights.best.gray_multi.hdf5', \n",
    "                                          verbose=2, save_best_only=True)\n",
    "gray_multi_history = gray_multi_model.fit(x_train4, y_train4_list, \n",
    "                                          validation_data=(x_test4, y_test4_list), \n",
    "                                          epochs=100, batch_size=64, verbose=0, \n",
    "                                          callbacks=[gray_multi_checkpointer])"
   ]
  },
  {
   "cell_type": "markdown",
   "metadata": {},
   "source": [
    "We should have an accuracy greater than 3% for the first target (letter) and greater than 50% for the second target (background)."
   ]
  },
  {
   "cell_type": "code",
   "execution_count": 60,
   "metadata": {},
   "outputs": [
    {
     "name": "stdout",
     "output_type": "stream",
     "text": [
      "Scores: \n",
      " [0.46023634204453828, 0.45373355859869785, 0.0065027880134243682, 0.8564593301435407, 0.99840510366826152]\n",
      "First label. Accuracy: 85.65%\n",
      "Second label. Accuracy: 99.84%\n"
     ]
    }
   ],
   "source": [
    "hide_code\n",
    "# Load the model with the best validation accuracy\n",
    "gray_multi_model.load_weights('weights.best.gray_multi.hdf5')\n",
    "# Calculate classification accuracy on the testing set\n",
    "gray_multi_scores = gray_multi_model.evaluate(x_test4, y_test4_list, verbose=0)\n",
    "\n",
    "print(\"Scores: \\n\" , (gray_multi_scores))\n",
    "print(\"First label. Accuracy: %.2f%%\" % (gray_multi_scores[3]*100))\n",
    "print(\"Second label. Accuracy: %.2f%%\" % (gray_multi_scores[4]*100))"
   ]
  },
  {
   "cell_type": "markdown",
   "metadata": {},
   "source": [
    "## Step 6. Keras Applications\n",
    "Choose one of the keras applications and try to reach an accuracy greater than 30%\n",
    "### Color Images"
   ]
  },
  {
   "cell_type": "code",
   "execution_count": null,
   "metadata": {
    "collapsed": true
   },
   "outputs": [],
   "source": [
    "# Create bottleneck features\n",
    "resize_x_train = np.array([scipy.misc.imresize(x_train[i], (139, 139, 3)) \n",
    "                           for i in range(0, len(x_train))]).astype('float32')\n",
    "resize_x_test = np.array([scipy.misc.imresize(x_test[i], (139, 139, 3)) \n",
    "                          for i in range(0, len(x_test))]).astype('float32')\n",
    "resize_x_valid = np.array([scipy.misc.imresize(x_valid[i], (139, 139, 3)) \n",
    "                          for i in range(0, len(x_valid))]).astype('float32')\n",
    "\n",
    "iv3_x_train = preprocess_input(resize_x_train)\n",
    "iv3_x_test = preprocess_input(resize_x_test)\n",
    "iv3_x_valid = preprocess_input(resize_x_valid)\n",
    "\n",
    "iv3_base_model = InceptionV3(weights='imagenet', include_top=False)\n",
    "x_train_bn = iv3_base_model.predict(iv3_x_train)\n",
    "x_test_bn = iv3_base_model.predict(iv3_x_test)\n",
    "x_valid_bn = iv3_base_model.predict(iv3_x_valid)"
   ]
  },
  {
   "cell_type": "code",
   "execution_count": null,
   "metadata": {
    "collapsed": true
   },
   "outputs": [],
   "source": [
    "# Save bottleneck features\n",
    "x_train_bn = np.squeeze(x_train_bn)\n",
    "x_test_bn = np.squeeze(x_test_bn)\n",
    "x_valid_bn = np.squeeze(x_valid_bn)\n",
    "\n",
    "np.save('x_train_bn.npy', x_train_bn)\n",
    "np.save('x_test_bn.npy', x_test_bn)\n",
    "np.save('x_valid_bn.npy', x_valid_bn)"
   ]
  },
  {
   "cell_type": "code",
   "execution_count": null,
   "metadata": {
    "collapsed": true
   },
   "outputs": [],
   "source": [
    "# Load bottleneck features\n",
    "x_train_bn = np.load('x_train_bn.npy')\n",
    "x_test_bn = np.load('x_test_bn.npy')\n",
    "x_valid_bn = np.load('x_valid_bn.npy')"
   ]
  },
  {
   "cell_type": "code",
   "execution_count": null,
   "metadata": {
    "collapsed": true
   },
   "outputs": [],
   "source": [
    "hide_code\n",
    "def iv3_model():\n",
    "    model = Sequential()\n",
    "    # TODO: Define a model architecture\n",
    "    model.add(Conv2D(filters=32, kernel_size=2, input_shape=x_train_bn.shape[1:]))\n",
    "    model.add(MaxPooling2D(pool_size=(2, 2)))\n",
    "    model.add(Dropout(0.25))\n",
    "    \n",
    "    model.add(GlobalAveragePooling2D())\n",
    "    model.add(Dropout(0.25))\n",
    "    \n",
    "    model.add(Dense(2048, activation='relu'))\n",
    "    model.add(Dropout(0.25))\n",
    "        \n",
    "    model.add(Dense(512, activation='relu'))\n",
    "    model.add(Dropout(0.25))\n",
    "    \n",
    "    model.add(Dense(33, activation='softmax'))\n",
    "    \n",
    "    # TODO: Compile the model \n",
    "    model.compile(loss='categorical_crossentropy', optimizer='rmsprop', metrics=['accuracy'])    \n",
    "\n",
    "    return model\n",
    "\n",
    "iv3_model = iv3_model()"
   ]
  },
  {
   "cell_type": "code",
   "execution_count": null,
   "metadata": {
    "collapsed": true
   },
   "outputs": [],
   "source": [
    "hide_code\n",
    "# Fit the model \n",
    "iv3_checkpointer = ModelCheckpoint(filepath='weights.best.iv3.hdf5', \n",
    "                                     verbose=2, save_best_only=True)\n",
    "iv3_history = iv3_model.fit(x_train_bn, y_train, \n",
    "                            validation_data=(x_valid_bn, y_valid),\n",
    "                            epochs=50, batch_size=64, \n",
    "                            callbacks=[iv3_checkpointer], verbose=0);"
   ]
  },
  {
   "cell_type": "code",
   "execution_count": null,
   "metadata": {
    "collapsed": true
   },
   "outputs": [],
   "source": [
    "hide_code\n",
    "# Plot the training history\n",
    "history_plot(iv3_history, 0)"
   ]
  },
  {
   "cell_type": "code",
   "execution_count": null,
   "metadata": {
    "collapsed": true
   },
   "outputs": [],
   "source": [
    "hide_code\n",
    "# Load the model with the best validation accuracy\n",
    "iv3_model.load_weights('weights.best.iv3.hdf5')\n",
    "# Calculate classification accuracy on the testing set\n",
    "iv3_scores = iv3_model.evaluate(x_test_bn, y_test)\n",
    "print(\"Accuracy: %.2f%%\" % (iv3_scores[1]*100))\n",
    "iv3_scores"
   ]
  },
  {
   "cell_type": "markdown",
   "metadata": {},
   "source": [
    "### Grayscaled Images"
   ]
  },
  {
   "cell_type": "code",
   "execution_count": null,
   "metadata": {
    "collapsed": true
   },
   "outputs": [],
   "source": [
    "# Create bottleneck features\n",
    "resize_x_train2 = np.array([scipy.misc.imresize(x_train2_color[i], (139, 139, 3)) \n",
    "                            for i in range(0, len(x_train2_color))]).astype('float32')\n",
    "resize_x_test2 = np.array([scipy.misc.imresize(x_test2_color[i], (139, 139, 3)) \n",
    "                           for i in range(0, len(x_test2_color))]).astype('float32')\n",
    "resize_x_valid2 = np.array([scipy.misc.imresize(x_valid2_color[i], (139, 139, 3)) \n",
    "                           for i in range(0, len(x_valid2_color))]).astype('float32')\n",
    "\n",
    "iv3_x_train2 = preprocess_input(resize_x_train2)\n",
    "iv3_x_test2 = preprocess_input(resize_x_test2)\n",
    "iv3_x_valid2 = preprocess_input(resize_x_valid2)\n",
    "\n",
    "iv3_base_model2 = InceptionV3(weights='imagenet', include_top=False)\n",
    "x_train_bn2 = iv3_base_model2.predict(iv3_x_train2)\n",
    "x_test_bn2 = iv3_base_model2.predict(iv3_x_test2)\n",
    "x_valid_bn2 = iv3_base_model2.predict(iv3_x_valid2)"
   ]
  },
  {
   "cell_type": "code",
   "execution_count": null,
   "metadata": {
    "collapsed": true
   },
   "outputs": [],
   "source": [
    "# Save bottleneck features\n",
    "x_train_bn2 = np.squeeze(x_train_bn2)\n",
    "x_test_bn2 = np.squeeze(x_test_bn2)\n",
    "x_valid_bn2 = np.squeeze(x_valid_bn2)\n",
    "\n",
    "np.save('x_train_bn2.npy', x_train_bn2)\n",
    "np.save('x_test_bn2.npy', x_test_bn2)\n",
    "np.save('x_valid_bn2.npy', x_valid_bn2)"
   ]
  },
  {
   "cell_type": "code",
   "execution_count": null,
   "metadata": {
    "collapsed": true
   },
   "outputs": [],
   "source": [
    "# Load bottleneck features\n",
    "x_train_bn2 = np.load('x_train_bn2.npy')\n",
    "x_test_bn2 = np.load('x_test_bn2.npy')\n",
    "x_valid_bn2 = np.load('x_valid_bn2.npy')"
   ]
  },
  {
   "cell_type": "code",
   "execution_count": null,
   "metadata": {
    "collapsed": true
   },
   "outputs": [],
   "source": [
    "hide_code\n",
    "def iv3_gray_model():\n",
    "    model = Sequential()\n",
    "    # TODO: Define a model architecture\n",
    "    model.add(Conv2D(filters=32, kernel_size=2, input_shape=x_train_bn2.shape[1:]))\n",
    "    model.add(MaxPooling2D(pool_size=(2, 2)))\n",
    "    model.add(Dropout(0.25))\n",
    "    \n",
    "    model.add(GlobalAveragePooling2D())\n",
    "    model.add(Dropout(0.25))\n",
    "    \n",
    "    model.add(Dense(1024, activation='relu'))\n",
    "    model.add(Dropout(0.25))\n",
    "        \n",
    "    model.add(Dense(256, activation='relu'))\n",
    "    model.add(Dropout(0.25))\n",
    "    \n",
    "    model.add(Dense(33, activation='softmax'))\n",
    "    # TODO: Compile the model     \n",
    "    model.compile(loss='categorical_crossentropy', optimizer='rmsprop', metrics=['accuracy'])\n",
    "    return model\n",
    "\n",
    "iv3_gray_model = iv3_gray_model()"
   ]
  },
  {
   "cell_type": "code",
   "execution_count": null,
   "metadata": {
    "collapsed": true
   },
   "outputs": [],
   "source": [
    "hide_code\n",
    "# Fit the model \n",
    "iv3_gray_checkpointer = ModelCheckpoint(filepath='weights.best.iv3_gray.hdf5', \n",
    "                                        verbose=2, save_best_only=True)\n",
    "iv3_gray_history = iv3_gray_model.fit(x_train_bn2, y_train2, \n",
    "                                      validation_data=(x_valid_bn2, y_valid2),\n",
    "                                      epochs=50, batch_size=64, \n",
    "                                      callbacks=[iv3_gray_checkpointer], verbose=0);"
   ]
  },
  {
   "cell_type": "code",
   "execution_count": null,
   "metadata": {
    "collapsed": true
   },
   "outputs": [],
   "source": [
    "hide_code\n",
    "# Plot the training history\n",
    "history_plot(iv3_gray_history, 0)"
   ]
  },
  {
   "cell_type": "code",
   "execution_count": null,
   "metadata": {
    "collapsed": true
   },
   "outputs": [],
   "source": [
    "hide_code\n",
    "# Load the model with the best validation accuracy\n",
    "iv3_gray_model.load_weights('weights.best.iv3_gray.hdf5')\n",
    "# Calculate classification accuracy on the testing set\n",
    "iv3_gray_scores = iv3_gray_model.evaluate(x_test_bn2, y_test2)\n",
    "print(\"Accuracy: %.2f%%\" % (iv3_gray_scores[1]*100))\n",
    "iv3_gray_scores"
   ]
  },
  {
   "cell_type": "markdown",
   "metadata": {},
   "source": [
    "## Step 7. Predictions\n",
    "Display predictions for the models with the best accuracy.\n",
    "### Color Images"
   ]
  },
  {
   "cell_type": "code",
   "execution_count": 51,
   "metadata": {
    "collapsed": true
   },
   "outputs": [],
   "source": [
    "hide_code\n",
    "# Create a list of symbols\n",
    "symbols = ['а','б','в','г','д','е','ё','ж','з','и','й',\n",
    "           'к','л','м','н','о','п','р','с','т','у','ф',\n",
    "           'х','ц','ч','ш','щ','ъ','ы','ь','э','ю','я']"
   ]
  },
  {
   "cell_type": "code",
   "execution_count": null,
   "metadata": {
    "collapsed": true
   },
   "outputs": [],
   "source": [
    "hide_code\n",
    "# Model predictions for the testing dataset\n",
    "y_test_predict = iv3_model.predict_classes(x_test_bn)"
   ]
  },
  {
   "cell_type": "code",
   "execution_count": null,
   "metadata": {
    "collapsed": true
   },
   "outputs": [],
   "source": [
    "hide_code\n",
    "# Display true labels and predictions\n",
    "fig = plt.figure(figsize=(18, 18))\n",
    "for i, idx in enumerate(np.random.choice(x_test.shape[0], size=16, replace=False)):\n",
    "    ax = fig.add_subplot(4, 4, i + 1, xticks=[], yticks=[])\n",
    "    ax.imshow(np.squeeze(x_test[idx]))\n",
    "    pred_idx = y_test_predict[idx]\n",
    "    true_idx = np.argmax(y_test[idx])\n",
    "    ax.set_title(\"{} ({})\".format(symbols[pred_idx], symbols[true_idx]),\n",
    "                 color=(\"#4876ff\" if pred_idx == true_idx else \"darkred\"))"
   ]
  },
  {
   "cell_type": "markdown",
   "metadata": {},
   "source": [
    "### Grayscaled Images"
   ]
  },
  {
   "cell_type": "code",
   "execution_count": 49,
   "metadata": {},
   "outputs": [
    {
     "name": "stdout",
     "output_type": "stream",
     "text": [
      "1248/1254 [============================>.] - ETA: 0s"
     ]
    }
   ],
   "source": [
    "hide_code\n",
    "# Model predictions for the testing dataset\n",
    "y_test2_predict = gray_model.predict_classes(x_test2)"
   ]
  },
  {
   "cell_type": "code",
   "execution_count": 52,
   "metadata": {},
   "outputs": [
    {
     "data": {
      "image/png": "[encoded data removed]",
      "text/plain": [
       "<matplotlib.figure.Figure at 0x195bd7a58>"
      ]
     },
     "metadata": {},
     "output_type": "display_data"
    }
   ],
   "source": [
    "hide_code\n",
    "# Display true labels and predictions\n",
    "fig = plt.figure(figsize=(18, 18))\n",
    "for i, idx in enumerate(np.random.choice(x_test2.shape[0], size=16, replace=False)):\n",
    "    ax = fig.add_subplot(4, 4, i + 1, xticks=[], yticks=[])\n",
    "    ax.imshow(np.squeeze(x_test2[idx]), cmap=cm.bone)\n",
    "    pred_idx = y_test2_predict[idx]\n",
    "    true_idx = np.argmax(y_test2[idx])\n",
    "    ax.set_title(\"{} ({})\".format(symbols[pred_idx], symbols[true_idx]),\n",
    "                 color=(\"#4876ff\" if pred_idx == true_idx else \"darkred\"))"
   ]
  }
 ],
 "metadata": {
  "kernelspec": {
   "display_name": "Python 3",
   "language": "python",
   "name": "python3"
  },
  "language_info": {
   "codemirror_mode": {
    "name": "ipython",
    "version": 3
   },
   "file_extension": ".py",
   "mimetype": "text/x-python",
   "name": "python",
   "nbconvert_exporter": "python",
   "pygments_lexer": "ipython3",
   "version": "3.6.1"
  }
 },
 "nbformat": 4,
 "nbformat_minor": 2
}
