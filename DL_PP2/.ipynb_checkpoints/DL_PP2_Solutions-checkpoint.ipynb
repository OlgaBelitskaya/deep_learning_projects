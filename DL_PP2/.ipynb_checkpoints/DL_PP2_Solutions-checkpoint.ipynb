{
 "cells": [
  {
   "cell_type": "markdown",
   "metadata": {},
   "source": [
    "# Deep Learning\n",
    "## Practice Projects\n",
    "# P2: Multi-Label Classification\n",
    "\n",
    "## Step 0. Style and Libraries"
   ]
  },
  {
   "cell_type": "code",
   "execution_count": 1,
   "metadata": {},
   "outputs": [
    {
     "data": {
      "text/html": [
       "<style>\n",
       "@import url('https://fonts.googleapis.com/css?family=Orbitron|Roboto');\n",
       "body {background-color: aliceblue;} \n",
       "a {color: #4876ff; font-family: 'Roboto';} \n",
       "h1 {color: #348ABD; font-family: 'Orbitron'; text-shadow: 4px 4px 4px #ccc;} \n",
       "h2, h3 {color: slategray; font-family: 'Roboto'; text-shadow: 4px 4px 4px #ccc;}\n",
       "h4 {color: #348ABD; font-family: 'Orbitron';}\n",
       "span {text-shadow: 4px 4px 4px #ccc;}\n",
       "div.output_prompt, div.output_area pre {color: slategray;}\n",
       "div.input_prompt, div.output_subarea {color: #4876ff;}      \n",
       "div.output_stderr pre {background-color: aliceblue;}  \n",
       "div.output_stderr {background-color: slategrey;}                        \n",
       "</style>\n",
       "<script>\n",
       "code_show = true; \n",
       "function code_display() {\n",
       "    if (code_show) {\n",
       "        $('div.input').each(function(id) {\n",
       "            if (id == 0 || $(this).html().indexOf('hide_code') > -1) {$(this).hide();}\n",
       "        });\n",
       "        $('div.output_prompt').css('opacity', 0);\n",
       "    } else {\n",
       "        $('div.input').each(function(id) {$(this).show();});\n",
       "        $('div.output_prompt').css('opacity', 1);\n",
       "    };\n",
       "    code_show = !code_show;\n",
       "} \n",
       "$(document).ready(code_display);\n",
       "</script>\n",
       "<form action=\"javascript: code_display()\">\n",
       "<input style=\"color: #348ABD; background: aliceblue; opacity: 0.8;\" \\ \n",
       "type=\"submit\" value=\"Click to display or hide code cells\">\n",
       "</form>                  "
      ],
      "text/plain": [
       "<IPython.core.display.HTML object>"
      ]
     },
     "metadata": {},
     "output_type": "display_data"
    }
   ],
   "source": [
    "%%html\n",
    "<style>\n",
    "@import url('https://fonts.googleapis.com/css?family=Orbitron|Roboto');\n",
    "body {background-color: aliceblue;} \n",
    "a {color: #4876ff; font-family: 'Roboto';} \n",
    "h1 {color: #348ABD; font-family: 'Orbitron'; text-shadow: 4px 4px 4px #ccc;} \n",
    "h2, h3 {color: slategray; font-family: 'Roboto'; text-shadow: 4px 4px 4px #ccc;}\n",
    "h4 {color: #348ABD; font-family: 'Orbitron';}\n",
    "span {text-shadow: 4px 4px 4px #ccc;}\n",
    "div.output_prompt, div.output_area pre {color: slategray;}\n",
    "div.input_prompt, div.output_subarea {color: #4876ff;}      \n",
    "div.output_stderr pre {background-color: aliceblue;}  \n",
    "div.output_stderr {background-color: slategrey;}                        \n",
    "</style>\n",
    "<script>\n",
    "code_show = true; \n",
    "function code_display() {\n",
    "    if (code_show) {\n",
    "        $('div.input').each(function(id) {\n",
    "            if (id == 0 || $(this).html().indexOf('hide_code') > -1) {$(this).hide();}\n",
    "        });\n",
    "        $('div.output_prompt').css('opacity', 0);\n",
    "    } else {\n",
    "        $('div.input').each(function(id) {$(this).show();});\n",
    "        $('div.output_prompt').css('opacity', 1);\n",
    "    };\n",
    "    code_show = !code_show;\n",
    "} \n",
    "$(document).ready(code_display);\n",
    "</script>\n",
    "<form action=\"javascript: code_display()\">\n",
    "<input style=\"color: #348ABD; background: aliceblue; opacity: 0.8;\" \\ \n",
    "type=\"submit\" value=\"Click to display or hide code cells\">\n",
    "</form>                  "
   ]
  },
  {
   "cell_type": "code",
   "execution_count": 2,
   "metadata": {},
   "outputs": [
    {
     "name": "stderr",
     "output_type": "stream",
     "text": [
      "Using TensorFlow backend.\n"
     ]
    }
   ],
   "source": [
    "hide_code = ''\n",
    "import numpy as np \n",
    "import pandas as pd\n",
    "\n",
    "from PIL import ImageFile\n",
    "from tqdm import tqdm\n",
    "import h5py\n",
    "import cv2\n",
    "\n",
    "import matplotlib.pylab as plt\n",
    "from matplotlib import cm\n",
    "%matplotlib inline\n",
    "\n",
    "from sklearn.model_selection import train_test_split\n",
    "from sklearn.ensemble import GradientBoostingClassifier, RandomForestClassifier\n",
    "\n",
    "from keras.utils import to_categorical\n",
    "from keras.preprocessing import image as keras_image\n",
    "from keras.callbacks import ModelCheckpoint\n",
    "from keras.preprocessing.image import ImageDataGenerator\n",
    "\n",
    "from keras.models import Sequential, load_model, Model\n",
    "from keras.layers import Input, BatchNormalization\n",
    "from keras.layers import Dense, LSTM, GlobalAveragePooling1D, GlobalAveragePooling2D\n",
    "from keras.layers import Activation, Flatten, Dropout, BatchNormalization\n",
    "from keras.layers import Conv2D, MaxPooling2D, GlobalMaxPooling2D\n",
    "\n",
    "from keras.applications.inception_v3 import InceptionV3, preprocess_input\n",
    "import scipy\n",
    "from scipy import misc"
   ]
  },
  {
   "cell_type": "code",
   "execution_count": 3,
   "metadata": {
    "collapsed": true
   },
   "outputs": [],
   "source": [
    "hide_code\n",
    "# Plot the Neural network fitting history\n",
    "def history_plot(fit_history, n):\n",
    "    plt.figure(figsize=(18, 12))\n",
    "    \n",
    "    plt.subplot(211)\n",
    "    plt.plot(fit_history.history['loss'][n:], color='slategray', label = 'train')\n",
    "    plt.plot(fit_history.history['val_loss'][n:], color='#4876ff', label = 'valid')\n",
    "    plt.xlabel(\"Epochs\")\n",
    "    plt.ylabel(\"Loss\")\n",
    "    plt.legend()\n",
    "    plt.title('Loss Function');  \n",
    "    \n",
    "    plt.subplot(212)\n",
    "    plt.plot(fit_history.history['acc'][n:], color='slategray', label = 'train')\n",
    "    plt.plot(fit_history.history['val_acc'][n:], color='#4876ff', label = 'valid')\n",
    "    plt.xlabel(\"Epochs\")\n",
    "    plt.ylabel(\"Accuracy\")    \n",
    "    plt.legend()\n",
    "    plt.title('Accuracy');"
   ]
  },
  {
   "cell_type": "markdown",
   "metadata": {},
   "source": [
    "## Step 1. Load and Explore the Data\n",
    "Run the following cell to download the dataset."
   ]
  },
  {
   "cell_type": "code",
   "execution_count": 4,
   "metadata": {},
   "outputs": [
    {
     "name": "stderr",
     "output_type": "stream",
     "text": [
      "100%|██████████| 1650/1650 [00:46<00:00, 35.52it/s]\n"
     ]
    }
   ],
   "source": [
    "hide_code\n",
    "# Function for processing an image\n",
    "def image_to_tensor(img_path):\n",
    "    img = keras_image.load_img(\"data/\" + img_path, target_size=(32, 32))\n",
    "    x = keras_image.img_to_array(img)\n",
    "    return np.expand_dims(x, axis=0)\n",
    "# Function for creating the data tensor\n",
    "def data_to_tensor(img_paths):\n",
    "    list_of_tensors = [image_to_tensor(img_path) for img_path in tqdm(img_paths)]\n",
    "    return np.vstack(list_of_tensors)\n",
    "\n",
    "ImageFile.LOAD_TRUNCATED_IMAGES = True \n",
    "# Load the data\n",
    "data = pd.read_csv(\"data/letters.csv\")\n",
    "files = data['file']\n",
    "letters = data['letter']\n",
    "backgrounds = data['background']\n",
    "targets = data['label'].as_matrix()\n",
    "tensors = data_to_tensor(files);"
   ]
  },
  {
   "cell_type": "code",
   "execution_count": 5,
   "metadata": {},
   "outputs": [
    {
     "name": "stdout",
     "output_type": "stream",
     "text": [
      "Tensor shape: (1650, 32, 32, 3)\n",
      "Target shape (1650,)\n"
     ]
    }
   ],
   "source": [
    "hide_code\n",
    "# Print the shape \n",
    "print ('Tensor shape:', tensors.shape)\n",
    "print ('Target shape', targets.shape)"
   ]
  },
  {
   "cell_type": "code",
   "execution_count": 6,
   "metadata": {},
   "outputs": [
    {
     "data": {
      "image/png": "[encoded data removed]",
      "text/plain": [
       "<matplotlib.figure.Figure at 0x10497dcc0>"
      ]
     },
     "metadata": {},
     "output_type": "display_data"
    }
   ],
   "source": [
    "hide_code\n",
    "# Read from files and display images using OpenCV\n",
    "def display_images(img_path, ax):\n",
    "    img = cv2.imread(\"data/\" + img_path)\n",
    "    ax.imshow(cv2.cvtColor(img, cv2.COLOR_BGR2RGB))\n",
    "    \n",
    "fig = plt.figure(figsize=(18, 6))\n",
    "for i in range(12):\n",
    "    ax = fig.add_subplot(2, 6, i + 1, xticks=[], yticks=[], title=letters[i*22])\n",
    "    display_images(files[i*50], ax)"
   ]
  },
  {
   "cell_type": "markdown",
   "metadata": {},
   "source": [
    "## Step 2. Save and Load the Data¶\n",
    "The data tensors can be saved in the appropriate format of files .h5."
   ]
  },
  {
   "cell_type": "code",
   "execution_count": 7,
   "metadata": {
    "collapsed": true
   },
   "outputs": [],
   "source": [
    "hide_code\n",
    "# Create the tensor file\n",
    "with h5py.File('LetterColorImages.h5', 'w') as f:\n",
    "    f.create_dataset('images', data = tensors)\n",
    "    f.create_dataset('labels', data = targets)\n",
    "    f.create_dataset('backgrounds', data = backgrounds)\n",
    "    f.close()"
   ]
  },
  {
   "cell_type": "code",
   "execution_count": 8,
   "metadata": {},
   "outputs": [
    {
     "data": {
      "text/plain": [
       "['backgrounds', 'images', 'labels']"
      ]
     },
     "execution_count": 8,
     "metadata": {},
     "output_type": "execute_result"
    }
   ],
   "source": [
    "hide_code\n",
    "# Read the h5 file\n",
    "f = h5py.File('LetterColorImages.h5', 'r')\n",
    "\n",
    "# List all groups\n",
    "keys = list(f.keys())\n",
    "keys"
   ]
  },
  {
   "cell_type": "code",
   "execution_count": 9,
   "metadata": {},
   "outputs": [
    {
     "name": "stdout",
     "output_type": "stream",
     "text": [
      "Tensor shape: (1650, 32, 32, 3)\n",
      "Target shape (1650,)\n"
     ]
    }
   ],
   "source": [
    "hide_code\n",
    "# Create tensors and targets\n",
    "tensors = np.array(f[keys[1]])\n",
    "targets = np.array(f[keys[2]])\n",
    "print ('Tensor shape:', tensors.shape)\n",
    "print ('Target shape', targets.shape)"
   ]
  },
  {
   "cell_type": "markdown",
   "metadata": {},
   "source": [
    "## Step 3. Implement Preprocess Functions\n",
    "### Normalize and Gray Scale\n",
    "In the cell below, normalize the image tensors, and return them as a normalized Numpy array."
   ]
  },
  {
   "cell_type": "code",
   "execution_count": 10,
   "metadata": {
    "collapsed": true
   },
   "outputs": [],
   "source": [
    "hide_code\n",
    "# Normalize the tensors\n",
    "tensors = tensors.astype('float32')/255"
   ]
  },
  {
   "cell_type": "code",
   "execution_count": 11,
   "metadata": {},
   "outputs": [
    {
     "name": "stdout",
     "output_type": "stream",
     "text": [
      "Label:  в\n"
     ]
    },
    {
     "data": {
      "image/png": "[encoded data removed]",
      "text/plain": [
       "<matplotlib.figure.Figure at 0x10d437b00>"
      ]
     },
     "metadata": {},
     "output_type": "display_data"
    }
   ],
   "source": [
    "hide_code\n",
    "# Read and display a tensor using Matplotlib\n",
    "print('Label: ', letters[100])\n",
    "plt.figure(figsize=(3,3))\n",
    "plt.imshow(tensors[100]);"
   ]
  },
  {
   "cell_type": "markdown",
   "metadata": {},
   "source": [
    "Create tensors of grayscaled images and display their shape."
   ]
  },
  {
   "cell_type": "code",
   "execution_count": 12,
   "metadata": {},
   "outputs": [
    {
     "name": "stdout",
     "output_type": "stream",
     "text": [
      "Grayscaled Tensor shape: (1650, 32, 32)\n"
     ]
    }
   ],
   "source": [
    "hide_code\n",
    "# Grayscaled tensors\n",
    "gray_tensors = np.dot(tensors[...,:3], [0.299, 0.587, 0.114])\n",
    "print ('Grayscaled Tensor shape:', gray_tensors.shape)"
   ]
  },
  {
   "cell_type": "code",
   "execution_count": 13,
   "metadata": {},
   "outputs": [
    {
     "name": "stdout",
     "output_type": "stream",
     "text": [
      "Label:  в\n"
     ]
    },
    {
     "data": {
      "image/png": "[encoded data removed]",
      "text/plain": [
       "<matplotlib.figure.Figure at 0x11bbce198>"
      ]
     },
     "metadata": {},
     "output_type": "display_data"
    }
   ],
   "source": [
    "hide_code\n",
    "# Read and display a grayscaled tensor using Matplotlib\n",
    "print('Label: ', letters[100])\n",
    "plt.figure(figsize=(3,3))\n",
    "plt.imshow(gray_tensors[100], cmap=cm.bone);"
   ]
  },
  {
   "cell_type": "markdown",
   "metadata": {},
   "source": [
    "### One-hot encode\n",
    "Now we'll implement the one-hot encoding function to_categorical."
   ]
  },
  {
   "cell_type": "code",
   "execution_count": 14,
   "metadata": {},
   "outputs": [
    {
     "name": "stdout",
     "output_type": "stream",
     "text": [
      "{1, 2, 3, 4, 5, 6, 7, 8, 9, 10, 11, 12, 13, 14, 15, 16, 17, 18, 19, 20, 21, 22, 23, 24, 25, 26, 27, 28, 29, 30, 31, 32, 33}\n"
     ]
    }
   ],
   "source": [
    "hide_code\n",
    "# Print the target unique values\n",
    "print(set(targets))"
   ]
  },
  {
   "cell_type": "code",
   "execution_count": 15,
   "metadata": {},
   "outputs": [
    {
     "data": {
      "text/plain": [
       "(1650, 33)"
      ]
     },
     "execution_count": 15,
     "metadata": {},
     "output_type": "execute_result"
    }
   ],
   "source": [
    "hide_code\n",
    "# One-hot encode the targets, started from the zero label\n",
    "cat_targets = to_categorical(np.array(targets-1), 33)\n",
    "cat_targets.shape"
   ]
  },
  {
   "cell_type": "code",
   "execution_count": 16,
   "metadata": {},
   "outputs": [
    {
     "data": {
      "text/plain": [
       "(1650, 2)"
      ]
     },
     "execution_count": 16,
     "metadata": {},
     "output_type": "execute_result"
    }
   ],
   "source": [
    "hide_code\n",
    "# One-hot encode the background targets\n",
    "backgrounds = to_categorical(backgrounds, 2)\n",
    "backgrounds.shape"
   ]
  },
  {
   "cell_type": "markdown",
   "metadata": {},
   "source": [
    "### Add background"
   ]
  },
  {
   "cell_type": "code",
   "execution_count": 17,
   "metadata": {},
   "outputs": [
    {
     "data": {
      "text/plain": [
       "(1650, 35)"
      ]
     },
     "execution_count": 17,
     "metadata": {},
     "output_type": "execute_result"
    }
   ],
   "source": [
    "hide_code\n",
    "# Create multi-label targets\n",
    "back_targets = np.concatenate((cat_targets, backgrounds), axis=1)\n",
    "back_targets.shape"
   ]
  },
  {
   "cell_type": "markdown",
   "metadata": {},
   "source": [
    "### Split\n",
    "#### Color Images\n",
    "Apply the function train_test_split and split the data into training and testing sets. Set up the size of the testing set - 20%."
   ]
  },
  {
   "cell_type": "code",
   "execution_count": 18,
   "metadata": {
    "collapsed": true
   },
   "outputs": [],
   "source": [
    "hide_code\n",
    "# Split the data\n",
    "x_train, x_test, y_train, y_test = train_test_split(tensors, cat_targets, \n",
    "                                                    test_size = 0.2, \n",
    "                                                    random_state = 1)"
   ]
  },
  {
   "cell_type": "code",
   "execution_count": 19,
   "metadata": {},
   "outputs": [
    {
     "name": "stdout",
     "output_type": "stream",
     "text": [
      "Training tensor's shape: (1320, 32, 32, 3)\n",
      "Training target's shape (1320, 33)\n",
      "Testing tensor's shape: (330, 32, 32, 3)\n",
      "Testing target's shape (330, 33)\n"
     ]
    }
   ],
   "source": [
    "hide_code\n",
    "# Print the shape\n",
    "print (\"Training tensor's shape:\", x_train.shape)\n",
    "print (\"Training target's shape\", y_train.shape)\n",
    "print (\"Testing tensor's shape:\", x_test.shape)\n",
    "print (\"Testing target's shape\", y_test.shape)"
   ]
  },
  {
   "cell_type": "markdown",
   "metadata": {},
   "source": [
    "#### Grayscaled Images"
   ]
  },
  {
   "cell_type": "code",
   "execution_count": 20,
   "metadata": {
    "collapsed": true
   },
   "outputs": [],
   "source": [
    "hide_code\n",
    "# Split the grayscaled data\n",
    "x_train2, x_test2, y_train2, y_test2 = train_test_split(gray_tensors, cat_targets, \n",
    "                                                        test_size = 0.2, \n",
    "                                                        random_state = 1)"
   ]
  },
  {
   "cell_type": "code",
   "execution_count": 21,
   "metadata": {
    "collapsed": true
   },
   "outputs": [],
   "source": [
    "hide_code\n",
    "# Reshape the grayscaled data\n",
    "x_train2, x_test2 = x_train2.reshape(-1, 32, 32, 1), x_test2.reshape(-1, 32, 32, 1)"
   ]
  },
  {
   "cell_type": "code",
   "execution_count": 22,
   "metadata": {},
   "outputs": [
    {
     "name": "stdout",
     "output_type": "stream",
     "text": [
      "Training grayscaled tensor's shape: (1320, 32, 32, 1)\n",
      "Training grayscaled target's shape (1320, 33)\n",
      "Testing grayscaled tensor's shape: (330, 32, 32, 1)\n",
      "Testing grayscaled target's shape (330, 33)\n"
     ]
    }
   ],
   "source": [
    "hide_code\n",
    "# Print the shape\n",
    "print (\"Training grayscaled tensor's shape:\", x_train2.shape)\n",
    "print (\"Training grayscaled target's shape\", y_train2.shape)\n",
    "print (\"Testing grayscaled tensor's shape:\", x_test2.shape)\n",
    "print (\"Testing grayscaled target's shape\", y_test2.shape)"
   ]
  },
  {
   "cell_type": "markdown",
   "metadata": {},
   "source": [
    "#### Multi-label targets, color images"
   ]
  },
  {
   "cell_type": "code",
   "execution_count": 23,
   "metadata": {
    "collapsed": true
   },
   "outputs": [],
   "source": [
    "hide_code\n",
    "# Split with multi-label targets\n",
    "x_train3, x_test3, y_train3, y_test3 = train_test_split(tensors, back_targets, \n",
    "                                                        test_size = 0.2, \n",
    "                                                        random_state = 1)"
   ]
  },
  {
   "cell_type": "code",
   "execution_count": 24,
   "metadata": {},
   "outputs": [
    {
     "name": "stdout",
     "output_type": "stream",
     "text": [
      "Training tensor's shape: (1320, 32, 32, 3)\n",
      "Training target's shape (1320, 35)\n",
      "Testing tensor's shape: (330, 32, 32, 3)\n",
      "Testing target's shape (330, 35)\n"
     ]
    }
   ],
   "source": [
    "hide_code\n",
    "# Print the shape\n",
    "print (\"Training tensor's shape:\", x_train3.shape)\n",
    "print (\"Training target's shape\", y_train3.shape)\n",
    "print (\"Testing tensor's shape:\", x_test3.shape)\n",
    "print (\"Testing target's shape\", y_test3.shape)"
   ]
  },
  {
   "cell_type": "code",
   "execution_count": 25,
   "metadata": {
    "collapsed": true
   },
   "outputs": [],
   "source": [
    "hide_code\n",
    "# Create a list of targets\n",
    "y_train3_list = [y_train3[:, :33], y_train3[:, 33:]]\n",
    "y_test3_list = [y_test3[:, :33], y_test3[:, 33:]]"
   ]
  },
  {
   "cell_type": "markdown",
   "metadata": {},
   "source": [
    "#### Multi-label targets, grayscaled images"
   ]
  },
  {
   "cell_type": "code",
   "execution_count": 26,
   "metadata": {
    "collapsed": true
   },
   "outputs": [],
   "source": [
    "hide_code\n",
    "# Split the grayscaled data\n",
    "x_train4, x_test4, y_train4, y_test4 = train_test_split(gray_tensors, back_targets, \n",
    "                                                        test_size = 0.2, \n",
    "                                                        random_state = 1)"
   ]
  },
  {
   "cell_type": "code",
   "execution_count": 27,
   "metadata": {
    "collapsed": true
   },
   "outputs": [],
   "source": [
    "hide_code\n",
    "# Reshape the grayscaled data\n",
    "x_train4, x_test4 = x_train4.reshape(-1, 32, 32, 1), x_test4.reshape(-1, 32, 32, 1)"
   ]
  },
  {
   "cell_type": "code",
   "execution_count": 28,
   "metadata": {},
   "outputs": [
    {
     "name": "stdout",
     "output_type": "stream",
     "text": [
      "Training grayscaled tensor's shape: (1320, 32, 32, 1)\n",
      "Training grayscaled target's shape (1320, 35)\n",
      "Testing grayscaled tensor's shape: (330, 32, 32, 1)\n",
      "Testing grayscaled target's shape (330, 35)\n"
     ]
    }
   ],
   "source": [
    "hide_code\n",
    "# Print the shape\n",
    "print (\"Training grayscaled tensor's shape:\", x_train4.shape)\n",
    "print (\"Training grayscaled target's shape\", y_train4.shape)\n",
    "print (\"Testing grayscaled tensor's shape:\", x_test4.shape)\n",
    "print (\"Testing grayscaled target's shape\", y_test4.shape)"
   ]
  },
  {
   "cell_type": "code",
   "execution_count": 29,
   "metadata": {
    "collapsed": true
   },
   "outputs": [],
   "source": [
    "hide_code\n",
    "# Create a list of targets\n",
    "y_train4_list = [y_train4[:, :33], y_train4[:, 33:]]\n",
    "y_test4_list = [y_test4[:, :33], y_test4[:, 33:]]"
   ]
  },
  {
   "cell_type": "markdown",
   "metadata": {},
   "source": [
    "## Step 4. Create a One-Label Classification Model\n",
    "### Color Images\n",
    "Define a model architecture and compile the model for color images."
   ]
  },
  {
   "cell_type": "code",
   "execution_count": 30,
   "metadata": {
    "collapsed": true
   },
   "outputs": [],
   "source": [
    "hide_code\n",
    "def model():\n",
    "    model = Sequential()\n",
    "    # TODO: Define a model architecture\n",
    "\n",
    "    model.add(Conv2D(32, (5, 5), padding='same', input_shape=x_train.shape[1:]))\n",
    "    model.add(Activation('relu'))    \n",
    "    model.add(MaxPooling2D(pool_size=(2, 2)))\n",
    "    model.add(Dropout(0.25))\n",
    "\n",
    "    model.add(Conv2D(128, (5, 5)))\n",
    "    model.add(Activation('relu'))    \n",
    "    model.add(MaxPooling2D(pool_size=(2, 2)))\n",
    "    model.add(Dropout(0.25))\n",
    "    \n",
    "    model.add(GlobalMaxPooling2D()) \n",
    "    \n",
    "    model.add(Dense(1024, activation='relu'))\n",
    "    model.add(Dropout(0.25)) \n",
    "    \n",
    "    model.add(Dense(128, activation='relu'))\n",
    "    model.add(Dropout(0.25))    \n",
    "\n",
    "    model.add(Dense(33))\n",
    "    model.add(Activation('softmax'))\n",
    "    \n",
    "    # TODO: Compile the model\n",
    "    model.compile(loss='categorical_crossentropy', optimizer='nadam', metrics=['accuracy'])\n",
    "    \n",
    "    return model\n",
    "\n",
    "model = model()"
   ]
  },
  {
   "cell_type": "code",
   "execution_count": 31,
   "metadata": {},
   "outputs": [
    {
     "name": "stdout",
     "output_type": "stream",
     "text": [
      "Train on 1320 samples, validate on 330 samples\n",
      "Epoch 1/100\n",
      "Epoch 00000: val_loss improved from inf to 3.49799, saving model to weights.best.model.hdf5\n",
      "18s - loss: 3.5029 - acc: 0.0341 - val_loss: 3.4980 - val_acc: 0.0182\n",
      "Epoch 2/100\n",
      "Epoch 00001: val_loss did not improve\n",
      "7s - loss: 3.4956 - acc: 0.0326 - val_loss: 3.4993 - val_acc: 0.0212\n",
      "Epoch 3/100\n",
      "Epoch 00002: val_loss improved from 3.49799 to 3.48532, saving model to weights.best.model.hdf5\n",
      "8s - loss: 3.4916 - acc: 0.0379 - val_loss: 3.4853 - val_acc: 0.0394\n",
      "Epoch 4/100\n",
      "Epoch 00003: val_loss did not improve\n",
      "7s - loss: 3.4790 - acc: 0.0409 - val_loss: 3.4867 - val_acc: 0.0455\n",
      "Epoch 5/100\n",
      "Epoch 00004: val_loss improved from 3.48532 to 3.45801, saving model to weights.best.model.hdf5\n",
      "8s - loss: 3.4645 - acc: 0.0424 - val_loss: 3.4580 - val_acc: 0.0424\n",
      "Epoch 6/100\n",
      "Epoch 00005: val_loss did not improve\n",
      "7s - loss: 3.4539 - acc: 0.0439 - val_loss: 3.4637 - val_acc: 0.0455\n",
      "Epoch 7/100\n",
      "Epoch 00006: val_loss improved from 3.45801 to 3.45095, saving model to weights.best.model.hdf5\n",
      "7s - loss: 3.4475 - acc: 0.0417 - val_loss: 3.4509 - val_acc: 0.0394\n",
      "Epoch 8/100\n",
      "Epoch 00007: val_loss did not improve\n",
      "7s - loss: 3.4371 - acc: 0.0424 - val_loss: 3.4535 - val_acc: 0.0394\n",
      "Epoch 9/100\n",
      "Epoch 00008: val_loss improved from 3.45095 to 3.44188, saving model to weights.best.model.hdf5\n",
      "7s - loss: 3.4331 - acc: 0.0477 - val_loss: 3.4419 - val_acc: 0.0364\n",
      "Epoch 10/100\n",
      "Epoch 00009: val_loss improved from 3.44188 to 3.44058, saving model to weights.best.model.hdf5\n",
      "7s - loss: 3.4338 - acc: 0.0439 - val_loss: 3.4406 - val_acc: 0.0424\n",
      "Epoch 11/100\n",
      "Epoch 00010: val_loss did not improve\n",
      "7s - loss: 3.4309 - acc: 0.0530 - val_loss: 3.4436 - val_acc: 0.0333\n",
      "Epoch 12/100\n",
      "Epoch 00011: val_loss did not improve\n",
      "7s - loss: 3.4282 - acc: 0.0424 - val_loss: 3.4474 - val_acc: 0.0515\n",
      "Epoch 13/100\n",
      "Epoch 00012: val_loss improved from 3.44058 to 3.43975, saving model to weights.best.model.hdf5\n",
      "7s - loss: 3.4371 - acc: 0.0485 - val_loss: 3.4398 - val_acc: 0.0364\n",
      "Epoch 14/100\n",
      "Epoch 00013: val_loss did not improve\n",
      "7s - loss: 3.4188 - acc: 0.0515 - val_loss: 3.4438 - val_acc: 0.0424\n",
      "Epoch 15/100\n",
      "Epoch 00014: val_loss did not improve\n",
      "7s - loss: 3.4130 - acc: 0.0659 - val_loss: 3.4533 - val_acc: 0.0424\n",
      "Epoch 16/100\n",
      "Epoch 00015: val_loss did not improve\n",
      "8s - loss: 3.4114 - acc: 0.0568 - val_loss: 3.4480 - val_acc: 0.0424\n",
      "Epoch 17/100\n",
      "Epoch 00016: val_loss did not improve\n",
      "8s - loss: 3.4093 - acc: 0.0598 - val_loss: 3.4623 - val_acc: 0.0424\n",
      "Epoch 18/100\n",
      "Epoch 00017: val_loss improved from 3.43975 to 3.42456, saving model to weights.best.model.hdf5\n",
      "7s - loss: 3.3988 - acc: 0.0591 - val_loss: 3.4246 - val_acc: 0.0545\n",
      "Epoch 19/100\n",
      "Epoch 00018: val_loss improved from 3.42456 to 3.40630, saving model to weights.best.model.hdf5\n",
      "7s - loss: 3.3897 - acc: 0.0644 - val_loss: 3.4063 - val_acc: 0.0606\n",
      "Epoch 20/100\n",
      "Epoch 00019: val_loss improved from 3.40630 to 3.39592, saving model to weights.best.model.hdf5\n",
      "7s - loss: 3.3857 - acc: 0.0583 - val_loss: 3.3959 - val_acc: 0.0606\n",
      "Epoch 21/100\n",
      "Epoch 00020: val_loss did not improve\n",
      "7s - loss: 3.3674 - acc: 0.0644 - val_loss: 3.4657 - val_acc: 0.0455\n",
      "Epoch 22/100\n",
      "Epoch 00021: val_loss did not improve\n",
      "7s - loss: 3.3597 - acc: 0.0712 - val_loss: 3.5225 - val_acc: 0.0424\n",
      "Epoch 23/100\n",
      "Epoch 00022: val_loss did not improve\n",
      "7s - loss: 3.3596 - acc: 0.0727 - val_loss: 3.4819 - val_acc: 0.0455\n",
      "Epoch 24/100\n",
      "Epoch 00023: val_loss did not improve\n",
      "7s - loss: 3.3606 - acc: 0.0742 - val_loss: 3.4544 - val_acc: 0.0424\n",
      "Epoch 25/100\n",
      "Epoch 00024: val_loss did not improve\n",
      "7s - loss: 3.3584 - acc: 0.0674 - val_loss: 3.5080 - val_acc: 0.0485\n",
      "Epoch 26/100\n",
      "Epoch 00025: val_loss did not improve\n",
      "8s - loss: 3.3545 - acc: 0.0758 - val_loss: 3.5017 - val_acc: 0.0485\n",
      "Epoch 27/100\n",
      "Epoch 00026: val_loss did not improve\n",
      "8s - loss: 3.3448 - acc: 0.0614 - val_loss: 3.4681 - val_acc: 0.0455\n",
      "Epoch 28/100\n",
      "Epoch 00027: val_loss did not improve\n",
      "7s - loss: 3.3401 - acc: 0.0667 - val_loss: 3.4937 - val_acc: 0.0455\n",
      "Epoch 29/100\n",
      "Epoch 00028: val_loss did not improve\n",
      "8s - loss: 3.3461 - acc: 0.0689 - val_loss: 3.4522 - val_acc: 0.0455\n",
      "Epoch 30/100\n",
      "Epoch 00029: val_loss improved from 3.39592 to 3.39271, saving model to weights.best.model.hdf5\n",
      "7s - loss: 3.3404 - acc: 0.0712 - val_loss: 3.3927 - val_acc: 0.0636\n",
      "Epoch 31/100\n",
      "Epoch 00030: val_loss did not improve\n",
      "7s - loss: 3.3431 - acc: 0.0629 - val_loss: 3.4158 - val_acc: 0.0545\n",
      "Epoch 32/100\n",
      "Epoch 00031: val_loss did not improve\n",
      "8s - loss: 3.3342 - acc: 0.0780 - val_loss: 3.4848 - val_acc: 0.0485\n",
      "Epoch 33/100\n",
      "Epoch 00032: val_loss did not improve\n",
      "7s - loss: 3.3435 - acc: 0.0750 - val_loss: 3.4307 - val_acc: 0.0515\n",
      "Epoch 34/100\n",
      "Epoch 00033: val_loss did not improve\n",
      "7s - loss: 3.3249 - acc: 0.0773 - val_loss: 3.4105 - val_acc: 0.0545\n",
      "Epoch 35/100\n",
      "Epoch 00034: val_loss did not improve\n",
      "7s - loss: 3.3344 - acc: 0.0629 - val_loss: 3.4786 - val_acc: 0.0485\n",
      "Epoch 36/100\n",
      "Epoch 00035: val_loss did not improve\n",
      "7s - loss: 3.3179 - acc: 0.0780 - val_loss: 3.6164 - val_acc: 0.0515\n",
      "Epoch 37/100\n",
      "Epoch 00036: val_loss did not improve\n",
      "7s - loss: 3.3215 - acc: 0.0606 - val_loss: 3.5736 - val_acc: 0.0485\n",
      "Epoch 38/100\n",
      "Epoch 00037: val_loss did not improve\n",
      "7s - loss: 3.3170 - acc: 0.0780 - val_loss: 3.4948 - val_acc: 0.0545\n",
      "Epoch 39/100\n",
      "Epoch 00038: val_loss did not improve\n",
      "7s - loss: 3.3155 - acc: 0.0644 - val_loss: 3.6334 - val_acc: 0.0424\n",
      "Epoch 40/100\n",
      "Epoch 00039: val_loss did not improve\n",
      "7s - loss: 3.3124 - acc: 0.0636 - val_loss: 3.4709 - val_acc: 0.0485\n",
      "Epoch 41/100\n",
      "Epoch 00040: val_loss did not improve\n",
      "8s - loss: 3.3052 - acc: 0.0705 - val_loss: 3.5712 - val_acc: 0.0455\n",
      "Epoch 42/100\n",
      "Epoch 00041: val_loss did not improve\n",
      "7s - loss: 3.3084 - acc: 0.0795 - val_loss: 3.4729 - val_acc: 0.0515\n",
      "Epoch 43/100\n",
      "Epoch 00042: val_loss did not improve\n",
      "7s - loss: 3.2924 - acc: 0.0705 - val_loss: 3.4969 - val_acc: 0.0485\n",
      "Epoch 44/100\n",
      "Epoch 00043: val_loss did not improve\n",
      "7s - loss: 3.3052 - acc: 0.0735 - val_loss: 3.5171 - val_acc: 0.0394\n",
      "Epoch 45/100\n",
      "Epoch 00044: val_loss did not improve\n",
      "7s - loss: 3.2741 - acc: 0.0833 - val_loss: 3.5822 - val_acc: 0.0364\n",
      "Epoch 46/100\n",
      "Epoch 00045: val_loss did not improve\n",
      "7s - loss: 3.2693 - acc: 0.0773 - val_loss: 3.4147 - val_acc: 0.0636\n",
      "Epoch 47/100\n",
      "Epoch 00046: val_loss improved from 3.39271 to 3.36732, saving model to weights.best.model.hdf5\n",
      "7s - loss: 3.2902 - acc: 0.0811 - val_loss: 3.3673 - val_acc: 0.0697\n",
      "Epoch 48/100\n",
      "Epoch 00047: val_loss did not improve\n",
      "6s - loss: 3.2445 - acc: 0.0788 - val_loss: 3.4319 - val_acc: 0.0515\n",
      "Epoch 49/100\n",
      "Epoch 00048: val_loss did not improve\n",
      "7s - loss: 3.2820 - acc: 0.0848 - val_loss: 3.4819 - val_acc: 0.0606\n",
      "Epoch 50/100\n",
      "Epoch 00049: val_loss did not improve\n",
      "7s - loss: 3.2675 - acc: 0.0818 - val_loss: 3.4648 - val_acc: 0.0606\n",
      "Epoch 51/100\n",
      "Epoch 00050: val_loss did not improve\n",
      "7s - loss: 3.2383 - acc: 0.0985 - val_loss: 3.6704 - val_acc: 0.0455\n",
      "Epoch 52/100\n",
      "Epoch 00051: val_loss did not improve\n",
      "7s - loss: 3.2640 - acc: 0.0848 - val_loss: 3.5601 - val_acc: 0.0455\n",
      "Epoch 53/100\n",
      "Epoch 00052: val_loss did not improve\n",
      "7s - loss: 3.2385 - acc: 0.0841 - val_loss: 3.4922 - val_acc: 0.0424\n",
      "Epoch 54/100\n",
      "Epoch 00053: val_loss did not improve\n",
      "7s - loss: 3.2586 - acc: 0.0811 - val_loss: 3.5889 - val_acc: 0.0394\n",
      "Epoch 55/100\n",
      "Epoch 00054: val_loss did not improve\n",
      "7s - loss: 3.2282 - acc: 0.0909 - val_loss: 3.4218 - val_acc: 0.0667\n",
      "Epoch 56/100\n",
      "Epoch 00055: val_loss improved from 3.36732 to 3.30712, saving model to weights.best.model.hdf5\n",
      "7s - loss: 3.2108 - acc: 0.0886 - val_loss: 3.3071 - val_acc: 0.0697\n",
      "Epoch 57/100\n",
      "Epoch 00056: val_loss did not improve\n",
      "7s - loss: 3.2324 - acc: 0.0735 - val_loss: 3.5087 - val_acc: 0.0636\n",
      "Epoch 58/100\n",
      "Epoch 00057: val_loss did not improve\n",
      "7s - loss: 3.2172 - acc: 0.0924 - val_loss: 3.5197 - val_acc: 0.0636\n",
      "Epoch 59/100\n",
      "Epoch 00058: val_loss did not improve\n",
      "7s - loss: 3.1910 - acc: 0.0985 - val_loss: 3.6119 - val_acc: 0.0485\n",
      "Epoch 60/100\n",
      "Epoch 00059: val_loss did not improve\n",
      "7s - loss: 3.2153 - acc: 0.0886 - val_loss: 3.5062 - val_acc: 0.0545\n",
      "Epoch 61/100\n",
      "Epoch 00060: val_loss did not improve\n",
      "7s - loss: 3.2019 - acc: 0.0962 - val_loss: 3.5912 - val_acc: 0.0545\n",
      "Epoch 62/100\n",
      "Epoch 00061: val_loss did not improve\n",
      "7s - loss: 3.1974 - acc: 0.0977 - val_loss: 3.7846 - val_acc: 0.0394\n",
      "Epoch 63/100\n"
     ]
    },
    {
     "name": "stdout",
     "output_type": "stream",
     "text": [
      "Epoch 00062: val_loss did not improve\n",
      "7s - loss: 3.1816 - acc: 0.1038 - val_loss: 3.8300 - val_acc: 0.0364\n",
      "Epoch 64/100\n",
      "Epoch 00063: val_loss did not improve\n",
      "7s - loss: 3.1889 - acc: 0.1030 - val_loss: 3.7180 - val_acc: 0.0364\n",
      "Epoch 65/100\n",
      "Epoch 00064: val_loss did not improve\n",
      "7s - loss: 3.1663 - acc: 0.0985 - val_loss: 3.6451 - val_acc: 0.0515\n",
      "Epoch 66/100\n",
      "Epoch 00065: val_loss did not improve\n",
      "7s - loss: 3.1681 - acc: 0.1015 - val_loss: 3.7259 - val_acc: 0.0455\n",
      "Epoch 67/100\n",
      "Epoch 00066: val_loss did not improve\n",
      "7s - loss: 3.1550 - acc: 0.0917 - val_loss: 3.5838 - val_acc: 0.0485\n",
      "Epoch 68/100\n",
      "Epoch 00067: val_loss did not improve\n",
      "8s - loss: 3.1720 - acc: 0.0924 - val_loss: 3.6701 - val_acc: 0.0606\n",
      "Epoch 69/100\n",
      "Epoch 00068: val_loss did not improve\n",
      "7s - loss: 3.1497 - acc: 0.1106 - val_loss: 3.7259 - val_acc: 0.0424\n",
      "Epoch 70/100\n",
      "Epoch 00069: val_loss did not improve\n",
      "7s - loss: 3.1303 - acc: 0.1061 - val_loss: 3.5562 - val_acc: 0.0606\n",
      "Epoch 71/100\n",
      "Epoch 00070: val_loss did not improve\n",
      "7s - loss: 3.1652 - acc: 0.0939 - val_loss: 3.6965 - val_acc: 0.0636\n",
      "Epoch 72/100\n",
      "Epoch 00071: val_loss did not improve\n",
      "7s - loss: 3.1796 - acc: 0.0992 - val_loss: 3.4008 - val_acc: 0.0697\n",
      "Epoch 73/100\n",
      "Epoch 00072: val_loss did not improve\n",
      "7s - loss: 3.1108 - acc: 0.1008 - val_loss: 3.5851 - val_acc: 0.0697\n",
      "Epoch 74/100\n",
      "Epoch 00073: val_loss did not improve\n",
      "7s - loss: 3.1819 - acc: 0.0977 - val_loss: 3.4035 - val_acc: 0.0727\n",
      "Epoch 75/100\n",
      "Epoch 00074: val_loss did not improve\n",
      "7s - loss: 3.1002 - acc: 0.1129 - val_loss: 3.4463 - val_acc: 0.0606\n",
      "Epoch 76/100\n",
      "Epoch 00075: val_loss did not improve\n",
      "7s - loss: 3.1058 - acc: 0.1076 - val_loss: 3.8389 - val_acc: 0.0424\n",
      "Epoch 77/100\n",
      "Epoch 00076: val_loss did not improve\n",
      "7s - loss: 3.1130 - acc: 0.1083 - val_loss: 3.4617 - val_acc: 0.0636\n",
      "Epoch 78/100\n",
      "Epoch 00077: val_loss did not improve\n",
      "7s - loss: 3.1744 - acc: 0.1008 - val_loss: 3.5053 - val_acc: 0.0545\n",
      "Epoch 79/100\n",
      "Epoch 00078: val_loss did not improve\n",
      "6s - loss: 3.0889 - acc: 0.1106 - val_loss: 3.6888 - val_acc: 0.0636\n",
      "Epoch 80/100\n",
      "Epoch 00079: val_loss did not improve\n",
      "6s - loss: 3.0760 - acc: 0.1152 - val_loss: 3.5477 - val_acc: 0.0636\n",
      "Epoch 81/100\n",
      "Epoch 00080: val_loss did not improve\n",
      "6s - loss: 3.0938 - acc: 0.1174 - val_loss: 4.0417 - val_acc: 0.0424\n",
      "Epoch 82/100\n",
      "Epoch 00081: val_loss did not improve\n",
      "7s - loss: 3.6664 - acc: 0.1129 - val_loss: 3.5180 - val_acc: 0.0636\n",
      "Epoch 83/100\n",
      "Epoch 00082: val_loss did not improve\n",
      "7s - loss: 3.0868 - acc: 0.1083 - val_loss: 3.8666 - val_acc: 0.0455\n",
      "Epoch 84/100\n",
      "Epoch 00083: val_loss did not improve\n",
      "7s - loss: 3.1162 - acc: 0.1008 - val_loss: 3.6906 - val_acc: 0.0515\n",
      "Epoch 85/100\n",
      "Epoch 00084: val_loss did not improve\n",
      "7s - loss: 3.1308 - acc: 0.0962 - val_loss: 3.6601 - val_acc: 0.0515\n",
      "Epoch 86/100\n",
      "Epoch 00085: val_loss did not improve\n",
      "8s - loss: 3.0884 - acc: 0.1038 - val_loss: 3.8417 - val_acc: 0.0515\n",
      "Epoch 87/100\n",
      "Epoch 00086: val_loss did not improve\n",
      "7s - loss: 3.0702 - acc: 0.1205 - val_loss: 3.7296 - val_acc: 0.0667\n",
      "Epoch 88/100\n",
      "Epoch 00087: val_loss did not improve\n",
      "7s - loss: 3.0796 - acc: 0.1197 - val_loss: 3.5615 - val_acc: 0.0576\n",
      "Epoch 89/100\n",
      "Epoch 00088: val_loss did not improve\n",
      "7s - loss: 3.1091 - acc: 0.1144 - val_loss: 3.6012 - val_acc: 0.0545\n",
      "Epoch 90/100\n",
      "Epoch 00089: val_loss did not improve\n",
      "7s - loss: 3.0606 - acc: 0.1106 - val_loss: 3.5013 - val_acc: 0.0848\n",
      "Epoch 91/100\n",
      "Epoch 00090: val_loss did not improve\n",
      "7s - loss: 3.0413 - acc: 0.1152 - val_loss: 4.0209 - val_acc: 0.0455\n",
      "Epoch 92/100\n",
      "Epoch 00091: val_loss did not improve\n",
      "7s - loss: 3.0598 - acc: 0.1159 - val_loss: 3.6127 - val_acc: 0.0667\n",
      "Epoch 93/100\n",
      "Epoch 00092: val_loss did not improve\n",
      "7s - loss: 3.0506 - acc: 0.1189 - val_loss: 3.5921 - val_acc: 0.0697\n",
      "Epoch 94/100\n",
      "Epoch 00093: val_loss did not improve\n",
      "8s - loss: 3.0661 - acc: 0.1265 - val_loss: 3.7434 - val_acc: 0.0545\n",
      "Epoch 95/100\n",
      "Epoch 00094: val_loss did not improve\n",
      "8s - loss: 3.0381 - acc: 0.1205 - val_loss: 3.7349 - val_acc: 0.0606\n",
      "Epoch 96/100\n",
      "Epoch 00095: val_loss did not improve\n",
      "8s - loss: 3.1175 - acc: 0.1098 - val_loss: 3.4585 - val_acc: 0.0667\n",
      "Epoch 97/100\n",
      "Epoch 00096: val_loss did not improve\n",
      "8s - loss: 3.0119 - acc: 0.1182 - val_loss: 3.6233 - val_acc: 0.0667\n",
      "Epoch 98/100\n",
      "Epoch 00097: val_loss did not improve\n",
      "8s - loss: 3.0094 - acc: 0.1235 - val_loss: 3.9229 - val_acc: 0.0515\n",
      "Epoch 99/100\n",
      "Epoch 00098: val_loss did not improve\n",
      "8s - loss: 3.0292 - acc: 0.1167 - val_loss: 3.5740 - val_acc: 0.0818\n",
      "Epoch 100/100\n",
      "Epoch 00099: val_loss did not improve\n",
      "8s - loss: 2.9944 - acc: 0.1129 - val_loss: 3.6148 - val_acc: 0.0667\n"
     ]
    }
   ],
   "source": [
    "hide_code\n",
    "# Train the model\n",
    "checkpointer = ModelCheckpoint(filepath='weights.best.model.hdf5', \n",
    "                               verbose=2, save_best_only=True)\n",
    "history = model.fit(x_train, y_train, \n",
    "                    epochs=100, batch_size=64, verbose=2,\n",
    "                    validation_data=(x_test, y_test),\n",
    "                    callbacks=[checkpointer])"
   ]
  },
  {
   "cell_type": "markdown",
   "metadata": {},
   "source": [
    "We should have an accuracy greater than 3%"
   ]
  },
  {
   "cell_type": "code",
   "execution_count": 32,
   "metadata": {},
   "outputs": [
    {
     "name": "stdout",
     "output_type": "stream",
     "text": [
      "320/330 [============================>.] - ETA: 0s"
     ]
    },
    {
     "data": {
      "text/plain": [
       "[3.307119437420007, 0.069696969696969702]"
      ]
     },
     "execution_count": 32,
     "metadata": {},
     "output_type": "execute_result"
    }
   ],
   "source": [
    "hide_code\n",
    "# Load the model with the best validation accuracy\n",
    "model.load_weights('weights.best.model.hdf5')\n",
    "# Calculate classification accuracy on the testing set\n",
    "score = model.evaluate(x_test, y_test)\n",
    "score"
   ]
  },
  {
   "cell_type": "markdown",
   "metadata": {},
   "source": [
    "Apply the ImageDataGenerator() function."
   ]
  },
  {
   "cell_type": "code",
   "execution_count": 39,
   "metadata": {},
   "outputs": [
    {
     "name": "stdout",
     "output_type": "stream",
     "text": [
      "Epoch 1/5\n",
      "Epoch 00000: val_loss did not improve\n",
      "280s - loss: 3.1527 - acc: 0.1002 - val_loss: 3.4413 - val_acc: 0.0667\n",
      "Epoch 2/5\n",
      "Epoch 00001: val_loss did not improve\n",
      "276s - loss: 2.9898 - acc: 0.1234 - val_loss: 3.8741 - val_acc: 0.0788\n",
      "Epoch 3/5\n",
      "Epoch 00002: val_loss did not improve\n",
      "276s - loss: 2.8761 - acc: 0.1392 - val_loss: 3.8046 - val_acc: 0.0727\n",
      "Epoch 4/5\n",
      "Epoch 00003: val_loss did not improve\n",
      "302s - loss: 2.8007 - acc: 0.1497 - val_loss: 4.2373 - val_acc: 0.0667\n",
      "Epoch 5/5\n",
      "Epoch 00004: val_loss did not improve\n",
      "317s - loss: 2.7512 - acc: 0.1575 - val_loss: 4.2089 - val_acc: 0.0515\n"
     ]
    }
   ],
   "source": [
    "hide_code\n",
    "# Fit the model with ImageDataGenerator()\n",
    "steps, epochs = 1000, 5\n",
    "data_generator = ImageDataGenerator(zoom_range=0.2, shear_range=0.2, rotation_range=20)\n",
    "\n",
    "generator = model.fit_generator(data_generator.flow(x_train, y_train, batch_size=64),\n",
    "                                steps_per_epoch = steps, epochs = epochs,\n",
    "                                validation_data = (x_test, y_test), \n",
    "                                callbacks=[checkpointer], verbose=2)"
   ]
  },
  {
   "cell_type": "code",
   "execution_count": 79,
   "metadata": {},
   "outputs": [
    {
     "name": "stdout",
     "output_type": "stream",
     "text": [
      "320/330 [============================>.] - ETA: 0s"
     ]
    },
    {
     "data": {
      "text/plain": [
       "[3.2676794456713125, 0.093939393939393934]"
      ]
     },
     "execution_count": 79,
     "metadata": {},
     "output_type": "execute_result"
    }
   ],
   "source": [
    "hide_code\n",
    "# Load the model with the best validation accuracy\n",
    "model.load_weights('weights.best.model.hdf5')\n",
    "# Calculate classification accuracy on the testing set\n",
    "score = model.evaluate(x_test, y_test)\n",
    "score"
   ]
  },
  {
   "cell_type": "markdown",
   "metadata": {},
   "source": [
    "Let's compare the results with classifying algorithms."
   ]
  },
  {
   "cell_type": "code",
   "execution_count": 41,
   "metadata": {},
   "outputs": [
    {
     "data": {
      "text/plain": [
       "0.11212121212121212"
      ]
     },
     "execution_count": 41,
     "metadata": {},
     "output_type": "execute_result"
    }
   ],
   "source": [
    "hide_code\n",
    "# Fit the classifier and get the accuracy score\n",
    "y_train_c = np.array([np.argmax(y) for y in y_train])\n",
    "y_test_c = np.array([np.argmax(y) for y in y_test])\n",
    "clf = GradientBoostingClassifier().fit(x_train.reshape(-1, 32*32*3), y_train_c)\n",
    "clf.score(x_test.reshape(-1, 32*32*3), y_test_c)"
   ]
  },
  {
   "cell_type": "code",
   "execution_count": 42,
   "metadata": {},
   "outputs": [
    {
     "data": {
      "text/plain": [
       "0.10606060606060606"
      ]
     },
     "execution_count": 42,
     "metadata": {},
     "output_type": "execute_result"
    }
   ],
   "source": [
    "hide_code\n",
    "# Fit the classifier and get the accuracy score\n",
    "clf2 = RandomForestClassifier().fit(x_train.reshape(-1, 32*32*3), y_train_c)\n",
    "clf2.score(x_test.reshape(-1, 32*32*3), y_test_c)"
   ]
  },
  {
   "cell_type": "markdown",
   "metadata": {},
   "source": [
    "### Grayscaled Images"
   ]
  },
  {
   "cell_type": "code",
   "execution_count": 202,
   "metadata": {
    "collapsed": true
   },
   "outputs": [],
   "source": [
    "hide_code\n",
    "def gray_model():\n",
    "    model = Sequential()\n",
    "    # TODO: Define a model architecture\n",
    "\n",
    "    model.add(Conv2D(32, (5, 5), padding='same', input_shape=x_train2.shape[1:]))\n",
    "    model.add(Activation('relu'))    \n",
    "    model.add(MaxPooling2D(pool_size=(2, 2)))\n",
    "    model.add(Dropout(0.25))\n",
    "\n",
    "    model.add(Conv2D(256, (5, 5)))\n",
    "    model.add(Activation('relu'))    \n",
    "    model.add(MaxPooling2D(pool_size=(2, 2)))\n",
    "    model.add(Dropout(0.25))\n",
    "    \n",
    "    model.add(GlobalMaxPooling2D()) \n",
    "    \n",
    "    model.add(Dense(1024, activation='relu'))\n",
    "    model.add(Dropout(0.25)) \n",
    "    \n",
    "    model.add(Dense(256, activation='relu'))\n",
    "    model.add(Dropout(0.25))    \n",
    "\n",
    "    model.add(Dense(33))\n",
    "    model.add(Activation('softmax'))\n",
    "    \n",
    "    # TODO: Compile the model\n",
    "    model.compile(loss='categorical_crossentropy', optimizer='rmsprop', metrics=['accuracy'])\n",
    "    \n",
    "    return model\n",
    "\n",
    "gray_model = gray_model()"
   ]
  },
  {
   "cell_type": "code",
   "execution_count": 203,
   "metadata": {},
   "outputs": [
    {
     "name": "stdout",
     "output_type": "stream",
     "text": [
      "Epoch 00000: val_loss improved from inf to 3.49716, saving model to weights.best.gray_model.hdf5\n",
      "Epoch 00001: val_loss did not improve\n",
      "Epoch 00002: val_loss did not improve\n",
      "Epoch 00003: val_loss did not improve\n",
      "Epoch 00004: val_loss did not improve\n",
      "Epoch 00005: val_loss did not improve\n",
      "Epoch 00006: val_loss did not improve\n",
      "Epoch 00007: val_loss did not improve\n",
      "Epoch 00008: val_loss did not improve\n",
      "Epoch 00009: val_loss improved from 3.49716 to 3.49674, saving model to weights.best.gray_model.hdf5\n",
      "Epoch 00010: val_loss improved from 3.49674 to 3.49181, saving model to weights.best.gray_model.hdf5\n",
      "Epoch 00011: val_loss did not improve\n",
      "Epoch 00012: val_loss improved from 3.49181 to 3.48968, saving model to weights.best.gray_model.hdf5\n",
      "Epoch 00013: val_loss improved from 3.48968 to 3.48150, saving model to weights.best.gray_model.hdf5\n",
      "Epoch 00014: val_loss improved from 3.48150 to 3.47951, saving model to weights.best.gray_model.hdf5\n",
      "Epoch 00015: val_loss did not improve\n",
      "Epoch 00016: val_loss did not improve\n",
      "Epoch 00017: val_loss improved from 3.47951 to 3.46473, saving model to weights.best.gray_model.hdf5\n",
      "Epoch 00018: val_loss improved from 3.46473 to 3.45394, saving model to weights.best.gray_model.hdf5\n",
      "Epoch 00019: val_loss did not improve\n",
      "Epoch 00020: val_loss improved from 3.45394 to 3.45097, saving model to weights.best.gray_model.hdf5\n",
      "Epoch 00021: val_loss did not improve\n",
      "Epoch 00022: val_loss did not improve\n",
      "Epoch 00023: val_loss did not improve\n",
      "Epoch 00024: val_loss improved from 3.45097 to 3.44500, saving model to weights.best.gray_model.hdf5\n",
      "Epoch 00025: val_loss improved from 3.44500 to 3.43917, saving model to weights.best.gray_model.hdf5\n",
      "Epoch 00026: val_loss did not improve\n",
      "Epoch 00027: val_loss did not improve\n",
      "Epoch 00028: val_loss did not improve\n",
      "Epoch 00029: val_loss did not improve\n",
      "Epoch 00030: val_loss did not improve\n",
      "Epoch 00031: val_loss did not improve\n",
      "Epoch 00032: val_loss did not improve\n",
      "Epoch 00033: val_loss did not improve\n",
      "Epoch 00034: val_loss did not improve\n",
      "Epoch 00035: val_loss did not improve\n",
      "Epoch 00036: val_loss improved from 3.43917 to 3.41970, saving model to weights.best.gray_model.hdf5\n",
      "Epoch 00037: val_loss did not improve\n",
      "Epoch 00038: val_loss did not improve\n",
      "Epoch 00039: val_loss did not improve\n",
      "Epoch 00040: val_loss did not improve\n",
      "Epoch 00041: val_loss did not improve\n",
      "Epoch 00042: val_loss did not improve\n",
      "Epoch 00043: val_loss did not improve\n",
      "Epoch 00044: val_loss did not improve\n",
      "Epoch 00045: val_loss did not improve\n",
      "Epoch 00046: val_loss did not improve\n",
      "Epoch 00047: val_loss improved from 3.41970 to 3.40785, saving model to weights.best.gray_model.hdf5\n",
      "Epoch 00048: val_loss did not improve\n",
      "Epoch 00049: val_loss did not improve\n",
      "Epoch 00050: val_loss did not improve\n",
      "Epoch 00051: val_loss did not improve\n",
      "Epoch 00052: val_loss did not improve\n",
      "Epoch 00053: val_loss improved from 3.40785 to 3.38080, saving model to weights.best.gray_model.hdf5\n",
      "Epoch 00054: val_loss did not improve\n",
      "Epoch 00055: val_loss did not improve\n",
      "Epoch 00056: val_loss improved from 3.38080 to 3.34910, saving model to weights.best.gray_model.hdf5\n",
      "Epoch 00057: val_loss did not improve\n",
      "Epoch 00058: val_loss did not improve\n",
      "Epoch 00059: val_loss did not improve\n",
      "Epoch 00060: val_loss did not improve\n",
      "Epoch 00061: val_loss did not improve\n",
      "Epoch 00062: val_loss did not improve\n",
      "Epoch 00063: val_loss improved from 3.34910 to 3.26139, saving model to weights.best.gray_model.hdf5\n",
      "Epoch 00064: val_loss did not improve\n",
      "Epoch 00065: val_loss did not improve\n",
      "Epoch 00066: val_loss did not improve\n",
      "Epoch 00067: val_loss did not improve\n",
      "Epoch 00068: val_loss did not improve\n",
      "Epoch 00069: val_loss improved from 3.26139 to 3.22530, saving model to weights.best.gray_model.hdf5\n",
      "Epoch 00070: val_loss improved from 3.22530 to 3.17619, saving model to weights.best.gray_model.hdf5\n",
      "Epoch 00071: val_loss improved from 3.17619 to 3.14994, saving model to weights.best.gray_model.hdf5\n",
      "Epoch 00072: val_loss improved from 3.14994 to 3.10301, saving model to weights.best.gray_model.hdf5\n",
      "Epoch 00073: val_loss did not improve\n",
      "Epoch 00074: val_loss did not improve\n",
      "Epoch 00075: val_loss did not improve\n",
      "Epoch 00076: val_loss improved from 3.10301 to 3.02186, saving model to weights.best.gray_model.hdf5\n",
      "Epoch 00077: val_loss did not improve\n",
      "Epoch 00078: val_loss did not improve\n",
      "Epoch 00079: val_loss did not improve\n",
      "Epoch 00080: val_loss improved from 3.02186 to 2.95926, saving model to weights.best.gray_model.hdf5\n",
      "Epoch 00081: val_loss did not improve\n",
      "Epoch 00082: val_loss did not improve\n",
      "Epoch 00083: val_loss did not improve\n",
      "Epoch 00084: val_loss did not improve\n",
      "Epoch 00085: val_loss did not improve\n",
      "Epoch 00086: val_loss improved from 2.95926 to 2.94945, saving model to weights.best.gray_model.hdf5\n",
      "Epoch 00087: val_loss improved from 2.94945 to 2.80203, saving model to weights.best.gray_model.hdf5\n",
      "Epoch 00088: val_loss improved from 2.80203 to 2.74658, saving model to weights.best.gray_model.hdf5\n",
      "Epoch 00089: val_loss did not improve\n",
      "Epoch 00090: val_loss did not improve\n",
      "Epoch 00091: val_loss improved from 2.74658 to 2.68496, saving model to weights.best.gray_model.hdf5\n",
      "Epoch 00092: val_loss improved from 2.68496 to 2.65433, saving model to weights.best.gray_model.hdf5\n",
      "Epoch 00093: val_loss did not improve\n",
      "Epoch 00094: val_loss did not improve\n",
      "Epoch 00095: val_loss did not improve\n",
      "Epoch 00096: val_loss did not improve\n",
      "Epoch 00097: val_loss improved from 2.65433 to 2.57261, saving model to weights.best.gray_model.hdf5\n",
      "Epoch 00098: val_loss did not improve\n",
      "Epoch 00099: val_loss did not improve\n",
      "Epoch 00100: val_loss improved from 2.57261 to 2.56610, saving model to weights.best.gray_model.hdf5\n",
      "Epoch 00101: val_loss did not improve\n",
      "Epoch 00102: val_loss did not improve\n",
      "Epoch 00103: val_loss improved from 2.56610 to 2.50546, saving model to weights.best.gray_model.hdf5\n",
      "Epoch 00104: val_loss did not improve\n",
      "Epoch 00105: val_loss improved from 2.50546 to 2.48374, saving model to weights.best.gray_model.hdf5\n",
      "Epoch 00106: val_loss did not improve\n",
      "Epoch 00107: val_loss improved from 2.48374 to 2.46441, saving model to weights.best.gray_model.hdf5\n",
      "Epoch 00108: val_loss improved from 2.46441 to 2.43010, saving model to weights.best.gray_model.hdf5\n",
      "Epoch 00109: val_loss improved from 2.43010 to 2.38242, saving model to weights.best.gray_model.hdf5\n",
      "Epoch 00110: val_loss improved from 2.38242 to 2.29225, saving model to weights.best.gray_model.hdf5\n",
      "Epoch 00111: val_loss did not improve\n",
      "Epoch 00112: val_loss did not improve\n",
      "Epoch 00113: val_loss did not improve\n",
      "Epoch 00114: val_loss did not improve\n",
      "Epoch 00115: val_loss did not improve\n",
      "Epoch 00116: val_loss did not improve\n",
      "Epoch 00117: val_loss did not improve\n",
      "Epoch 00118: val_loss did not improve\n",
      "Epoch 00119: val_loss improved from 2.29225 to 2.18235, saving model to weights.best.gray_model.hdf5\n",
      "Epoch 00120: val_loss did not improve\n",
      "Epoch 00121: val_loss did not improve\n",
      "Epoch 00122: val_loss did not improve\n",
      "Epoch 00123: val_loss did not improve\n",
      "Epoch 00124: val_loss did not improve\n",
      "Epoch 00125: val_loss did not improve\n",
      "Epoch 00126: val_loss did not improve\n",
      "Epoch 00127: val_loss improved from 2.18235 to 2.11509, saving model to weights.best.gray_model.hdf5\n",
      "Epoch 00128: val_loss did not improve\n",
      "Epoch 00129: val_loss did not improve\n",
      "Epoch 00130: val_loss improved from 2.11509 to 2.08848, saving model to weights.best.gray_model.hdf5\n",
      "Epoch 00131: val_loss did not improve\n",
      "Epoch 00132: val_loss did not improve\n",
      "Epoch 00133: val_loss did not improve\n",
      "Epoch 00134: val_loss did not improve\n",
      "Epoch 00135: val_loss did not improve\n",
      "Epoch 00136: val_loss did not improve\n",
      "Epoch 00137: val_loss did not improve\n",
      "Epoch 00138: val_loss did not improve\n",
      "Epoch 00139: val_loss did not improve\n",
      "Epoch 00140: val_loss improved from 2.08848 to 1.98935, saving model to weights.best.gray_model.hdf5\n",
      "Epoch 00141: val_loss did not improve\n",
      "Epoch 00142: val_loss did not improve\n",
      "Epoch 00143: val_loss did not improve\n",
      "Epoch 00144: val_loss did not improve\n",
      "Epoch 00145: val_loss did not improve\n",
      "Epoch 00146: val_loss did not improve\n",
      "Epoch 00147: val_loss did not improve\n",
      "Epoch 00148: val_loss improved from 1.98935 to 1.90102, saving model to weights.best.gray_model.hdf5\n",
      "Epoch 00149: val_loss did not improve\n"
     ]
    },
    {
     "name": "stdout",
     "output_type": "stream",
     "text": [
      "Epoch 00150: val_loss did not improve\n",
      "Epoch 00151: val_loss improved from 1.90102 to 1.85994, saving model to weights.best.gray_model.hdf5\n",
      "Epoch 00152: val_loss did not improve\n",
      "Epoch 00153: val_loss improved from 1.85994 to 1.84705, saving model to weights.best.gray_model.hdf5\n",
      "Epoch 00154: val_loss did not improve\n",
      "Epoch 00155: val_loss did not improve\n",
      "Epoch 00156: val_loss did not improve\n",
      "Epoch 00157: val_loss did not improve\n",
      "Epoch 00158: val_loss did not improve\n",
      "Epoch 00159: val_loss did not improve\n",
      "Epoch 00160: val_loss improved from 1.84705 to 1.81114, saving model to weights.best.gray_model.hdf5\n",
      "Epoch 00161: val_loss did not improve\n",
      "Epoch 00162: val_loss improved from 1.81114 to 1.74831, saving model to weights.best.gray_model.hdf5\n",
      "Epoch 00163: val_loss did not improve\n",
      "Epoch 00164: val_loss improved from 1.74831 to 1.70551, saving model to weights.best.gray_model.hdf5\n",
      "Epoch 00165: val_loss did not improve\n",
      "Epoch 00166: val_loss did not improve\n",
      "Epoch 00167: val_loss did not improve\n",
      "Epoch 00168: val_loss did not improve\n",
      "Epoch 00169: val_loss did not improve\n",
      "Epoch 00170: val_loss did not improve\n",
      "Epoch 00171: val_loss did not improve\n",
      "Epoch 00172: val_loss did not improve\n",
      "Epoch 00173: val_loss did not improve\n",
      "Epoch 00174: val_loss did not improve\n",
      "Epoch 00175: val_loss did not improve\n",
      "Epoch 00176: val_loss did not improve\n",
      "Epoch 00177: val_loss improved from 1.70551 to 1.63087, saving model to weights.best.gray_model.hdf5\n",
      "Epoch 00178: val_loss did not improve\n",
      "Epoch 00179: val_loss did not improve\n",
      "Epoch 00180: val_loss did not improve\n",
      "Epoch 00181: val_loss did not improve\n",
      "Epoch 00182: val_loss did not improve\n",
      "Epoch 00183: val_loss did not improve\n",
      "Epoch 00184: val_loss did not improve\n",
      "Epoch 00185: val_loss did not improve\n",
      "Epoch 00186: val_loss did not improve\n",
      "Epoch 00187: val_loss did not improve\n",
      "Epoch 00188: val_loss did not improve\n",
      "Epoch 00189: val_loss did not improve\n",
      "Epoch 00190: val_loss did not improve\n",
      "Epoch 00191: val_loss did not improve\n",
      "Epoch 00192: val_loss did not improve\n",
      "Epoch 00193: val_loss did not improve\n",
      "Epoch 00194: val_loss did not improve\n",
      "Epoch 00195: val_loss did not improve\n",
      "Epoch 00196: val_loss did not improve\n",
      "Epoch 00197: val_loss did not improve\n",
      "Epoch 00198: val_loss did not improve\n",
      "Epoch 00199: val_loss did not improve\n",
      "Epoch 00200: val_loss did not improve\n",
      "Epoch 00201: val_loss did not improve\n",
      "Epoch 00202: val_loss did not improve\n",
      "Epoch 00203: val_loss did not improve\n",
      "Epoch 00204: val_loss improved from 1.63087 to 1.58334, saving model to weights.best.gray_model.hdf5\n",
      "Epoch 00205: val_loss did not improve\n",
      "Epoch 00206: val_loss did not improve\n",
      "Epoch 00207: val_loss did not improve\n",
      "Epoch 00208: val_loss did not improve\n",
      "Epoch 00209: val_loss improved from 1.58334 to 1.52074, saving model to weights.best.gray_model.hdf5\n",
      "Epoch 00210: val_loss did not improve\n",
      "Epoch 00211: val_loss did not improve\n",
      "Epoch 00212: val_loss did not improve\n",
      "Epoch 00213: val_loss did not improve\n",
      "Epoch 00214: val_loss did not improve\n",
      "Epoch 00215: val_loss did not improve\n",
      "Epoch 00216: val_loss did not improve\n",
      "Epoch 00217: val_loss did not improve\n",
      "Epoch 00218: val_loss did not improve\n",
      "Epoch 00219: val_loss did not improve\n",
      "Epoch 00220: val_loss did not improve\n",
      "Epoch 00221: val_loss did not improve\n",
      "Epoch 00222: val_loss did not improve\n",
      "Epoch 00223: val_loss did not improve\n",
      "Epoch 00224: val_loss did not improve\n",
      "Epoch 00225: val_loss did not improve\n",
      "Epoch 00226: val_loss did not improve\n",
      "Epoch 00227: val_loss did not improve\n",
      "Epoch 00228: val_loss did not improve\n",
      "Epoch 00229: val_loss did not improve\n",
      "Epoch 00230: val_loss did not improve\n",
      "Epoch 00231: val_loss did not improve\n",
      "Epoch 00232: val_loss did not improve\n",
      "Epoch 00233: val_loss did not improve\n",
      "Epoch 00234: val_loss did not improve\n",
      "Epoch 00235: val_loss did not improve\n",
      "Epoch 00236: val_loss did not improve\n",
      "Epoch 00237: val_loss did not improve\n",
      "Epoch 00238: val_loss did not improve\n",
      "Epoch 00239: val_loss did not improve\n",
      "Epoch 00240: val_loss did not improve\n",
      "Epoch 00241: val_loss did not improve\n",
      "Epoch 00242: val_loss did not improve\n",
      "Epoch 00243: val_loss did not improve\n",
      "Epoch 00244: val_loss did not improve\n",
      "Epoch 00245: val_loss did not improve\n",
      "Epoch 00246: val_loss did not improve\n",
      "Epoch 00247: val_loss did not improve\n",
      "Epoch 00248: val_loss did not improve\n",
      "Epoch 00249: val_loss did not improve\n",
      "Epoch 00250: val_loss did not improve\n",
      "Epoch 00251: val_loss did not improve\n",
      "Epoch 00252: val_loss did not improve\n",
      "Epoch 00253: val_loss did not improve\n",
      "Epoch 00254: val_loss did not improve\n",
      "Epoch 00255: val_loss did not improve\n",
      "Epoch 00256: val_loss did not improve\n",
      "Epoch 00257: val_loss did not improve\n",
      "Epoch 00258: val_loss did not improve\n",
      "Epoch 00259: val_loss did not improve\n",
      "Epoch 00260: val_loss did not improve\n",
      "Epoch 00261: val_loss did not improve\n",
      "Epoch 00262: val_loss did not improve\n",
      "Epoch 00263: val_loss did not improve\n",
      "Epoch 00264: val_loss did not improve\n",
      "Epoch 00265: val_loss did not improve\n",
      "Epoch 00266: val_loss did not improve\n",
      "Epoch 00267: val_loss did not improve\n",
      "Epoch 00268: val_loss did not improve\n",
      "Epoch 00269: val_loss did not improve\n",
      "Epoch 00270: val_loss improved from 1.52074 to 1.51536, saving model to weights.best.gray_model.hdf5\n",
      "Epoch 00271: val_loss did not improve\n",
      "Epoch 00272: val_loss did not improve\n",
      "Epoch 00273: val_loss did not improve\n",
      "Epoch 00274: val_loss did not improve\n",
      "Epoch 00275: val_loss did not improve\n",
      "Epoch 00276: val_loss did not improve\n",
      "Epoch 00277: val_loss did not improve\n",
      "Epoch 00278: val_loss did not improve\n",
      "Epoch 00279: val_loss did not improve\n",
      "Epoch 00280: val_loss did not improve\n",
      "Epoch 00281: val_loss did not improve\n",
      "Epoch 00282: val_loss did not improve\n",
      "Epoch 00283: val_loss did not improve\n",
      "Epoch 00284: val_loss did not improve\n",
      "Epoch 00285: val_loss did not improve\n",
      "Epoch 00286: val_loss did not improve\n",
      "Epoch 00287: val_loss did not improve\n",
      "Epoch 00288: val_loss did not improve\n",
      "Epoch 00289: val_loss did not improve\n",
      "Epoch 00290: val_loss did not improve\n",
      "Epoch 00291: val_loss did not improve\n",
      "Epoch 00292: val_loss did not improve\n",
      "Epoch 00293: val_loss did not improve\n",
      "Epoch 00294: val_loss did not improve\n",
      "Epoch 00295: val_loss did not improve\n",
      "Epoch 00296: val_loss did not improve\n",
      "Epoch 00297: val_loss did not improve\n",
      "Epoch 00298: val_loss did not improve\n",
      "Epoch 00299: val_loss did not improve\n"
     ]
    }
   ],
   "source": [
    "hide_code\n",
    "# Train the model\n",
    "gray_checkpointer = ModelCheckpoint(filepath='weights.best.gray_model.hdf5', \n",
    "                                    verbose=2, save_best_only=True)\n",
    "gray_history = gray_model.fit(x_train2, y_train2, \n",
    "                              epochs=300, batch_size=64, verbose=0,\n",
    "                              validation_data=(x_test2, y_test2),\n",
    "                              callbacks=[gray_checkpointer])"
   ]
  },
  {
   "cell_type": "code",
   "execution_count": 205,
   "metadata": {},
   "outputs": [
    {
     "data": {
      "image/png": "[encoded data removed]",
      "text/plain": [
       "<matplotlib.figure.Figure at 0x1489eb5f8>"
      ]
     },
     "metadata": {},
     "output_type": "display_data"
    }
   ],
   "source": [
    "hide_code\n",
    "# Plot the training history\n",
    "history_plot(gray_history, 0)"
   ]
  },
  {
   "cell_type": "markdown",
   "metadata": {},
   "source": [
    "Try to reach an accuracy greater than 50%"
   ]
  },
  {
   "cell_type": "code",
   "execution_count": 206,
   "metadata": {},
   "outputs": [
    {
     "name": "stdout",
     "output_type": "stream",
     "text": [
      "320/330 [============================>.] - ETA: 0s"
     ]
    },
    {
     "data": {
      "text/plain": [
       "[1.5153604303345536, 0.57878787914911911]"
      ]
     },
     "execution_count": 206,
     "metadata": {},
     "output_type": "execute_result"
    }
   ],
   "source": [
    "hide_code\n",
    "# Load the model with the best validation accuracy\n",
    "gray_model.load_weights('weights.best.gray_model.hdf5')\n",
    "# Calculate classification accuracy on the testing set\n",
    "gray_score = gray_model.evaluate(x_test2, y_test2)\n",
    "gray_score"
   ]
  },
  {
   "cell_type": "markdown",
   "metadata": {},
   "source": [
    "Apply the ImageDataGenerator() function."
   ]
  },
  {
   "cell_type": "code",
   "execution_count": 207,
   "metadata": {},
   "outputs": [
    {
     "name": "stdout",
     "output_type": "stream",
     "text": [
      "Epoch 1/10\n",
      "Epoch 00000: val_loss did not improve\n",
      "533s - loss: 1.6839 - acc: 0.5148 - val_loss: 1.5154 - val_acc: 0.5212\n",
      "Epoch 2/10\n",
      "Epoch 00001: val_loss improved from 1.51536 to 1.38962, saving model to weights.best.gray_model.hdf5\n",
      "498s - loss: 1.4480 - acc: 0.5734 - val_loss: 1.3896 - val_acc: 0.5727\n",
      "Epoch 3/10\n",
      "Epoch 00002: val_loss improved from 1.38962 to 1.35271, saving model to weights.best.gray_model.hdf5\n",
      "497s - loss: 1.3061 - acc: 0.6143 - val_loss: 1.3527 - val_acc: 0.5939\n",
      "Epoch 4/10\n",
      "Epoch 00003: val_loss did not improve\n",
      "544s - loss: 1.2034 - acc: 0.6430 - val_loss: 1.3832 - val_acc: 0.5909\n",
      "Epoch 5/10\n",
      "Epoch 00004: val_loss did not improve\n",
      "541s - loss: 1.1314 - acc: 0.6651 - val_loss: 1.4496 - val_acc: 0.5364\n",
      "Epoch 6/10\n",
      "Epoch 00005: val_loss did not improve\n",
      "529s - loss: 1.0810 - acc: 0.6863 - val_loss: 1.4210 - val_acc: 0.5970\n",
      "Epoch 7/10\n",
      "Epoch 00006: val_loss did not improve\n",
      "546s - loss: 1.0364 - acc: 0.7009 - val_loss: 1.4894 - val_acc: 0.6121\n",
      "Epoch 8/10\n",
      "Epoch 00007: val_loss did not improve\n",
      "581s - loss: 1.0293 - acc: 0.7090 - val_loss: 1.4540 - val_acc: 0.6000\n",
      "Epoch 9/10\n",
      "Epoch 00008: val_loss did not improve\n",
      "540s - loss: 1.0203 - acc: 0.7129 - val_loss: 1.5232 - val_acc: 0.5939\n",
      "Epoch 10/10\n",
      "Epoch 00009: val_loss did not improve\n",
      "486s - loss: 1.0243 - acc: 0.7136 - val_loss: 1.5420 - val_acc: 0.5818\n"
     ]
    }
   ],
   "source": [
    "hide_code\n",
    "# Fit the model with ImageDataGenerator()\n",
    "steps, epochs = 1000, 10\n",
    "data_generator = ImageDataGenerator(zoom_range=0.2, shear_range=0.2, rotation_range=20)\n",
    "\n",
    "gray_generator = gray_model.fit_generator(data_generator.flow(x_train2, y_train2, batch_size=64),\n",
    "                                          steps_per_epoch = steps, epochs = epochs,\n",
    "                                          validation_data = (x_test2, y_test2), \n",
    "                                          callbacks=[gray_checkpointer], verbose=2)"
   ]
  },
  {
   "cell_type": "code",
   "execution_count": 208,
   "metadata": {},
   "outputs": [
    {
     "name": "stdout",
     "output_type": "stream",
     "text": [
      "320/330 [============================>.] - ETA: 0s"
     ]
    },
    {
     "data": {
      "text/plain": [
       "[1.3527143391695891, 0.59393939430063425]"
      ]
     },
     "execution_count": 208,
     "metadata": {},
     "output_type": "execute_result"
    }
   ],
   "source": [
    "hide_code\n",
    "# Load the model with the best validation accuracy\n",
    "gray_model.load_weights('weights.best.gray_model.hdf5')\n",
    "# Calculate classification accuracy on the testing set\n",
    "gray_score = gray_model.evaluate(x_test2, y_test2)\n",
    "gray_score"
   ]
  },
  {
   "cell_type": "markdown",
   "metadata": {},
   "source": [
    "Let's compare the results with classifying algorithms."
   ]
  },
  {
   "cell_type": "code",
   "execution_count": 80,
   "metadata": {},
   "outputs": [
    {
     "data": {
      "text/plain": [
       "0.081818181818181818"
      ]
     },
     "execution_count": 80,
     "metadata": {},
     "output_type": "execute_result"
    }
   ],
   "source": [
    "hide_code\n",
    "# Fit the classifier and get the accuracy score\n",
    "y_train2_c = np.array([np.argmax(y) for y in y_train2])\n",
    "y_test2_c = np.array([np.argmax(y) for y in y_test2])\n",
    "clf = GradientBoostingClassifier().fit(x_train2.reshape(-1, 32*32), y_train2_c)\n",
    "clf.score(x_test2.reshape(-1, 32*32), y_test2_c)"
   ]
  },
  {
   "cell_type": "code",
   "execution_count": 81,
   "metadata": {},
   "outputs": [
    {
     "data": {
      "text/plain": [
       "0.087878787878787876"
      ]
     },
     "execution_count": 81,
     "metadata": {},
     "output_type": "execute_result"
    }
   ],
   "source": [
    "hide_code\n",
    "# Fit the classifier and get the accuracy score\n",
    "clf2 = RandomForestClassifier().fit(x_train2.reshape(-1, 32*32), y_train2_c)\n",
    "clf2.score(x_test2.reshape(-1, 32*32), y_test2_c)"
   ]
  },
  {
   "cell_type": "markdown",
   "metadata": {},
   "source": [
    "## Step 5. Create a Multi-Label Classification Model\n",
    "### Color Images"
   ]
  },
  {
   "cell_type": "code",
   "execution_count": 183,
   "metadata": {
    "collapsed": true
   },
   "outputs": [],
   "source": [
    "hide_code\n",
    "def multi_model():    \n",
    "    model_input = Input(shape=(32, 32, 3))\n",
    "    x = BatchNormalization()(model_input)\n",
    "    # TODO: Define a model architecture\n",
    "        \n",
    "    x = Conv2D(32, (3, 3), activation='relu', padding='same')(model_input)\n",
    "    x = MaxPooling2D(pool_size=(2, 2))(x)    \n",
    "    x = Dropout(0.25)(x)\n",
    "    \n",
    "    x = Conv2D(128, (3, 3), activation='relu', padding='same')(x)       \n",
    "    x = MaxPooling2D(pool_size=(2, 2))(x)    \n",
    "    x = Dropout(0.25)(x)\n",
    "              \n",
    "    x = GlobalMaxPooling2D()(x)\n",
    "    \n",
    "    x = Dense(1024, activation='relu')(x)    \n",
    "    x = Dropout(0.25)(x)\n",
    "    \n",
    "    x = Dense(128, activation='relu')(x)    \n",
    "    x = Dropout(0.25)(x)\n",
    "    \n",
    "    y1 = Dense(33, activation='softmax')(x)\n",
    "    y2 = Dense(2, activation='softmax')(x)\n",
    "    \n",
    "    model = Model(inputs=model_input, outputs=[y1, y2])\n",
    "    \n",
    "    # TODO: Compile the model\n",
    "    model.compile(loss='categorical_crossentropy', optimizer='adam', metrics=['accuracy'])\n",
    "    return model\n",
    "\n",
    "multi_model = multi_model()"
   ]
  },
  {
   "cell_type": "code",
   "execution_count": 184,
   "metadata": {},
   "outputs": [
    {
     "name": "stdout",
     "output_type": "stream",
     "text": [
      "____________________________________________________________________________________________________\n",
      "Layer (type)                     Output Shape          Param #     Connected to                     \n",
      "====================================================================================================\n",
      "input_11 (InputLayer)            (None, 32, 32, 3)     0                                            \n",
      "____________________________________________________________________________________________________\n",
      "conv2d_61 (Conv2D)               (None, 32, 32, 32)    896         input_11[0][0]                   \n",
      "____________________________________________________________________________________________________\n",
      "max_pooling2d_61 (MaxPooling2D)  (None, 16, 16, 32)    0           conv2d_61[0][0]                  \n",
      "____________________________________________________________________________________________________\n",
      "dropout_121 (Dropout)            (None, 16, 16, 32)    0           max_pooling2d_61[0][0]           \n",
      "____________________________________________________________________________________________________\n",
      "conv2d_62 (Conv2D)               (None, 16, 16, 128)   36992       dropout_121[0][0]                \n",
      "____________________________________________________________________________________________________\n",
      "max_pooling2d_62 (MaxPooling2D)  (None, 8, 8, 128)     0           conv2d_62[0][0]                  \n",
      "____________________________________________________________________________________________________\n",
      "dropout_122 (Dropout)            (None, 8, 8, 128)     0           max_pooling2d_62[0][0]           \n",
      "____________________________________________________________________________________________________\n",
      "global_max_pooling2d_30 (GlobalM (None, 128)           0           dropout_122[0][0]                \n",
      "____________________________________________________________________________________________________\n",
      "dense_101 (Dense)                (None, 1024)          132096      global_max_pooling2d_30[0][0]    \n",
      "____________________________________________________________________________________________________\n",
      "dropout_123 (Dropout)            (None, 1024)          0           dense_101[0][0]                  \n",
      "____________________________________________________________________________________________________\n",
      "dense_102 (Dense)                (None, 128)           131200      dropout_123[0][0]                \n",
      "____________________________________________________________________________________________________\n",
      "dropout_124 (Dropout)            (None, 128)           0           dense_102[0][0]                  \n",
      "____________________________________________________________________________________________________\n",
      "dense_103 (Dense)                (None, 33)            4257        dropout_124[0][0]                \n",
      "____________________________________________________________________________________________________\n",
      "dense_104 (Dense)                (None, 2)             258         dropout_124[0][0]                \n",
      "====================================================================================================\n",
      "Total params: 305,699\n",
      "Trainable params: 305,699\n",
      "Non-trainable params: 0\n",
      "____________________________________________________________________________________________________\n"
     ]
    }
   ],
   "source": [
    "hide_code\n",
    "# Display the model architecture\n",
    "multi_model.summary()"
   ]
  },
  {
   "cell_type": "code",
   "execution_count": 185,
   "metadata": {},
   "outputs": [
    {
     "name": "stdout",
     "output_type": "stream",
     "text": [
      "Epoch 00000: val_loss improved from inf to 4.18444, saving model to weights.best.multi.hdf5\n",
      "Epoch 00001: val_loss improved from 4.18444 to 4.18439, saving model to weights.best.multi.hdf5\n",
      "Epoch 00002: val_loss improved from 4.18439 to 4.18302, saving model to weights.best.multi.hdf5\n",
      "Epoch 00003: val_loss improved from 4.18302 to 4.17711, saving model to weights.best.multi.hdf5\n",
      "Epoch 00004: val_loss did not improve\n",
      "Epoch 00005: val_loss did not improve\n",
      "Epoch 00006: val_loss did not improve\n",
      "Epoch 00007: val_loss did not improve\n",
      "Epoch 00008: val_loss did not improve\n",
      "Epoch 00009: val_loss improved from 4.17711 to 4.04847, saving model to weights.best.multi.hdf5\n",
      "Epoch 00010: val_loss improved from 4.04847 to 4.02744, saving model to weights.best.multi.hdf5\n",
      "Epoch 00011: val_loss improved from 4.02744 to 3.96499, saving model to weights.best.multi.hdf5\n",
      "Epoch 00012: val_loss did not improve\n",
      "Epoch 00013: val_loss did not improve\n",
      "Epoch 00014: val_loss improved from 3.96499 to 3.90728, saving model to weights.best.multi.hdf5\n",
      "Epoch 00015: val_loss improved from 3.90728 to 3.89565, saving model to weights.best.multi.hdf5\n",
      "Epoch 00016: val_loss improved from 3.89565 to 3.88707, saving model to weights.best.multi.hdf5\n",
      "Epoch 00017: val_loss improved from 3.88707 to 3.88346, saving model to weights.best.multi.hdf5\n",
      "Epoch 00018: val_loss did not improve\n",
      "Epoch 00019: val_loss improved from 3.88346 to 3.88151, saving model to weights.best.multi.hdf5\n",
      "Epoch 00020: val_loss improved from 3.88151 to 3.86843, saving model to weights.best.multi.hdf5\n",
      "Epoch 00021: val_loss did not improve\n",
      "Epoch 00022: val_loss did not improve\n",
      "Epoch 00023: val_loss improved from 3.86843 to 3.82905, saving model to weights.best.multi.hdf5\n",
      "Epoch 00024: val_loss did not improve\n",
      "Epoch 00025: val_loss improved from 3.82905 to 3.81266, saving model to weights.best.multi.hdf5\n",
      "Epoch 00026: val_loss did not improve\n",
      "Epoch 00027: val_loss improved from 3.81266 to 3.76278, saving model to weights.best.multi.hdf5\n",
      "Epoch 00028: val_loss did not improve\n",
      "Epoch 00029: val_loss did not improve\n",
      "Epoch 00030: val_loss improved from 3.76278 to 3.75201, saving model to weights.best.multi.hdf5\n",
      "Epoch 00031: val_loss improved from 3.75201 to 3.71756, saving model to weights.best.multi.hdf5\n",
      "Epoch 00032: val_loss improved from 3.71756 to 3.64309, saving model to weights.best.multi.hdf5\n",
      "Epoch 00033: val_loss did not improve\n",
      "Epoch 00034: val_loss did not improve\n",
      "Epoch 00035: val_loss did not improve\n",
      "Epoch 00036: val_loss did not improve\n",
      "Epoch 00037: val_loss did not improve\n",
      "Epoch 00038: val_loss did not improve\n",
      "Epoch 00039: val_loss did not improve\n",
      "Epoch 00040: val_loss did not improve\n",
      "Epoch 00041: val_loss improved from 3.64309 to 3.57763, saving model to weights.best.multi.hdf5\n",
      "Epoch 00042: val_loss improved from 3.57763 to 3.54889, saving model to weights.best.multi.hdf5\n",
      "Epoch 00043: val_loss did not improve\n",
      "Epoch 00044: val_loss improved from 3.54889 to 3.52939, saving model to weights.best.multi.hdf5\n",
      "Epoch 00045: val_loss did not improve\n",
      "Epoch 00046: val_loss improved from 3.52939 to 3.47849, saving model to weights.best.multi.hdf5\n",
      "Epoch 00047: val_loss did not improve\n",
      "Epoch 00048: val_loss did not improve\n",
      "Epoch 00049: val_loss did not improve\n"
     ]
    }
   ],
   "source": [
    "hide_code\n",
    "# Train the model\n",
    "multi_checkpointer = ModelCheckpoint(filepath='weights.best.multi.hdf5', \n",
    "                                     verbose=2, save_best_only=True)\n",
    "multi_history = multi_model.fit(x_train3, y_train3_list, \n",
    "                                validation_data=(x_test3, y_test3_list), \n",
    "                                epochs=50, batch_size=64, verbose=0, \n",
    "                                callbacks=[multi_checkpointer])"
   ]
  },
  {
   "cell_type": "markdown",
   "metadata": {},
   "source": [
    "We should have an accuracy greater than 3% for the first target (letter) and greater than 50% for the second target (background)."
   ]
  },
  {
   "cell_type": "code",
   "execution_count": 186,
   "metadata": {},
   "outputs": [
    {
     "name": "stdout",
     "output_type": "stream",
     "text": [
      "Scores: \n",
      " [3.4784907254305755, 3.0530445474566834, 0.42544620904055508, 0.093939393939393934, 0.8181818174593376]\n",
      "First label. Accuracy: 9.39%\n",
      "Second label. Accuracy: 81.82%\n"
     ]
    }
   ],
   "source": [
    "hide_code\n",
    "# Load the model with the best validation accuracy\n",
    "multi_model.load_weights('weights.best.multi.hdf5')\n",
    "# Calculate classification accuracy on the testing set\n",
    "multi_scores = multi_model.evaluate(x_test3, y_test3_list, verbose=0)\n",
    "\n",
    "print(\"Scores: \\n\" , (multi_scores))\n",
    "print(\"First label. Accuracy: %.2f%%\" % (multi_scores[3]*100))\n",
    "print(\"Second label. Accuracy: %.2f%%\" % (multi_scores[4]*100))"
   ]
  },
  {
   "cell_type": "markdown",
   "metadata": {
    "collapsed": true
   },
   "source": [
    "### Grayscaled Images"
   ]
  },
  {
   "cell_type": "code",
   "execution_count": 197,
   "metadata": {
    "collapsed": true
   },
   "outputs": [],
   "source": [
    "hide_code\n",
    "def gray_multi_model():    \n",
    "    model_input = Input(shape=(32, 32, 1))\n",
    "    x = BatchNormalization()(model_input)\n",
    "    # TODO: Define a model architecture\n",
    "        \n",
    "    x = Conv2D(32, (5, 5), activation='relu', padding='same')(model_input)\n",
    "    x = MaxPooling2D(pool_size=(2, 2))(x)    \n",
    "    x = Dropout(0.25)(x)\n",
    "    \n",
    "    x = Conv2D(256, (5, 5), activation='relu', padding='same')(x)       \n",
    "    x = MaxPooling2D(pool_size=(2, 2))(x)    \n",
    "    x = Dropout(0.25)(x)\n",
    "              \n",
    "    x = GlobalMaxPooling2D()(x)\n",
    "    \n",
    "    x = Dense(1024, activation='relu')(x)    \n",
    "    x = Dropout(0.25)(x)\n",
    "    \n",
    "    x = Dense(256, activation='relu')(x)    \n",
    "    x = Dropout(0.25)(x)\n",
    "    \n",
    "    y1 = Dense(33, activation='softmax')(x)\n",
    "    y2 = Dense(2, activation='softmax')(x)\n",
    "    \n",
    "    # TODO: Compile the model    \n",
    "    model = Model(inputs=model_input, outputs=[y1, y2])\n",
    "\n",
    "    model.compile(loss='categorical_crossentropy', optimizer='rmsprop', metrics=['accuracy'])\n",
    "    return model\n",
    "\n",
    "gray_multi_model = gray_multi_model()"
   ]
  },
  {
   "cell_type": "code",
   "execution_count": 198,
   "metadata": {},
   "outputs": [
    {
     "name": "stdout",
     "output_type": "stream",
     "text": [
      "Epoch 00000: val_loss improved from inf to 4.18728, saving model to weights.best.gray_multi.hdf5\n",
      "Epoch 00001: val_loss improved from 4.18728 to 4.18499, saving model to weights.best.gray_multi.hdf5\n",
      "Epoch 00002: val_loss improved from 4.18499 to 4.18078, saving model to weights.best.gray_multi.hdf5\n",
      "Epoch 00003: val_loss improved from 4.18078 to 4.17840, saving model to weights.best.gray_multi.hdf5\n",
      "Epoch 00004: val_loss improved from 4.17840 to 4.16827, saving model to weights.best.gray_multi.hdf5\n",
      "Epoch 00005: val_loss improved from 4.16827 to 4.16135, saving model to weights.best.gray_multi.hdf5\n",
      "Epoch 00006: val_loss did not improve\n",
      "Epoch 00007: val_loss did not improve\n",
      "Epoch 00008: val_loss improved from 4.16135 to 4.14561, saving model to weights.best.gray_multi.hdf5\n",
      "Epoch 00009: val_loss improved from 4.14561 to 4.13014, saving model to weights.best.gray_multi.hdf5\n",
      "Epoch 00010: val_loss improved from 4.13014 to 4.12216, saving model to weights.best.gray_multi.hdf5\n",
      "Epoch 00011: val_loss did not improve\n",
      "Epoch 00012: val_loss did not improve\n",
      "Epoch 00013: val_loss improved from 4.12216 to 4.11837, saving model to weights.best.gray_multi.hdf5\n",
      "Epoch 00014: val_loss improved from 4.11837 to 4.11774, saving model to weights.best.gray_multi.hdf5\n",
      "Epoch 00015: val_loss improved from 4.11774 to 4.11624, saving model to weights.best.gray_multi.hdf5\n",
      "Epoch 00016: val_loss improved from 4.11624 to 4.10768, saving model to weights.best.gray_multi.hdf5\n",
      "Epoch 00017: val_loss did not improve\n",
      "Epoch 00018: val_loss improved from 4.10768 to 4.10137, saving model to weights.best.gray_multi.hdf5\n",
      "Epoch 00019: val_loss did not improve\n",
      "Epoch 00020: val_loss did not improve\n",
      "Epoch 00021: val_loss improved from 4.10137 to 4.09546, saving model to weights.best.gray_multi.hdf5\n",
      "Epoch 00022: val_loss did not improve\n",
      "Epoch 00023: val_loss improved from 4.09546 to 4.09267, saving model to weights.best.gray_multi.hdf5\n",
      "Epoch 00024: val_loss did not improve\n",
      "Epoch 00025: val_loss did not improve\n",
      "Epoch 00026: val_loss did not improve\n",
      "Epoch 00027: val_loss did not improve\n",
      "Epoch 00028: val_loss did not improve\n",
      "Epoch 00029: val_loss did not improve\n",
      "Epoch 00030: val_loss improved from 4.09267 to 4.08788, saving model to weights.best.gray_multi.hdf5\n",
      "Epoch 00031: val_loss did not improve\n",
      "Epoch 00032: val_loss improved from 4.08788 to 4.07802, saving model to weights.best.gray_multi.hdf5\n",
      "Epoch 00033: val_loss did not improve\n",
      "Epoch 00034: val_loss did not improve\n",
      "Epoch 00035: val_loss did not improve\n",
      "Epoch 00036: val_loss did not improve\n",
      "Epoch 00037: val_loss did not improve\n",
      "Epoch 00038: val_loss did not improve\n",
      "Epoch 00039: val_loss did not improve\n",
      "Epoch 00040: val_loss did not improve\n",
      "Epoch 00041: val_loss did not improve\n",
      "Epoch 00042: val_loss did not improve\n",
      "Epoch 00043: val_loss did not improve\n",
      "Epoch 00044: val_loss did not improve\n",
      "Epoch 00045: val_loss did not improve\n",
      "Epoch 00046: val_loss did not improve\n",
      "Epoch 00047: val_loss did not improve\n",
      "Epoch 00048: val_loss did not improve\n",
      "Epoch 00049: val_loss did not improve\n"
     ]
    }
   ],
   "source": [
    "hide_code\n",
    "# Train the model\n",
    "gray_multi_checkpointer = ModelCheckpoint(filepath='weights.best.gray_multi.hdf5', \n",
    "                                          verbose=2, save_best_only=True)\n",
    "gray_multi_history = gray_multi_model.fit(x_train4, y_train4_list, \n",
    "                                          validation_data=(x_test4, y_test4_list), \n",
    "                                          epochs=50, batch_size=64, verbose=0, \n",
    "                                          callbacks=[gray_multi_checkpointer])"
   ]
  },
  {
   "cell_type": "code",
   "execution_count": 199,
   "metadata": {},
   "outputs": [
    {
     "name": "stdout",
     "output_type": "stream",
     "text": [
      "Scores: \n",
      " [4.0780166568178116, 3.426785522518736, 0.65123110359365288, 0.048484848484848485, 0.60909090872966887]\n",
      "First label. Accuracy: 4.85%\n",
      "Second label. Accuracy: 60.91%\n"
     ]
    }
   ],
   "source": [
    "hide_code\n",
    "# Load the model with the best validation accuracy\n",
    "gray_multi_model.load_weights('weights.best.gray_multi.hdf5')\n",
    "# Calculate classification accuracy on the testing set\n",
    "gray_multi_scores = gray_multi_model.evaluate(x_test4, y_test4_list, verbose=0)\n",
    "\n",
    "print(\"Scores: \\n\" , (gray_multi_scores))\n",
    "print(\"First label. Accuracy: %.2f%%\" % (gray_multi_scores[3]*100))\n",
    "print(\"Second label. Accuracy: %.2f%%\" % (gray_multi_scores[4]*100))"
   ]
  },
  {
   "cell_type": "markdown",
   "metadata": {},
   "source": [
    "## Step 6. Keras Applications\n",
    "### Color Images"
   ]
  },
  {
   "cell_type": "code",
   "execution_count": 33,
   "metadata": {
    "collapsed": true
   },
   "outputs": [],
   "source": [
    "# Create bottleneck features\n",
    "resize_x_train = np.array([scipy.misc.imresize(x_train[i], (139, 139, 3)) \n",
    "                           for i in range(0, len(x_train))]).astype('float32')\n",
    "resize_x_test = np.array([scipy.misc.imresize(x_test[i], (139, 139, 3)) \n",
    "                          for i in range(0, len(x_test))]).astype('float32')\n",
    "iv3_x_train = preprocess_input(resize_x_train)\n",
    "iv3_x_test = preprocess_input(resize_x_test)\n",
    "iv3_base_model = InceptionV3(weights='imagenet', include_top=False)\n",
    "x_train_bn = iv3_base_model.predict(iv3_x_train)\n",
    "x_test_bn = iv3_base_model.predict(iv3_x_test)"
   ]
  },
  {
   "cell_type": "code",
   "execution_count": 34,
   "metadata": {
    "collapsed": true
   },
   "outputs": [],
   "source": [
    "# Save bottleneck features\n",
    "x_train_bn = np.squeeze(x_train_bn)\n",
    "x_test_bn = np.squeeze(x_test_bn)\n",
    "np.save('x_train_bn.npy', x_train_bn)\n",
    "np.save('x_test_bn.npy', x_test_bn)"
   ]
  },
  {
   "cell_type": "code",
   "execution_count": 35,
   "metadata": {
    "collapsed": true
   },
   "outputs": [],
   "source": [
    "# Load and reshape bottleneck features\n",
    "x_train_bn = np.load('x_train_bn.npy')\n",
    "x_test_bn = np.load('x_test_bn.npy')"
   ]
  },
  {
   "cell_type": "code",
   "execution_count": 112,
   "metadata": {
    "collapsed": true
   },
   "outputs": [],
   "source": [
    "hide_code\n",
    "def iv3_model():\n",
    "    model = Sequential()\n",
    "    # TODO: Define a model architecture\n",
    "    model.add(Conv2D(filters=32, kernel_size=2, input_shape=x_train_bn.shape[1:]))\n",
    "    model.add(Dropout(0.25))\n",
    "    \n",
    "    model.add(GlobalAveragePooling2D())\n",
    "    model.add(Dropout(0.25))\n",
    "    \n",
    "    model.add(Dense(2048, activation='relu'))\n",
    "    model.add(Dropout(0.25))\n",
    "        \n",
    "    model.add(Dense(1024, activation='relu'))\n",
    "    model.add(Dropout(0.25))\n",
    "    \n",
    "    model.add(Dense(33, activation='softmax'))\n",
    "    # TODO: Compile the model     \n",
    "    model.compile(loss='categorical_crossentropy', optimizer='rmsprop', metrics=['accuracy'])\n",
    "    return model\n",
    "\n",
    "iv3_model = iv3_model()"
   ]
  },
  {
   "cell_type": "code",
   "execution_count": 113,
   "metadata": {},
   "outputs": [
    {
     "name": "stdout",
     "output_type": "stream",
     "text": [
      "Epoch 00000: val_loss improved from inf to 3.57872, saving model to weights.best.iv3.hdf5\n",
      "Epoch 00001: val_loss improved from 3.57872 to 3.18319, saving model to weights.best.iv3.hdf5\n",
      "Epoch 00002: val_loss did not improve\n",
      "Epoch 00003: val_loss improved from 3.18319 to 2.91509, saving model to weights.best.iv3.hdf5\n",
      "Epoch 00004: val_loss improved from 2.91509 to 2.82630, saving model to weights.best.iv3.hdf5\n",
      "Epoch 00005: val_loss did not improve\n",
      "Epoch 00006: val_loss did not improve\n",
      "Epoch 00007: val_loss improved from 2.82630 to 2.69296, saving model to weights.best.iv3.hdf5\n",
      "Epoch 00008: val_loss improved from 2.69296 to 2.68222, saving model to weights.best.iv3.hdf5\n",
      "Epoch 00009: val_loss improved from 2.68222 to 2.59544, saving model to weights.best.iv3.hdf5\n",
      "Epoch 00010: val_loss did not improve\n",
      "Epoch 00011: val_loss improved from 2.59544 to 2.52077, saving model to weights.best.iv3.hdf5\n",
      "Epoch 00012: val_loss did not improve\n",
      "Epoch 00013: val_loss did not improve\n",
      "Epoch 00014: val_loss did not improve\n",
      "Epoch 00015: val_loss improved from 2.52077 to 2.46612, saving model to weights.best.iv3.hdf5\n",
      "Epoch 00016: val_loss did not improve\n",
      "Epoch 00017: val_loss did not improve\n",
      "Epoch 00018: val_loss improved from 2.46612 to 2.34711, saving model to weights.best.iv3.hdf5\n",
      "Epoch 00019: val_loss did not improve\n",
      "Epoch 00020: val_loss did not improve\n",
      "Epoch 00021: val_loss did not improve\n",
      "Epoch 00022: val_loss improved from 2.34711 to 2.33891, saving model to weights.best.iv3.hdf5\n",
      "Epoch 00023: val_loss did not improve\n",
      "Epoch 00024: val_loss did not improve\n",
      "Epoch 00025: val_loss did not improve\n",
      "Epoch 00026: val_loss did not improve\n",
      "Epoch 00027: val_loss did not improve\n",
      "Epoch 00028: val_loss improved from 2.33891 to 2.20952, saving model to weights.best.iv3.hdf5\n",
      "Epoch 00029: val_loss did not improve\n",
      "Epoch 00030: val_loss did not improve\n",
      "Epoch 00031: val_loss did not improve\n",
      "Epoch 00032: val_loss did not improve\n",
      "Epoch 00033: val_loss did not improve\n",
      "Epoch 00034: val_loss did not improve\n",
      "Epoch 00035: val_loss did not improve\n",
      "Epoch 00036: val_loss did not improve\n",
      "Epoch 00037: val_loss did not improve\n",
      "Epoch 00038: val_loss did not improve\n",
      "Epoch 00039: val_loss did not improve\n",
      "Epoch 00040: val_loss did not improve\n",
      "Epoch 00041: val_loss did not improve\n",
      "Epoch 00042: val_loss did not improve\n",
      "Epoch 00043: val_loss did not improve\n",
      "Epoch 00044: val_loss did not improve\n",
      "Epoch 00045: val_loss did not improve\n",
      "Epoch 00046: val_loss did not improve\n",
      "Epoch 00047: val_loss did not improve\n",
      "Epoch 00048: val_loss did not improve\n",
      "Epoch 00049: val_loss did not improve\n"
     ]
    }
   ],
   "source": [
    "hide_code\n",
    "# Fit the model \n",
    "iv3_checkpointer = ModelCheckpoint(filepath='weights.best.iv3.hdf5', \n",
    "                                     verbose=2, save_best_only=True)\n",
    "iv3_history = iv3_model.fit(x_train_bn, y_train, \n",
    "                            validation_data=(x_test_bn, y_test),\n",
    "                            epochs=50, batch_size=64, \n",
    "                            callbacks=[iv3_checkpointer], verbose=0);"
   ]
  },
  {
   "cell_type": "code",
   "execution_count": 114,
   "metadata": {},
   "outputs": [
    {
     "data": {
      "image/png": "[encoded data removed]",
      "text/plain": [
       "<matplotlib.figure.Figure at 0x1796770f0>"
      ]
     },
     "metadata": {},
     "output_type": "display_data"
    }
   ],
   "source": [
    "hide_code\n",
    "# Plot the training history\n",
    "history_plot(iv3_history, 0)"
   ]
  },
  {
   "cell_type": "code",
   "execution_count": 115,
   "metadata": {},
   "outputs": [
    {
     "name": "stdout",
     "output_type": "stream",
     "text": [
      "288/330 [=========================>....] - ETA: 0sAccuracy: 41.82%\n"
     ]
    },
    {
     "data": {
      "text/plain": [
       "[2.2095229192213579, 0.41818181890429873]"
      ]
     },
     "execution_count": 115,
     "metadata": {},
     "output_type": "execute_result"
    }
   ],
   "source": [
    "hide_code\n",
    "# Load the model with the best validation accuracy\n",
    "iv3_model.load_weights('weights.best.iv3.hdf5')\n",
    "# Calculate classification accuracy on the testing set\n",
    "iv3_scores = iv3_model.evaluate(x_test_bn, y_test)\n",
    "print(\"Accuracy: %.2f%%\" % (iv3_scores[1]*100))\n",
    "iv3_scores"
   ]
  },
  {
   "cell_type": "markdown",
   "metadata": {},
   "source": [
    "### Grayscaled Images"
   ]
  },
  {
   "cell_type": "code",
   "execution_count": null,
   "metadata": {
    "collapsed": true
   },
   "outputs": [],
   "source": []
  },
  {
   "cell_type": "code",
   "execution_count": null,
   "metadata": {
    "collapsed": true
   },
   "outputs": [],
   "source": []
  },
  {
   "cell_type": "markdown",
   "metadata": {},
   "source": [
    "## Step 7. Predictions\n",
    "### Color Images"
   ]
  },
  {
   "cell_type": "code",
   "execution_count": null,
   "metadata": {
    "collapsed": true
   },
   "outputs": [],
   "source": []
  },
  {
   "cell_type": "code",
   "execution_count": null,
   "metadata": {
    "collapsed": true
   },
   "outputs": [],
   "source": []
  },
  {
   "cell_type": "markdown",
   "metadata": {},
   "source": [
    "### Grayscaled Images"
   ]
  },
  {
   "cell_type": "code",
   "execution_count": null,
   "metadata": {
    "collapsed": true
   },
   "outputs": [],
   "source": []
  },
  {
   "cell_type": "code",
   "execution_count": null,
   "metadata": {
    "collapsed": true
   },
   "outputs": [],
   "source": []
  }
 ],
 "metadata": {
  "kernelspec": {
   "display_name": "Python 3",
   "language": "python",
   "name": "python3"
  },
  "language_info": {
   "codemirror_mode": {
    "name": "ipython",
    "version": 3
   },
   "file_extension": ".py",
   "mimetype": "text/x-python",
   "name": "python",
   "nbconvert_exporter": "python",
   "pygments_lexer": "ipython3",
   "version": "3.6.1"
  }
 },
 "nbformat": 4,
 "nbformat_minor": 2
}
