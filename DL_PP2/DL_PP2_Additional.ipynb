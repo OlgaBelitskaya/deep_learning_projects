{
 "cells": [
  {
   "cell_type": "markdown",
   "metadata": {},
   "source": [
    "# Deep Learning\n",
    "## Practice Projects\n",
    "# P2 Additional: Noise Reduction for Multi-Label Classification\n",
    "## Style and Libraries"
   ]
  },
  {
   "cell_type": "code",
   "execution_count": 1,
   "metadata": {},
   "outputs": [
    {
     "data": {
      "text/html": [
       "<style>\n",
       "@import url('https://fonts.googleapis.com/css?family=Orbitron|Roboto');\n",
       "body {background-color: aliceblue;} \n",
       "a {color: #4876ff; font-family: 'Roboto';} \n",
       "h1 {color: #348ABD; font-family: 'Orbitron'; text-shadow: 4px 4px 4px #ccc;} \n",
       "h2, h3 {color: slategray; font-family: 'Roboto'; text-shadow: 4px 4px 4px #ccc;}\n",
       "h4 {color: #348ABD; font-family: 'Orbitron';}\n",
       "span {text-shadow: 4px 4px 4px #ccc;}\n",
       "div.output_prompt, div.output_area pre {color: slategray;}\n",
       "div.input_prompt, div.output_subarea {color: #4876ff;}      \n",
       "div.output_stderr pre {background-color: aliceblue;}  \n",
       "div.output_stderr {background-color: slategrey;}                        \n",
       "</style>\n",
       "<script>\n",
       "code_show = true; \n",
       "function code_display() {\n",
       "    if (code_show) {\n",
       "        $('div.input').each(function(id) {\n",
       "            if (id == 0 || $(this).html().indexOf('hide_code') > -1) {$(this).hide();}\n",
       "        });\n",
       "        $('div.output_prompt').css('opacity', 0);\n",
       "    } else {\n",
       "        $('div.input').each(function(id) {$(this).show();});\n",
       "        $('div.output_prompt').css('opacity', 1);\n",
       "    };\n",
       "    code_show = !code_show;\n",
       "} \n",
       "$(document).ready(code_display);\n",
       "</script>\n",
       "<form action=\"javascript: code_display()\">\n",
       "<input style=\"color: #348ABD; background: aliceblue; opacity: 0.8;\" \\ \n",
       "type=\"submit\" value=\"Click to display or hide code cells\">\n",
       "</form>                 "
      ],
      "text/plain": [
       "<IPython.core.display.HTML object>"
      ]
     },
     "metadata": {},
     "output_type": "display_data"
    }
   ],
   "source": [
    "%%html\n",
    "<style>\n",
    "@import url('https://fonts.googleapis.com/css?family=Orbitron|Roboto');\n",
    "body {background-color: aliceblue;} \n",
    "a {color: #4876ff; font-family: 'Roboto';} \n",
    "h1 {color: #348ABD; font-family: 'Orbitron'; text-shadow: 4px 4px 4px #ccc;} \n",
    "h2, h3 {color: slategray; font-family: 'Roboto'; text-shadow: 4px 4px 4px #ccc;}\n",
    "h4 {color: #348ABD; font-family: 'Orbitron';}\n",
    "span {text-shadow: 4px 4px 4px #ccc;}\n",
    "div.output_prompt, div.output_area pre {color: slategray;}\n",
    "div.input_prompt, div.output_subarea {color: #4876ff;}      \n",
    "div.output_stderr pre {background-color: aliceblue;}  \n",
    "div.output_stderr {background-color: slategrey;}                        \n",
    "</style>\n",
    "<script>\n",
    "code_show = true; \n",
    "function code_display() {\n",
    "    if (code_show) {\n",
    "        $('div.input').each(function(id) {\n",
    "            if (id == 0 || $(this).html().indexOf('hide_code') > -1) {$(this).hide();}\n",
    "        });\n",
    "        $('div.output_prompt').css('opacity', 0);\n",
    "    } else {\n",
    "        $('div.input').each(function(id) {$(this).show();});\n",
    "        $('div.output_prompt').css('opacity', 1);\n",
    "    };\n",
    "    code_show = !code_show;\n",
    "} \n",
    "$(document).ready(code_display);\n",
    "</script>\n",
    "<form action=\"javascript: code_display()\">\n",
    "<input style=\"color: #348ABD; background: aliceblue; opacity: 0.8;\" \\ \n",
    "type=\"submit\" value=\"Click to display or hide code cells\">\n",
    "</form>                 "
   ]
  },
  {
   "cell_type": "code",
   "execution_count": 123,
   "metadata": {},
   "outputs": [],
   "source": [
    "hide_code = ''\n",
    "import numpy as np \n",
    "import pandas as pd\n",
    "import math\n",
    "\n",
    "import tensorflow as tf\n",
    "\n",
    "from sklearn.model_selection import train_test_split\n",
    "from keras.utils import to_categorical\n",
    "\n",
    "import h5py\n",
    "import cv2\n",
    "\n",
    "from keras.models import Sequential, load_model, Model\n",
    "from keras.layers import Input, UpSampling2D\n",
    "from keras.layers import Dense, LSTM, GlobalAveragePooling1D, GlobalAveragePooling2D\n",
    "from keras.layers import Activation, Flatten, Dropout, BatchNormalization\n",
    "from keras.layers import Conv2D, MaxPooling2D, GlobalMaxPooling2D\n",
    "\n",
    "import matplotlib.pylab as plt\n",
    "from matplotlib import cm\n",
    "%matplotlib inline"
   ]
  },
  {
   "cell_type": "markdown",
   "metadata": {},
   "source": [
    "## Step 1. Load and Explore the Data"
   ]
  },
  {
   "cell_type": "code",
   "execution_count": 179,
   "metadata": {},
   "outputs": [
    {
     "data": {
      "text/plain": [
       "['backgrounds', 'images', 'labels']"
      ]
     },
     "execution_count": 179,
     "metadata": {},
     "output_type": "execute_result"
    }
   ],
   "source": [
    "hide_code\n",
    "# Read the h5 file\n",
    "f = h5py.File('LetterColorImages3.h5', 'r')\n",
    "\n",
    "# List all groups\n",
    "keys = list(f.keys())\n",
    "keys"
   ]
  },
  {
   "cell_type": "code",
   "execution_count": 180,
   "metadata": {},
   "outputs": [
    {
     "name": "stdout",
     "output_type": "stream",
     "text": [
      "Tensor shape: (9540, 32, 32, 3)\n",
      "Target shape (9540,)\n",
      "Background shape: (9540,)\n"
     ]
    }
   ],
   "source": [
    "hide_code\n",
    "# Create tensors and targets\n",
    "backgrounds = np.array(f[keys[0]])\n",
    "tensors = np.array(f[keys[1]])\n",
    "targets = np.array(f[keys[2]])\n",
    "print ('Tensor shape:', tensors.shape)\n",
    "print ('Target shape', targets.shape)\n",
    "print ('Background shape:', backgrounds.shape)"
   ]
  },
  {
   "cell_type": "code",
   "execution_count": 181,
   "metadata": {},
   "outputs": [
    {
     "data": {
      "image/png": "[encoded data removed]",
      "text/plain": [
       "<matplotlib.figure.Figure at 0x127d07128>"
      ]
     },
     "metadata": {},
     "output_type": "display_data"
    }
   ],
   "source": [
    "hide_code\n",
    "# Plot letter images\n",
    "fig, ax = plt.subplots(figsize=(18, 3), nrows=1, ncols=5, sharex=True, sharey=True,)\n",
    "ax = ax.flatten()\n",
    "for i in range(5):\n",
    "    image = tensors[i*2000]/255\n",
    "    ax[i].imshow(image)\n",
    "\n",
    "ax[0].set_xticks([])\n",
    "ax[0].set_yticks([])\n",
    "plt.tight_layout()\n",
    "plt.gcf()\n",
    "ax[2].set_title('Examples of letters', fontsize=25);"
   ]
  },
  {
   "cell_type": "markdown",
   "metadata": {},
   "source": [
    "## Step 2. Preprocess"
   ]
  },
  {
   "cell_type": "code",
   "execution_count": 182,
   "metadata": {
    "collapsed": true
   },
   "outputs": [],
   "source": [
    "hide_code\n",
    "# Normalize the tensors\n",
    "tensors = tensors.astype('float32')/255"
   ]
  },
  {
   "cell_type": "code",
   "execution_count": 183,
   "metadata": {},
   "outputs": [
    {
     "name": "stdout",
     "output_type": "stream",
     "text": [
      "Grayscaled Tensor shape: (9540, 32, 32, 1)\n"
     ]
    }
   ],
   "source": [
    "hide_code\n",
    "# Grayscaled tensors\n",
    "gray_tensors = np.dot(tensors[...,:3], [0.299, 0.587, 0.114])\n",
    "gray_tensors = gray_tensors.reshape(-1, 32, 32, 1)\n",
    "print ('Grayscaled Tensor shape:', gray_tensors.shape)"
   ]
  },
  {
   "cell_type": "code",
   "execution_count": 184,
   "metadata": {},
   "outputs": [
    {
     "data": {
      "text/plain": [
       "(9540, 33)"
      ]
     },
     "execution_count": 184,
     "metadata": {},
     "output_type": "execute_result"
    }
   ],
   "source": [
    "hide_code\n",
    "# One-hot encode the targets, started from the zero label\n",
    "cat_targets = to_categorical(np.array(targets-1), 33)\n",
    "cat_targets.shape"
   ]
  },
  {
   "cell_type": "code",
   "execution_count": 185,
   "metadata": {},
   "outputs": [
    {
     "data": {
      "text/plain": [
       "(9540, 2)"
      ]
     },
     "execution_count": 185,
     "metadata": {},
     "output_type": "execute_result"
    }
   ],
   "source": [
    "hide_code\n",
    "# One-hot encode the background targets\n",
    "backgrounds = to_categorical(backgrounds-2,2)\n",
    "backgrounds.shape"
   ]
  },
  {
   "cell_type": "code",
   "execution_count": 186,
   "metadata": {},
   "outputs": [
    {
     "data": {
      "text/plain": [
       "(9540, 35)"
      ]
     },
     "execution_count": 186,
     "metadata": {},
     "output_type": "execute_result"
    }
   ],
   "source": [
    "hide_code\n",
    "# Create multi-label targets\n",
    "back_targets = np.concatenate((cat_targets, backgrounds), axis=1)\n",
    "back_targets.shape"
   ]
  },
  {
   "cell_type": "code",
   "execution_count": 187,
   "metadata": {},
   "outputs": [],
   "source": [
    "hide_code\n",
    "# Split the grayscaled data\n",
    "x_train, x_test, y_train, y_test = train_test_split(gray_tensors, cat_targets, \n",
    "                                                    test_size = 0.2, \n",
    "                                                    random_state = 1)\n",
    "\n",
    "n = int(len(x_test)/2)\n",
    "x_valid, y_valid = x_test[:n], y_test[:n]\n",
    "x_test, y_test = x_test[n:], y_test[n:]"
   ]
  },
  {
   "cell_type": "code",
   "execution_count": 188,
   "metadata": {
    "collapsed": true
   },
   "outputs": [],
   "source": [
    "hide_code\n",
    "# Split the grayscaled data\n",
    "x_train2, x_test2, y_train2, y_test2 = train_test_split(gray_tensors, back_targets, \n",
    "                                                        test_size = 0.2, \n",
    "                                                        random_state = 1)\n",
    "n = int(len(x_test2)/2)\n",
    "x_valid2, y_valid2 = x_test2[:n], y_test2[:n]\n",
    "x_test2, y_test2 = x_test2[n:], y_test2[n:]"
   ]
  },
  {
   "cell_type": "markdown",
   "metadata": {},
   "source": [
    "## Step 3. Create Neural Networks for Noise Reduction\n",
    "#### TensorFlow; Less Compressed Images"
   ]
  },
  {
   "cell_type": "code",
   "execution_count": 189,
   "metadata": {},
   "outputs": [],
   "source": [
    "hide_code\n",
    "# NN for noise reduction\n",
    "\n",
    "inputs_ = tf.placeholder(tf.float32, (None, 32, 32, 1), name='inputs')\n",
    "targets_ = tf.placeholder(tf.float32, (None, 32, 32, 1), name='targets')\n",
    "\n",
    "### Encoder\n",
    "conv1 = tf.layers.conv2d(inputs_, 32, (3,3), padding='same', activation=tf.nn.relu)\n",
    "# Now 32x32x32\n",
    "maxpool1 = tf.layers.max_pooling2d(conv1, (2,2), (2,2), padding='same')\n",
    "# Now 16x16x32\n",
    "conv2 = tf.layers.conv2d(maxpool1, 16, (3,3), padding='same', activation=tf.nn.relu)\n",
    "# Now 16x16x16\n",
    "maxpool2 = tf.layers.max_pooling2d(conv2, (2,2), (2,2), padding='same')\n",
    "# Now 8x8x16\n",
    "conv3 = tf.layers.conv2d(maxpool2, 16, (3,3), padding='same', activation=tf.nn.relu)\n",
    "# Now 8x8x16\n",
    "encoded = tf.layers.max_pooling2d(conv3, (2,2), (2,2), padding='same')\n",
    "# Now 4x4x16\n",
    "\n",
    "### Decoder\n",
    "upsample1 = tf.image.resize_nearest_neighbor(encoded, (8,8))\n",
    "# Now 8x8x16\n",
    "conv4 = tf.layers.conv2d(upsample1, 16, (3,3), padding='same', activation=tf.nn.relu)\n",
    "# Now 8x8x16\n",
    "upsample2 = tf.image.resize_nearest_neighbor(conv4, (16,16))\n",
    "# Now 16x16x16\n",
    "conv5 = tf.layers.conv2d(upsample2, 16, (3,3), padding='same', activation=tf.nn.relu)\n",
    "# Now 16x16x16\n",
    "upsample3 = tf.image.resize_nearest_neighbor(conv5, (32,32))\n",
    "# Now 32x32x16\n",
    "conv6 = tf.layers.conv2d(upsample3, 32, (3,3), padding='same', activation=tf.nn.relu)\n",
    "# Now 32x32x32\n",
    "\n",
    "logits = tf.layers.conv2d(conv6, 1, (3,3), padding='same', activation=None)\n",
    "# Now 32x32x1\n",
    "\n",
    "decoded = tf.nn.sigmoid(logits, name='decoded')\n",
    "\n",
    "loss = tf.nn.sigmoid_cross_entropy_with_logits(labels=targets_, logits=logits)\n",
    "cost = tf.reduce_mean(loss)\n",
    "opt = tf.train.AdamOptimizer(0.001).minimize(cost)"
   ]
  },
  {
   "cell_type": "code",
   "execution_count": 190,
   "metadata": {
    "collapsed": true
   },
   "outputs": [],
   "source": [
    "hide_code\n",
    "# Function for creating batches\n",
    "def get_batches(images, batch_size):\n",
    "    current_index = 0\n",
    "    while current_index + batch_size <= images.shape[0]:\n",
    "        data_batch = images[current_index:current_index + batch_size]\n",
    "        current_index += batch_size\n",
    "        yield data_batch    "
   ]
  },
  {
   "cell_type": "code",
   "execution_count": 191,
   "metadata": {
    "collapsed": true
   },
   "outputs": [],
   "source": [
    "hide_code\n",
    "# Define parameters\n",
    "epochs = 100\n",
    "batch_size = 64\n",
    "train_step = 0"
   ]
  },
  {
   "cell_type": "code",
   "execution_count": 192,
   "metadata": {},
   "outputs": [
    {
     "name": "stdout",
     "output_type": "stream",
     "text": [
      "Epoch: 2/100... Training loss: 0.6332\n",
      "Epoch: 3/100... Training loss: 0.6765\n",
      "Epoch: 5/100... Training loss: 0.6876\n",
      "Epoch: 6/100... Training loss: 0.6865\n",
      "Epoch: 7/100... Training loss: 0.6636\n",
      "Epoch: 9/100... Training loss: 0.6309\n",
      "Epoch: 10/100... Training loss: 0.6238\n",
      "Epoch: 11/100... Training loss: 0.6310\n",
      "Epoch: 13/100... Training loss: 0.6809\n",
      "Epoch: 14/100... Training loss: 0.6240\n",
      "Epoch: 15/100... Training loss: 0.5932\n",
      "Epoch: 17/100... Training loss: 0.6779\n",
      "Epoch: 18/100... Training loss: 0.6797\n",
      "Epoch: 19/100... Training loss: 0.6389\n",
      "Epoch: 21/100... Training loss: 0.6736\n",
      "Epoch: 22/100... Training loss: 0.6602\n",
      "Epoch: 23/100... Training loss: 0.6260\n",
      "Epoch: 25/100... Training loss: 0.6159\n",
      "Epoch: 26/100... Training loss: 0.6238\n",
      "Epoch: 27/100... Training loss: 0.6402\n",
      "Epoch: 29/100... Training loss: 0.6167\n",
      "Epoch: 30/100... Training loss: 0.6235\n",
      "Epoch: 31/100... Training loss: 0.6369\n",
      "Epoch: 33/100... Training loss: 0.6241\n",
      "Epoch: 34/100... Training loss: 0.6204\n",
      "Epoch: 35/100... Training loss: 0.6480\n",
      "Epoch: 37/100... Training loss: 0.6303\n",
      "Epoch: 38/100... Training loss: 0.6417\n",
      "Epoch: 39/100... Training loss: 0.6175\n",
      "Epoch: 41/100... Training loss: 0.6401\n",
      "Epoch: 42/100... Training loss: 0.6298\n",
      "Epoch: 43/100... Training loss: 0.6303\n",
      "Epoch: 45/100... Training loss: 0.6219\n",
      "Epoch: 46/100... Training loss: 0.6137\n",
      "Epoch: 47/100... Training loss: 0.6360\n",
      "Epoch: 49/100... Training loss: 0.6782\n",
      "Epoch: 50/100... Training loss: 0.6216\n",
      "Epoch: 52/100... Training loss: 0.6173\n",
      "Epoch: 53/100... Training loss: 0.6178\n",
      "Epoch: 54/100... Training loss: 0.6806\n",
      "Epoch: 56/100... Training loss: 0.6800\n",
      "Epoch: 57/100... Training loss: 0.6757\n",
      "Epoch: 58/100... Training loss: 0.6099\n",
      "Epoch: 60/100... Training loss: 0.6809\n",
      "Epoch: 61/100... Training loss: 0.5998\n",
      "Epoch: 62/100... Training loss: 0.6158\n",
      "Epoch: 64/100... Training loss: 0.6797\n",
      "Epoch: 65/100... Training loss: 0.6310\n",
      "Epoch: 66/100... Training loss: 0.6357\n",
      "Epoch: 68/100... Training loss: 0.6696\n",
      "Epoch: 69/100... Training loss: 0.6569\n",
      "Epoch: 70/100... Training loss: 0.6340\n",
      "Epoch: 72/100... Training loss: 0.6749\n",
      "Epoch: 73/100... Training loss: 0.6797\n",
      "Epoch: 74/100... Training loss: 0.6033\n",
      "Epoch: 76/100... Training loss: 0.6326\n",
      "Epoch: 77/100... Training loss: 0.6272\n",
      "Epoch: 78/100... Training loss: 0.6049\n",
      "Epoch: 80/100... Training loss: 0.6289\n",
      "Epoch: 81/100... Training loss: 0.6329\n",
      "Epoch: 82/100... Training loss: 0.6420\n",
      "Epoch: 84/100... Training loss: 0.6859\n",
      "Epoch: 85/100... Training loss: 0.6296\n",
      "Epoch: 86/100... Training loss: 0.6224\n",
      "Epoch: 88/100... Training loss: 0.6419\n",
      "Epoch: 89/100... Training loss: 0.6592\n",
      "Epoch: 90/100... Training loss: 0.5986\n",
      "Epoch: 92/100... Training loss: 0.6185\n",
      "Epoch: 93/100... Training loss: 0.6789\n",
      "Epoch: 94/100... Training loss: 0.6080\n",
      "Epoch: 96/100... Training loss: 0.6193\n",
      "Epoch: 97/100... Training loss: 0.6261\n",
      "Epoch: 98/100... Training loss: 0.6815\n",
      "Epoch: 100/100... Training loss: 0.6820\n"
     ]
    }
   ],
   "source": [
    "hide_code\n",
    "# Run the tensorflow session \n",
    "sess = tf.Session()\n",
    "sess.run(tf.global_variables_initializer())\n",
    "gray_tensors1 = np.copy(gray_tensors)\n",
    "\n",
    "for e in range(epochs):\n",
    "    for batch_images in get_batches(gray_tensors1, batch_size):\n",
    "        train_step += 1\n",
    "        batch_cost, _ = sess.run([cost, opt], feed_dict={inputs_: batch_images,\n",
    "                                                         targets_: batch_images})\n",
    "        if train_step % 200 == 0:\n",
    "            print(\"Epoch: {}/{}...\".format(e+1, epochs),\n",
    "                  \"Training loss: {:.4f}\".format(batch_cost))"
   ]
  },
  {
   "cell_type": "code",
   "execution_count": 193,
   "metadata": {},
   "outputs": [
    {
     "data": {
      "image/png": "[encoded data removed]",
      "text/plain": [
       "<matplotlib.figure.Figure at 0x11ae6b9e8>"
      ]
     },
     "metadata": {},
     "output_type": "display_data"
    }
   ],
   "source": [
    "hide_code\n",
    "# Display original grayscaled images\n",
    "fig, ax = plt.subplots(figsize=(18, 3), nrows=1, ncols=5, sharex=True, sharey=True,)\n",
    "ax = ax.flatten()\n",
    "for i in range(5):\n",
    "    image = gray_tensors[i*2000].reshape(32,32)\n",
    "    ax[i].imshow(image, cmap=cm.bone)\n",
    "\n",
    "ax[0].set_xticks([])\n",
    "ax[0].set_yticks([])\n",
    "plt.tight_layout()\n",
    "plt.gcf()\n",
    "ax[2].set_title('Examples of grayscaled images', fontsize=25);"
   ]
  },
  {
   "cell_type": "code",
   "execution_count": 194,
   "metadata": {},
   "outputs": [
    {
     "data": {
      "image/png": "[encoded data removed]",
      "text/plain": [
       "<matplotlib.figure.Figure at 0x127cab1d0>"
      ]
     },
     "metadata": {},
     "output_type": "display_data"
    }
   ],
   "source": [
    "hide_code\n",
    "# Display output grayscaled images\n",
    "fig, ax = plt.subplots(figsize=(18, 3), nrows=1, ncols=5, sharex=True, sharey=True,)\n",
    "ax = ax.flatten()\n",
    "for i in range(5):\n",
    "    image = gray_tensors1[i*2000].reshape(32,32)\n",
    "    ax[i].imshow(image, cmap=cm.bone)\n",
    "\n",
    "ax[0].set_xticks([])\n",
    "ax[0].set_yticks([])\n",
    "plt.tight_layout()\n",
    "plt.gcf()\n",
    "ax[2].set_title('Examples of cleaned images. TensorFlow', fontsize=25);"
   ]
  },
  {
   "cell_type": "markdown",
   "metadata": {},
   "source": [
    "#### Keras; More Compressed Images"
   ]
  },
  {
   "cell_type": "code",
   "execution_count": 195,
   "metadata": {},
   "outputs": [],
   "source": [
    "hide_code\n",
    "def autoencoder():\n",
    "    inputs = Input(shape=(32, 32, 1))\n",
    "    \n",
    "    # Encode\n",
    "    x = Conv2D(32, 3, activation='relu', padding='same')(inputs)\n",
    "    x = MaxPooling2D(padding='same')(x)\n",
    "    \n",
    "    x = Conv2D(16, 3, activation='relu', padding='same')(x)\n",
    "    x = MaxPooling2D(padding='same')(x)\n",
    "    \n",
    "    x = Conv2D(8, 3, activation='relu', padding='same')(x)\n",
    "    encoded = MaxPooling2D(padding='same')(x)    \n",
    "    \n",
    "    # Decode\n",
    "    x = Conv2D(8, 3, activation='relu', padding='same')(encoded)\n",
    "    x = UpSampling2D()(x)\n",
    "    \n",
    "    x = Conv2D(16, 3, activation='relu', padding='same')(x)\n",
    "    x = UpSampling2D()(x)\n",
    "    \n",
    "    x = Conv2D(32, 3, activation='relu', padding='same')(x) \n",
    "    x = UpSampling2D()(x)\n",
    "    \n",
    "    decoded = Conv2D(1, 3, activation='sigmoid', padding='same')(x)\n",
    "    \n",
    "    # Autoencoder\n",
    "    autoencoder = Model(inputs, decoded)\n",
    "    \n",
    "    # Compile\n",
    "    autoencoder.compile(optimizer='adam', loss='binary_crossentropy')\n",
    "    \n",
    "    return autoencoder\n",
    "\n",
    "autoencoder = autoencoder()"
   ]
  },
  {
   "cell_type": "code",
   "execution_count": 196,
   "metadata": {},
   "outputs": [
    {
     "name": "stdout",
     "output_type": "stream",
     "text": [
      "_________________________________________________________________\n",
      "Layer (type)                 Output Shape              Param #   \n",
      "=================================================================\n",
      "input_18 (InputLayer)        (None, 32, 32, 1)         0         \n",
      "_________________________________________________________________\n",
      "conv2d_120 (Conv2D)          (None, 32, 32, 32)        320       \n",
      "_________________________________________________________________\n",
      "max_pooling2d_52 (MaxPooling (None, 16, 16, 32)        0         \n",
      "_________________________________________________________________\n",
      "conv2d_121 (Conv2D)          (None, 16, 16, 16)        4624      \n",
      "_________________________________________________________________\n",
      "max_pooling2d_53 (MaxPooling (None, 8, 8, 16)          0         \n",
      "_________________________________________________________________\n",
      "conv2d_122 (Conv2D)          (None, 8, 8, 8)           1160      \n",
      "_________________________________________________________________\n",
      "max_pooling2d_54 (MaxPooling (None, 4, 4, 8)           0         \n",
      "_________________________________________________________________\n",
      "conv2d_123 (Conv2D)          (None, 4, 4, 8)           584       \n",
      "_________________________________________________________________\n",
      "up_sampling2d_52 (UpSampling (None, 8, 8, 8)           0         \n",
      "_________________________________________________________________\n",
      "conv2d_124 (Conv2D)          (None, 8, 8, 16)          1168      \n",
      "_________________________________________________________________\n",
      "up_sampling2d_53 (UpSampling (None, 16, 16, 16)        0         \n",
      "_________________________________________________________________\n",
      "conv2d_125 (Conv2D)          (None, 16, 16, 32)        4640      \n",
      "_________________________________________________________________\n",
      "up_sampling2d_54 (UpSampling (None, 32, 32, 32)        0         \n",
      "_________________________________________________________________\n",
      "conv2d_126 (Conv2D)          (None, 32, 32, 1)         289       \n",
      "=================================================================\n",
      "Total params: 12,785\n",
      "Trainable params: 12,785\n",
      "Non-trainable params: 0\n",
      "_________________________________________________________________\n"
     ]
    }
   ],
   "source": [
    "hide_code\n",
    "# Display autoencoder architecture \n",
    "autoencoder.summary()"
   ]
  },
  {
   "cell_type": "code",
   "execution_count": 197,
   "metadata": {},
   "outputs": [
    {
     "name": "stdout",
     "output_type": "stream",
     "text": [
      "Train on 7632 samples, validate on 954 samples\n",
      "Epoch 1/100\n",
      "7632/7632 [==============================] - 60s - loss: 0.6610 - val_loss: 0.6512\n",
      "Epoch 2/100\n",
      "7632/7632 [==============================] - 35s - loss: 0.6459 - val_loss: 0.6477\n",
      "Epoch 3/100\n",
      "7632/7632 [==============================] - 35s - loss: 0.6451 - val_loss: 0.6474\n",
      "Epoch 4/100\n",
      "7632/7632 [==============================] - 36s - loss: 0.6448 - val_loss: 0.6474\n",
      "Epoch 5/100\n",
      "7632/7632 [==============================] - 38s - loss: 0.6446 - val_loss: 0.6471\n",
      "Epoch 6/100\n",
      "7632/7632 [==============================] - 36s - loss: 0.6445 - val_loss: 0.6469\n",
      "Epoch 7/100\n",
      "7632/7632 [==============================] - 36s - loss: 0.6444 - val_loss: 0.6468\n",
      "Epoch 8/100\n",
      "7632/7632 [==============================] - 37s - loss: 0.6443 - val_loss: 0.6468\n",
      "Epoch 9/100\n",
      "7632/7632 [==============================] - 37s - loss: 0.6443 - val_loss: 0.6466\n",
      "Epoch 10/100\n",
      "7632/7632 [==============================] - 36s - loss: 0.6442 - val_loss: 0.6466\n",
      "Epoch 11/100\n",
      "7632/7632 [==============================] - 35s - loss: 0.6442 - val_loss: 0.6466\n",
      "Epoch 12/100\n",
      "7632/7632 [==============================] - 35s - loss: 0.6441 - val_loss: 0.6466\n",
      "Epoch 13/100\n",
      "7632/7632 [==============================] - 36s - loss: 0.6441 - val_loss: 0.6465\n",
      "Epoch 14/100\n",
      "7632/7632 [==============================] - 36s - loss: 0.6441 - val_loss: 0.6464\n",
      "Epoch 15/100\n",
      "7632/7632 [==============================] - 36s - loss: 0.6441 - val_loss: 0.6466\n",
      "Epoch 16/100\n",
      "7632/7632 [==============================] - 34s - loss: 0.6440 - val_loss: 0.6464\n",
      "Epoch 17/100\n",
      "7632/7632 [==============================] - 34s - loss: 0.6440 - val_loss: 0.6464\n",
      "Epoch 18/100\n",
      "7632/7632 [==============================] - 36s - loss: 0.6440 - val_loss: 0.6463\n",
      "Epoch 19/100\n",
      "7632/7632 [==============================] - 40s - loss: 0.6439 - val_loss: 0.6464\n",
      "Epoch 20/100\n",
      "7632/7632 [==============================] - 38s - loss: 0.6439 - val_loss: 0.6463\n",
      "Epoch 21/100\n",
      "7632/7632 [==============================] - 36s - loss: 0.6439 - val_loss: 0.6464\n",
      "Epoch 22/100\n",
      "7632/7632 [==============================] - 38s - loss: 0.6439 - val_loss: 0.6463\n",
      "Epoch 23/100\n",
      "7632/7632 [==============================] - 37s - loss: 0.6439 - val_loss: 0.6462\n",
      "Epoch 24/100\n",
      "7632/7632 [==============================] - 37s - loss: 0.6438 - val_loss: 0.6462\n",
      "Epoch 25/100\n",
      "7632/7632 [==============================] - 35s - loss: 0.6439 - val_loss: 0.6462\n",
      "Epoch 26/100\n",
      "7632/7632 [==============================] - 36s - loss: 0.6438 - val_loss: 0.6462\n",
      "Epoch 27/100\n",
      "7632/7632 [==============================] - 40s - loss: 0.6438 - val_loss: 0.6462\n",
      "Epoch 28/100\n",
      "7632/7632 [==============================] - 40s - loss: 0.6438 - val_loss: 0.6461\n",
      "Epoch 29/100\n",
      "7632/7632 [==============================] - 40s - loss: 0.6438 - val_loss: 0.6461\n",
      "Epoch 30/100\n",
      "7632/7632 [==============================] - 38s - loss: 0.6437 - val_loss: 0.6461\n",
      "Epoch 31/100\n",
      "7632/7632 [==============================] - 41s - loss: 0.6437 - val_loss: 0.6461\n",
      "Epoch 32/100\n",
      "7632/7632 [==============================] - 38s - loss: 0.6437 - val_loss: 0.6461\n",
      "Epoch 33/100\n",
      "7632/7632 [==============================] - 34s - loss: 0.6437 - val_loss: 0.6461\n",
      "Epoch 34/100\n",
      "7632/7632 [==============================] - 37s - loss: 0.6437 - val_loss: 0.6460\n",
      "Epoch 35/100\n",
      "7632/7632 [==============================] - 36s - loss: 0.6437 - val_loss: 0.6460\n",
      "Epoch 36/100\n",
      "7632/7632 [==============================] - 38s - loss: 0.6436 - val_loss: 0.6461\n",
      "Epoch 37/100\n",
      "7632/7632 [==============================] - 39s - loss: 0.6437 - val_loss: 0.6460\n",
      "Epoch 38/100\n",
      "7632/7632 [==============================] - 39s - loss: 0.6436 - val_loss: 0.6460\n",
      "Epoch 39/100\n",
      "7632/7632 [==============================] - 39s - loss: 0.6436 - val_loss: 0.6460\n",
      "Epoch 40/100\n",
      "7632/7632 [==============================] - 36s - loss: 0.6436 - val_loss: 0.6460\n",
      "Epoch 41/100\n",
      "7632/7632 [==============================] - 34s - loss: 0.6436 - val_loss: 0.6460\n",
      "Epoch 42/100\n",
      "7632/7632 [==============================] - 34s - loss: 0.6436 - val_loss: 0.6460\n",
      "Epoch 43/100\n",
      "7632/7632 [==============================] - 34s - loss: 0.6436 - val_loss: 0.6459\n",
      "Epoch 44/100\n",
      "7632/7632 [==============================] - 34s - loss: 0.6436 - val_loss: 0.6459\n",
      "Epoch 45/100\n",
      "7632/7632 [==============================] - 34s - loss: 0.6436 - val_loss: 0.6459\n",
      "Epoch 46/100\n",
      "7632/7632 [==============================] - 34s - loss: 0.6435 - val_loss: 0.6459\n",
      "Epoch 47/100\n",
      "7632/7632 [==============================] - 34s - loss: 0.6436 - val_loss: 0.6460\n",
      "Epoch 48/100\n",
      "7632/7632 [==============================] - 34s - loss: 0.6435 - val_loss: 0.6459\n",
      "Epoch 49/100\n",
      "7632/7632 [==============================] - 34s - loss: 0.6435 - val_loss: 0.6459\n",
      "Epoch 50/100\n",
      "7632/7632 [==============================] - 34s - loss: 0.6435 - val_loss: 0.6459\n",
      "Epoch 51/100\n",
      "7632/7632 [==============================] - 34s - loss: 0.6435 - val_loss: 0.6461\n",
      "Epoch 52/100\n",
      "7632/7632 [==============================] - 34s - loss: 0.6435 - val_loss: 0.6458\n",
      "Epoch 53/100\n",
      "7632/7632 [==============================] - 34s - loss: 0.6435 - val_loss: 0.6459\n",
      "Epoch 54/100\n",
      "7632/7632 [==============================] - 34s - loss: 0.6435 - val_loss: 0.6459\n",
      "Epoch 55/100\n",
      "7632/7632 [==============================] - 34s - loss: 0.6435 - val_loss: 0.6458\n",
      "Epoch 56/100\n",
      "7632/7632 [==============================] - 34s - loss: 0.6434 - val_loss: 0.6458\n",
      "Epoch 57/100\n",
      "7632/7632 [==============================] - 34s - loss: 0.6434 - val_loss: 0.6458\n",
      "Epoch 58/100\n",
      "7632/7632 [==============================] - 34s - loss: 0.6434 - val_loss: 0.6458\n",
      "Epoch 59/100\n",
      "7632/7632 [==============================] - 34s - loss: 0.6434 - val_loss: 0.6458\n",
      "Epoch 60/100\n",
      "7632/7632 [==============================] - 38s - loss: 0.6434 - val_loss: 0.6458\n",
      "Epoch 61/100\n",
      "7632/7632 [==============================] - 39s - loss: 0.6434 - val_loss: 0.6458\n",
      "Epoch 62/100\n",
      "7632/7632 [==============================] - 38s - loss: 0.6434 - val_loss: 0.6458\n",
      "Epoch 63/100\n",
      "7632/7632 [==============================] - 40s - loss: 0.6434 - val_loss: 0.6458\n",
      "Epoch 64/100\n",
      "7632/7632 [==============================] - 38s - loss: 0.6434 - val_loss: 0.6457\n",
      "Epoch 65/100\n",
      "7632/7632 [==============================] - 41s - loss: 0.6434 - val_loss: 0.6458\n",
      "Epoch 66/100\n",
      "7632/7632 [==============================] - 39s - loss: 0.6434 - val_loss: 0.6457\n",
      "Epoch 67/100\n",
      "7632/7632 [==============================] - 36s - loss: 0.6434 - val_loss: 0.6457\n",
      "Epoch 68/100\n",
      "7632/7632 [==============================] - 37s - loss: 0.6433 - val_loss: 0.6457\n",
      "Epoch 69/100\n",
      "7632/7632 [==============================] - 36s - loss: 0.6434 - val_loss: 0.6458\n",
      "Epoch 70/100\n",
      "7632/7632 [==============================] - 38s - loss: 0.6434 - val_loss: 0.6457\n",
      "Epoch 71/100\n",
      "7632/7632 [==============================] - 41s - loss: 0.6433 - val_loss: 0.6458\n",
      "Epoch 72/100\n",
      "7632/7632 [==============================] - 39s - loss: 0.6433 - val_loss: 0.6457\n",
      "Epoch 73/100\n",
      "7632/7632 [==============================] - 36s - loss: 0.6433 - val_loss: 0.6459\n",
      "Epoch 74/100\n",
      "7632/7632 [==============================] - 36s - loss: 0.6433 - val_loss: 0.6457\n",
      "Epoch 75/100\n",
      "7632/7632 [==============================] - 36s - loss: 0.6433 - val_loss: 0.6457\n",
      "Epoch 76/100\n",
      "7632/7632 [==============================] - 38s - loss: 0.6433 - val_loss: 0.6457\n",
      "Epoch 77/100\n",
      "7632/7632 [==============================] - 38s - loss: 0.6433 - val_loss: 0.6456\n",
      "Epoch 78/100\n",
      "7632/7632 [==============================] - 38s - loss: 0.6433 - val_loss: 0.6457\n",
      "Epoch 79/100\n",
      "7632/7632 [==============================] - 41s - loss: 0.6433 - val_loss: 0.6457\n",
      "Epoch 80/100\n",
      "7632/7632 [==============================] - 42s - loss: 0.6433 - val_loss: 0.6456\n",
      "Epoch 81/100\n",
      "7632/7632 [==============================] - 45s - loss: 0.6433 - val_loss: 0.6456\n",
      "Epoch 82/100\n",
      "7632/7632 [==============================] - 39s - loss: 0.6433 - val_loss: 0.6456\n",
      "Epoch 83/100\n",
      "7632/7632 [==============================] - 46s - loss: 0.6433 - val_loss: 0.6456\n",
      "Epoch 84/100\n",
      "7632/7632 [==============================] - 50s - loss: 0.6432 - val_loss: 0.6456\n",
      "Epoch 85/100\n"
     ]
    },
    {
     "name": "stdout",
     "output_type": "stream",
     "text": [
      "7632/7632 [==============================] - 40s - loss: 0.6433 - val_loss: 0.6456\n",
      "Epoch 86/100\n",
      "7632/7632 [==============================] - 45s - loss: 0.6432 - val_loss: 0.6456\n",
      "Epoch 87/100\n",
      "7632/7632 [==============================] - 37s - loss: 0.6432 - val_loss: 0.6456\n",
      "Epoch 88/100\n",
      "7632/7632 [==============================] - 43s - loss: 0.6432 - val_loss: 0.6456\n",
      "Epoch 89/100\n",
      "7632/7632 [==============================] - 44s - loss: 0.6432 - val_loss: 0.6456\n",
      "Epoch 90/100\n",
      "7632/7632 [==============================] - 42s - loss: 0.6432 - val_loss: 0.6456\n",
      "Epoch 91/100\n",
      "7632/7632 [==============================] - 39s - loss: 0.6432 - val_loss: 0.6456\n",
      "Epoch 92/100\n",
      "7632/7632 [==============================] - 39s - loss: 0.6432 - val_loss: 0.6456\n",
      "Epoch 93/100\n",
      "7632/7632 [==============================] - 36s - loss: 0.6432 - val_loss: 0.6455\n",
      "Epoch 94/100\n",
      "7632/7632 [==============================] - 38s - loss: 0.6432 - val_loss: 0.6456\n",
      "Epoch 95/100\n",
      "7632/7632 [==============================] - 42s - loss: 0.6432 - val_loss: 0.6455\n",
      "Epoch 96/100\n",
      "7632/7632 [==============================] - 41s - loss: 0.6432 - val_loss: 0.6455\n",
      "Epoch 97/100\n",
      "7632/7632 [==============================] - 44s - loss: 0.6432 - val_loss: 0.6455\n",
      "Epoch 98/100\n",
      "7632/7632 [==============================] - 51s - loss: 0.6432 - val_loss: 0.6455\n",
      "Epoch 99/100\n",
      "7632/7632 [==============================] - 56s - loss: 0.6432 - val_loss: 0.6456\n",
      "Epoch 100/100\n",
      "7632/7632 [==============================] - 45s - loss: 0.6432 - val_loss: 0.6455\n"
     ]
    }
   ],
   "source": [
    "# Train autoencoder\n",
    "autoencoder_history = autoencoder.fit(x_train, x_train, \n",
    "                                      epochs=100, batch_size=64, \n",
    "                                      validation_data=(x_valid, x_valid))"
   ]
  },
  {
   "cell_type": "code",
   "execution_count": 198,
   "metadata": {
    "collapsed": true
   },
   "outputs": [],
   "source": [
    "hide_code\n",
    "# Create decoded images\n",
    "x_test_decoded = autoencoder.predict(x_test)"
   ]
  },
  {
   "cell_type": "code",
   "execution_count": 199,
   "metadata": {},
   "outputs": [
    {
     "data": {
      "image/png": "[encoded data removed]",
      "text/plain": [
       "<matplotlib.figure.Figure at 0x112d32b38>"
      ]
     },
     "metadata": {},
     "output_type": "display_data"
    }
   ],
   "source": [
    "hide_code\n",
    "fig, ax = plt.subplots(figsize=(18, 3), nrows=1, ncols=5, sharex=True, sharey=True,)\n",
    "ax = ax.flatten()\n",
    "for i in range(5):\n",
    "    image = x_test[i*100].reshape(32,32)\n",
    "    ax[i].imshow(image, cmap=cm.bone)\n",
    "\n",
    "ax[0].set_xticks([])\n",
    "ax[0].set_yticks([])\n",
    "plt.tight_layout()\n",
    "plt.gcf()\n",
    "ax[2].set_title('Examples of letters', fontsize=25);"
   ]
  },
  {
   "cell_type": "code",
   "execution_count": 200,
   "metadata": {},
   "outputs": [
    {
     "data": {
      "image/png": "[encoded data removed]",
      "text/plain": [
       "<matplotlib.figure.Figure at 0x11c0de198>"
      ]
     },
     "metadata": {},
     "output_type": "display_data"
    }
   ],
   "source": [
    "hide_code\n",
    "fig, ax = plt.subplots(figsize=(18, 3), nrows=1, ncols=5, sharex=True, sharey=True,)\n",
    "ax = ax.flatten()\n",
    "for i in range(5):\n",
    "    image = x_test_decoded[i*100].reshape(32,32)\n",
    "    ax[i].imshow(image, cmap=cm.bone)\n",
    "\n",
    "ax[0].set_xticks([])\n",
    "ax[0].set_yticks([])\n",
    "plt.tight_layout()\n",
    "plt.gcf()\n",
    "ax[2].set_title('Examples of cleaned letters. Keras', fontsize=25);"
   ]
  }
 ],
 "metadata": {
  "kernelspec": {
   "display_name": "Python 3",
   "language": "python",
   "name": "python3"
  },
  "language_info": {
   "codemirror_mode": {
    "name": "ipython",
    "version": 3
   },
   "file_extension": ".py",
   "mimetype": "text/x-python",
   "name": "python",
   "nbconvert_exporter": "python",
   "pygments_lexer": "ipython3",
   "version": "3.6.1"
  }
 },
 "nbformat": 4,
 "nbformat_minor": 2
}
